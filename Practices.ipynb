{
  "nbformat": 4,
  "nbformat_minor": 0,
  "metadata": {
    "colab": {
      "name": "Practices.ipynb",
      "provenance": [],
      "collapsed_sections": [
        "64aTL98R-WV0",
        "6KfTMaVtGZBu",
        "uTptR2RvF1Jv",
        "OKnx4Wdk3T6v"
      ],
      "authorship_tag": "ABX9TyMhYRqXArhirmrIVb60QAer",
      "include_colab_link": true
    },
    "kernelspec": {
      "name": "python3",
      "display_name": "Python 3"
    },
    "language_info": {
      "name": "python"
    }
  },
  "cells": [
    {
      "cell_type": "markdown",
      "metadata": {
        "id": "view-in-github",
        "colab_type": "text"
      },
      "source": [
        "<a href=\"https://colab.research.google.com/github/Heymdale/Python-practices/blob/main/Practices.ipynb\" target=\"_parent\"><img src=\"https://colab.research.google.com/assets/colab-badge.svg\" alt=\"Open In Colab\"/></a>"
      ]
    },
    {
      "cell_type": "markdown",
      "source": [
        "# Практика 1. Черепаха.\n"
      ],
      "metadata": {
        "id": "64aTL98R-WV0"
      }
    },
    {
      "cell_type": "markdown",
      "source": [
        "Пробуем выполнять команды."
      ],
      "metadata": {
        "id": "FELIPoJQ-ax8"
      }
    },
    {
      "cell_type": "code",
      "source": [
        "print(2 + 2)\n",
        "print(2 ** 100)\n",
        "print('Hello' + 'World')\n",
        "print('ABC' * 10)"
      ],
      "metadata": {
        "colab": {
          "base_uri": "https://localhost:8080/"
        },
        "id": "pIbtVdk8_BLV",
        "outputId": "aa42ab41-fe8d-4671-bfef-b498b49eb687"
      },
      "execution_count": null,
      "outputs": [
        {
          "output_type": "stream",
          "name": "stdout",
          "text": [
            "4\n",
            "1267650600228229401496703205376\n",
            "HelloWorld\n",
            "ABCABCABCABCABCABCABCABCABCABC\n"
          ]
        }
      ]
    },
    {
      "cell_type": "markdown",
      "source": [
        "Собсвенно повторяем то, что проходил и выполняли, записывая первые лекции, отметим несколько хоть немного интересных моментов.\n",
        "\n",
        "Можно задавать начальные и конечные значения для переменной цикла, а также шаг:\n",
        "\n",
        "```\n",
        "for i in range(20, 10, -2):\n",
        "  print(i)\n",
        "```\n",
        "Аналогичный цикл while\n",
        "```\n",
        "i = 20\n",
        "while i > 10:\n",
        "  print(i)\n",
        "  i -= 2\n",
        "```\n",
        "Каскадные условные конструкции.\n",
        "```\n",
        "x = int(input())\n",
        "y = int(input())\n",
        "if x > 0 and y > 0:\n",
        "    print(\"Первая четверть\")\n",
        "elif x > 0 and y < 0:\n",
        "    print(\"Четвертая четверть\")\n",
        "elif y > 0:\n",
        "    print(\"Вторая четверть\")\n",
        "else:\n",
        "    print(\"Третья четверть\")\n",
        "```\n",
        "В питоне есть модуль turtle, у меня в средней школе программа называлась logowriter)\n",
        "\n",
        "Команда\tЗначение\n",
        "\n",
        "forward(X)\tПройти вперёд X пикселей\n",
        "\n",
        "backward(X)\tПройти назад X пикселей\n",
        "\n",
        "left(X)\tПовернуться налево на X градусов\n",
        "\n",
        "right(X)\tПовернуться направо на X градусов\n",
        "\n",
        "penup()\tНе оставлять след при движении\n",
        "\n",
        "pendown()\tОставлять след при движении\n",
        "\n",
        "shape(X)\tИзменить значок черепахи (“arrow”, “turtle”, “circle”, “square”, “triangle”, “classic”)\n",
        "\n",
        "stamp()\tНарисовать копию черепахи в текущем месте\n",
        "\n",
        "color()\tУстановить цвет\n",
        "\n",
        "begin_fill()\tНеобходимо вызвать перед рисованием фигуры, которую надо закрасить\n",
        "\n",
        "end_fill()\tВызвать после окончания рисования фигуры\n",
        "\n",
        "width()\tУстановить толщину линии\n",
        "\n",
        "goto(x, y)\tПереместить черепашку в точку (x, y)\n",
        "\n",
        "\n",
        "В Google Colab по-умолчанию нет черепашки, мы должны её установить и инициализировать, ну и импортировать само собой.\n",
        "!pip3 install ColabTurtle\n",
        "import ColabTurtle.Turtle as turtle\n",
        "turtle.initializeTurtle()\n",
        "\n",
        "\n",
        "Со скоростью в любом случае есть проблемы, решения нашёл только для старой нативной черепашки."
      ],
      "metadata": {
        "id": "JD6FdbBKA0Ru"
      }
    },
    {
      "cell_type": "code",
      "source": [
        "!pip3 install ColabTurtle\n",
        "import ColabTurtle.Turtle as turtle\n",
        "\n",
        "\n",
        "turtle.initializeTurtle()\n",
        "turtle.shape('turtle')\n",
        "turtle.forward(50)\n",
        "turtle.left(90)\n",
        "turtle.forward(50)\n",
        "turtle.left(90)\n",
        "turtle.forward(50)\n",
        "turtle.right(90)\n",
        "turtle.forward(50)\n",
        "turtle.right(90)\n",
        "turtle.forward(50)"
      ],
      "metadata": {
        "colab": {
          "base_uri": "https://localhost:8080/",
          "height": 678
        },
        "id": "pSTSICzrCWX1",
        "outputId": "888126aa-bbbf-48f9-c5e0-e9de54746785"
      },
      "execution_count": null,
      "outputs": [
        {
          "output_type": "stream",
          "name": "stdout",
          "text": [
            "Collecting ColabTurtle\n",
            "  Downloading ColabTurtle-2.1.0.tar.gz (6.8 kB)\n",
            "Building wheels for collected packages: ColabTurtle\n",
            "  Building wheel for ColabTurtle (setup.py) ... \u001b[?25l\u001b[?25hdone\n",
            "  Created wheel for ColabTurtle: filename=ColabTurtle-2.1.0-py3-none-any.whl size=7655 sha256=021d5a36aed654eb2bdd67c0f4278a9386f5794c3ce03e27af9d59fc802f5ff7\n",
            "  Stored in directory: /root/.cache/pip/wheels/0d/ab/65/cc4478508751448dfb4ecb20a6533082855c227dfce8c13902\n",
            "Successfully built ColabTurtle\n",
            "Installing collected packages: ColabTurtle\n",
            "Successfully installed ColabTurtle-2.1.0\n"
          ]
        },
        {
          "output_type": "display_data",
          "data": {
            "text/html": [
              "\n",
              "      <svg width=\"800\" height=\"500\">\n",
              "        <rect width=\"100%\" height=\"100%\" fill=\"black\"/>\n",
              "        <line x1=\"400\" y1=\"250\" x2=\"400.0\" y2=\"200.0\" stroke-linecap=\"round\" style=\"stroke:white;stroke-width:4\"/><line x1=\"400.0\" y1=\"200.0\" x2=\"350.0\" y2=\"200.0\" stroke-linecap=\"round\" style=\"stroke:white;stroke-width:4\"/><line x1=\"350.0\" y1=\"200.0\" x2=\"350.0\" y2=\"250.0\" stroke-linecap=\"round\" style=\"stroke:white;stroke-width:4\"/><line x1=\"350.0\" y1=\"250.0\" x2=\"300.0\" y2=\"250.0\" stroke-linecap=\"round\" style=\"stroke:white;stroke-width:4\"/><line x1=\"300.0\" y1=\"250.0\" x2=\"300.0\" y2=\"200.0\" stroke-linecap=\"round\" style=\"stroke:white;stroke-width:4\"/>\n",
              "        <g visibility=visible transform=\"rotate(360,300.0,200.0) translate(282.0, 182.0)\">\n",
              "<path style=\" stroke:none;fill-rule:evenodd;fill:white;fill-opacity:1;\" d=\"M 18.214844 0.632812 C 16.109375 1.800781 15.011719 4.074219 15.074219 7.132812 L 15.085938 7.652344 L 14.785156 7.496094 C 13.476562 6.824219 11.957031 6.671875 10.40625 7.066406 C 8.46875 7.550781 6.515625 9.15625 4.394531 11.992188 C 3.0625 13.777344 2.679688 14.636719 3.042969 15.027344 L 3.15625 15.152344 L 3.519531 15.152344 C 4.238281 15.152344 4.828125 14.886719 8.1875 13.039062 C 9.386719 12.378906 10.371094 11.839844 10.378906 11.839844 C 10.386719 11.839844 10.355469 11.929688 10.304688 12.035156 C 9.832031 13.09375 9.257812 14.820312 8.96875 16.078125 C 7.914062 20.652344 8.617188 24.53125 11.070312 27.660156 C 11.351562 28.015625 11.363281 27.914062 10.972656 28.382812 C 8.925781 30.84375 7.945312 33.28125 8.238281 35.1875 C 8.289062 35.527344 8.28125 35.523438 8.917969 35.523438 C 10.941406 35.523438 13.074219 34.207031 15.136719 31.6875 C 15.359375 31.417969 15.328125 31.425781 15.5625 31.574219 C 16.292969 32.042969 18.023438 32.964844 18.175781 32.964844 C 18.335938 32.964844 19.941406 32.210938 20.828125 31.71875 C 20.996094 31.625 21.136719 31.554688 21.136719 31.558594 C 21.203125 31.664062 21.898438 32.414062 22.222656 32.730469 C 23.835938 34.300781 25.5625 35.132812 27.582031 35.300781 C 27.90625 35.328125 27.9375 35.308594 28.007812 34.984375 C 28.382812 33.242188 27.625 30.925781 25.863281 28.425781 L 25.542969 27.96875 L 25.699219 27.785156 C 28.945312 23.960938 29.132812 18.699219 26.257812 11.96875 L 26.207031 11.84375 L 27.945312 12.703125 C 31.53125 14.476562 32.316406 14.800781 33.03125 14.800781 C 33.976562 14.800781 33.78125 13.9375 32.472656 12.292969 C 28.519531 7.355469 25.394531 5.925781 21.921875 7.472656 L 21.558594 7.636719 L 21.578125 7.542969 C 21.699219 6.992188 21.761719 5.742188 21.699219 5.164062 C 21.496094 3.296875 20.664062 1.964844 19.003906 0.855469 C 18.480469 0.503906 18.457031 0.5 18.214844 0.632812\"/>\n",
              "</g>\n",
              "      </svg>\n",
              "    "
            ],
            "text/plain": [
              "<IPython.core.display.HTML object>"
            ]
          },
          "metadata": {}
        }
      ]
    },
    {
      "cell_type": "markdown",
      "source": [
        "Упражнение 3. Квадрат."
      ],
      "metadata": {
        "id": "ggo3oD3eGdYO"
      }
    },
    {
      "cell_type": "code",
      "source": [
        "from ColabTurtle.Turtle import *\n",
        "\n",
        "\n",
        "initializeTurtle()\n",
        "penup()\n",
        "goto(450, 300)\n",
        "pendown()\n",
        "forward(100)\n",
        "left(90)\n",
        "forward(100)\n",
        "left(90)\n",
        "forward(100)\n",
        "left(90)\n",
        "forward(100)"
      ],
      "metadata": {
        "id": "4o11h2DDGimM",
        "colab": {
          "base_uri": "https://localhost:8080/",
          "height": 521
        },
        "outputId": "43b1eb7d-7ce2-4531-9362-f79c1831d273"
      },
      "execution_count": null,
      "outputs": [
        {
          "output_type": "display_data",
          "data": {
            "text/html": [
              "\n",
              "      <svg width=\"800\" height=\"500\">\n",
              "        <rect width=\"100%\" height=\"100%\" fill=\"black\"/>\n",
              "        <line x1=\"450\" y1=\"300\" x2=\"450.0\" y2=\"200.0\" stroke-linecap=\"round\" style=\"stroke:white;stroke-width:4\"/><line x1=\"450.0\" y1=\"200.0\" x2=\"350.0\" y2=\"200.0\" stroke-linecap=\"round\" style=\"stroke:white;stroke-width:4\"/><line x1=\"350.0\" y1=\"200.0\" x2=\"350.0\" y2=\"300.0\" stroke-linecap=\"round\" style=\"stroke:white;stroke-width:4\"/><line x1=\"350.0\" y1=\"300.0\" x2=\"450.0\" y2=\"300.0\" stroke-linecap=\"round\" style=\"stroke:white;stroke-width:4\"/>\n",
              "        <g visibility=visible transform=\"rotate(90,450.0,300.0) translate(432.0, 282.0)\">\n",
              "<path style=\" stroke:none;fill-rule:evenodd;fill:white;fill-opacity:1;\" d=\"M 18.214844 0.632812 C 16.109375 1.800781 15.011719 4.074219 15.074219 7.132812 L 15.085938 7.652344 L 14.785156 7.496094 C 13.476562 6.824219 11.957031 6.671875 10.40625 7.066406 C 8.46875 7.550781 6.515625 9.15625 4.394531 11.992188 C 3.0625 13.777344 2.679688 14.636719 3.042969 15.027344 L 3.15625 15.152344 L 3.519531 15.152344 C 4.238281 15.152344 4.828125 14.886719 8.1875 13.039062 C 9.386719 12.378906 10.371094 11.839844 10.378906 11.839844 C 10.386719 11.839844 10.355469 11.929688 10.304688 12.035156 C 9.832031 13.09375 9.257812 14.820312 8.96875 16.078125 C 7.914062 20.652344 8.617188 24.53125 11.070312 27.660156 C 11.351562 28.015625 11.363281 27.914062 10.972656 28.382812 C 8.925781 30.84375 7.945312 33.28125 8.238281 35.1875 C 8.289062 35.527344 8.28125 35.523438 8.917969 35.523438 C 10.941406 35.523438 13.074219 34.207031 15.136719 31.6875 C 15.359375 31.417969 15.328125 31.425781 15.5625 31.574219 C 16.292969 32.042969 18.023438 32.964844 18.175781 32.964844 C 18.335938 32.964844 19.941406 32.210938 20.828125 31.71875 C 20.996094 31.625 21.136719 31.554688 21.136719 31.558594 C 21.203125 31.664062 21.898438 32.414062 22.222656 32.730469 C 23.835938 34.300781 25.5625 35.132812 27.582031 35.300781 C 27.90625 35.328125 27.9375 35.308594 28.007812 34.984375 C 28.382812 33.242188 27.625 30.925781 25.863281 28.425781 L 25.542969 27.96875 L 25.699219 27.785156 C 28.945312 23.960938 29.132812 18.699219 26.257812 11.96875 L 26.207031 11.84375 L 27.945312 12.703125 C 31.53125 14.476562 32.316406 14.800781 33.03125 14.800781 C 33.976562 14.800781 33.78125 13.9375 32.472656 12.292969 C 28.519531 7.355469 25.394531 5.925781 21.921875 7.472656 L 21.558594 7.636719 L 21.578125 7.542969 C 21.699219 6.992188 21.761719 5.742188 21.699219 5.164062 C 21.496094 3.296875 20.664062 1.964844 19.003906 0.855469 C 18.480469 0.503906 18.457031 0.5 18.214844 0.632812\"/>\n",
              "</g>\n",
              "      </svg>\n",
              "    "
            ],
            "text/plain": [
              "<IPython.core.display.HTML object>"
            ]
          },
          "metadata": {}
        }
      ]
    },
    {
      "cell_type": "markdown",
      "source": [
        "Упражнение 4. Круг."
      ],
      "metadata": {
        "id": "kpA58NVhJZUO"
      }
    },
    {
      "cell_type": "code",
      "source": [
        "from ColabTurtle.Turtle import *\n",
        "\n",
        "\n",
        "initializeTurtle()\n",
        "\n",
        "\n",
        "def polygon(number_of_lines, length_of_lines, is_left=True):\n",
        "  for i in range(number_of_lines):\n",
        "    forward(length_of_lines)\n",
        "    if is_left:\n",
        "      left(360/number_of_lines)\n",
        "    else:\n",
        "      right(360/number_of_lines)\n",
        "\n",
        "speed()\n",
        "penup()\n",
        "goto(450, 300)\n",
        "pendown()\n",
        "polygon(36,10)\n",
        "\n"
      ],
      "metadata": {
        "id": "AdnYjHDyJfel",
        "colab": {
          "base_uri": "https://localhost:8080/",
          "height": 521
        },
        "outputId": "adf5327a-44da-44f7-c6bf-2dec322d2241"
      },
      "execution_count": null,
      "outputs": [
        {
          "output_type": "display_data",
          "data": {
            "text/html": [
              "\n",
              "      <svg width=\"800\" height=\"500\">\n",
              "        <rect width=\"100%\" height=\"100%\" fill=\"black\"/>\n",
              "        <line x1=\"450\" y1=\"300\" x2=\"450.0\" y2=\"290.0\" stroke-linecap=\"round\" style=\"stroke:white;stroke-width:4\"/><line x1=\"450.0\" y1=\"290.0\" x2=\"448.264\" y2=\"280.152\" stroke-linecap=\"round\" style=\"stroke:white;stroke-width:4\"/><line x1=\"448.264\" y1=\"280.152\" x2=\"444.844\" y2=\"270.755\" stroke-linecap=\"round\" style=\"stroke:white;stroke-width:4\"/><line x1=\"444.844\" y1=\"270.755\" x2=\"439.844\" y2=\"262.095\" stroke-linecap=\"round\" style=\"stroke:white;stroke-width:4\"/><line x1=\"439.844\" y1=\"262.095\" x2=\"433.416\" y2=\"254.435\" stroke-linecap=\"round\" style=\"stroke:white;stroke-width:4\"/><line x1=\"433.416\" y1=\"254.435\" x2=\"425.756\" y2=\"248.007\" stroke-linecap=\"round\" style=\"stroke:white;stroke-width:4\"/><line x1=\"425.756\" y1=\"248.007\" x2=\"417.096\" y2=\"243.007\" stroke-linecap=\"round\" style=\"stroke:white;stroke-width:4\"/><line x1=\"417.096\" y1=\"243.007\" x2=\"407.699\" y2=\"239.587\" stroke-linecap=\"round\" style=\"stroke:white;stroke-width:4\"/><line x1=\"407.699\" y1=\"239.587\" x2=\"397.851\" y2=\"237.851\" stroke-linecap=\"round\" style=\"stroke:white;stroke-width:4\"/><line x1=\"397.851\" y1=\"237.851\" x2=\"387.851\" y2=\"237.851\" stroke-linecap=\"round\" style=\"stroke:white;stroke-width:4\"/><line x1=\"387.851\" y1=\"237.851\" x2=\"378.003\" y2=\"239.587\" stroke-linecap=\"round\" style=\"stroke:white;stroke-width:4\"/><line x1=\"378.003\" y1=\"239.587\" x2=\"368.606\" y2=\"243.007\" stroke-linecap=\"round\" style=\"stroke:white;stroke-width:4\"/><line x1=\"368.606\" y1=\"243.007\" x2=\"359.946\" y2=\"248.007\" stroke-linecap=\"round\" style=\"stroke:white;stroke-width:4\"/><line x1=\"359.946\" y1=\"248.007\" x2=\"352.286\" y2=\"254.435\" stroke-linecap=\"round\" style=\"stroke:white;stroke-width:4\"/><line x1=\"352.286\" y1=\"254.435\" x2=\"345.858\" y2=\"262.095\" stroke-linecap=\"round\" style=\"stroke:white;stroke-width:4\"/><line x1=\"345.858\" y1=\"262.095\" x2=\"340.858\" y2=\"270.755\" stroke-linecap=\"round\" style=\"stroke:white;stroke-width:4\"/><line x1=\"340.858\" y1=\"270.755\" x2=\"337.438\" y2=\"280.152\" stroke-linecap=\"round\" style=\"stroke:white;stroke-width:4\"/><line x1=\"337.438\" y1=\"280.152\" x2=\"335.702\" y2=\"290.0\" stroke-linecap=\"round\" style=\"stroke:white;stroke-width:4\"/><line x1=\"335.702\" y1=\"290.0\" x2=\"335.702\" y2=\"300.0\" stroke-linecap=\"round\" style=\"stroke:white;stroke-width:4\"/><line x1=\"335.702\" y1=\"300.0\" x2=\"337.438\" y2=\"309.848\" stroke-linecap=\"round\" style=\"stroke:white;stroke-width:4\"/><line x1=\"337.438\" y1=\"309.848\" x2=\"340.858\" y2=\"319.245\" stroke-linecap=\"round\" style=\"stroke:white;stroke-width:4\"/><line x1=\"340.858\" y1=\"319.245\" x2=\"345.858\" y2=\"327.905\" stroke-linecap=\"round\" style=\"stroke:white;stroke-width:4\"/><line x1=\"345.858\" y1=\"327.905\" x2=\"352.286\" y2=\"335.565\" stroke-linecap=\"round\" style=\"stroke:white;stroke-width:4\"/><line x1=\"352.286\" y1=\"335.565\" x2=\"359.946\" y2=\"341.993\" stroke-linecap=\"round\" style=\"stroke:white;stroke-width:4\"/><line x1=\"359.946\" y1=\"341.993\" x2=\"368.606\" y2=\"346.993\" stroke-linecap=\"round\" style=\"stroke:white;stroke-width:4\"/><line x1=\"368.606\" y1=\"346.993\" x2=\"378.003\" y2=\"350.413\" stroke-linecap=\"round\" style=\"stroke:white;stroke-width:4\"/><line x1=\"378.003\" y1=\"350.413\" x2=\"387.851\" y2=\"352.149\" stroke-linecap=\"round\" style=\"stroke:white;stroke-width:4\"/><line x1=\"387.851\" y1=\"352.149\" x2=\"397.851\" y2=\"352.149\" stroke-linecap=\"round\" style=\"stroke:white;stroke-width:4\"/><line x1=\"397.851\" y1=\"352.149\" x2=\"407.699\" y2=\"350.413\" stroke-linecap=\"round\" style=\"stroke:white;stroke-width:4\"/><line x1=\"407.699\" y1=\"350.413\" x2=\"417.096\" y2=\"346.993\" stroke-linecap=\"round\" style=\"stroke:white;stroke-width:4\"/><line x1=\"417.096\" y1=\"346.993\" x2=\"425.756\" y2=\"341.993\" stroke-linecap=\"round\" style=\"stroke:white;stroke-width:4\"/><line x1=\"425.756\" y1=\"341.993\" x2=\"433.416\" y2=\"335.565\" stroke-linecap=\"round\" style=\"stroke:white;stroke-width:4\"/><line x1=\"433.416\" y1=\"335.565\" x2=\"439.844\" y2=\"327.905\" stroke-linecap=\"round\" style=\"stroke:white;stroke-width:4\"/><line x1=\"439.844\" y1=\"327.905\" x2=\"444.844\" y2=\"319.245\" stroke-linecap=\"round\" style=\"stroke:white;stroke-width:4\"/><line x1=\"444.844\" y1=\"319.245\" x2=\"448.264\" y2=\"309.848\" stroke-linecap=\"round\" style=\"stroke:white;stroke-width:4\"/><line x1=\"448.264\" y1=\"309.848\" x2=\"450.0\" y2=\"300.0\" stroke-linecap=\"round\" style=\"stroke:white;stroke-width:4\"/>\n",
              "        <g visibility=visible transform=\"rotate(360.0,450.0,300.0) translate(432.0, 282.0)\">\n",
              "<path style=\" stroke:none;fill-rule:evenodd;fill:white;fill-opacity:1;\" d=\"M 18.214844 0.632812 C 16.109375 1.800781 15.011719 4.074219 15.074219 7.132812 L 15.085938 7.652344 L 14.785156 7.496094 C 13.476562 6.824219 11.957031 6.671875 10.40625 7.066406 C 8.46875 7.550781 6.515625 9.15625 4.394531 11.992188 C 3.0625 13.777344 2.679688 14.636719 3.042969 15.027344 L 3.15625 15.152344 L 3.519531 15.152344 C 4.238281 15.152344 4.828125 14.886719 8.1875 13.039062 C 9.386719 12.378906 10.371094 11.839844 10.378906 11.839844 C 10.386719 11.839844 10.355469 11.929688 10.304688 12.035156 C 9.832031 13.09375 9.257812 14.820312 8.96875 16.078125 C 7.914062 20.652344 8.617188 24.53125 11.070312 27.660156 C 11.351562 28.015625 11.363281 27.914062 10.972656 28.382812 C 8.925781 30.84375 7.945312 33.28125 8.238281 35.1875 C 8.289062 35.527344 8.28125 35.523438 8.917969 35.523438 C 10.941406 35.523438 13.074219 34.207031 15.136719 31.6875 C 15.359375 31.417969 15.328125 31.425781 15.5625 31.574219 C 16.292969 32.042969 18.023438 32.964844 18.175781 32.964844 C 18.335938 32.964844 19.941406 32.210938 20.828125 31.71875 C 20.996094 31.625 21.136719 31.554688 21.136719 31.558594 C 21.203125 31.664062 21.898438 32.414062 22.222656 32.730469 C 23.835938 34.300781 25.5625 35.132812 27.582031 35.300781 C 27.90625 35.328125 27.9375 35.308594 28.007812 34.984375 C 28.382812 33.242188 27.625 30.925781 25.863281 28.425781 L 25.542969 27.96875 L 25.699219 27.785156 C 28.945312 23.960938 29.132812 18.699219 26.257812 11.96875 L 26.207031 11.84375 L 27.945312 12.703125 C 31.53125 14.476562 32.316406 14.800781 33.03125 14.800781 C 33.976562 14.800781 33.78125 13.9375 32.472656 12.292969 C 28.519531 7.355469 25.394531 5.925781 21.921875 7.472656 L 21.558594 7.636719 L 21.578125 7.542969 C 21.699219 6.992188 21.761719 5.742188 21.699219 5.164062 C 21.496094 3.296875 20.664062 1.964844 19.003906 0.855469 C 18.480469 0.503906 18.457031 0.5 18.214844 0.632812\"/>\n",
              "</g>\n",
              "      </svg>\n",
              "    "
            ],
            "text/plain": [
              "<IPython.core.display.HTML object>"
            ]
          },
          "metadata": {}
        }
      ]
    },
    {
      "cell_type": "markdown",
      "source": [
        "**Упражнение №5: больше квадратов**\n",
        "\n",
        "Нарисуйте 10 вложенных квадратов."
      ],
      "metadata": {
        "id": "hddZVtcHNdnV"
      }
    },
    {
      "cell_type": "code",
      "source": [
        "from ColabTurtle.Turtle import *\n",
        "\n",
        "def squares(number_of_squares, length_of_first_square_lines):\n",
        "  for i in range(number_of_squares):\n",
        "    length_of_this_square_lines = length_of_first_square_lines + i * 20\n",
        "    polygon(4, length_of_this_square_lines )\n",
        "    penup()\n",
        "    backward(10)\n",
        "    right(90)\n",
        "    forward(10)\n",
        "    left(90)\n",
        "    pendown()\n",
        "\n",
        "\n",
        "initializeTurtle()\n",
        "\n",
        "squares(10, 10)\n"
      ],
      "metadata": {
        "id": "tKkZgEgjNrel",
        "colab": {
          "base_uri": "https://localhost:8080/"
        },
        "outputId": "6779343c-ca84-4e95-927f-4bfefedaef6e"
      },
      "execution_count": null,
      "outputs": [
        {
          "output_type": "display_data",
          "data": {
            "text/html": [
              "\n",
              "      <svg width=\"800\" height=\"500\">\n",
              "        <rect width=\"100%\" height=\"100%\" fill=\"black\"/>\n",
              "        <line x1=\"400\" y1=\"250\" x2=\"400.0\" y2=\"240.0\" stroke-linecap=\"round\" style=\"stroke:white;stroke-width:4\"/><line x1=\"400.0\" y1=\"240.0\" x2=\"390.0\" y2=\"240.0\" stroke-linecap=\"round\" style=\"stroke:white;stroke-width:4\"/><line x1=\"390.0\" y1=\"240.0\" x2=\"390.0\" y2=\"250.0\" stroke-linecap=\"round\" style=\"stroke:white;stroke-width:4\"/><line x1=\"390.0\" y1=\"250.0\" x2=\"400.0\" y2=\"250.0\" stroke-linecap=\"round\" style=\"stroke:white;stroke-width:4\"/><line x1=\"410.0\" y1=\"260.0\" x2=\"410.0\" y2=\"230.0\" stroke-linecap=\"round\" style=\"stroke:white;stroke-width:4\"/><line x1=\"410.0\" y1=\"230.0\" x2=\"380.0\" y2=\"230.0\" stroke-linecap=\"round\" style=\"stroke:white;stroke-width:4\"/><line x1=\"380.0\" y1=\"230.0\" x2=\"380.0\" y2=\"260.0\" stroke-linecap=\"round\" style=\"stroke:white;stroke-width:4\"/><line x1=\"380.0\" y1=\"260.0\" x2=\"410.0\" y2=\"260.0\" stroke-linecap=\"round\" style=\"stroke:white;stroke-width:4\"/><line x1=\"420.0\" y1=\"270.0\" x2=\"420.0\" y2=\"220.0\" stroke-linecap=\"round\" style=\"stroke:white;stroke-width:4\"/><line x1=\"420.0\" y1=\"220.0\" x2=\"370.0\" y2=\"220.0\" stroke-linecap=\"round\" style=\"stroke:white;stroke-width:4\"/><line x1=\"370.0\" y1=\"220.0\" x2=\"370.0\" y2=\"270.0\" stroke-linecap=\"round\" style=\"stroke:white;stroke-width:4\"/><line x1=\"370.0\" y1=\"270.0\" x2=\"420.0\" y2=\"270.0\" stroke-linecap=\"round\" style=\"stroke:white;stroke-width:4\"/><line x1=\"430.0\" y1=\"280.0\" x2=\"430.0\" y2=\"210.0\" stroke-linecap=\"round\" style=\"stroke:white;stroke-width:4\"/><line x1=\"430.0\" y1=\"210.0\" x2=\"360.0\" y2=\"210.0\" stroke-linecap=\"round\" style=\"stroke:white;stroke-width:4\"/><line x1=\"360.0\" y1=\"210.0\" x2=\"360.0\" y2=\"280.0\" stroke-linecap=\"round\" style=\"stroke:white;stroke-width:4\"/><line x1=\"360.0\" y1=\"280.0\" x2=\"430.0\" y2=\"280.0\" stroke-linecap=\"round\" style=\"stroke:white;stroke-width:4\"/><line x1=\"440.0\" y1=\"290.0\" x2=\"440.0\" y2=\"200.0\" stroke-linecap=\"round\" style=\"stroke:white;stroke-width:4\"/><line x1=\"440.0\" y1=\"200.0\" x2=\"350.0\" y2=\"200.0\" stroke-linecap=\"round\" style=\"stroke:white;stroke-width:4\"/><line x1=\"350.0\" y1=\"200.0\" x2=\"350.0\" y2=\"290.0\" stroke-linecap=\"round\" style=\"stroke:white;stroke-width:4\"/><line x1=\"350.0\" y1=\"290.0\" x2=\"440.0\" y2=\"290.0\" stroke-linecap=\"round\" style=\"stroke:white;stroke-width:4\"/><line x1=\"450.0\" y1=\"300.0\" x2=\"450.0\" y2=\"190.0\" stroke-linecap=\"round\" style=\"stroke:white;stroke-width:4\"/><line x1=\"450.0\" y1=\"190.0\" x2=\"340.0\" y2=\"190.0\" stroke-linecap=\"round\" style=\"stroke:white;stroke-width:4\"/><line x1=\"340.0\" y1=\"190.0\" x2=\"340.0\" y2=\"300.0\" stroke-linecap=\"round\" style=\"stroke:white;stroke-width:4\"/><line x1=\"340.0\" y1=\"300.0\" x2=\"450.0\" y2=\"300.0\" stroke-linecap=\"round\" style=\"stroke:white;stroke-width:4\"/><line x1=\"460.0\" y1=\"310.0\" x2=\"460.0\" y2=\"180.0\" stroke-linecap=\"round\" style=\"stroke:white;stroke-width:4\"/><line x1=\"460.0\" y1=\"180.0\" x2=\"330.0\" y2=\"180.0\" stroke-linecap=\"round\" style=\"stroke:white;stroke-width:4\"/><line x1=\"330.0\" y1=\"180.0\" x2=\"330.0\" y2=\"310.0\" stroke-linecap=\"round\" style=\"stroke:white;stroke-width:4\"/><line x1=\"330.0\" y1=\"310.0\" x2=\"460.0\" y2=\"310.0\" stroke-linecap=\"round\" style=\"stroke:white;stroke-width:4\"/><line x1=\"470.0\" y1=\"320.0\" x2=\"470.0\" y2=\"170.0\" stroke-linecap=\"round\" style=\"stroke:white;stroke-width:4\"/><line x1=\"470.0\" y1=\"170.0\" x2=\"320.0\" y2=\"170.0\" stroke-linecap=\"round\" style=\"stroke:white;stroke-width:4\"/><line x1=\"320.0\" y1=\"170.0\" x2=\"320.0\" y2=\"320.0\" stroke-linecap=\"round\" style=\"stroke:white;stroke-width:4\"/><line x1=\"320.0\" y1=\"320.0\" x2=\"470.0\" y2=\"320.0\" stroke-linecap=\"round\" style=\"stroke:white;stroke-width:4\"/><line x1=\"480.0\" y1=\"330.0\" x2=\"480.0\" y2=\"160.0\" stroke-linecap=\"round\" style=\"stroke:white;stroke-width:4\"/><line x1=\"480.0\" y1=\"160.0\" x2=\"310.0\" y2=\"160.0\" stroke-linecap=\"round\" style=\"stroke:white;stroke-width:4\"/><line x1=\"310.0\" y1=\"160.0\" x2=\"310.0\" y2=\"330.0\" stroke-linecap=\"round\" style=\"stroke:white;stroke-width:4\"/><line x1=\"310.0\" y1=\"330.0\" x2=\"480.0\" y2=\"330.0\" stroke-linecap=\"round\" style=\"stroke:white;stroke-width:4\"/><line x1=\"490.0\" y1=\"340.0\" x2=\"490.0\" y2=\"150.0\" stroke-linecap=\"round\" style=\"stroke:white;stroke-width:4\"/><line x1=\"490.0\" y1=\"150.0\" x2=\"300.0\" y2=\"150.0\" stroke-linecap=\"round\" style=\"stroke:white;stroke-width:4\"/><line x1=\"300.0\" y1=\"150.0\" x2=\"300.0\" y2=\"340.0\" stroke-linecap=\"round\" style=\"stroke:white;stroke-width:4\"/><line x1=\"300.0\" y1=\"340.0\" x2=\"490.0\" y2=\"340.0\" stroke-linecap=\"round\" style=\"stroke:white;stroke-width:4\"/>\n",
              "        <g visibility=visible transform=\"rotate(360.0,500.0,350.0) translate(482.0, 332.0)\">\n",
              "<path style=\" stroke:none;fill-rule:evenodd;fill:white;fill-opacity:1;\" d=\"M 18.214844 0.632812 C 16.109375 1.800781 15.011719 4.074219 15.074219 7.132812 L 15.085938 7.652344 L 14.785156 7.496094 C 13.476562 6.824219 11.957031 6.671875 10.40625 7.066406 C 8.46875 7.550781 6.515625 9.15625 4.394531 11.992188 C 3.0625 13.777344 2.679688 14.636719 3.042969 15.027344 L 3.15625 15.152344 L 3.519531 15.152344 C 4.238281 15.152344 4.828125 14.886719 8.1875 13.039062 C 9.386719 12.378906 10.371094 11.839844 10.378906 11.839844 C 10.386719 11.839844 10.355469 11.929688 10.304688 12.035156 C 9.832031 13.09375 9.257812 14.820312 8.96875 16.078125 C 7.914062 20.652344 8.617188 24.53125 11.070312 27.660156 C 11.351562 28.015625 11.363281 27.914062 10.972656 28.382812 C 8.925781 30.84375 7.945312 33.28125 8.238281 35.1875 C 8.289062 35.527344 8.28125 35.523438 8.917969 35.523438 C 10.941406 35.523438 13.074219 34.207031 15.136719 31.6875 C 15.359375 31.417969 15.328125 31.425781 15.5625 31.574219 C 16.292969 32.042969 18.023438 32.964844 18.175781 32.964844 C 18.335938 32.964844 19.941406 32.210938 20.828125 31.71875 C 20.996094 31.625 21.136719 31.554688 21.136719 31.558594 C 21.203125 31.664062 21.898438 32.414062 22.222656 32.730469 C 23.835938 34.300781 25.5625 35.132812 27.582031 35.300781 C 27.90625 35.328125 27.9375 35.308594 28.007812 34.984375 C 28.382812 33.242188 27.625 30.925781 25.863281 28.425781 L 25.542969 27.96875 L 25.699219 27.785156 C 28.945312 23.960938 29.132812 18.699219 26.257812 11.96875 L 26.207031 11.84375 L 27.945312 12.703125 C 31.53125 14.476562 32.316406 14.800781 33.03125 14.800781 C 33.976562 14.800781 33.78125 13.9375 32.472656 12.292969 C 28.519531 7.355469 25.394531 5.925781 21.921875 7.472656 L 21.558594 7.636719 L 21.578125 7.542969 C 21.699219 6.992188 21.761719 5.742188 21.699219 5.164062 C 21.496094 3.296875 20.664062 1.964844 19.003906 0.855469 C 18.480469 0.503906 18.457031 0.5 18.214844 0.632812\"/>\n",
              "</g>\n",
              "      </svg>\n",
              "    "
            ],
            "text/plain": [
              "<IPython.core.display.HTML object>"
            ]
          },
          "metadata": {}
        }
      ]
    },
    {
      "cell_type": "markdown",
      "source": [
        "**Упражнение №6: паук**\n",
        "\n",
        "Нарисуйте паука с n лапами. Пример n = 6:"
      ],
      "metadata": {
        "id": "JEllgPX4TVj9"
      }
    },
    {
      "cell_type": "code",
      "source": [
        "from ColabTurtle.Turtle import *\n",
        "\n",
        "\n",
        "def spider (number_of_pawns, length_of_pawns):\n",
        "  pendown()\n",
        "  for i in range(number_of_pawns):\n",
        "    forward(length_of_pawns)\n",
        "    # stamp() - нет этой процедуры в дпнной реализации библиотеки turtle\n",
        "    backward(length_of_pawns)\n",
        "    right(360/number_of_pawns)\n",
        "\n",
        "\n",
        "\n",
        "initializeTurtle()\n",
        "spider(6, 100)"
      ],
      "metadata": {
        "id": "6EYK34N5TiaN",
        "colab": {
          "base_uri": "https://localhost:8080/"
        },
        "outputId": "e61abb12-d6ad-4ed9-ba8a-96f619f39238"
      },
      "execution_count": null,
      "outputs": [
        {
          "output_type": "display_data",
          "data": {
            "text/html": [
              "\n",
              "      <svg width=\"800\" height=\"500\">\n",
              "        <rect width=\"100%\" height=\"100%\" fill=\"black\"/>\n",
              "        <line x1=\"400\" y1=\"250\" x2=\"400.0\" y2=\"150.0\" stroke-linecap=\"round\" style=\"stroke:white;stroke-width:4\"/><line x1=\"400.0\" y1=\"150.0\" x2=\"400.0\" y2=\"250.0\" stroke-linecap=\"round\" style=\"stroke:white;stroke-width:4\"/><line x1=\"400.0\" y1=\"250.0\" x2=\"486.603\" y2=\"200.0\" stroke-linecap=\"round\" style=\"stroke:white;stroke-width:4\"/><line x1=\"486.603\" y1=\"200.0\" x2=\"400.0\" y2=\"250.0\" stroke-linecap=\"round\" style=\"stroke:white;stroke-width:4\"/><line x1=\"400.0\" y1=\"250.0\" x2=\"486.603\" y2=\"300.0\" stroke-linecap=\"round\" style=\"stroke:white;stroke-width:4\"/><line x1=\"486.603\" y1=\"300.0\" x2=\"400.0\" y2=\"250.0\" stroke-linecap=\"round\" style=\"stroke:white;stroke-width:4\"/><line x1=\"400.0\" y1=\"250.0\" x2=\"400.0\" y2=\"350.0\" stroke-linecap=\"round\" style=\"stroke:white;stroke-width:4\"/><line x1=\"400.0\" y1=\"350.0\" x2=\"400.0\" y2=\"250.0\" stroke-linecap=\"round\" style=\"stroke:white;stroke-width:4\"/><line x1=\"400.0\" y1=\"250.0\" x2=\"313.397\" y2=\"300.0\" stroke-linecap=\"round\" style=\"stroke:white;stroke-width:4\"/><line x1=\"313.397\" y1=\"300.0\" x2=\"400.0\" y2=\"250.0\" stroke-linecap=\"round\" style=\"stroke:white;stroke-width:4\"/><line x1=\"400.0\" y1=\"250.0\" x2=\"313.397\" y2=\"200.0\" stroke-linecap=\"round\" style=\"stroke:white;stroke-width:4\"/><line x1=\"313.397\" y1=\"200.0\" x2=\"400.0\" y2=\"250.0\" stroke-linecap=\"round\" style=\"stroke:white;stroke-width:4\"/>\n",
              "        <g visibility=visible transform=\"rotate(360.0,400.0,250.0) translate(382.0, 232.0)\">\n",
              "<path style=\" stroke:none;fill-rule:evenodd;fill:white;fill-opacity:1;\" d=\"M 18.214844 0.632812 C 16.109375 1.800781 15.011719 4.074219 15.074219 7.132812 L 15.085938 7.652344 L 14.785156 7.496094 C 13.476562 6.824219 11.957031 6.671875 10.40625 7.066406 C 8.46875 7.550781 6.515625 9.15625 4.394531 11.992188 C 3.0625 13.777344 2.679688 14.636719 3.042969 15.027344 L 3.15625 15.152344 L 3.519531 15.152344 C 4.238281 15.152344 4.828125 14.886719 8.1875 13.039062 C 9.386719 12.378906 10.371094 11.839844 10.378906 11.839844 C 10.386719 11.839844 10.355469 11.929688 10.304688 12.035156 C 9.832031 13.09375 9.257812 14.820312 8.96875 16.078125 C 7.914062 20.652344 8.617188 24.53125 11.070312 27.660156 C 11.351562 28.015625 11.363281 27.914062 10.972656 28.382812 C 8.925781 30.84375 7.945312 33.28125 8.238281 35.1875 C 8.289062 35.527344 8.28125 35.523438 8.917969 35.523438 C 10.941406 35.523438 13.074219 34.207031 15.136719 31.6875 C 15.359375 31.417969 15.328125 31.425781 15.5625 31.574219 C 16.292969 32.042969 18.023438 32.964844 18.175781 32.964844 C 18.335938 32.964844 19.941406 32.210938 20.828125 31.71875 C 20.996094 31.625 21.136719 31.554688 21.136719 31.558594 C 21.203125 31.664062 21.898438 32.414062 22.222656 32.730469 C 23.835938 34.300781 25.5625 35.132812 27.582031 35.300781 C 27.90625 35.328125 27.9375 35.308594 28.007812 34.984375 C 28.382812 33.242188 27.625 30.925781 25.863281 28.425781 L 25.542969 27.96875 L 25.699219 27.785156 C 28.945312 23.960938 29.132812 18.699219 26.257812 11.96875 L 26.207031 11.84375 L 27.945312 12.703125 C 31.53125 14.476562 32.316406 14.800781 33.03125 14.800781 C 33.976562 14.800781 33.78125 13.9375 32.472656 12.292969 C 28.519531 7.355469 25.394531 5.925781 21.921875 7.472656 L 21.558594 7.636719 L 21.578125 7.542969 C 21.699219 6.992188 21.761719 5.742188 21.699219 5.164062 C 21.496094 3.296875 20.664062 1.964844 19.003906 0.855469 C 18.480469 0.503906 18.457031 0.5 18.214844 0.632812\"/>\n",
              "</g>\n",
              "      </svg>\n",
              "    "
            ],
            "text/plain": [
              "<IPython.core.display.HTML object>"
            ]
          },
          "metadata": {}
        }
      ]
    },
    {
      "cell_type": "markdown",
      "source": [
        "**Упражнение №7: спираль**"
      ],
      "metadata": {
        "id": "HUL1jgxqV8hu"
      }
    },
    {
      "cell_type": "code",
      "source": [
        "from ColabTurtle.Turtle import *\n",
        "\n",
        "\n",
        "def spiral ():\n",
        "  pendown()\n",
        "  for i in range(36):\n",
        "    forward(5+i)\n",
        "    left(360/36)\n",
        "\n",
        "\n",
        "initializeTurtle()\n",
        "spiral()\n"
      ],
      "metadata": {
        "id": "0LqA2SMnWMcN",
        "colab": {
          "base_uri": "https://localhost:8080/"
        },
        "outputId": "711569d7-ab91-40be-c2d0-e05ff5d73ac6"
      },
      "execution_count": null,
      "outputs": [
        {
          "output_type": "display_data",
          "data": {
            "text/html": [
              "\n",
              "      <svg width=\"800\" height=\"500\">\n",
              "        <rect width=\"100%\" height=\"100%\" fill=\"black\"/>\n",
              "        <line x1=\"400\" y1=\"250\" x2=\"400.0\" y2=\"245.0\" stroke-linecap=\"round\" style=\"stroke:white;stroke-width:4\"/><line x1=\"400.0\" y1=\"245.0\" x2=\"398.958\" y2=\"239.091\" stroke-linecap=\"round\" style=\"stroke:white;stroke-width:4\"/><line x1=\"398.958\" y1=\"239.091\" x2=\"396.564\" y2=\"232.513\" stroke-linecap=\"round\" style=\"stroke:white;stroke-width:4\"/><line x1=\"396.564\" y1=\"232.513\" x2=\"392.564\" y2=\"225.585\" stroke-linecap=\"round\" style=\"stroke:white;stroke-width:4\"/><line x1=\"392.564\" y1=\"225.585\" x2=\"386.779\" y2=\"218.691\" stroke-linecap=\"round\" style=\"stroke:white;stroke-width:4\"/><line x1=\"386.779\" y1=\"218.691\" x2=\"379.119\" y2=\"212.263\" stroke-linecap=\"round\" style=\"stroke:white;stroke-width:4\"/><line x1=\"379.119\" y1=\"212.263\" x2=\"369.593\" y2=\"206.763\" stroke-linecap=\"round\" style=\"stroke:white;stroke-width:4\"/><line x1=\"369.593\" y1=\"206.763\" x2=\"358.317\" y2=\"202.659\" stroke-linecap=\"round\" style=\"stroke:white;stroke-width:4\"/><line x1=\"358.317\" y1=\"202.659\" x2=\"345.514\" y2=\"200.402\" stroke-linecap=\"round\" style=\"stroke:white;stroke-width:4\"/><line x1=\"345.514\" y1=\"200.402\" x2=\"331.514\" y2=\"200.402\" stroke-linecap=\"round\" style=\"stroke:white;stroke-width:4\"/><line x1=\"331.514\" y1=\"200.402\" x2=\"316.742\" y2=\"203.007\" stroke-linecap=\"round\" style=\"stroke:white;stroke-width:4\"/><line x1=\"316.742\" y1=\"203.007\" x2=\"301.707\" y2=\"208.479\" stroke-linecap=\"round\" style=\"stroke:white;stroke-width:4\"/><line x1=\"301.707\" y1=\"208.479\" x2=\"286.985\" y2=\"216.979\" stroke-linecap=\"round\" style=\"stroke:white;stroke-width:4\"/><line x1=\"286.985\" y1=\"216.979\" x2=\"273.196\" y2=\"228.549\" stroke-linecap=\"round\" style=\"stroke:white;stroke-width:4\"/><line x1=\"273.196\" y1=\"228.549\" x2=\"260.983\" y2=\"243.104\" stroke-linecap=\"round\" style=\"stroke:white;stroke-width:4\"/><line x1=\"260.983\" y1=\"243.104\" x2=\"250.983\" y2=\"260.425\" stroke-linecap=\"round\" style=\"stroke:white;stroke-width:4\"/><line x1=\"250.983\" y1=\"260.425\" x2=\"243.801\" y2=\"280.159\" stroke-linecap=\"round\" style=\"stroke:white;stroke-width:4\"/><line x1=\"243.801\" y1=\"280.159\" x2=\"239.981\" y2=\"301.825\" stroke-linecap=\"round\" style=\"stroke:white;stroke-width:4\"/><line x1=\"239.981\" y1=\"301.825\" x2=\"239.981\" y2=\"324.825\" stroke-linecap=\"round\" style=\"stroke:white;stroke-width:4\"/><line x1=\"239.981\" y1=\"324.825\" x2=\"244.149\" y2=\"348.46\" stroke-linecap=\"round\" style=\"stroke:white;stroke-width:4\"/><line x1=\"244.149\" y1=\"348.46\" x2=\"252.7\" y2=\"371.952\" stroke-linecap=\"round\" style=\"stroke:white;stroke-width:4\"/><line x1=\"252.7\" y1=\"371.952\" x2=\"265.7\" y2=\"394.469\" stroke-linecap=\"round\" style=\"stroke:white;stroke-width:4\"/><line x1=\"265.7\" y1=\"394.469\" x2=\"283.055\" y2=\"415.152\" stroke-linecap=\"round\" style=\"stroke:white;stroke-width:4\"/><line x1=\"283.055\" y1=\"415.152\" x2=\"304.504\" y2=\"433.15\" stroke-linecap=\"round\" style=\"stroke:white;stroke-width:4\"/><line x1=\"304.504\" y1=\"433.15\" x2=\"329.619\" y2=\"447.65\" stroke-linecap=\"round\" style=\"stroke:white;stroke-width:4\"/><line x1=\"329.619\" y1=\"447.65\" x2=\"357.81\" y2=\"457.911\" stroke-linecap=\"round\" style=\"stroke:white;stroke-width:4\"/><line x1=\"357.81\" y1=\"457.911\" x2=\"388.339\" y2=\"463.294\" stroke-linecap=\"round\" style=\"stroke:white;stroke-width:4\"/><line x1=\"388.339\" y1=\"463.294\" x2=\"420.339\" y2=\"463.294\" stroke-linecap=\"round\" style=\"stroke:white;stroke-width:4\"/><line x1=\"420.339\" y1=\"463.294\" x2=\"452.838\" y2=\"457.564\" stroke-linecap=\"round\" style=\"stroke:white;stroke-width:4\"/><line x1=\"452.838\" y1=\"457.564\" x2=\"484.788\" y2=\"445.935\" stroke-linecap=\"round\" style=\"stroke:white;stroke-width:4\"/><line x1=\"484.788\" y1=\"445.935\" x2=\"515.099\" y2=\"428.435\" stroke-linecap=\"round\" style=\"stroke:white;stroke-width:4\"/><line x1=\"515.099\" y1=\"428.435\" x2=\"542.677\" y2=\"405.295\" stroke-linecap=\"round\" style=\"stroke:white;stroke-width:4\"/><line x1=\"542.677\" y1=\"405.295\" x2=\"566.46\" y2=\"376.951\" stroke-linecap=\"round\" style=\"stroke:white;stroke-width:4\"/><line x1=\"566.46\" y1=\"376.951\" x2=\"585.46\" y2=\"344.042\" stroke-linecap=\"round\" style=\"stroke:white;stroke-width:4\"/><line x1=\"585.46\" y1=\"344.042\" x2=\"598.799\" y2=\"307.394\" stroke-linecap=\"round\" style=\"stroke:white;stroke-width:4\"/><line x1=\"598.799\" y1=\"307.394\" x2=\"605.745\" y2=\"268.002\" stroke-linecap=\"round\" style=\"stroke:white;stroke-width:4\"/>\n",
              "        <g visibility=visible transform=\"rotate(360.0,605.745,268.002) translate(587.745, 250.002)\">\n",
              "<path style=\" stroke:none;fill-rule:evenodd;fill:white;fill-opacity:1;\" d=\"M 18.214844 0.632812 C 16.109375 1.800781 15.011719 4.074219 15.074219 7.132812 L 15.085938 7.652344 L 14.785156 7.496094 C 13.476562 6.824219 11.957031 6.671875 10.40625 7.066406 C 8.46875 7.550781 6.515625 9.15625 4.394531 11.992188 C 3.0625 13.777344 2.679688 14.636719 3.042969 15.027344 L 3.15625 15.152344 L 3.519531 15.152344 C 4.238281 15.152344 4.828125 14.886719 8.1875 13.039062 C 9.386719 12.378906 10.371094 11.839844 10.378906 11.839844 C 10.386719 11.839844 10.355469 11.929688 10.304688 12.035156 C 9.832031 13.09375 9.257812 14.820312 8.96875 16.078125 C 7.914062 20.652344 8.617188 24.53125 11.070312 27.660156 C 11.351562 28.015625 11.363281 27.914062 10.972656 28.382812 C 8.925781 30.84375 7.945312 33.28125 8.238281 35.1875 C 8.289062 35.527344 8.28125 35.523438 8.917969 35.523438 C 10.941406 35.523438 13.074219 34.207031 15.136719 31.6875 C 15.359375 31.417969 15.328125 31.425781 15.5625 31.574219 C 16.292969 32.042969 18.023438 32.964844 18.175781 32.964844 C 18.335938 32.964844 19.941406 32.210938 20.828125 31.71875 C 20.996094 31.625 21.136719 31.554688 21.136719 31.558594 C 21.203125 31.664062 21.898438 32.414062 22.222656 32.730469 C 23.835938 34.300781 25.5625 35.132812 27.582031 35.300781 C 27.90625 35.328125 27.9375 35.308594 28.007812 34.984375 C 28.382812 33.242188 27.625 30.925781 25.863281 28.425781 L 25.542969 27.96875 L 25.699219 27.785156 C 28.945312 23.960938 29.132812 18.699219 26.257812 11.96875 L 26.207031 11.84375 L 27.945312 12.703125 C 31.53125 14.476562 32.316406 14.800781 33.03125 14.800781 C 33.976562 14.800781 33.78125 13.9375 32.472656 12.292969 C 28.519531 7.355469 25.394531 5.925781 21.921875 7.472656 L 21.558594 7.636719 L 21.578125 7.542969 C 21.699219 6.992188 21.761719 5.742188 21.699219 5.164062 C 21.496094 3.296875 20.664062 1.964844 19.003906 0.855469 C 18.480469 0.503906 18.457031 0.5 18.214844 0.632812\"/>\n",
              "</g>\n",
              "      </svg>\n",
              "    "
            ],
            "text/plain": [
              "<IPython.core.display.HTML object>"
            ]
          },
          "metadata": {}
        }
      ]
    },
    {
      "cell_type": "markdown",
      "source": [
        "**Упражнение №8: квадратная «спираль»**\n",
        "\n",
        "Нарисуйте «квадратную» спираль."
      ],
      "metadata": {
        "id": "CjY4y-g_YYSW"
      }
    },
    {
      "cell_type": "code",
      "source": [
        "from ColabTurtle.Turtle import *\n",
        "\n",
        "\n",
        "def square_spiral ():\n",
        "  pendown()\n",
        "  for i in range(36):\n",
        "    forward(5 + i*5)\n",
        "    left(360/4)\n",
        "\n",
        "\n",
        "initializeTurtle()\n",
        "square_spiral()\n"
      ],
      "metadata": {
        "id": "Eo--Ilv-YqWc",
        "colab": {
          "base_uri": "https://localhost:8080/"
        },
        "outputId": "19db579b-5c6b-4a3e-8efa-bd1128dc33e3"
      },
      "execution_count": null,
      "outputs": [
        {
          "output_type": "display_data",
          "data": {
            "text/html": [
              "\n",
              "      <svg width=\"800\" height=\"500\">\n",
              "        <rect width=\"100%\" height=\"100%\" fill=\"black\"/>\n",
              "        <line x1=\"400\" y1=\"250\" x2=\"400.0\" y2=\"245.0\" stroke-linecap=\"round\" style=\"stroke:white;stroke-width:4\"/><line x1=\"400.0\" y1=\"245.0\" x2=\"390.0\" y2=\"245.0\" stroke-linecap=\"round\" style=\"stroke:white;stroke-width:4\"/><line x1=\"390.0\" y1=\"245.0\" x2=\"390.0\" y2=\"260.0\" stroke-linecap=\"round\" style=\"stroke:white;stroke-width:4\"/><line x1=\"390.0\" y1=\"260.0\" x2=\"410.0\" y2=\"260.0\" stroke-linecap=\"round\" style=\"stroke:white;stroke-width:4\"/><line x1=\"410.0\" y1=\"260.0\" x2=\"410.0\" y2=\"235.0\" stroke-linecap=\"round\" style=\"stroke:white;stroke-width:4\"/><line x1=\"410.0\" y1=\"235.0\" x2=\"380.0\" y2=\"235.0\" stroke-linecap=\"round\" style=\"stroke:white;stroke-width:4\"/><line x1=\"380.0\" y1=\"235.0\" x2=\"380.0\" y2=\"270.0\" stroke-linecap=\"round\" style=\"stroke:white;stroke-width:4\"/><line x1=\"380.0\" y1=\"270.0\" x2=\"420.0\" y2=\"270.0\" stroke-linecap=\"round\" style=\"stroke:white;stroke-width:4\"/><line x1=\"420.0\" y1=\"270.0\" x2=\"420.0\" y2=\"225.0\" stroke-linecap=\"round\" style=\"stroke:white;stroke-width:4\"/><line x1=\"420.0\" y1=\"225.0\" x2=\"370.0\" y2=\"225.0\" stroke-linecap=\"round\" style=\"stroke:white;stroke-width:4\"/><line x1=\"370.0\" y1=\"225.0\" x2=\"370.0\" y2=\"280.0\" stroke-linecap=\"round\" style=\"stroke:white;stroke-width:4\"/><line x1=\"370.0\" y1=\"280.0\" x2=\"430.0\" y2=\"280.0\" stroke-linecap=\"round\" style=\"stroke:white;stroke-width:4\"/><line x1=\"430.0\" y1=\"280.0\" x2=\"430.0\" y2=\"215.0\" stroke-linecap=\"round\" style=\"stroke:white;stroke-width:4\"/><line x1=\"430.0\" y1=\"215.0\" x2=\"360.0\" y2=\"215.0\" stroke-linecap=\"round\" style=\"stroke:white;stroke-width:4\"/><line x1=\"360.0\" y1=\"215.0\" x2=\"360.0\" y2=\"290.0\" stroke-linecap=\"round\" style=\"stroke:white;stroke-width:4\"/><line x1=\"360.0\" y1=\"290.0\" x2=\"440.0\" y2=\"290.0\" stroke-linecap=\"round\" style=\"stroke:white;stroke-width:4\"/><line x1=\"440.0\" y1=\"290.0\" x2=\"440.0\" y2=\"205.0\" stroke-linecap=\"round\" style=\"stroke:white;stroke-width:4\"/><line x1=\"440.0\" y1=\"205.0\" x2=\"350.0\" y2=\"205.0\" stroke-linecap=\"round\" style=\"stroke:white;stroke-width:4\"/><line x1=\"350.0\" y1=\"205.0\" x2=\"350.0\" y2=\"300.0\" stroke-linecap=\"round\" style=\"stroke:white;stroke-width:4\"/><line x1=\"350.0\" y1=\"300.0\" x2=\"450.0\" y2=\"300.0\" stroke-linecap=\"round\" style=\"stroke:white;stroke-width:4\"/><line x1=\"450.0\" y1=\"300.0\" x2=\"450.0\" y2=\"195.0\" stroke-linecap=\"round\" style=\"stroke:white;stroke-width:4\"/><line x1=\"450.0\" y1=\"195.0\" x2=\"340.0\" y2=\"195.0\" stroke-linecap=\"round\" style=\"stroke:white;stroke-width:4\"/><line x1=\"340.0\" y1=\"195.0\" x2=\"340.0\" y2=\"310.0\" stroke-linecap=\"round\" style=\"stroke:white;stroke-width:4\"/><line x1=\"340.0\" y1=\"310.0\" x2=\"460.0\" y2=\"310.0\" stroke-linecap=\"round\" style=\"stroke:white;stroke-width:4\"/><line x1=\"460.0\" y1=\"310.0\" x2=\"460.0\" y2=\"185.0\" stroke-linecap=\"round\" style=\"stroke:white;stroke-width:4\"/><line x1=\"460.0\" y1=\"185.0\" x2=\"330.0\" y2=\"185.0\" stroke-linecap=\"round\" style=\"stroke:white;stroke-width:4\"/><line x1=\"330.0\" y1=\"185.0\" x2=\"330.0\" y2=\"320.0\" stroke-linecap=\"round\" style=\"stroke:white;stroke-width:4\"/><line x1=\"330.0\" y1=\"320.0\" x2=\"470.0\" y2=\"320.0\" stroke-linecap=\"round\" style=\"stroke:white;stroke-width:4\"/><line x1=\"470.0\" y1=\"320.0\" x2=\"470.0\" y2=\"175.0\" stroke-linecap=\"round\" style=\"stroke:white;stroke-width:4\"/><line x1=\"470.0\" y1=\"175.0\" x2=\"320.0\" y2=\"175.0\" stroke-linecap=\"round\" style=\"stroke:white;stroke-width:4\"/><line x1=\"320.0\" y1=\"175.0\" x2=\"320.0\" y2=\"330.0\" stroke-linecap=\"round\" style=\"stroke:white;stroke-width:4\"/><line x1=\"320.0\" y1=\"330.0\" x2=\"480.0\" y2=\"330.0\" stroke-linecap=\"round\" style=\"stroke:white;stroke-width:4\"/><line x1=\"480.0\" y1=\"330.0\" x2=\"480.0\" y2=\"165.0\" stroke-linecap=\"round\" style=\"stroke:white;stroke-width:4\"/><line x1=\"480.0\" y1=\"165.0\" x2=\"310.0\" y2=\"165.0\" stroke-linecap=\"round\" style=\"stroke:white;stroke-width:4\"/><line x1=\"310.0\" y1=\"165.0\" x2=\"310.0\" y2=\"340.0\" stroke-linecap=\"round\" style=\"stroke:white;stroke-width:4\"/><line x1=\"310.0\" y1=\"340.0\" x2=\"490.0\" y2=\"340.0\" stroke-linecap=\"round\" style=\"stroke:white;stroke-width:4\"/>\n",
              "        <g visibility=visible transform=\"rotate(360.0,490.0,340.0) translate(472.0, 322.0)\">\n",
              "<path style=\" stroke:none;fill-rule:evenodd;fill:white;fill-opacity:1;\" d=\"M 18.214844 0.632812 C 16.109375 1.800781 15.011719 4.074219 15.074219 7.132812 L 15.085938 7.652344 L 14.785156 7.496094 C 13.476562 6.824219 11.957031 6.671875 10.40625 7.066406 C 8.46875 7.550781 6.515625 9.15625 4.394531 11.992188 C 3.0625 13.777344 2.679688 14.636719 3.042969 15.027344 L 3.15625 15.152344 L 3.519531 15.152344 C 4.238281 15.152344 4.828125 14.886719 8.1875 13.039062 C 9.386719 12.378906 10.371094 11.839844 10.378906 11.839844 C 10.386719 11.839844 10.355469 11.929688 10.304688 12.035156 C 9.832031 13.09375 9.257812 14.820312 8.96875 16.078125 C 7.914062 20.652344 8.617188 24.53125 11.070312 27.660156 C 11.351562 28.015625 11.363281 27.914062 10.972656 28.382812 C 8.925781 30.84375 7.945312 33.28125 8.238281 35.1875 C 8.289062 35.527344 8.28125 35.523438 8.917969 35.523438 C 10.941406 35.523438 13.074219 34.207031 15.136719 31.6875 C 15.359375 31.417969 15.328125 31.425781 15.5625 31.574219 C 16.292969 32.042969 18.023438 32.964844 18.175781 32.964844 C 18.335938 32.964844 19.941406 32.210938 20.828125 31.71875 C 20.996094 31.625 21.136719 31.554688 21.136719 31.558594 C 21.203125 31.664062 21.898438 32.414062 22.222656 32.730469 C 23.835938 34.300781 25.5625 35.132812 27.582031 35.300781 C 27.90625 35.328125 27.9375 35.308594 28.007812 34.984375 C 28.382812 33.242188 27.625 30.925781 25.863281 28.425781 L 25.542969 27.96875 L 25.699219 27.785156 C 28.945312 23.960938 29.132812 18.699219 26.257812 11.96875 L 26.207031 11.84375 L 27.945312 12.703125 C 31.53125 14.476562 32.316406 14.800781 33.03125 14.800781 C 33.976562 14.800781 33.78125 13.9375 32.472656 12.292969 C 28.519531 7.355469 25.394531 5.925781 21.921875 7.472656 L 21.558594 7.636719 L 21.578125 7.542969 C 21.699219 6.992188 21.761719 5.742188 21.699219 5.164062 C 21.496094 3.296875 20.664062 1.964844 19.003906 0.855469 C 18.480469 0.503906 18.457031 0.5 18.214844 0.632812\"/>\n",
              "</g>\n",
              "      </svg>\n",
              "    "
            ],
            "text/plain": [
              "<IPython.core.display.HTML object>"
            ]
          },
          "metadata": {}
        }
      ]
    },
    {
      "cell_type": "markdown",
      "source": [
        "**Упражнение №9: правильные многоугольники**\n",
        "\n",
        "Нарисуйте 10 вложенных правильных многоугольников. "
      ],
      "metadata": {
        "id": "UJQwR1Y7ZlA_"
      }
    },
    {
      "cell_type": "code",
      "source": [
        "initializeTurtle()\n",
        "for i in range(10):\n",
        "  pendown()\n",
        "  number_of_angles = i+3\n",
        "  length_of_this_polygon = math.floor((25 +i*20)*2*math.sin(2*math.pi/(2*number_of_angles)))\n",
        "  left(180/number_of_angles)\n",
        "  polygon(number_of_angles, length_of_this_polygon)\n",
        "  right(180/number_of_angles)\n",
        "  penup()\n",
        "  right(90)\n",
        "  forward(20)\n",
        "  left(90)"
      ],
      "metadata": {
        "id": "I4yl_wYvbh9F",
        "colab": {
          "base_uri": "https://localhost:8080/"
        },
        "outputId": "6447c0ae-0646-4259-c3c1-463b63025c94"
      },
      "execution_count": null,
      "outputs": [
        {
          "output_type": "display_data",
          "data": {
            "text/html": [
              "\n",
              "      <svg width=\"800\" height=\"500\">\n",
              "        <rect width=\"100%\" height=\"100%\" fill=\"black\"/>\n",
              "        <line x1=\"400\" y1=\"250\" x2=\"362.761\" y2=\"228.5\" stroke-linecap=\"round\" style=\"stroke:white;stroke-width:4\"/><line x1=\"362.761\" y1=\"228.5\" x2=\"362.761\" y2=\"271.5\" stroke-linecap=\"round\" style=\"stroke:white;stroke-width:4\"/><line x1=\"362.761\" y1=\"271.5\" x2=\"400.0\" y2=\"250.0\" stroke-linecap=\"round\" style=\"stroke:white;stroke-width:4\"/><line x1=\"420.0\" y1=\"250.0\" x2=\"375.452\" y2=\"205.452\" stroke-linecap=\"round\" style=\"stroke:white;stroke-width:4\"/><line x1=\"375.452\" y1=\"205.452\" x2=\"330.904\" y2=\"250.0\" stroke-linecap=\"round\" style=\"stroke:white;stroke-width:4\"/><line x1=\"330.904\" y1=\"250.0\" x2=\"375.452\" y2=\"294.548\" stroke-linecap=\"round\" style=\"stroke:white;stroke-width:4\"/><line x1=\"375.452\" y1=\"294.548\" x2=\"420.0\" y2=\"250.0\" stroke-linecap=\"round\" style=\"stroke:white;stroke-width:4\"/><line x1=\"440.0\" y1=\"250.0\" x2=\"395.328\" y2=\"188.515\" stroke-linecap=\"round\" style=\"stroke:white;stroke-width:4\"/><line x1=\"395.328\" y1=\"188.515\" x2=\"323.048\" y2=\"212.0\" stroke-linecap=\"round\" style=\"stroke:white;stroke-width:4\"/><line x1=\"323.048\" y1=\"212.0\" x2=\"323.048\" y2=\"288.0\" stroke-linecap=\"round\" style=\"stroke:white;stroke-width:4\"/><line x1=\"323.048\" y1=\"288.0\" x2=\"395.328\" y2=\"311.485\" stroke-linecap=\"round\" style=\"stroke:white;stroke-width:4\"/><line x1=\"395.328\" y1=\"311.485\" x2=\"440.0\" y2=\"250.0\" stroke-linecap=\"round\" style=\"stroke:white;stroke-width:4\"/><line x1=\"460.0\" y1=\"250.0\" x2=\"418.0\" y2=\"177.254\" stroke-linecap=\"round\" style=\"stroke:white;stroke-width:4\"/><line x1=\"418.0\" y1=\"177.254\" x2=\"334.0\" y2=\"177.254\" stroke-linecap=\"round\" style=\"stroke:white;stroke-width:4\"/><line x1=\"334.0\" y1=\"177.254\" x2=\"292.0\" y2=\"250.0\" stroke-linecap=\"round\" style=\"stroke:white;stroke-width:4\"/><line x1=\"292.0\" y1=\"250.0\" x2=\"334.0\" y2=\"322.746\" stroke-linecap=\"round\" style=\"stroke:white;stroke-width:4\"/><line x1=\"334.0\" y1=\"322.746\" x2=\"418.0\" y2=\"322.746\" stroke-linecap=\"round\" style=\"stroke:white;stroke-width:4\"/><line x1=\"418.0\" y1=\"322.746\" x2=\"460.0\" y2=\"250.0\" stroke-linecap=\"round\" style=\"stroke:white;stroke-width:4\"/><line x1=\"480.0\" y1=\"250.0\" x2=\"440.517\" y2=\"168.012\" stroke-linecap=\"round\" style=\"stroke:white;stroke-width:4\"/><line x1=\"440.517\" y1=\"168.012\" x2=\"351.799\" y2=\"147.763\" stroke-linecap=\"round\" style=\"stroke:white;stroke-width:4\"/><line x1=\"351.799\" y1=\"147.763\" x2=\"280.652\" y2=\"204.501\" stroke-linecap=\"round\" style=\"stroke:white;stroke-width:4\"/><line x1=\"280.652\" y1=\"204.501\" x2=\"280.652\" y2=\"295.501\" stroke-linecap=\"round\" style=\"stroke:white;stroke-width:4\"/><line x1=\"280.652\" y1=\"295.501\" x2=\"351.799\" y2=\"352.239\" stroke-linecap=\"round\" style=\"stroke:white;stroke-width:4\"/><line x1=\"351.799\" y1=\"352.239\" x2=\"440.517\" y2=\"331.99\" stroke-linecap=\"round\" style=\"stroke:white;stroke-width:4\"/><line x1=\"440.517\" y1=\"331.99\" x2=\"480.0\" y2=\"250.002\" stroke-linecap=\"round\" style=\"stroke:white;stroke-width:4\"/><line x1=\"500.0\" y1=\"250.002\" x2=\"463.645\" y2=\"162.233\" stroke-linecap=\"round\" style=\"stroke:white;stroke-width:4\"/><line x1=\"463.645\" y1=\"162.233\" x2=\"375.876\" y2=\"125.878\" stroke-linecap=\"round\" style=\"stroke:white;stroke-width:4\"/><line x1=\"375.876\" y1=\"125.878\" x2=\"288.107\" y2=\"162.233\" stroke-linecap=\"round\" style=\"stroke:white;stroke-width:4\"/><line x1=\"288.107\" y1=\"162.233\" x2=\"251.752\" y2=\"250.002\" stroke-linecap=\"round\" style=\"stroke:white;stroke-width:4\"/><line x1=\"251.752\" y1=\"250.002\" x2=\"288.107\" y2=\"337.771\" stroke-linecap=\"round\" style=\"stroke:white;stroke-width:4\"/><line x1=\"288.107\" y1=\"337.771\" x2=\"375.876\" y2=\"374.126\" stroke-linecap=\"round\" style=\"stroke:white;stroke-width:4\"/><line x1=\"375.876\" y1=\"374.126\" x2=\"463.645\" y2=\"337.771\" stroke-linecap=\"round\" style=\"stroke:white;stroke-width:4\"/><line x1=\"463.645\" y1=\"337.771\" x2=\"500.0\" y2=\"250.002\" stroke-linecap=\"round\" style=\"stroke:white;stroke-width:4\"/><line x1=\"520.0\" y1=\"250.002\" x2=\"486.14\" y2=\"156.972\" stroke-linecap=\"round\" style=\"stroke:white;stroke-width:4\"/><line x1=\"486.14\" y1=\"156.972\" x2=\"400.403\" y2=\"107.472\" stroke-linecap=\"round\" style=\"stroke:white;stroke-width:4\"/><line x1=\"400.403\" y1=\"107.472\" x2=\"302.907\" y2=\"124.663\" stroke-linecap=\"round\" style=\"stroke:white;stroke-width:4\"/><line x1=\"302.907\" y1=\"124.663\" x2=\"239.271\" y2=\"200.501\" stroke-linecap=\"round\" style=\"stroke:white;stroke-width:4\"/><line x1=\"239.271\" y1=\"200.501\" x2=\"239.271\" y2=\"299.501\" stroke-linecap=\"round\" style=\"stroke:white;stroke-width:4\"/><line x1=\"239.271\" y1=\"299.501\" x2=\"302.907\" y2=\"375.339\" stroke-linecap=\"round\" style=\"stroke:white;stroke-width:4\"/><line x1=\"302.907\" y1=\"375.339\" x2=\"400.403\" y2=\"392.53\" stroke-linecap=\"round\" style=\"stroke:white;stroke-width:4\"/><line x1=\"400.403\" y1=\"392.53\" x2=\"486.14\" y2=\"343.03\" stroke-linecap=\"round\" style=\"stroke:white;stroke-width:4\"/><line x1=\"486.14\" y1=\"343.03\" x2=\"520.0\" y2=\"250.0\" stroke-linecap=\"round\" style=\"stroke:white;stroke-width:4\"/><line x1=\"540.0\" y1=\"250.0\" x2=\"508.789\" y2=\"153.943\" stroke-linecap=\"round\" style=\"stroke:white;stroke-width:4\"/><line x1=\"508.789\" y1=\"153.943\" x2=\"427.078\" y2=\"94.577\" stroke-linecap=\"round\" style=\"stroke:white;stroke-width:4\"/><line x1=\"427.078\" y1=\"94.577\" x2=\"326.078\" y2=\"94.577\" stroke-linecap=\"round\" style=\"stroke:white;stroke-width:4\"/><line x1=\"326.078\" y1=\"94.577\" x2=\"244.367\" y2=\"153.943\" stroke-linecap=\"round\" style=\"stroke:white;stroke-width:4\"/><line x1=\"244.367\" y1=\"153.943\" x2=\"213.156\" y2=\"250.0\" stroke-linecap=\"round\" style=\"stroke:white;stroke-width:4\"/><line x1=\"213.156\" y1=\"250.0\" x2=\"244.367\" y2=\"346.057\" stroke-linecap=\"round\" style=\"stroke:white;stroke-width:4\"/><line x1=\"244.367\" y1=\"346.057\" x2=\"326.078\" y2=\"405.423\" stroke-linecap=\"round\" style=\"stroke:white;stroke-width:4\"/><line x1=\"326.078\" y1=\"405.423\" x2=\"427.078\" y2=\"405.423\" stroke-linecap=\"round\" style=\"stroke:white;stroke-width:4\"/><line x1=\"427.078\" y1=\"405.423\" x2=\"508.789\" y2=\"346.057\" stroke-linecap=\"round\" style=\"stroke:white;stroke-width:4\"/><line x1=\"508.789\" y1=\"346.057\" x2=\"540.0\" y2=\"250.0\" stroke-linecap=\"round\" style=\"stroke:white;stroke-width:4\"/><line x1=\"560.0\" y1=\"250.0\" x2=\"530.7\" y2=\"150.213\" stroke-linecap=\"round\" style=\"stroke:white;stroke-width:4\"/><line x1=\"530.7\" y1=\"150.213\" x2=\"452.102\" y2=\"82.107\" stroke-linecap=\"round\" style=\"stroke:white;stroke-width:4\"/><line x1=\"452.102\" y1=\"82.107\" x2=\"349.161\" y2=\"67.306\" stroke-linecap=\"round\" style=\"stroke:white;stroke-width:4\"/><line x1=\"349.161\" y1=\"67.306\" x2=\"254.559\" y2=\"110.509\" stroke-linecap=\"round\" style=\"stroke:white;stroke-width:4\"/><line x1=\"254.559\" y1=\"110.509\" x2=\"198.332\" y2=\"197.999\" stroke-linecap=\"round\" style=\"stroke:white;stroke-width:4\"/><line x1=\"198.332\" y1=\"197.999\" x2=\"198.332\" y2=\"301.999\" stroke-linecap=\"round\" style=\"stroke:white;stroke-width:4\"/><line x1=\"198.332\" y1=\"301.999\" x2=\"254.559\" y2=\"389.489\" stroke-linecap=\"round\" style=\"stroke:white;stroke-width:4\"/><line x1=\"254.559\" y1=\"389.489\" x2=\"349.161\" y2=\"432.692\" stroke-linecap=\"round\" style=\"stroke:white;stroke-width:4\"/><line x1=\"349.161\" y1=\"432.692\" x2=\"452.102\" y2=\"417.891\" stroke-linecap=\"round\" style=\"stroke:white;stroke-width:4\"/><line x1=\"452.102\" y1=\"417.891\" x2=\"530.7\" y2=\"349.785\" stroke-linecap=\"round\" style=\"stroke:white;stroke-width:4\"/><line x1=\"530.7\" y1=\"349.785\" x2=\"560.0\" y2=\"249.998\" stroke-linecap=\"round\" style=\"stroke:white;stroke-width:4\"/><line x1=\"580.0\" y1=\"249.998\" x2=\"552.565\" y2=\"147.61\" stroke-linecap=\"round\" style=\"stroke:white;stroke-width:4\"/><line x1=\"552.565\" y1=\"147.61\" x2=\"477.612\" y2=\"72.657\" stroke-linecap=\"round\" style=\"stroke:white;stroke-width:4\"/><line x1=\"477.612\" y1=\"72.657\" x2=\"375.224\" y2=\"45.222\" stroke-linecap=\"round\" style=\"stroke:white;stroke-width:4\"/><line x1=\"375.224\" y1=\"45.222\" x2=\"272.836\" y2=\"72.657\" stroke-linecap=\"round\" style=\"stroke:white;stroke-width:4\"/><line x1=\"272.836\" y1=\"72.657\" x2=\"197.883\" y2=\"147.61\" stroke-linecap=\"round\" style=\"stroke:white;stroke-width:4\"/><line x1=\"197.883\" y1=\"147.61\" x2=\"170.448\" y2=\"249.998\" stroke-linecap=\"round\" style=\"stroke:white;stroke-width:4\"/><line x1=\"170.448\" y1=\"249.998\" x2=\"197.883\" y2=\"352.386\" stroke-linecap=\"round\" style=\"stroke:white;stroke-width:4\"/><line x1=\"197.883\" y1=\"352.386\" x2=\"272.836\" y2=\"427.339\" stroke-linecap=\"round\" style=\"stroke:white;stroke-width:4\"/><line x1=\"272.836\" y1=\"427.339\" x2=\"375.224\" y2=\"454.774\" stroke-linecap=\"round\" style=\"stroke:white;stroke-width:4\"/><line x1=\"375.224\" y1=\"454.774\" x2=\"477.612\" y2=\"427.339\" stroke-linecap=\"round\" style=\"stroke:white;stroke-width:4\"/><line x1=\"477.612\" y1=\"427.339\" x2=\"552.565\" y2=\"352.386\" stroke-linecap=\"round\" style=\"stroke:white;stroke-width:4\"/><line x1=\"552.565\" y1=\"352.386\" x2=\"580.0\" y2=\"249.998\" stroke-linecap=\"round\" style=\"stroke:white;stroke-width:4\"/>\n",
              "        <g visibility=visible transform=\"rotate(359.99999999999994,600.0,249.998) translate(582.0, 231.998)\">\n",
              "<path style=\" stroke:none;fill-rule:evenodd;fill:white;fill-opacity:1;\" d=\"M 18.214844 0.632812 C 16.109375 1.800781 15.011719 4.074219 15.074219 7.132812 L 15.085938 7.652344 L 14.785156 7.496094 C 13.476562 6.824219 11.957031 6.671875 10.40625 7.066406 C 8.46875 7.550781 6.515625 9.15625 4.394531 11.992188 C 3.0625 13.777344 2.679688 14.636719 3.042969 15.027344 L 3.15625 15.152344 L 3.519531 15.152344 C 4.238281 15.152344 4.828125 14.886719 8.1875 13.039062 C 9.386719 12.378906 10.371094 11.839844 10.378906 11.839844 C 10.386719 11.839844 10.355469 11.929688 10.304688 12.035156 C 9.832031 13.09375 9.257812 14.820312 8.96875 16.078125 C 7.914062 20.652344 8.617188 24.53125 11.070312 27.660156 C 11.351562 28.015625 11.363281 27.914062 10.972656 28.382812 C 8.925781 30.84375 7.945312 33.28125 8.238281 35.1875 C 8.289062 35.527344 8.28125 35.523438 8.917969 35.523438 C 10.941406 35.523438 13.074219 34.207031 15.136719 31.6875 C 15.359375 31.417969 15.328125 31.425781 15.5625 31.574219 C 16.292969 32.042969 18.023438 32.964844 18.175781 32.964844 C 18.335938 32.964844 19.941406 32.210938 20.828125 31.71875 C 20.996094 31.625 21.136719 31.554688 21.136719 31.558594 C 21.203125 31.664062 21.898438 32.414062 22.222656 32.730469 C 23.835938 34.300781 25.5625 35.132812 27.582031 35.300781 C 27.90625 35.328125 27.9375 35.308594 28.007812 34.984375 C 28.382812 33.242188 27.625 30.925781 25.863281 28.425781 L 25.542969 27.96875 L 25.699219 27.785156 C 28.945312 23.960938 29.132812 18.699219 26.257812 11.96875 L 26.207031 11.84375 L 27.945312 12.703125 C 31.53125 14.476562 32.316406 14.800781 33.03125 14.800781 C 33.976562 14.800781 33.78125 13.9375 32.472656 12.292969 C 28.519531 7.355469 25.394531 5.925781 21.921875 7.472656 L 21.558594 7.636719 L 21.578125 7.542969 C 21.699219 6.992188 21.761719 5.742188 21.699219 5.164062 C 21.496094 3.296875 20.664062 1.964844 19.003906 0.855469 C 18.480469 0.503906 18.457031 0.5 18.214844 0.632812\"/>\n",
              "</g>\n",
              "      </svg>\n",
              "    "
            ],
            "text/plain": [
              "<IPython.core.display.HTML object>"
            ]
          },
          "metadata": {}
        }
      ]
    },
    {
      "cell_type": "markdown",
      "source": [
        "**Упражнение №10: «цветок»**\n",
        "\n",
        "Нарисуйте «цветок» из окружностей. Используйте функцию, рисующую окружность."
      ],
      "metadata": {
        "id": "huUVW66tkNzA"
      }
    },
    {
      "cell_type": "code",
      "source": [
        "initializeTurtle()\n",
        "def double_circle(radius, double=True):\n",
        "  number_of_angles = 12\n",
        "  length = radius * 2 * math.sin(math.pi/number_of_angles)\n",
        "  left(180/number_of_angles)\n",
        "  polygon(number_of_angles, length)\n",
        "  if double:\n",
        "    right(360/number_of_angles)\n",
        "    polygon(number_of_angles, length, is_left=False)\n",
        "    left(180/number_of_angles)\n",
        "  else:\n",
        "    right(180/number_of_angles)\n",
        "\n",
        "\n",
        "n = 3\n",
        "for i in range(n):\n",
        "  double_circle(100)\n",
        "  left(180/n)"
      ],
      "metadata": {
        "id": "d8ypDJOmkVGF",
        "colab": {
          "base_uri": "https://localhost:8080/"
        },
        "outputId": "daf820cd-8c89-4aa5-daf4-665a34948be2"
      },
      "execution_count": null,
      "outputs": [
        {
          "output_type": "display_data",
          "data": {
            "text/html": [
              "\n",
              "      <svg width=\"800\" height=\"500\">\n",
              "        <rect width=\"100%\" height=\"100%\" fill=\"black\"/>\n",
              "        <line x1=\"400\" y1=\"250\" x2=\"386.603\" y2=\"200.0\" stroke-linecap=\"round\" style=\"stroke:white;stroke-width:4\"/><line x1=\"386.603\" y1=\"200.0\" x2=\"350.0\" y2=\"163.397\" stroke-linecap=\"round\" style=\"stroke:white;stroke-width:4\"/><line x1=\"350.0\" y1=\"163.397\" x2=\"300.0\" y2=\"150.0\" stroke-linecap=\"round\" style=\"stroke:white;stroke-width:4\"/><line x1=\"300.0\" y1=\"150.0\" x2=\"250.0\" y2=\"163.397\" stroke-linecap=\"round\" style=\"stroke:white;stroke-width:4\"/><line x1=\"250.0\" y1=\"163.397\" x2=\"213.397\" y2=\"200.0\" stroke-linecap=\"round\" style=\"stroke:white;stroke-width:4\"/><line x1=\"213.397\" y1=\"200.0\" x2=\"200.0\" y2=\"250.0\" stroke-linecap=\"round\" style=\"stroke:white;stroke-width:4\"/><line x1=\"200.0\" y1=\"250.0\" x2=\"213.397\" y2=\"300.0\" stroke-linecap=\"round\" style=\"stroke:white;stroke-width:4\"/><line x1=\"213.397\" y1=\"300.0\" x2=\"250.0\" y2=\"336.603\" stroke-linecap=\"round\" style=\"stroke:white;stroke-width:4\"/><line x1=\"250.0\" y1=\"336.603\" x2=\"300.0\" y2=\"350.0\" stroke-linecap=\"round\" style=\"stroke:white;stroke-width:4\"/><line x1=\"300.0\" y1=\"350.0\" x2=\"350.0\" y2=\"336.603\" stroke-linecap=\"round\" style=\"stroke:white;stroke-width:4\"/><line x1=\"350.0\" y1=\"336.603\" x2=\"386.603\" y2=\"300.0\" stroke-linecap=\"round\" style=\"stroke:white;stroke-width:4\"/><line x1=\"386.603\" y1=\"300.0\" x2=\"400.0\" y2=\"250.0\" stroke-linecap=\"round\" style=\"stroke:white;stroke-width:4\"/><line x1=\"400.0\" y1=\"250.0\" x2=\"413.397\" y2=\"200.0\" stroke-linecap=\"round\" style=\"stroke:white;stroke-width:4\"/><line x1=\"413.397\" y1=\"200.0\" x2=\"450.0\" y2=\"163.397\" stroke-linecap=\"round\" style=\"stroke:white;stroke-width:4\"/><line x1=\"450.0\" y1=\"163.397\" x2=\"500.0\" y2=\"150.0\" stroke-linecap=\"round\" style=\"stroke:white;stroke-width:4\"/><line x1=\"500.0\" y1=\"150.0\" x2=\"550.0\" y2=\"163.397\" stroke-linecap=\"round\" style=\"stroke:white;stroke-width:4\"/><line x1=\"550.0\" y1=\"163.397\" x2=\"586.603\" y2=\"200.0\" stroke-linecap=\"round\" style=\"stroke:white;stroke-width:4\"/><line x1=\"586.603\" y1=\"200.0\" x2=\"600.0\" y2=\"250.0\" stroke-linecap=\"round\" style=\"stroke:white;stroke-width:4\"/><line x1=\"600.0\" y1=\"250.0\" x2=\"586.603\" y2=\"300.0\" stroke-linecap=\"round\" style=\"stroke:white;stroke-width:4\"/><line x1=\"586.603\" y1=\"300.0\" x2=\"550.0\" y2=\"336.603\" stroke-linecap=\"round\" style=\"stroke:white;stroke-width:4\"/><line x1=\"550.0\" y1=\"336.603\" x2=\"500.0\" y2=\"350.0\" stroke-linecap=\"round\" style=\"stroke:white;stroke-width:4\"/><line x1=\"500.0\" y1=\"350.0\" x2=\"450.0\" y2=\"336.603\" stroke-linecap=\"round\" style=\"stroke:white;stroke-width:4\"/><line x1=\"450.0\" y1=\"336.603\" x2=\"413.397\" y2=\"300.0\" stroke-linecap=\"round\" style=\"stroke:white;stroke-width:4\"/><line x1=\"413.397\" y1=\"300.0\" x2=\"400.0\" y2=\"250.0\" stroke-linecap=\"round\" style=\"stroke:white;stroke-width:4\"/><line x1=\"400.0\" y1=\"250.0\" x2=\"350.0\" y2=\"236.603\" stroke-linecap=\"round\" style=\"stroke:white;stroke-width:4\"/><line x1=\"350.0\" y1=\"236.603\" x2=\"300.0\" y2=\"250.0\" stroke-linecap=\"round\" style=\"stroke:white;stroke-width:4\"/><line x1=\"300.0\" y1=\"250.0\" x2=\"263.397\" y2=\"286.603\" stroke-linecap=\"round\" style=\"stroke:white;stroke-width:4\"/><line x1=\"263.397\" y1=\"286.603\" x2=\"250.0\" y2=\"336.603\" stroke-linecap=\"round\" style=\"stroke:white;stroke-width:4\"/><line x1=\"250.0\" y1=\"336.603\" x2=\"263.397\" y2=\"386.603\" stroke-linecap=\"round\" style=\"stroke:white;stroke-width:4\"/><line x1=\"263.397\" y1=\"386.603\" x2=\"300.0\" y2=\"423.206\" stroke-linecap=\"round\" style=\"stroke:white;stroke-width:4\"/><line x1=\"300.0\" y1=\"423.206\" x2=\"350.0\" y2=\"436.603\" stroke-linecap=\"round\" style=\"stroke:white;stroke-width:4\"/><line x1=\"350.0\" y1=\"436.603\" x2=\"400.0\" y2=\"423.206\" stroke-linecap=\"round\" style=\"stroke:white;stroke-width:4\"/><line x1=\"400.0\" y1=\"423.206\" x2=\"436.603\" y2=\"386.603\" stroke-linecap=\"round\" style=\"stroke:white;stroke-width:4\"/><line x1=\"436.603\" y1=\"386.603\" x2=\"450.0\" y2=\"336.603\" stroke-linecap=\"round\" style=\"stroke:white;stroke-width:4\"/><line x1=\"450.0\" y1=\"336.603\" x2=\"436.603\" y2=\"286.603\" stroke-linecap=\"round\" style=\"stroke:white;stroke-width:4\"/><line x1=\"436.603\" y1=\"286.603\" x2=\"400.0\" y2=\"250.0\" stroke-linecap=\"round\" style=\"stroke:white;stroke-width:4\"/><line x1=\"400.0\" y1=\"250.0\" x2=\"363.397\" y2=\"213.397\" stroke-linecap=\"round\" style=\"stroke:white;stroke-width:4\"/><line x1=\"363.397\" y1=\"213.397\" x2=\"350.0\" y2=\"163.397\" stroke-linecap=\"round\" style=\"stroke:white;stroke-width:4\"/><line x1=\"350.0\" y1=\"163.397\" x2=\"363.397\" y2=\"113.397\" stroke-linecap=\"round\" style=\"stroke:white;stroke-width:4\"/><line x1=\"363.397\" y1=\"113.397\" x2=\"400.0\" y2=\"76.794\" stroke-linecap=\"round\" style=\"stroke:white;stroke-width:4\"/><line x1=\"400.0\" y1=\"76.794\" x2=\"450.0\" y2=\"63.397\" stroke-linecap=\"round\" style=\"stroke:white;stroke-width:4\"/><line x1=\"450.0\" y1=\"63.397\" x2=\"500.0\" y2=\"76.794\" stroke-linecap=\"round\" style=\"stroke:white;stroke-width:4\"/><line x1=\"500.0\" y1=\"76.794\" x2=\"536.603\" y2=\"113.397\" stroke-linecap=\"round\" style=\"stroke:white;stroke-width:4\"/><line x1=\"536.603\" y1=\"113.397\" x2=\"550.0\" y2=\"163.397\" stroke-linecap=\"round\" style=\"stroke:white;stroke-width:4\"/><line x1=\"550.0\" y1=\"163.397\" x2=\"536.603\" y2=\"213.397\" stroke-linecap=\"round\" style=\"stroke:white;stroke-width:4\"/><line x1=\"536.603\" y1=\"213.397\" x2=\"500.0\" y2=\"250.0\" stroke-linecap=\"round\" style=\"stroke:white;stroke-width:4\"/><line x1=\"500.0\" y1=\"250.0\" x2=\"450.0\" y2=\"263.397\" stroke-linecap=\"round\" style=\"stroke:white;stroke-width:4\"/><line x1=\"450.0\" y1=\"263.397\" x2=\"400.0\" y2=\"250.0\" stroke-linecap=\"round\" style=\"stroke:white;stroke-width:4\"/><line x1=\"400.0\" y1=\"250.0\" x2=\"363.397\" y2=\"286.603\" stroke-linecap=\"round\" style=\"stroke:white;stroke-width:4\"/><line x1=\"363.397\" y1=\"286.603\" x2=\"350.0\" y2=\"336.603\" stroke-linecap=\"round\" style=\"stroke:white;stroke-width:4\"/><line x1=\"350.0\" y1=\"336.603\" x2=\"363.397\" y2=\"386.603\" stroke-linecap=\"round\" style=\"stroke:white;stroke-width:4\"/><line x1=\"363.397\" y1=\"386.603\" x2=\"400.0\" y2=\"423.206\" stroke-linecap=\"round\" style=\"stroke:white;stroke-width:4\"/><line x1=\"400.0\" y1=\"423.206\" x2=\"450.0\" y2=\"436.603\" stroke-linecap=\"round\" style=\"stroke:white;stroke-width:4\"/><line x1=\"450.0\" y1=\"436.603\" x2=\"500.0\" y2=\"423.206\" stroke-linecap=\"round\" style=\"stroke:white;stroke-width:4\"/><line x1=\"500.0\" y1=\"423.206\" x2=\"536.603\" y2=\"386.603\" stroke-linecap=\"round\" style=\"stroke:white;stroke-width:4\"/><line x1=\"536.603\" y1=\"386.603\" x2=\"550.0\" y2=\"336.603\" stroke-linecap=\"round\" style=\"stroke:white;stroke-width:4\"/><line x1=\"550.0\" y1=\"336.603\" x2=\"536.603\" y2=\"286.603\" stroke-linecap=\"round\" style=\"stroke:white;stroke-width:4\"/><line x1=\"536.603\" y1=\"286.603\" x2=\"500.0\" y2=\"250.0\" stroke-linecap=\"round\" style=\"stroke:white;stroke-width:4\"/><line x1=\"500.0\" y1=\"250.0\" x2=\"450.0\" y2=\"236.603\" stroke-linecap=\"round\" style=\"stroke:white;stroke-width:4\"/><line x1=\"450.0\" y1=\"236.603\" x2=\"400.0\" y2=\"250.0\" stroke-linecap=\"round\" style=\"stroke:white;stroke-width:4\"/><line x1=\"400.0\" y1=\"250.0\" x2=\"350.0\" y2=\"263.397\" stroke-linecap=\"round\" style=\"stroke:white;stroke-width:4\"/><line x1=\"350.0\" y1=\"263.397\" x2=\"300.0\" y2=\"250.0\" stroke-linecap=\"round\" style=\"stroke:white;stroke-width:4\"/><line x1=\"300.0\" y1=\"250.0\" x2=\"263.397\" y2=\"213.397\" stroke-linecap=\"round\" style=\"stroke:white;stroke-width:4\"/><line x1=\"263.397\" y1=\"213.397\" x2=\"250.0\" y2=\"163.397\" stroke-linecap=\"round\" style=\"stroke:white;stroke-width:4\"/><line x1=\"250.0\" y1=\"163.397\" x2=\"263.397\" y2=\"113.397\" stroke-linecap=\"round\" style=\"stroke:white;stroke-width:4\"/><line x1=\"263.397\" y1=\"113.397\" x2=\"300.0\" y2=\"76.794\" stroke-linecap=\"round\" style=\"stroke:white;stroke-width:4\"/><line x1=\"300.0\" y1=\"76.794\" x2=\"350.0\" y2=\"63.397\" stroke-linecap=\"round\" style=\"stroke:white;stroke-width:4\"/><line x1=\"350.0\" y1=\"63.397\" x2=\"400.0\" y2=\"76.794\" stroke-linecap=\"round\" style=\"stroke:white;stroke-width:4\"/><line x1=\"400.0\" y1=\"76.794\" x2=\"436.603\" y2=\"113.397\" stroke-linecap=\"round\" style=\"stroke:white;stroke-width:4\"/><line x1=\"436.603\" y1=\"113.397\" x2=\"450.0\" y2=\"163.397\" stroke-linecap=\"round\" style=\"stroke:white;stroke-width:4\"/><line x1=\"450.0\" y1=\"163.397\" x2=\"436.603\" y2=\"213.397\" stroke-linecap=\"round\" style=\"stroke:white;stroke-width:4\"/><line x1=\"436.603\" y1=\"213.397\" x2=\"400.0\" y2=\"250.0\" stroke-linecap=\"round\" style=\"stroke:white;stroke-width:4\"/>\n",
              "        <g visibility=visible transform=\"rotate(180.0,400.0,250.0) translate(382.0, 232.0)\">\n",
              "<path style=\" stroke:none;fill-rule:evenodd;fill:white;fill-opacity:1;\" d=\"M 18.214844 0.632812 C 16.109375 1.800781 15.011719 4.074219 15.074219 7.132812 L 15.085938 7.652344 L 14.785156 7.496094 C 13.476562 6.824219 11.957031 6.671875 10.40625 7.066406 C 8.46875 7.550781 6.515625 9.15625 4.394531 11.992188 C 3.0625 13.777344 2.679688 14.636719 3.042969 15.027344 L 3.15625 15.152344 L 3.519531 15.152344 C 4.238281 15.152344 4.828125 14.886719 8.1875 13.039062 C 9.386719 12.378906 10.371094 11.839844 10.378906 11.839844 C 10.386719 11.839844 10.355469 11.929688 10.304688 12.035156 C 9.832031 13.09375 9.257812 14.820312 8.96875 16.078125 C 7.914062 20.652344 8.617188 24.53125 11.070312 27.660156 C 11.351562 28.015625 11.363281 27.914062 10.972656 28.382812 C 8.925781 30.84375 7.945312 33.28125 8.238281 35.1875 C 8.289062 35.527344 8.28125 35.523438 8.917969 35.523438 C 10.941406 35.523438 13.074219 34.207031 15.136719 31.6875 C 15.359375 31.417969 15.328125 31.425781 15.5625 31.574219 C 16.292969 32.042969 18.023438 32.964844 18.175781 32.964844 C 18.335938 32.964844 19.941406 32.210938 20.828125 31.71875 C 20.996094 31.625 21.136719 31.554688 21.136719 31.558594 C 21.203125 31.664062 21.898438 32.414062 22.222656 32.730469 C 23.835938 34.300781 25.5625 35.132812 27.582031 35.300781 C 27.90625 35.328125 27.9375 35.308594 28.007812 34.984375 C 28.382812 33.242188 27.625 30.925781 25.863281 28.425781 L 25.542969 27.96875 L 25.699219 27.785156 C 28.945312 23.960938 29.132812 18.699219 26.257812 11.96875 L 26.207031 11.84375 L 27.945312 12.703125 C 31.53125 14.476562 32.316406 14.800781 33.03125 14.800781 C 33.976562 14.800781 33.78125 13.9375 32.472656 12.292969 C 28.519531 7.355469 25.394531 5.925781 21.921875 7.472656 L 21.558594 7.636719 L 21.578125 7.542969 C 21.699219 6.992188 21.761719 5.742188 21.699219 5.164062 C 21.496094 3.296875 20.664062 1.964844 19.003906 0.855469 C 18.480469 0.503906 18.457031 0.5 18.214844 0.632812\"/>\n",
              "</g>\n",
              "      </svg>\n",
              "    "
            ],
            "text/plain": [
              "<IPython.core.display.HTML object>"
            ]
          },
          "metadata": {}
        }
      ]
    },
    {
      "cell_type": "markdown",
      "source": [
        "**Упражнение №11: «бабочка»**\n",
        "\n",
        "Нарисуйте «бабочку» из окружностей. Используйте функцию, рисующую окружность."
      ],
      "metadata": {
        "id": "3B6jJSVZuVll"
      }
    },
    {
      "cell_type": "code",
      "source": [
        "from math import radians\n",
        "initializeTurtle()\n",
        "\n",
        "for i in range(3):\n",
        "  radius = 50 + i*30\n",
        "  double_circle(radius)"
      ],
      "metadata": {
        "id": "BWcZo73NuXYF",
        "colab": {
          "base_uri": "https://localhost:8080/"
        },
        "outputId": "169c4b47-6956-4498-9eb2-39c1994506a0"
      },
      "execution_count": null,
      "outputs": [
        {
          "output_type": "display_data",
          "data": {
            "text/html": [
              "\n",
              "      <svg width=\"800\" height=\"500\">\n",
              "        <rect width=\"100%\" height=\"100%\" fill=\"black\"/>\n",
              "        <line x1=\"400\" y1=\"250\" x2=\"393.301\" y2=\"225.0\" stroke-linecap=\"round\" style=\"stroke:white;stroke-width:4\"/><line x1=\"393.301\" y1=\"225.0\" x2=\"375.0\" y2=\"206.699\" stroke-linecap=\"round\" style=\"stroke:white;stroke-width:4\"/><line x1=\"375.0\" y1=\"206.699\" x2=\"350.0\" y2=\"200.0\" stroke-linecap=\"round\" style=\"stroke:white;stroke-width:4\"/><line x1=\"350.0\" y1=\"200.0\" x2=\"325.0\" y2=\"206.699\" stroke-linecap=\"round\" style=\"stroke:white;stroke-width:4\"/><line x1=\"325.0\" y1=\"206.699\" x2=\"306.699\" y2=\"225.0\" stroke-linecap=\"round\" style=\"stroke:white;stroke-width:4\"/><line x1=\"306.699\" y1=\"225.0\" x2=\"300.0\" y2=\"250.0\" stroke-linecap=\"round\" style=\"stroke:white;stroke-width:4\"/><line x1=\"300.0\" y1=\"250.0\" x2=\"306.699\" y2=\"275.0\" stroke-linecap=\"round\" style=\"stroke:white;stroke-width:4\"/><line x1=\"306.699\" y1=\"275.0\" x2=\"325.0\" y2=\"293.301\" stroke-linecap=\"round\" style=\"stroke:white;stroke-width:4\"/><line x1=\"325.0\" y1=\"293.301\" x2=\"350.0\" y2=\"300.0\" stroke-linecap=\"round\" style=\"stroke:white;stroke-width:4\"/><line x1=\"350.0\" y1=\"300.0\" x2=\"375.0\" y2=\"293.301\" stroke-linecap=\"round\" style=\"stroke:white;stroke-width:4\"/><line x1=\"375.0\" y1=\"293.301\" x2=\"393.301\" y2=\"275.0\" stroke-linecap=\"round\" style=\"stroke:white;stroke-width:4\"/><line x1=\"393.301\" y1=\"275.0\" x2=\"400.0\" y2=\"250.0\" stroke-linecap=\"round\" style=\"stroke:white;stroke-width:4\"/><line x1=\"400.0\" y1=\"250.0\" x2=\"406.699\" y2=\"225.0\" stroke-linecap=\"round\" style=\"stroke:white;stroke-width:4\"/><line x1=\"406.699\" y1=\"225.0\" x2=\"425.0\" y2=\"206.699\" stroke-linecap=\"round\" style=\"stroke:white;stroke-width:4\"/><line x1=\"425.0\" y1=\"206.699\" x2=\"450.0\" y2=\"200.0\" stroke-linecap=\"round\" style=\"stroke:white;stroke-width:4\"/><line x1=\"450.0\" y1=\"200.0\" x2=\"475.0\" y2=\"206.699\" stroke-linecap=\"round\" style=\"stroke:white;stroke-width:4\"/><line x1=\"475.0\" y1=\"206.699\" x2=\"493.301\" y2=\"225.0\" stroke-linecap=\"round\" style=\"stroke:white;stroke-width:4\"/><line x1=\"493.301\" y1=\"225.0\" x2=\"500.0\" y2=\"250.0\" stroke-linecap=\"round\" style=\"stroke:white;stroke-width:4\"/><line x1=\"500.0\" y1=\"250.0\" x2=\"493.301\" y2=\"275.0\" stroke-linecap=\"round\" style=\"stroke:white;stroke-width:4\"/><line x1=\"493.301\" y1=\"275.0\" x2=\"475.0\" y2=\"293.301\" stroke-linecap=\"round\" style=\"stroke:white;stroke-width:4\"/><line x1=\"475.0\" y1=\"293.301\" x2=\"450.0\" y2=\"300.0\" stroke-linecap=\"round\" style=\"stroke:white;stroke-width:4\"/><line x1=\"450.0\" y1=\"300.0\" x2=\"425.0\" y2=\"293.301\" stroke-linecap=\"round\" style=\"stroke:white;stroke-width:4\"/><line x1=\"425.0\" y1=\"293.301\" x2=\"406.699\" y2=\"275.0\" stroke-linecap=\"round\" style=\"stroke:white;stroke-width:4\"/><line x1=\"406.699\" y1=\"275.0\" x2=\"400.0\" y2=\"250.0\" stroke-linecap=\"round\" style=\"stroke:white;stroke-width:4\"/><line x1=\"400.0\" y1=\"250.0\" x2=\"389.282\" y2=\"210.0\" stroke-linecap=\"round\" style=\"stroke:white;stroke-width:4\"/><line x1=\"389.282\" y1=\"210.0\" x2=\"360.0\" y2=\"180.718\" stroke-linecap=\"round\" style=\"stroke:white;stroke-width:4\"/><line x1=\"360.0\" y1=\"180.718\" x2=\"320.0\" y2=\"170.0\" stroke-linecap=\"round\" style=\"stroke:white;stroke-width:4\"/><line x1=\"320.0\" y1=\"170.0\" x2=\"280.0\" y2=\"180.718\" stroke-linecap=\"round\" style=\"stroke:white;stroke-width:4\"/><line x1=\"280.0\" y1=\"180.718\" x2=\"250.718\" y2=\"210.0\" stroke-linecap=\"round\" style=\"stroke:white;stroke-width:4\"/><line x1=\"250.718\" y1=\"210.0\" x2=\"240.0\" y2=\"250.0\" stroke-linecap=\"round\" style=\"stroke:white;stroke-width:4\"/><line x1=\"240.0\" y1=\"250.0\" x2=\"250.718\" y2=\"290.0\" stroke-linecap=\"round\" style=\"stroke:white;stroke-width:4\"/><line x1=\"250.718\" y1=\"290.0\" x2=\"280.0\" y2=\"319.282\" stroke-linecap=\"round\" style=\"stroke:white;stroke-width:4\"/><line x1=\"280.0\" y1=\"319.282\" x2=\"320.0\" y2=\"330.0\" stroke-linecap=\"round\" style=\"stroke:white;stroke-width:4\"/><line x1=\"320.0\" y1=\"330.0\" x2=\"360.0\" y2=\"319.282\" stroke-linecap=\"round\" style=\"stroke:white;stroke-width:4\"/><line x1=\"360.0\" y1=\"319.282\" x2=\"389.282\" y2=\"290.0\" stroke-linecap=\"round\" style=\"stroke:white;stroke-width:4\"/><line x1=\"389.282\" y1=\"290.0\" x2=\"400.0\" y2=\"250.0\" stroke-linecap=\"round\" style=\"stroke:white;stroke-width:4\"/><line x1=\"400.0\" y1=\"250.0\" x2=\"410.718\" y2=\"210.0\" stroke-linecap=\"round\" style=\"stroke:white;stroke-width:4\"/><line x1=\"410.718\" y1=\"210.0\" x2=\"440.0\" y2=\"180.718\" stroke-linecap=\"round\" style=\"stroke:white;stroke-width:4\"/><line x1=\"440.0\" y1=\"180.718\" x2=\"480.0\" y2=\"170.0\" stroke-linecap=\"round\" style=\"stroke:white;stroke-width:4\"/><line x1=\"480.0\" y1=\"170.0\" x2=\"520.0\" y2=\"180.718\" stroke-linecap=\"round\" style=\"stroke:white;stroke-width:4\"/><line x1=\"520.0\" y1=\"180.718\" x2=\"549.282\" y2=\"210.0\" stroke-linecap=\"round\" style=\"stroke:white;stroke-width:4\"/><line x1=\"549.282\" y1=\"210.0\" x2=\"560.0\" y2=\"250.0\" stroke-linecap=\"round\" style=\"stroke:white;stroke-width:4\"/><line x1=\"560.0\" y1=\"250.0\" x2=\"549.282\" y2=\"290.0\" stroke-linecap=\"round\" style=\"stroke:white;stroke-width:4\"/><line x1=\"549.282\" y1=\"290.0\" x2=\"520.0\" y2=\"319.282\" stroke-linecap=\"round\" style=\"stroke:white;stroke-width:4\"/><line x1=\"520.0\" y1=\"319.282\" x2=\"480.0\" y2=\"330.0\" stroke-linecap=\"round\" style=\"stroke:white;stroke-width:4\"/><line x1=\"480.0\" y1=\"330.0\" x2=\"440.0\" y2=\"319.282\" stroke-linecap=\"round\" style=\"stroke:white;stroke-width:4\"/><line x1=\"440.0\" y1=\"319.282\" x2=\"410.718\" y2=\"290.0\" stroke-linecap=\"round\" style=\"stroke:white;stroke-width:4\"/><line x1=\"410.718\" y1=\"290.0\" x2=\"400.0\" y2=\"250.0\" stroke-linecap=\"round\" style=\"stroke:white;stroke-width:4\"/><line x1=\"400.0\" y1=\"250.0\" x2=\"385.263\" y2=\"195.0\" stroke-linecap=\"round\" style=\"stroke:white;stroke-width:4\"/><line x1=\"385.263\" y1=\"195.0\" x2=\"345.0\" y2=\"154.737\" stroke-linecap=\"round\" style=\"stroke:white;stroke-width:4\"/><line x1=\"345.0\" y1=\"154.737\" x2=\"290.0\" y2=\"140.0\" stroke-linecap=\"round\" style=\"stroke:white;stroke-width:4\"/><line x1=\"290.0\" y1=\"140.0\" x2=\"235.0\" y2=\"154.737\" stroke-linecap=\"round\" style=\"stroke:white;stroke-width:4\"/><line x1=\"235.0\" y1=\"154.737\" x2=\"194.737\" y2=\"195.0\" stroke-linecap=\"round\" style=\"stroke:white;stroke-width:4\"/><line x1=\"194.737\" y1=\"195.0\" x2=\"180.0\" y2=\"250.0\" stroke-linecap=\"round\" style=\"stroke:white;stroke-width:4\"/><line x1=\"180.0\" y1=\"250.0\" x2=\"194.737\" y2=\"305.0\" stroke-linecap=\"round\" style=\"stroke:white;stroke-width:4\"/><line x1=\"194.737\" y1=\"305.0\" x2=\"235.0\" y2=\"345.263\" stroke-linecap=\"round\" style=\"stroke:white;stroke-width:4\"/><line x1=\"235.0\" y1=\"345.263\" x2=\"290.0\" y2=\"360.0\" stroke-linecap=\"round\" style=\"stroke:white;stroke-width:4\"/><line x1=\"290.0\" y1=\"360.0\" x2=\"345.0\" y2=\"345.263\" stroke-linecap=\"round\" style=\"stroke:white;stroke-width:4\"/><line x1=\"345.0\" y1=\"345.263\" x2=\"385.263\" y2=\"305.0\" stroke-linecap=\"round\" style=\"stroke:white;stroke-width:4\"/><line x1=\"385.263\" y1=\"305.0\" x2=\"400.0\" y2=\"250.0\" stroke-linecap=\"round\" style=\"stroke:white;stroke-width:4\"/><line x1=\"400.0\" y1=\"250.0\" x2=\"414.737\" y2=\"195.0\" stroke-linecap=\"round\" style=\"stroke:white;stroke-width:4\"/><line x1=\"414.737\" y1=\"195.0\" x2=\"455.0\" y2=\"154.737\" stroke-linecap=\"round\" style=\"stroke:white;stroke-width:4\"/><line x1=\"455.0\" y1=\"154.737\" x2=\"510.0\" y2=\"140.0\" stroke-linecap=\"round\" style=\"stroke:white;stroke-width:4\"/><line x1=\"510.0\" y1=\"140.0\" x2=\"565.0\" y2=\"154.737\" stroke-linecap=\"round\" style=\"stroke:white;stroke-width:4\"/><line x1=\"565.0\" y1=\"154.737\" x2=\"605.263\" y2=\"195.0\" stroke-linecap=\"round\" style=\"stroke:white;stroke-width:4\"/><line x1=\"605.263\" y1=\"195.0\" x2=\"620.0\" y2=\"250.0\" stroke-linecap=\"round\" style=\"stroke:white;stroke-width:4\"/><line x1=\"620.0\" y1=\"250.0\" x2=\"605.263\" y2=\"305.0\" stroke-linecap=\"round\" style=\"stroke:white;stroke-width:4\"/><line x1=\"605.263\" y1=\"305.0\" x2=\"565.0\" y2=\"345.263\" stroke-linecap=\"round\" style=\"stroke:white;stroke-width:4\"/><line x1=\"565.0\" y1=\"345.263\" x2=\"510.0\" y2=\"360.0\" stroke-linecap=\"round\" style=\"stroke:white;stroke-width:4\"/><line x1=\"510.0\" y1=\"360.0\" x2=\"455.0\" y2=\"345.263\" stroke-linecap=\"round\" style=\"stroke:white;stroke-width:4\"/><line x1=\"455.0\" y1=\"345.263\" x2=\"414.737\" y2=\"305.0\" stroke-linecap=\"round\" style=\"stroke:white;stroke-width:4\"/><line x1=\"414.737\" y1=\"305.0\" x2=\"400.0\" y2=\"250.0\" stroke-linecap=\"round\" style=\"stroke:white;stroke-width:4\"/>\n",
              "        <g visibility=visible transform=\"rotate(360.0,400.0,250.0) translate(382.0, 232.0)\">\n",
              "<path style=\" stroke:none;fill-rule:evenodd;fill:white;fill-opacity:1;\" d=\"M 18.214844 0.632812 C 16.109375 1.800781 15.011719 4.074219 15.074219 7.132812 L 15.085938 7.652344 L 14.785156 7.496094 C 13.476562 6.824219 11.957031 6.671875 10.40625 7.066406 C 8.46875 7.550781 6.515625 9.15625 4.394531 11.992188 C 3.0625 13.777344 2.679688 14.636719 3.042969 15.027344 L 3.15625 15.152344 L 3.519531 15.152344 C 4.238281 15.152344 4.828125 14.886719 8.1875 13.039062 C 9.386719 12.378906 10.371094 11.839844 10.378906 11.839844 C 10.386719 11.839844 10.355469 11.929688 10.304688 12.035156 C 9.832031 13.09375 9.257812 14.820312 8.96875 16.078125 C 7.914062 20.652344 8.617188 24.53125 11.070312 27.660156 C 11.351562 28.015625 11.363281 27.914062 10.972656 28.382812 C 8.925781 30.84375 7.945312 33.28125 8.238281 35.1875 C 8.289062 35.527344 8.28125 35.523438 8.917969 35.523438 C 10.941406 35.523438 13.074219 34.207031 15.136719 31.6875 C 15.359375 31.417969 15.328125 31.425781 15.5625 31.574219 C 16.292969 32.042969 18.023438 32.964844 18.175781 32.964844 C 18.335938 32.964844 19.941406 32.210938 20.828125 31.71875 C 20.996094 31.625 21.136719 31.554688 21.136719 31.558594 C 21.203125 31.664062 21.898438 32.414062 22.222656 32.730469 C 23.835938 34.300781 25.5625 35.132812 27.582031 35.300781 C 27.90625 35.328125 27.9375 35.308594 28.007812 34.984375 C 28.382812 33.242188 27.625 30.925781 25.863281 28.425781 L 25.542969 27.96875 L 25.699219 27.785156 C 28.945312 23.960938 29.132812 18.699219 26.257812 11.96875 L 26.207031 11.84375 L 27.945312 12.703125 C 31.53125 14.476562 32.316406 14.800781 33.03125 14.800781 C 33.976562 14.800781 33.78125 13.9375 32.472656 12.292969 C 28.519531 7.355469 25.394531 5.925781 21.921875 7.472656 L 21.558594 7.636719 L 21.578125 7.542969 C 21.699219 6.992188 21.761719 5.742188 21.699219 5.164062 C 21.496094 3.296875 20.664062 1.964844 19.003906 0.855469 C 18.480469 0.503906 18.457031 0.5 18.214844 0.632812\"/>\n",
              "</g>\n",
              "      </svg>\n",
              "    "
            ],
            "text/plain": [
              "<IPython.core.display.HTML object>"
            ]
          },
          "metadata": {}
        }
      ]
    },
    {
      "cell_type": "markdown",
      "source": [
        "**Упражнение №12: пружина**\n",
        "\n",
        "Нарисуйте пружину. Используйте функцию, рисующую дугу."
      ],
      "metadata": {
        "id": "jM-PX4Ozv9sv"
      }
    },
    {
      "cell_type": "code",
      "source": [
        "def arc(radius):\n",
        "  number_of_lines = 8\n",
        "  number_of_angles_in_whole_poligon = number_of_lines * 2\n",
        "  angle = 360 / number_of_angles_in_whole_poligon\n",
        "  length_of_this_polygon = radius * 2 * math.sin(math.pi/(2 * number_of_lines))\n",
        "  right(angle/2)\n",
        "  for i in range(number_of_lines-1):\n",
        "    forward(length_of_this_polygon)\n",
        "    right(angle)\n",
        "  forward(length_of_this_polygon)\n",
        "  right(angle/2)\n",
        "    \n",
        "\n",
        "\n",
        "\n",
        "initializeTurtle()\n",
        "penup()\n",
        "goto(20, 250)\n",
        "pendown()\n",
        "for i in range(4):\n",
        "  arc(100)\n",
        "  arc(20)"
      ],
      "metadata": {
        "id": "jBueXLrSwHuV",
        "colab": {
          "base_uri": "https://localhost:8080/"
        },
        "outputId": "257efbbc-69de-4f49-e300-4d7c1628ebdd"
      },
      "execution_count": null,
      "outputs": [
        {
          "output_type": "display_data",
          "data": {
            "text/html": [
              "\n",
              "      <svg width=\"800\" height=\"500\">\n",
              "        <rect width=\"100%\" height=\"100%\" fill=\"black\"/>\n",
              "        <line x1=\"20\" y1=\"250\" x2=\"27.612\" y2=\"211.732\" stroke-linecap=\"round\" style=\"stroke:white;stroke-width:4\"/><line x1=\"27.612\" y1=\"211.732\" x2=\"49.289\" y2=\"179.29\" stroke-linecap=\"round\" style=\"stroke:white;stroke-width:4\"/><line x1=\"49.289\" y1=\"179.29\" x2=\"81.731\" y2=\"157.613\" stroke-linecap=\"round\" style=\"stroke:white;stroke-width:4\"/><line x1=\"81.731\" y1=\"157.613\" x2=\"119.999\" y2=\"150.001\" stroke-linecap=\"round\" style=\"stroke:white;stroke-width:4\"/><line x1=\"119.999\" y1=\"150.001\" x2=\"158.267\" y2=\"157.613\" stroke-linecap=\"round\" style=\"stroke:white;stroke-width:4\"/><line x1=\"158.267\" y1=\"157.613\" x2=\"190.709\" y2=\"179.29\" stroke-linecap=\"round\" style=\"stroke:white;stroke-width:4\"/><line x1=\"190.709\" y1=\"179.29\" x2=\"212.386\" y2=\"211.732\" stroke-linecap=\"round\" style=\"stroke:white;stroke-width:4\"/><line x1=\"212.386\" y1=\"211.732\" x2=\"219.998\" y2=\"250.0\" stroke-linecap=\"round\" style=\"stroke:white;stroke-width:4\"/><line x1=\"219.998\" y1=\"250.0\" x2=\"218.476\" y2=\"257.654\" stroke-linecap=\"round\" style=\"stroke:white;stroke-width:4\"/><line x1=\"218.476\" y1=\"257.654\" x2=\"214.141\" y2=\"264.142\" stroke-linecap=\"round\" style=\"stroke:white;stroke-width:4\"/><line x1=\"214.141\" y1=\"264.142\" x2=\"207.653\" y2=\"268.477\" stroke-linecap=\"round\" style=\"stroke:white;stroke-width:4\"/><line x1=\"207.653\" y1=\"268.477\" x2=\"199.999\" y2=\"269.999\" stroke-linecap=\"round\" style=\"stroke:white;stroke-width:4\"/><line x1=\"199.999\" y1=\"269.999\" x2=\"192.345\" y2=\"268.477\" stroke-linecap=\"round\" style=\"stroke:white;stroke-width:4\"/><line x1=\"192.345\" y1=\"268.477\" x2=\"185.857\" y2=\"264.142\" stroke-linecap=\"round\" style=\"stroke:white;stroke-width:4\"/><line x1=\"185.857\" y1=\"264.142\" x2=\"181.522\" y2=\"257.654\" stroke-linecap=\"round\" style=\"stroke:white;stroke-width:4\"/><line x1=\"181.522\" y1=\"257.654\" x2=\"180.0\" y2=\"250.0\" stroke-linecap=\"round\" style=\"stroke:white;stroke-width:4\"/><line x1=\"180.0\" y1=\"250.0\" x2=\"187.612\" y2=\"211.732\" stroke-linecap=\"round\" style=\"stroke:white;stroke-width:4\"/><line x1=\"187.612\" y1=\"211.732\" x2=\"209.289\" y2=\"179.29\" stroke-linecap=\"round\" style=\"stroke:white;stroke-width:4\"/><line x1=\"209.289\" y1=\"179.29\" x2=\"241.731\" y2=\"157.613\" stroke-linecap=\"round\" style=\"stroke:white;stroke-width:4\"/><line x1=\"241.731\" y1=\"157.613\" x2=\"279.999\" y2=\"150.001\" stroke-linecap=\"round\" style=\"stroke:white;stroke-width:4\"/><line x1=\"279.999\" y1=\"150.001\" x2=\"318.267\" y2=\"157.613\" stroke-linecap=\"round\" style=\"stroke:white;stroke-width:4\"/><line x1=\"318.267\" y1=\"157.613\" x2=\"350.709\" y2=\"179.29\" stroke-linecap=\"round\" style=\"stroke:white;stroke-width:4\"/><line x1=\"350.709\" y1=\"179.29\" x2=\"372.386\" y2=\"211.732\" stroke-linecap=\"round\" style=\"stroke:white;stroke-width:4\"/><line x1=\"372.386\" y1=\"211.732\" x2=\"379.998\" y2=\"250.0\" stroke-linecap=\"round\" style=\"stroke:white;stroke-width:4\"/><line x1=\"379.998\" y1=\"250.0\" x2=\"378.476\" y2=\"257.654\" stroke-linecap=\"round\" style=\"stroke:white;stroke-width:4\"/><line x1=\"378.476\" y1=\"257.654\" x2=\"374.141\" y2=\"264.142\" stroke-linecap=\"round\" style=\"stroke:white;stroke-width:4\"/><line x1=\"374.141\" y1=\"264.142\" x2=\"367.653\" y2=\"268.477\" stroke-linecap=\"round\" style=\"stroke:white;stroke-width:4\"/><line x1=\"367.653\" y1=\"268.477\" x2=\"359.999\" y2=\"269.999\" stroke-linecap=\"round\" style=\"stroke:white;stroke-width:4\"/><line x1=\"359.999\" y1=\"269.999\" x2=\"352.345\" y2=\"268.477\" stroke-linecap=\"round\" style=\"stroke:white;stroke-width:4\"/><line x1=\"352.345\" y1=\"268.477\" x2=\"345.857\" y2=\"264.142\" stroke-linecap=\"round\" style=\"stroke:white;stroke-width:4\"/><line x1=\"345.857\" y1=\"264.142\" x2=\"341.522\" y2=\"257.654\" stroke-linecap=\"round\" style=\"stroke:white;stroke-width:4\"/><line x1=\"341.522\" y1=\"257.654\" x2=\"340.0\" y2=\"250.0\" stroke-linecap=\"round\" style=\"stroke:white;stroke-width:4\"/><line x1=\"340.0\" y1=\"250.0\" x2=\"347.612\" y2=\"211.732\" stroke-linecap=\"round\" style=\"stroke:white;stroke-width:4\"/><line x1=\"347.612\" y1=\"211.732\" x2=\"369.289\" y2=\"179.29\" stroke-linecap=\"round\" style=\"stroke:white;stroke-width:4\"/><line x1=\"369.289\" y1=\"179.29\" x2=\"401.731\" y2=\"157.613\" stroke-linecap=\"round\" style=\"stroke:white;stroke-width:4\"/><line x1=\"401.731\" y1=\"157.613\" x2=\"439.999\" y2=\"150.001\" stroke-linecap=\"round\" style=\"stroke:white;stroke-width:4\"/><line x1=\"439.999\" y1=\"150.001\" x2=\"478.267\" y2=\"157.613\" stroke-linecap=\"round\" style=\"stroke:white;stroke-width:4\"/><line x1=\"478.267\" y1=\"157.613\" x2=\"510.709\" y2=\"179.29\" stroke-linecap=\"round\" style=\"stroke:white;stroke-width:4\"/><line x1=\"510.709\" y1=\"179.29\" x2=\"532.386\" y2=\"211.732\" stroke-linecap=\"round\" style=\"stroke:white;stroke-width:4\"/><line x1=\"532.386\" y1=\"211.732\" x2=\"539.998\" y2=\"250.0\" stroke-linecap=\"round\" style=\"stroke:white;stroke-width:4\"/><line x1=\"539.998\" y1=\"250.0\" x2=\"538.476\" y2=\"257.654\" stroke-linecap=\"round\" style=\"stroke:white;stroke-width:4\"/><line x1=\"538.476\" y1=\"257.654\" x2=\"534.141\" y2=\"264.142\" stroke-linecap=\"round\" style=\"stroke:white;stroke-width:4\"/><line x1=\"534.141\" y1=\"264.142\" x2=\"527.653\" y2=\"268.477\" stroke-linecap=\"round\" style=\"stroke:white;stroke-width:4\"/><line x1=\"527.653\" y1=\"268.477\" x2=\"519.999\" y2=\"269.999\" stroke-linecap=\"round\" style=\"stroke:white;stroke-width:4\"/><line x1=\"519.999\" y1=\"269.999\" x2=\"512.345\" y2=\"268.477\" stroke-linecap=\"round\" style=\"stroke:white;stroke-width:4\"/><line x1=\"512.345\" y1=\"268.477\" x2=\"505.857\" y2=\"264.142\" stroke-linecap=\"round\" style=\"stroke:white;stroke-width:4\"/><line x1=\"505.857\" y1=\"264.142\" x2=\"501.522\" y2=\"257.654\" stroke-linecap=\"round\" style=\"stroke:white;stroke-width:4\"/><line x1=\"501.522\" y1=\"257.654\" x2=\"500.0\" y2=\"250.0\" stroke-linecap=\"round\" style=\"stroke:white;stroke-width:4\"/><line x1=\"500.0\" y1=\"250.0\" x2=\"507.612\" y2=\"211.732\" stroke-linecap=\"round\" style=\"stroke:white;stroke-width:4\"/><line x1=\"507.612\" y1=\"211.732\" x2=\"529.289\" y2=\"179.29\" stroke-linecap=\"round\" style=\"stroke:white;stroke-width:4\"/><line x1=\"529.289\" y1=\"179.29\" x2=\"561.731\" y2=\"157.613\" stroke-linecap=\"round\" style=\"stroke:white;stroke-width:4\"/><line x1=\"561.731\" y1=\"157.613\" x2=\"599.999\" y2=\"150.001\" stroke-linecap=\"round\" style=\"stroke:white;stroke-width:4\"/><line x1=\"599.999\" y1=\"150.001\" x2=\"638.267\" y2=\"157.613\" stroke-linecap=\"round\" style=\"stroke:white;stroke-width:4\"/><line x1=\"638.267\" y1=\"157.613\" x2=\"670.709\" y2=\"179.29\" stroke-linecap=\"round\" style=\"stroke:white;stroke-width:4\"/><line x1=\"670.709\" y1=\"179.29\" x2=\"692.386\" y2=\"211.732\" stroke-linecap=\"round\" style=\"stroke:white;stroke-width:4\"/><line x1=\"692.386\" y1=\"211.732\" x2=\"699.998\" y2=\"250.0\" stroke-linecap=\"round\" style=\"stroke:white;stroke-width:4\"/><line x1=\"699.998\" y1=\"250.0\" x2=\"698.476\" y2=\"257.654\" stroke-linecap=\"round\" style=\"stroke:white;stroke-width:4\"/><line x1=\"698.476\" y1=\"257.654\" x2=\"694.141\" y2=\"264.142\" stroke-linecap=\"round\" style=\"stroke:white;stroke-width:4\"/><line x1=\"694.141\" y1=\"264.142\" x2=\"687.653\" y2=\"268.477\" stroke-linecap=\"round\" style=\"stroke:white;stroke-width:4\"/><line x1=\"687.653\" y1=\"268.477\" x2=\"679.999\" y2=\"269.999\" stroke-linecap=\"round\" style=\"stroke:white;stroke-width:4\"/><line x1=\"679.999\" y1=\"269.999\" x2=\"672.345\" y2=\"268.477\" stroke-linecap=\"round\" style=\"stroke:white;stroke-width:4\"/><line x1=\"672.345\" y1=\"268.477\" x2=\"665.857\" y2=\"264.142\" stroke-linecap=\"round\" style=\"stroke:white;stroke-width:4\"/><line x1=\"665.857\" y1=\"264.142\" x2=\"661.522\" y2=\"257.654\" stroke-linecap=\"round\" style=\"stroke:white;stroke-width:4\"/><line x1=\"661.522\" y1=\"257.654\" x2=\"660.0\" y2=\"250.0\" stroke-linecap=\"round\" style=\"stroke:white;stroke-width:4\"/>\n",
              "        <g visibility=visible transform=\"rotate(360.0,660.0,250.0) translate(642.0, 232.0)\">\n",
              "<path style=\" stroke:none;fill-rule:evenodd;fill:white;fill-opacity:1;\" d=\"M 18.214844 0.632812 C 16.109375 1.800781 15.011719 4.074219 15.074219 7.132812 L 15.085938 7.652344 L 14.785156 7.496094 C 13.476562 6.824219 11.957031 6.671875 10.40625 7.066406 C 8.46875 7.550781 6.515625 9.15625 4.394531 11.992188 C 3.0625 13.777344 2.679688 14.636719 3.042969 15.027344 L 3.15625 15.152344 L 3.519531 15.152344 C 4.238281 15.152344 4.828125 14.886719 8.1875 13.039062 C 9.386719 12.378906 10.371094 11.839844 10.378906 11.839844 C 10.386719 11.839844 10.355469 11.929688 10.304688 12.035156 C 9.832031 13.09375 9.257812 14.820312 8.96875 16.078125 C 7.914062 20.652344 8.617188 24.53125 11.070312 27.660156 C 11.351562 28.015625 11.363281 27.914062 10.972656 28.382812 C 8.925781 30.84375 7.945312 33.28125 8.238281 35.1875 C 8.289062 35.527344 8.28125 35.523438 8.917969 35.523438 C 10.941406 35.523438 13.074219 34.207031 15.136719 31.6875 C 15.359375 31.417969 15.328125 31.425781 15.5625 31.574219 C 16.292969 32.042969 18.023438 32.964844 18.175781 32.964844 C 18.335938 32.964844 19.941406 32.210938 20.828125 31.71875 C 20.996094 31.625 21.136719 31.554688 21.136719 31.558594 C 21.203125 31.664062 21.898438 32.414062 22.222656 32.730469 C 23.835938 34.300781 25.5625 35.132812 27.582031 35.300781 C 27.90625 35.328125 27.9375 35.308594 28.007812 34.984375 C 28.382812 33.242188 27.625 30.925781 25.863281 28.425781 L 25.542969 27.96875 L 25.699219 27.785156 C 28.945312 23.960938 29.132812 18.699219 26.257812 11.96875 L 26.207031 11.84375 L 27.945312 12.703125 C 31.53125 14.476562 32.316406 14.800781 33.03125 14.800781 C 33.976562 14.800781 33.78125 13.9375 32.472656 12.292969 C 28.519531 7.355469 25.394531 5.925781 21.921875 7.472656 L 21.558594 7.636719 L 21.578125 7.542969 C 21.699219 6.992188 21.761719 5.742188 21.699219 5.164062 C 21.496094 3.296875 20.664062 1.964844 19.003906 0.855469 C 18.480469 0.503906 18.457031 0.5 18.214844 0.632812\"/>\n",
              "</g>\n",
              "      </svg>\n",
              "    "
            ],
            "text/plain": [
              "<IPython.core.display.HTML object>"
            ]
          },
          "metadata": {}
        }
      ]
    },
    {
      "cell_type": "markdown",
      "source": [
        "**Упражнение №13: смайлик**\n",
        "\n",
        "Нарисуйте смайлик с помощью написанных функций рисования круга и дуги. Не нашёд аналог fill в данной версии черепашки."
      ],
      "metadata": {
        "id": "Rl6Fax5n21HW"
      }
    },
    {
      "cell_type": "code",
      "source": [
        "initializeTurtle()\n",
        "\n",
        "penup()\n",
        "goto(600, 250)\n",
        "pendown()\n",
        "color('yellow')\n",
        "double_circle(200, double=False)\n",
        "penup()\n",
        "color('blue')\n",
        "goto(350, 175)\n",
        "pendown()\n",
        "double_circle(30, double=False)\n",
        "penup()\n",
        "goto(510, 175)\n",
        "pendown()\n",
        "double_circle(30, double=False)\n",
        "penup()\n",
        "goto(400, 150)\n",
        "pendown()\n",
        "color('red')\n",
        "backward(100)\n",
        "penup()\n",
        "goto(550, 250)\n",
        "pendown()\n",
        "left(180)\n",
        "arc(150)"
      ],
      "metadata": {
        "id": "_SUjHHho24he",
        "colab": {
          "base_uri": "https://localhost:8080/"
        },
        "outputId": "91a47241-fde8-4941-d0f4-4ce2d2261f66"
      },
      "execution_count": null,
      "outputs": [
        {
          "output_type": "display_data",
          "data": {
            "text/html": [
              "\n",
              "      <svg width=\"800\" height=\"500\">\n",
              "        <rect width=\"100%\" height=\"100%\" fill=\"black\"/>\n",
              "        <line x1=\"600\" y1=\"250\" x2=\"573.205\" y2=\"150.0\" stroke-linecap=\"round\" style=\"stroke:yellow;stroke-width:4\"/><line x1=\"573.205\" y1=\"150.0\" x2=\"500.0\" y2=\"76.795\" stroke-linecap=\"round\" style=\"stroke:yellow;stroke-width:4\"/><line x1=\"500.0\" y1=\"76.795\" x2=\"400.0\" y2=\"50.0\" stroke-linecap=\"round\" style=\"stroke:yellow;stroke-width:4\"/><line x1=\"400.0\" y1=\"50.0\" x2=\"300.0\" y2=\"76.795\" stroke-linecap=\"round\" style=\"stroke:yellow;stroke-width:4\"/><line x1=\"300.0\" y1=\"76.795\" x2=\"226.795\" y2=\"150.0\" stroke-linecap=\"round\" style=\"stroke:yellow;stroke-width:4\"/><line x1=\"226.795\" y1=\"150.0\" x2=\"200.0\" y2=\"250.0\" stroke-linecap=\"round\" style=\"stroke:yellow;stroke-width:4\"/><line x1=\"200.0\" y1=\"250.0\" x2=\"226.795\" y2=\"350.0\" stroke-linecap=\"round\" style=\"stroke:yellow;stroke-width:4\"/><line x1=\"226.795\" y1=\"350.0\" x2=\"300.0\" y2=\"423.205\" stroke-linecap=\"round\" style=\"stroke:yellow;stroke-width:4\"/><line x1=\"300.0\" y1=\"423.205\" x2=\"400.0\" y2=\"450.0\" stroke-linecap=\"round\" style=\"stroke:yellow;stroke-width:4\"/><line x1=\"400.0\" y1=\"450.0\" x2=\"500.0\" y2=\"423.205\" stroke-linecap=\"round\" style=\"stroke:yellow;stroke-width:4\"/><line x1=\"500.0\" y1=\"423.205\" x2=\"573.205\" y2=\"350.0\" stroke-linecap=\"round\" style=\"stroke:yellow;stroke-width:4\"/><line x1=\"573.205\" y1=\"350.0\" x2=\"600.0\" y2=\"250.0\" stroke-linecap=\"round\" style=\"stroke:yellow;stroke-width:4\"/><line x1=\"350\" y1=\"175\" x2=\"345.981\" y2=\"160.0\" stroke-linecap=\"round\" style=\"stroke:blue;stroke-width:4\"/><line x1=\"345.981\" y1=\"160.0\" x2=\"335.0\" y2=\"149.019\" stroke-linecap=\"round\" style=\"stroke:blue;stroke-width:4\"/><line x1=\"335.0\" y1=\"149.019\" x2=\"320.0\" y2=\"145.0\" stroke-linecap=\"round\" style=\"stroke:blue;stroke-width:4\"/><line x1=\"320.0\" y1=\"145.0\" x2=\"305.0\" y2=\"149.019\" stroke-linecap=\"round\" style=\"stroke:blue;stroke-width:4\"/><line x1=\"305.0\" y1=\"149.019\" x2=\"294.019\" y2=\"160.0\" stroke-linecap=\"round\" style=\"stroke:blue;stroke-width:4\"/><line x1=\"294.019\" y1=\"160.0\" x2=\"290.0\" y2=\"175.0\" stroke-linecap=\"round\" style=\"stroke:blue;stroke-width:4\"/><line x1=\"290.0\" y1=\"175.0\" x2=\"294.019\" y2=\"190.0\" stroke-linecap=\"round\" style=\"stroke:blue;stroke-width:4\"/><line x1=\"294.019\" y1=\"190.0\" x2=\"305.0\" y2=\"200.981\" stroke-linecap=\"round\" style=\"stroke:blue;stroke-width:4\"/><line x1=\"305.0\" y1=\"200.981\" x2=\"320.0\" y2=\"205.0\" stroke-linecap=\"round\" style=\"stroke:blue;stroke-width:4\"/><line x1=\"320.0\" y1=\"205.0\" x2=\"335.0\" y2=\"200.981\" stroke-linecap=\"round\" style=\"stroke:blue;stroke-width:4\"/><line x1=\"335.0\" y1=\"200.981\" x2=\"345.981\" y2=\"190.0\" stroke-linecap=\"round\" style=\"stroke:blue;stroke-width:4\"/><line x1=\"345.981\" y1=\"190.0\" x2=\"350.0\" y2=\"175.0\" stroke-linecap=\"round\" style=\"stroke:blue;stroke-width:4\"/><line x1=\"510\" y1=\"175\" x2=\"505.981\" y2=\"160.0\" stroke-linecap=\"round\" style=\"stroke:blue;stroke-width:4\"/><line x1=\"505.981\" y1=\"160.0\" x2=\"495.0\" y2=\"149.019\" stroke-linecap=\"round\" style=\"stroke:blue;stroke-width:4\"/><line x1=\"495.0\" y1=\"149.019\" x2=\"480.0\" y2=\"145.0\" stroke-linecap=\"round\" style=\"stroke:blue;stroke-width:4\"/><line x1=\"480.0\" y1=\"145.0\" x2=\"465.0\" y2=\"149.019\" stroke-linecap=\"round\" style=\"stroke:blue;stroke-width:4\"/><line x1=\"465.0\" y1=\"149.019\" x2=\"454.019\" y2=\"160.0\" stroke-linecap=\"round\" style=\"stroke:blue;stroke-width:4\"/><line x1=\"454.019\" y1=\"160.0\" x2=\"450.0\" y2=\"175.0\" stroke-linecap=\"round\" style=\"stroke:blue;stroke-width:4\"/><line x1=\"450.0\" y1=\"175.0\" x2=\"454.019\" y2=\"190.0\" stroke-linecap=\"round\" style=\"stroke:blue;stroke-width:4\"/><line x1=\"454.019\" y1=\"190.0\" x2=\"465.0\" y2=\"200.981\" stroke-linecap=\"round\" style=\"stroke:blue;stroke-width:4\"/><line x1=\"465.0\" y1=\"200.981\" x2=\"480.0\" y2=\"205.0\" stroke-linecap=\"round\" style=\"stroke:blue;stroke-width:4\"/><line x1=\"480.0\" y1=\"205.0\" x2=\"495.0\" y2=\"200.981\" stroke-linecap=\"round\" style=\"stroke:blue;stroke-width:4\"/><line x1=\"495.0\" y1=\"200.981\" x2=\"505.981\" y2=\"190.0\" stroke-linecap=\"round\" style=\"stroke:blue;stroke-width:4\"/><line x1=\"505.981\" y1=\"190.0\" x2=\"510.0\" y2=\"175.0\" stroke-linecap=\"round\" style=\"stroke:blue;stroke-width:4\"/><line x1=\"400\" y1=\"150\" x2=\"400.0\" y2=\"250.0\" stroke-linecap=\"round\" style=\"stroke:red;stroke-width:4\"/><line x1=\"550\" y1=\"250\" x2=\"538.582\" y2=\"307.403\" stroke-linecap=\"round\" style=\"stroke:red;stroke-width:4\"/><line x1=\"538.582\" y1=\"307.403\" x2=\"506.066\" y2=\"356.067\" stroke-linecap=\"round\" style=\"stroke:red;stroke-width:4\"/><line x1=\"506.066\" y1=\"356.067\" x2=\"457.402\" y2=\"388.583\" stroke-linecap=\"round\" style=\"stroke:red;stroke-width:4\"/><line x1=\"457.402\" y1=\"388.583\" x2=\"399.999\" y2=\"400.001\" stroke-linecap=\"round\" style=\"stroke:red;stroke-width:4\"/><line x1=\"399.999\" y1=\"400.001\" x2=\"342.596\" y2=\"388.583\" stroke-linecap=\"round\" style=\"stroke:red;stroke-width:4\"/><line x1=\"342.596\" y1=\"388.583\" x2=\"293.932\" y2=\"356.067\" stroke-linecap=\"round\" style=\"stroke:red;stroke-width:4\"/><line x1=\"293.932\" y1=\"356.067\" x2=\"261.416\" y2=\"307.403\" stroke-linecap=\"round\" style=\"stroke:red;stroke-width:4\"/><line x1=\"261.416\" y1=\"307.403\" x2=\"249.998\" y2=\"250.0\" stroke-linecap=\"round\" style=\"stroke:red;stroke-width:4\"/>\n",
              "        <g visibility=visible transform=\"rotate(360.0,249.998,250.0) translate(231.998, 232.0)\">\n",
              "<path style=\" stroke:none;fill-rule:evenodd;fill:red;fill-opacity:1;\" d=\"M 18.214844 0.632812 C 16.109375 1.800781 15.011719 4.074219 15.074219 7.132812 L 15.085938 7.652344 L 14.785156 7.496094 C 13.476562 6.824219 11.957031 6.671875 10.40625 7.066406 C 8.46875 7.550781 6.515625 9.15625 4.394531 11.992188 C 3.0625 13.777344 2.679688 14.636719 3.042969 15.027344 L 3.15625 15.152344 L 3.519531 15.152344 C 4.238281 15.152344 4.828125 14.886719 8.1875 13.039062 C 9.386719 12.378906 10.371094 11.839844 10.378906 11.839844 C 10.386719 11.839844 10.355469 11.929688 10.304688 12.035156 C 9.832031 13.09375 9.257812 14.820312 8.96875 16.078125 C 7.914062 20.652344 8.617188 24.53125 11.070312 27.660156 C 11.351562 28.015625 11.363281 27.914062 10.972656 28.382812 C 8.925781 30.84375 7.945312 33.28125 8.238281 35.1875 C 8.289062 35.527344 8.28125 35.523438 8.917969 35.523438 C 10.941406 35.523438 13.074219 34.207031 15.136719 31.6875 C 15.359375 31.417969 15.328125 31.425781 15.5625 31.574219 C 16.292969 32.042969 18.023438 32.964844 18.175781 32.964844 C 18.335938 32.964844 19.941406 32.210938 20.828125 31.71875 C 20.996094 31.625 21.136719 31.554688 21.136719 31.558594 C 21.203125 31.664062 21.898438 32.414062 22.222656 32.730469 C 23.835938 34.300781 25.5625 35.132812 27.582031 35.300781 C 27.90625 35.328125 27.9375 35.308594 28.007812 34.984375 C 28.382812 33.242188 27.625 30.925781 25.863281 28.425781 L 25.542969 27.96875 L 25.699219 27.785156 C 28.945312 23.960938 29.132812 18.699219 26.257812 11.96875 L 26.207031 11.84375 L 27.945312 12.703125 C 31.53125 14.476562 32.316406 14.800781 33.03125 14.800781 C 33.976562 14.800781 33.78125 13.9375 32.472656 12.292969 C 28.519531 7.355469 25.394531 5.925781 21.921875 7.472656 L 21.558594 7.636719 L 21.578125 7.542969 C 21.699219 6.992188 21.761719 5.742188 21.699219 5.164062 C 21.496094 3.296875 20.664062 1.964844 19.003906 0.855469 C 18.480469 0.503906 18.457031 0.5 18.214844 0.632812\"/>\n",
              "</g>\n",
              "      </svg>\n",
              "    "
            ],
            "text/plain": [
              "<IPython.core.display.HTML object>"
            ]
          },
          "metadata": {}
        }
      ]
    },
    {
      "cell_type": "markdown",
      "source": [
        "**Упражнение №14: звезды**\n",
        "\n",
        "Нарисуйте две звезды: одну с 5 вершинами, другую — с 11. Используйте функцию, рисующую звезду с n вершинами."
      ],
      "metadata": {
        "id": "wneb2tPR9c0v"
      }
    },
    {
      "cell_type": "code",
      "source": [
        "def star(radius, n):\n",
        "  penup()\n",
        "  goto(getx(), gety() - radius/2)\n",
        "  pendown()\n",
        "  length = radius * 4 * math.sin(math.pi/n)\n",
        "  \n",
        "  left(180 - 180/(2*n))\n",
        "  if n%2 == 1:\n",
        "    angle = 180 - 180/n\n",
        "    for i in range(n):\n",
        "      forward(length)\n",
        "      left(angle)\n",
        "  else:\n",
        "    angle = 180 - 360/n\n",
        "    for i in range(n):\n",
        "      forward(length)\n",
        "      left(angle)\n",
        "\n",
        "initializeTurtle()\n",
        "n = 11\n",
        "radius = 250\n",
        "star(radius, n)\n"
      ],
      "metadata": {
        "id": "qQYZTp_l9i_9",
        "colab": {
          "base_uri": "https://localhost:8080/"
        },
        "outputId": "b106b20b-e312-40de-afc5-f67af7311f3e"
      },
      "execution_count": null,
      "outputs": [
        {
          "output_type": "display_data",
          "data": {
            "text/html": [
              "\n",
              "      <svg width=\"800\" height=\"500\">\n",
              "        <rect width=\"100%\" height=\"100%\" fill=\"black\"/>\n",
              "        <line x1=\"400\" y1=\"125.0\" x2=\"359.905\" y2=\"403.865\" stroke-linecap=\"round\" style=\"stroke:white;stroke-width:4\"/><line x1=\"359.905\" y1=\"403.865\" x2=\"476.941\" y2=\"147.592\" stroke-linecap=\"round\" style=\"stroke:white;stroke-width:4\"/><line x1=\"476.941\" y1=\"147.592\" x2=\"292.445\" y2=\"360.511\" stroke-linecap=\"round\" style=\"stroke:white;stroke-width:4\"/><line x1=\"292.445\" y1=\"360.511\" x2=\"529.454\" y2=\"208.195\" stroke-linecap=\"round\" style=\"stroke:white;stroke-width:4\"/><line x1=\"529.454\" y1=\"208.195\" x2=\"259.134\" y2=\"287.568\" stroke-linecap=\"round\" style=\"stroke:white;stroke-width:4\"/><line x1=\"259.134\" y1=\"287.568\" x2=\"540.867\" y2=\"287.568\" stroke-linecap=\"round\" style=\"stroke:white;stroke-width:4\"/><line x1=\"540.867\" y1=\"287.568\" x2=\"270.547\" y2=\"208.195\" stroke-linecap=\"round\" style=\"stroke:white;stroke-width:4\"/><line x1=\"270.547\" y1=\"208.195\" x2=\"507.556\" y2=\"360.511\" stroke-linecap=\"round\" style=\"stroke:white;stroke-width:4\"/><line x1=\"507.556\" y1=\"360.511\" x2=\"323.06\" y2=\"147.592\" stroke-linecap=\"round\" style=\"stroke:white;stroke-width:4\"/><line x1=\"323.06\" y1=\"147.592\" x2=\"440.096\" y2=\"403.865\" stroke-linecap=\"round\" style=\"stroke:white;stroke-width:4\"/><line x1=\"440.096\" y1=\"403.865\" x2=\"400.001\" y2=\"125.0\" stroke-linecap=\"round\" style=\"stroke:white;stroke-width:4\"/>\n",
              "        <g visibility=visible transform=\"rotate(188.1818181818183,400.001,125.0) translate(382.001, 107.0)\">\n",
              "<path style=\" stroke:none;fill-rule:evenodd;fill:white;fill-opacity:1;\" d=\"M 18.214844 0.632812 C 16.109375 1.800781 15.011719 4.074219 15.074219 7.132812 L 15.085938 7.652344 L 14.785156 7.496094 C 13.476562 6.824219 11.957031 6.671875 10.40625 7.066406 C 8.46875 7.550781 6.515625 9.15625 4.394531 11.992188 C 3.0625 13.777344 2.679688 14.636719 3.042969 15.027344 L 3.15625 15.152344 L 3.519531 15.152344 C 4.238281 15.152344 4.828125 14.886719 8.1875 13.039062 C 9.386719 12.378906 10.371094 11.839844 10.378906 11.839844 C 10.386719 11.839844 10.355469 11.929688 10.304688 12.035156 C 9.832031 13.09375 9.257812 14.820312 8.96875 16.078125 C 7.914062 20.652344 8.617188 24.53125 11.070312 27.660156 C 11.351562 28.015625 11.363281 27.914062 10.972656 28.382812 C 8.925781 30.84375 7.945312 33.28125 8.238281 35.1875 C 8.289062 35.527344 8.28125 35.523438 8.917969 35.523438 C 10.941406 35.523438 13.074219 34.207031 15.136719 31.6875 C 15.359375 31.417969 15.328125 31.425781 15.5625 31.574219 C 16.292969 32.042969 18.023438 32.964844 18.175781 32.964844 C 18.335938 32.964844 19.941406 32.210938 20.828125 31.71875 C 20.996094 31.625 21.136719 31.554688 21.136719 31.558594 C 21.203125 31.664062 21.898438 32.414062 22.222656 32.730469 C 23.835938 34.300781 25.5625 35.132812 27.582031 35.300781 C 27.90625 35.328125 27.9375 35.308594 28.007812 34.984375 C 28.382812 33.242188 27.625 30.925781 25.863281 28.425781 L 25.542969 27.96875 L 25.699219 27.785156 C 28.945312 23.960938 29.132812 18.699219 26.257812 11.96875 L 26.207031 11.84375 L 27.945312 12.703125 C 31.53125 14.476562 32.316406 14.800781 33.03125 14.800781 C 33.976562 14.800781 33.78125 13.9375 32.472656 12.292969 C 28.519531 7.355469 25.394531 5.925781 21.921875 7.472656 L 21.558594 7.636719 L 21.578125 7.542969 C 21.699219 6.992188 21.761719 5.742188 21.699219 5.164062 C 21.496094 3.296875 20.664062 1.964844 19.003906 0.855469 C 18.480469 0.503906 18.457031 0.5 18.214844 0.632812\"/>\n",
              "</g>\n",
              "      </svg>\n",
              "    "
            ],
            "text/plain": [
              "<IPython.core.display.HTML object>"
            ]
          },
          "metadata": {}
        }
      ]
    },
    {
      "cell_type": "markdown",
      "source": [
        "Про PEP8 помним и стараемся следовать."
      ],
      "metadata": {
        "id": "OPTfg_DJFs8_"
      }
    },
    {
      "cell_type": "markdown",
      "source": [
        "# Практика 2. Робот."
      ],
      "metadata": {
        "id": "6KfTMaVtGZBu"
      }
    },
    {
      "cell_type": "markdown",
      "source": [
        "Решаю задачи через pyCharm, здесь приведу коды tasks после решения.\n",
        "Команда find -type f выдаёт результат не в алфавитом порядке, поэтому решения представлены в разноброс."
      ],
      "metadata": {
        "id": "b56PWPuyxWNn"
      }
    },
    {
      "cell_type": "markdown",
      "source": [
        "\n",
        "\n",
        "```\n",
        "\n",
        "\n",
        " ./task_10.py \n",
        "\n",
        "\n",
        "\n",
        "#!/usr/bin/python3\n",
        "\n",
        "from pyrob.api import *\n",
        "\n",
        "\n",
        "@task\n",
        "def task_8_3():\n",
        "    while not wall_is_on_the_right():\n",
        "        if wall_is_beneath() or wall_is_above():\n",
        "            fill_cell()\n",
        "        move_right()\n",
        "    if wall_is_beneath() or wall_is_above():\n",
        "        fill_cell()\n",
        "\n",
        "\n",
        "if __name__ == '__main__':\n",
        "    run_tasks()\n",
        "\n",
        "\n",
        " ./task_17.py \n",
        "\n",
        "\n",
        "\n",
        "#!/usr/bin/python3\n",
        "\n",
        "from pyrob.api import *\n",
        "\n",
        "\n",
        "@task\n",
        "def task_8_27():\n",
        "    while not cell_is_filled():\n",
        "        move_up()\n",
        "    if not wall_is_on_the_right():\n",
        "        move_right()\n",
        "        if not cell_is_filled():\n",
        "            move_left(2)\n",
        "    else:\n",
        "        move_left()\n",
        "\n",
        "\n",
        "if __name__ == '__main__':\n",
        "    run_tasks()\n",
        "\n",
        "\n",
        " ./task_7.py \n",
        "\n",
        "\n",
        "\n",
        "#!/usr/bin/python3\n",
        "\n",
        "from pyrob.api import *\n",
        "\n",
        "\n",
        "@task\n",
        "def task_5_4():\n",
        "    while not wall_is_beneath():\n",
        "        move_down()\n",
        "    while wall_is_beneath():\n",
        "        move_right()\n",
        "    move_down()\n",
        "    while not wall_is_on_the_left():\n",
        "        move_left()\n",
        "\n",
        "\n",
        "if __name__ == '__main__':\n",
        "    run_tasks()\n",
        "\n",
        "\n",
        " ./task_6.py \n",
        "\n",
        "\n",
        "\n",
        "#!/usr/bin/python3\n",
        "\n",
        "from pyrob.api import *\n",
        "\n",
        "\n",
        "@task\n",
        "def task_5_3():\n",
        "    while not wall_is_beneath():\n",
        "        move_right()\n",
        "    while wall_is_beneath():\n",
        "        move_right()\n",
        "\n",
        "\n",
        "if __name__ == '__main__':\n",
        "    run_tasks()\n",
        "\n",
        "\n",
        " ./task_23.py \n",
        "\n",
        "\n",
        "\n",
        "#!/usr/bin/python3\n",
        "\n",
        "from pyrob.api import *\n",
        "\n",
        "\n",
        "@task(delay=0.01)\n",
        "def task_6_6():\n",
        "    move_right()\n",
        "    n = 1\n",
        "    while not wall_is_on_the_right():\n",
        "        if not wall_is_above():\n",
        "            k = 0\n",
        "            while not wall_is_above():\n",
        "                move_up()\n",
        "                fill_cell()\n",
        "                k += 1\n",
        "            move_down(k)\n",
        "        move_right()\n",
        "        n += 1\n",
        "    if not wall_is_above():\n",
        "        k = 0\n",
        "        while not wall_is_above():\n",
        "            move_up()\n",
        "            fill_cell()\n",
        "            k += 1\n",
        "        move_down(k)\n",
        "    move_left(n)\n",
        "\n",
        "\n",
        "\n",
        "\n",
        "if __name__ == '__main__':\n",
        "    run_tasks()\n",
        "\n",
        "\n",
        " ./task_9.py \n",
        "\n",
        "\n",
        "\n",
        "#!/usr/bin/python3\n",
        "\n",
        "from pyrob.api import *\n",
        "\n",
        "\n",
        "@task\n",
        "def task_8_2():\n",
        "    while not wall_is_on_the_right():\n",
        "        if not wall_is_above():\n",
        "            fill_cell()\n",
        "        move_right()\n",
        "    if not wall_is_above():\n",
        "        fill_cell()\n",
        "\n",
        "\n",
        "if __name__ == '__main__':\n",
        "    run_tasks()\n",
        "\n",
        "\n",
        " ./task_32.py \n",
        "\n",
        "\n",
        "\n",
        "#!/usr/bin/python3\n",
        "\n",
        "from pyrob.api import *\n",
        "\n",
        "\n",
        "@task(delay=0.01)\n",
        "def task_8_18():\n",
        "    c = 0\n",
        "    while wall_is_beneath():\n",
        "        if wall_is_above():\n",
        "            fill_cell()\n",
        "        else:\n",
        "            n = 0\n",
        "            while not wall_is_above():\n",
        "                move_up()\n",
        "                n += 1\n",
        "                if cell_is_filled():\n",
        "                    c += 1\n",
        "                else:\n",
        "                    fill_cell()\n",
        "            move_down(n)\n",
        "        move_right()\n",
        "    mov('ax', c)\n",
        "\n",
        "\n",
        "\n",
        "if __name__ == '__main__':\n",
        "    run_tasks()\n",
        "\n",
        "\n",
        " ./task_21.py \n",
        "\n",
        "\n",
        "\n",
        "#!/usr/bin/python3\n",
        "\n",
        "from pyrob.api import *\n",
        "\n",
        "\n",
        "@task(delay=0.05)\n",
        "def task_4_11():\n",
        "    move_right()\n",
        "    move_down()\n",
        "    for j in range(2, 13, 2):\n",
        "        for i in range(2, j+1):\n",
        "            fill_cell()\n",
        "            move_right()\n",
        "        move_down()\n",
        "        for i in range(2, j+1):\n",
        "            fill_cell()\n",
        "            move_left()\n",
        "        fill_cell()\n",
        "        move_down()\n",
        "    for i in range(2, 14):\n",
        "        fill_cell()\n",
        "        move_right()\n",
        "    fill_cell()\n",
        "    move_down()\n",
        "    move_left(12)\n",
        "\n",
        "\n",
        "if __name__ == '__main__':\n",
        "    run_tasks()\n",
        "\n",
        "\n",
        " ./task_19.py \n",
        "\n",
        "\n",
        "\n",
        "#!/usr/bin/python3\n",
        "\n",
        "from pyrob.api import *\n",
        "\n",
        "\n",
        "@task\n",
        "def task_8_29():\n",
        "    while not wall_is_on_the_left() and wall_is_above():\n",
        "        move_left()\n",
        "    if not wall_is_above():\n",
        "        while not wall_is_above():\n",
        "            move_up()\n",
        "    else:\n",
        "        while not wall_is_on_the_right() and wall_is_above():\n",
        "            move_right()\n",
        "        if not wall_is_above():\n",
        "            move_up()\n",
        "            while not wall_is_on_the_left():\n",
        "                move_left()\n",
        "            while not wall_is_above():\n",
        "                move_up()\n",
        "\n",
        "\n",
        "if __name__ == '__main__':\n",
        "    run_tasks()\n",
        "\n",
        "\n",
        " ./task_16.py \n",
        "\n",
        "\n",
        "\n",
        "#!/usr/bin/python3\n",
        "\n",
        "from pyrob.api import *\n",
        "\n",
        "\n",
        "@task\n",
        "def task_8_22():\n",
        "    while not wall_is_above():\n",
        "        move_up()\n",
        "    if wall_is_on_the_right():\n",
        "        while not wall_is_on_the_left():\n",
        "            move_left()\n",
        "    else:\n",
        "        while not wall_is_on_the_right():\n",
        "            move_right()\n",
        "\n",
        "\n",
        "\n",
        "if __name__ == '__main__':\n",
        "    run_tasks()\n",
        "\n",
        "\n",
        " ./task_2.py \n",
        "\n",
        "\n",
        "\n",
        "#!/usr/bin/python3\n",
        "import task_1\n",
        "from pyrob.api import *\n",
        "\n",
        "\n",
        "@task\n",
        "def task_1_2():\n",
        "    move_right(2)\n",
        "    move_down(2)\n",
        "    fill_cell()\n",
        "    move_right(2)\n",
        "    move_down(1)\n",
        "\n",
        "if __name__ == '__main__':\n",
        "    run_tasks()\n",
        "\n",
        "\n",
        " ./task_31.py \n",
        "\n",
        "\n",
        "\n",
        "#!/usr/bin/python3\n",
        "\n",
        "from pyrob.api import *\n",
        "\n",
        "\n",
        "def jump_down():\n",
        "    while not wall_is_beneath():\n",
        "        move_down()\n",
        "\n",
        "\n",
        "@task(delay=0.01)\n",
        "def task_8_30():\n",
        "    while not wall_is_on_the_left() or not wall_is_beneath():\n",
        "        while not wall_is_on_the_right() and wall_is_beneath():\n",
        "            move_right()\n",
        "        if not wall_is_beneath():\n",
        "            jump_down()\n",
        "        else:\n",
        "            while not wall_is_on_the_left() and wall_is_beneath():\n",
        "                move_left()\n",
        "            if not wall_is_beneath():\n",
        "                jump_down()\n",
        "\n",
        "if __name__ == '__main__':\n",
        "    run_tasks()\n",
        "\n",
        "\n",
        " ./task_24.py \n",
        "\n",
        "\n",
        "\n",
        "#!/usr/bin/python3\n",
        "\n",
        "from pyrob.api import *\n",
        "\n",
        "def crest():\n",
        "    move_right()\n",
        "    fill_cell()\n",
        "    move_down()\n",
        "    fill_cell()\n",
        "    move_right()\n",
        "    fill_cell()\n",
        "    move_down()\n",
        "    move_left()\n",
        "    fill_cell()\n",
        "    move_up()\n",
        "    move_left()\n",
        "    fill_cell()\n",
        "    move_up()\n",
        "\n",
        "\n",
        "@task\n",
        "def task_2_1():\n",
        "    move_right()\n",
        "    move_down()\n",
        "    crest()\n",
        "\n",
        "\n",
        "\n",
        "\n",
        "if __name__ == '__main__':\n",
        "    run_tasks()\n",
        "\n",
        "\n",
        " ./task_5.py \n",
        "\n",
        "\n",
        "\n",
        "#!/usr/bin/python3\n",
        "\n",
        "from pyrob.api import *\n",
        "\n",
        "\n",
        "@task\n",
        "def task_5_2():\n",
        "    while wall_is_beneath():\n",
        "        move_right()\n",
        "\n",
        "\n",
        "\n",
        "if __name__ == '__main__':\n",
        "    run_tasks()\n",
        "\n",
        "\n",
        " ./task_26.py \n",
        "\n",
        "\n",
        "\n",
        "#!/usr/bin/python3\n",
        "\n",
        "from pyrob.api import *\n",
        "\n",
        "def crest():\n",
        "    move_right()\n",
        "    fill_cell()\n",
        "    move_down()\n",
        "    fill_cell()\n",
        "    move_right()\n",
        "    fill_cell()\n",
        "    move_down()\n",
        "    move_left()\n",
        "    fill_cell()\n",
        "    move_up()\n",
        "    move_left()\n",
        "    fill_cell()\n",
        "    move_up()\n",
        "\n",
        "\n",
        "def crest_line():\n",
        "    for i in range(9):\n",
        "        crest()\n",
        "        move_right(4)\n",
        "    crest()\n",
        "\n",
        "\n",
        "@task(delay=0.02)\n",
        "def task_2_4():\n",
        "    for j in range(4):\n",
        "        crest_line()\n",
        "        crest()\n",
        "        move_left(36)\n",
        "        move_down(4)\n",
        "    crest_line()\n",
        "    crest()\n",
        "    move_left(36)\n",
        "\n",
        "\n",
        "if __name__ == '__main__':\n",
        "    run_tasks()\n",
        "\n",
        "\n",
        " ./task_8.py \n",
        "\n",
        "\n",
        "\n",
        "#!/usr/bin/python3\n",
        "\n",
        "from pyrob.api import *\n",
        "\n",
        "\n",
        "@task\n",
        "def task_5_7():\n",
        "    while wall_is_beneath() or wall_is_above():\n",
        "        move_right()\n",
        "\n",
        "\n",
        "if __name__ == '__main__':\n",
        "    run_tasks()\n",
        "\n",
        "\n",
        " ./task_22.py \n",
        "\n",
        "\n",
        "\n",
        "#!/usr/bin/python3\n",
        "\n",
        "from pyrob.api import *\n",
        "\n",
        "\n",
        "@task\n",
        "def task_5_10():\n",
        "    while not wall_is_beneath():\n",
        "        n = 0\n",
        "        while not wall_is_on_the_right():\n",
        "            fill_cell()\n",
        "            move_right()\n",
        "            n += 1\n",
        "        fill_cell()\n",
        "        if n > 0:\n",
        "            move_left(n)\n",
        "        move_down()\n",
        "    n = 0\n",
        "    while not wall_is_on_the_right():\n",
        "        fill_cell()\n",
        "        move_right()\n",
        "        n += 1\n",
        "    fill_cell()\n",
        "    if n> 0:\n",
        "        move_left(n)\n",
        "\n",
        "\n",
        "if __name__ == '__main__':\n",
        "    run_tasks()\n",
        "\n",
        "\n",
        " ./task_4.py \n",
        "\n",
        "\n",
        "\n",
        "#!/usr/bin/python3\n",
        "\n",
        "from pyrob.api import *\n",
        "\n",
        "\n",
        "@task\n",
        "def task_3_3():\n",
        "    if not wall_is_above():\n",
        "        move_up()\n",
        "    elif not wall_is_on_the_right():\n",
        "        move_right()\n",
        "    elif not wall_is_on_the_left():\n",
        "        move_left()\n",
        "    else:\n",
        "        move_down()\n",
        "\n",
        "\n",
        "\n",
        "if __name__ == '__main__':\n",
        "    run_tasks()\n",
        "\n",
        "\n",
        " ./task_25.py \n",
        "\n",
        "\n",
        "\n",
        "#!/usr/bin/python3\n",
        "\n",
        "from pyrob.api import *\n",
        "\n",
        "def crest():\n",
        "    move_right()\n",
        "    fill_cell()\n",
        "    move_down()\n",
        "    fill_cell()\n",
        "    move_right()\n",
        "    fill_cell()\n",
        "    move_down()\n",
        "    move_left()\n",
        "    fill_cell()\n",
        "    move_up()\n",
        "    move_left()\n",
        "    fill_cell()\n",
        "    move_up()\n",
        "\n",
        "\n",
        "@task\n",
        "def task_2_2():\n",
        "    move_down()\n",
        "    for i in range(4):\n",
        "        crest()\n",
        "        move_right(4)\n",
        "    crest()\n",
        "\n",
        "\n",
        "if __name__ == '__main__':\n",
        "    run_tasks()\n",
        "\n",
        "\n",
        " ./task_20.py \n",
        "\n",
        "\n",
        "\n",
        "#!/usr/bin/python3\n",
        "\n",
        "from pyrob.api import *\n",
        "\n",
        "\n",
        "@task(delay=0.05)\n",
        "def task_4_3():\n",
        "    move_right()\n",
        "    for j in range(2, 13, 2):\n",
        "        for i in range(2,28):\n",
        "            fill_cell()\n",
        "            move_right()\n",
        "        fill_cell()\n",
        "        move_down()\n",
        "        for i in range(2,28):\n",
        "            fill_cell()\n",
        "            move_left()\n",
        "        fill_cell()\n",
        "        move_down()\n",
        "\n",
        "\n",
        "\n",
        "if __name__ == '__main__':\n",
        "    run_tasks()\n",
        "\n",
        "\n",
        " ./task_29.py \n",
        "\n",
        "\n",
        "\n",
        "#!/usr/bin/python3\n",
        "\n",
        "from pyrob.api import *\n",
        "\n",
        "\n",
        "@task\n",
        "def task_7_7():\n",
        "    n = 0\n",
        "    if cell_is_filled():\n",
        "        n += 1\n",
        "    while n < 3 and not wall_is_on_the_right():\n",
        "        move_right()\n",
        "        if cell_is_filled():\n",
        "            n += 1\n",
        "        else:\n",
        "            n = 0\n",
        "\n",
        "\n",
        "if __name__ == '__main__':\n",
        "    run_tasks()\n",
        "\n",
        "\n",
        " ./task_28.py \n",
        "\n",
        "\n",
        "\n",
        "#!/usr/bin/python3\n",
        "\n",
        "from pyrob.api import *\n",
        "\n",
        "\n",
        "@task\n",
        "def task_7_6():\n",
        "    n = 0\n",
        "    if cell_is_filled():\n",
        "        n += 1\n",
        "    while n < 5:\n",
        "        move_right()\n",
        "        if cell_is_filled():\n",
        "            n += 1\n",
        "\n",
        "\n",
        "if __name__ == '__main__':\n",
        "    run_tasks()\n",
        "\n",
        "\n",
        " ./task_14.py \n",
        "\n",
        "\n",
        "\n",
        "#!/usr/bin/python3\n",
        "\n",
        "from pyrob.api import *\n",
        "\n",
        "\n",
        "@task\n",
        "def task_8_11():\n",
        "    while not wall_is_on_the_right():\n",
        "        if not wall_is_beneath():\n",
        "            move_down()\n",
        "            fill_cell()\n",
        "            move_up()\n",
        "        if not wall_is_above():\n",
        "            move_up()\n",
        "            fill_cell()\n",
        "            move_down()\n",
        "        elif wall_is_beneath():\n",
        "            fill_cell()\n",
        "        move_right()\n",
        "    if not wall_is_beneath():\n",
        "        move_down()\n",
        "        fill_cell()\n",
        "        move_up()\n",
        "    if not wall_is_above():\n",
        "        move_up()\n",
        "        fill_cell()\n",
        "        move_down()\n",
        "    elif wall_is_beneath():\n",
        "        fill_cell()\n",
        "\n",
        "\n",
        "if __name__ == '__main__':\n",
        "    run_tasks()\n",
        "\n",
        "\n",
        " ./task_3.py \n",
        "\n",
        "\n",
        "\n",
        "#!/usr/bin/python3\n",
        "\n",
        "from pyrob.api import *\n",
        "\n",
        "\n",
        "@task\n",
        "def task_3_1():\n",
        "    while not wall_is_on_the_right():\n",
        "        move_right()\n",
        "\n",
        "\n",
        "if __name__ == '__main__':\n",
        "    run_tasks()\n",
        "\n",
        "\n",
        " ./task_15.py \n",
        "\n",
        "\n",
        "\n",
        "#!/usr/bin/python3\n",
        "\n",
        "from pyrob.api import *\n",
        "\n",
        "\n",
        "@task\n",
        "def task_8_21():\n",
        "    if wall_is_on_the_left():\n",
        "        if wall_is_above():\n",
        "            while not wall_is_on_the_right():\n",
        "                move_right()\n",
        "                move_down()\n",
        "        else:\n",
        "            while not wall_is_on_the_right():\n",
        "                move_right()\n",
        "                move_up()\n",
        "    elif wall_is_above():\n",
        "        while not wall_is_on_the_left():\n",
        "            move_left()\n",
        "            move_down()\n",
        "    else:\n",
        "        while not wall_is_on_the_left():\n",
        "            move_left()\n",
        "            move_up()\n",
        "\n",
        "\n",
        "if __name__ == '__main__':\n",
        "    run_tasks()\n",
        "\n",
        "\n",
        " ./task_30.py \n",
        "\n",
        "\n",
        "\n",
        "#!/usr/bin/python3\n",
        "\n",
        "from pyrob.api import *\n",
        "\n",
        "\n",
        "@task(delay=0.01)\n",
        "def task_9_3():\n",
        "    n = 1\n",
        "    while not wall_is_on_the_right():\n",
        "        move_right()\n",
        "        if not wall_is_on_the_right():\n",
        "            fill_cell()\n",
        "        n += 1\n",
        "    move_down()\n",
        "    for j in range(2, n, 2):\n",
        "        for i in range(1, n):\n",
        "            if not (i == j or n-i+1 == j):\n",
        "                fill_cell()\n",
        "            move_left()\n",
        "        fill_cell()\n",
        "        move_down()\n",
        "        for i in range(1, n):\n",
        "            if not (i == j+1 or n-i == j):\n",
        "                fill_cell()\n",
        "            move_right()\n",
        "        if not wall_is_beneath():\n",
        "            fill_cell()\n",
        "            move_down()\n",
        "    move_left(n-1)\n",
        "\n",
        "\n",
        "if __name__ == '__main__':\n",
        "    run_tasks()\n",
        "\n",
        "\n",
        " ./task_11.py \n",
        "\n",
        "\n",
        "\n",
        "#!/usr/bin/python3\n",
        "\n",
        "from pyrob.api import *\n",
        "\n",
        "\n",
        "@task\n",
        "def task_8_4():\n",
        "    while not wall_is_on_the_right():\n",
        "        if wall_is_beneath() and wall_is_above():\n",
        "            fill_cell()\n",
        "        move_right()\n",
        "    if wall_is_beneath() and wall_is_above():\n",
        "        fill_cell()\n",
        "\n",
        "\n",
        "if __name__ == '__main__':\n",
        "    run_tasks()\n",
        "\n",
        "\n",
        " ./task_1.py \n",
        "\n",
        "\n",
        "\n",
        "#!/usr/bin/python3\n",
        "\n",
        "from pyrob.api import *\n",
        "\n",
        "\n",
        "@task\n",
        "def task_1_1():\n",
        "    move_right(2)\n",
        "    move_down(1)\n",
        "\n",
        "\n",
        "if __name__ == '__main__':\n",
        "    run_tasks()\n",
        "\n",
        "\n",
        " ./task_27.py \n",
        "\n",
        "\n",
        "\n",
        "#!/usr/bin/python3\n",
        "\n",
        "from pyrob.api import *\n",
        "\n",
        "\n",
        "@task\n",
        "def task_7_5():\n",
        "    n = 0\n",
        "    k = 1\n",
        "    c = 1\n",
        "    while not wall_is_on_the_right():\n",
        "        move_right()\n",
        "        n += 1\n",
        "        if n == k and not wall_is_on_the_right():\n",
        "            fill_cell()\n",
        "            k += c\n",
        "            c += 1\n",
        "\n",
        "\n",
        "if __name__ == '__main__':\n",
        "    run_tasks()\n",
        "\n",
        "\n",
        " ./task_18.py \n",
        "\n",
        "\n",
        "\n",
        "#!/usr/bin/python3\n",
        "\n",
        "from pyrob.api import *\n",
        "\n",
        "\n",
        "@task\n",
        "def task_8_28():\n",
        "    n = 0\n",
        "    while not wall_is_on_the_right() and wall_is_above():\n",
        "        n += 1\n",
        "        move_right()\n",
        "    if wall_is_above():\n",
        "        if n > 0:\n",
        "            move_left(n)\n",
        "        while wall_is_above():\n",
        "            move_left()\n",
        "    move_up()\n",
        "    move_left()\n",
        "    while not wall_is_on_the_left():\n",
        "        move_left()\n",
        "    while not wall_is_above():\n",
        "        move_up()\n",
        "\n",
        "\n",
        "if __name__ == '__main__':\n",
        "    run_tasks()\n",
        "\n",
        "\n",
        " ./task_13.py \n",
        "\n",
        "\n",
        "\n",
        "#!/usr/bin/python3\n",
        "\n",
        "from pyrob.api import *\n",
        "\n",
        "\n",
        "@task\n",
        "def task_8_10():\n",
        "    while not wall_is_on_the_right():\n",
        "        if not wall_is_beneath():\n",
        "            move_down()\n",
        "            fill_cell()\n",
        "            move_up()\n",
        "        if not wall_is_above():\n",
        "            move_up()\n",
        "            fill_cell()\n",
        "            move_down()\n",
        "        move_right()\n",
        "    if not wall_is_beneath():\n",
        "        move_down()\n",
        "        fill_cell()\n",
        "        move_up()\n",
        "    if not wall_is_above():\n",
        "        move_up()\n",
        "        fill_cell()\n",
        "        move_down()\n",
        "\n",
        "\n",
        "if __name__ == '__main__':\n",
        "    run_tasks()\n",
        "\n",
        "\n",
        " ./task_12.py \n",
        "\n",
        "\n",
        "\n",
        "#!/usr/bin/python3\n",
        "\n",
        "from pyrob.api import *\n",
        "\n",
        "\n",
        "@task\n",
        "def task_8_6():\n",
        "    while not wall_is_on_the_right():\n",
        "        if wall_is_beneath() and not wall_is_above():\n",
        "            fill_cell()\n",
        "        move_right()\n",
        "    if wall_is_beneath() and not wall_is_above():\n",
        "        fill_cell()\n",
        "\n",
        "\n",
        "if __name__ == '__main__':\n",
        "    run_tasks()```\n",
        "\n"
      ],
      "metadata": {
        "id": "Dvz76Kt8FFtG"
      }
    },
    {
      "cell_type": "markdown",
      "source": [
        "# Практика 3. Контест: выделение цифр, if, for, while."
      ],
      "metadata": {
        "id": "uTptR2RvF1Jv"
      }
    },
    {
      "cell_type": "markdown",
      "source": [
        "**Сумма цифр трехзначного числа**"
      ],
      "metadata": {
        "id": "mdJGP7HAGO2u"
      }
    },
    {
      "cell_type": "code",
      "source": [
        "n = int(input())\n",
        "sum = 0\n",
        "for i in range(3):\n",
        "  sum += n % 10\n",
        "  n //= 10\n",
        "print(sum)"
      ],
      "metadata": {
        "colab": {
          "base_uri": "https://localhost:8080/"
        },
        "id": "1spOvrCOFb6p",
        "outputId": "c4c27f1a-d73d-4ee2-81a9-37e15b9685c8"
      },
      "execution_count": null,
      "outputs": [
        {
          "output_type": "stream",
          "name": "stdout",
          "text": [
            "170\n",
            "8\n"
          ]
        }
      ]
    },
    {
      "cell_type": "markdown",
      "source": [
        "**Ход ферзя**\n",
        "Программа должна вывести YES, если из первой клетки ходом ферзя можно попасть во вторую. В противном случае - NO.\n"
      ],
      "metadata": {
        "id": "UZzHgBlQIthR"
      }
    },
    {
      "cell_type": "code",
      "source": [
        "x1 = int(input())\n",
        "y1 = int(input())\n",
        "x2 = int(input())\n",
        "y2 = int(input())\n",
        "if x1 == x2 or y1 == y2 or abs(x1 - x2) == abs(y1 - y2):\n",
        "  print('YES')\n",
        "else:\n",
        "  print('NO')"
      ],
      "metadata": {
        "colab": {
          "base_uri": "https://localhost:8080/"
        },
        "id": "mEAwm7UrIsjw",
        "outputId": "66a90444-5ba9-4eb8-f038-a086c43563d8"
      },
      "execution_count": null,
      "outputs": [
        {
          "output_type": "stream",
          "name": "stdout",
          "text": [
            "3\n",
            "4\n",
            "2\n",
            "5\n",
            "YES\n"
          ]
        }
      ]
    },
    {
      "cell_type": "markdown",
      "source": [
        "**Високосный год**\n",
        "\n",
        "Требуется определить, является ли данный год високосным. (Год является високосным, если его номер кратен 4, но не кратен 100, а также если он кратен 400)."
      ],
      "metadata": {
        "id": "KyPr1jDJMFgQ"
      }
    },
    {
      "cell_type": "code",
      "source": [
        "year = int(input())\n",
        "if (year % 4 == 0 and not year % 100 == 0) or (year % 400 == 0):\n",
        "  print('YES')\n",
        "else:\n",
        "  print('NO')"
      ],
      "metadata": {
        "colab": {
          "base_uri": "https://localhost:8080/"
        },
        "id": "lUybfP2gMXlX",
        "outputId": "797444e3-67f0-4b2e-8b47-57304f200b7d"
      },
      "execution_count": null,
      "outputs": [
        {
          "output_type": "stream",
          "name": "stdout",
          "text": [
            "2100\n",
            "NO\n"
          ]
        }
      ]
    },
    {
      "cell_type": "markdown",
      "source": [
        "**Список квадратов**\n",
        "\n",
        "По данному натуральному числу N распечатайте все квадраты натуральных чисел, не превосходящие N , в порядке возрастания."
      ],
      "metadata": {
        "id": "djztuveBQbqJ"
      }
    },
    {
      "cell_type": "code",
      "source": [
        "n = int(input())\n",
        "i = 1\n",
        "while True:\n",
        "  if not (i+1)**2 > n:\n",
        "    print(i**2, end=' ') \n",
        "  else:\n",
        "    print(i**2)\n",
        "    break\n",
        "  i += 1"
      ],
      "metadata": {
        "colab": {
          "base_uri": "https://localhost:8080/"
        },
        "id": "r52P9vA2QgrA",
        "outputId": "dff3a833-d62b-4028-d0a8-7820d91f05b7"
      },
      "execution_count": null,
      "outputs": [
        {
          "output_type": "stream",
          "name": "stdout",
          "text": [
            "50\n",
            "1 4 9 16 25 36 49\n"
          ]
        }
      ]
    },
    {
      "cell_type": "markdown",
      "source": [
        "**Двоичный логарифм**\n",
        "\n",
        "По данному натуральному числу N выведите такое наименьшее целое число k , что 2^k >= N .\n",
        "\n",
        "ВАЖНО! В данной задаче необходимо использовать цикл. Использование инструкции if запрещено. В этой задаче нельзя использовать возведение в степень."
      ],
      "metadata": {
        "id": "fILutmC5SuYY"
      }
    },
    {
      "cell_type": "code",
      "source": [
        "n = int(input())\n",
        "k = 1\n",
        "log2 = 2\n",
        "while log2 < n:\n",
        "  log2 *= 2\n",
        "  k += 1\n",
        "print(k)\n"
      ],
      "metadata": {
        "colab": {
          "base_uri": "https://localhost:8080/"
        },
        "id": "4nZVBLd8S6Fg",
        "outputId": "6d9ebe1e-459d-4329-da2e-48b29929d7f4"
      },
      "execution_count": null,
      "outputs": [
        {
          "output_type": "stream",
          "name": "stdout",
          "text": [
            "1627\n",
            "11\n"
          ]
        }
      ]
    },
    {
      "cell_type": "markdown",
      "source": [
        "**Длина последовательности**\n",
        "\n",
        "Программа получает на вход последовательность целых неотрицательных чисел, каждое число записано в отдельной строке. Последовательность завершается числом 0, при считывании которого программа должна закончить свою работу и вывести количество членов последовательности (не считая завершающего числа 0). Числа, следующие за числом 0, считывать не нужно.\n",
        "\n",
        "Формат входных данных"
      ],
      "metadata": {
        "id": "qyPw3oOKX0Mo"
      }
    },
    {
      "cell_type": "code",
      "source": [
        "count = 0\n",
        "while True:\n",
        "  n = int(input())\n",
        "  if n == 0:\n",
        "    break\n",
        "  count += 1\n",
        "print(count)"
      ],
      "metadata": {
        "colab": {
          "base_uri": "https://localhost:8080/"
        },
        "id": "W7nbi7afYcfw",
        "outputId": "9dacaafa-c8fb-4ee2-d7ae-ef6cae616113"
      },
      "execution_count": null,
      "outputs": [
        {
          "output_type": "stream",
          "name": "stdout",
          "text": [
            "1\n",
            "7\n",
            "9\n",
            "0\n",
            "3\n"
          ]
        }
      ]
    },
    {
      "cell_type": "markdown",
      "source": [
        "**Сумма введенной последовательности**\n",
        "\n",
        "Определите сумму всех элементов последовательности, завершающейся числом 0.\n",
        "\n",
        "Числа, следующие за нулем, считывать не нужно."
      ],
      "metadata": {
        "id": "XDkt7PCNY_ev"
      }
    },
    {
      "cell_type": "code",
      "source": [
        "sum = 0\n",
        "while True:\n",
        "  n = int(input())\n",
        "  if n == 0:\n",
        "    break\n",
        "  sum += n\n",
        "print(sum)"
      ],
      "metadata": {
        "colab": {
          "base_uri": "https://localhost:8080/"
        },
        "id": "AyPKOCG1ZD4P",
        "outputId": "4d0355ad-958f-4593-afc5-227b4f3e0fc1"
      },
      "execution_count": null,
      "outputs": [
        {
          "output_type": "stream",
          "name": "stdout",
          "text": [
            "17\n",
            "-4\n",
            "0\n",
            "13\n"
          ]
        }
      ]
    },
    {
      "cell_type": "markdown",
      "source": [
        "**Количество четных элементов**\n",
        "\n",
        "Посчитать количество четных элементов в массиве целых чисел, заканчивающихся нулём. Сам ноль учитывать не надо."
      ],
      "metadata": {
        "id": "FRjgrgCoZlMI"
      }
    },
    {
      "cell_type": "code",
      "source": [
        "even_count = 0\n",
        "while True:\n",
        "  n = int(input())\n",
        "  if n == 0:\n",
        "    break\n",
        "  elif n % 2 == 0:\n",
        "     even_count += 1\n",
        "print(even_count)"
      ],
      "metadata": {
        "colab": {
          "base_uri": "https://localhost:8080/"
        },
        "id": "3Wx_E1EuZ6iQ",
        "outputId": "3a628ab9-6944-4801-91e6-a0470ead02dd"
      },
      "execution_count": null,
      "outputs": [
        {
          "output_type": "stream",
          "name": "stdout",
          "text": [
            "2\n",
            "6\n",
            "7\n",
            "8\n",
            "0\n",
            "3\n"
          ]
        }
      ]
    },
    {
      "cell_type": "markdown",
      "source": [
        "**Максимум последовательности**\n",
        "\n",
        "Последовательность состоит из натуральных чисел и завершается числом 0. Определите значение наибольшего элемента последовательности.\n",
        "\n",
        "Числа, следующие за нулем, считывать не нужно."
      ],
      "metadata": {
        "id": "937lwwLAasAg"
      }
    },
    {
      "cell_type": "code",
      "source": [
        "def max2( x, y):\n",
        "  if x >= y:\n",
        "    return x\n",
        "  return y\n",
        "\n",
        "\n",
        "max = int(input())\n",
        "while True:\n",
        "  n = int(input())\n",
        "  if n == 0:\n",
        "    break\n",
        "  max = max2(max, n)\n",
        "print(max)"
      ],
      "metadata": {
        "colab": {
          "base_uri": "https://localhost:8080/"
        },
        "id": "l8wNccTJaxvA",
        "outputId": "9d0ba3a5-4727-4e01-af6b-08d73b18213c"
      },
      "execution_count": null,
      "outputs": [
        {
          "output_type": "stream",
          "name": "stdout",
          "text": [
            "1\n",
            "9\n",
            "5\n",
            "3\n",
            "0\n",
            "9\n"
          ]
        }
      ]
    },
    {
      "cell_type": "markdown",
      "source": [
        "**Количество элементов, равных максимуму**\n",
        "\n",
        "Последовательность состоит из натуральных чисел и завершается числом 0. Всего вводится не более 10000 чисел (не считая завершающего числа 0). Определите, сколько элементов этой последовательности равны ее наибольшему элементу. Числа, следующие за числом 0, считывать не нужно."
      ],
      "metadata": {
        "id": "KUhjiXYab6oZ"
      }
    },
    {
      "cell_type": "code",
      "source": [
        "max = int(input())\n",
        "max_count = 1\n",
        "while True:\n",
        "  n = int(input())\n",
        "  if n == 0:\n",
        "    break\n",
        "  if max == n:\n",
        "    max_count +=1\n",
        "  elif max < n:\n",
        "    max = n\n",
        "    max_count = 1\n",
        "print(max_count)"
      ],
      "metadata": {
        "id": "h3BYX4mBcIpy"
      },
      "execution_count": null,
      "outputs": []
    },
    {
      "cell_type": "markdown",
      "source": [
        "# Практика 4."
      ],
      "metadata": {
        "id": "OKnx4Wdk3T6v"
      }
    },
    {
      "cell_type": "markdown",
      "source": [
        "В данном задании использовали сторонний [код](http://judge.mipt.ru/mipt_cs_on_python3/extra/lab4/graphics.py) для отрисовки изображений в окнах, даже не стал пытаться запустить всё это здесь.\n",
        "\n",
        "```\n",
        "import graphics as gr\n",
        "import random as r\n",
        "\n",
        "\n",
        "def cloud(x,y):\n",
        "    for i in range(5):\n",
        "        cloud1 = gr.Oval(gr.Point(x + 20 * r.random(), y + 10 * r.random()),\n",
        "                         gr.Point(x + 1 + 60 * r.random(), y + 1 + 10 * r.random()))\n",
        "        cloud1.setFill('white')\n",
        "        cloud1.setOutline('white')\n",
        "        cloud1.draw(window)\n",
        "        cloud2 = gr.Oval(gr.Point(x + 20 * r.random(), y + 10 * r.random()),\n",
        "                         gr.Point(x - 1 - 60 * r.random(), y - 1 - 10 * r.random()))\n",
        "        cloud2.setFill('white')\n",
        "        cloud2.setOutline('white')\n",
        "        cloud2.draw(window)\n",
        "\n",
        "\n",
        "def moon(delta_x, delta_y):\n",
        "    moon2back = gr.Circle(gr.Point(250 + delta_x, 170 + delta_y), 50)\n",
        "    moon2back.setFill('light grey')\n",
        "    moon2back.setOutline('light grey')\n",
        "    moon2spot1 = gr.Circle(gr.Point(240 + delta_x, 180 + delta_y), 20)\n",
        "    moon2spot1.setFill('grey')\n",
        "    moon2spot1.setOutline('grey')\n",
        "    moon2spot2 = gr.Circle(gr.Point(235 + delta_x, 160 + delta_y), 10)\n",
        "    moon2spot2.setFill('grey')\n",
        "    moon2spot2.setOutline('grey')\n",
        "    moon2spot3 = gr.Circle(gr.Point(255 + delta_x, 140 + delta_y), 15)\n",
        "    moon2spot3.setFill('grey')\n",
        "    moon2spot3.setOutline('grey')\n",
        "    moon2spot4 = gr.Circle(gr.Point(215 + delta_x, 150 + delta_y), 7)\n",
        "    moon2spot4.setFill('grey')\n",
        "    moon2spot4.setOutline('grey')\n",
        "    moon2shadow = gr.Circle(gr.Point(290 + delta_x, 155 + delta_y), 50)\n",
        "    moon2shadow.setOutline('dark blue')\n",
        "    moon2shadow.setFill('dark blue')\n",
        "\n",
        "    moon2back.draw(window)\n",
        "    moon2spot1.draw(window)\n",
        "    moon2spot2.draw(window)\n",
        "    moon2spot3.draw(window)\n",
        "    moon2spot4.draw(window)\n",
        "    moon2shadow.draw(window)\n",
        "\n",
        "\n",
        "window = gr.GraphWin(\"Heymdale task\", 400, 400)\n",
        "background = gr.Rectangle(gr.Point(1, 1), gr.Point(400, 400))\n",
        "background.setFill('dark blue')\n",
        "moon1 = gr.Polygon(gr.Point(305, 100),\n",
        "                  gr.Point(290, 110),\n",
        "                  gr.Point(285, 120),\n",
        "                  gr.Point(285, 130),\n",
        "                  gr.Point(285, 140),\n",
        "                  gr.Point(290, 150),\n",
        "                  gr.Point(310, 160),\n",
        "                  gr.Point(300, 150),\n",
        "                  gr.Point(295, 140),\n",
        "                  gr.Point(295, 130),\n",
        "                  gr.Point(295, 120),\n",
        "                  gr.Point(298, 110),\n",
        "                  )\n",
        "moon1.setFill('light grey')\n",
        "\n",
        "\n",
        "background.draw(window)\n",
        "\n",
        "moon1.draw(window)\n",
        "\n",
        "moon(-50, 60)\n",
        "cloud(100, 100)\n",
        "cloud(150, 120)\n",
        "cloud(210, 160)\n",
        "cloud(250, 130)\n",
        "\n",
        "window.getMouse()\n",
        "window.close()\n",
        "```\n",
        "\n"
      ],
      "metadata": {
        "id": "4mwGH6Ee3huc"
      }
    },
    {
      "cell_type": "markdown",
      "source": [
        "# Практика 5.\n",
        "\n",
        "\n",
        "\n"
      ],
      "metadata": {
        "id": "Bj0MIj6YoBzh"
      }
    },
    {
      "cell_type": "markdown",
      "source": [
        "\n",
        "Снова используем graphics.py, поэтому привожу только код.\n",
        "Первое задание - движение спутника вокруг планеты, отскок от стен. Добавил упругий удар соударения с планетой.\n",
        "\n",
        "\n",
        "```\n",
        "import graphics as gr\n",
        "\n",
        "\n",
        "class Difference:\n",
        "    def __init__(self, point_1, point_2):\n",
        "        diff = sub(point_1, point_2)\n",
        "        self.x = diff.x\n",
        "        self.y = diff.y\n",
        "        self.distance_sqr = diff.x**2 + diff.y**2\n",
        "        self.distance = self.distance_sqr**0.5\n",
        "        self.ort = scalar_multiplication(gr.Point(self.x, self.y), 1/self.distance)\n",
        "        self.normal_ort = gr.Point(-self.ort.y, self.ort.x)\n",
        "\n",
        "\n",
        "def add(point_1, point_2):\n",
        "    new_point = gr.Point(point_1.x + point_2.x,\n",
        "                         point_1.y + point_2.y)\n",
        "    return new_point\n",
        "\n",
        "\n",
        "def sub(point_1, point_2):\n",
        "    new_point = gr.Point(point_1.x - point_2.x,\n",
        "                         point_1.y - point_2.y)\n",
        "    return new_point\n",
        "\n",
        "\n",
        "def scalar_product(point_1, point_2):\n",
        "    x = point_1.x * point_2.x\n",
        "    y = point_1.y * point_2.y\n",
        "    return x + y\n",
        "\n",
        "\n",
        "def scalar_multiplication(vector, scalar):\n",
        "    x = vector.x * scalar\n",
        "    y = vector.y * scalar\n",
        "    return gr.Point(x, y)\n",
        "\n",
        "\n",
        "def draw_circle(circle, velocity):\n",
        "    circle.move(velocity.x, velocity.y)\n",
        "\n",
        "\n",
        "def clear_window():\n",
        "    rectangle = gr.Rectangle(gr.Point(0, 0), gr.Point(SIZE_X, SIZE_Y))\n",
        "    rectangle.setFill('midnightblue')\n",
        "    rectangle.draw(window)\n",
        "\n",
        "\n",
        "def vector_reflect(vector, normal):\n",
        "    vector_temp = scalar_multiplication(normal.normal_ort, 2 * scalar_product(vector, normal.normal_ort))\n",
        "    vector = sub(vector_temp, vector)\n",
        "    velocity.x = vector.x\n",
        "    velocity.y = vector.y\n",
        "\n",
        "\n",
        "def check_wall_coords(coords, velocity):\n",
        "    if coords.x < 0 or coords.x > SIZE_X:\n",
        "        velocity.x = -velocity.x\n",
        "    if coords.y < 0 or coords.y > SIZE_Y:\n",
        "        velocity.y = -velocity.y\n",
        "\n",
        "\n",
        "def check_earth_coords(diff, velocity):\n",
        "    if diff.distance_sqr**0.5 < EARTH_RADIUS:\n",
        "        vector_reflect(velocity, diff)\n",
        "\n",
        "\n",
        "def update_velocity(velocity, acceleration):\n",
        "    return add(velocity, acceleration)\n",
        "\n",
        "\n",
        "def central_acceleration(diff):\n",
        "    distance_3_2 = diff.distance_sqr**(3/2)\n",
        "    return gr.Point(diff.x*G/distance_3_2, diff.y*G/distance_3_2)\n",
        "\n",
        "\n",
        "def earth_draw():\n",
        "    earth_img = gr.Circle(EARTH, EARTH_RADIUS)\n",
        "    earth_img.setFill('blue')\n",
        "    earth_img.draw(window)\n",
        "\n",
        "\n",
        "SIZE_X = 600\n",
        "SIZE_Y = 500\n",
        "G = 4000\n",
        "EARTH = gr.Point(300, 250)\n",
        "EARTH_RADIUS = 50\n",
        "window = gr.GraphWin(\"Lab5\", SIZE_X, SIZE_Y)\n",
        "coords = gr.Point(500, 400)\n",
        "velocity = gr.Point(1, -1)\n",
        "acceleration = gr.Point(0, 0)\n",
        "clear_window()\n",
        "earth_draw()\n",
        "circle = gr.Circle(coords, 10)\n",
        "circle.setFill('brown')\n",
        "circle.draw(window)\n",
        "\n",
        "while True:\n",
        "    draw_circle(circle, velocity)\n",
        "    coords = add(coords, velocity)\n",
        "    diff = Difference(EARTH, coords)\n",
        "    acceleration = central_acceleration(diff)\n",
        "    velocity = update_velocity(velocity, acceleration)\n",
        "    check_wall_coords(coords, velocity)\n",
        "    check_earth_coords(diff, velocity)\n",
        "    if window.checkMouse() is not None:\n",
        "        window.close()\n",
        "    gr.time.sleep(0.02)\n",
        "```\n",
        "\n"
      ],
      "metadata": {
        "id": "2JODPPnxpbGY"
      }
    },
    {
      "cell_type": "markdown",
      "source": [
        "Второе задание - математический маятник, по моей физической модели маятник получился затухающий, баг искать сложно, возможно следует переделать всё сначала, но потом. Также можно ознакомиться с [примерами](http://python.su/forum/topic/38551/?page=1#post-208120) других учеников.\n",
        "\n",
        "```\n",
        "import graphics as gr\n",
        "\n",
        "\n",
        "class Difference:\n",
        "    def __init__(self, point_1, point_2):\n",
        "        diff = sub(point_1, point_2)\n",
        "        self.x = diff.x\n",
        "        self.y = diff.y\n",
        "        self.distance_sqr = diff.x**2 + diff.y**2\n",
        "        self.distance = self.distance_sqr**0.5\n",
        "        self.ort = scalar_multiplication(gr.Point(self.x, self.y), 1/self.distance)\n",
        "        self.normal_ort = gr.Point(-self.ort.y, self.ort.x)\n",
        "\n",
        "\n",
        "def add(point_1, point_2):\n",
        "    new_point = gr.Point(point_1.x + point_2.x,\n",
        "                         point_1.y + point_2.y)\n",
        "    return new_point\n",
        "\n",
        "\n",
        "def sub(point_1, point_2):\n",
        "    new_point = gr.Point(point_1.x - point_2.x,\n",
        "                         point_1.y - point_2.y)\n",
        "    return new_point\n",
        "\n",
        "\n",
        "def scalar_product(point_1, point_2):\n",
        "    x = point_1.x * point_2.x\n",
        "    y = point_1.y * point_2.y\n",
        "    return x + y\n",
        "\n",
        "\n",
        "def scalar_multiplication(vector, scalar):\n",
        "    x = vector.x * scalar\n",
        "    y = vector.y * scalar\n",
        "    return gr.Point(x, y)\n",
        "\n",
        "\n",
        "def update_velocity(velocity, acceleration_pr, d):\n",
        "    new_velocity_full = add(velocity, acceleration_pr)\n",
        "    print(d.x, d.y)\n",
        "    return get_velocity_pr(d, new_velocity_full)\n",
        "\n",
        "\n",
        "def get_velocity_pr(diff, velocity):\n",
        "    scalar = scalar_product(diff.normal_ort, velocity)\n",
        "    return scalar_multiplication(diff.normal_ort, scalar)\n",
        "\n",
        "\n",
        "def get_coords_pr(coords_full, diff):\n",
        "    d = Difference(coords_full, CENTER)\n",
        "    relative_coord_vector = scalar_multiplication(d.ort, diff.distance)\n",
        "    return add(relative_coord_vector, CENTER)\n",
        "\n",
        "\n",
        "def move_ball(coords, new_coords):\n",
        "    move_vector = sub(new_coords, coords)\n",
        "    ball.move(move_vector.x, move_vector.y)\n",
        "    print('coords', coords)\n",
        "    coords.x = new_coords.x\n",
        "    coords.y = new_coords.y\n",
        "    print('new coords', coords)\n",
        "    print('velocity', velocity)\n",
        "\n",
        "\n",
        "SIZE_X = 500\n",
        "SIZE_Y = 500\n",
        "\n",
        "window = gr.GraphWin(\"Pendullum\", SIZE_X, SIZE_Y)\n",
        "CENTER = gr.Point(250, 50)\n",
        "ACCELERATION = gr.Point(0, 1)\n",
        "background = gr.Rectangle(gr.Point(0, 0), gr.Point(SIZE_X, SIZE_Y))\n",
        "background.setFill('darkblue')\n",
        "pendullum_center = gr.Circle(CENTER, 5)\n",
        "pendullum_center.setFill('gold')\n",
        "coords = gr.Point(400, 400)\n",
        "ball = gr.Circle(coords, 10)\n",
        "ball.setFill('red')\n",
        "velocity = gr.Point(1, 1)\n",
        "diff = Difference\n",
        "diff(CENTER, coords)\n",
        "background.draw(window)\n",
        "pendullum_center.draw(window)\n",
        "ball.draw(window)\n",
        "\n",
        "while True:\n",
        "    velocity = add(velocity, ACCELERATION)\n",
        "    coords_full = add(coords, velocity)\n",
        "    new_coords = get_coords_pr(coords_full, diff(CENTER, coords))\n",
        "    move_ball(coords, new_coords)\n",
        "    velocity = update_velocity(velocity, ACCELERATION, diff(CENTER, coords))\n",
        "    if window.checkMouse() is not None:\n",
        "        window.close()\n",
        "    gr.time.sleep(0.02)\n",
        "\n",
        "```"
      ],
      "metadata": {
        "id": "IKQOAbjmrZoL"
      }
    },
    {
      "cell_type": "markdown",
      "source": [
        "# Практика 6. Контест: использование массивов"
      ],
      "metadata": {
        "id": "-qsOAAPRpLUi"
      }
    },
    {
      "cell_type": "markdown",
      "source": [
        "## Принадлежность точки кругу\n",
        "\n",
        "Даны координаты точки и радиус круга с центром в начале координат. Определить, принадлежит ли данная точка кругу. Напомним, что круг – это часть плоскости, состоящая из всех точек окружности и всех точек, лежащих внутри окружности.\n",
        "\n",
        "Формат входных данных\n",
        "Три целых числа на одной строке: координата точки по оси x, координата точки по оси y, радиус круга r (r > 0).\n",
        "\n",
        "Формат выходных данных\n",
        "Вывести \"YES\" без кавычек, если точка принадлежит кругу, \"NO\" без кавычек в противном случае."
      ],
      "metadata": {
        "id": "56rRfaDYW1Dq"
      }
    },
    {
      "cell_type": "code",
      "source": [
        "a = input().split(sep=' ')\n",
        "for i in range(len(a)):\n",
        "  a[i] =  int(a[i])\n",
        "if a[0]**2 + a[1]**2 <= a[2]**2:\n",
        "  print('YES')\n",
        "else:\n",
        "  print('NO')"
      ],
      "metadata": {
        "colab": {
          "base_uri": "https://localhost:8080/"
        },
        "id": "Tswz7KTfYtR4",
        "outputId": "44e088ef-f6e4-4497-ec45-a02710a9229a"
      },
      "execution_count": null,
      "outputs": [
        {
          "output_type": "stream",
          "name": "stdout",
          "text": [
            "0 0 1\n",
            "['0', '0', '1']\n",
            "YES\n"
          ]
        }
      ]
    },
    {
      "cell_type": "markdown",
      "source": [
        "## Банковский вклад\n",
        "\n",
        "Вклад в банке составляет x рублей. Ежегодно он увеличивается на p процентов, после чего дробная часть копеек отбрасывается. Каждый год сумма вклада становится больше. Надо определить, через сколько лет вклад составит не менее y рублей.\n",
        "\n",
        "Формат входных данных\n",
        "Три натуральных числа: x, p, y.\n",
        "\n",
        "Формат выходных данных\n",
        "Число лет, через сколько лет вклад составит не менее y рублей."
      ],
      "metadata": {
        "id": "f8gO-ItTZ_4g"
      }
    },
    {
      "cell_type": "code",
      "source": [
        "a = input().split(sep=' ')\n",
        "year = 0\n",
        "if len(a) == 3:\n",
        "  for i in range(len(a)):\n",
        "    a[i] =  int(a[i])\n",
        "  sum = a[0]\n",
        "  while sum < a[2]:\n",
        "    sum *= (1+a[1]/100)\n",
        "    sum = int(sum * 100) / 100\n",
        "    year += 1\n",
        "print(year)\n"
      ],
      "metadata": {
        "colab": {
          "base_uri": "https://localhost:8080/"
        },
        "id": "Vf8MZDIyaWTB",
        "outputId": "f1825c7e-cccc-4506-9368-09e590d1ba99"
      },
      "execution_count": null,
      "outputs": [
        {
          "output_type": "stream",
          "name": "stdout",
          "text": [
            "0 0\n",
            "0\n"
          ]
        }
      ]
    },
    {
      "cell_type": "markdown",
      "source": [
        "## Максимальное число подряд идущих 1\n",
        "Вводится последовательность, состоящая только из 0 и 1. Необходимо найти максимальное количество 1, идущих подряд (без 0 между ними).\n",
        "\n",
        "Формат входных данных\n",
        "В первой строке задается натуральное N<=10000 , длина массива, далее идут N чисел 0 или 1 -- элементы массива. Каждое число вводится с новой строки.\n",
        "\n",
        "Формат выходных данных\n",
        "Одно число — результат."
      ],
      "metadata": {
        "id": "atPOZRist38Z"
      }
    },
    {
      "cell_type": "code",
      "source": [
        "n = int(input())\n",
        "a = [0] * n\n",
        "for i in range(n):\n",
        "  a[i] = int(input())\n",
        "count_max = 0\n",
        "count = 0\n",
        "for i in range(n):\n",
        "  if a[i] == 1:\n",
        "    count += 1\n",
        "    if count_max < count:\n",
        "      count_max = count\n",
        "  elif i > 0 and a[i-1] == 1:\n",
        "    count = 0\n",
        "print(count_max)"
      ],
      "metadata": {
        "colab": {
          "base_uri": "https://localhost:8080/"
        },
        "id": "4GzfGL4it_VI",
        "outputId": "f17f5db1-ee84-48fd-9ac1-14f25b9266ca"
      },
      "execution_count": null,
      "outputs": [
        {
          "output_type": "stream",
          "name": "stdout",
          "text": [
            "10\n",
            "1\n",
            "2\n",
            "3\n",
            "4\n",
            "1\n",
            "1\n",
            "7\n",
            "1\n",
            "1\n",
            "1\n",
            "3\n"
          ]
        }
      ]
    },
    {
      "cell_type": "markdown",
      "source": [
        "## Обработка массива чисел\n",
        "На вход программа получает набор чисел, заканчивающихся решеткой. Вам требуется найти: среднее, максимальное и минимальное число в последовательности. Так же нужно вывести cумму остатков от деления суммы троек на последнее число тройки (каждые 3 введеных числа образуют тройку).\n",
        "\n",
        "Для понимания рассмотрим пример входных данных: 1 2 3 4 5 6 среднее: (1 + 2 + 3 + 4 + 5 + 6) / 6 = 3.5 максимум: 6 минимум: 1 сумма остатков троек: (1 + 2 + 3) mod 3 + (4 + 5 + 6) mod 6 = 6 mod 3 + 15 mod 6 = 0 + 3 = 3\n",
        "\n",
        "Среднее выводить, округлив до трех знаков после запятой. Для этого нужно использовать функцию round(x, 3)\n",
        "\n",
        "Того ваша программа должна вывести: 3.5 6 1 3\n",
        "\n",
        "Подумайте, имеет ли смысл хранить всю последовательность.\n",
        "\n",
        "Формат входных данных\n",
        "Последовательность чисел, заканчивающися '#'. Все числа от 1 до 100. Количество чисел в последовательности кратно трем. Одно число на строку.\n",
        "\n",
        "Формат выходных данных\n",
        "Четыре числа, разделенных пробелом."
      ],
      "metadata": {
        "id": "ltBidr6hw9LB"
      }
    },
    {
      "cell_type": "code",
      "source": [
        "a = []\n",
        "s = input()\n",
        "while s != '#':\n",
        "  a.append(int(s))\n",
        "  s = input()\n",
        "sum = 0\n",
        "sum3 = 0\n",
        "sum_mod = 0\n",
        "min = a[0]\n",
        "max = a[0]\n",
        "for i in range(len(a)):\n",
        "  sum += a[i]\n",
        "  if a[i] > max:\n",
        "    max = a[i]\n",
        "  if a[i] < min:\n",
        "    min = a[i]\n",
        "  if (i+1) % 3 == 0:\n",
        "    sum_mod += (sum3 + a[i]) % a[i]\n",
        "    sum3 = 0\n",
        "  else:\n",
        "    sum3 += a[i]\n",
        "print(round(sum/len(a), 3), end=' ')\n",
        "print(max, end=' ')\n",
        "print(min, end=' ')\n",
        "print(sum_mod)\n",
        "\n"
      ],
      "metadata": {
        "colab": {
          "base_uri": "https://localhost:8080/"
        },
        "id": "Mbk6oOsbxF9f",
        "outputId": "cf8dee46-bdbd-4e87-e752-dfccf9cc7c79"
      },
      "execution_count": null,
      "outputs": [
        {
          "output_type": "stream",
          "name": "stdout",
          "text": [
            "1\n",
            "2\n",
            "3\n",
            "4\n",
            "5\n",
            "6\n",
            "#\n",
            "[1, 2, 3, 4, 5, 6]\n",
            "3.5 6 1 3\n"
          ]
        }
      ]
    },
    {
      "cell_type": "markdown",
      "source": [
        "## Результаты работы студентов в семестре\n",
        "Есть результаты работы студентов в семестре. Студентов выводить в порядке суммы их баллов. Требутеся вывести отсортированные результаты работ для каждого студента.\n",
        "\n",
        "Данные вводятся как: student_id value\n",
        "\n",
        "student_id принимает значения от 0 до N. value от 1 до 10\n",
        "\n",
        "Пример входных данных: 0 3 0 5 1 3 1 2\n",
        "\n",
        "Тут представленны данные о двух студента: 0 и 1. Сумма балов студента 0 - 8. Студента 1 - 5. Значит, сначала должны быть напечатаны результаты 0 студента, затем 1. Таким образом сначала надо вывести отсортированные результаты студента 0, затем студента 1:\n",
        "\n",
        "5 3 3 2\n",
        "\n",
        "Напомним, что у list в питоне есть встроенный метод sort и есть функция sorted. У них есть параметр key, который определяет по каким значениям будет сортироваться объект. Например код ниже будет сортировать лист по длинне его элементов. Так же есть параметр reverse.\n",
        "\n",
        "\n",
        "\n",
        "```\n",
        "a = ['###', '@', '??'] \n",
        "a.sort(key=lambda x: len(x)) \n",
        "a ['@', '??', '###'] \n",
        "a.sort(key=lambda x: len(x), reverse=True) \n",
        "['###', '??', '@']`\n",
        "```\n",
        "\n",
        "\n",
        "Что такое лямбда функция вы узнаете в дальнейшем (так же всегда есть сайт google). Для выполнения этого задания достаточно понять, на что надо заменить функцию len.\n",
        "\n",
        "Формат входных данных\n",
        "В первой строке N - количество студентов. Далее идет какое-то количество строк (не равное N) с результатами студентов в формате: student_id value. 0 <= student_id < N. Значения разделены пробелом. Ввод заканчивается #.\n",
        "\n",
        "Формат выходных данных\n",
        "Вывести отсортированные результаты студентов в одну строку. Сначала печатаются результаты лучшего по сумме баллов студента, потом второго и так далее. Результаты в одну строку"
      ],
      "metadata": {
        "id": "2ngkZ4Eb8xgB"
      }
    },
    {
      "cell_type": "code",
      "source": [
        "students_number = int(input())\n",
        "a = [[]]\n",
        "for i in range(students_number - 1):\n",
        "  a.append([])\n",
        "s = input().split(sep=' ')\n",
        "while s[0] != '#':\n",
        "  a[int(s[0])].append(int(s[1]))\n",
        "  s = input().split(sep=' ')\n",
        "for i in a:\n",
        "  i.sort(reverse=True)\n",
        "a.sort(key=lambda x: sum(x), reverse=True)\n",
        "print(' '.join(' '.join(str(x) for x in row) for row in a))"
      ],
      "metadata": {
        "colab": {
          "base_uri": "https://localhost:8080/"
        },
        "id": "-2PlyPAS982X",
        "outputId": "c63cbfd5-24fb-4e6b-b4be-bd6f3fb418aa"
      },
      "execution_count": null,
      "outputs": [
        {
          "output_type": "stream",
          "name": "stdout",
          "text": [
            "3\n",
            "0 3\n",
            "0 10\n",
            "2 3\n",
            "2 2\n",
            "2 4\n",
            "#\n",
            "10 3 4 3 2 \n"
          ]
        }
      ]
    },
    {
      "cell_type": "markdown",
      "source": [
        "## Шоколадка.\n",
        "Саша, не сделал домашнюю работу, зато купил шоколадку. И, по глупости, начал распечатывать ее прямо на уроке... Шелест золотинки услышала учительница. Она хотела вызвать в школу родителей, но Саша уговорил ее не вызывать их, а дать дополнительное задание.\n",
        "\n",
        "Учительница внимательно посмотрела на шоколадку (она была размером 3х4 плиток), разделила на кусочки по две плитки и угостила всех, кто сделал домашнюю работу. А Сашу попросила написать программу, которая определяет, сколько существует способов деления шоколадки размером 3×N плиток на кусочки по две плитки.\n",
        "\n",
        "Для выполнения задания Саше нужна помощь.\n",
        "\n",
        "Примечание: все плитки в шоколадке пронумерованы, поэтому способы деления, симметричные относительно точки или оси могут будут разными.\n",
        "\n",
        "Формат входных данных\n",
        "На входе одно число N <= 10000\n",
        "\n",
        "Формат выходных данных\n",
        "Вывести одно число, количество способов разделить шоколадку."
      ],
      "metadata": {
        "id": "INWWzjzTNtH3"
      }
    },
    {
      "cell_type": "code",
      "source": [
        "# f(n) = 4 * f(n-2) - f(n-4), f(0) = 1, f(2) = 3, f(4) = 11\n",
        "n = int(input())\n",
        "result = 0\n",
        "if n % 2 == 0:\n",
        "  tmp_2 = 3\n",
        "  tmp_4 = 1\n",
        "  for i in range(0, n+1, 2):\n",
        "    if i == 0:\n",
        "      result = 1\n",
        "    if i == 2:\n",
        "      result = 3\n",
        "    if i >= 4:\n",
        "      result = 4 * tmp_2 - tmp_4\n",
        "      tmp_4 = tmp_2\n",
        "      tmp_2 = result\n",
        "print(result)\n"
      ],
      "metadata": {
        "colab": {
          "base_uri": "https://localhost:8080/"
        },
        "id": "Hkx00IxiNyLu",
        "outputId": "02f4325d-8518-439c-97f2-e2484bfa8ef9"
      },
      "execution_count": null,
      "outputs": [
        {
          "output_type": "stream",
          "name": "stdout",
          "text": [
            "6\n",
            "41\n"
          ]
        }
      ]
    },
    {
      "cell_type": "markdown",
      "source": [
        "## Степень строки\n",
        "Пусть задана строка s. Назовем ее k-ой (k > 0) степенью s^k строку s^k = sss (k раз). Например, третьей степенью строки abc является строка аbсаbсаbс.\n",
        "\n",
        "Корнем k степени из строки s называется такая строка t (если она существует), что t^k = s.\n",
        "\n",
        "Ваша задача состоит в том, чтобы написать программу, находящую степень строки или корень из нее.\n",
        "\n",
        "Формат входных данных\n",
        "На вход программе подается 2 строки. Первая содержит строку S, вторая - степень k. Отрицательная степень означает взятие корня соответствующей степени.\n",
        "\n",
        "Формат выходных данных\n",
        "Вывести строку, являющуюуся ответом на задачу. Если такой строки нет, то нужно вывести 'NO SOLUTION' (без кавычек)."
      ],
      "metadata": {
        "id": "HWzpx-k_dWKW"
      }
    },
    {
      "cell_type": "code",
      "source": [
        "s = input()\n",
        "k = int(input())\n",
        "result = ''\n",
        "if k > 0:\n",
        "  result = s * k\n",
        "if k < 0:\n",
        "  if k == -1:\n",
        "    result = s\n",
        "  elif len(s) % k == 0:\n",
        "    n = len(s)//abs(k)\n",
        "    for i in range(0, len(s)-n, n):\n",
        "      if s[i:i+n] == s[i+n:i+2*n]:\n",
        "        result = s[i:i+n]\n",
        "      else:\n",
        "        result = 'NO SOLUTION'\n",
        "        break\n",
        "  else:\n",
        "    result = 'NO SOLUTION'\n",
        "print(result)"
      ],
      "metadata": {
        "colab": {
          "base_uri": "https://localhost:8080/"
        },
        "id": "5Fj5LFxWeBGY",
        "outputId": "972f158b-93f6-43be-ce72-4af4b979fc3c"
      },
      "execution_count": null,
      "outputs": [
        {
          "output_type": "stream",
          "name": "stdout",
          "text": [
            "abcabcabcabc\n",
            "-4\n",
            "\n",
            "abc\n"
          ]
        }
      ]
    },
    {
      "cell_type": "markdown",
      "source": [
        "# Практика 7.\n"
      ],
      "metadata": {
        "id": "cb7VJm3O_qIn"
      }
    },
    {
      "cell_type": "markdown",
      "source": [
        "## Грузовик\n",
        "\n",
        "Вы - водитель грузовика с открытым кузовом. В кузове два груза: пианино и холодильник. Пианино необходимо доставить в институт, холодильник в общежитие. В каждое из этих мест ведет отдельная дорога, начинающаяся от перекрестка, на котором Вы стоите, других дорог в мире нет. Известно, что по дороге в институт есть мост, на котором действует ограничение максимальной допустимой массы автомобиля с грузом, а по дороге в общежитие есть туннель с ограничением высоты. Требуется определить, возможно ли доставить грузы или нет (разумеется, сгружать их, где попало, Вам запрещено).\n",
        "\n",
        "Формат входных данных\n",
        "На вход подается 8 чисел натуральных чисел (каждое < 100), каждое в новой строке, в следующем порядке: вес грузовика без груза, высота платформы кузова (на которой стоят грузы), вес пианино, высота пианино, вес холодильника, высота холодильника, максимальный допустимый вес на мосту, максимальная допустимая высота в туннеле\n",
        "\n",
        "Примечание: пианино и холодильник заведомо возвышаются над кабиной грузовика, т.е. высоту кабины можно в расчет не принимать.\n",
        "\n",
        "Формат выходных данных\n",
        "Вывести YES если доставка возможна и NO в противном случае."
      ],
      "metadata": {
        "id": "Bnse0reZEMtP"
      }
    },
    {
      "cell_type": "code",
      "source": [
        "def check():\n",
        "  weight_current = truck_weight + piano_weight + refrigerator_weight\n",
        "  height_current = truck_height + max(piano_height, refrigerator_height)\n",
        "  if weight_current <= max_weight:\n",
        "    height_current = truck_height + refrigerator_height\n",
        "    if height_current <= max_height:\n",
        "      return True\n",
        "  elif height_current <= max_height:\n",
        "    weight_current -= refrigerator_weight\n",
        "    if weight_current <= max_weight:\n",
        "      return True\n",
        "  return False\n",
        "\n",
        "\n",
        "truck_weight = int(input())\n",
        "truck_height = int(input())\n",
        "piano_weight = int(input()) # to institute\n",
        "piano_height = int(input())\n",
        "refrigerator_weight = int(input()) # to hostel\n",
        "refrigerator_height = int(input())\n",
        "max_weight = int(input()) # to institute\n",
        "max_height = int(input()) # to hostel\n",
        "\n",
        "print('YES' if check() else 'NO')\n",
        "\n",
        "\n"
      ],
      "metadata": {
        "colab": {
          "base_uri": "https://localhost:8080/"
        },
        "id": "rzIt4VOmE9gm",
        "outputId": "0f9be458-7623-4327-db5e-bd7e00eaef11"
      },
      "execution_count": null,
      "outputs": [
        {
          "output_type": "stream",
          "name": "stdout",
          "text": [
            "1\n",
            "1\n",
            "5\n",
            "10\n",
            "5\n",
            "10\n",
            "11\n",
            "11\n",
            "YES\n"
          ]
        }
      ]
    },
    {
      "cell_type": "markdown",
      "source": [
        "## Определение типа треугольника\n",
        "\n",
        "Определите тип треугольника (остроугольный, тупоугольный, прямоугольный) с данными сторонами.\n",
        "\n",
        "Формат входных данных\n",
        "Даны три натуральных числа – стороны треугольника. Каждое число вводится с новой строки.\n",
        "\n",
        "Формат выходных данных\n",
        "Необходимо вывести одно из слов: right для прямоугольного треугольника, acute для остроугольного треугольника, obtuse для тупоугольного треугольника или impossible, треугольника с такими сторонами не существует."
      ],
      "metadata": {
        "id": "UryauNORODWg"
      }
    },
    {
      "cell_type": "code",
      "source": [
        "def definition(sides):\n",
        "  hip = sides[0]\n",
        "  katet1 = sides[1]\n",
        "  katet2 = sides[2]\n",
        "  if hip >= katet1 + katet2: # МФТИ не принимает вырожденые треугольники как возможные\n",
        "    return 'impossible'\n",
        "  elif hip**2 > katet1**2 + katet2**2:\n",
        "    return 'obtuse'\n",
        "  elif hip**2 == katet1**2 + katet2**2:\n",
        "    return 'right'\n",
        "  else:\n",
        "    return 'acute'\n",
        "\n",
        "\n",
        "def sort_sides(sides):\n",
        "  max = sides[0]\n",
        "  max_index = 0\n",
        "  for i in range(1, 3):\n",
        "    if max < sides[i]:\n",
        "      max = sides[i]\n",
        "      max_index = i\n",
        "  temp = []\n",
        "  temp.append(max)\n",
        "  for i in range(3):\n",
        "    if i != max_index:\n",
        "      temp.append(sides[i])\n",
        "  return temp\n",
        "  \n",
        "\n",
        "sides = []\n",
        "for i in range(3):\n",
        "  sides.append(int(input()))\n",
        "sides = sort_sides(sides)\n",
        "print(definition(sides))\n"
      ],
      "metadata": {
        "colab": {
          "base_uri": "https://localhost:8080/"
        },
        "id": "nZ3HNiawOTM3",
        "outputId": "5b8707ab-6222-4536-e8dc-c978e1bbb9b3"
      },
      "execution_count": null,
      "outputs": [
        {
          "output_type": "stream",
          "name": "stdout",
          "text": [
            "3\n",
            "4\n",
            "5\n",
            "right\n"
          ]
        }
      ]
    },
    {
      "cell_type": "markdown",
      "source": [
        "## Среднее значение последовательности, заканчивающейся нулем\n",
        "\n",
        "На вход программе подается последовательность чисел, заканчивающихся нулем. Сам ноль не входит в последовательность. Найти среднее значение последовательности. Для округления использовать функцию round(x, n). Где x - число, n - количество знаков после запятой.\n",
        "\n",
        "Формат входных данных\n",
        "Последовательность чисел, заканчивающихся нулем. Одно число в строку.\n",
        "\n",
        "Формат выходных данных\n",
        "Одно число — среднее значение. Округлить до двух цифр после запятой."
      ],
      "metadata": {
        "id": "LI0eYW3dWmYR"
      }
    },
    {
      "cell_type": "code",
      "source": [
        "numbers = []\n",
        "a = int(input())\n",
        "while a!=0:\n",
        "  numbers.append(a)\n",
        "  a = int(input())\n",
        "sum = 0\n",
        "for i in numbers:\n",
        "  sum += i\n",
        "average = sum / len(numbers)\n",
        "print(round(average, 2))\n",
        "\n"
      ],
      "metadata": {
        "colab": {
          "base_uri": "https://localhost:8080/"
        },
        "id": "68SglRFZWqNX",
        "outputId": "17b737f3-320a-4e9b-9ff4-dbda4d986ce2"
      },
      "execution_count": null,
      "outputs": [
        {
          "output_type": "stream",
          "name": "stdout",
          "text": [
            "4\n",
            "8\n",
            "5\n",
            "0\n",
            "[4, 8, 5]\n",
            "5.67\n"
          ]
        }
      ]
    },
    {
      "cell_type": "markdown",
      "source": [
        "## Поиск максильного четного числа в последовательности\n",
        "\n",
        "Последовательность состоит из натуральных чисел и завершается числом 0. Определите значение наибольшего четного элемента последовательности. Числа, следующие за нулем, считывать не нужно.\n",
        "\n",
        "Формат входных данных\n",
        "Последовательность целых чисел, оканчивающаяся числом 0 (само число 0 в последовательность не входит). Каждое число на новой строке.\n",
        "\n",
        "Формат выходных данных\n",
        "Одно число — максимальное четное число в последовательности, если четные числа в ней присутствуют, иначе - 0."
      ],
      "metadata": {
        "id": "ToR5Ck2ZaAh4"
      }
    },
    {
      "cell_type": "code",
      "source": [
        "numbers = []\n",
        "a = int(input())\n",
        "while a!=0:\n",
        "  numbers.append(a)\n",
        "  a = int(input())\n",
        "result = 0\n",
        "for el in numbers:\n",
        "  result = el if el%2 == 0 and el > result else result\n",
        "print(result)"
      ],
      "metadata": {
        "colab": {
          "base_uri": "https://localhost:8080/"
        },
        "id": "IyF7nIlfaFFQ",
        "outputId": "6e2cedc8-f0bf-4ab6-9fb1-93ad9f2395fa"
      },
      "execution_count": null,
      "outputs": [
        {
          "output_type": "stream",
          "name": "stdout",
          "text": [
            "1\n",
            "3\n",
            "5\n",
            "0\n",
            "0\n"
          ]
        }
      ]
    },
    {
      "cell_type": "markdown",
      "source": [
        "## Первое число трибоначчи, превосходящее заданное\n",
        "\n",
        "Числа трибоначчи - последовательность целых чисел {t n }, заданная с помощью рекуррентного соотношения: t 0 = 0, t 1 = 0, t 2 = 1 , t n+3 = t n + t n+1 + t n+2 Нужно найти номер первого числа трибоначчи, превосходящего заданное. Нумерация начинается с 0 .\n",
        "\n",
        "Формат входных данных\n",
        "Одно целое число.\n",
        "\n",
        "Формат выходных данных\n",
        "Одно число — номер первого числа трибоначчи, превосходящее заданное во входных данных число."
      ],
      "metadata": {
        "id": "pTTgkJQgbIhR"
      }
    },
    {
      "cell_type": "code",
      "source": [
        "def tribon_bigger_than(n):\n",
        "  tribon_list = [0, 0, 1]\n",
        "  if n < 0:\n",
        "    return 0\n",
        "  tribon = 1\n",
        "  i = 2\n",
        "  while tribon <= n:\n",
        "    i += 1\n",
        "    tribon = tribon_list[i-3] + tribon_list[i-2] + tribon_list[i-1]\n",
        "    tribon_list.append(tribon)\n",
        "  return i\n",
        "\n",
        "\n",
        "n = int(input())\n",
        "print(tribon_bigger_than(n))"
      ],
      "metadata": {
        "colab": {
          "base_uri": "https://localhost:8080/"
        },
        "id": "I77PHygebidC",
        "outputId": "f8e1c8e9-4aca-4540-e5b7-a02d341a8c33"
      },
      "execution_count": null,
      "outputs": [
        {
          "output_type": "stream",
          "name": "stdout",
          "text": [
            "13\n",
            "8\n"
          ]
        }
      ]
    },
    {
      "cell_type": "markdown",
      "source": [
        "## Наибольший общий делитель\n",
        "\n",
        "Необходимо найти НОД двух чисел, используя алгоритм Евклида.\n",
        "\n",
        "Формат входных данных\n",
        "На вход подаются два натуральных числа, по числу в новой строке.\n",
        "\n",
        "Формат выходных данных\n",
        "Одно число - НОД входных чисел."
      ],
      "metadata": {
        "id": "6yCs03hceRYI"
      }
    },
    {
      "cell_type": "code",
      "source": [
        "def euclid(a, b):\n",
        "  if a % b == 0:\n",
        "    print(b)\n",
        "    return\n",
        "  euclid(b, a % b)\n",
        "\n",
        "\n",
        "x = int(input())\n",
        "y = int(input())\n",
        "euclid(max(y, x), min(y, x))"
      ],
      "metadata": {
        "colab": {
          "base_uri": "https://localhost:8080/"
        },
        "id": "FgC0nOQOebuo",
        "outputId": "a4a5cef0-d1fd-405c-9c55-cc3d8b427982"
      },
      "execution_count": null,
      "outputs": [
        {
          "output_type": "stream",
          "name": "stdout",
          "text": [
            "1071\n",
            "462\n",
            "21\n"
          ]
        }
      ]
    },
    {
      "cell_type": "markdown",
      "source": [
        "## Самое частое число\n",
        "\n",
        "На вход программе подается массив чисел.Необходимо найти число, которое чаще всего встречается в массиве. Гарантируется, что такое число одно.\n",
        "\n",
        "Формат входных данных\n",
        "В первой строке задается число N , длина массива, далее идут N чисел -- элементы массива. Все числа больше 0 и меньше 100. Каждое число вводится с новой строки.\n",
        "\n",
        "Формат выходных данных\n",
        "Одно число, которое встречается наибольшее количество раз."
      ],
      "metadata": {
        "id": "AA94RV9jiAY6"
      }
    },
    {
      "cell_type": "code",
      "source": [
        "N = int(input())\n",
        "numbers = [0] * N\n",
        "for i in range(N):\n",
        "  numbers[i] = int(input())\n",
        "result = numbers[0]\n",
        "max_count = 0\n",
        "max_count_num = 0\n",
        "for i in range(N):\n",
        "  count = 0\n",
        "  for j in range(i, N):\n",
        "    if numbers[j] == numbers[i]:\n",
        "      count += 1\n",
        "  if count > max_count:\n",
        "    max_count = count\n",
        "    max_count_num = numbers[i]\n",
        "print(max_count_num)"
      ],
      "metadata": {
        "colab": {
          "base_uri": "https://localhost:8080/"
        },
        "id": "pJFfawjBiDv6",
        "outputId": "bf6034b6-84a5-480a-ad4d-2176e8ca116c"
      },
      "execution_count": null,
      "outputs": [
        {
          "output_type": "stream",
          "name": "stdout",
          "text": [
            "4\n",
            "5\n",
            "5\n",
            "2\n",
            "5\n",
            "5\n"
          ]
        }
      ]
    },
    {
      "cell_type": "markdown",
      "source": [
        "## Скалярное произведение\n",
        "\n",
        "Одной из важнейших операций в линейной алгебре, аналитической геометрии, математическом анализе, анализе данных, искуственном интеллекте, компьютерной графике и в огромном количестве других областей математики и информатики является вычисление скалярного произведения двух векторов.\n",
        "\n",
        "Вычисляется скалярное произведение, как сумма произведений соответствующих компонент векторов.\n",
        "\n",
        "В данной задаче вам необходимо написать функцию dot_product(N, vector1, vector2) , вычисляющую скалярное произведение для двух заданных векторов одинаковой размерности N .\n",
        "\n",
        "Обратите внимание: в решении должно быть только объяевление одной функции dot_product и никакого другого кода.\n",
        "\n",
        "Аргументы функции\n",
        "Функция принимает в качестве аргументов размерность пространства N и 2 вектора. Гарантируется, что размерности векторов совпадают. Векторы заданы списками длины N .\n",
        "\n",
        "Возвращаемое значение\n",
        "Функция должна возвращать одно число -- скалярное произведение заданных векторов."
      ],
      "metadata": {
        "id": "OEkqzCPgl_GJ"
      }
    },
    {
      "cell_type": "code",
      "source": [
        "def dot_product(N, vector1, vector2):\n",
        "  sum = 0\n",
        "  for i in range(N):\n",
        "    sum += vector1[i] * vector2[i]\n",
        "  return sum"
      ],
      "metadata": {
        "id": "zt8gYEtXmFdh"
      },
      "execution_count": null,
      "outputs": []
    },
    {
      "cell_type": "markdown",
      "source": [
        "## Максимум неполного массива\n",
        "\n",
        "В некотором физическом эксперименте показания прибора снимались с частотой 5 измерений в секунду. Эксперимент проводился в течение довольно большого времени, и в результате накопилось очень много данных. Ученых, которые проводили данный эксперимент, очень интересует, какое максимальное значение измеряемой величины достигалось во время измерения. Но вот беда: на остановку установки также требуется секунда времени, и в течение этого времени с установки могут приходить совершенно любые значения величины. В связи с этим, показания последних 5 измерений учитывать при поиске максимального значения не следует.\n",
        "\n",
        "Вам необходимо написать программу, которая в данном потоке чисел заранее неизвестной длины находит максимальное значение, отбрасывая при этом последние 5 измерений.\n",
        "\n",
        "Формат входных данных\n",
        "На вход вашей программе передается последовательность натуральных чисел -- результаты измерений. Каждое новое число передается с новой строки. Гарантируется, что длина входной последовательности не меньше 6 и не превосходит 10 9 . На конце последовательности передается число 0.\n",
        "\n",
        "Формат выходных данных\n",
        "Программа должна вывести на экран одно число -- максимальное значение входной последовательности за исключением последних 5 элементов."
      ],
      "metadata": {
        "id": "qYG0tcuvnCKr"
      }
    },
    {
      "cell_type": "code",
      "source": [
        "# Решение с экономией памяти\n",
        "numbers = [0] * 6\n",
        "max = 0\n",
        "while True:\n",
        "  measure = int(input())\n",
        "  if measure == 0:\n",
        "    break\n",
        "  for i in range(5):\n",
        "    numbers[i] = numbers[i+1]\n",
        "  numbers[5] = measure\n",
        "  max = max if max > numbers[0] else numbers[0]\n",
        "print(max)\n"
      ],
      "metadata": {
        "colab": {
          "base_uri": "https://localhost:8080/"
        },
        "id": "JUiRTp2UnGoa",
        "outputId": "42b951e5-148e-42e6-ddca-0890f6058b48"
      },
      "execution_count": null,
      "outputs": [
        {
          "output_type": "stream",
          "name": "stdout",
          "text": [
            "1\n",
            "2\n",
            "3\n",
            "4\n",
            "5\n",
            "6\n",
            "0\n",
            "1\n"
          ]
        }
      ]
    },
    {
      "cell_type": "code",
      "source": [
        "# Решение без экономии памяти\n",
        "numbers = []\n",
        "measure = int(input())\n",
        "while measure != 0:\n",
        "  numbers.append(measure)\n",
        "  measure = int(input())\n",
        "max = 0 \n",
        "for i in range(len(numbers)-5):\n",
        "  if numbers[i] > max:\n",
        "    max = numbers[i]\n",
        "print(max)"
      ],
      "metadata": {
        "colab": {
          "base_uri": "https://localhost:8080/"
        },
        "id": "MXLaYOmZudrM",
        "outputId": "83bfcf99-44ac-48cb-ceaa-ed87cb39421b"
      },
      "execution_count": null,
      "outputs": [
        {
          "output_type": "stream",
          "name": "stdout",
          "text": [
            "1\n",
            "2\n",
            "3\n",
            "4\n",
            "5\n",
            "6\n",
            "0\n",
            "1\n"
          ]
        }
      ]
    },
    {
      "cell_type": "markdown",
      "source": [
        "## Раскраска прямой\n",
        "\n",
        "Напротив Васиного дома поставили забор, состоящий из 10^9 дощечек. Каждый день, выгдядывая в окно, он видел, что часть забора с дощечки l[ i ] до дощечки r[ i ] красят в цвет c[ i ]. При этом он записывал, какой отрезок забора в какой цвет красили. Эти данные он предоставил Вам и просил ответить на вопрос: в какой цвет будут выкрашены интересующие Васю дощечки через N дней? Изначально все дощечки были цвета 0.\n",
        "\n",
        "Формат входных данных\n",
        "На первой строке вводится число 0 <= N <= 100 - количество дней. Далее на 3*N строках идут тройки чисел (каждое в новой строке): 1 <= l i <= r i <= 10^9 и 0 <= c i <= 10 6 . Далее идет число 0 < M <= 100 - число интересующих Васю дощечек. Далее на M строках номера дощечек.\n",
        "\n",
        "Формат выходных данных\n",
        "Вывести M чисел, разделенных пробелами - цвета дощечек."
      ],
      "metadata": {
        "id": "M9SP2KQ0teuz"
      }
    },
    {
      "cell_type": "code",
      "source": [
        "n = int(input()) # Количество дней\n",
        "l = [0] * n \n",
        "r = [0] * n\n",
        "c = [0] * n\n",
        "for i in range(n):\n",
        "  l[i] = int(input()) # красят в i день, начиная с этой доски\n",
        "  r[i] = int(input()) # красят в i день, ДО? этой доски\n",
        "  c[i] = int(input()) # цвет в день i\n",
        "m = int(input()) # число интересных досок\n",
        "b = [0] * m # список интересных досок\n",
        "for i in range(m):\n",
        "  b[i] = int(input()) \n",
        "result = [0] * m\n",
        "for i in range(n):\n",
        "  for j in range(m):\n",
        "    if l[i] <= b[j] < r[i]:\n",
        "      result[j] = c[i]\n",
        "print(*result)\n",
        "\n",
        "\n",
        "\n"
      ],
      "metadata": {
        "colab": {
          "base_uri": "https://localhost:8080/"
        },
        "id": "StZRFpLutibj",
        "outputId": "79fca81e-bc72-4edf-c75a-52d76550faea"
      },
      "execution_count": null,
      "outputs": [
        {
          "output_type": "stream",
          "name": "stdout",
          "text": [
            "3\n",
            "4\n",
            "6\n",
            "2\n",
            "7\n",
            "19\n",
            "6\n",
            "13\n",
            "15\n",
            "1\n",
            "2\n",
            "5\n",
            "14\n",
            "2 1\n"
          ]
        }
      ]
    }
  ]
}