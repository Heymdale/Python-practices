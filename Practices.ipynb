{
  "nbformat": 4,
  "nbformat_minor": 0,
  "metadata": {
    "colab": {
      "name": "Practices.ipynb",
      "provenance": [],
      "collapsed_sections": [
        "6KfTMaVtGZBu",
        "uTptR2RvF1Jv",
        "OKnx4Wdk3T6v",
        "cb7VJm3O_qIn"
      ],
      "authorship_tag": "ABX9TyPHV77mV34BC2GkKCo0S2Gs",
      "include_colab_link": true
    },
    "kernelspec": {
      "name": "python3",
      "display_name": "Python 3"
    },
    "language_info": {
      "name": "python"
    }
  },
  "cells": [
    {
      "cell_type": "markdown",
      "metadata": {
        "id": "view-in-github",
        "colab_type": "text"
      },
      "source": [
        "<a href=\"https://colab.research.google.com/github/Heymdale/Python-practices/blob/main/Practices.ipynb\" target=\"_parent\"><img src=\"https://colab.research.google.com/assets/colab-badge.svg\" alt=\"Open In Colab\"/></a>"
      ]
    },
    {
      "cell_type": "markdown",
      "source": [
        "# Практика 1. Черепаха.\n"
      ],
      "metadata": {
        "id": "64aTL98R-WV0"
      }
    },
    {
      "cell_type": "markdown",
      "source": [
        "Пробуем выполнять команды."
      ],
      "metadata": {
        "id": "FELIPoJQ-ax8"
      }
    },
    {
      "cell_type": "code",
      "source": [
        "print(2 + 2)\n",
        "print(2 ** 100)\n",
        "print('Hello' + 'World')\n",
        "print('ABC' * 10)"
      ],
      "metadata": {
        "colab": {
          "base_uri": "https://localhost:8080/"
        },
        "id": "pIbtVdk8_BLV",
        "outputId": "aa42ab41-fe8d-4671-bfef-b498b49eb687"
      },
      "execution_count": null,
      "outputs": [
        {
          "output_type": "stream",
          "name": "stdout",
          "text": [
            "4\n",
            "1267650600228229401496703205376\n",
            "HelloWorld\n",
            "ABCABCABCABCABCABCABCABCABCABC\n"
          ]
        }
      ]
    },
    {
      "cell_type": "markdown",
      "source": [
        "Собсвенно повторяем то, что проходил и выполняли, записывая первые лекции, отметим несколько хоть немного интересных моментов.\n",
        "\n",
        "Можно задавать начальные и конечные значения для переменной цикла, а также шаг:\n",
        "\n",
        "```\n",
        "for i in range(20, 10, -2):\n",
        "  print(i)\n",
        "```\n",
        "Аналогичный цикл while\n",
        "```\n",
        "i = 20\n",
        "while i > 10:\n",
        "  print(i)\n",
        "  i -= 2\n",
        "```\n",
        "Каскадные условные конструкции.\n",
        "```\n",
        "x = int(input())\n",
        "y = int(input())\n",
        "if x > 0 and y > 0:\n",
        "    print(\"Первая четверть\")\n",
        "elif x > 0 and y < 0:\n",
        "    print(\"Четвертая четверть\")\n",
        "elif y > 0:\n",
        "    print(\"Вторая четверть\")\n",
        "else:\n",
        "    print(\"Третья четверть\")\n",
        "```\n",
        "В питоне есть модуль turtle, у меня в средней школе программа называлась logowriter)\n",
        "\n",
        "Команда\tЗначение\n",
        "\n",
        "forward(X)\tПройти вперёд X пикселей\n",
        "\n",
        "backward(X)\tПройти назад X пикселей\n",
        "\n",
        "left(X)\tПовернуться налево на X градусов\n",
        "\n",
        "right(X)\tПовернуться направо на X градусов\n",
        "\n",
        "penup()\tНе оставлять след при движении\n",
        "\n",
        "pendown()\tОставлять след при движении\n",
        "\n",
        "shape(X)\tИзменить значок черепахи (“arrow”, “turtle”, “circle”, “square”, “triangle”, “classic”)\n",
        "\n",
        "stamp()\tНарисовать копию черепахи в текущем месте\n",
        "\n",
        "color()\tУстановить цвет\n",
        "\n",
        "begin_fill()\tНеобходимо вызвать перед рисованием фигуры, которую надо закрасить\n",
        "\n",
        "end_fill()\tВызвать после окончания рисования фигуры\n",
        "\n",
        "width()\tУстановить толщину линии\n",
        "\n",
        "goto(x, y)\tПереместить черепашку в точку (x, y)\n",
        "\n",
        "\n",
        "В Google Colab по-умолчанию нет черепашки, мы должны её установить и инициализировать, ну и импортировать само собой.\n",
        "!pip3 install ColabTurtle\n",
        "import ColabTurtle.Turtle as turtle\n",
        "turtle.initializeTurtle()\n",
        "\n",
        "\n",
        "Со скоростью в любом случае есть проблемы, решения нашёл только для старой нативной черепашки."
      ],
      "metadata": {
        "id": "JD6FdbBKA0Ru"
      }
    },
    {
      "cell_type": "code",
      "source": [
        "!pip3 install ColabTurtle\n",
        "import ColabTurtle.Turtle as turtle\n",
        "\n",
        "\n",
        "turtle.initializeTurtle()\n",
        "turtle.shape('turtle')\n",
        "turtle.forward(50)\n",
        "turtle.left(90)\n",
        "turtle.forward(50)\n",
        "turtle.left(90)\n",
        "turtle.forward(50)\n",
        "turtle.right(90)\n",
        "turtle.forward(50)\n",
        "turtle.right(90)\n",
        "turtle.forward(50)"
      ],
      "metadata": {
        "colab": {
          "base_uri": "https://localhost:8080/",
          "height": 678
        },
        "id": "pSTSICzrCWX1",
        "outputId": "888126aa-bbbf-48f9-c5e0-e9de54746785"
      },
      "execution_count": null,
      "outputs": [
        {
          "output_type": "stream",
          "name": "stdout",
          "text": [
            "Collecting ColabTurtle\n",
            "  Downloading ColabTurtle-2.1.0.tar.gz (6.8 kB)\n",
            "Building wheels for collected packages: ColabTurtle\n",
            "  Building wheel for ColabTurtle (setup.py) ... \u001b[?25l\u001b[?25hdone\n",
            "  Created wheel for ColabTurtle: filename=ColabTurtle-2.1.0-py3-none-any.whl size=7655 sha256=021d5a36aed654eb2bdd67c0f4278a9386f5794c3ce03e27af9d59fc802f5ff7\n",
            "  Stored in directory: /root/.cache/pip/wheels/0d/ab/65/cc4478508751448dfb4ecb20a6533082855c227dfce8c13902\n",
            "Successfully built ColabTurtle\n",
            "Installing collected packages: ColabTurtle\n",
            "Successfully installed ColabTurtle-2.1.0\n"
          ]
        },
        {
          "output_type": "display_data",
          "data": {
            "text/html": [
              "\n",
              "      <svg width=\"800\" height=\"500\">\n",
              "        <rect width=\"100%\" height=\"100%\" fill=\"black\"/>\n",
              "        <line x1=\"400\" y1=\"250\" x2=\"400.0\" y2=\"200.0\" stroke-linecap=\"round\" style=\"stroke:white;stroke-width:4\"/><line x1=\"400.0\" y1=\"200.0\" x2=\"350.0\" y2=\"200.0\" stroke-linecap=\"round\" style=\"stroke:white;stroke-width:4\"/><line x1=\"350.0\" y1=\"200.0\" x2=\"350.0\" y2=\"250.0\" stroke-linecap=\"round\" style=\"stroke:white;stroke-width:4\"/><line x1=\"350.0\" y1=\"250.0\" x2=\"300.0\" y2=\"250.0\" stroke-linecap=\"round\" style=\"stroke:white;stroke-width:4\"/><line x1=\"300.0\" y1=\"250.0\" x2=\"300.0\" y2=\"200.0\" stroke-linecap=\"round\" style=\"stroke:white;stroke-width:4\"/>\n",
              "        <g visibility=visible transform=\"rotate(360,300.0,200.0) translate(282.0, 182.0)\">\n",
              "<path style=\" stroke:none;fill-rule:evenodd;fill:white;fill-opacity:1;\" d=\"M 18.214844 0.632812 C 16.109375 1.800781 15.011719 4.074219 15.074219 7.132812 L 15.085938 7.652344 L 14.785156 7.496094 C 13.476562 6.824219 11.957031 6.671875 10.40625 7.066406 C 8.46875 7.550781 6.515625 9.15625 4.394531 11.992188 C 3.0625 13.777344 2.679688 14.636719 3.042969 15.027344 L 3.15625 15.152344 L 3.519531 15.152344 C 4.238281 15.152344 4.828125 14.886719 8.1875 13.039062 C 9.386719 12.378906 10.371094 11.839844 10.378906 11.839844 C 10.386719 11.839844 10.355469 11.929688 10.304688 12.035156 C 9.832031 13.09375 9.257812 14.820312 8.96875 16.078125 C 7.914062 20.652344 8.617188 24.53125 11.070312 27.660156 C 11.351562 28.015625 11.363281 27.914062 10.972656 28.382812 C 8.925781 30.84375 7.945312 33.28125 8.238281 35.1875 C 8.289062 35.527344 8.28125 35.523438 8.917969 35.523438 C 10.941406 35.523438 13.074219 34.207031 15.136719 31.6875 C 15.359375 31.417969 15.328125 31.425781 15.5625 31.574219 C 16.292969 32.042969 18.023438 32.964844 18.175781 32.964844 C 18.335938 32.964844 19.941406 32.210938 20.828125 31.71875 C 20.996094 31.625 21.136719 31.554688 21.136719 31.558594 C 21.203125 31.664062 21.898438 32.414062 22.222656 32.730469 C 23.835938 34.300781 25.5625 35.132812 27.582031 35.300781 C 27.90625 35.328125 27.9375 35.308594 28.007812 34.984375 C 28.382812 33.242188 27.625 30.925781 25.863281 28.425781 L 25.542969 27.96875 L 25.699219 27.785156 C 28.945312 23.960938 29.132812 18.699219 26.257812 11.96875 L 26.207031 11.84375 L 27.945312 12.703125 C 31.53125 14.476562 32.316406 14.800781 33.03125 14.800781 C 33.976562 14.800781 33.78125 13.9375 32.472656 12.292969 C 28.519531 7.355469 25.394531 5.925781 21.921875 7.472656 L 21.558594 7.636719 L 21.578125 7.542969 C 21.699219 6.992188 21.761719 5.742188 21.699219 5.164062 C 21.496094 3.296875 20.664062 1.964844 19.003906 0.855469 C 18.480469 0.503906 18.457031 0.5 18.214844 0.632812\"/>\n",
              "</g>\n",
              "      </svg>\n",
              "    "
            ],
            "text/plain": [
              "<IPython.core.display.HTML object>"
            ]
          },
          "metadata": {}
        }
      ]
    },
    {
      "cell_type": "markdown",
      "source": [
        "Упражнение 3. Квадрат."
      ],
      "metadata": {
        "id": "ggo3oD3eGdYO"
      }
    },
    {
      "cell_type": "code",
      "source": [
        "!pip3 install ColabTurtle\n",
        "from ColabTurtle.Turtle import *\n",
        "\n",
        "\n",
        "initializeTurtle()\n",
        "penup()\n",
        "goto(450, 300)\n",
        "pendown()\n",
        "forward(100)\n",
        "left(90)\n",
        "forward(100)\n",
        "left(90)\n",
        "forward(100)\n",
        "left(90)\n",
        "forward(100)"
      ],
      "metadata": {
        "id": "4o11h2DDGimM",
        "colab": {
          "base_uri": "https://localhost:8080/",
          "height": 521
        },
        "outputId": "43b1eb7d-7ce2-4531-9362-f79c1831d273"
      },
      "execution_count": null,
      "outputs": [
        {
          "output_type": "display_data",
          "data": {
            "text/html": [
              "\n",
              "      <svg width=\"800\" height=\"500\">\n",
              "        <rect width=\"100%\" height=\"100%\" fill=\"black\"/>\n",
              "        <line x1=\"450\" y1=\"300\" x2=\"450.0\" y2=\"200.0\" stroke-linecap=\"round\" style=\"stroke:white;stroke-width:4\"/><line x1=\"450.0\" y1=\"200.0\" x2=\"350.0\" y2=\"200.0\" stroke-linecap=\"round\" style=\"stroke:white;stroke-width:4\"/><line x1=\"350.0\" y1=\"200.0\" x2=\"350.0\" y2=\"300.0\" stroke-linecap=\"round\" style=\"stroke:white;stroke-width:4\"/><line x1=\"350.0\" y1=\"300.0\" x2=\"450.0\" y2=\"300.0\" stroke-linecap=\"round\" style=\"stroke:white;stroke-width:4\"/>\n",
              "        <g visibility=visible transform=\"rotate(90,450.0,300.0) translate(432.0, 282.0)\">\n",
              "<path style=\" stroke:none;fill-rule:evenodd;fill:white;fill-opacity:1;\" d=\"M 18.214844 0.632812 C 16.109375 1.800781 15.011719 4.074219 15.074219 7.132812 L 15.085938 7.652344 L 14.785156 7.496094 C 13.476562 6.824219 11.957031 6.671875 10.40625 7.066406 C 8.46875 7.550781 6.515625 9.15625 4.394531 11.992188 C 3.0625 13.777344 2.679688 14.636719 3.042969 15.027344 L 3.15625 15.152344 L 3.519531 15.152344 C 4.238281 15.152344 4.828125 14.886719 8.1875 13.039062 C 9.386719 12.378906 10.371094 11.839844 10.378906 11.839844 C 10.386719 11.839844 10.355469 11.929688 10.304688 12.035156 C 9.832031 13.09375 9.257812 14.820312 8.96875 16.078125 C 7.914062 20.652344 8.617188 24.53125 11.070312 27.660156 C 11.351562 28.015625 11.363281 27.914062 10.972656 28.382812 C 8.925781 30.84375 7.945312 33.28125 8.238281 35.1875 C 8.289062 35.527344 8.28125 35.523438 8.917969 35.523438 C 10.941406 35.523438 13.074219 34.207031 15.136719 31.6875 C 15.359375 31.417969 15.328125 31.425781 15.5625 31.574219 C 16.292969 32.042969 18.023438 32.964844 18.175781 32.964844 C 18.335938 32.964844 19.941406 32.210938 20.828125 31.71875 C 20.996094 31.625 21.136719 31.554688 21.136719 31.558594 C 21.203125 31.664062 21.898438 32.414062 22.222656 32.730469 C 23.835938 34.300781 25.5625 35.132812 27.582031 35.300781 C 27.90625 35.328125 27.9375 35.308594 28.007812 34.984375 C 28.382812 33.242188 27.625 30.925781 25.863281 28.425781 L 25.542969 27.96875 L 25.699219 27.785156 C 28.945312 23.960938 29.132812 18.699219 26.257812 11.96875 L 26.207031 11.84375 L 27.945312 12.703125 C 31.53125 14.476562 32.316406 14.800781 33.03125 14.800781 C 33.976562 14.800781 33.78125 13.9375 32.472656 12.292969 C 28.519531 7.355469 25.394531 5.925781 21.921875 7.472656 L 21.558594 7.636719 L 21.578125 7.542969 C 21.699219 6.992188 21.761719 5.742188 21.699219 5.164062 C 21.496094 3.296875 20.664062 1.964844 19.003906 0.855469 C 18.480469 0.503906 18.457031 0.5 18.214844 0.632812\"/>\n",
              "</g>\n",
              "      </svg>\n",
              "    "
            ],
            "text/plain": [
              "<IPython.core.display.HTML object>"
            ]
          },
          "metadata": {}
        }
      ]
    },
    {
      "cell_type": "markdown",
      "source": [
        "Упражнение 4. Круг."
      ],
      "metadata": {
        "id": "kpA58NVhJZUO"
      }
    },
    {
      "cell_type": "code",
      "source": [
        "!pip3 install ColabTurtle\n",
        "from ColabTurtle.Turtle import *\n",
        "\n",
        "\n",
        "initializeTurtle()\n",
        "\n",
        "\n",
        "def polygon(number_of_lines, length_of_lines, is_left=True):\n",
        "  for i in range(number_of_lines):\n",
        "    forward(length_of_lines)\n",
        "    if is_left:\n",
        "      left(360/number_of_lines)\n",
        "    else:\n",
        "      right(360/number_of_lines)\n",
        "\n",
        "speed()\n",
        "penup()\n",
        "goto(450, 300)\n",
        "pendown()\n",
        "polygon(36,10)\n",
        "\n"
      ],
      "metadata": {
        "id": "AdnYjHDyJfel",
        "colab": {
          "base_uri": "https://localhost:8080/",
          "height": 521
        },
        "outputId": "adf5327a-44da-44f7-c6bf-2dec322d2241"
      },
      "execution_count": null,
      "outputs": [
        {
          "output_type": "display_data",
          "data": {
            "text/html": [
              "\n",
              "      <svg width=\"800\" height=\"500\">\n",
              "        <rect width=\"100%\" height=\"100%\" fill=\"black\"/>\n",
              "        <line x1=\"450\" y1=\"300\" x2=\"450.0\" y2=\"290.0\" stroke-linecap=\"round\" style=\"stroke:white;stroke-width:4\"/><line x1=\"450.0\" y1=\"290.0\" x2=\"448.264\" y2=\"280.152\" stroke-linecap=\"round\" style=\"stroke:white;stroke-width:4\"/><line x1=\"448.264\" y1=\"280.152\" x2=\"444.844\" y2=\"270.755\" stroke-linecap=\"round\" style=\"stroke:white;stroke-width:4\"/><line x1=\"444.844\" y1=\"270.755\" x2=\"439.844\" y2=\"262.095\" stroke-linecap=\"round\" style=\"stroke:white;stroke-width:4\"/><line x1=\"439.844\" y1=\"262.095\" x2=\"433.416\" y2=\"254.435\" stroke-linecap=\"round\" style=\"stroke:white;stroke-width:4\"/><line x1=\"433.416\" y1=\"254.435\" x2=\"425.756\" y2=\"248.007\" stroke-linecap=\"round\" style=\"stroke:white;stroke-width:4\"/><line x1=\"425.756\" y1=\"248.007\" x2=\"417.096\" y2=\"243.007\" stroke-linecap=\"round\" style=\"stroke:white;stroke-width:4\"/><line x1=\"417.096\" y1=\"243.007\" x2=\"407.699\" y2=\"239.587\" stroke-linecap=\"round\" style=\"stroke:white;stroke-width:4\"/><line x1=\"407.699\" y1=\"239.587\" x2=\"397.851\" y2=\"237.851\" stroke-linecap=\"round\" style=\"stroke:white;stroke-width:4\"/><line x1=\"397.851\" y1=\"237.851\" x2=\"387.851\" y2=\"237.851\" stroke-linecap=\"round\" style=\"stroke:white;stroke-width:4\"/><line x1=\"387.851\" y1=\"237.851\" x2=\"378.003\" y2=\"239.587\" stroke-linecap=\"round\" style=\"stroke:white;stroke-width:4\"/><line x1=\"378.003\" y1=\"239.587\" x2=\"368.606\" y2=\"243.007\" stroke-linecap=\"round\" style=\"stroke:white;stroke-width:4\"/><line x1=\"368.606\" y1=\"243.007\" x2=\"359.946\" y2=\"248.007\" stroke-linecap=\"round\" style=\"stroke:white;stroke-width:4\"/><line x1=\"359.946\" y1=\"248.007\" x2=\"352.286\" y2=\"254.435\" stroke-linecap=\"round\" style=\"stroke:white;stroke-width:4\"/><line x1=\"352.286\" y1=\"254.435\" x2=\"345.858\" y2=\"262.095\" stroke-linecap=\"round\" style=\"stroke:white;stroke-width:4\"/><line x1=\"345.858\" y1=\"262.095\" x2=\"340.858\" y2=\"270.755\" stroke-linecap=\"round\" style=\"stroke:white;stroke-width:4\"/><line x1=\"340.858\" y1=\"270.755\" x2=\"337.438\" y2=\"280.152\" stroke-linecap=\"round\" style=\"stroke:white;stroke-width:4\"/><line x1=\"337.438\" y1=\"280.152\" x2=\"335.702\" y2=\"290.0\" stroke-linecap=\"round\" style=\"stroke:white;stroke-width:4\"/><line x1=\"335.702\" y1=\"290.0\" x2=\"335.702\" y2=\"300.0\" stroke-linecap=\"round\" style=\"stroke:white;stroke-width:4\"/><line x1=\"335.702\" y1=\"300.0\" x2=\"337.438\" y2=\"309.848\" stroke-linecap=\"round\" style=\"stroke:white;stroke-width:4\"/><line x1=\"337.438\" y1=\"309.848\" x2=\"340.858\" y2=\"319.245\" stroke-linecap=\"round\" style=\"stroke:white;stroke-width:4\"/><line x1=\"340.858\" y1=\"319.245\" x2=\"345.858\" y2=\"327.905\" stroke-linecap=\"round\" style=\"stroke:white;stroke-width:4\"/><line x1=\"345.858\" y1=\"327.905\" x2=\"352.286\" y2=\"335.565\" stroke-linecap=\"round\" style=\"stroke:white;stroke-width:4\"/><line x1=\"352.286\" y1=\"335.565\" x2=\"359.946\" y2=\"341.993\" stroke-linecap=\"round\" style=\"stroke:white;stroke-width:4\"/><line x1=\"359.946\" y1=\"341.993\" x2=\"368.606\" y2=\"346.993\" stroke-linecap=\"round\" style=\"stroke:white;stroke-width:4\"/><line x1=\"368.606\" y1=\"346.993\" x2=\"378.003\" y2=\"350.413\" stroke-linecap=\"round\" style=\"stroke:white;stroke-width:4\"/><line x1=\"378.003\" y1=\"350.413\" x2=\"387.851\" y2=\"352.149\" stroke-linecap=\"round\" style=\"stroke:white;stroke-width:4\"/><line x1=\"387.851\" y1=\"352.149\" x2=\"397.851\" y2=\"352.149\" stroke-linecap=\"round\" style=\"stroke:white;stroke-width:4\"/><line x1=\"397.851\" y1=\"352.149\" x2=\"407.699\" y2=\"350.413\" stroke-linecap=\"round\" style=\"stroke:white;stroke-width:4\"/><line x1=\"407.699\" y1=\"350.413\" x2=\"417.096\" y2=\"346.993\" stroke-linecap=\"round\" style=\"stroke:white;stroke-width:4\"/><line x1=\"417.096\" y1=\"346.993\" x2=\"425.756\" y2=\"341.993\" stroke-linecap=\"round\" style=\"stroke:white;stroke-width:4\"/><line x1=\"425.756\" y1=\"341.993\" x2=\"433.416\" y2=\"335.565\" stroke-linecap=\"round\" style=\"stroke:white;stroke-width:4\"/><line x1=\"433.416\" y1=\"335.565\" x2=\"439.844\" y2=\"327.905\" stroke-linecap=\"round\" style=\"stroke:white;stroke-width:4\"/><line x1=\"439.844\" y1=\"327.905\" x2=\"444.844\" y2=\"319.245\" stroke-linecap=\"round\" style=\"stroke:white;stroke-width:4\"/><line x1=\"444.844\" y1=\"319.245\" x2=\"448.264\" y2=\"309.848\" stroke-linecap=\"round\" style=\"stroke:white;stroke-width:4\"/><line x1=\"448.264\" y1=\"309.848\" x2=\"450.0\" y2=\"300.0\" stroke-linecap=\"round\" style=\"stroke:white;stroke-width:4\"/>\n",
              "        <g visibility=visible transform=\"rotate(360.0,450.0,300.0) translate(432.0, 282.0)\">\n",
              "<path style=\" stroke:none;fill-rule:evenodd;fill:white;fill-opacity:1;\" d=\"M 18.214844 0.632812 C 16.109375 1.800781 15.011719 4.074219 15.074219 7.132812 L 15.085938 7.652344 L 14.785156 7.496094 C 13.476562 6.824219 11.957031 6.671875 10.40625 7.066406 C 8.46875 7.550781 6.515625 9.15625 4.394531 11.992188 C 3.0625 13.777344 2.679688 14.636719 3.042969 15.027344 L 3.15625 15.152344 L 3.519531 15.152344 C 4.238281 15.152344 4.828125 14.886719 8.1875 13.039062 C 9.386719 12.378906 10.371094 11.839844 10.378906 11.839844 C 10.386719 11.839844 10.355469 11.929688 10.304688 12.035156 C 9.832031 13.09375 9.257812 14.820312 8.96875 16.078125 C 7.914062 20.652344 8.617188 24.53125 11.070312 27.660156 C 11.351562 28.015625 11.363281 27.914062 10.972656 28.382812 C 8.925781 30.84375 7.945312 33.28125 8.238281 35.1875 C 8.289062 35.527344 8.28125 35.523438 8.917969 35.523438 C 10.941406 35.523438 13.074219 34.207031 15.136719 31.6875 C 15.359375 31.417969 15.328125 31.425781 15.5625 31.574219 C 16.292969 32.042969 18.023438 32.964844 18.175781 32.964844 C 18.335938 32.964844 19.941406 32.210938 20.828125 31.71875 C 20.996094 31.625 21.136719 31.554688 21.136719 31.558594 C 21.203125 31.664062 21.898438 32.414062 22.222656 32.730469 C 23.835938 34.300781 25.5625 35.132812 27.582031 35.300781 C 27.90625 35.328125 27.9375 35.308594 28.007812 34.984375 C 28.382812 33.242188 27.625 30.925781 25.863281 28.425781 L 25.542969 27.96875 L 25.699219 27.785156 C 28.945312 23.960938 29.132812 18.699219 26.257812 11.96875 L 26.207031 11.84375 L 27.945312 12.703125 C 31.53125 14.476562 32.316406 14.800781 33.03125 14.800781 C 33.976562 14.800781 33.78125 13.9375 32.472656 12.292969 C 28.519531 7.355469 25.394531 5.925781 21.921875 7.472656 L 21.558594 7.636719 L 21.578125 7.542969 C 21.699219 6.992188 21.761719 5.742188 21.699219 5.164062 C 21.496094 3.296875 20.664062 1.964844 19.003906 0.855469 C 18.480469 0.503906 18.457031 0.5 18.214844 0.632812\"/>\n",
              "</g>\n",
              "      </svg>\n",
              "    "
            ],
            "text/plain": [
              "<IPython.core.display.HTML object>"
            ]
          },
          "metadata": {}
        }
      ]
    },
    {
      "cell_type": "markdown",
      "source": [
        "**Упражнение №5: больше квадратов**\n",
        "\n",
        "Нарисуйте 10 вложенных квадратов."
      ],
      "metadata": {
        "id": "hddZVtcHNdnV"
      }
    },
    {
      "cell_type": "code",
      "source": [
        "!pip3 install ColabTurtle\n",
        "from ColabTurtle.Turtle import *\n",
        "\n",
        "def squares(number_of_squares, length_of_first_square_lines):\n",
        "  for i in range(number_of_squares):\n",
        "    length_of_this_square_lines = length_of_first_square_lines + i * 20\n",
        "    polygon(4, length_of_this_square_lines )\n",
        "    penup()\n",
        "    backward(10)\n",
        "    right(90)\n",
        "    forward(10)\n",
        "    left(90)\n",
        "    pendown()\n",
        "\n",
        "\n",
        "initializeTurtle()\n",
        "\n",
        "squares(10, 10)\n"
      ],
      "metadata": {
        "id": "tKkZgEgjNrel",
        "colab": {
          "base_uri": "https://localhost:8080/"
        },
        "outputId": "6779343c-ca84-4e95-927f-4bfefedaef6e"
      },
      "execution_count": null,
      "outputs": [
        {
          "output_type": "display_data",
          "data": {
            "text/html": [
              "\n",
              "      <svg width=\"800\" height=\"500\">\n",
              "        <rect width=\"100%\" height=\"100%\" fill=\"black\"/>\n",
              "        <line x1=\"400\" y1=\"250\" x2=\"400.0\" y2=\"240.0\" stroke-linecap=\"round\" style=\"stroke:white;stroke-width:4\"/><line x1=\"400.0\" y1=\"240.0\" x2=\"390.0\" y2=\"240.0\" stroke-linecap=\"round\" style=\"stroke:white;stroke-width:4\"/><line x1=\"390.0\" y1=\"240.0\" x2=\"390.0\" y2=\"250.0\" stroke-linecap=\"round\" style=\"stroke:white;stroke-width:4\"/><line x1=\"390.0\" y1=\"250.0\" x2=\"400.0\" y2=\"250.0\" stroke-linecap=\"round\" style=\"stroke:white;stroke-width:4\"/><line x1=\"410.0\" y1=\"260.0\" x2=\"410.0\" y2=\"230.0\" stroke-linecap=\"round\" style=\"stroke:white;stroke-width:4\"/><line x1=\"410.0\" y1=\"230.0\" x2=\"380.0\" y2=\"230.0\" stroke-linecap=\"round\" style=\"stroke:white;stroke-width:4\"/><line x1=\"380.0\" y1=\"230.0\" x2=\"380.0\" y2=\"260.0\" stroke-linecap=\"round\" style=\"stroke:white;stroke-width:4\"/><line x1=\"380.0\" y1=\"260.0\" x2=\"410.0\" y2=\"260.0\" stroke-linecap=\"round\" style=\"stroke:white;stroke-width:4\"/><line x1=\"420.0\" y1=\"270.0\" x2=\"420.0\" y2=\"220.0\" stroke-linecap=\"round\" style=\"stroke:white;stroke-width:4\"/><line x1=\"420.0\" y1=\"220.0\" x2=\"370.0\" y2=\"220.0\" stroke-linecap=\"round\" style=\"stroke:white;stroke-width:4\"/><line x1=\"370.0\" y1=\"220.0\" x2=\"370.0\" y2=\"270.0\" stroke-linecap=\"round\" style=\"stroke:white;stroke-width:4\"/><line x1=\"370.0\" y1=\"270.0\" x2=\"420.0\" y2=\"270.0\" stroke-linecap=\"round\" style=\"stroke:white;stroke-width:4\"/><line x1=\"430.0\" y1=\"280.0\" x2=\"430.0\" y2=\"210.0\" stroke-linecap=\"round\" style=\"stroke:white;stroke-width:4\"/><line x1=\"430.0\" y1=\"210.0\" x2=\"360.0\" y2=\"210.0\" stroke-linecap=\"round\" style=\"stroke:white;stroke-width:4\"/><line x1=\"360.0\" y1=\"210.0\" x2=\"360.0\" y2=\"280.0\" stroke-linecap=\"round\" style=\"stroke:white;stroke-width:4\"/><line x1=\"360.0\" y1=\"280.0\" x2=\"430.0\" y2=\"280.0\" stroke-linecap=\"round\" style=\"stroke:white;stroke-width:4\"/><line x1=\"440.0\" y1=\"290.0\" x2=\"440.0\" y2=\"200.0\" stroke-linecap=\"round\" style=\"stroke:white;stroke-width:4\"/><line x1=\"440.0\" y1=\"200.0\" x2=\"350.0\" y2=\"200.0\" stroke-linecap=\"round\" style=\"stroke:white;stroke-width:4\"/><line x1=\"350.0\" y1=\"200.0\" x2=\"350.0\" y2=\"290.0\" stroke-linecap=\"round\" style=\"stroke:white;stroke-width:4\"/><line x1=\"350.0\" y1=\"290.0\" x2=\"440.0\" y2=\"290.0\" stroke-linecap=\"round\" style=\"stroke:white;stroke-width:4\"/><line x1=\"450.0\" y1=\"300.0\" x2=\"450.0\" y2=\"190.0\" stroke-linecap=\"round\" style=\"stroke:white;stroke-width:4\"/><line x1=\"450.0\" y1=\"190.0\" x2=\"340.0\" y2=\"190.0\" stroke-linecap=\"round\" style=\"stroke:white;stroke-width:4\"/><line x1=\"340.0\" y1=\"190.0\" x2=\"340.0\" y2=\"300.0\" stroke-linecap=\"round\" style=\"stroke:white;stroke-width:4\"/><line x1=\"340.0\" y1=\"300.0\" x2=\"450.0\" y2=\"300.0\" stroke-linecap=\"round\" style=\"stroke:white;stroke-width:4\"/><line x1=\"460.0\" y1=\"310.0\" x2=\"460.0\" y2=\"180.0\" stroke-linecap=\"round\" style=\"stroke:white;stroke-width:4\"/><line x1=\"460.0\" y1=\"180.0\" x2=\"330.0\" y2=\"180.0\" stroke-linecap=\"round\" style=\"stroke:white;stroke-width:4\"/><line x1=\"330.0\" y1=\"180.0\" x2=\"330.0\" y2=\"310.0\" stroke-linecap=\"round\" style=\"stroke:white;stroke-width:4\"/><line x1=\"330.0\" y1=\"310.0\" x2=\"460.0\" y2=\"310.0\" stroke-linecap=\"round\" style=\"stroke:white;stroke-width:4\"/><line x1=\"470.0\" y1=\"320.0\" x2=\"470.0\" y2=\"170.0\" stroke-linecap=\"round\" style=\"stroke:white;stroke-width:4\"/><line x1=\"470.0\" y1=\"170.0\" x2=\"320.0\" y2=\"170.0\" stroke-linecap=\"round\" style=\"stroke:white;stroke-width:4\"/><line x1=\"320.0\" y1=\"170.0\" x2=\"320.0\" y2=\"320.0\" stroke-linecap=\"round\" style=\"stroke:white;stroke-width:4\"/><line x1=\"320.0\" y1=\"320.0\" x2=\"470.0\" y2=\"320.0\" stroke-linecap=\"round\" style=\"stroke:white;stroke-width:4\"/><line x1=\"480.0\" y1=\"330.0\" x2=\"480.0\" y2=\"160.0\" stroke-linecap=\"round\" style=\"stroke:white;stroke-width:4\"/><line x1=\"480.0\" y1=\"160.0\" x2=\"310.0\" y2=\"160.0\" stroke-linecap=\"round\" style=\"stroke:white;stroke-width:4\"/><line x1=\"310.0\" y1=\"160.0\" x2=\"310.0\" y2=\"330.0\" stroke-linecap=\"round\" style=\"stroke:white;stroke-width:4\"/><line x1=\"310.0\" y1=\"330.0\" x2=\"480.0\" y2=\"330.0\" stroke-linecap=\"round\" style=\"stroke:white;stroke-width:4\"/><line x1=\"490.0\" y1=\"340.0\" x2=\"490.0\" y2=\"150.0\" stroke-linecap=\"round\" style=\"stroke:white;stroke-width:4\"/><line x1=\"490.0\" y1=\"150.0\" x2=\"300.0\" y2=\"150.0\" stroke-linecap=\"round\" style=\"stroke:white;stroke-width:4\"/><line x1=\"300.0\" y1=\"150.0\" x2=\"300.0\" y2=\"340.0\" stroke-linecap=\"round\" style=\"stroke:white;stroke-width:4\"/><line x1=\"300.0\" y1=\"340.0\" x2=\"490.0\" y2=\"340.0\" stroke-linecap=\"round\" style=\"stroke:white;stroke-width:4\"/>\n",
              "        <g visibility=visible transform=\"rotate(360.0,500.0,350.0) translate(482.0, 332.0)\">\n",
              "<path style=\" stroke:none;fill-rule:evenodd;fill:white;fill-opacity:1;\" d=\"M 18.214844 0.632812 C 16.109375 1.800781 15.011719 4.074219 15.074219 7.132812 L 15.085938 7.652344 L 14.785156 7.496094 C 13.476562 6.824219 11.957031 6.671875 10.40625 7.066406 C 8.46875 7.550781 6.515625 9.15625 4.394531 11.992188 C 3.0625 13.777344 2.679688 14.636719 3.042969 15.027344 L 3.15625 15.152344 L 3.519531 15.152344 C 4.238281 15.152344 4.828125 14.886719 8.1875 13.039062 C 9.386719 12.378906 10.371094 11.839844 10.378906 11.839844 C 10.386719 11.839844 10.355469 11.929688 10.304688 12.035156 C 9.832031 13.09375 9.257812 14.820312 8.96875 16.078125 C 7.914062 20.652344 8.617188 24.53125 11.070312 27.660156 C 11.351562 28.015625 11.363281 27.914062 10.972656 28.382812 C 8.925781 30.84375 7.945312 33.28125 8.238281 35.1875 C 8.289062 35.527344 8.28125 35.523438 8.917969 35.523438 C 10.941406 35.523438 13.074219 34.207031 15.136719 31.6875 C 15.359375 31.417969 15.328125 31.425781 15.5625 31.574219 C 16.292969 32.042969 18.023438 32.964844 18.175781 32.964844 C 18.335938 32.964844 19.941406 32.210938 20.828125 31.71875 C 20.996094 31.625 21.136719 31.554688 21.136719 31.558594 C 21.203125 31.664062 21.898438 32.414062 22.222656 32.730469 C 23.835938 34.300781 25.5625 35.132812 27.582031 35.300781 C 27.90625 35.328125 27.9375 35.308594 28.007812 34.984375 C 28.382812 33.242188 27.625 30.925781 25.863281 28.425781 L 25.542969 27.96875 L 25.699219 27.785156 C 28.945312 23.960938 29.132812 18.699219 26.257812 11.96875 L 26.207031 11.84375 L 27.945312 12.703125 C 31.53125 14.476562 32.316406 14.800781 33.03125 14.800781 C 33.976562 14.800781 33.78125 13.9375 32.472656 12.292969 C 28.519531 7.355469 25.394531 5.925781 21.921875 7.472656 L 21.558594 7.636719 L 21.578125 7.542969 C 21.699219 6.992188 21.761719 5.742188 21.699219 5.164062 C 21.496094 3.296875 20.664062 1.964844 19.003906 0.855469 C 18.480469 0.503906 18.457031 0.5 18.214844 0.632812\"/>\n",
              "</g>\n",
              "      </svg>\n",
              "    "
            ],
            "text/plain": [
              "<IPython.core.display.HTML object>"
            ]
          },
          "metadata": {}
        }
      ]
    },
    {
      "cell_type": "markdown",
      "source": [
        "**Упражнение №6: паук**\n",
        "\n",
        "Нарисуйте паука с n лапами. Пример n = 6:"
      ],
      "metadata": {
        "id": "JEllgPX4TVj9"
      }
    },
    {
      "cell_type": "code",
      "source": [
        "!pip3 install ColabTurtle\n",
        "from ColabTurtle.Turtle import *\n",
        "\n",
        "\n",
        "def spider (number_of_pawns, length_of_pawns):\n",
        "  pendown()\n",
        "  for i in range(number_of_pawns):\n",
        "    forward(length_of_pawns)\n",
        "    # stamp() - нет этой процедуры в дпнной реализации библиотеки turtle\n",
        "    backward(length_of_pawns)\n",
        "    right(360/number_of_pawns)\n",
        "\n",
        "\n",
        "\n",
        "initializeTurtle()\n",
        "spider(6, 100)"
      ],
      "metadata": {
        "id": "6EYK34N5TiaN",
        "colab": {
          "base_uri": "https://localhost:8080/"
        },
        "outputId": "e61abb12-d6ad-4ed9-ba8a-96f619f39238"
      },
      "execution_count": null,
      "outputs": [
        {
          "output_type": "display_data",
          "data": {
            "text/html": [
              "\n",
              "      <svg width=\"800\" height=\"500\">\n",
              "        <rect width=\"100%\" height=\"100%\" fill=\"black\"/>\n",
              "        <line x1=\"400\" y1=\"250\" x2=\"400.0\" y2=\"150.0\" stroke-linecap=\"round\" style=\"stroke:white;stroke-width:4\"/><line x1=\"400.0\" y1=\"150.0\" x2=\"400.0\" y2=\"250.0\" stroke-linecap=\"round\" style=\"stroke:white;stroke-width:4\"/><line x1=\"400.0\" y1=\"250.0\" x2=\"486.603\" y2=\"200.0\" stroke-linecap=\"round\" style=\"stroke:white;stroke-width:4\"/><line x1=\"486.603\" y1=\"200.0\" x2=\"400.0\" y2=\"250.0\" stroke-linecap=\"round\" style=\"stroke:white;stroke-width:4\"/><line x1=\"400.0\" y1=\"250.0\" x2=\"486.603\" y2=\"300.0\" stroke-linecap=\"round\" style=\"stroke:white;stroke-width:4\"/><line x1=\"486.603\" y1=\"300.0\" x2=\"400.0\" y2=\"250.0\" stroke-linecap=\"round\" style=\"stroke:white;stroke-width:4\"/><line x1=\"400.0\" y1=\"250.0\" x2=\"400.0\" y2=\"350.0\" stroke-linecap=\"round\" style=\"stroke:white;stroke-width:4\"/><line x1=\"400.0\" y1=\"350.0\" x2=\"400.0\" y2=\"250.0\" stroke-linecap=\"round\" style=\"stroke:white;stroke-width:4\"/><line x1=\"400.0\" y1=\"250.0\" x2=\"313.397\" y2=\"300.0\" stroke-linecap=\"round\" style=\"stroke:white;stroke-width:4\"/><line x1=\"313.397\" y1=\"300.0\" x2=\"400.0\" y2=\"250.0\" stroke-linecap=\"round\" style=\"stroke:white;stroke-width:4\"/><line x1=\"400.0\" y1=\"250.0\" x2=\"313.397\" y2=\"200.0\" stroke-linecap=\"round\" style=\"stroke:white;stroke-width:4\"/><line x1=\"313.397\" y1=\"200.0\" x2=\"400.0\" y2=\"250.0\" stroke-linecap=\"round\" style=\"stroke:white;stroke-width:4\"/>\n",
              "        <g visibility=visible transform=\"rotate(360.0,400.0,250.0) translate(382.0, 232.0)\">\n",
              "<path style=\" stroke:none;fill-rule:evenodd;fill:white;fill-opacity:1;\" d=\"M 18.214844 0.632812 C 16.109375 1.800781 15.011719 4.074219 15.074219 7.132812 L 15.085938 7.652344 L 14.785156 7.496094 C 13.476562 6.824219 11.957031 6.671875 10.40625 7.066406 C 8.46875 7.550781 6.515625 9.15625 4.394531 11.992188 C 3.0625 13.777344 2.679688 14.636719 3.042969 15.027344 L 3.15625 15.152344 L 3.519531 15.152344 C 4.238281 15.152344 4.828125 14.886719 8.1875 13.039062 C 9.386719 12.378906 10.371094 11.839844 10.378906 11.839844 C 10.386719 11.839844 10.355469 11.929688 10.304688 12.035156 C 9.832031 13.09375 9.257812 14.820312 8.96875 16.078125 C 7.914062 20.652344 8.617188 24.53125 11.070312 27.660156 C 11.351562 28.015625 11.363281 27.914062 10.972656 28.382812 C 8.925781 30.84375 7.945312 33.28125 8.238281 35.1875 C 8.289062 35.527344 8.28125 35.523438 8.917969 35.523438 C 10.941406 35.523438 13.074219 34.207031 15.136719 31.6875 C 15.359375 31.417969 15.328125 31.425781 15.5625 31.574219 C 16.292969 32.042969 18.023438 32.964844 18.175781 32.964844 C 18.335938 32.964844 19.941406 32.210938 20.828125 31.71875 C 20.996094 31.625 21.136719 31.554688 21.136719 31.558594 C 21.203125 31.664062 21.898438 32.414062 22.222656 32.730469 C 23.835938 34.300781 25.5625 35.132812 27.582031 35.300781 C 27.90625 35.328125 27.9375 35.308594 28.007812 34.984375 C 28.382812 33.242188 27.625 30.925781 25.863281 28.425781 L 25.542969 27.96875 L 25.699219 27.785156 C 28.945312 23.960938 29.132812 18.699219 26.257812 11.96875 L 26.207031 11.84375 L 27.945312 12.703125 C 31.53125 14.476562 32.316406 14.800781 33.03125 14.800781 C 33.976562 14.800781 33.78125 13.9375 32.472656 12.292969 C 28.519531 7.355469 25.394531 5.925781 21.921875 7.472656 L 21.558594 7.636719 L 21.578125 7.542969 C 21.699219 6.992188 21.761719 5.742188 21.699219 5.164062 C 21.496094 3.296875 20.664062 1.964844 19.003906 0.855469 C 18.480469 0.503906 18.457031 0.5 18.214844 0.632812\"/>\n",
              "</g>\n",
              "      </svg>\n",
              "    "
            ],
            "text/plain": [
              "<IPython.core.display.HTML object>"
            ]
          },
          "metadata": {}
        }
      ]
    },
    {
      "cell_type": "markdown",
      "source": [
        "**Упражнение №7: спираль**"
      ],
      "metadata": {
        "id": "HUL1jgxqV8hu"
      }
    },
    {
      "cell_type": "code",
      "source": [
        "!pip3 install ColabTurtle\n",
        "from ColabTurtle.Turtle import *\n",
        "\n",
        "\n",
        "def spiral ():\n",
        "  pendown()\n",
        "  for i in range(36):\n",
        "    forward(5+i)\n",
        "    left(360/36)\n",
        "\n",
        "\n",
        "initializeTurtle()\n",
        "spiral()\n"
      ],
      "metadata": {
        "id": "0LqA2SMnWMcN",
        "colab": {
          "base_uri": "https://localhost:8080/"
        },
        "outputId": "711569d7-ab91-40be-c2d0-e05ff5d73ac6"
      },
      "execution_count": null,
      "outputs": [
        {
          "output_type": "display_data",
          "data": {
            "text/html": [
              "\n",
              "      <svg width=\"800\" height=\"500\">\n",
              "        <rect width=\"100%\" height=\"100%\" fill=\"black\"/>\n",
              "        <line x1=\"400\" y1=\"250\" x2=\"400.0\" y2=\"245.0\" stroke-linecap=\"round\" style=\"stroke:white;stroke-width:4\"/><line x1=\"400.0\" y1=\"245.0\" x2=\"398.958\" y2=\"239.091\" stroke-linecap=\"round\" style=\"stroke:white;stroke-width:4\"/><line x1=\"398.958\" y1=\"239.091\" x2=\"396.564\" y2=\"232.513\" stroke-linecap=\"round\" style=\"stroke:white;stroke-width:4\"/><line x1=\"396.564\" y1=\"232.513\" x2=\"392.564\" y2=\"225.585\" stroke-linecap=\"round\" style=\"stroke:white;stroke-width:4\"/><line x1=\"392.564\" y1=\"225.585\" x2=\"386.779\" y2=\"218.691\" stroke-linecap=\"round\" style=\"stroke:white;stroke-width:4\"/><line x1=\"386.779\" y1=\"218.691\" x2=\"379.119\" y2=\"212.263\" stroke-linecap=\"round\" style=\"stroke:white;stroke-width:4\"/><line x1=\"379.119\" y1=\"212.263\" x2=\"369.593\" y2=\"206.763\" stroke-linecap=\"round\" style=\"stroke:white;stroke-width:4\"/><line x1=\"369.593\" y1=\"206.763\" x2=\"358.317\" y2=\"202.659\" stroke-linecap=\"round\" style=\"stroke:white;stroke-width:4\"/><line x1=\"358.317\" y1=\"202.659\" x2=\"345.514\" y2=\"200.402\" stroke-linecap=\"round\" style=\"stroke:white;stroke-width:4\"/><line x1=\"345.514\" y1=\"200.402\" x2=\"331.514\" y2=\"200.402\" stroke-linecap=\"round\" style=\"stroke:white;stroke-width:4\"/><line x1=\"331.514\" y1=\"200.402\" x2=\"316.742\" y2=\"203.007\" stroke-linecap=\"round\" style=\"stroke:white;stroke-width:4\"/><line x1=\"316.742\" y1=\"203.007\" x2=\"301.707\" y2=\"208.479\" stroke-linecap=\"round\" style=\"stroke:white;stroke-width:4\"/><line x1=\"301.707\" y1=\"208.479\" x2=\"286.985\" y2=\"216.979\" stroke-linecap=\"round\" style=\"stroke:white;stroke-width:4\"/><line x1=\"286.985\" y1=\"216.979\" x2=\"273.196\" y2=\"228.549\" stroke-linecap=\"round\" style=\"stroke:white;stroke-width:4\"/><line x1=\"273.196\" y1=\"228.549\" x2=\"260.983\" y2=\"243.104\" stroke-linecap=\"round\" style=\"stroke:white;stroke-width:4\"/><line x1=\"260.983\" y1=\"243.104\" x2=\"250.983\" y2=\"260.425\" stroke-linecap=\"round\" style=\"stroke:white;stroke-width:4\"/><line x1=\"250.983\" y1=\"260.425\" x2=\"243.801\" y2=\"280.159\" stroke-linecap=\"round\" style=\"stroke:white;stroke-width:4\"/><line x1=\"243.801\" y1=\"280.159\" x2=\"239.981\" y2=\"301.825\" stroke-linecap=\"round\" style=\"stroke:white;stroke-width:4\"/><line x1=\"239.981\" y1=\"301.825\" x2=\"239.981\" y2=\"324.825\" stroke-linecap=\"round\" style=\"stroke:white;stroke-width:4\"/><line x1=\"239.981\" y1=\"324.825\" x2=\"244.149\" y2=\"348.46\" stroke-linecap=\"round\" style=\"stroke:white;stroke-width:4\"/><line x1=\"244.149\" y1=\"348.46\" x2=\"252.7\" y2=\"371.952\" stroke-linecap=\"round\" style=\"stroke:white;stroke-width:4\"/><line x1=\"252.7\" y1=\"371.952\" x2=\"265.7\" y2=\"394.469\" stroke-linecap=\"round\" style=\"stroke:white;stroke-width:4\"/><line x1=\"265.7\" y1=\"394.469\" x2=\"283.055\" y2=\"415.152\" stroke-linecap=\"round\" style=\"stroke:white;stroke-width:4\"/><line x1=\"283.055\" y1=\"415.152\" x2=\"304.504\" y2=\"433.15\" stroke-linecap=\"round\" style=\"stroke:white;stroke-width:4\"/><line x1=\"304.504\" y1=\"433.15\" x2=\"329.619\" y2=\"447.65\" stroke-linecap=\"round\" style=\"stroke:white;stroke-width:4\"/><line x1=\"329.619\" y1=\"447.65\" x2=\"357.81\" y2=\"457.911\" stroke-linecap=\"round\" style=\"stroke:white;stroke-width:4\"/><line x1=\"357.81\" y1=\"457.911\" x2=\"388.339\" y2=\"463.294\" stroke-linecap=\"round\" style=\"stroke:white;stroke-width:4\"/><line x1=\"388.339\" y1=\"463.294\" x2=\"420.339\" y2=\"463.294\" stroke-linecap=\"round\" style=\"stroke:white;stroke-width:4\"/><line x1=\"420.339\" y1=\"463.294\" x2=\"452.838\" y2=\"457.564\" stroke-linecap=\"round\" style=\"stroke:white;stroke-width:4\"/><line x1=\"452.838\" y1=\"457.564\" x2=\"484.788\" y2=\"445.935\" stroke-linecap=\"round\" style=\"stroke:white;stroke-width:4\"/><line x1=\"484.788\" y1=\"445.935\" x2=\"515.099\" y2=\"428.435\" stroke-linecap=\"round\" style=\"stroke:white;stroke-width:4\"/><line x1=\"515.099\" y1=\"428.435\" x2=\"542.677\" y2=\"405.295\" stroke-linecap=\"round\" style=\"stroke:white;stroke-width:4\"/><line x1=\"542.677\" y1=\"405.295\" x2=\"566.46\" y2=\"376.951\" stroke-linecap=\"round\" style=\"stroke:white;stroke-width:4\"/><line x1=\"566.46\" y1=\"376.951\" x2=\"585.46\" y2=\"344.042\" stroke-linecap=\"round\" style=\"stroke:white;stroke-width:4\"/><line x1=\"585.46\" y1=\"344.042\" x2=\"598.799\" y2=\"307.394\" stroke-linecap=\"round\" style=\"stroke:white;stroke-width:4\"/><line x1=\"598.799\" y1=\"307.394\" x2=\"605.745\" y2=\"268.002\" stroke-linecap=\"round\" style=\"stroke:white;stroke-width:4\"/>\n",
              "        <g visibility=visible transform=\"rotate(360.0,605.745,268.002) translate(587.745, 250.002)\">\n",
              "<path style=\" stroke:none;fill-rule:evenodd;fill:white;fill-opacity:1;\" d=\"M 18.214844 0.632812 C 16.109375 1.800781 15.011719 4.074219 15.074219 7.132812 L 15.085938 7.652344 L 14.785156 7.496094 C 13.476562 6.824219 11.957031 6.671875 10.40625 7.066406 C 8.46875 7.550781 6.515625 9.15625 4.394531 11.992188 C 3.0625 13.777344 2.679688 14.636719 3.042969 15.027344 L 3.15625 15.152344 L 3.519531 15.152344 C 4.238281 15.152344 4.828125 14.886719 8.1875 13.039062 C 9.386719 12.378906 10.371094 11.839844 10.378906 11.839844 C 10.386719 11.839844 10.355469 11.929688 10.304688 12.035156 C 9.832031 13.09375 9.257812 14.820312 8.96875 16.078125 C 7.914062 20.652344 8.617188 24.53125 11.070312 27.660156 C 11.351562 28.015625 11.363281 27.914062 10.972656 28.382812 C 8.925781 30.84375 7.945312 33.28125 8.238281 35.1875 C 8.289062 35.527344 8.28125 35.523438 8.917969 35.523438 C 10.941406 35.523438 13.074219 34.207031 15.136719 31.6875 C 15.359375 31.417969 15.328125 31.425781 15.5625 31.574219 C 16.292969 32.042969 18.023438 32.964844 18.175781 32.964844 C 18.335938 32.964844 19.941406 32.210938 20.828125 31.71875 C 20.996094 31.625 21.136719 31.554688 21.136719 31.558594 C 21.203125 31.664062 21.898438 32.414062 22.222656 32.730469 C 23.835938 34.300781 25.5625 35.132812 27.582031 35.300781 C 27.90625 35.328125 27.9375 35.308594 28.007812 34.984375 C 28.382812 33.242188 27.625 30.925781 25.863281 28.425781 L 25.542969 27.96875 L 25.699219 27.785156 C 28.945312 23.960938 29.132812 18.699219 26.257812 11.96875 L 26.207031 11.84375 L 27.945312 12.703125 C 31.53125 14.476562 32.316406 14.800781 33.03125 14.800781 C 33.976562 14.800781 33.78125 13.9375 32.472656 12.292969 C 28.519531 7.355469 25.394531 5.925781 21.921875 7.472656 L 21.558594 7.636719 L 21.578125 7.542969 C 21.699219 6.992188 21.761719 5.742188 21.699219 5.164062 C 21.496094 3.296875 20.664062 1.964844 19.003906 0.855469 C 18.480469 0.503906 18.457031 0.5 18.214844 0.632812\"/>\n",
              "</g>\n",
              "      </svg>\n",
              "    "
            ],
            "text/plain": [
              "<IPython.core.display.HTML object>"
            ]
          },
          "metadata": {}
        }
      ]
    },
    {
      "cell_type": "markdown",
      "source": [
        "**Упражнение №8: квадратная «спираль»**\n",
        "\n",
        "Нарисуйте «квадратную» спираль."
      ],
      "metadata": {
        "id": "CjY4y-g_YYSW"
      }
    },
    {
      "cell_type": "code",
      "source": [
        "!pip3 install ColabTurtle\n",
        "from ColabTurtle.Turtle import *\n",
        "\n",
        "\n",
        "def square_spiral ():\n",
        "  pendown()\n",
        "  for i in range(36):\n",
        "    forward(5 + i*5)\n",
        "    left(360/4)\n",
        "\n",
        "\n",
        "initializeTurtle()\n",
        "square_spiral()\n"
      ],
      "metadata": {
        "id": "Eo--Ilv-YqWc",
        "colab": {
          "base_uri": "https://localhost:8080/"
        },
        "outputId": "19db579b-5c6b-4a3e-8efa-bd1128dc33e3"
      },
      "execution_count": null,
      "outputs": [
        {
          "output_type": "display_data",
          "data": {
            "text/html": [
              "\n",
              "      <svg width=\"800\" height=\"500\">\n",
              "        <rect width=\"100%\" height=\"100%\" fill=\"black\"/>\n",
              "        <line x1=\"400\" y1=\"250\" x2=\"400.0\" y2=\"245.0\" stroke-linecap=\"round\" style=\"stroke:white;stroke-width:4\"/><line x1=\"400.0\" y1=\"245.0\" x2=\"390.0\" y2=\"245.0\" stroke-linecap=\"round\" style=\"stroke:white;stroke-width:4\"/><line x1=\"390.0\" y1=\"245.0\" x2=\"390.0\" y2=\"260.0\" stroke-linecap=\"round\" style=\"stroke:white;stroke-width:4\"/><line x1=\"390.0\" y1=\"260.0\" x2=\"410.0\" y2=\"260.0\" stroke-linecap=\"round\" style=\"stroke:white;stroke-width:4\"/><line x1=\"410.0\" y1=\"260.0\" x2=\"410.0\" y2=\"235.0\" stroke-linecap=\"round\" style=\"stroke:white;stroke-width:4\"/><line x1=\"410.0\" y1=\"235.0\" x2=\"380.0\" y2=\"235.0\" stroke-linecap=\"round\" style=\"stroke:white;stroke-width:4\"/><line x1=\"380.0\" y1=\"235.0\" x2=\"380.0\" y2=\"270.0\" stroke-linecap=\"round\" style=\"stroke:white;stroke-width:4\"/><line x1=\"380.0\" y1=\"270.0\" x2=\"420.0\" y2=\"270.0\" stroke-linecap=\"round\" style=\"stroke:white;stroke-width:4\"/><line x1=\"420.0\" y1=\"270.0\" x2=\"420.0\" y2=\"225.0\" stroke-linecap=\"round\" style=\"stroke:white;stroke-width:4\"/><line x1=\"420.0\" y1=\"225.0\" x2=\"370.0\" y2=\"225.0\" stroke-linecap=\"round\" style=\"stroke:white;stroke-width:4\"/><line x1=\"370.0\" y1=\"225.0\" x2=\"370.0\" y2=\"280.0\" stroke-linecap=\"round\" style=\"stroke:white;stroke-width:4\"/><line x1=\"370.0\" y1=\"280.0\" x2=\"430.0\" y2=\"280.0\" stroke-linecap=\"round\" style=\"stroke:white;stroke-width:4\"/><line x1=\"430.0\" y1=\"280.0\" x2=\"430.0\" y2=\"215.0\" stroke-linecap=\"round\" style=\"stroke:white;stroke-width:4\"/><line x1=\"430.0\" y1=\"215.0\" x2=\"360.0\" y2=\"215.0\" stroke-linecap=\"round\" style=\"stroke:white;stroke-width:4\"/><line x1=\"360.0\" y1=\"215.0\" x2=\"360.0\" y2=\"290.0\" stroke-linecap=\"round\" style=\"stroke:white;stroke-width:4\"/><line x1=\"360.0\" y1=\"290.0\" x2=\"440.0\" y2=\"290.0\" stroke-linecap=\"round\" style=\"stroke:white;stroke-width:4\"/><line x1=\"440.0\" y1=\"290.0\" x2=\"440.0\" y2=\"205.0\" stroke-linecap=\"round\" style=\"stroke:white;stroke-width:4\"/><line x1=\"440.0\" y1=\"205.0\" x2=\"350.0\" y2=\"205.0\" stroke-linecap=\"round\" style=\"stroke:white;stroke-width:4\"/><line x1=\"350.0\" y1=\"205.0\" x2=\"350.0\" y2=\"300.0\" stroke-linecap=\"round\" style=\"stroke:white;stroke-width:4\"/><line x1=\"350.0\" y1=\"300.0\" x2=\"450.0\" y2=\"300.0\" stroke-linecap=\"round\" style=\"stroke:white;stroke-width:4\"/><line x1=\"450.0\" y1=\"300.0\" x2=\"450.0\" y2=\"195.0\" stroke-linecap=\"round\" style=\"stroke:white;stroke-width:4\"/><line x1=\"450.0\" y1=\"195.0\" x2=\"340.0\" y2=\"195.0\" stroke-linecap=\"round\" style=\"stroke:white;stroke-width:4\"/><line x1=\"340.0\" y1=\"195.0\" x2=\"340.0\" y2=\"310.0\" stroke-linecap=\"round\" style=\"stroke:white;stroke-width:4\"/><line x1=\"340.0\" y1=\"310.0\" x2=\"460.0\" y2=\"310.0\" stroke-linecap=\"round\" style=\"stroke:white;stroke-width:4\"/><line x1=\"460.0\" y1=\"310.0\" x2=\"460.0\" y2=\"185.0\" stroke-linecap=\"round\" style=\"stroke:white;stroke-width:4\"/><line x1=\"460.0\" y1=\"185.0\" x2=\"330.0\" y2=\"185.0\" stroke-linecap=\"round\" style=\"stroke:white;stroke-width:4\"/><line x1=\"330.0\" y1=\"185.0\" x2=\"330.0\" y2=\"320.0\" stroke-linecap=\"round\" style=\"stroke:white;stroke-width:4\"/><line x1=\"330.0\" y1=\"320.0\" x2=\"470.0\" y2=\"320.0\" stroke-linecap=\"round\" style=\"stroke:white;stroke-width:4\"/><line x1=\"470.0\" y1=\"320.0\" x2=\"470.0\" y2=\"175.0\" stroke-linecap=\"round\" style=\"stroke:white;stroke-width:4\"/><line x1=\"470.0\" y1=\"175.0\" x2=\"320.0\" y2=\"175.0\" stroke-linecap=\"round\" style=\"stroke:white;stroke-width:4\"/><line x1=\"320.0\" y1=\"175.0\" x2=\"320.0\" y2=\"330.0\" stroke-linecap=\"round\" style=\"stroke:white;stroke-width:4\"/><line x1=\"320.0\" y1=\"330.0\" x2=\"480.0\" y2=\"330.0\" stroke-linecap=\"round\" style=\"stroke:white;stroke-width:4\"/><line x1=\"480.0\" y1=\"330.0\" x2=\"480.0\" y2=\"165.0\" stroke-linecap=\"round\" style=\"stroke:white;stroke-width:4\"/><line x1=\"480.0\" y1=\"165.0\" x2=\"310.0\" y2=\"165.0\" stroke-linecap=\"round\" style=\"stroke:white;stroke-width:4\"/><line x1=\"310.0\" y1=\"165.0\" x2=\"310.0\" y2=\"340.0\" stroke-linecap=\"round\" style=\"stroke:white;stroke-width:4\"/><line x1=\"310.0\" y1=\"340.0\" x2=\"490.0\" y2=\"340.0\" stroke-linecap=\"round\" style=\"stroke:white;stroke-width:4\"/>\n",
              "        <g visibility=visible transform=\"rotate(360.0,490.0,340.0) translate(472.0, 322.0)\">\n",
              "<path style=\" stroke:none;fill-rule:evenodd;fill:white;fill-opacity:1;\" d=\"M 18.214844 0.632812 C 16.109375 1.800781 15.011719 4.074219 15.074219 7.132812 L 15.085938 7.652344 L 14.785156 7.496094 C 13.476562 6.824219 11.957031 6.671875 10.40625 7.066406 C 8.46875 7.550781 6.515625 9.15625 4.394531 11.992188 C 3.0625 13.777344 2.679688 14.636719 3.042969 15.027344 L 3.15625 15.152344 L 3.519531 15.152344 C 4.238281 15.152344 4.828125 14.886719 8.1875 13.039062 C 9.386719 12.378906 10.371094 11.839844 10.378906 11.839844 C 10.386719 11.839844 10.355469 11.929688 10.304688 12.035156 C 9.832031 13.09375 9.257812 14.820312 8.96875 16.078125 C 7.914062 20.652344 8.617188 24.53125 11.070312 27.660156 C 11.351562 28.015625 11.363281 27.914062 10.972656 28.382812 C 8.925781 30.84375 7.945312 33.28125 8.238281 35.1875 C 8.289062 35.527344 8.28125 35.523438 8.917969 35.523438 C 10.941406 35.523438 13.074219 34.207031 15.136719 31.6875 C 15.359375 31.417969 15.328125 31.425781 15.5625 31.574219 C 16.292969 32.042969 18.023438 32.964844 18.175781 32.964844 C 18.335938 32.964844 19.941406 32.210938 20.828125 31.71875 C 20.996094 31.625 21.136719 31.554688 21.136719 31.558594 C 21.203125 31.664062 21.898438 32.414062 22.222656 32.730469 C 23.835938 34.300781 25.5625 35.132812 27.582031 35.300781 C 27.90625 35.328125 27.9375 35.308594 28.007812 34.984375 C 28.382812 33.242188 27.625 30.925781 25.863281 28.425781 L 25.542969 27.96875 L 25.699219 27.785156 C 28.945312 23.960938 29.132812 18.699219 26.257812 11.96875 L 26.207031 11.84375 L 27.945312 12.703125 C 31.53125 14.476562 32.316406 14.800781 33.03125 14.800781 C 33.976562 14.800781 33.78125 13.9375 32.472656 12.292969 C 28.519531 7.355469 25.394531 5.925781 21.921875 7.472656 L 21.558594 7.636719 L 21.578125 7.542969 C 21.699219 6.992188 21.761719 5.742188 21.699219 5.164062 C 21.496094 3.296875 20.664062 1.964844 19.003906 0.855469 C 18.480469 0.503906 18.457031 0.5 18.214844 0.632812\"/>\n",
              "</g>\n",
              "      </svg>\n",
              "    "
            ],
            "text/plain": [
              "<IPython.core.display.HTML object>"
            ]
          },
          "metadata": {}
        }
      ]
    },
    {
      "cell_type": "markdown",
      "source": [
        "**Упражнение №9: правильные многоугольники**\n",
        "\n",
        "Нарисуйте 10 вложенных правильных многоугольников. "
      ],
      "metadata": {
        "id": "UJQwR1Y7ZlA_"
      }
    },
    {
      "cell_type": "code",
      "source": [
        "!pip3 install ColabTurtle\n",
        "from ColabTurtle.Turtle import *\n",
        "\n",
        "\n",
        "initializeTurtle()\n",
        "for i in range(10):\n",
        "  pendown()\n",
        "  number_of_angles = i+3\n",
        "  length_of_this_polygon = math.floor((25 +i*20)*2*math.sin(2*math.pi/(2*number_of_angles)))\n",
        "  left(180/number_of_angles)\n",
        "  polygon(number_of_angles, length_of_this_polygon)\n",
        "  right(180/number_of_angles)\n",
        "  penup()\n",
        "  right(90)\n",
        "  forward(20)\n",
        "  left(90)"
      ],
      "metadata": {
        "id": "I4yl_wYvbh9F",
        "colab": {
          "base_uri": "https://localhost:8080/"
        },
        "outputId": "6447c0ae-0646-4259-c3c1-463b63025c94"
      },
      "execution_count": null,
      "outputs": [
        {
          "output_type": "display_data",
          "data": {
            "text/html": [
              "\n",
              "      <svg width=\"800\" height=\"500\">\n",
              "        <rect width=\"100%\" height=\"100%\" fill=\"black\"/>\n",
              "        <line x1=\"400\" y1=\"250\" x2=\"362.761\" y2=\"228.5\" stroke-linecap=\"round\" style=\"stroke:white;stroke-width:4\"/><line x1=\"362.761\" y1=\"228.5\" x2=\"362.761\" y2=\"271.5\" stroke-linecap=\"round\" style=\"stroke:white;stroke-width:4\"/><line x1=\"362.761\" y1=\"271.5\" x2=\"400.0\" y2=\"250.0\" stroke-linecap=\"round\" style=\"stroke:white;stroke-width:4\"/><line x1=\"420.0\" y1=\"250.0\" x2=\"375.452\" y2=\"205.452\" stroke-linecap=\"round\" style=\"stroke:white;stroke-width:4\"/><line x1=\"375.452\" y1=\"205.452\" x2=\"330.904\" y2=\"250.0\" stroke-linecap=\"round\" style=\"stroke:white;stroke-width:4\"/><line x1=\"330.904\" y1=\"250.0\" x2=\"375.452\" y2=\"294.548\" stroke-linecap=\"round\" style=\"stroke:white;stroke-width:4\"/><line x1=\"375.452\" y1=\"294.548\" x2=\"420.0\" y2=\"250.0\" stroke-linecap=\"round\" style=\"stroke:white;stroke-width:4\"/><line x1=\"440.0\" y1=\"250.0\" x2=\"395.328\" y2=\"188.515\" stroke-linecap=\"round\" style=\"stroke:white;stroke-width:4\"/><line x1=\"395.328\" y1=\"188.515\" x2=\"323.048\" y2=\"212.0\" stroke-linecap=\"round\" style=\"stroke:white;stroke-width:4\"/><line x1=\"323.048\" y1=\"212.0\" x2=\"323.048\" y2=\"288.0\" stroke-linecap=\"round\" style=\"stroke:white;stroke-width:4\"/><line x1=\"323.048\" y1=\"288.0\" x2=\"395.328\" y2=\"311.485\" stroke-linecap=\"round\" style=\"stroke:white;stroke-width:4\"/><line x1=\"395.328\" y1=\"311.485\" x2=\"440.0\" y2=\"250.0\" stroke-linecap=\"round\" style=\"stroke:white;stroke-width:4\"/><line x1=\"460.0\" y1=\"250.0\" x2=\"418.0\" y2=\"177.254\" stroke-linecap=\"round\" style=\"stroke:white;stroke-width:4\"/><line x1=\"418.0\" y1=\"177.254\" x2=\"334.0\" y2=\"177.254\" stroke-linecap=\"round\" style=\"stroke:white;stroke-width:4\"/><line x1=\"334.0\" y1=\"177.254\" x2=\"292.0\" y2=\"250.0\" stroke-linecap=\"round\" style=\"stroke:white;stroke-width:4\"/><line x1=\"292.0\" y1=\"250.0\" x2=\"334.0\" y2=\"322.746\" stroke-linecap=\"round\" style=\"stroke:white;stroke-width:4\"/><line x1=\"334.0\" y1=\"322.746\" x2=\"418.0\" y2=\"322.746\" stroke-linecap=\"round\" style=\"stroke:white;stroke-width:4\"/><line x1=\"418.0\" y1=\"322.746\" x2=\"460.0\" y2=\"250.0\" stroke-linecap=\"round\" style=\"stroke:white;stroke-width:4\"/><line x1=\"480.0\" y1=\"250.0\" x2=\"440.517\" y2=\"168.012\" stroke-linecap=\"round\" style=\"stroke:white;stroke-width:4\"/><line x1=\"440.517\" y1=\"168.012\" x2=\"351.799\" y2=\"147.763\" stroke-linecap=\"round\" style=\"stroke:white;stroke-width:4\"/><line x1=\"351.799\" y1=\"147.763\" x2=\"280.652\" y2=\"204.501\" stroke-linecap=\"round\" style=\"stroke:white;stroke-width:4\"/><line x1=\"280.652\" y1=\"204.501\" x2=\"280.652\" y2=\"295.501\" stroke-linecap=\"round\" style=\"stroke:white;stroke-width:4\"/><line x1=\"280.652\" y1=\"295.501\" x2=\"351.799\" y2=\"352.239\" stroke-linecap=\"round\" style=\"stroke:white;stroke-width:4\"/><line x1=\"351.799\" y1=\"352.239\" x2=\"440.517\" y2=\"331.99\" stroke-linecap=\"round\" style=\"stroke:white;stroke-width:4\"/><line x1=\"440.517\" y1=\"331.99\" x2=\"480.0\" y2=\"250.002\" stroke-linecap=\"round\" style=\"stroke:white;stroke-width:4\"/><line x1=\"500.0\" y1=\"250.002\" x2=\"463.645\" y2=\"162.233\" stroke-linecap=\"round\" style=\"stroke:white;stroke-width:4\"/><line x1=\"463.645\" y1=\"162.233\" x2=\"375.876\" y2=\"125.878\" stroke-linecap=\"round\" style=\"stroke:white;stroke-width:4\"/><line x1=\"375.876\" y1=\"125.878\" x2=\"288.107\" y2=\"162.233\" stroke-linecap=\"round\" style=\"stroke:white;stroke-width:4\"/><line x1=\"288.107\" y1=\"162.233\" x2=\"251.752\" y2=\"250.002\" stroke-linecap=\"round\" style=\"stroke:white;stroke-width:4\"/><line x1=\"251.752\" y1=\"250.002\" x2=\"288.107\" y2=\"337.771\" stroke-linecap=\"round\" style=\"stroke:white;stroke-width:4\"/><line x1=\"288.107\" y1=\"337.771\" x2=\"375.876\" y2=\"374.126\" stroke-linecap=\"round\" style=\"stroke:white;stroke-width:4\"/><line x1=\"375.876\" y1=\"374.126\" x2=\"463.645\" y2=\"337.771\" stroke-linecap=\"round\" style=\"stroke:white;stroke-width:4\"/><line x1=\"463.645\" y1=\"337.771\" x2=\"500.0\" y2=\"250.002\" stroke-linecap=\"round\" style=\"stroke:white;stroke-width:4\"/><line x1=\"520.0\" y1=\"250.002\" x2=\"486.14\" y2=\"156.972\" stroke-linecap=\"round\" style=\"stroke:white;stroke-width:4\"/><line x1=\"486.14\" y1=\"156.972\" x2=\"400.403\" y2=\"107.472\" stroke-linecap=\"round\" style=\"stroke:white;stroke-width:4\"/><line x1=\"400.403\" y1=\"107.472\" x2=\"302.907\" y2=\"124.663\" stroke-linecap=\"round\" style=\"stroke:white;stroke-width:4\"/><line x1=\"302.907\" y1=\"124.663\" x2=\"239.271\" y2=\"200.501\" stroke-linecap=\"round\" style=\"stroke:white;stroke-width:4\"/><line x1=\"239.271\" y1=\"200.501\" x2=\"239.271\" y2=\"299.501\" stroke-linecap=\"round\" style=\"stroke:white;stroke-width:4\"/><line x1=\"239.271\" y1=\"299.501\" x2=\"302.907\" y2=\"375.339\" stroke-linecap=\"round\" style=\"stroke:white;stroke-width:4\"/><line x1=\"302.907\" y1=\"375.339\" x2=\"400.403\" y2=\"392.53\" stroke-linecap=\"round\" style=\"stroke:white;stroke-width:4\"/><line x1=\"400.403\" y1=\"392.53\" x2=\"486.14\" y2=\"343.03\" stroke-linecap=\"round\" style=\"stroke:white;stroke-width:4\"/><line x1=\"486.14\" y1=\"343.03\" x2=\"520.0\" y2=\"250.0\" stroke-linecap=\"round\" style=\"stroke:white;stroke-width:4\"/><line x1=\"540.0\" y1=\"250.0\" x2=\"508.789\" y2=\"153.943\" stroke-linecap=\"round\" style=\"stroke:white;stroke-width:4\"/><line x1=\"508.789\" y1=\"153.943\" x2=\"427.078\" y2=\"94.577\" stroke-linecap=\"round\" style=\"stroke:white;stroke-width:4\"/><line x1=\"427.078\" y1=\"94.577\" x2=\"326.078\" y2=\"94.577\" stroke-linecap=\"round\" style=\"stroke:white;stroke-width:4\"/><line x1=\"326.078\" y1=\"94.577\" x2=\"244.367\" y2=\"153.943\" stroke-linecap=\"round\" style=\"stroke:white;stroke-width:4\"/><line x1=\"244.367\" y1=\"153.943\" x2=\"213.156\" y2=\"250.0\" stroke-linecap=\"round\" style=\"stroke:white;stroke-width:4\"/><line x1=\"213.156\" y1=\"250.0\" x2=\"244.367\" y2=\"346.057\" stroke-linecap=\"round\" style=\"stroke:white;stroke-width:4\"/><line x1=\"244.367\" y1=\"346.057\" x2=\"326.078\" y2=\"405.423\" stroke-linecap=\"round\" style=\"stroke:white;stroke-width:4\"/><line x1=\"326.078\" y1=\"405.423\" x2=\"427.078\" y2=\"405.423\" stroke-linecap=\"round\" style=\"stroke:white;stroke-width:4\"/><line x1=\"427.078\" y1=\"405.423\" x2=\"508.789\" y2=\"346.057\" stroke-linecap=\"round\" style=\"stroke:white;stroke-width:4\"/><line x1=\"508.789\" y1=\"346.057\" x2=\"540.0\" y2=\"250.0\" stroke-linecap=\"round\" style=\"stroke:white;stroke-width:4\"/><line x1=\"560.0\" y1=\"250.0\" x2=\"530.7\" y2=\"150.213\" stroke-linecap=\"round\" style=\"stroke:white;stroke-width:4\"/><line x1=\"530.7\" y1=\"150.213\" x2=\"452.102\" y2=\"82.107\" stroke-linecap=\"round\" style=\"stroke:white;stroke-width:4\"/><line x1=\"452.102\" y1=\"82.107\" x2=\"349.161\" y2=\"67.306\" stroke-linecap=\"round\" style=\"stroke:white;stroke-width:4\"/><line x1=\"349.161\" y1=\"67.306\" x2=\"254.559\" y2=\"110.509\" stroke-linecap=\"round\" style=\"stroke:white;stroke-width:4\"/><line x1=\"254.559\" y1=\"110.509\" x2=\"198.332\" y2=\"197.999\" stroke-linecap=\"round\" style=\"stroke:white;stroke-width:4\"/><line x1=\"198.332\" y1=\"197.999\" x2=\"198.332\" y2=\"301.999\" stroke-linecap=\"round\" style=\"stroke:white;stroke-width:4\"/><line x1=\"198.332\" y1=\"301.999\" x2=\"254.559\" y2=\"389.489\" stroke-linecap=\"round\" style=\"stroke:white;stroke-width:4\"/><line x1=\"254.559\" y1=\"389.489\" x2=\"349.161\" y2=\"432.692\" stroke-linecap=\"round\" style=\"stroke:white;stroke-width:4\"/><line x1=\"349.161\" y1=\"432.692\" x2=\"452.102\" y2=\"417.891\" stroke-linecap=\"round\" style=\"stroke:white;stroke-width:4\"/><line x1=\"452.102\" y1=\"417.891\" x2=\"530.7\" y2=\"349.785\" stroke-linecap=\"round\" style=\"stroke:white;stroke-width:4\"/><line x1=\"530.7\" y1=\"349.785\" x2=\"560.0\" y2=\"249.998\" stroke-linecap=\"round\" style=\"stroke:white;stroke-width:4\"/><line x1=\"580.0\" y1=\"249.998\" x2=\"552.565\" y2=\"147.61\" stroke-linecap=\"round\" style=\"stroke:white;stroke-width:4\"/><line x1=\"552.565\" y1=\"147.61\" x2=\"477.612\" y2=\"72.657\" stroke-linecap=\"round\" style=\"stroke:white;stroke-width:4\"/><line x1=\"477.612\" y1=\"72.657\" x2=\"375.224\" y2=\"45.222\" stroke-linecap=\"round\" style=\"stroke:white;stroke-width:4\"/><line x1=\"375.224\" y1=\"45.222\" x2=\"272.836\" y2=\"72.657\" stroke-linecap=\"round\" style=\"stroke:white;stroke-width:4\"/><line x1=\"272.836\" y1=\"72.657\" x2=\"197.883\" y2=\"147.61\" stroke-linecap=\"round\" style=\"stroke:white;stroke-width:4\"/><line x1=\"197.883\" y1=\"147.61\" x2=\"170.448\" y2=\"249.998\" stroke-linecap=\"round\" style=\"stroke:white;stroke-width:4\"/><line x1=\"170.448\" y1=\"249.998\" x2=\"197.883\" y2=\"352.386\" stroke-linecap=\"round\" style=\"stroke:white;stroke-width:4\"/><line x1=\"197.883\" y1=\"352.386\" x2=\"272.836\" y2=\"427.339\" stroke-linecap=\"round\" style=\"stroke:white;stroke-width:4\"/><line x1=\"272.836\" y1=\"427.339\" x2=\"375.224\" y2=\"454.774\" stroke-linecap=\"round\" style=\"stroke:white;stroke-width:4\"/><line x1=\"375.224\" y1=\"454.774\" x2=\"477.612\" y2=\"427.339\" stroke-linecap=\"round\" style=\"stroke:white;stroke-width:4\"/><line x1=\"477.612\" y1=\"427.339\" x2=\"552.565\" y2=\"352.386\" stroke-linecap=\"round\" style=\"stroke:white;stroke-width:4\"/><line x1=\"552.565\" y1=\"352.386\" x2=\"580.0\" y2=\"249.998\" stroke-linecap=\"round\" style=\"stroke:white;stroke-width:4\"/>\n",
              "        <g visibility=visible transform=\"rotate(359.99999999999994,600.0,249.998) translate(582.0, 231.998)\">\n",
              "<path style=\" stroke:none;fill-rule:evenodd;fill:white;fill-opacity:1;\" d=\"M 18.214844 0.632812 C 16.109375 1.800781 15.011719 4.074219 15.074219 7.132812 L 15.085938 7.652344 L 14.785156 7.496094 C 13.476562 6.824219 11.957031 6.671875 10.40625 7.066406 C 8.46875 7.550781 6.515625 9.15625 4.394531 11.992188 C 3.0625 13.777344 2.679688 14.636719 3.042969 15.027344 L 3.15625 15.152344 L 3.519531 15.152344 C 4.238281 15.152344 4.828125 14.886719 8.1875 13.039062 C 9.386719 12.378906 10.371094 11.839844 10.378906 11.839844 C 10.386719 11.839844 10.355469 11.929688 10.304688 12.035156 C 9.832031 13.09375 9.257812 14.820312 8.96875 16.078125 C 7.914062 20.652344 8.617188 24.53125 11.070312 27.660156 C 11.351562 28.015625 11.363281 27.914062 10.972656 28.382812 C 8.925781 30.84375 7.945312 33.28125 8.238281 35.1875 C 8.289062 35.527344 8.28125 35.523438 8.917969 35.523438 C 10.941406 35.523438 13.074219 34.207031 15.136719 31.6875 C 15.359375 31.417969 15.328125 31.425781 15.5625 31.574219 C 16.292969 32.042969 18.023438 32.964844 18.175781 32.964844 C 18.335938 32.964844 19.941406 32.210938 20.828125 31.71875 C 20.996094 31.625 21.136719 31.554688 21.136719 31.558594 C 21.203125 31.664062 21.898438 32.414062 22.222656 32.730469 C 23.835938 34.300781 25.5625 35.132812 27.582031 35.300781 C 27.90625 35.328125 27.9375 35.308594 28.007812 34.984375 C 28.382812 33.242188 27.625 30.925781 25.863281 28.425781 L 25.542969 27.96875 L 25.699219 27.785156 C 28.945312 23.960938 29.132812 18.699219 26.257812 11.96875 L 26.207031 11.84375 L 27.945312 12.703125 C 31.53125 14.476562 32.316406 14.800781 33.03125 14.800781 C 33.976562 14.800781 33.78125 13.9375 32.472656 12.292969 C 28.519531 7.355469 25.394531 5.925781 21.921875 7.472656 L 21.558594 7.636719 L 21.578125 7.542969 C 21.699219 6.992188 21.761719 5.742188 21.699219 5.164062 C 21.496094 3.296875 20.664062 1.964844 19.003906 0.855469 C 18.480469 0.503906 18.457031 0.5 18.214844 0.632812\"/>\n",
              "</g>\n",
              "      </svg>\n",
              "    "
            ],
            "text/plain": [
              "<IPython.core.display.HTML object>"
            ]
          },
          "metadata": {}
        }
      ]
    },
    {
      "cell_type": "markdown",
      "source": [
        "**Упражнение №10: «цветок»**\n",
        "\n",
        "Нарисуйте «цветок» из окружностей. Используйте функцию, рисующую окружность."
      ],
      "metadata": {
        "id": "huUVW66tkNzA"
      }
    },
    {
      "cell_type": "code",
      "source": [
        "!pip3 install ColabTurtle\n",
        "from ColabTurtle.Turtle import *\n",
        "\n",
        "\n",
        "initializeTurtle()\n",
        "def double_circle(radius, double=True):\n",
        "  number_of_angles = 12\n",
        "  length = radius * 2 * math.sin(math.pi/number_of_angles)\n",
        "  left(180/number_of_angles)\n",
        "  polygon(number_of_angles, length)\n",
        "  if double:\n",
        "    right(360/number_of_angles)\n",
        "    polygon(number_of_angles, length, is_left=False)\n",
        "    left(180/number_of_angles)\n",
        "  else:\n",
        "    right(180/number_of_angles)\n",
        "\n",
        "\n",
        "n = 3\n",
        "for i in range(n):\n",
        "  double_circle(100)\n",
        "  left(180/n)"
      ],
      "metadata": {
        "id": "d8ypDJOmkVGF",
        "colab": {
          "base_uri": "https://localhost:8080/"
        },
        "outputId": "daf820cd-8c89-4aa5-daf4-665a34948be2"
      },
      "execution_count": null,
      "outputs": [
        {
          "output_type": "display_data",
          "data": {
            "text/html": [
              "\n",
              "      <svg width=\"800\" height=\"500\">\n",
              "        <rect width=\"100%\" height=\"100%\" fill=\"black\"/>\n",
              "        <line x1=\"400\" y1=\"250\" x2=\"386.603\" y2=\"200.0\" stroke-linecap=\"round\" style=\"stroke:white;stroke-width:4\"/><line x1=\"386.603\" y1=\"200.0\" x2=\"350.0\" y2=\"163.397\" stroke-linecap=\"round\" style=\"stroke:white;stroke-width:4\"/><line x1=\"350.0\" y1=\"163.397\" x2=\"300.0\" y2=\"150.0\" stroke-linecap=\"round\" style=\"stroke:white;stroke-width:4\"/><line x1=\"300.0\" y1=\"150.0\" x2=\"250.0\" y2=\"163.397\" stroke-linecap=\"round\" style=\"stroke:white;stroke-width:4\"/><line x1=\"250.0\" y1=\"163.397\" x2=\"213.397\" y2=\"200.0\" stroke-linecap=\"round\" style=\"stroke:white;stroke-width:4\"/><line x1=\"213.397\" y1=\"200.0\" x2=\"200.0\" y2=\"250.0\" stroke-linecap=\"round\" style=\"stroke:white;stroke-width:4\"/><line x1=\"200.0\" y1=\"250.0\" x2=\"213.397\" y2=\"300.0\" stroke-linecap=\"round\" style=\"stroke:white;stroke-width:4\"/><line x1=\"213.397\" y1=\"300.0\" x2=\"250.0\" y2=\"336.603\" stroke-linecap=\"round\" style=\"stroke:white;stroke-width:4\"/><line x1=\"250.0\" y1=\"336.603\" x2=\"300.0\" y2=\"350.0\" stroke-linecap=\"round\" style=\"stroke:white;stroke-width:4\"/><line x1=\"300.0\" y1=\"350.0\" x2=\"350.0\" y2=\"336.603\" stroke-linecap=\"round\" style=\"stroke:white;stroke-width:4\"/><line x1=\"350.0\" y1=\"336.603\" x2=\"386.603\" y2=\"300.0\" stroke-linecap=\"round\" style=\"stroke:white;stroke-width:4\"/><line x1=\"386.603\" y1=\"300.0\" x2=\"400.0\" y2=\"250.0\" stroke-linecap=\"round\" style=\"stroke:white;stroke-width:4\"/><line x1=\"400.0\" y1=\"250.0\" x2=\"413.397\" y2=\"200.0\" stroke-linecap=\"round\" style=\"stroke:white;stroke-width:4\"/><line x1=\"413.397\" y1=\"200.0\" x2=\"450.0\" y2=\"163.397\" stroke-linecap=\"round\" style=\"stroke:white;stroke-width:4\"/><line x1=\"450.0\" y1=\"163.397\" x2=\"500.0\" y2=\"150.0\" stroke-linecap=\"round\" style=\"stroke:white;stroke-width:4\"/><line x1=\"500.0\" y1=\"150.0\" x2=\"550.0\" y2=\"163.397\" stroke-linecap=\"round\" style=\"stroke:white;stroke-width:4\"/><line x1=\"550.0\" y1=\"163.397\" x2=\"586.603\" y2=\"200.0\" stroke-linecap=\"round\" style=\"stroke:white;stroke-width:4\"/><line x1=\"586.603\" y1=\"200.0\" x2=\"600.0\" y2=\"250.0\" stroke-linecap=\"round\" style=\"stroke:white;stroke-width:4\"/><line x1=\"600.0\" y1=\"250.0\" x2=\"586.603\" y2=\"300.0\" stroke-linecap=\"round\" style=\"stroke:white;stroke-width:4\"/><line x1=\"586.603\" y1=\"300.0\" x2=\"550.0\" y2=\"336.603\" stroke-linecap=\"round\" style=\"stroke:white;stroke-width:4\"/><line x1=\"550.0\" y1=\"336.603\" x2=\"500.0\" y2=\"350.0\" stroke-linecap=\"round\" style=\"stroke:white;stroke-width:4\"/><line x1=\"500.0\" y1=\"350.0\" x2=\"450.0\" y2=\"336.603\" stroke-linecap=\"round\" style=\"stroke:white;stroke-width:4\"/><line x1=\"450.0\" y1=\"336.603\" x2=\"413.397\" y2=\"300.0\" stroke-linecap=\"round\" style=\"stroke:white;stroke-width:4\"/><line x1=\"413.397\" y1=\"300.0\" x2=\"400.0\" y2=\"250.0\" stroke-linecap=\"round\" style=\"stroke:white;stroke-width:4\"/><line x1=\"400.0\" y1=\"250.0\" x2=\"350.0\" y2=\"236.603\" stroke-linecap=\"round\" style=\"stroke:white;stroke-width:4\"/><line x1=\"350.0\" y1=\"236.603\" x2=\"300.0\" y2=\"250.0\" stroke-linecap=\"round\" style=\"stroke:white;stroke-width:4\"/><line x1=\"300.0\" y1=\"250.0\" x2=\"263.397\" y2=\"286.603\" stroke-linecap=\"round\" style=\"stroke:white;stroke-width:4\"/><line x1=\"263.397\" y1=\"286.603\" x2=\"250.0\" y2=\"336.603\" stroke-linecap=\"round\" style=\"stroke:white;stroke-width:4\"/><line x1=\"250.0\" y1=\"336.603\" x2=\"263.397\" y2=\"386.603\" stroke-linecap=\"round\" style=\"stroke:white;stroke-width:4\"/><line x1=\"263.397\" y1=\"386.603\" x2=\"300.0\" y2=\"423.206\" stroke-linecap=\"round\" style=\"stroke:white;stroke-width:4\"/><line x1=\"300.0\" y1=\"423.206\" x2=\"350.0\" y2=\"436.603\" stroke-linecap=\"round\" style=\"stroke:white;stroke-width:4\"/><line x1=\"350.0\" y1=\"436.603\" x2=\"400.0\" y2=\"423.206\" stroke-linecap=\"round\" style=\"stroke:white;stroke-width:4\"/><line x1=\"400.0\" y1=\"423.206\" x2=\"436.603\" y2=\"386.603\" stroke-linecap=\"round\" style=\"stroke:white;stroke-width:4\"/><line x1=\"436.603\" y1=\"386.603\" x2=\"450.0\" y2=\"336.603\" stroke-linecap=\"round\" style=\"stroke:white;stroke-width:4\"/><line x1=\"450.0\" y1=\"336.603\" x2=\"436.603\" y2=\"286.603\" stroke-linecap=\"round\" style=\"stroke:white;stroke-width:4\"/><line x1=\"436.603\" y1=\"286.603\" x2=\"400.0\" y2=\"250.0\" stroke-linecap=\"round\" style=\"stroke:white;stroke-width:4\"/><line x1=\"400.0\" y1=\"250.0\" x2=\"363.397\" y2=\"213.397\" stroke-linecap=\"round\" style=\"stroke:white;stroke-width:4\"/><line x1=\"363.397\" y1=\"213.397\" x2=\"350.0\" y2=\"163.397\" stroke-linecap=\"round\" style=\"stroke:white;stroke-width:4\"/><line x1=\"350.0\" y1=\"163.397\" x2=\"363.397\" y2=\"113.397\" stroke-linecap=\"round\" style=\"stroke:white;stroke-width:4\"/><line x1=\"363.397\" y1=\"113.397\" x2=\"400.0\" y2=\"76.794\" stroke-linecap=\"round\" style=\"stroke:white;stroke-width:4\"/><line x1=\"400.0\" y1=\"76.794\" x2=\"450.0\" y2=\"63.397\" stroke-linecap=\"round\" style=\"stroke:white;stroke-width:4\"/><line x1=\"450.0\" y1=\"63.397\" x2=\"500.0\" y2=\"76.794\" stroke-linecap=\"round\" style=\"stroke:white;stroke-width:4\"/><line x1=\"500.0\" y1=\"76.794\" x2=\"536.603\" y2=\"113.397\" stroke-linecap=\"round\" style=\"stroke:white;stroke-width:4\"/><line x1=\"536.603\" y1=\"113.397\" x2=\"550.0\" y2=\"163.397\" stroke-linecap=\"round\" style=\"stroke:white;stroke-width:4\"/><line x1=\"550.0\" y1=\"163.397\" x2=\"536.603\" y2=\"213.397\" stroke-linecap=\"round\" style=\"stroke:white;stroke-width:4\"/><line x1=\"536.603\" y1=\"213.397\" x2=\"500.0\" y2=\"250.0\" stroke-linecap=\"round\" style=\"stroke:white;stroke-width:4\"/><line x1=\"500.0\" y1=\"250.0\" x2=\"450.0\" y2=\"263.397\" stroke-linecap=\"round\" style=\"stroke:white;stroke-width:4\"/><line x1=\"450.0\" y1=\"263.397\" x2=\"400.0\" y2=\"250.0\" stroke-linecap=\"round\" style=\"stroke:white;stroke-width:4\"/><line x1=\"400.0\" y1=\"250.0\" x2=\"363.397\" y2=\"286.603\" stroke-linecap=\"round\" style=\"stroke:white;stroke-width:4\"/><line x1=\"363.397\" y1=\"286.603\" x2=\"350.0\" y2=\"336.603\" stroke-linecap=\"round\" style=\"stroke:white;stroke-width:4\"/><line x1=\"350.0\" y1=\"336.603\" x2=\"363.397\" y2=\"386.603\" stroke-linecap=\"round\" style=\"stroke:white;stroke-width:4\"/><line x1=\"363.397\" y1=\"386.603\" x2=\"400.0\" y2=\"423.206\" stroke-linecap=\"round\" style=\"stroke:white;stroke-width:4\"/><line x1=\"400.0\" y1=\"423.206\" x2=\"450.0\" y2=\"436.603\" stroke-linecap=\"round\" style=\"stroke:white;stroke-width:4\"/><line x1=\"450.0\" y1=\"436.603\" x2=\"500.0\" y2=\"423.206\" stroke-linecap=\"round\" style=\"stroke:white;stroke-width:4\"/><line x1=\"500.0\" y1=\"423.206\" x2=\"536.603\" y2=\"386.603\" stroke-linecap=\"round\" style=\"stroke:white;stroke-width:4\"/><line x1=\"536.603\" y1=\"386.603\" x2=\"550.0\" y2=\"336.603\" stroke-linecap=\"round\" style=\"stroke:white;stroke-width:4\"/><line x1=\"550.0\" y1=\"336.603\" x2=\"536.603\" y2=\"286.603\" stroke-linecap=\"round\" style=\"stroke:white;stroke-width:4\"/><line x1=\"536.603\" y1=\"286.603\" x2=\"500.0\" y2=\"250.0\" stroke-linecap=\"round\" style=\"stroke:white;stroke-width:4\"/><line x1=\"500.0\" y1=\"250.0\" x2=\"450.0\" y2=\"236.603\" stroke-linecap=\"round\" style=\"stroke:white;stroke-width:4\"/><line x1=\"450.0\" y1=\"236.603\" x2=\"400.0\" y2=\"250.0\" stroke-linecap=\"round\" style=\"stroke:white;stroke-width:4\"/><line x1=\"400.0\" y1=\"250.0\" x2=\"350.0\" y2=\"263.397\" stroke-linecap=\"round\" style=\"stroke:white;stroke-width:4\"/><line x1=\"350.0\" y1=\"263.397\" x2=\"300.0\" y2=\"250.0\" stroke-linecap=\"round\" style=\"stroke:white;stroke-width:4\"/><line x1=\"300.0\" y1=\"250.0\" x2=\"263.397\" y2=\"213.397\" stroke-linecap=\"round\" style=\"stroke:white;stroke-width:4\"/><line x1=\"263.397\" y1=\"213.397\" x2=\"250.0\" y2=\"163.397\" stroke-linecap=\"round\" style=\"stroke:white;stroke-width:4\"/><line x1=\"250.0\" y1=\"163.397\" x2=\"263.397\" y2=\"113.397\" stroke-linecap=\"round\" style=\"stroke:white;stroke-width:4\"/><line x1=\"263.397\" y1=\"113.397\" x2=\"300.0\" y2=\"76.794\" stroke-linecap=\"round\" style=\"stroke:white;stroke-width:4\"/><line x1=\"300.0\" y1=\"76.794\" x2=\"350.0\" y2=\"63.397\" stroke-linecap=\"round\" style=\"stroke:white;stroke-width:4\"/><line x1=\"350.0\" y1=\"63.397\" x2=\"400.0\" y2=\"76.794\" stroke-linecap=\"round\" style=\"stroke:white;stroke-width:4\"/><line x1=\"400.0\" y1=\"76.794\" x2=\"436.603\" y2=\"113.397\" stroke-linecap=\"round\" style=\"stroke:white;stroke-width:4\"/><line x1=\"436.603\" y1=\"113.397\" x2=\"450.0\" y2=\"163.397\" stroke-linecap=\"round\" style=\"stroke:white;stroke-width:4\"/><line x1=\"450.0\" y1=\"163.397\" x2=\"436.603\" y2=\"213.397\" stroke-linecap=\"round\" style=\"stroke:white;stroke-width:4\"/><line x1=\"436.603\" y1=\"213.397\" x2=\"400.0\" y2=\"250.0\" stroke-linecap=\"round\" style=\"stroke:white;stroke-width:4\"/>\n",
              "        <g visibility=visible transform=\"rotate(180.0,400.0,250.0) translate(382.0, 232.0)\">\n",
              "<path style=\" stroke:none;fill-rule:evenodd;fill:white;fill-opacity:1;\" d=\"M 18.214844 0.632812 C 16.109375 1.800781 15.011719 4.074219 15.074219 7.132812 L 15.085938 7.652344 L 14.785156 7.496094 C 13.476562 6.824219 11.957031 6.671875 10.40625 7.066406 C 8.46875 7.550781 6.515625 9.15625 4.394531 11.992188 C 3.0625 13.777344 2.679688 14.636719 3.042969 15.027344 L 3.15625 15.152344 L 3.519531 15.152344 C 4.238281 15.152344 4.828125 14.886719 8.1875 13.039062 C 9.386719 12.378906 10.371094 11.839844 10.378906 11.839844 C 10.386719 11.839844 10.355469 11.929688 10.304688 12.035156 C 9.832031 13.09375 9.257812 14.820312 8.96875 16.078125 C 7.914062 20.652344 8.617188 24.53125 11.070312 27.660156 C 11.351562 28.015625 11.363281 27.914062 10.972656 28.382812 C 8.925781 30.84375 7.945312 33.28125 8.238281 35.1875 C 8.289062 35.527344 8.28125 35.523438 8.917969 35.523438 C 10.941406 35.523438 13.074219 34.207031 15.136719 31.6875 C 15.359375 31.417969 15.328125 31.425781 15.5625 31.574219 C 16.292969 32.042969 18.023438 32.964844 18.175781 32.964844 C 18.335938 32.964844 19.941406 32.210938 20.828125 31.71875 C 20.996094 31.625 21.136719 31.554688 21.136719 31.558594 C 21.203125 31.664062 21.898438 32.414062 22.222656 32.730469 C 23.835938 34.300781 25.5625 35.132812 27.582031 35.300781 C 27.90625 35.328125 27.9375 35.308594 28.007812 34.984375 C 28.382812 33.242188 27.625 30.925781 25.863281 28.425781 L 25.542969 27.96875 L 25.699219 27.785156 C 28.945312 23.960938 29.132812 18.699219 26.257812 11.96875 L 26.207031 11.84375 L 27.945312 12.703125 C 31.53125 14.476562 32.316406 14.800781 33.03125 14.800781 C 33.976562 14.800781 33.78125 13.9375 32.472656 12.292969 C 28.519531 7.355469 25.394531 5.925781 21.921875 7.472656 L 21.558594 7.636719 L 21.578125 7.542969 C 21.699219 6.992188 21.761719 5.742188 21.699219 5.164062 C 21.496094 3.296875 20.664062 1.964844 19.003906 0.855469 C 18.480469 0.503906 18.457031 0.5 18.214844 0.632812\"/>\n",
              "</g>\n",
              "      </svg>\n",
              "    "
            ],
            "text/plain": [
              "<IPython.core.display.HTML object>"
            ]
          },
          "metadata": {}
        }
      ]
    },
    {
      "cell_type": "markdown",
      "source": [
        "**Упражнение №11: «бабочка»**\n",
        "\n",
        "Нарисуйте «бабочку» из окружностей. Используйте функцию, рисующую окружность."
      ],
      "metadata": {
        "id": "3B6jJSVZuVll"
      }
    },
    {
      "cell_type": "code",
      "source": [
        "!pip3 install ColabTurtle\n",
        "from ColabTurtle.Turtle import *\n",
        "from math import radians\n",
        "\n",
        "\n",
        "initializeTurtle()\n",
        "\n",
        "for i in range(3):\n",
        "  radius = 50 + i*30\n",
        "  double_circle(radius)"
      ],
      "metadata": {
        "id": "BWcZo73NuXYF",
        "colab": {
          "base_uri": "https://localhost:8080/"
        },
        "outputId": "169c4b47-6956-4498-9eb2-39c1994506a0"
      },
      "execution_count": null,
      "outputs": [
        {
          "output_type": "display_data",
          "data": {
            "text/html": [
              "\n",
              "      <svg width=\"800\" height=\"500\">\n",
              "        <rect width=\"100%\" height=\"100%\" fill=\"black\"/>\n",
              "        <line x1=\"400\" y1=\"250\" x2=\"393.301\" y2=\"225.0\" stroke-linecap=\"round\" style=\"stroke:white;stroke-width:4\"/><line x1=\"393.301\" y1=\"225.0\" x2=\"375.0\" y2=\"206.699\" stroke-linecap=\"round\" style=\"stroke:white;stroke-width:4\"/><line x1=\"375.0\" y1=\"206.699\" x2=\"350.0\" y2=\"200.0\" stroke-linecap=\"round\" style=\"stroke:white;stroke-width:4\"/><line x1=\"350.0\" y1=\"200.0\" x2=\"325.0\" y2=\"206.699\" stroke-linecap=\"round\" style=\"stroke:white;stroke-width:4\"/><line x1=\"325.0\" y1=\"206.699\" x2=\"306.699\" y2=\"225.0\" stroke-linecap=\"round\" style=\"stroke:white;stroke-width:4\"/><line x1=\"306.699\" y1=\"225.0\" x2=\"300.0\" y2=\"250.0\" stroke-linecap=\"round\" style=\"stroke:white;stroke-width:4\"/><line x1=\"300.0\" y1=\"250.0\" x2=\"306.699\" y2=\"275.0\" stroke-linecap=\"round\" style=\"stroke:white;stroke-width:4\"/><line x1=\"306.699\" y1=\"275.0\" x2=\"325.0\" y2=\"293.301\" stroke-linecap=\"round\" style=\"stroke:white;stroke-width:4\"/><line x1=\"325.0\" y1=\"293.301\" x2=\"350.0\" y2=\"300.0\" stroke-linecap=\"round\" style=\"stroke:white;stroke-width:4\"/><line x1=\"350.0\" y1=\"300.0\" x2=\"375.0\" y2=\"293.301\" stroke-linecap=\"round\" style=\"stroke:white;stroke-width:4\"/><line x1=\"375.0\" y1=\"293.301\" x2=\"393.301\" y2=\"275.0\" stroke-linecap=\"round\" style=\"stroke:white;stroke-width:4\"/><line x1=\"393.301\" y1=\"275.0\" x2=\"400.0\" y2=\"250.0\" stroke-linecap=\"round\" style=\"stroke:white;stroke-width:4\"/><line x1=\"400.0\" y1=\"250.0\" x2=\"406.699\" y2=\"225.0\" stroke-linecap=\"round\" style=\"stroke:white;stroke-width:4\"/><line x1=\"406.699\" y1=\"225.0\" x2=\"425.0\" y2=\"206.699\" stroke-linecap=\"round\" style=\"stroke:white;stroke-width:4\"/><line x1=\"425.0\" y1=\"206.699\" x2=\"450.0\" y2=\"200.0\" stroke-linecap=\"round\" style=\"stroke:white;stroke-width:4\"/><line x1=\"450.0\" y1=\"200.0\" x2=\"475.0\" y2=\"206.699\" stroke-linecap=\"round\" style=\"stroke:white;stroke-width:4\"/><line x1=\"475.0\" y1=\"206.699\" x2=\"493.301\" y2=\"225.0\" stroke-linecap=\"round\" style=\"stroke:white;stroke-width:4\"/><line x1=\"493.301\" y1=\"225.0\" x2=\"500.0\" y2=\"250.0\" stroke-linecap=\"round\" style=\"stroke:white;stroke-width:4\"/><line x1=\"500.0\" y1=\"250.0\" x2=\"493.301\" y2=\"275.0\" stroke-linecap=\"round\" style=\"stroke:white;stroke-width:4\"/><line x1=\"493.301\" y1=\"275.0\" x2=\"475.0\" y2=\"293.301\" stroke-linecap=\"round\" style=\"stroke:white;stroke-width:4\"/><line x1=\"475.0\" y1=\"293.301\" x2=\"450.0\" y2=\"300.0\" stroke-linecap=\"round\" style=\"stroke:white;stroke-width:4\"/><line x1=\"450.0\" y1=\"300.0\" x2=\"425.0\" y2=\"293.301\" stroke-linecap=\"round\" style=\"stroke:white;stroke-width:4\"/><line x1=\"425.0\" y1=\"293.301\" x2=\"406.699\" y2=\"275.0\" stroke-linecap=\"round\" style=\"stroke:white;stroke-width:4\"/><line x1=\"406.699\" y1=\"275.0\" x2=\"400.0\" y2=\"250.0\" stroke-linecap=\"round\" style=\"stroke:white;stroke-width:4\"/><line x1=\"400.0\" y1=\"250.0\" x2=\"389.282\" y2=\"210.0\" stroke-linecap=\"round\" style=\"stroke:white;stroke-width:4\"/><line x1=\"389.282\" y1=\"210.0\" x2=\"360.0\" y2=\"180.718\" stroke-linecap=\"round\" style=\"stroke:white;stroke-width:4\"/><line x1=\"360.0\" y1=\"180.718\" x2=\"320.0\" y2=\"170.0\" stroke-linecap=\"round\" style=\"stroke:white;stroke-width:4\"/><line x1=\"320.0\" y1=\"170.0\" x2=\"280.0\" y2=\"180.718\" stroke-linecap=\"round\" style=\"stroke:white;stroke-width:4\"/><line x1=\"280.0\" y1=\"180.718\" x2=\"250.718\" y2=\"210.0\" stroke-linecap=\"round\" style=\"stroke:white;stroke-width:4\"/><line x1=\"250.718\" y1=\"210.0\" x2=\"240.0\" y2=\"250.0\" stroke-linecap=\"round\" style=\"stroke:white;stroke-width:4\"/><line x1=\"240.0\" y1=\"250.0\" x2=\"250.718\" y2=\"290.0\" stroke-linecap=\"round\" style=\"stroke:white;stroke-width:4\"/><line x1=\"250.718\" y1=\"290.0\" x2=\"280.0\" y2=\"319.282\" stroke-linecap=\"round\" style=\"stroke:white;stroke-width:4\"/><line x1=\"280.0\" y1=\"319.282\" x2=\"320.0\" y2=\"330.0\" stroke-linecap=\"round\" style=\"stroke:white;stroke-width:4\"/><line x1=\"320.0\" y1=\"330.0\" x2=\"360.0\" y2=\"319.282\" stroke-linecap=\"round\" style=\"stroke:white;stroke-width:4\"/><line x1=\"360.0\" y1=\"319.282\" x2=\"389.282\" y2=\"290.0\" stroke-linecap=\"round\" style=\"stroke:white;stroke-width:4\"/><line x1=\"389.282\" y1=\"290.0\" x2=\"400.0\" y2=\"250.0\" stroke-linecap=\"round\" style=\"stroke:white;stroke-width:4\"/><line x1=\"400.0\" y1=\"250.0\" x2=\"410.718\" y2=\"210.0\" stroke-linecap=\"round\" style=\"stroke:white;stroke-width:4\"/><line x1=\"410.718\" y1=\"210.0\" x2=\"440.0\" y2=\"180.718\" stroke-linecap=\"round\" style=\"stroke:white;stroke-width:4\"/><line x1=\"440.0\" y1=\"180.718\" x2=\"480.0\" y2=\"170.0\" stroke-linecap=\"round\" style=\"stroke:white;stroke-width:4\"/><line x1=\"480.0\" y1=\"170.0\" x2=\"520.0\" y2=\"180.718\" stroke-linecap=\"round\" style=\"stroke:white;stroke-width:4\"/><line x1=\"520.0\" y1=\"180.718\" x2=\"549.282\" y2=\"210.0\" stroke-linecap=\"round\" style=\"stroke:white;stroke-width:4\"/><line x1=\"549.282\" y1=\"210.0\" x2=\"560.0\" y2=\"250.0\" stroke-linecap=\"round\" style=\"stroke:white;stroke-width:4\"/><line x1=\"560.0\" y1=\"250.0\" x2=\"549.282\" y2=\"290.0\" stroke-linecap=\"round\" style=\"stroke:white;stroke-width:4\"/><line x1=\"549.282\" y1=\"290.0\" x2=\"520.0\" y2=\"319.282\" stroke-linecap=\"round\" style=\"stroke:white;stroke-width:4\"/><line x1=\"520.0\" y1=\"319.282\" x2=\"480.0\" y2=\"330.0\" stroke-linecap=\"round\" style=\"stroke:white;stroke-width:4\"/><line x1=\"480.0\" y1=\"330.0\" x2=\"440.0\" y2=\"319.282\" stroke-linecap=\"round\" style=\"stroke:white;stroke-width:4\"/><line x1=\"440.0\" y1=\"319.282\" x2=\"410.718\" y2=\"290.0\" stroke-linecap=\"round\" style=\"stroke:white;stroke-width:4\"/><line x1=\"410.718\" y1=\"290.0\" x2=\"400.0\" y2=\"250.0\" stroke-linecap=\"round\" style=\"stroke:white;stroke-width:4\"/><line x1=\"400.0\" y1=\"250.0\" x2=\"385.263\" y2=\"195.0\" stroke-linecap=\"round\" style=\"stroke:white;stroke-width:4\"/><line x1=\"385.263\" y1=\"195.0\" x2=\"345.0\" y2=\"154.737\" stroke-linecap=\"round\" style=\"stroke:white;stroke-width:4\"/><line x1=\"345.0\" y1=\"154.737\" x2=\"290.0\" y2=\"140.0\" stroke-linecap=\"round\" style=\"stroke:white;stroke-width:4\"/><line x1=\"290.0\" y1=\"140.0\" x2=\"235.0\" y2=\"154.737\" stroke-linecap=\"round\" style=\"stroke:white;stroke-width:4\"/><line x1=\"235.0\" y1=\"154.737\" x2=\"194.737\" y2=\"195.0\" stroke-linecap=\"round\" style=\"stroke:white;stroke-width:4\"/><line x1=\"194.737\" y1=\"195.0\" x2=\"180.0\" y2=\"250.0\" stroke-linecap=\"round\" style=\"stroke:white;stroke-width:4\"/><line x1=\"180.0\" y1=\"250.0\" x2=\"194.737\" y2=\"305.0\" stroke-linecap=\"round\" style=\"stroke:white;stroke-width:4\"/><line x1=\"194.737\" y1=\"305.0\" x2=\"235.0\" y2=\"345.263\" stroke-linecap=\"round\" style=\"stroke:white;stroke-width:4\"/><line x1=\"235.0\" y1=\"345.263\" x2=\"290.0\" y2=\"360.0\" stroke-linecap=\"round\" style=\"stroke:white;stroke-width:4\"/><line x1=\"290.0\" y1=\"360.0\" x2=\"345.0\" y2=\"345.263\" stroke-linecap=\"round\" style=\"stroke:white;stroke-width:4\"/><line x1=\"345.0\" y1=\"345.263\" x2=\"385.263\" y2=\"305.0\" stroke-linecap=\"round\" style=\"stroke:white;stroke-width:4\"/><line x1=\"385.263\" y1=\"305.0\" x2=\"400.0\" y2=\"250.0\" stroke-linecap=\"round\" style=\"stroke:white;stroke-width:4\"/><line x1=\"400.0\" y1=\"250.0\" x2=\"414.737\" y2=\"195.0\" stroke-linecap=\"round\" style=\"stroke:white;stroke-width:4\"/><line x1=\"414.737\" y1=\"195.0\" x2=\"455.0\" y2=\"154.737\" stroke-linecap=\"round\" style=\"stroke:white;stroke-width:4\"/><line x1=\"455.0\" y1=\"154.737\" x2=\"510.0\" y2=\"140.0\" stroke-linecap=\"round\" style=\"stroke:white;stroke-width:4\"/><line x1=\"510.0\" y1=\"140.0\" x2=\"565.0\" y2=\"154.737\" stroke-linecap=\"round\" style=\"stroke:white;stroke-width:4\"/><line x1=\"565.0\" y1=\"154.737\" x2=\"605.263\" y2=\"195.0\" stroke-linecap=\"round\" style=\"stroke:white;stroke-width:4\"/><line x1=\"605.263\" y1=\"195.0\" x2=\"620.0\" y2=\"250.0\" stroke-linecap=\"round\" style=\"stroke:white;stroke-width:4\"/><line x1=\"620.0\" y1=\"250.0\" x2=\"605.263\" y2=\"305.0\" stroke-linecap=\"round\" style=\"stroke:white;stroke-width:4\"/><line x1=\"605.263\" y1=\"305.0\" x2=\"565.0\" y2=\"345.263\" stroke-linecap=\"round\" style=\"stroke:white;stroke-width:4\"/><line x1=\"565.0\" y1=\"345.263\" x2=\"510.0\" y2=\"360.0\" stroke-linecap=\"round\" style=\"stroke:white;stroke-width:4\"/><line x1=\"510.0\" y1=\"360.0\" x2=\"455.0\" y2=\"345.263\" stroke-linecap=\"round\" style=\"stroke:white;stroke-width:4\"/><line x1=\"455.0\" y1=\"345.263\" x2=\"414.737\" y2=\"305.0\" stroke-linecap=\"round\" style=\"stroke:white;stroke-width:4\"/><line x1=\"414.737\" y1=\"305.0\" x2=\"400.0\" y2=\"250.0\" stroke-linecap=\"round\" style=\"stroke:white;stroke-width:4\"/>\n",
              "        <g visibility=visible transform=\"rotate(360.0,400.0,250.0) translate(382.0, 232.0)\">\n",
              "<path style=\" stroke:none;fill-rule:evenodd;fill:white;fill-opacity:1;\" d=\"M 18.214844 0.632812 C 16.109375 1.800781 15.011719 4.074219 15.074219 7.132812 L 15.085938 7.652344 L 14.785156 7.496094 C 13.476562 6.824219 11.957031 6.671875 10.40625 7.066406 C 8.46875 7.550781 6.515625 9.15625 4.394531 11.992188 C 3.0625 13.777344 2.679688 14.636719 3.042969 15.027344 L 3.15625 15.152344 L 3.519531 15.152344 C 4.238281 15.152344 4.828125 14.886719 8.1875 13.039062 C 9.386719 12.378906 10.371094 11.839844 10.378906 11.839844 C 10.386719 11.839844 10.355469 11.929688 10.304688 12.035156 C 9.832031 13.09375 9.257812 14.820312 8.96875 16.078125 C 7.914062 20.652344 8.617188 24.53125 11.070312 27.660156 C 11.351562 28.015625 11.363281 27.914062 10.972656 28.382812 C 8.925781 30.84375 7.945312 33.28125 8.238281 35.1875 C 8.289062 35.527344 8.28125 35.523438 8.917969 35.523438 C 10.941406 35.523438 13.074219 34.207031 15.136719 31.6875 C 15.359375 31.417969 15.328125 31.425781 15.5625 31.574219 C 16.292969 32.042969 18.023438 32.964844 18.175781 32.964844 C 18.335938 32.964844 19.941406 32.210938 20.828125 31.71875 C 20.996094 31.625 21.136719 31.554688 21.136719 31.558594 C 21.203125 31.664062 21.898438 32.414062 22.222656 32.730469 C 23.835938 34.300781 25.5625 35.132812 27.582031 35.300781 C 27.90625 35.328125 27.9375 35.308594 28.007812 34.984375 C 28.382812 33.242188 27.625 30.925781 25.863281 28.425781 L 25.542969 27.96875 L 25.699219 27.785156 C 28.945312 23.960938 29.132812 18.699219 26.257812 11.96875 L 26.207031 11.84375 L 27.945312 12.703125 C 31.53125 14.476562 32.316406 14.800781 33.03125 14.800781 C 33.976562 14.800781 33.78125 13.9375 32.472656 12.292969 C 28.519531 7.355469 25.394531 5.925781 21.921875 7.472656 L 21.558594 7.636719 L 21.578125 7.542969 C 21.699219 6.992188 21.761719 5.742188 21.699219 5.164062 C 21.496094 3.296875 20.664062 1.964844 19.003906 0.855469 C 18.480469 0.503906 18.457031 0.5 18.214844 0.632812\"/>\n",
              "</g>\n",
              "      </svg>\n",
              "    "
            ],
            "text/plain": [
              "<IPython.core.display.HTML object>"
            ]
          },
          "metadata": {}
        }
      ]
    },
    {
      "cell_type": "markdown",
      "source": [
        "**Упражнение №12: пружина**\n",
        "\n",
        "Нарисуйте пружину. Используйте функцию, рисующую дугу."
      ],
      "metadata": {
        "id": "jM-PX4Ozv9sv"
      }
    },
    {
      "cell_type": "code",
      "source": [
        "!pip3 install ColabTurtle\n",
        "from ColabTurtle.Turtle import *\n",
        "def arc(radius):\n",
        "  number_of_lines = 8\n",
        "  number_of_angles_in_whole_poligon = number_of_lines * 2\n",
        "  angle = 360 / number_of_angles_in_whole_poligon\n",
        "  length_of_this_polygon = radius * 2 * math.sin(math.pi/(2 * number_of_lines))\n",
        "  right(angle/2)\n",
        "  for i in range(number_of_lines-1):\n",
        "    forward(length_of_this_polygon)\n",
        "    right(angle)\n",
        "  forward(length_of_this_polygon)\n",
        "  right(angle/2)\n",
        "    \n",
        "\n",
        "\n",
        "\n",
        "initializeTurtle()\n",
        "penup()\n",
        "goto(20, 250)\n",
        "pendown()\n",
        "for i in range(4):\n",
        "  arc(100)\n",
        "  arc(20)"
      ],
      "metadata": {
        "id": "jBueXLrSwHuV",
        "colab": {
          "base_uri": "https://localhost:8080/"
        },
        "outputId": "257efbbc-69de-4f49-e300-4d7c1628ebdd"
      },
      "execution_count": null,
      "outputs": [
        {
          "output_type": "display_data",
          "data": {
            "text/html": [
              "\n",
              "      <svg width=\"800\" height=\"500\">\n",
              "        <rect width=\"100%\" height=\"100%\" fill=\"black\"/>\n",
              "        <line x1=\"20\" y1=\"250\" x2=\"27.612\" y2=\"211.732\" stroke-linecap=\"round\" style=\"stroke:white;stroke-width:4\"/><line x1=\"27.612\" y1=\"211.732\" x2=\"49.289\" y2=\"179.29\" stroke-linecap=\"round\" style=\"stroke:white;stroke-width:4\"/><line x1=\"49.289\" y1=\"179.29\" x2=\"81.731\" y2=\"157.613\" stroke-linecap=\"round\" style=\"stroke:white;stroke-width:4\"/><line x1=\"81.731\" y1=\"157.613\" x2=\"119.999\" y2=\"150.001\" stroke-linecap=\"round\" style=\"stroke:white;stroke-width:4\"/><line x1=\"119.999\" y1=\"150.001\" x2=\"158.267\" y2=\"157.613\" stroke-linecap=\"round\" style=\"stroke:white;stroke-width:4\"/><line x1=\"158.267\" y1=\"157.613\" x2=\"190.709\" y2=\"179.29\" stroke-linecap=\"round\" style=\"stroke:white;stroke-width:4\"/><line x1=\"190.709\" y1=\"179.29\" x2=\"212.386\" y2=\"211.732\" stroke-linecap=\"round\" style=\"stroke:white;stroke-width:4\"/><line x1=\"212.386\" y1=\"211.732\" x2=\"219.998\" y2=\"250.0\" stroke-linecap=\"round\" style=\"stroke:white;stroke-width:4\"/><line x1=\"219.998\" y1=\"250.0\" x2=\"218.476\" y2=\"257.654\" stroke-linecap=\"round\" style=\"stroke:white;stroke-width:4\"/><line x1=\"218.476\" y1=\"257.654\" x2=\"214.141\" y2=\"264.142\" stroke-linecap=\"round\" style=\"stroke:white;stroke-width:4\"/><line x1=\"214.141\" y1=\"264.142\" x2=\"207.653\" y2=\"268.477\" stroke-linecap=\"round\" style=\"stroke:white;stroke-width:4\"/><line x1=\"207.653\" y1=\"268.477\" x2=\"199.999\" y2=\"269.999\" stroke-linecap=\"round\" style=\"stroke:white;stroke-width:4\"/><line x1=\"199.999\" y1=\"269.999\" x2=\"192.345\" y2=\"268.477\" stroke-linecap=\"round\" style=\"stroke:white;stroke-width:4\"/><line x1=\"192.345\" y1=\"268.477\" x2=\"185.857\" y2=\"264.142\" stroke-linecap=\"round\" style=\"stroke:white;stroke-width:4\"/><line x1=\"185.857\" y1=\"264.142\" x2=\"181.522\" y2=\"257.654\" stroke-linecap=\"round\" style=\"stroke:white;stroke-width:4\"/><line x1=\"181.522\" y1=\"257.654\" x2=\"180.0\" y2=\"250.0\" stroke-linecap=\"round\" style=\"stroke:white;stroke-width:4\"/><line x1=\"180.0\" y1=\"250.0\" x2=\"187.612\" y2=\"211.732\" stroke-linecap=\"round\" style=\"stroke:white;stroke-width:4\"/><line x1=\"187.612\" y1=\"211.732\" x2=\"209.289\" y2=\"179.29\" stroke-linecap=\"round\" style=\"stroke:white;stroke-width:4\"/><line x1=\"209.289\" y1=\"179.29\" x2=\"241.731\" y2=\"157.613\" stroke-linecap=\"round\" style=\"stroke:white;stroke-width:4\"/><line x1=\"241.731\" y1=\"157.613\" x2=\"279.999\" y2=\"150.001\" stroke-linecap=\"round\" style=\"stroke:white;stroke-width:4\"/><line x1=\"279.999\" y1=\"150.001\" x2=\"318.267\" y2=\"157.613\" stroke-linecap=\"round\" style=\"stroke:white;stroke-width:4\"/><line x1=\"318.267\" y1=\"157.613\" x2=\"350.709\" y2=\"179.29\" stroke-linecap=\"round\" style=\"stroke:white;stroke-width:4\"/><line x1=\"350.709\" y1=\"179.29\" x2=\"372.386\" y2=\"211.732\" stroke-linecap=\"round\" style=\"stroke:white;stroke-width:4\"/><line x1=\"372.386\" y1=\"211.732\" x2=\"379.998\" y2=\"250.0\" stroke-linecap=\"round\" style=\"stroke:white;stroke-width:4\"/><line x1=\"379.998\" y1=\"250.0\" x2=\"378.476\" y2=\"257.654\" stroke-linecap=\"round\" style=\"stroke:white;stroke-width:4\"/><line x1=\"378.476\" y1=\"257.654\" x2=\"374.141\" y2=\"264.142\" stroke-linecap=\"round\" style=\"stroke:white;stroke-width:4\"/><line x1=\"374.141\" y1=\"264.142\" x2=\"367.653\" y2=\"268.477\" stroke-linecap=\"round\" style=\"stroke:white;stroke-width:4\"/><line x1=\"367.653\" y1=\"268.477\" x2=\"359.999\" y2=\"269.999\" stroke-linecap=\"round\" style=\"stroke:white;stroke-width:4\"/><line x1=\"359.999\" y1=\"269.999\" x2=\"352.345\" y2=\"268.477\" stroke-linecap=\"round\" style=\"stroke:white;stroke-width:4\"/><line x1=\"352.345\" y1=\"268.477\" x2=\"345.857\" y2=\"264.142\" stroke-linecap=\"round\" style=\"stroke:white;stroke-width:4\"/><line x1=\"345.857\" y1=\"264.142\" x2=\"341.522\" y2=\"257.654\" stroke-linecap=\"round\" style=\"stroke:white;stroke-width:4\"/><line x1=\"341.522\" y1=\"257.654\" x2=\"340.0\" y2=\"250.0\" stroke-linecap=\"round\" style=\"stroke:white;stroke-width:4\"/><line x1=\"340.0\" y1=\"250.0\" x2=\"347.612\" y2=\"211.732\" stroke-linecap=\"round\" style=\"stroke:white;stroke-width:4\"/><line x1=\"347.612\" y1=\"211.732\" x2=\"369.289\" y2=\"179.29\" stroke-linecap=\"round\" style=\"stroke:white;stroke-width:4\"/><line x1=\"369.289\" y1=\"179.29\" x2=\"401.731\" y2=\"157.613\" stroke-linecap=\"round\" style=\"stroke:white;stroke-width:4\"/><line x1=\"401.731\" y1=\"157.613\" x2=\"439.999\" y2=\"150.001\" stroke-linecap=\"round\" style=\"stroke:white;stroke-width:4\"/><line x1=\"439.999\" y1=\"150.001\" x2=\"478.267\" y2=\"157.613\" stroke-linecap=\"round\" style=\"stroke:white;stroke-width:4\"/><line x1=\"478.267\" y1=\"157.613\" x2=\"510.709\" y2=\"179.29\" stroke-linecap=\"round\" style=\"stroke:white;stroke-width:4\"/><line x1=\"510.709\" y1=\"179.29\" x2=\"532.386\" y2=\"211.732\" stroke-linecap=\"round\" style=\"stroke:white;stroke-width:4\"/><line x1=\"532.386\" y1=\"211.732\" x2=\"539.998\" y2=\"250.0\" stroke-linecap=\"round\" style=\"stroke:white;stroke-width:4\"/><line x1=\"539.998\" y1=\"250.0\" x2=\"538.476\" y2=\"257.654\" stroke-linecap=\"round\" style=\"stroke:white;stroke-width:4\"/><line x1=\"538.476\" y1=\"257.654\" x2=\"534.141\" y2=\"264.142\" stroke-linecap=\"round\" style=\"stroke:white;stroke-width:4\"/><line x1=\"534.141\" y1=\"264.142\" x2=\"527.653\" y2=\"268.477\" stroke-linecap=\"round\" style=\"stroke:white;stroke-width:4\"/><line x1=\"527.653\" y1=\"268.477\" x2=\"519.999\" y2=\"269.999\" stroke-linecap=\"round\" style=\"stroke:white;stroke-width:4\"/><line x1=\"519.999\" y1=\"269.999\" x2=\"512.345\" y2=\"268.477\" stroke-linecap=\"round\" style=\"stroke:white;stroke-width:4\"/><line x1=\"512.345\" y1=\"268.477\" x2=\"505.857\" y2=\"264.142\" stroke-linecap=\"round\" style=\"stroke:white;stroke-width:4\"/><line x1=\"505.857\" y1=\"264.142\" x2=\"501.522\" y2=\"257.654\" stroke-linecap=\"round\" style=\"stroke:white;stroke-width:4\"/><line x1=\"501.522\" y1=\"257.654\" x2=\"500.0\" y2=\"250.0\" stroke-linecap=\"round\" style=\"stroke:white;stroke-width:4\"/><line x1=\"500.0\" y1=\"250.0\" x2=\"507.612\" y2=\"211.732\" stroke-linecap=\"round\" style=\"stroke:white;stroke-width:4\"/><line x1=\"507.612\" y1=\"211.732\" x2=\"529.289\" y2=\"179.29\" stroke-linecap=\"round\" style=\"stroke:white;stroke-width:4\"/><line x1=\"529.289\" y1=\"179.29\" x2=\"561.731\" y2=\"157.613\" stroke-linecap=\"round\" style=\"stroke:white;stroke-width:4\"/><line x1=\"561.731\" y1=\"157.613\" x2=\"599.999\" y2=\"150.001\" stroke-linecap=\"round\" style=\"stroke:white;stroke-width:4\"/><line x1=\"599.999\" y1=\"150.001\" x2=\"638.267\" y2=\"157.613\" stroke-linecap=\"round\" style=\"stroke:white;stroke-width:4\"/><line x1=\"638.267\" y1=\"157.613\" x2=\"670.709\" y2=\"179.29\" stroke-linecap=\"round\" style=\"stroke:white;stroke-width:4\"/><line x1=\"670.709\" y1=\"179.29\" x2=\"692.386\" y2=\"211.732\" stroke-linecap=\"round\" style=\"stroke:white;stroke-width:4\"/><line x1=\"692.386\" y1=\"211.732\" x2=\"699.998\" y2=\"250.0\" stroke-linecap=\"round\" style=\"stroke:white;stroke-width:4\"/><line x1=\"699.998\" y1=\"250.0\" x2=\"698.476\" y2=\"257.654\" stroke-linecap=\"round\" style=\"stroke:white;stroke-width:4\"/><line x1=\"698.476\" y1=\"257.654\" x2=\"694.141\" y2=\"264.142\" stroke-linecap=\"round\" style=\"stroke:white;stroke-width:4\"/><line x1=\"694.141\" y1=\"264.142\" x2=\"687.653\" y2=\"268.477\" stroke-linecap=\"round\" style=\"stroke:white;stroke-width:4\"/><line x1=\"687.653\" y1=\"268.477\" x2=\"679.999\" y2=\"269.999\" stroke-linecap=\"round\" style=\"stroke:white;stroke-width:4\"/><line x1=\"679.999\" y1=\"269.999\" x2=\"672.345\" y2=\"268.477\" stroke-linecap=\"round\" style=\"stroke:white;stroke-width:4\"/><line x1=\"672.345\" y1=\"268.477\" x2=\"665.857\" y2=\"264.142\" stroke-linecap=\"round\" style=\"stroke:white;stroke-width:4\"/><line x1=\"665.857\" y1=\"264.142\" x2=\"661.522\" y2=\"257.654\" stroke-linecap=\"round\" style=\"stroke:white;stroke-width:4\"/><line x1=\"661.522\" y1=\"257.654\" x2=\"660.0\" y2=\"250.0\" stroke-linecap=\"round\" style=\"stroke:white;stroke-width:4\"/>\n",
              "        <g visibility=visible transform=\"rotate(360.0,660.0,250.0) translate(642.0, 232.0)\">\n",
              "<path style=\" stroke:none;fill-rule:evenodd;fill:white;fill-opacity:1;\" d=\"M 18.214844 0.632812 C 16.109375 1.800781 15.011719 4.074219 15.074219 7.132812 L 15.085938 7.652344 L 14.785156 7.496094 C 13.476562 6.824219 11.957031 6.671875 10.40625 7.066406 C 8.46875 7.550781 6.515625 9.15625 4.394531 11.992188 C 3.0625 13.777344 2.679688 14.636719 3.042969 15.027344 L 3.15625 15.152344 L 3.519531 15.152344 C 4.238281 15.152344 4.828125 14.886719 8.1875 13.039062 C 9.386719 12.378906 10.371094 11.839844 10.378906 11.839844 C 10.386719 11.839844 10.355469 11.929688 10.304688 12.035156 C 9.832031 13.09375 9.257812 14.820312 8.96875 16.078125 C 7.914062 20.652344 8.617188 24.53125 11.070312 27.660156 C 11.351562 28.015625 11.363281 27.914062 10.972656 28.382812 C 8.925781 30.84375 7.945312 33.28125 8.238281 35.1875 C 8.289062 35.527344 8.28125 35.523438 8.917969 35.523438 C 10.941406 35.523438 13.074219 34.207031 15.136719 31.6875 C 15.359375 31.417969 15.328125 31.425781 15.5625 31.574219 C 16.292969 32.042969 18.023438 32.964844 18.175781 32.964844 C 18.335938 32.964844 19.941406 32.210938 20.828125 31.71875 C 20.996094 31.625 21.136719 31.554688 21.136719 31.558594 C 21.203125 31.664062 21.898438 32.414062 22.222656 32.730469 C 23.835938 34.300781 25.5625 35.132812 27.582031 35.300781 C 27.90625 35.328125 27.9375 35.308594 28.007812 34.984375 C 28.382812 33.242188 27.625 30.925781 25.863281 28.425781 L 25.542969 27.96875 L 25.699219 27.785156 C 28.945312 23.960938 29.132812 18.699219 26.257812 11.96875 L 26.207031 11.84375 L 27.945312 12.703125 C 31.53125 14.476562 32.316406 14.800781 33.03125 14.800781 C 33.976562 14.800781 33.78125 13.9375 32.472656 12.292969 C 28.519531 7.355469 25.394531 5.925781 21.921875 7.472656 L 21.558594 7.636719 L 21.578125 7.542969 C 21.699219 6.992188 21.761719 5.742188 21.699219 5.164062 C 21.496094 3.296875 20.664062 1.964844 19.003906 0.855469 C 18.480469 0.503906 18.457031 0.5 18.214844 0.632812\"/>\n",
              "</g>\n",
              "      </svg>\n",
              "    "
            ],
            "text/plain": [
              "<IPython.core.display.HTML object>"
            ]
          },
          "metadata": {}
        }
      ]
    },
    {
      "cell_type": "markdown",
      "source": [
        "**Упражнение №13: смайлик**\n",
        "\n",
        "Нарисуйте смайлик с помощью написанных функций рисования круга и дуги. Не нашёд аналог fill в данной версии черепашки."
      ],
      "metadata": {
        "id": "Rl6Fax5n21HW"
      }
    },
    {
      "cell_type": "code",
      "source": [
        "!pip3 install ColabTurtle\n",
        "from ColabTurtle.Turtle import *\n",
        "\n",
        "initializeTurtle()\n",
        "\n",
        "penup()\n",
        "goto(600, 250)\n",
        "pendown()\n",
        "color('yellow')\n",
        "double_circle(200, double=False)\n",
        "penup()\n",
        "color('blue')\n",
        "goto(350, 175)\n",
        "pendown()\n",
        "double_circle(30, double=False)\n",
        "penup()\n",
        "goto(510, 175)\n",
        "pendown()\n",
        "double_circle(30, double=False)\n",
        "penup()\n",
        "goto(400, 150)\n",
        "pendown()\n",
        "color('red')\n",
        "backward(100)\n",
        "penup()\n",
        "goto(550, 250)\n",
        "pendown()\n",
        "left(180)\n",
        "arc(150)"
      ],
      "metadata": {
        "id": "_SUjHHho24he",
        "colab": {
          "base_uri": "https://localhost:8080/"
        },
        "outputId": "91a47241-fde8-4941-d0f4-4ce2d2261f66"
      },
      "execution_count": null,
      "outputs": [
        {
          "output_type": "display_data",
          "data": {
            "text/html": [
              "\n",
              "      <svg width=\"800\" height=\"500\">\n",
              "        <rect width=\"100%\" height=\"100%\" fill=\"black\"/>\n",
              "        <line x1=\"600\" y1=\"250\" x2=\"573.205\" y2=\"150.0\" stroke-linecap=\"round\" style=\"stroke:yellow;stroke-width:4\"/><line x1=\"573.205\" y1=\"150.0\" x2=\"500.0\" y2=\"76.795\" stroke-linecap=\"round\" style=\"stroke:yellow;stroke-width:4\"/><line x1=\"500.0\" y1=\"76.795\" x2=\"400.0\" y2=\"50.0\" stroke-linecap=\"round\" style=\"stroke:yellow;stroke-width:4\"/><line x1=\"400.0\" y1=\"50.0\" x2=\"300.0\" y2=\"76.795\" stroke-linecap=\"round\" style=\"stroke:yellow;stroke-width:4\"/><line x1=\"300.0\" y1=\"76.795\" x2=\"226.795\" y2=\"150.0\" stroke-linecap=\"round\" style=\"stroke:yellow;stroke-width:4\"/><line x1=\"226.795\" y1=\"150.0\" x2=\"200.0\" y2=\"250.0\" stroke-linecap=\"round\" style=\"stroke:yellow;stroke-width:4\"/><line x1=\"200.0\" y1=\"250.0\" x2=\"226.795\" y2=\"350.0\" stroke-linecap=\"round\" style=\"stroke:yellow;stroke-width:4\"/><line x1=\"226.795\" y1=\"350.0\" x2=\"300.0\" y2=\"423.205\" stroke-linecap=\"round\" style=\"stroke:yellow;stroke-width:4\"/><line x1=\"300.0\" y1=\"423.205\" x2=\"400.0\" y2=\"450.0\" stroke-linecap=\"round\" style=\"stroke:yellow;stroke-width:4\"/><line x1=\"400.0\" y1=\"450.0\" x2=\"500.0\" y2=\"423.205\" stroke-linecap=\"round\" style=\"stroke:yellow;stroke-width:4\"/><line x1=\"500.0\" y1=\"423.205\" x2=\"573.205\" y2=\"350.0\" stroke-linecap=\"round\" style=\"stroke:yellow;stroke-width:4\"/><line x1=\"573.205\" y1=\"350.0\" x2=\"600.0\" y2=\"250.0\" stroke-linecap=\"round\" style=\"stroke:yellow;stroke-width:4\"/><line x1=\"350\" y1=\"175\" x2=\"345.981\" y2=\"160.0\" stroke-linecap=\"round\" style=\"stroke:blue;stroke-width:4\"/><line x1=\"345.981\" y1=\"160.0\" x2=\"335.0\" y2=\"149.019\" stroke-linecap=\"round\" style=\"stroke:blue;stroke-width:4\"/><line x1=\"335.0\" y1=\"149.019\" x2=\"320.0\" y2=\"145.0\" stroke-linecap=\"round\" style=\"stroke:blue;stroke-width:4\"/><line x1=\"320.0\" y1=\"145.0\" x2=\"305.0\" y2=\"149.019\" stroke-linecap=\"round\" style=\"stroke:blue;stroke-width:4\"/><line x1=\"305.0\" y1=\"149.019\" x2=\"294.019\" y2=\"160.0\" stroke-linecap=\"round\" style=\"stroke:blue;stroke-width:4\"/><line x1=\"294.019\" y1=\"160.0\" x2=\"290.0\" y2=\"175.0\" stroke-linecap=\"round\" style=\"stroke:blue;stroke-width:4\"/><line x1=\"290.0\" y1=\"175.0\" x2=\"294.019\" y2=\"190.0\" stroke-linecap=\"round\" style=\"stroke:blue;stroke-width:4\"/><line x1=\"294.019\" y1=\"190.0\" x2=\"305.0\" y2=\"200.981\" stroke-linecap=\"round\" style=\"stroke:blue;stroke-width:4\"/><line x1=\"305.0\" y1=\"200.981\" x2=\"320.0\" y2=\"205.0\" stroke-linecap=\"round\" style=\"stroke:blue;stroke-width:4\"/><line x1=\"320.0\" y1=\"205.0\" x2=\"335.0\" y2=\"200.981\" stroke-linecap=\"round\" style=\"stroke:blue;stroke-width:4\"/><line x1=\"335.0\" y1=\"200.981\" x2=\"345.981\" y2=\"190.0\" stroke-linecap=\"round\" style=\"stroke:blue;stroke-width:4\"/><line x1=\"345.981\" y1=\"190.0\" x2=\"350.0\" y2=\"175.0\" stroke-linecap=\"round\" style=\"stroke:blue;stroke-width:4\"/><line x1=\"510\" y1=\"175\" x2=\"505.981\" y2=\"160.0\" stroke-linecap=\"round\" style=\"stroke:blue;stroke-width:4\"/><line x1=\"505.981\" y1=\"160.0\" x2=\"495.0\" y2=\"149.019\" stroke-linecap=\"round\" style=\"stroke:blue;stroke-width:4\"/><line x1=\"495.0\" y1=\"149.019\" x2=\"480.0\" y2=\"145.0\" stroke-linecap=\"round\" style=\"stroke:blue;stroke-width:4\"/><line x1=\"480.0\" y1=\"145.0\" x2=\"465.0\" y2=\"149.019\" stroke-linecap=\"round\" style=\"stroke:blue;stroke-width:4\"/><line x1=\"465.0\" y1=\"149.019\" x2=\"454.019\" y2=\"160.0\" stroke-linecap=\"round\" style=\"stroke:blue;stroke-width:4\"/><line x1=\"454.019\" y1=\"160.0\" x2=\"450.0\" y2=\"175.0\" stroke-linecap=\"round\" style=\"stroke:blue;stroke-width:4\"/><line x1=\"450.0\" y1=\"175.0\" x2=\"454.019\" y2=\"190.0\" stroke-linecap=\"round\" style=\"stroke:blue;stroke-width:4\"/><line x1=\"454.019\" y1=\"190.0\" x2=\"465.0\" y2=\"200.981\" stroke-linecap=\"round\" style=\"stroke:blue;stroke-width:4\"/><line x1=\"465.0\" y1=\"200.981\" x2=\"480.0\" y2=\"205.0\" stroke-linecap=\"round\" style=\"stroke:blue;stroke-width:4\"/><line x1=\"480.0\" y1=\"205.0\" x2=\"495.0\" y2=\"200.981\" stroke-linecap=\"round\" style=\"stroke:blue;stroke-width:4\"/><line x1=\"495.0\" y1=\"200.981\" x2=\"505.981\" y2=\"190.0\" stroke-linecap=\"round\" style=\"stroke:blue;stroke-width:4\"/><line x1=\"505.981\" y1=\"190.0\" x2=\"510.0\" y2=\"175.0\" stroke-linecap=\"round\" style=\"stroke:blue;stroke-width:4\"/><line x1=\"400\" y1=\"150\" x2=\"400.0\" y2=\"250.0\" stroke-linecap=\"round\" style=\"stroke:red;stroke-width:4\"/><line x1=\"550\" y1=\"250\" x2=\"538.582\" y2=\"307.403\" stroke-linecap=\"round\" style=\"stroke:red;stroke-width:4\"/><line x1=\"538.582\" y1=\"307.403\" x2=\"506.066\" y2=\"356.067\" stroke-linecap=\"round\" style=\"stroke:red;stroke-width:4\"/><line x1=\"506.066\" y1=\"356.067\" x2=\"457.402\" y2=\"388.583\" stroke-linecap=\"round\" style=\"stroke:red;stroke-width:4\"/><line x1=\"457.402\" y1=\"388.583\" x2=\"399.999\" y2=\"400.001\" stroke-linecap=\"round\" style=\"stroke:red;stroke-width:4\"/><line x1=\"399.999\" y1=\"400.001\" x2=\"342.596\" y2=\"388.583\" stroke-linecap=\"round\" style=\"stroke:red;stroke-width:4\"/><line x1=\"342.596\" y1=\"388.583\" x2=\"293.932\" y2=\"356.067\" stroke-linecap=\"round\" style=\"stroke:red;stroke-width:4\"/><line x1=\"293.932\" y1=\"356.067\" x2=\"261.416\" y2=\"307.403\" stroke-linecap=\"round\" style=\"stroke:red;stroke-width:4\"/><line x1=\"261.416\" y1=\"307.403\" x2=\"249.998\" y2=\"250.0\" stroke-linecap=\"round\" style=\"stroke:red;stroke-width:4\"/>\n",
              "        <g visibility=visible transform=\"rotate(360.0,249.998,250.0) translate(231.998, 232.0)\">\n",
              "<path style=\" stroke:none;fill-rule:evenodd;fill:red;fill-opacity:1;\" d=\"M 18.214844 0.632812 C 16.109375 1.800781 15.011719 4.074219 15.074219 7.132812 L 15.085938 7.652344 L 14.785156 7.496094 C 13.476562 6.824219 11.957031 6.671875 10.40625 7.066406 C 8.46875 7.550781 6.515625 9.15625 4.394531 11.992188 C 3.0625 13.777344 2.679688 14.636719 3.042969 15.027344 L 3.15625 15.152344 L 3.519531 15.152344 C 4.238281 15.152344 4.828125 14.886719 8.1875 13.039062 C 9.386719 12.378906 10.371094 11.839844 10.378906 11.839844 C 10.386719 11.839844 10.355469 11.929688 10.304688 12.035156 C 9.832031 13.09375 9.257812 14.820312 8.96875 16.078125 C 7.914062 20.652344 8.617188 24.53125 11.070312 27.660156 C 11.351562 28.015625 11.363281 27.914062 10.972656 28.382812 C 8.925781 30.84375 7.945312 33.28125 8.238281 35.1875 C 8.289062 35.527344 8.28125 35.523438 8.917969 35.523438 C 10.941406 35.523438 13.074219 34.207031 15.136719 31.6875 C 15.359375 31.417969 15.328125 31.425781 15.5625 31.574219 C 16.292969 32.042969 18.023438 32.964844 18.175781 32.964844 C 18.335938 32.964844 19.941406 32.210938 20.828125 31.71875 C 20.996094 31.625 21.136719 31.554688 21.136719 31.558594 C 21.203125 31.664062 21.898438 32.414062 22.222656 32.730469 C 23.835938 34.300781 25.5625 35.132812 27.582031 35.300781 C 27.90625 35.328125 27.9375 35.308594 28.007812 34.984375 C 28.382812 33.242188 27.625 30.925781 25.863281 28.425781 L 25.542969 27.96875 L 25.699219 27.785156 C 28.945312 23.960938 29.132812 18.699219 26.257812 11.96875 L 26.207031 11.84375 L 27.945312 12.703125 C 31.53125 14.476562 32.316406 14.800781 33.03125 14.800781 C 33.976562 14.800781 33.78125 13.9375 32.472656 12.292969 C 28.519531 7.355469 25.394531 5.925781 21.921875 7.472656 L 21.558594 7.636719 L 21.578125 7.542969 C 21.699219 6.992188 21.761719 5.742188 21.699219 5.164062 C 21.496094 3.296875 20.664062 1.964844 19.003906 0.855469 C 18.480469 0.503906 18.457031 0.5 18.214844 0.632812\"/>\n",
              "</g>\n",
              "      </svg>\n",
              "    "
            ],
            "text/plain": [
              "<IPython.core.display.HTML object>"
            ]
          },
          "metadata": {}
        }
      ]
    },
    {
      "cell_type": "markdown",
      "source": [
        "**Упражнение №14: звезды**\n",
        "\n",
        "Нарисуйте две звезды: одну с 5 вершинами, другую — с 11. Используйте функцию, рисующую звезду с n вершинами."
      ],
      "metadata": {
        "id": "wneb2tPR9c0v"
      }
    },
    {
      "cell_type": "code",
      "source": [
        "!pip3 install ColabTurtle\n",
        "from ColabTurtle.Turtle import *\n",
        "\n",
        "\n",
        "def star(radius, n):\n",
        "  penup()\n",
        "  goto(getx(), gety() - radius/2)\n",
        "  pendown()\n",
        "  length = radius * 4 * math.sin(math.pi/n)\n",
        "  \n",
        "  left(180 - 180/(2*n))\n",
        "  if n%2 == 1:\n",
        "    angle = 180 - 180/n\n",
        "    for i in range(n):\n",
        "      forward(length)\n",
        "      left(angle)\n",
        "  else:\n",
        "    angle = 180 - 360/n\n",
        "    for i in range(n):\n",
        "      forward(length)\n",
        "      left(angle)\n",
        "\n",
        "initializeTurtle()\n",
        "n = 11\n",
        "radius = 250\n",
        "star(radius, n)\n"
      ],
      "metadata": {
        "id": "qQYZTp_l9i_9",
        "colab": {
          "base_uri": "https://localhost:8080/"
        },
        "outputId": "b106b20b-e312-40de-afc5-f67af7311f3e"
      },
      "execution_count": null,
      "outputs": [
        {
          "output_type": "display_data",
          "data": {
            "text/html": [
              "\n",
              "      <svg width=\"800\" height=\"500\">\n",
              "        <rect width=\"100%\" height=\"100%\" fill=\"black\"/>\n",
              "        <line x1=\"400\" y1=\"125.0\" x2=\"359.905\" y2=\"403.865\" stroke-linecap=\"round\" style=\"stroke:white;stroke-width:4\"/><line x1=\"359.905\" y1=\"403.865\" x2=\"476.941\" y2=\"147.592\" stroke-linecap=\"round\" style=\"stroke:white;stroke-width:4\"/><line x1=\"476.941\" y1=\"147.592\" x2=\"292.445\" y2=\"360.511\" stroke-linecap=\"round\" style=\"stroke:white;stroke-width:4\"/><line x1=\"292.445\" y1=\"360.511\" x2=\"529.454\" y2=\"208.195\" stroke-linecap=\"round\" style=\"stroke:white;stroke-width:4\"/><line x1=\"529.454\" y1=\"208.195\" x2=\"259.134\" y2=\"287.568\" stroke-linecap=\"round\" style=\"stroke:white;stroke-width:4\"/><line x1=\"259.134\" y1=\"287.568\" x2=\"540.867\" y2=\"287.568\" stroke-linecap=\"round\" style=\"stroke:white;stroke-width:4\"/><line x1=\"540.867\" y1=\"287.568\" x2=\"270.547\" y2=\"208.195\" stroke-linecap=\"round\" style=\"stroke:white;stroke-width:4\"/><line x1=\"270.547\" y1=\"208.195\" x2=\"507.556\" y2=\"360.511\" stroke-linecap=\"round\" style=\"stroke:white;stroke-width:4\"/><line x1=\"507.556\" y1=\"360.511\" x2=\"323.06\" y2=\"147.592\" stroke-linecap=\"round\" style=\"stroke:white;stroke-width:4\"/><line x1=\"323.06\" y1=\"147.592\" x2=\"440.096\" y2=\"403.865\" stroke-linecap=\"round\" style=\"stroke:white;stroke-width:4\"/><line x1=\"440.096\" y1=\"403.865\" x2=\"400.001\" y2=\"125.0\" stroke-linecap=\"round\" style=\"stroke:white;stroke-width:4\"/>\n",
              "        <g visibility=visible transform=\"rotate(188.1818181818183,400.001,125.0) translate(382.001, 107.0)\">\n",
              "<path style=\" stroke:none;fill-rule:evenodd;fill:white;fill-opacity:1;\" d=\"M 18.214844 0.632812 C 16.109375 1.800781 15.011719 4.074219 15.074219 7.132812 L 15.085938 7.652344 L 14.785156 7.496094 C 13.476562 6.824219 11.957031 6.671875 10.40625 7.066406 C 8.46875 7.550781 6.515625 9.15625 4.394531 11.992188 C 3.0625 13.777344 2.679688 14.636719 3.042969 15.027344 L 3.15625 15.152344 L 3.519531 15.152344 C 4.238281 15.152344 4.828125 14.886719 8.1875 13.039062 C 9.386719 12.378906 10.371094 11.839844 10.378906 11.839844 C 10.386719 11.839844 10.355469 11.929688 10.304688 12.035156 C 9.832031 13.09375 9.257812 14.820312 8.96875 16.078125 C 7.914062 20.652344 8.617188 24.53125 11.070312 27.660156 C 11.351562 28.015625 11.363281 27.914062 10.972656 28.382812 C 8.925781 30.84375 7.945312 33.28125 8.238281 35.1875 C 8.289062 35.527344 8.28125 35.523438 8.917969 35.523438 C 10.941406 35.523438 13.074219 34.207031 15.136719 31.6875 C 15.359375 31.417969 15.328125 31.425781 15.5625 31.574219 C 16.292969 32.042969 18.023438 32.964844 18.175781 32.964844 C 18.335938 32.964844 19.941406 32.210938 20.828125 31.71875 C 20.996094 31.625 21.136719 31.554688 21.136719 31.558594 C 21.203125 31.664062 21.898438 32.414062 22.222656 32.730469 C 23.835938 34.300781 25.5625 35.132812 27.582031 35.300781 C 27.90625 35.328125 27.9375 35.308594 28.007812 34.984375 C 28.382812 33.242188 27.625 30.925781 25.863281 28.425781 L 25.542969 27.96875 L 25.699219 27.785156 C 28.945312 23.960938 29.132812 18.699219 26.257812 11.96875 L 26.207031 11.84375 L 27.945312 12.703125 C 31.53125 14.476562 32.316406 14.800781 33.03125 14.800781 C 33.976562 14.800781 33.78125 13.9375 32.472656 12.292969 C 28.519531 7.355469 25.394531 5.925781 21.921875 7.472656 L 21.558594 7.636719 L 21.578125 7.542969 C 21.699219 6.992188 21.761719 5.742188 21.699219 5.164062 C 21.496094 3.296875 20.664062 1.964844 19.003906 0.855469 C 18.480469 0.503906 18.457031 0.5 18.214844 0.632812\"/>\n",
              "</g>\n",
              "      </svg>\n",
              "    "
            ],
            "text/plain": [
              "<IPython.core.display.HTML object>"
            ]
          },
          "metadata": {}
        }
      ]
    },
    {
      "cell_type": "markdown",
      "source": [
        "Про PEP8 помним и стараемся следовать."
      ],
      "metadata": {
        "id": "OPTfg_DJFs8_"
      }
    },
    {
      "cell_type": "markdown",
      "source": [
        "# Практика 2. Робот."
      ],
      "metadata": {
        "id": "6KfTMaVtGZBu"
      }
    },
    {
      "cell_type": "markdown",
      "source": [
        "Решаю задачи через pyCharm, здесь приведу коды tasks после решения.\n",
        "Команда find -type f выдаёт результат не в алфавитом порядке, поэтому решения представлены в разноброс."
      ],
      "metadata": {
        "id": "b56PWPuyxWNn"
      }
    },
    {
      "cell_type": "markdown",
      "source": [
        "\n",
        "\n",
        "```\n",
        "\n",
        "\n",
        " ./task_10.py \n",
        "\n",
        "\n",
        "\n",
        "#!/usr/bin/python3\n",
        "\n",
        "from pyrob.api import *\n",
        "\n",
        "\n",
        "@task\n",
        "def task_8_3():\n",
        "    while not wall_is_on_the_right():\n",
        "        if wall_is_beneath() or wall_is_above():\n",
        "            fill_cell()\n",
        "        move_right()\n",
        "    if wall_is_beneath() or wall_is_above():\n",
        "        fill_cell()\n",
        "\n",
        "\n",
        "if __name__ == '__main__':\n",
        "    run_tasks()\n",
        "\n",
        "\n",
        " ./task_17.py \n",
        "\n",
        "\n",
        "\n",
        "#!/usr/bin/python3\n",
        "\n",
        "from pyrob.api import *\n",
        "\n",
        "\n",
        "@task\n",
        "def task_8_27():\n",
        "    while not cell_is_filled():\n",
        "        move_up()\n",
        "    if not wall_is_on_the_right():\n",
        "        move_right()\n",
        "        if not cell_is_filled():\n",
        "            move_left(2)\n",
        "    else:\n",
        "        move_left()\n",
        "\n",
        "\n",
        "if __name__ == '__main__':\n",
        "    run_tasks()\n",
        "\n",
        "\n",
        " ./task_7.py \n",
        "\n",
        "\n",
        "\n",
        "#!/usr/bin/python3\n",
        "\n",
        "from pyrob.api import *\n",
        "\n",
        "\n",
        "@task\n",
        "def task_5_4():\n",
        "    while not wall_is_beneath():\n",
        "        move_down()\n",
        "    while wall_is_beneath():\n",
        "        move_right()\n",
        "    move_down()\n",
        "    while not wall_is_on_the_left():\n",
        "        move_left()\n",
        "\n",
        "\n",
        "if __name__ == '__main__':\n",
        "    run_tasks()\n",
        "\n",
        "\n",
        " ./task_6.py \n",
        "\n",
        "\n",
        "\n",
        "#!/usr/bin/python3\n",
        "\n",
        "from pyrob.api import *\n",
        "\n",
        "\n",
        "@task\n",
        "def task_5_3():\n",
        "    while not wall_is_beneath():\n",
        "        move_right()\n",
        "    while wall_is_beneath():\n",
        "        move_right()\n",
        "\n",
        "\n",
        "if __name__ == '__main__':\n",
        "    run_tasks()\n",
        "\n",
        "\n",
        " ./task_23.py \n",
        "\n",
        "\n",
        "\n",
        "#!/usr/bin/python3\n",
        "\n",
        "from pyrob.api import *\n",
        "\n",
        "\n",
        "@task(delay=0.01)\n",
        "def task_6_6():\n",
        "    move_right()\n",
        "    n = 1\n",
        "    while not wall_is_on_the_right():\n",
        "        if not wall_is_above():\n",
        "            k = 0\n",
        "            while not wall_is_above():\n",
        "                move_up()\n",
        "                fill_cell()\n",
        "                k += 1\n",
        "            move_down(k)\n",
        "        move_right()\n",
        "        n += 1\n",
        "    if not wall_is_above():\n",
        "        k = 0\n",
        "        while not wall_is_above():\n",
        "            move_up()\n",
        "            fill_cell()\n",
        "            k += 1\n",
        "        move_down(k)\n",
        "    move_left(n)\n",
        "\n",
        "\n",
        "\n",
        "\n",
        "if __name__ == '__main__':\n",
        "    run_tasks()\n",
        "\n",
        "\n",
        " ./task_9.py \n",
        "\n",
        "\n",
        "\n",
        "#!/usr/bin/python3\n",
        "\n",
        "from pyrob.api import *\n",
        "\n",
        "\n",
        "@task\n",
        "def task_8_2():\n",
        "    while not wall_is_on_the_right():\n",
        "        if not wall_is_above():\n",
        "            fill_cell()\n",
        "        move_right()\n",
        "    if not wall_is_above():\n",
        "        fill_cell()\n",
        "\n",
        "\n",
        "if __name__ == '__main__':\n",
        "    run_tasks()\n",
        "\n",
        "\n",
        " ./task_32.py \n",
        "\n",
        "\n",
        "\n",
        "#!/usr/bin/python3\n",
        "\n",
        "from pyrob.api import *\n",
        "\n",
        "\n",
        "@task(delay=0.01)\n",
        "def task_8_18():\n",
        "    c = 0\n",
        "    while wall_is_beneath():\n",
        "        if wall_is_above():\n",
        "            fill_cell()\n",
        "        else:\n",
        "            n = 0\n",
        "            while not wall_is_above():\n",
        "                move_up()\n",
        "                n += 1\n",
        "                if cell_is_filled():\n",
        "                    c += 1\n",
        "                else:\n",
        "                    fill_cell()\n",
        "            move_down(n)\n",
        "        move_right()\n",
        "    mov('ax', c)\n",
        "\n",
        "\n",
        "\n",
        "if __name__ == '__main__':\n",
        "    run_tasks()\n",
        "\n",
        "\n",
        " ./task_21.py \n",
        "\n",
        "\n",
        "\n",
        "#!/usr/bin/python3\n",
        "\n",
        "from pyrob.api import *\n",
        "\n",
        "\n",
        "@task(delay=0.05)\n",
        "def task_4_11():\n",
        "    move_right()\n",
        "    move_down()\n",
        "    for j in range(2, 13, 2):\n",
        "        for i in range(2, j+1):\n",
        "            fill_cell()\n",
        "            move_right()\n",
        "        move_down()\n",
        "        for i in range(2, j+1):\n",
        "            fill_cell()\n",
        "            move_left()\n",
        "        fill_cell()\n",
        "        move_down()\n",
        "    for i in range(2, 14):\n",
        "        fill_cell()\n",
        "        move_right()\n",
        "    fill_cell()\n",
        "    move_down()\n",
        "    move_left(12)\n",
        "\n",
        "\n",
        "if __name__ == '__main__':\n",
        "    run_tasks()\n",
        "\n",
        "\n",
        " ./task_19.py \n",
        "\n",
        "\n",
        "\n",
        "#!/usr/bin/python3\n",
        "\n",
        "from pyrob.api import *\n",
        "\n",
        "\n",
        "@task\n",
        "def task_8_29():\n",
        "    while not wall_is_on_the_left() and wall_is_above():\n",
        "        move_left()\n",
        "    if not wall_is_above():\n",
        "        while not wall_is_above():\n",
        "            move_up()\n",
        "    else:\n",
        "        while not wall_is_on_the_right() and wall_is_above():\n",
        "            move_right()\n",
        "        if not wall_is_above():\n",
        "            move_up()\n",
        "            while not wall_is_on_the_left():\n",
        "                move_left()\n",
        "            while not wall_is_above():\n",
        "                move_up()\n",
        "\n",
        "\n",
        "if __name__ == '__main__':\n",
        "    run_tasks()\n",
        "\n",
        "\n",
        " ./task_16.py \n",
        "\n",
        "\n",
        "\n",
        "#!/usr/bin/python3\n",
        "\n",
        "from pyrob.api import *\n",
        "\n",
        "\n",
        "@task\n",
        "def task_8_22():\n",
        "    while not wall_is_above():\n",
        "        move_up()\n",
        "    if wall_is_on_the_right():\n",
        "        while not wall_is_on_the_left():\n",
        "            move_left()\n",
        "    else:\n",
        "        while not wall_is_on_the_right():\n",
        "            move_right()\n",
        "\n",
        "\n",
        "\n",
        "if __name__ == '__main__':\n",
        "    run_tasks()\n",
        "\n",
        "\n",
        " ./task_2.py \n",
        "\n",
        "\n",
        "\n",
        "#!/usr/bin/python3\n",
        "import task_1\n",
        "from pyrob.api import *\n",
        "\n",
        "\n",
        "@task\n",
        "def task_1_2():\n",
        "    move_right(2)\n",
        "    move_down(2)\n",
        "    fill_cell()\n",
        "    move_right(2)\n",
        "    move_down(1)\n",
        "\n",
        "if __name__ == '__main__':\n",
        "    run_tasks()\n",
        "\n",
        "\n",
        " ./task_31.py \n",
        "\n",
        "\n",
        "\n",
        "#!/usr/bin/python3\n",
        "\n",
        "from pyrob.api import *\n",
        "\n",
        "\n",
        "def jump_down():\n",
        "    while not wall_is_beneath():\n",
        "        move_down()\n",
        "\n",
        "\n",
        "@task(delay=0.01)\n",
        "def task_8_30():\n",
        "    while not wall_is_on_the_left() or not wall_is_beneath():\n",
        "        while not wall_is_on_the_right() and wall_is_beneath():\n",
        "            move_right()\n",
        "        if not wall_is_beneath():\n",
        "            jump_down()\n",
        "        else:\n",
        "            while not wall_is_on_the_left() and wall_is_beneath():\n",
        "                move_left()\n",
        "            if not wall_is_beneath():\n",
        "                jump_down()\n",
        "\n",
        "if __name__ == '__main__':\n",
        "    run_tasks()\n",
        "\n",
        "\n",
        " ./task_24.py \n",
        "\n",
        "\n",
        "\n",
        "#!/usr/bin/python3\n",
        "\n",
        "from pyrob.api import *\n",
        "\n",
        "def crest():\n",
        "    move_right()\n",
        "    fill_cell()\n",
        "    move_down()\n",
        "    fill_cell()\n",
        "    move_right()\n",
        "    fill_cell()\n",
        "    move_down()\n",
        "    move_left()\n",
        "    fill_cell()\n",
        "    move_up()\n",
        "    move_left()\n",
        "    fill_cell()\n",
        "    move_up()\n",
        "\n",
        "\n",
        "@task\n",
        "def task_2_1():\n",
        "    move_right()\n",
        "    move_down()\n",
        "    crest()\n",
        "\n",
        "\n",
        "\n",
        "\n",
        "if __name__ == '__main__':\n",
        "    run_tasks()\n",
        "\n",
        "\n",
        " ./task_5.py \n",
        "\n",
        "\n",
        "\n",
        "#!/usr/bin/python3\n",
        "\n",
        "from pyrob.api import *\n",
        "\n",
        "\n",
        "@task\n",
        "def task_5_2():\n",
        "    while wall_is_beneath():\n",
        "        move_right()\n",
        "\n",
        "\n",
        "\n",
        "if __name__ == '__main__':\n",
        "    run_tasks()\n",
        "\n",
        "\n",
        " ./task_26.py \n",
        "\n",
        "\n",
        "\n",
        "#!/usr/bin/python3\n",
        "\n",
        "from pyrob.api import *\n",
        "\n",
        "def crest():\n",
        "    move_right()\n",
        "    fill_cell()\n",
        "    move_down()\n",
        "    fill_cell()\n",
        "    move_right()\n",
        "    fill_cell()\n",
        "    move_down()\n",
        "    move_left()\n",
        "    fill_cell()\n",
        "    move_up()\n",
        "    move_left()\n",
        "    fill_cell()\n",
        "    move_up()\n",
        "\n",
        "\n",
        "def crest_line():\n",
        "    for i in range(9):\n",
        "        crest()\n",
        "        move_right(4)\n",
        "    crest()\n",
        "\n",
        "\n",
        "@task(delay=0.02)\n",
        "def task_2_4():\n",
        "    for j in range(4):\n",
        "        crest_line()\n",
        "        crest()\n",
        "        move_left(36)\n",
        "        move_down(4)\n",
        "    crest_line()\n",
        "    crest()\n",
        "    move_left(36)\n",
        "\n",
        "\n",
        "if __name__ == '__main__':\n",
        "    run_tasks()\n",
        "\n",
        "\n",
        " ./task_8.py \n",
        "\n",
        "\n",
        "\n",
        "#!/usr/bin/python3\n",
        "\n",
        "from pyrob.api import *\n",
        "\n",
        "\n",
        "@task\n",
        "def task_5_7():\n",
        "    while wall_is_beneath() or wall_is_above():\n",
        "        move_right()\n",
        "\n",
        "\n",
        "if __name__ == '__main__':\n",
        "    run_tasks()\n",
        "\n",
        "\n",
        " ./task_22.py \n",
        "\n",
        "\n",
        "\n",
        "#!/usr/bin/python3\n",
        "\n",
        "from pyrob.api import *\n",
        "\n",
        "\n",
        "@task\n",
        "def task_5_10():\n",
        "    while not wall_is_beneath():\n",
        "        n = 0\n",
        "        while not wall_is_on_the_right():\n",
        "            fill_cell()\n",
        "            move_right()\n",
        "            n += 1\n",
        "        fill_cell()\n",
        "        if n > 0:\n",
        "            move_left(n)\n",
        "        move_down()\n",
        "    n = 0\n",
        "    while not wall_is_on_the_right():\n",
        "        fill_cell()\n",
        "        move_right()\n",
        "        n += 1\n",
        "    fill_cell()\n",
        "    if n> 0:\n",
        "        move_left(n)\n",
        "\n",
        "\n",
        "if __name__ == '__main__':\n",
        "    run_tasks()\n",
        "\n",
        "\n",
        " ./task_4.py \n",
        "\n",
        "\n",
        "\n",
        "#!/usr/bin/python3\n",
        "\n",
        "from pyrob.api import *\n",
        "\n",
        "\n",
        "@task\n",
        "def task_3_3():\n",
        "    if not wall_is_above():\n",
        "        move_up()\n",
        "    elif not wall_is_on_the_right():\n",
        "        move_right()\n",
        "    elif not wall_is_on_the_left():\n",
        "        move_left()\n",
        "    else:\n",
        "        move_down()\n",
        "\n",
        "\n",
        "\n",
        "if __name__ == '__main__':\n",
        "    run_tasks()\n",
        "\n",
        "\n",
        " ./task_25.py \n",
        "\n",
        "\n",
        "\n",
        "#!/usr/bin/python3\n",
        "\n",
        "from pyrob.api import *\n",
        "\n",
        "def crest():\n",
        "    move_right()\n",
        "    fill_cell()\n",
        "    move_down()\n",
        "    fill_cell()\n",
        "    move_right()\n",
        "    fill_cell()\n",
        "    move_down()\n",
        "    move_left()\n",
        "    fill_cell()\n",
        "    move_up()\n",
        "    move_left()\n",
        "    fill_cell()\n",
        "    move_up()\n",
        "\n",
        "\n",
        "@task\n",
        "def task_2_2():\n",
        "    move_down()\n",
        "    for i in range(4):\n",
        "        crest()\n",
        "        move_right(4)\n",
        "    crest()\n",
        "\n",
        "\n",
        "if __name__ == '__main__':\n",
        "    run_tasks()\n",
        "\n",
        "\n",
        " ./task_20.py \n",
        "\n",
        "\n",
        "\n",
        "#!/usr/bin/python3\n",
        "\n",
        "from pyrob.api import *\n",
        "\n",
        "\n",
        "@task(delay=0.05)\n",
        "def task_4_3():\n",
        "    move_right()\n",
        "    for j in range(2, 13, 2):\n",
        "        for i in range(2,28):\n",
        "            fill_cell()\n",
        "            move_right()\n",
        "        fill_cell()\n",
        "        move_down()\n",
        "        for i in range(2,28):\n",
        "            fill_cell()\n",
        "            move_left()\n",
        "        fill_cell()\n",
        "        move_down()\n",
        "\n",
        "\n",
        "\n",
        "if __name__ == '__main__':\n",
        "    run_tasks()\n",
        "\n",
        "\n",
        " ./task_29.py \n",
        "\n",
        "\n",
        "\n",
        "#!/usr/bin/python3\n",
        "\n",
        "from pyrob.api import *\n",
        "\n",
        "\n",
        "@task\n",
        "def task_7_7():\n",
        "    n = 0\n",
        "    if cell_is_filled():\n",
        "        n += 1\n",
        "    while n < 3 and not wall_is_on_the_right():\n",
        "        move_right()\n",
        "        if cell_is_filled():\n",
        "            n += 1\n",
        "        else:\n",
        "            n = 0\n",
        "\n",
        "\n",
        "if __name__ == '__main__':\n",
        "    run_tasks()\n",
        "\n",
        "\n",
        " ./task_28.py \n",
        "\n",
        "\n",
        "\n",
        "#!/usr/bin/python3\n",
        "\n",
        "from pyrob.api import *\n",
        "\n",
        "\n",
        "@task\n",
        "def task_7_6():\n",
        "    n = 0\n",
        "    if cell_is_filled():\n",
        "        n += 1\n",
        "    while n < 5:\n",
        "        move_right()\n",
        "        if cell_is_filled():\n",
        "            n += 1\n",
        "\n",
        "\n",
        "if __name__ == '__main__':\n",
        "    run_tasks()\n",
        "\n",
        "\n",
        " ./task_14.py \n",
        "\n",
        "\n",
        "\n",
        "#!/usr/bin/python3\n",
        "\n",
        "from pyrob.api import *\n",
        "\n",
        "\n",
        "@task\n",
        "def task_8_11():\n",
        "    while not wall_is_on_the_right():\n",
        "        if not wall_is_beneath():\n",
        "            move_down()\n",
        "            fill_cell()\n",
        "            move_up()\n",
        "        if not wall_is_above():\n",
        "            move_up()\n",
        "            fill_cell()\n",
        "            move_down()\n",
        "        elif wall_is_beneath():\n",
        "            fill_cell()\n",
        "        move_right()\n",
        "    if not wall_is_beneath():\n",
        "        move_down()\n",
        "        fill_cell()\n",
        "        move_up()\n",
        "    if not wall_is_above():\n",
        "        move_up()\n",
        "        fill_cell()\n",
        "        move_down()\n",
        "    elif wall_is_beneath():\n",
        "        fill_cell()\n",
        "\n",
        "\n",
        "if __name__ == '__main__':\n",
        "    run_tasks()\n",
        "\n",
        "\n",
        " ./task_3.py \n",
        "\n",
        "\n",
        "\n",
        "#!/usr/bin/python3\n",
        "\n",
        "from pyrob.api import *\n",
        "\n",
        "\n",
        "@task\n",
        "def task_3_1():\n",
        "    while not wall_is_on_the_right():\n",
        "        move_right()\n",
        "\n",
        "\n",
        "if __name__ == '__main__':\n",
        "    run_tasks()\n",
        "\n",
        "\n",
        " ./task_15.py \n",
        "\n",
        "\n",
        "\n",
        "#!/usr/bin/python3\n",
        "\n",
        "from pyrob.api import *\n",
        "\n",
        "\n",
        "@task\n",
        "def task_8_21():\n",
        "    if wall_is_on_the_left():\n",
        "        if wall_is_above():\n",
        "            while not wall_is_on_the_right():\n",
        "                move_right()\n",
        "                move_down()\n",
        "        else:\n",
        "            while not wall_is_on_the_right():\n",
        "                move_right()\n",
        "                move_up()\n",
        "    elif wall_is_above():\n",
        "        while not wall_is_on_the_left():\n",
        "            move_left()\n",
        "            move_down()\n",
        "    else:\n",
        "        while not wall_is_on_the_left():\n",
        "            move_left()\n",
        "            move_up()\n",
        "\n",
        "\n",
        "if __name__ == '__main__':\n",
        "    run_tasks()\n",
        "\n",
        "\n",
        " ./task_30.py \n",
        "\n",
        "\n",
        "\n",
        "#!/usr/bin/python3\n",
        "\n",
        "from pyrob.api import *\n",
        "\n",
        "\n",
        "@task(delay=0.01)\n",
        "def task_9_3():\n",
        "    n = 1\n",
        "    while not wall_is_on_the_right():\n",
        "        move_right()\n",
        "        if not wall_is_on_the_right():\n",
        "            fill_cell()\n",
        "        n += 1\n",
        "    move_down()\n",
        "    for j in range(2, n, 2):\n",
        "        for i in range(1, n):\n",
        "            if not (i == j or n-i+1 == j):\n",
        "                fill_cell()\n",
        "            move_left()\n",
        "        fill_cell()\n",
        "        move_down()\n",
        "        for i in range(1, n):\n",
        "            if not (i == j+1 or n-i == j):\n",
        "                fill_cell()\n",
        "            move_right()\n",
        "        if not wall_is_beneath():\n",
        "            fill_cell()\n",
        "            move_down()\n",
        "    move_left(n-1)\n",
        "\n",
        "\n",
        "if __name__ == '__main__':\n",
        "    run_tasks()\n",
        "\n",
        "\n",
        " ./task_11.py \n",
        "\n",
        "\n",
        "\n",
        "#!/usr/bin/python3\n",
        "\n",
        "from pyrob.api import *\n",
        "\n",
        "\n",
        "@task\n",
        "def task_8_4():\n",
        "    while not wall_is_on_the_right():\n",
        "        if wall_is_beneath() and wall_is_above():\n",
        "            fill_cell()\n",
        "        move_right()\n",
        "    if wall_is_beneath() and wall_is_above():\n",
        "        fill_cell()\n",
        "\n",
        "\n",
        "if __name__ == '__main__':\n",
        "    run_tasks()\n",
        "\n",
        "\n",
        " ./task_1.py \n",
        "\n",
        "\n",
        "\n",
        "#!/usr/bin/python3\n",
        "\n",
        "from pyrob.api import *\n",
        "\n",
        "\n",
        "@task\n",
        "def task_1_1():\n",
        "    move_right(2)\n",
        "    move_down(1)\n",
        "\n",
        "\n",
        "if __name__ == '__main__':\n",
        "    run_tasks()\n",
        "\n",
        "\n",
        " ./task_27.py \n",
        "\n",
        "\n",
        "\n",
        "#!/usr/bin/python3\n",
        "\n",
        "from pyrob.api import *\n",
        "\n",
        "\n",
        "@task\n",
        "def task_7_5():\n",
        "    n = 0\n",
        "    k = 1\n",
        "    c = 1\n",
        "    while not wall_is_on_the_right():\n",
        "        move_right()\n",
        "        n += 1\n",
        "        if n == k and not wall_is_on_the_right():\n",
        "            fill_cell()\n",
        "            k += c\n",
        "            c += 1\n",
        "\n",
        "\n",
        "if __name__ == '__main__':\n",
        "    run_tasks()\n",
        "\n",
        "\n",
        " ./task_18.py \n",
        "\n",
        "\n",
        "\n",
        "#!/usr/bin/python3\n",
        "\n",
        "from pyrob.api import *\n",
        "\n",
        "\n",
        "@task\n",
        "def task_8_28():\n",
        "    n = 0\n",
        "    while not wall_is_on_the_right() and wall_is_above():\n",
        "        n += 1\n",
        "        move_right()\n",
        "    if wall_is_above():\n",
        "        if n > 0:\n",
        "            move_left(n)\n",
        "        while wall_is_above():\n",
        "            move_left()\n",
        "    move_up()\n",
        "    move_left()\n",
        "    while not wall_is_on_the_left():\n",
        "        move_left()\n",
        "    while not wall_is_above():\n",
        "        move_up()\n",
        "\n",
        "\n",
        "if __name__ == '__main__':\n",
        "    run_tasks()\n",
        "\n",
        "\n",
        " ./task_13.py \n",
        "\n",
        "\n",
        "\n",
        "#!/usr/bin/python3\n",
        "\n",
        "from pyrob.api import *\n",
        "\n",
        "\n",
        "@task\n",
        "def task_8_10():\n",
        "    while not wall_is_on_the_right():\n",
        "        if not wall_is_beneath():\n",
        "            move_down()\n",
        "            fill_cell()\n",
        "            move_up()\n",
        "        if not wall_is_above():\n",
        "            move_up()\n",
        "            fill_cell()\n",
        "            move_down()\n",
        "        move_right()\n",
        "    if not wall_is_beneath():\n",
        "        move_down()\n",
        "        fill_cell()\n",
        "        move_up()\n",
        "    if not wall_is_above():\n",
        "        move_up()\n",
        "        fill_cell()\n",
        "        move_down()\n",
        "\n",
        "\n",
        "if __name__ == '__main__':\n",
        "    run_tasks()\n",
        "\n",
        "\n",
        " ./task_12.py \n",
        "\n",
        "\n",
        "\n",
        "#!/usr/bin/python3\n",
        "\n",
        "from pyrob.api import *\n",
        "\n",
        "\n",
        "@task\n",
        "def task_8_6():\n",
        "    while not wall_is_on_the_right():\n",
        "        if wall_is_beneath() and not wall_is_above():\n",
        "            fill_cell()\n",
        "        move_right()\n",
        "    if wall_is_beneath() and not wall_is_above():\n",
        "        fill_cell()\n",
        "\n",
        "\n",
        "if __name__ == '__main__':\n",
        "    run_tasks()```\n",
        "\n"
      ],
      "metadata": {
        "id": "Dvz76Kt8FFtG"
      }
    },
    {
      "cell_type": "markdown",
      "source": [
        "# Практика 3. Контест: выделение цифр, if, for, while."
      ],
      "metadata": {
        "id": "uTptR2RvF1Jv"
      }
    },
    {
      "cell_type": "markdown",
      "source": [
        "**Сумма цифр трехзначного числа**"
      ],
      "metadata": {
        "id": "mdJGP7HAGO2u"
      }
    },
    {
      "cell_type": "code",
      "source": [
        "n = int(input())\n",
        "sum = 0\n",
        "for i in range(3):\n",
        "  sum += n % 10\n",
        "  n //= 10\n",
        "print(sum)"
      ],
      "metadata": {
        "colab": {
          "base_uri": "https://localhost:8080/"
        },
        "id": "1spOvrCOFb6p",
        "outputId": "c4c27f1a-d73d-4ee2-81a9-37e15b9685c8"
      },
      "execution_count": null,
      "outputs": [
        {
          "output_type": "stream",
          "name": "stdout",
          "text": [
            "170\n",
            "8\n"
          ]
        }
      ]
    },
    {
      "cell_type": "markdown",
      "source": [
        "**Ход ферзя**\n",
        "Программа должна вывести YES, если из первой клетки ходом ферзя можно попасть во вторую. В противном случае - NO.\n"
      ],
      "metadata": {
        "id": "UZzHgBlQIthR"
      }
    },
    {
      "cell_type": "code",
      "source": [
        "x1 = int(input())\n",
        "y1 = int(input())\n",
        "x2 = int(input())\n",
        "y2 = int(input())\n",
        "if x1 == x2 or y1 == y2 or abs(x1 - x2) == abs(y1 - y2):\n",
        "  print('YES')\n",
        "else:\n",
        "  print('NO')"
      ],
      "metadata": {
        "colab": {
          "base_uri": "https://localhost:8080/"
        },
        "id": "mEAwm7UrIsjw",
        "outputId": "66a90444-5ba9-4eb8-f038-a086c43563d8"
      },
      "execution_count": null,
      "outputs": [
        {
          "output_type": "stream",
          "name": "stdout",
          "text": [
            "3\n",
            "4\n",
            "2\n",
            "5\n",
            "YES\n"
          ]
        }
      ]
    },
    {
      "cell_type": "markdown",
      "source": [
        "**Високосный год**\n",
        "\n",
        "Требуется определить, является ли данный год високосным. (Год является високосным, если его номер кратен 4, но не кратен 100, а также если он кратен 400)."
      ],
      "metadata": {
        "id": "KyPr1jDJMFgQ"
      }
    },
    {
      "cell_type": "code",
      "source": [
        "year = int(input())\n",
        "if (year % 4 == 0 and not year % 100 == 0) or (year % 400 == 0):\n",
        "  print('YES')\n",
        "else:\n",
        "  print('NO')"
      ],
      "metadata": {
        "colab": {
          "base_uri": "https://localhost:8080/"
        },
        "id": "lUybfP2gMXlX",
        "outputId": "797444e3-67f0-4b2e-8b47-57304f200b7d"
      },
      "execution_count": null,
      "outputs": [
        {
          "output_type": "stream",
          "name": "stdout",
          "text": [
            "2100\n",
            "NO\n"
          ]
        }
      ]
    },
    {
      "cell_type": "markdown",
      "source": [
        "**Список квадратов**\n",
        "\n",
        "По данному натуральному числу N распечатайте все квадраты натуральных чисел, не превосходящие N , в порядке возрастания."
      ],
      "metadata": {
        "id": "djztuveBQbqJ"
      }
    },
    {
      "cell_type": "code",
      "source": [
        "n = int(input())\n",
        "i = 1\n",
        "while True:\n",
        "  if not (i+1)**2 > n:\n",
        "    print(i**2, end=' ') \n",
        "  else:\n",
        "    print(i**2)\n",
        "    break\n",
        "  i += 1"
      ],
      "metadata": {
        "colab": {
          "base_uri": "https://localhost:8080/"
        },
        "id": "r52P9vA2QgrA",
        "outputId": "dff3a833-d62b-4028-d0a8-7820d91f05b7"
      },
      "execution_count": null,
      "outputs": [
        {
          "output_type": "stream",
          "name": "stdout",
          "text": [
            "50\n",
            "1 4 9 16 25 36 49\n"
          ]
        }
      ]
    },
    {
      "cell_type": "markdown",
      "source": [
        "**Двоичный логарифм**\n",
        "\n",
        "По данному натуральному числу N выведите такое наименьшее целое число k , что 2^k >= N .\n",
        "\n",
        "ВАЖНО! В данной задаче необходимо использовать цикл. Использование инструкции if запрещено. В этой задаче нельзя использовать возведение в степень."
      ],
      "metadata": {
        "id": "fILutmC5SuYY"
      }
    },
    {
      "cell_type": "code",
      "source": [
        "n = int(input())\n",
        "k = 1\n",
        "log2 = 2\n",
        "while log2 < n:\n",
        "  log2 *= 2\n",
        "  k += 1\n",
        "print(k)\n"
      ],
      "metadata": {
        "colab": {
          "base_uri": "https://localhost:8080/"
        },
        "id": "4nZVBLd8S6Fg",
        "outputId": "6d9ebe1e-459d-4329-da2e-48b29929d7f4"
      },
      "execution_count": null,
      "outputs": [
        {
          "output_type": "stream",
          "name": "stdout",
          "text": [
            "1627\n",
            "11\n"
          ]
        }
      ]
    },
    {
      "cell_type": "markdown",
      "source": [
        "**Длина последовательности**\n",
        "\n",
        "Программа получает на вход последовательность целых неотрицательных чисел, каждое число записано в отдельной строке. Последовательность завершается числом 0, при считывании которого программа должна закончить свою работу и вывести количество членов последовательности (не считая завершающего числа 0). Числа, следующие за числом 0, считывать не нужно.\n",
        "\n",
        "Формат входных данных"
      ],
      "metadata": {
        "id": "qyPw3oOKX0Mo"
      }
    },
    {
      "cell_type": "code",
      "source": [
        "count = 0\n",
        "while True:\n",
        "  n = int(input())\n",
        "  if n == 0:\n",
        "    break\n",
        "  count += 1\n",
        "print(count)"
      ],
      "metadata": {
        "colab": {
          "base_uri": "https://localhost:8080/"
        },
        "id": "W7nbi7afYcfw",
        "outputId": "9dacaafa-c8fb-4ee2-d7ae-ef6cae616113"
      },
      "execution_count": null,
      "outputs": [
        {
          "output_type": "stream",
          "name": "stdout",
          "text": [
            "1\n",
            "7\n",
            "9\n",
            "0\n",
            "3\n"
          ]
        }
      ]
    },
    {
      "cell_type": "markdown",
      "source": [
        "**Сумма введенной последовательности**\n",
        "\n",
        "Определите сумму всех элементов последовательности, завершающейся числом 0.\n",
        "\n",
        "Числа, следующие за нулем, считывать не нужно."
      ],
      "metadata": {
        "id": "XDkt7PCNY_ev"
      }
    },
    {
      "cell_type": "code",
      "source": [
        "sum = 0\n",
        "while True:\n",
        "  n = int(input())\n",
        "  if n == 0:\n",
        "    break\n",
        "  sum += n\n",
        "print(sum)"
      ],
      "metadata": {
        "colab": {
          "base_uri": "https://localhost:8080/"
        },
        "id": "AyPKOCG1ZD4P",
        "outputId": "4d0355ad-958f-4593-afc5-227b4f3e0fc1"
      },
      "execution_count": null,
      "outputs": [
        {
          "output_type": "stream",
          "name": "stdout",
          "text": [
            "17\n",
            "-4\n",
            "0\n",
            "13\n"
          ]
        }
      ]
    },
    {
      "cell_type": "markdown",
      "source": [
        "**Количество четных элементов**\n",
        "\n",
        "Посчитать количество четных элементов в массиве целых чисел, заканчивающихся нулём. Сам ноль учитывать не надо."
      ],
      "metadata": {
        "id": "FRjgrgCoZlMI"
      }
    },
    {
      "cell_type": "code",
      "source": [
        "even_count = 0\n",
        "while True:\n",
        "  n = int(input())\n",
        "  if n == 0:\n",
        "    break\n",
        "  elif n % 2 == 0:\n",
        "     even_count += 1\n",
        "print(even_count)"
      ],
      "metadata": {
        "colab": {
          "base_uri": "https://localhost:8080/"
        },
        "id": "3Wx_E1EuZ6iQ",
        "outputId": "3a628ab9-6944-4801-91e6-a0470ead02dd"
      },
      "execution_count": null,
      "outputs": [
        {
          "output_type": "stream",
          "name": "stdout",
          "text": [
            "2\n",
            "6\n",
            "7\n",
            "8\n",
            "0\n",
            "3\n"
          ]
        }
      ]
    },
    {
      "cell_type": "markdown",
      "source": [
        "**Максимум последовательности**\n",
        "\n",
        "Последовательность состоит из натуральных чисел и завершается числом 0. Определите значение наибольшего элемента последовательности.\n",
        "\n",
        "Числа, следующие за нулем, считывать не нужно."
      ],
      "metadata": {
        "id": "937lwwLAasAg"
      }
    },
    {
      "cell_type": "code",
      "source": [
        "def max2( x, y):\n",
        "  if x >= y:\n",
        "    return x\n",
        "  return y\n",
        "\n",
        "\n",
        "max = int(input())\n",
        "while True:\n",
        "  n = int(input())\n",
        "  if n == 0:\n",
        "    break\n",
        "  max = max2(max, n)\n",
        "print(max)"
      ],
      "metadata": {
        "colab": {
          "base_uri": "https://localhost:8080/"
        },
        "id": "l8wNccTJaxvA",
        "outputId": "9d0ba3a5-4727-4e01-af6b-08d73b18213c"
      },
      "execution_count": null,
      "outputs": [
        {
          "output_type": "stream",
          "name": "stdout",
          "text": [
            "1\n",
            "9\n",
            "5\n",
            "3\n",
            "0\n",
            "9\n"
          ]
        }
      ]
    },
    {
      "cell_type": "markdown",
      "source": [
        "**Количество элементов, равных максимуму**\n",
        "\n",
        "Последовательность состоит из натуральных чисел и завершается числом 0. Всего вводится не более 10000 чисел (не считая завершающего числа 0). Определите, сколько элементов этой последовательности равны ее наибольшему элементу. Числа, следующие за числом 0, считывать не нужно."
      ],
      "metadata": {
        "id": "KUhjiXYab6oZ"
      }
    },
    {
      "cell_type": "code",
      "source": [
        "max = int(input())\n",
        "max_count = 1\n",
        "while True:\n",
        "  n = int(input())\n",
        "  if n == 0:\n",
        "    break\n",
        "  if max == n:\n",
        "    max_count +=1\n",
        "  elif max < n:\n",
        "    max = n\n",
        "    max_count = 1\n",
        "print(max_count)"
      ],
      "metadata": {
        "id": "h3BYX4mBcIpy"
      },
      "execution_count": null,
      "outputs": []
    },
    {
      "cell_type": "markdown",
      "source": [
        "# Практика 4."
      ],
      "metadata": {
        "id": "OKnx4Wdk3T6v"
      }
    },
    {
      "cell_type": "markdown",
      "source": [
        "В данном задании использовали сторонний [код](http://judge.mipt.ru/mipt_cs_on_python3/extra/lab4/graphics.py) для отрисовки изображений в окнах, даже не стал пытаться запустить всё это здесь.\n",
        "\n",
        "```\n",
        "import graphics as gr\n",
        "import random as r\n",
        "\n",
        "\n",
        "def cloud(x,y):\n",
        "    for i in range(5):\n",
        "        cloud1 = gr.Oval(gr.Point(x + 20 * r.random(), y + 10 * r.random()),\n",
        "                         gr.Point(x + 1 + 60 * r.random(), y + 1 + 10 * r.random()))\n",
        "        cloud1.setFill('white')\n",
        "        cloud1.setOutline('white')\n",
        "        cloud1.draw(window)\n",
        "        cloud2 = gr.Oval(gr.Point(x + 20 * r.random(), y + 10 * r.random()),\n",
        "                         gr.Point(x - 1 - 60 * r.random(), y - 1 - 10 * r.random()))\n",
        "        cloud2.setFill('white')\n",
        "        cloud2.setOutline('white')\n",
        "        cloud2.draw(window)\n",
        "\n",
        "\n",
        "def moon(delta_x, delta_y):\n",
        "    moon2back = gr.Circle(gr.Point(250 + delta_x, 170 + delta_y), 50)\n",
        "    moon2back.setFill('light grey')\n",
        "    moon2back.setOutline('light grey')\n",
        "    moon2spot1 = gr.Circle(gr.Point(240 + delta_x, 180 + delta_y), 20)\n",
        "    moon2spot1.setFill('grey')\n",
        "    moon2spot1.setOutline('grey')\n",
        "    moon2spot2 = gr.Circle(gr.Point(235 + delta_x, 160 + delta_y), 10)\n",
        "    moon2spot2.setFill('grey')\n",
        "    moon2spot2.setOutline('grey')\n",
        "    moon2spot3 = gr.Circle(gr.Point(255 + delta_x, 140 + delta_y), 15)\n",
        "    moon2spot3.setFill('grey')\n",
        "    moon2spot3.setOutline('grey')\n",
        "    moon2spot4 = gr.Circle(gr.Point(215 + delta_x, 150 + delta_y), 7)\n",
        "    moon2spot4.setFill('grey')\n",
        "    moon2spot4.setOutline('grey')\n",
        "    moon2shadow = gr.Circle(gr.Point(290 + delta_x, 155 + delta_y), 50)\n",
        "    moon2shadow.setOutline('dark blue')\n",
        "    moon2shadow.setFill('dark blue')\n",
        "\n",
        "    moon2back.draw(window)\n",
        "    moon2spot1.draw(window)\n",
        "    moon2spot2.draw(window)\n",
        "    moon2spot3.draw(window)\n",
        "    moon2spot4.draw(window)\n",
        "    moon2shadow.draw(window)\n",
        "\n",
        "\n",
        "window = gr.GraphWin(\"Heymdale task\", 400, 400)\n",
        "background = gr.Rectangle(gr.Point(1, 1), gr.Point(400, 400))\n",
        "background.setFill('dark blue')\n",
        "moon1 = gr.Polygon(gr.Point(305, 100),\n",
        "                  gr.Point(290, 110),\n",
        "                  gr.Point(285, 120),\n",
        "                  gr.Point(285, 130),\n",
        "                  gr.Point(285, 140),\n",
        "                  gr.Point(290, 150),\n",
        "                  gr.Point(310, 160),\n",
        "                  gr.Point(300, 150),\n",
        "                  gr.Point(295, 140),\n",
        "                  gr.Point(295, 130),\n",
        "                  gr.Point(295, 120),\n",
        "                  gr.Point(298, 110),\n",
        "                  )\n",
        "moon1.setFill('light grey')\n",
        "\n",
        "\n",
        "background.draw(window)\n",
        "\n",
        "moon1.draw(window)\n",
        "\n",
        "moon(-50, 60)\n",
        "cloud(100, 100)\n",
        "cloud(150, 120)\n",
        "cloud(210, 160)\n",
        "cloud(250, 130)\n",
        "\n",
        "window.getMouse()\n",
        "window.close()\n",
        "```\n",
        "\n"
      ],
      "metadata": {
        "id": "4mwGH6Ee3huc"
      }
    },
    {
      "cell_type": "markdown",
      "source": [
        "# Практика 5.\n",
        "\n",
        "\n",
        "\n"
      ],
      "metadata": {
        "id": "Bj0MIj6YoBzh"
      }
    },
    {
      "cell_type": "markdown",
      "source": [
        "\n",
        "Снова используем graphics.py, поэтому привожу только код.\n",
        "Первое задание - движение спутника вокруг планеты, отскок от стен. Добавил упругий удар соударения с планетой.\n",
        "\n",
        "\n",
        "```\n",
        "import graphics as gr\n",
        "\n",
        "\n",
        "class Difference:\n",
        "    def __init__(self, point_1, point_2):\n",
        "        diff = sub(point_1, point_2)\n",
        "        self.x = diff.x\n",
        "        self.y = diff.y\n",
        "        self.distance_sqr = diff.x**2 + diff.y**2\n",
        "        self.distance = self.distance_sqr**0.5\n",
        "        self.ort = scalar_multiplication(gr.Point(self.x, self.y), 1/self.distance)\n",
        "        self.normal_ort = gr.Point(-self.ort.y, self.ort.x)\n",
        "\n",
        "\n",
        "def add(point_1, point_2):\n",
        "    new_point = gr.Point(point_1.x + point_2.x,\n",
        "                         point_1.y + point_2.y)\n",
        "    return new_point\n",
        "\n",
        "\n",
        "def sub(point_1, point_2):\n",
        "    new_point = gr.Point(point_1.x - point_2.x,\n",
        "                         point_1.y - point_2.y)\n",
        "    return new_point\n",
        "\n",
        "\n",
        "def scalar_product(point_1, point_2):\n",
        "    x = point_1.x * point_2.x\n",
        "    y = point_1.y * point_2.y\n",
        "    return x + y\n",
        "\n",
        "\n",
        "def scalar_multiplication(vector, scalar):\n",
        "    x = vector.x * scalar\n",
        "    y = vector.y * scalar\n",
        "    return gr.Point(x, y)\n",
        "\n",
        "\n",
        "def draw_circle(circle, velocity):\n",
        "    circle.move(velocity.x, velocity.y)\n",
        "\n",
        "\n",
        "def clear_window():\n",
        "    rectangle = gr.Rectangle(gr.Point(0, 0), gr.Point(SIZE_X, SIZE_Y))\n",
        "    rectangle.setFill('midnightblue')\n",
        "    rectangle.draw(window)\n",
        "\n",
        "\n",
        "def vector_reflect(vector, normal):\n",
        "    vector_temp = scalar_multiplication(normal.normal_ort, 2 * scalar_product(vector, normal.normal_ort))\n",
        "    vector = sub(vector_temp, vector)\n",
        "    velocity.x = vector.x\n",
        "    velocity.y = vector.y\n",
        "\n",
        "\n",
        "def check_wall_coords(coords, velocity):\n",
        "    if coords.x < 0 or coords.x > SIZE_X:\n",
        "        velocity.x = -velocity.x\n",
        "    if coords.y < 0 or coords.y > SIZE_Y:\n",
        "        velocity.y = -velocity.y\n",
        "\n",
        "\n",
        "def check_earth_coords(diff, velocity):\n",
        "    if diff.distance_sqr**0.5 < EARTH_RADIUS:\n",
        "        vector_reflect(velocity, diff)\n",
        "\n",
        "\n",
        "def update_velocity(velocity, acceleration):\n",
        "    return add(velocity, acceleration)\n",
        "\n",
        "\n",
        "def central_acceleration(diff):\n",
        "    distance_3_2 = diff.distance_sqr**(3/2)\n",
        "    return gr.Point(diff.x*G/distance_3_2, diff.y*G/distance_3_2)\n",
        "\n",
        "\n",
        "def earth_draw():\n",
        "    earth_img = gr.Circle(EARTH, EARTH_RADIUS)\n",
        "    earth_img.setFill('blue')\n",
        "    earth_img.draw(window)\n",
        "\n",
        "\n",
        "SIZE_X = 600\n",
        "SIZE_Y = 500\n",
        "G = 4000\n",
        "EARTH = gr.Point(300, 250)\n",
        "EARTH_RADIUS = 50\n",
        "window = gr.GraphWin(\"Lab5\", SIZE_X, SIZE_Y)\n",
        "coords = gr.Point(500, 400)\n",
        "velocity = gr.Point(1, -1)\n",
        "acceleration = gr.Point(0, 0)\n",
        "clear_window()\n",
        "earth_draw()\n",
        "circle = gr.Circle(coords, 10)\n",
        "circle.setFill('brown')\n",
        "circle.draw(window)\n",
        "\n",
        "while True:\n",
        "    draw_circle(circle, velocity)\n",
        "    coords = add(coords, velocity)\n",
        "    diff = Difference(EARTH, coords)\n",
        "    acceleration = central_acceleration(diff)\n",
        "    velocity = update_velocity(velocity, acceleration)\n",
        "    check_wall_coords(coords, velocity)\n",
        "    check_earth_coords(diff, velocity)\n",
        "    if window.checkMouse() is not None:\n",
        "        window.close()\n",
        "    gr.time.sleep(0.02)\n",
        "```\n",
        "\n"
      ],
      "metadata": {
        "id": "2JODPPnxpbGY"
      }
    },
    {
      "cell_type": "markdown",
      "source": [
        "Второе задание - математический маятник, по моей физической модели маятник получился затухающий, баг искать сложно, возможно следует переделать всё сначала, но потом. Также можно ознакомиться с [примерами](http://python.su/forum/topic/38551/?page=1#post-208120) других учеников.\n",
        "\n",
        "```\n",
        "import graphics as gr\n",
        "\n",
        "\n",
        "class Difference:\n",
        "    def __init__(self, point_1, point_2):\n",
        "        diff = sub(point_1, point_2)\n",
        "        self.x = diff.x\n",
        "        self.y = diff.y\n",
        "        self.distance_sqr = diff.x**2 + diff.y**2\n",
        "        self.distance = self.distance_sqr**0.5\n",
        "        self.ort = scalar_multiplication(gr.Point(self.x, self.y), 1/self.distance)\n",
        "        self.normal_ort = gr.Point(-self.ort.y, self.ort.x)\n",
        "\n",
        "\n",
        "def add(point_1, point_2):\n",
        "    new_point = gr.Point(point_1.x + point_2.x,\n",
        "                         point_1.y + point_2.y)\n",
        "    return new_point\n",
        "\n",
        "\n",
        "def sub(point_1, point_2):\n",
        "    new_point = gr.Point(point_1.x - point_2.x,\n",
        "                         point_1.y - point_2.y)\n",
        "    return new_point\n",
        "\n",
        "\n",
        "def scalar_product(point_1, point_2):\n",
        "    x = point_1.x * point_2.x\n",
        "    y = point_1.y * point_2.y\n",
        "    return x + y\n",
        "\n",
        "\n",
        "def scalar_multiplication(vector, scalar):\n",
        "    x = vector.x * scalar\n",
        "    y = vector.y * scalar\n",
        "    return gr.Point(x, y)\n",
        "\n",
        "\n",
        "def update_velocity(velocity, acceleration_pr, d):\n",
        "    new_velocity_full = add(velocity, acceleration_pr)\n",
        "    print(d.x, d.y)\n",
        "    return get_velocity_pr(d, new_velocity_full)\n",
        "\n",
        "\n",
        "def get_velocity_pr(diff, velocity):\n",
        "    scalar = scalar_product(diff.normal_ort, velocity)\n",
        "    return scalar_multiplication(diff.normal_ort, scalar)\n",
        "\n",
        "\n",
        "def get_coords_pr(coords_full, diff):\n",
        "    d = Difference(coords_full, CENTER)\n",
        "    relative_coord_vector = scalar_multiplication(d.ort, diff.distance)\n",
        "    return add(relative_coord_vector, CENTER)\n",
        "\n",
        "\n",
        "def move_ball(coords, new_coords):\n",
        "    move_vector = sub(new_coords, coords)\n",
        "    ball.move(move_vector.x, move_vector.y)\n",
        "    print('coords', coords)\n",
        "    coords.x = new_coords.x\n",
        "    coords.y = new_coords.y\n",
        "    print('new coords', coords)\n",
        "    print('velocity', velocity)\n",
        "\n",
        "\n",
        "SIZE_X = 500\n",
        "SIZE_Y = 500\n",
        "\n",
        "window = gr.GraphWin(\"Pendullum\", SIZE_X, SIZE_Y)\n",
        "CENTER = gr.Point(250, 50)\n",
        "ACCELERATION = gr.Point(0, 1)\n",
        "background = gr.Rectangle(gr.Point(0, 0), gr.Point(SIZE_X, SIZE_Y))\n",
        "background.setFill('darkblue')\n",
        "pendullum_center = gr.Circle(CENTER, 5)\n",
        "pendullum_center.setFill('gold')\n",
        "coords = gr.Point(400, 400)\n",
        "ball = gr.Circle(coords, 10)\n",
        "ball.setFill('red')\n",
        "velocity = gr.Point(1, 1)\n",
        "diff = Difference\n",
        "diff(CENTER, coords)\n",
        "background.draw(window)\n",
        "pendullum_center.draw(window)\n",
        "ball.draw(window)\n",
        "\n",
        "while True:\n",
        "    velocity = add(velocity, ACCELERATION)\n",
        "    coords_full = add(coords, velocity)\n",
        "    new_coords = get_coords_pr(coords_full, diff(CENTER, coords))\n",
        "    move_ball(coords, new_coords)\n",
        "    velocity = update_velocity(velocity, ACCELERATION, diff(CENTER, coords))\n",
        "    if window.checkMouse() is not None:\n",
        "        window.close()\n",
        "    gr.time.sleep(0.02)\n",
        "\n",
        "```"
      ],
      "metadata": {
        "id": "IKQOAbjmrZoL"
      }
    },
    {
      "cell_type": "markdown",
      "source": [
        "# Практика 6. Контест: использование массивов"
      ],
      "metadata": {
        "id": "-qsOAAPRpLUi"
      }
    },
    {
      "cell_type": "markdown",
      "source": [
        "## Принадлежность точки кругу\n",
        "\n",
        "Даны координаты точки и радиус круга с центром в начале координат. Определить, принадлежит ли данная точка кругу. Напомним, что круг – это часть плоскости, состоящая из всех точек окружности и всех точек, лежащих внутри окружности.\n",
        "\n",
        "Формат входных данных\n",
        "Три целых числа на одной строке: координата точки по оси x, координата точки по оси y, радиус круга r (r > 0).\n",
        "\n",
        "Формат выходных данных\n",
        "Вывести \"YES\" без кавычек, если точка принадлежит кругу, \"NO\" без кавычек в противном случае."
      ],
      "metadata": {
        "id": "56rRfaDYW1Dq"
      }
    },
    {
      "cell_type": "code",
      "source": [
        "a = input().split(sep=' ')\n",
        "for i in range(len(a)):\n",
        "  a[i] =  int(a[i])\n",
        "if a[0]**2 + a[1]**2 <= a[2]**2:\n",
        "  print('YES')\n",
        "else:\n",
        "  print('NO')"
      ],
      "metadata": {
        "colab": {
          "base_uri": "https://localhost:8080/"
        },
        "id": "Tswz7KTfYtR4",
        "outputId": "44e088ef-f6e4-4497-ec45-a02710a9229a"
      },
      "execution_count": null,
      "outputs": [
        {
          "output_type": "stream",
          "name": "stdout",
          "text": [
            "0 0 1\n",
            "['0', '0', '1']\n",
            "YES\n"
          ]
        }
      ]
    },
    {
      "cell_type": "markdown",
      "source": [
        "## Банковский вклад\n",
        "\n",
        "Вклад в банке составляет x рублей. Ежегодно он увеличивается на p процентов, после чего дробная часть копеек отбрасывается. Каждый год сумма вклада становится больше. Надо определить, через сколько лет вклад составит не менее y рублей.\n",
        "\n",
        "Формат входных данных\n",
        "Три натуральных числа: x, p, y.\n",
        "\n",
        "Формат выходных данных\n",
        "Число лет, через сколько лет вклад составит не менее y рублей."
      ],
      "metadata": {
        "id": "f8gO-ItTZ_4g"
      }
    },
    {
      "cell_type": "code",
      "source": [
        "a = input().split(sep=' ')\n",
        "year = 0\n",
        "if len(a) == 3:\n",
        "  for i in range(len(a)):\n",
        "    a[i] =  int(a[i])\n",
        "  sum = a[0]\n",
        "  while sum < a[2]:\n",
        "    sum *= (1+a[1]/100)\n",
        "    sum = int(sum * 100) / 100\n",
        "    year += 1\n",
        "print(year)\n"
      ],
      "metadata": {
        "colab": {
          "base_uri": "https://localhost:8080/"
        },
        "id": "Vf8MZDIyaWTB",
        "outputId": "f1825c7e-cccc-4506-9368-09e590d1ba99"
      },
      "execution_count": null,
      "outputs": [
        {
          "output_type": "stream",
          "name": "stdout",
          "text": [
            "0 0\n",
            "0\n"
          ]
        }
      ]
    },
    {
      "cell_type": "markdown",
      "source": [
        "## Максимальное число подряд идущих 1\n",
        "Вводится последовательность, состоящая только из 0 и 1. Необходимо найти максимальное количество 1, идущих подряд (без 0 между ними).\n",
        "\n",
        "Формат входных данных\n",
        "В первой строке задается натуральное N<=10000 , длина массива, далее идут N чисел 0 или 1 -- элементы массива. Каждое число вводится с новой строки.\n",
        "\n",
        "Формат выходных данных\n",
        "Одно число — результат."
      ],
      "metadata": {
        "id": "atPOZRist38Z"
      }
    },
    {
      "cell_type": "code",
      "source": [
        "n = int(input())\n",
        "a = [0] * n\n",
        "for i in range(n):\n",
        "  a[i] = int(input())\n",
        "count_max = 0\n",
        "count = 0\n",
        "for i in range(n):\n",
        "  if a[i] == 1:\n",
        "    count += 1\n",
        "    if count_max < count:\n",
        "      count_max = count\n",
        "  elif i > 0 and a[i-1] == 1:\n",
        "    count = 0\n",
        "print(count_max)"
      ],
      "metadata": {
        "colab": {
          "base_uri": "https://localhost:8080/"
        },
        "id": "4GzfGL4it_VI",
        "outputId": "f17f5db1-ee84-48fd-9ac1-14f25b9266ca"
      },
      "execution_count": null,
      "outputs": [
        {
          "output_type": "stream",
          "name": "stdout",
          "text": [
            "10\n",
            "1\n",
            "2\n",
            "3\n",
            "4\n",
            "1\n",
            "1\n",
            "7\n",
            "1\n",
            "1\n",
            "1\n",
            "3\n"
          ]
        }
      ]
    },
    {
      "cell_type": "markdown",
      "source": [
        "## Обработка массива чисел\n",
        "На вход программа получает набор чисел, заканчивающихся решеткой. Вам требуется найти: среднее, максимальное и минимальное число в последовательности. Так же нужно вывести cумму остатков от деления суммы троек на последнее число тройки (каждые 3 введеных числа образуют тройку).\n",
        "\n",
        "Для понимания рассмотрим пример входных данных: 1 2 3 4 5 6 среднее: (1 + 2 + 3 + 4 + 5 + 6) / 6 = 3.5 максимум: 6 минимум: 1 сумма остатков троек: (1 + 2 + 3) mod 3 + (4 + 5 + 6) mod 6 = 6 mod 3 + 15 mod 6 = 0 + 3 = 3\n",
        "\n",
        "Среднее выводить, округлив до трех знаков после запятой. Для этого нужно использовать функцию round(x, 3)\n",
        "\n",
        "Того ваша программа должна вывести: 3.5 6 1 3\n",
        "\n",
        "Подумайте, имеет ли смысл хранить всю последовательность.\n",
        "\n",
        "Формат входных данных\n",
        "Последовательность чисел, заканчивающися '#'. Все числа от 1 до 100. Количество чисел в последовательности кратно трем. Одно число на строку.\n",
        "\n",
        "Формат выходных данных\n",
        "Четыре числа, разделенных пробелом."
      ],
      "metadata": {
        "id": "ltBidr6hw9LB"
      }
    },
    {
      "cell_type": "code",
      "source": [
        "a = []\n",
        "s = input()\n",
        "while s != '#':\n",
        "  a.append(int(s))\n",
        "  s = input()\n",
        "sum = 0\n",
        "sum3 = 0\n",
        "sum_mod = 0\n",
        "min = a[0]\n",
        "max = a[0]\n",
        "for i in range(len(a)):\n",
        "  sum += a[i]\n",
        "  if a[i] > max:\n",
        "    max = a[i]\n",
        "  if a[i] < min:\n",
        "    min = a[i]\n",
        "  if (i+1) % 3 == 0:\n",
        "    sum_mod += (sum3 + a[i]) % a[i]\n",
        "    sum3 = 0\n",
        "  else:\n",
        "    sum3 += a[i]\n",
        "print(round(sum/len(a), 3), end=' ')\n",
        "print(max, end=' ')\n",
        "print(min, end=' ')\n",
        "print(sum_mod)\n",
        "\n"
      ],
      "metadata": {
        "id": "Mbk6oOsbxF9f"
      },
      "execution_count": null,
      "outputs": []
    },
    {
      "cell_type": "markdown",
      "source": [
        "## Результаты работы студентов в семестре\n",
        "Есть результаты работы студентов в семестре. Студентов выводить в порядке суммы их баллов. Требутеся вывести отсортированные результаты работ для каждого студента.\n",
        "\n",
        "Данные вводятся как: student_id value\n",
        "\n",
        "student_id принимает значения от 0 до N. value от 1 до 10\n",
        "\n",
        "Пример входных данных: 0 3 0 5 1 3 1 2\n",
        "\n",
        "Тут представленны данные о двух студента: 0 и 1. Сумма балов студента 0 - 8. Студента 1 - 5. Значит, сначала должны быть напечатаны результаты 0 студента, затем 1. Таким образом сначала надо вывести отсортированные результаты студента 0, затем студента 1:\n",
        "\n",
        "5 3 3 2\n",
        "\n",
        "Напомним, что у list в питоне есть встроенный метод sort и есть функция sorted. У них есть параметр key, который определяет по каким значениям будет сортироваться объект. Например код ниже будет сортировать лист по длинне его элементов. Так же есть параметр reverse.\n",
        "\n",
        "\n",
        "\n",
        "```\n",
        "a = ['###', '@', '??'] \n",
        "a.sort(key=lambda x: len(x)) \n",
        "a ['@', '??', '###'] \n",
        "a.sort(key=lambda x: len(x), reverse=True) \n",
        "['###', '??', '@']`\n",
        "```\n",
        "\n",
        "\n",
        "Что такое лямбда функция вы узнаете в дальнейшем (так же всегда есть сайт google). Для выполнения этого задания достаточно понять, на что надо заменить функцию len.\n",
        "\n",
        "Формат входных данных\n",
        "В первой строке N - количество студентов. Далее идет какое-то количество строк (не равное N) с результатами студентов в формате: student_id value. 0 <= student_id < N. Значения разделены пробелом. Ввод заканчивается #.\n",
        "\n",
        "Формат выходных данных\n",
        "Вывести отсортированные результаты студентов в одну строку. Сначала печатаются результаты лучшего по сумме баллов студента, потом второго и так далее. Результаты в одну строку"
      ],
      "metadata": {
        "id": "2ngkZ4Eb8xgB"
      }
    },
    {
      "cell_type": "code",
      "source": [
        "students_number = int(input())\n",
        "a = [[]]\n",
        "for i in range(students_number - 1):\n",
        "  a.append([])\n",
        "s = input().split(sep=' ')\n",
        "while s[0] != '#':\n",
        "  a[int(s[0])].append(int(s[1]))\n",
        "  s = input().split(sep=' ')\n",
        "for i in a:\n",
        "  i.sort(reverse=True)\n",
        "a.sort(key=lambda x: sum(x), reverse=True)\n",
        "print(' '.join(' '.join(str(x) for x in row) for row in a))"
      ],
      "metadata": {
        "id": "-2PlyPAS982X"
      },
      "execution_count": null,
      "outputs": []
    },
    {
      "cell_type": "markdown",
      "source": [
        "## Шоколадка.\n",
        "Саша, не сделал домашнюю работу, зато купил шоколадку. И, по глупости, начал распечатывать ее прямо на уроке... Шелест золотинки услышала учительница. Она хотела вызвать в школу родителей, но Саша уговорил ее не вызывать их, а дать дополнительное задание.\n",
        "\n",
        "Учительница внимательно посмотрела на шоколадку (она была размером 3х4 плиток), разделила на кусочки по две плитки и угостила всех, кто сделал домашнюю работу. А Сашу попросила написать программу, которая определяет, сколько существует способов деления шоколадки размером 3×N плиток на кусочки по две плитки.\n",
        "\n",
        "Для выполнения задания Саше нужна помощь.\n",
        "\n",
        "Примечание: все плитки в шоколадке пронумерованы, поэтому способы деления, симметричные относительно точки или оси могут будут разными.\n",
        "\n",
        "Формат входных данных\n",
        "На входе одно число N <= 10000\n",
        "\n",
        "Формат выходных данных\n",
        "Вывести одно число, количество способов разделить шоколадку."
      ],
      "metadata": {
        "id": "INWWzjzTNtH3"
      }
    },
    {
      "cell_type": "code",
      "source": [
        "# f(n) = 4 * f(n-2) - f(n-4), f(0) = 1, f(2) = 3, f(4) = 11\n",
        "n = int(input())\n",
        "result = 0\n",
        "if n % 2 == 0:\n",
        "  tmp_2 = 3\n",
        "  tmp_4 = 1\n",
        "  for i in range(0, n+1, 2):\n",
        "    if i == 0:\n",
        "      result = 1\n",
        "    if i == 2:\n",
        "      result = 3\n",
        "    if i >= 4:\n",
        "      result = 4 * tmp_2 - tmp_4\n",
        "      tmp_4 = tmp_2\n",
        "      tmp_2 = result\n",
        "print(result)\n"
      ],
      "metadata": {
        "id": "Hkx00IxiNyLu"
      },
      "execution_count": null,
      "outputs": []
    },
    {
      "cell_type": "markdown",
      "source": [
        "## Степень строки\n",
        "Пусть задана строка s. Назовем ее k-ой (k > 0) степенью s^k строку s^k = sss (k раз). Например, третьей степенью строки abc является строка аbсаbсаbс.\n",
        "\n",
        "Корнем k степени из строки s называется такая строка t (если она существует), что t^k = s.\n",
        "\n",
        "Ваша задача состоит в том, чтобы написать программу, находящую степень строки или корень из нее.\n",
        "\n",
        "Формат входных данных\n",
        "На вход программе подается 2 строки. Первая содержит строку S, вторая - степень k. Отрицательная степень означает взятие корня соответствующей степени.\n",
        "\n",
        "Формат выходных данных\n",
        "Вывести строку, являющуюуся ответом на задачу. Если такой строки нет, то нужно вывести 'NO SOLUTION' (без кавычек)."
      ],
      "metadata": {
        "id": "HWzpx-k_dWKW"
      }
    },
    {
      "cell_type": "code",
      "source": [
        "s = input()\n",
        "k = int(input())\n",
        "result = ''\n",
        "if k > 0:\n",
        "  result = s * k\n",
        "if k < 0:\n",
        "  if k == -1:\n",
        "    result = s\n",
        "  elif len(s) % k == 0:\n",
        "    n = len(s)//abs(k)\n",
        "    for i in range(0, len(s)-n, n):\n",
        "      if s[i:i+n] == s[i+n:i+2*n]:\n",
        "        result = s[i:i+n]\n",
        "      else:\n",
        "        result = 'NO SOLUTION'\n",
        "        break\n",
        "  else:\n",
        "    result = 'NO SOLUTION'\n",
        "print(result)\n"
      ],
      "metadata": {
        "id": "5Fj5LFxWeBGY"
      },
      "execution_count": null,
      "outputs": []
    },
    {
      "cell_type": "markdown",
      "source": [
        "# Практика 7.\n"
      ],
      "metadata": {
        "id": "cb7VJm3O_qIn"
      }
    },
    {
      "cell_type": "markdown",
      "source": [
        "## Грузовик\n",
        "\n",
        "Вы - водитель грузовика с открытым кузовом. В кузове два груза: пианино и холодильник. Пианино необходимо доставить в институт, холодильник в общежитие. В каждое из этих мест ведет отдельная дорога, начинающаяся от перекрестка, на котором Вы стоите, других дорог в мире нет. Известно, что по дороге в институт есть мост, на котором действует ограничение максимальной допустимой массы автомобиля с грузом, а по дороге в общежитие есть туннель с ограничением высоты. Требуется определить, возможно ли доставить грузы или нет (разумеется, сгружать их, где попало, Вам запрещено).\n",
        "\n",
        "Формат входных данных\n",
        "На вход подается 8 чисел натуральных чисел (каждое < 100), каждое в новой строке, в следующем порядке: вес грузовика без груза, высота платформы кузова (на которой стоят грузы), вес пианино, высота пианино, вес холодильника, высота холодильника, максимальный допустимый вес на мосту, максимальная допустимая высота в туннеле\n",
        "\n",
        "Примечание: пианино и холодильник заведомо возвышаются над кабиной грузовика, т.е. высоту кабины можно в расчет не принимать.\n",
        "\n",
        "Формат выходных данных\n",
        "Вывести YES если доставка возможна и NO в противном случае."
      ],
      "metadata": {
        "id": "Bnse0reZEMtP"
      }
    },
    {
      "cell_type": "code",
      "source": [
        "def check():\n",
        "  weight_current = truck_weight + piano_weight + refrigerator_weight\n",
        "  height_current = truck_height + max(piano_height, refrigerator_height)\n",
        "  if weight_current <= max_weight:\n",
        "    height_current = truck_height + refrigerator_height\n",
        "    if height_current <= max_height:\n",
        "      return True\n",
        "  elif height_current <= max_height:\n",
        "    weight_current -= refrigerator_weight\n",
        "    if weight_current <= max_weight:\n",
        "      return True\n",
        "  return False\n",
        "\n",
        "\n",
        "truck_weight = int(input())\n",
        "truck_height = int(input())\n",
        "piano_weight = int(input()) # to institute\n",
        "piano_height = int(input())\n",
        "refrigerator_weight = int(input()) # to hostel\n",
        "refrigerator_height = int(input())\n",
        "max_weight = int(input()) # to institute\n",
        "max_height = int(input()) # to hostel\n",
        "\n",
        "print('YES' if check() else 'NO')\n"
      ],
      "metadata": {
        "id": "rzIt4VOmE9gm"
      },
      "execution_count": null,
      "outputs": []
    },
    {
      "cell_type": "markdown",
      "source": [
        "## Определение типа треугольника\n",
        "\n",
        "Определите тип треугольника (остроугольный, тупоугольный, прямоугольный) с данными сторонами.\n",
        "\n",
        "Формат входных данных\n",
        "Даны три натуральных числа – стороны треугольника. Каждое число вводится с новой строки.\n",
        "\n",
        "Формат выходных данных\n",
        "Необходимо вывести одно из слов: right для прямоугольного треугольника, acute для остроугольного треугольника, obtuse для тупоугольного треугольника или impossible, треугольника с такими сторонами не существует."
      ],
      "metadata": {
        "id": "UryauNORODWg"
      }
    },
    {
      "cell_type": "code",
      "source": [
        "def definition(sides):\n",
        "  hip = sides[0]\n",
        "  katet1 = sides[1]\n",
        "  katet2 = sides[2]\n",
        "  if hip >= katet1 + katet2: # МФТИ не принимает вырожденые треугольники как возможные\n",
        "    return 'impossible'\n",
        "  elif hip**2 > katet1**2 + katet2**2:\n",
        "    return 'obtuse'\n",
        "  elif hip**2 == katet1**2 + katet2**2:\n",
        "    return 'right'\n",
        "  else:\n",
        "    return 'acute'\n",
        "\n",
        "\n",
        "def sort_sides(sides):\n",
        "  max = sides[0]\n",
        "  max_index = 0\n",
        "  for i in range(1, 3):\n",
        "    if max < sides[i]:\n",
        "      max = sides[i]\n",
        "      max_index = i\n",
        "  temp = []\n",
        "  temp.append(max)\n",
        "  for i in range(3):\n",
        "    if i != max_index:\n",
        "      temp.append(sides[i])\n",
        "  return temp\n",
        "  \n",
        "\n",
        "sides = []\n",
        "for i in range(3):\n",
        "  sides.append(int(input()))\n",
        "sides = sort_sides(sides)\n",
        "print(definition(sides))\n"
      ],
      "metadata": {
        "id": "nZ3HNiawOTM3"
      },
      "execution_count": null,
      "outputs": []
    },
    {
      "cell_type": "markdown",
      "source": [
        "## Среднее значение последовательности, заканчивающейся нулем\n",
        "\n",
        "На вход программе подается последовательность чисел, заканчивающихся нулем. Сам ноль не входит в последовательность. Найти среднее значение последовательности. Для округления использовать функцию round(x, n). Где x - число, n - количество знаков после запятой.\n",
        "\n",
        "Формат входных данных\n",
        "Последовательность чисел, заканчивающихся нулем. Одно число в строку.\n",
        "\n",
        "Формат выходных данных\n",
        "Одно число — среднее значение. Округлить до двух цифр после запятой."
      ],
      "metadata": {
        "id": "LI0eYW3dWmYR"
      }
    },
    {
      "cell_type": "code",
      "source": [
        "numbers = []\n",
        "a = int(input())\n",
        "while a!=0:\n",
        "  numbers.append(a)\n",
        "  a = int(input())\n",
        "sum = 0\n",
        "for i in numbers:\n",
        "  sum += i\n",
        "average = sum / len(numbers)\n",
        "print(round(average, 2))\n"
      ],
      "metadata": {
        "id": "68SglRFZWqNX"
      },
      "execution_count": null,
      "outputs": []
    },
    {
      "cell_type": "markdown",
      "source": [
        "## Поиск максильного четного числа в последовательности\n",
        "\n",
        "Последовательность состоит из натуральных чисел и завершается числом 0. Определите значение наибольшего четного элемента последовательности. Числа, следующие за нулем, считывать не нужно.\n",
        "\n",
        "Формат входных данных\n",
        "Последовательность целых чисел, оканчивающаяся числом 0 (само число 0 в последовательность не входит). Каждое число на новой строке.\n",
        "\n",
        "Формат выходных данных\n",
        "Одно число — максимальное четное число в последовательности, если четные числа в ней присутствуют, иначе - 0."
      ],
      "metadata": {
        "id": "ToR5Ck2ZaAh4"
      }
    },
    {
      "cell_type": "code",
      "source": [
        "numbers = []\n",
        "a = int(input())\n",
        "while a!=0:\n",
        "  numbers.append(a)\n",
        "  a = int(input())\n",
        "result = 0\n",
        "for el in numbers:\n",
        "  result = el if el%2 == 0 and el > result else result\n",
        "print(result)\n"
      ],
      "metadata": {
        "id": "IyF7nIlfaFFQ"
      },
      "execution_count": null,
      "outputs": []
    },
    {
      "cell_type": "markdown",
      "source": [
        "## Первое число трибоначчи, превосходящее заданное\n",
        "\n",
        "Числа трибоначчи - последовательность целых чисел {t n }, заданная с помощью рекуррентного соотношения: t 0 = 0, t 1 = 0, t 2 = 1 , t n+3 = t n + t n+1 + t n+2 Нужно найти номер первого числа трибоначчи, превосходящего заданное. Нумерация начинается с 0 .\n",
        "\n",
        "Формат входных данных\n",
        "Одно целое число.\n",
        "\n",
        "Формат выходных данных\n",
        "Одно число — номер первого числа трибоначчи, превосходящее заданное во входных данных число."
      ],
      "metadata": {
        "id": "pTTgkJQgbIhR"
      }
    },
    {
      "cell_type": "code",
      "source": [
        "def tribon_bigger_than(n):\n",
        "  tribon_list = [0, 0, 1]\n",
        "  if n < 0:\n",
        "    return 0\n",
        "  tribon = 1\n",
        "  i = 2\n",
        "  while tribon <= n:\n",
        "    i += 1\n",
        "    tribon = tribon_list[i-3] + tribon_list[i-2] + tribon_list[i-1]\n",
        "    tribon_list.append(tribon)\n",
        "  return i\n",
        "\n",
        "\n",
        "n = int(input())\n",
        "print(tribon_bigger_than(n))\n"
      ],
      "metadata": {
        "id": "I77PHygebidC"
      },
      "execution_count": null,
      "outputs": []
    },
    {
      "cell_type": "markdown",
      "source": [
        "## Наибольший общий делитель\n",
        "\n",
        "Необходимо найти НОД двух чисел, используя алгоритм Евклида.\n",
        "\n",
        "Формат входных данных\n",
        "На вход подаются два натуральных числа, по числу в новой строке.\n",
        "\n",
        "Формат выходных данных\n",
        "Одно число - НОД входных чисел."
      ],
      "metadata": {
        "id": "6yCs03hceRYI"
      }
    },
    {
      "cell_type": "code",
      "source": [
        "def also_euclid(a, b):\n",
        "  def also_euclid_rec(a, b):\n",
        "    if a % b == 0:\n",
        "      print(b)\n",
        "      return\n",
        "    also_euclid_rec(b, a % b)\n",
        "  \n",
        "  max_min(a, b, also_euclid_rec) # Достаточно выполнить один раз,\n",
        "  # в рекурсивной функции первый аргумент не меньше второго.\n",
        "\n",
        "\n",
        "def max_min(a, b, func):\n",
        "  if a >= b:\n",
        "    func(a, b)\n",
        "  else:\n",
        "    func(b, a)\n",
        "\n",
        "\n",
        "def euclid(a, b):\n",
        "  def euclid_rec(a, b):\n",
        "    if a == b:\n",
        "      print(a)\n",
        "      return\n",
        "    max_min(b, a-b, euclid_rec) # Приходится вызывать во всей рекурсивной\n",
        "    # последовательности, т.к. заранее неизвестно какой аргумент больше\n",
        "\n",
        "  max_min(a, b, euclid_rec)\n",
        "\n",
        "\n",
        "x = int(input())\n",
        "y = int(input())\n",
        "print('Нахождение НОД через остаток:')\n",
        "# non_euclid(x, y) \n",
        "# Интересное наблюдение, после переименования в коде функции non_euclid в \n",
        "# also_euclid, в данном месте функция продолжала вызываться по старому имени.\n",
        "# причём определённо старая версия функции, так как после изменений в \n",
        "# also_euclid, вывод non_euclid не изменялся, т.е. функция у нас создана,\n",
        "# интерпретатор её выполнил и заполнил, мы её не переопределили новой функцией,\n",
        "# а сборщик мусора её не удалил, насколько я всё это понял.\n",
        "also_euclid(x, y)\n",
        "print('Нахождение НОД через вычитание:')\n",
        "euclid(x, y)  # Уменьшение аргументов медленнее, чем через остатки, больше\n",
        "              # больше заполняет стек вызовов."
      ],
      "metadata": {
        "id": "FgC0nOQOebuo",
        "colab": {
          "base_uri": "https://localhost:8080/"
        },
        "outputId": "75d48584-350f-4652-cf61-ca220eb754f9"
      },
      "execution_count": null,
      "outputs": [
        {
          "output_type": "stream",
          "name": "stdout",
          "text": [
            "1000\n",
            "134\n",
            "Нахождение НОД через остаток:\n",
            "2\n",
            "Нахождение НОД через вычитание:\n",
            "2\n"
          ]
        }
      ]
    },
    {
      "cell_type": "markdown",
      "source": [
        "## Самое частое число\n",
        "\n",
        "На вход программе подается массив чисел.Необходимо найти число, которое чаще всего встречается в массиве. Гарантируется, что такое число одно.\n",
        "\n",
        "Формат входных данных\n",
        "В первой строке задается число N , длина массива, далее идут N чисел -- элементы массива. Все числа больше 0 и меньше 100. Каждое число вводится с новой строки.\n",
        "\n",
        "Формат выходных данных\n",
        "Одно число, которое встречается наибольшее количество раз."
      ],
      "metadata": {
        "id": "AA94RV9jiAY6"
      }
    },
    {
      "cell_type": "code",
      "source": [
        "N = int(input())\n",
        "numbers = [0] * N\n",
        "for i in range(N):\n",
        "  numbers[i] = int(input())\n",
        "result = numbers[0]\n",
        "max_count = 0\n",
        "max_count_num = 0\n",
        "for i in range(N):\n",
        "  count = 0\n",
        "  for j in range(i, N):\n",
        "    if numbers[j] == numbers[i]:\n",
        "      count += 1\n",
        "  if count > max_count:\n",
        "    max_count = count\n",
        "    max_count_num = numbers[i]\n",
        "print(max_count_num)\n"
      ],
      "metadata": {
        "id": "pJFfawjBiDv6"
      },
      "execution_count": null,
      "outputs": []
    },
    {
      "cell_type": "markdown",
      "source": [
        "## Скалярное произведение\n",
        "\n",
        "Одной из важнейших операций в линейной алгебре, аналитической геометрии, математическом анализе, анализе данных, искуственном интеллекте, компьютерной графике и в огромном количестве других областей математики и информатики является вычисление скалярного произведения двух векторов.\n",
        "\n",
        "Вычисляется скалярное произведение, как сумма произведений соответствующих компонент векторов.\n",
        "\n",
        "В данной задаче вам необходимо написать функцию dot_product(N, vector1, vector2) , вычисляющую скалярное произведение для двух заданных векторов одинаковой размерности N .\n",
        "\n",
        "Обратите внимание: в решении должно быть только объяевление одной функции dot_product и никакого другого кода.\n",
        "\n",
        "Аргументы функции\n",
        "Функция принимает в качестве аргументов размерность пространства N и 2 вектора. Гарантируется, что размерности векторов совпадают. Векторы заданы списками длины N .\n",
        "\n",
        "Возвращаемое значение\n",
        "Функция должна возвращать одно число -- скалярное произведение заданных векторов."
      ],
      "metadata": {
        "id": "OEkqzCPgl_GJ"
      }
    },
    {
      "cell_type": "code",
      "source": [
        "def dot_product(N, vector1, vector2):\n",
        "  sum = 0\n",
        "  for i in range(N):\n",
        "    sum += vector1[i] * vector2[i]\n",
        "  return sum\n",
        "  "
      ],
      "metadata": {
        "id": "zt8gYEtXmFdh"
      },
      "execution_count": null,
      "outputs": []
    },
    {
      "cell_type": "markdown",
      "source": [
        "## Максимум неполного массива\n",
        "\n",
        "В некотором физическом эксперименте показания прибора снимались с частотой 5 измерений в секунду. Эксперимент проводился в течение довольно большого времени, и в результате накопилось очень много данных. Ученых, которые проводили данный эксперимент, очень интересует, какое максимальное значение измеряемой величины достигалось во время измерения. Но вот беда: на остановку установки также требуется секунда времени, и в течение этого времени с установки могут приходить совершенно любые значения величины. В связи с этим, показания последних 5 измерений учитывать при поиске максимального значения не следует.\n",
        "\n",
        "Вам необходимо написать программу, которая в данном потоке чисел заранее неизвестной длины находит максимальное значение, отбрасывая при этом последние 5 измерений.\n",
        "\n",
        "Формат входных данных\n",
        "На вход вашей программе передается последовательность натуральных чисел -- результаты измерений. Каждое новое число передается с новой строки. Гарантируется, что длина входной последовательности не меньше 6 и не превосходит 10 9 . На конце последовательности передается число 0.\n",
        "\n",
        "Формат выходных данных\n",
        "Программа должна вывести на экран одно число -- максимальное значение входной последовательности за исключением последних 5 элементов."
      ],
      "metadata": {
        "id": "qYG0tcuvnCKr"
      }
    },
    {
      "cell_type": "code",
      "source": [
        "# Решение с экономией памяти\n",
        "numbers = [0] * 6\n",
        "max = 0\n",
        "while True:\n",
        "  measure = int(input())\n",
        "  if measure == 0:\n",
        "    break\n",
        "  for i in range(5):\n",
        "    numbers[i] = numbers[i+1]\n",
        "  numbers[5] = measure\n",
        "  max = max if max > numbers[0] else numbers[0]\n",
        "print(max)\n"
      ],
      "metadata": {
        "id": "JUiRTp2UnGoa"
      },
      "execution_count": null,
      "outputs": []
    },
    {
      "cell_type": "code",
      "source": [
        "# Решение без экономии памяти\n",
        "numbers = []\n",
        "measure = int(input())\n",
        "while measure != 0:\n",
        "  numbers.append(measure)\n",
        "  measure = int(input())\n",
        "max = 0 \n",
        "for i in range(len(numbers)-5):\n",
        "  if numbers[i] > max:\n",
        "    max = numbers[i]\n",
        "print(max)\n"
      ],
      "metadata": {
        "id": "MXLaYOmZudrM"
      },
      "execution_count": null,
      "outputs": []
    },
    {
      "cell_type": "markdown",
      "source": [
        "## Раскраска прямой\n",
        "\n",
        "Напротив Васиного дома поставили забор, состоящий из 10^9 дощечек. Каждый день, выгдядывая в окно, он видел, что часть забора с дощечки l[ i ] до дощечки r[ i ] красят в цвет c[ i ]. При этом он записывал, какой отрезок забора в какой цвет красили. Эти данные он предоставил Вам и просил ответить на вопрос: в какой цвет будут выкрашены интересующие Васю дощечки через N дней? Изначально все дощечки были цвета 0.\n",
        "\n",
        "Формат входных данных\n",
        "На первой строке вводится число 0 <= N <= 100 - количество дней. Далее на 3*N строках идут тройки чисел (каждое в новой строке): 1 <= l i <= r i <= 10^9 и 0 <= c i <= 10 6 . Далее идет число 0 < M <= 100 - число интересующих Васю дощечек. Далее на M строках номера дощечек.\n",
        "\n",
        "Формат выходных данных\n",
        "Вывести M чисел, разделенных пробелами - цвета дощечек."
      ],
      "metadata": {
        "id": "M9SP2KQ0teuz"
      }
    },
    {
      "cell_type": "code",
      "source": [
        "n = int(input()) # Количество дней\n",
        "l = [0] * n \n",
        "r = [0] * n\n",
        "c = [0] * n\n",
        "for i in range(n):\n",
        "  l[i] = int(input()) # красят в i день, начиная с этой доски\n",
        "  r[i] = int(input()) # красят в i день, ДО? этой доски\n",
        "  c[i] = int(input()) # цвет в день i\n",
        "m = int(input()) # число интересных досок\n",
        "b = [0] * m # список интересных досок\n",
        "for i in range(m):\n",
        "  b[i] = int(input()) \n",
        "result = [0] * m\n",
        "for i in range(n):\n",
        "  for j in range(m):\n",
        "    if l[i] <= b[j] < r[i]:\n",
        "      result[j] = c[i]\n",
        "print(*result)\n"
      ],
      "metadata": {
        "id": "StZRFpLutibj"
      },
      "execution_count": null,
      "outputs": []
    },
    {
      "cell_type": "markdown",
      "source": [
        "# Практика 8. Рекурсия: фракталы.\n"
      ],
      "metadata": {
        "id": "YKuRsCN38meU"
      }
    },
    {
      "cell_type": "markdown",
      "source": [
        "## Упражнение №1: длина рекурсии\n",
        "С помощью функции fac(n) определите текущую установленную глубину рекурсии и сравните ваш результат с возвращаемым значением функции sys.getrecursionlimit(). Учтите, что sys.getrecursionlimit() возвращает максимальную глубину стека вызовов, а не максимальную глубину рекурсии для какой-либо функции.\n",
        "\n"
      ],
      "metadata": {
        "id": "zXqBNJZHN83I"
      }
    },
    {
      "cell_type": "code",
      "source": [
        "import sys\n",
        "\n",
        "\n",
        "def fac(n):\n",
        "  global i\n",
        "  i += 1\n",
        "  print(i)\n",
        "  if n == 0:\n",
        "    return 1\n",
        "  return n * fac(n-1)\n",
        "\n",
        "i = 0\n",
        "fac(5)\n",
        "print(sys.getrecursionlimit())"
      ],
      "metadata": {
        "colab": {
          "base_uri": "https://localhost:8080/"
        },
        "id": "pqSxaIshN7g9",
        "outputId": "85596741-0f94-4ad7-8165-718320ad2662"
      },
      "execution_count": null,
      "outputs": [
        {
          "output_type": "stream",
          "name": "stdout",
          "text": [
            "1\n",
            "2\n",
            "3\n",
            "4\n",
            "5\n",
            "6\n",
            "1000\n"
          ]
        }
      ]
    },
    {
      "cell_type": "markdown",
      "source": [
        "## Упражнение №2: числа Фибоначчи\n",
        "Напишите программу, вычисляющую n-ное число Фибоначчи. Используйте рекурсивные вызовы функций."
      ],
      "metadata": {
        "id": "vRffjDnQPxjf"
      }
    },
    {
      "cell_type": "code",
      "source": [
        "def fib(n):\n",
        "  if n == 1 or n == 2:\n",
        "    return 1\n",
        "  return fib(n-1) + fib(n-2) \n",
        "\n",
        "\n",
        "print(fib(7))\n"
      ],
      "metadata": {
        "colab": {
          "base_uri": "https://localhost:8080/"
        },
        "id": "M9hoddqSP3BG",
        "outputId": "41388282-34e0-4d95-eb2f-82d22317ee0e"
      },
      "execution_count": null,
      "outputs": [
        {
          "output_type": "stream",
          "name": "stdout",
          "text": [
            "13\n"
          ]
        }
      ]
    },
    {
      "cell_type": "markdown",
      "source": [
        "## Упражнение №3: кривая Коха\n",
        "Нарисуйте кривую Коха. Процесс её построения выглядит следующим образом: берём единичный отрезок, разделяем на три равные части и заменяем средний интервал равносторонним треугольником без этого сегмента. В результате образуется ломаная, состоящая из четырёх звеньев длины 1/3. На следующем шаге повторяем операцию для каждого из четырёх получившихся звеньев и т. д… Предельная кривая и есть кривая Коха."
      ],
      "metadata": {
        "id": "GQoq7T3qWnmn"
      }
    },
    {
      "cell_type": "code",
      "source": [
        "!pip3 install ColabTurtle\n",
        "import ColabTurtle.Turtle as turtle\n",
        "\n",
        "\n",
        "def draw(l, n):\n",
        "  if n == 1:\n",
        "    turtle.forward(l)\n",
        "    turtle.left(60)\n",
        "    turtle.forward(l)\n",
        "    turtle.right(120)\n",
        "    turtle.forward(l)\n",
        "    turtle.left(60)\n",
        "    turtle.forward(l)\n",
        "    return\n",
        "  draw(l/3, n-1)\n",
        "  turtle.left(60)\n",
        "  draw(l/3, n-1)\n",
        "  turtle.right(120)\n",
        "  draw(l/3, n-1)\n",
        "  turtle.left(60)\n",
        "  draw(l/3, n-1)\n",
        "  \n",
        "\n",
        "REC_DEPTH = 3\n",
        "turtle.speed(13)\n",
        "turtle.initializeTurtle()\n",
        "turtle.penup()\n",
        "turtle.goto(100, 300)\n",
        "turtle.right(90)\n",
        "turtle.pendown()\n",
        "draw(200, REC_DEPTH)"
      ],
      "metadata": {
        "colab": {
          "base_uri": "https://localhost:8080/",
          "height": 539
        },
        "id": "AvGm75oJL60Y",
        "outputId": "4764d98b-92ca-479a-e806-9e3da9d9c4f5"
      },
      "execution_count": null,
      "outputs": [
        {
          "output_type": "stream",
          "name": "stdout",
          "text": [
            "Requirement already satisfied: ColabTurtle in /usr/local/lib/python3.7/dist-packages (2.1.0)\n"
          ]
        },
        {
          "output_type": "display_data",
          "data": {
            "text/html": [
              "\n",
              "      <svg width=\"800\" height=\"500\">\n",
              "        <rect width=\"100%\" height=\"100%\" fill=\"black\"/>\n",
              "        <line x1=\"100\" y1=\"300\" x2=\"107.407\" y2=\"300.0\" stroke-linecap=\"round\" style=\"stroke:white;stroke-width:4\"/><line x1=\"107.407\" y1=\"300.0\" x2=\"111.111\" y2=\"293.585\" stroke-linecap=\"round\" style=\"stroke:white;stroke-width:4\"/><line x1=\"111.111\" y1=\"293.585\" x2=\"114.815\" y2=\"300.0\" stroke-linecap=\"round\" style=\"stroke:white;stroke-width:4\"/><line x1=\"114.815\" y1=\"300.0\" x2=\"122.222\" y2=\"300.0\" stroke-linecap=\"round\" style=\"stroke:white;stroke-width:4\"/><line x1=\"122.222\" y1=\"300.0\" x2=\"125.926\" y2=\"293.585\" stroke-linecap=\"round\" style=\"stroke:white;stroke-width:4\"/><line x1=\"125.926\" y1=\"293.585\" x2=\"122.222\" y2=\"287.17\" stroke-linecap=\"round\" style=\"stroke:white;stroke-width:4\"/><line x1=\"122.222\" y1=\"287.17\" x2=\"129.629\" y2=\"287.17\" stroke-linecap=\"round\" style=\"stroke:white;stroke-width:4\"/><line x1=\"129.629\" y1=\"287.17\" x2=\"133.333\" y2=\"280.755\" stroke-linecap=\"round\" style=\"stroke:white;stroke-width:4\"/><line x1=\"133.333\" y1=\"280.755\" x2=\"137.037\" y2=\"287.17\" stroke-linecap=\"round\" style=\"stroke:white;stroke-width:4\"/><line x1=\"137.037\" y1=\"287.17\" x2=\"144.444\" y2=\"287.17\" stroke-linecap=\"round\" style=\"stroke:white;stroke-width:4\"/><line x1=\"144.444\" y1=\"287.17\" x2=\"140.74\" y2=\"293.585\" stroke-linecap=\"round\" style=\"stroke:white;stroke-width:4\"/><line x1=\"140.74\" y1=\"293.585\" x2=\"144.444\" y2=\"300.0\" stroke-linecap=\"round\" style=\"stroke:white;stroke-width:4\"/><line x1=\"144.444\" y1=\"300.0\" x2=\"151.851\" y2=\"300.0\" stroke-linecap=\"round\" style=\"stroke:white;stroke-width:4\"/><line x1=\"151.851\" y1=\"300.0\" x2=\"155.555\" y2=\"293.585\" stroke-linecap=\"round\" style=\"stroke:white;stroke-width:4\"/><line x1=\"155.555\" y1=\"293.585\" x2=\"159.259\" y2=\"300.0\" stroke-linecap=\"round\" style=\"stroke:white;stroke-width:4\"/><line x1=\"159.259\" y1=\"300.0\" x2=\"166.666\" y2=\"300.0\" stroke-linecap=\"round\" style=\"stroke:white;stroke-width:4\"/><line x1=\"166.666\" y1=\"300.0\" x2=\"170.37\" y2=\"293.585\" stroke-linecap=\"round\" style=\"stroke:white;stroke-width:4\"/><line x1=\"170.37\" y1=\"293.585\" x2=\"166.666\" y2=\"287.17\" stroke-linecap=\"round\" style=\"stroke:white;stroke-width:4\"/><line x1=\"166.666\" y1=\"287.17\" x2=\"174.073\" y2=\"287.17\" stroke-linecap=\"round\" style=\"stroke:white;stroke-width:4\"/><line x1=\"174.073\" y1=\"287.17\" x2=\"177.777\" y2=\"280.755\" stroke-linecap=\"round\" style=\"stroke:white;stroke-width:4\"/><line x1=\"177.777\" y1=\"280.755\" x2=\"174.073\" y2=\"274.34\" stroke-linecap=\"round\" style=\"stroke:white;stroke-width:4\"/><line x1=\"174.073\" y1=\"274.34\" x2=\"166.666\" y2=\"274.34\" stroke-linecap=\"round\" style=\"stroke:white;stroke-width:4\"/><line x1=\"166.666\" y1=\"274.34\" x2=\"170.37\" y2=\"267.925\" stroke-linecap=\"round\" style=\"stroke:white;stroke-width:4\"/><line x1=\"170.37\" y1=\"267.925\" x2=\"166.666\" y2=\"261.51\" stroke-linecap=\"round\" style=\"stroke:white;stroke-width:4\"/><line x1=\"166.666\" y1=\"261.51\" x2=\"174.073\" y2=\"261.51\" stroke-linecap=\"round\" style=\"stroke:white;stroke-width:4\"/><line x1=\"174.073\" y1=\"261.51\" x2=\"177.777\" y2=\"255.095\" stroke-linecap=\"round\" style=\"stroke:white;stroke-width:4\"/><line x1=\"177.777\" y1=\"255.095\" x2=\"181.481\" y2=\"261.51\" stroke-linecap=\"round\" style=\"stroke:white;stroke-width:4\"/><line x1=\"181.481\" y1=\"261.51\" x2=\"188.888\" y2=\"261.51\" stroke-linecap=\"round\" style=\"stroke:white;stroke-width:4\"/><line x1=\"188.888\" y1=\"261.51\" x2=\"192.592\" y2=\"255.095\" stroke-linecap=\"round\" style=\"stroke:white;stroke-width:4\"/><line x1=\"192.592\" y1=\"255.095\" x2=\"188.888\" y2=\"248.68\" stroke-linecap=\"round\" style=\"stroke:white;stroke-width:4\"/><line x1=\"188.888\" y1=\"248.68\" x2=\"196.295\" y2=\"248.68\" stroke-linecap=\"round\" style=\"stroke:white;stroke-width:4\"/><line x1=\"196.295\" y1=\"248.68\" x2=\"199.999\" y2=\"242.265\" stroke-linecap=\"round\" style=\"stroke:white;stroke-width:4\"/><line x1=\"199.999\" y1=\"242.265\" x2=\"203.703\" y2=\"248.68\" stroke-linecap=\"round\" style=\"stroke:white;stroke-width:4\"/><line x1=\"203.703\" y1=\"248.68\" x2=\"211.11\" y2=\"248.68\" stroke-linecap=\"round\" style=\"stroke:white;stroke-width:4\"/><line x1=\"211.11\" y1=\"248.68\" x2=\"207.406\" y2=\"255.095\" stroke-linecap=\"round\" style=\"stroke:white;stroke-width:4\"/><line x1=\"207.406\" y1=\"255.095\" x2=\"211.11\" y2=\"261.51\" stroke-linecap=\"round\" style=\"stroke:white;stroke-width:4\"/><line x1=\"211.11\" y1=\"261.51\" x2=\"218.517\" y2=\"261.51\" stroke-linecap=\"round\" style=\"stroke:white;stroke-width:4\"/><line x1=\"218.517\" y1=\"261.51\" x2=\"222.221\" y2=\"255.095\" stroke-linecap=\"round\" style=\"stroke:white;stroke-width:4\"/><line x1=\"222.221\" y1=\"255.095\" x2=\"225.925\" y2=\"261.51\" stroke-linecap=\"round\" style=\"stroke:white;stroke-width:4\"/><line x1=\"225.925\" y1=\"261.51\" x2=\"233.332\" y2=\"261.51\" stroke-linecap=\"round\" style=\"stroke:white;stroke-width:4\"/><line x1=\"233.332\" y1=\"261.51\" x2=\"229.628\" y2=\"267.925\" stroke-linecap=\"round\" style=\"stroke:white;stroke-width:4\"/><line x1=\"229.628\" y1=\"267.925\" x2=\"233.332\" y2=\"274.34\" stroke-linecap=\"round\" style=\"stroke:white;stroke-width:4\"/><line x1=\"233.332\" y1=\"274.34\" x2=\"225.925\" y2=\"274.34\" stroke-linecap=\"round\" style=\"stroke:white;stroke-width:4\"/><line x1=\"225.925\" y1=\"274.34\" x2=\"222.221\" y2=\"280.755\" stroke-linecap=\"round\" style=\"stroke:white;stroke-width:4\"/><line x1=\"222.221\" y1=\"280.755\" x2=\"225.925\" y2=\"287.17\" stroke-linecap=\"round\" style=\"stroke:white;stroke-width:4\"/><line x1=\"225.925\" y1=\"287.17\" x2=\"233.332\" y2=\"287.17\" stroke-linecap=\"round\" style=\"stroke:white;stroke-width:4\"/><line x1=\"233.332\" y1=\"287.17\" x2=\"229.628\" y2=\"293.585\" stroke-linecap=\"round\" style=\"stroke:white;stroke-width:4\"/><line x1=\"229.628\" y1=\"293.585\" x2=\"233.332\" y2=\"300.0\" stroke-linecap=\"round\" style=\"stroke:white;stroke-width:4\"/><line x1=\"233.332\" y1=\"300.0\" x2=\"240.739\" y2=\"300.0\" stroke-linecap=\"round\" style=\"stroke:white;stroke-width:4\"/><line x1=\"240.739\" y1=\"300.0\" x2=\"244.443\" y2=\"293.585\" stroke-linecap=\"round\" style=\"stroke:white;stroke-width:4\"/><line x1=\"244.443\" y1=\"293.585\" x2=\"248.147\" y2=\"300.0\" stroke-linecap=\"round\" style=\"stroke:white;stroke-width:4\"/><line x1=\"248.147\" y1=\"300.0\" x2=\"255.554\" y2=\"300.0\" stroke-linecap=\"round\" style=\"stroke:white;stroke-width:4\"/><line x1=\"255.554\" y1=\"300.0\" x2=\"259.258\" y2=\"293.585\" stroke-linecap=\"round\" style=\"stroke:white;stroke-width:4\"/><line x1=\"259.258\" y1=\"293.585\" x2=\"255.554\" y2=\"287.17\" stroke-linecap=\"round\" style=\"stroke:white;stroke-width:4\"/><line x1=\"255.554\" y1=\"287.17\" x2=\"262.961\" y2=\"287.17\" stroke-linecap=\"round\" style=\"stroke:white;stroke-width:4\"/><line x1=\"262.961\" y1=\"287.17\" x2=\"266.665\" y2=\"280.755\" stroke-linecap=\"round\" style=\"stroke:white;stroke-width:4\"/><line x1=\"266.665\" y1=\"280.755\" x2=\"270.369\" y2=\"287.17\" stroke-linecap=\"round\" style=\"stroke:white;stroke-width:4\"/><line x1=\"270.369\" y1=\"287.17\" x2=\"277.776\" y2=\"287.17\" stroke-linecap=\"round\" style=\"stroke:white;stroke-width:4\"/><line x1=\"277.776\" y1=\"287.17\" x2=\"274.072\" y2=\"293.585\" stroke-linecap=\"round\" style=\"stroke:white;stroke-width:4\"/><line x1=\"274.072\" y1=\"293.585\" x2=\"277.776\" y2=\"300.0\" stroke-linecap=\"round\" style=\"stroke:white;stroke-width:4\"/><line x1=\"277.776\" y1=\"300.0\" x2=\"285.183\" y2=\"300.0\" stroke-linecap=\"round\" style=\"stroke:white;stroke-width:4\"/><line x1=\"285.183\" y1=\"300.0\" x2=\"288.887\" y2=\"293.585\" stroke-linecap=\"round\" style=\"stroke:white;stroke-width:4\"/><line x1=\"288.887\" y1=\"293.585\" x2=\"292.591\" y2=\"300.0\" stroke-linecap=\"round\" style=\"stroke:white;stroke-width:4\"/><line x1=\"292.591\" y1=\"300.0\" x2=\"299.998\" y2=\"300.0\" stroke-linecap=\"round\" style=\"stroke:white;stroke-width:4\"/><line x1=\"299.998\" y1=\"300.0\" x2=\"303.702\" y2=\"293.585\" stroke-linecap=\"round\" style=\"stroke:white;stroke-width:4\"/><line x1=\"303.702\" y1=\"293.585\" x2=\"299.998\" y2=\"287.17\" stroke-linecap=\"round\" style=\"stroke:white;stroke-width:4\"/><line x1=\"299.998\" y1=\"287.17\" x2=\"307.405\" y2=\"287.17\" stroke-linecap=\"round\" style=\"stroke:white;stroke-width:4\"/><line x1=\"307.405\" y1=\"287.17\" x2=\"311.109\" y2=\"280.755\" stroke-linecap=\"round\" style=\"stroke:white;stroke-width:4\"/><line x1=\"311.109\" y1=\"280.755\" x2=\"307.405\" y2=\"274.34\" stroke-linecap=\"round\" style=\"stroke:white;stroke-width:4\"/><line x1=\"307.405\" y1=\"274.34\" x2=\"299.998\" y2=\"274.34\" stroke-linecap=\"round\" style=\"stroke:white;stroke-width:4\"/><line x1=\"299.998\" y1=\"274.34\" x2=\"303.702\" y2=\"267.925\" stroke-linecap=\"round\" style=\"stroke:white;stroke-width:4\"/><line x1=\"303.702\" y1=\"267.925\" x2=\"299.998\" y2=\"261.51\" stroke-linecap=\"round\" style=\"stroke:white;stroke-width:4\"/><line x1=\"299.998\" y1=\"261.51\" x2=\"307.405\" y2=\"261.51\" stroke-linecap=\"round\" style=\"stroke:white;stroke-width:4\"/><line x1=\"307.405\" y1=\"261.51\" x2=\"311.109\" y2=\"255.095\" stroke-linecap=\"round\" style=\"stroke:white;stroke-width:4\"/><line x1=\"311.109\" y1=\"255.095\" x2=\"314.813\" y2=\"261.51\" stroke-linecap=\"round\" style=\"stroke:white;stroke-width:4\"/><line x1=\"314.813\" y1=\"261.51\" x2=\"322.22\" y2=\"261.51\" stroke-linecap=\"round\" style=\"stroke:white;stroke-width:4\"/><line x1=\"322.22\" y1=\"261.51\" x2=\"325.924\" y2=\"255.095\" stroke-linecap=\"round\" style=\"stroke:white;stroke-width:4\"/><line x1=\"325.924\" y1=\"255.095\" x2=\"322.22\" y2=\"248.68\" stroke-linecap=\"round\" style=\"stroke:white;stroke-width:4\"/><line x1=\"322.22\" y1=\"248.68\" x2=\"329.627\" y2=\"248.68\" stroke-linecap=\"round\" style=\"stroke:white;stroke-width:4\"/><line x1=\"329.627\" y1=\"248.68\" x2=\"333.331\" y2=\"242.265\" stroke-linecap=\"round\" style=\"stroke:white;stroke-width:4\"/><line x1=\"333.331\" y1=\"242.265\" x2=\"329.627\" y2=\"235.85\" stroke-linecap=\"round\" style=\"stroke:white;stroke-width:4\"/><line x1=\"329.627\" y1=\"235.85\" x2=\"322.22\" y2=\"235.85\" stroke-linecap=\"round\" style=\"stroke:white;stroke-width:4\"/><line x1=\"322.22\" y1=\"235.85\" x2=\"325.924\" y2=\"229.435\" stroke-linecap=\"round\" style=\"stroke:white;stroke-width:4\"/><line x1=\"325.924\" y1=\"229.435\" x2=\"322.22\" y2=\"223.02\" stroke-linecap=\"round\" style=\"stroke:white;stroke-width:4\"/><line x1=\"322.22\" y1=\"223.02\" x2=\"314.813\" y2=\"223.02\" stroke-linecap=\"round\" style=\"stroke:white;stroke-width:4\"/><line x1=\"314.813\" y1=\"223.02\" x2=\"311.109\" y2=\"229.435\" stroke-linecap=\"round\" style=\"stroke:white;stroke-width:4\"/><line x1=\"311.109\" y1=\"229.435\" x2=\"307.405\" y2=\"223.02\" stroke-linecap=\"round\" style=\"stroke:white;stroke-width:4\"/><line x1=\"307.405\" y1=\"223.02\" x2=\"299.998\" y2=\"223.02\" stroke-linecap=\"round\" style=\"stroke:white;stroke-width:4\"/><line x1=\"299.998\" y1=\"223.02\" x2=\"303.702\" y2=\"216.605\" stroke-linecap=\"round\" style=\"stroke:white;stroke-width:4\"/><line x1=\"303.702\" y1=\"216.605\" x2=\"299.998\" y2=\"210.19\" stroke-linecap=\"round\" style=\"stroke:white;stroke-width:4\"/><line x1=\"299.998\" y1=\"210.19\" x2=\"307.405\" y2=\"210.19\" stroke-linecap=\"round\" style=\"stroke:white;stroke-width:4\"/><line x1=\"307.405\" y1=\"210.19\" x2=\"311.109\" y2=\"203.775\" stroke-linecap=\"round\" style=\"stroke:white;stroke-width:4\"/><line x1=\"311.109\" y1=\"203.775\" x2=\"307.405\" y2=\"197.36\" stroke-linecap=\"round\" style=\"stroke:white;stroke-width:4\"/><line x1=\"307.405\" y1=\"197.36\" x2=\"299.998\" y2=\"197.36\" stroke-linecap=\"round\" style=\"stroke:white;stroke-width:4\"/><line x1=\"299.998\" y1=\"197.36\" x2=\"303.702\" y2=\"190.945\" stroke-linecap=\"round\" style=\"stroke:white;stroke-width:4\"/><line x1=\"303.702\" y1=\"190.945\" x2=\"299.998\" y2=\"184.53\" stroke-linecap=\"round\" style=\"stroke:white;stroke-width:4\"/><line x1=\"299.998\" y1=\"184.53\" x2=\"307.405\" y2=\"184.53\" stroke-linecap=\"round\" style=\"stroke:white;stroke-width:4\"/><line x1=\"307.405\" y1=\"184.53\" x2=\"311.109\" y2=\"178.115\" stroke-linecap=\"round\" style=\"stroke:white;stroke-width:4\"/><line x1=\"311.109\" y1=\"178.115\" x2=\"314.813\" y2=\"184.53\" stroke-linecap=\"round\" style=\"stroke:white;stroke-width:4\"/><line x1=\"314.813\" y1=\"184.53\" x2=\"322.22\" y2=\"184.53\" stroke-linecap=\"round\" style=\"stroke:white;stroke-width:4\"/><line x1=\"322.22\" y1=\"184.53\" x2=\"325.924\" y2=\"178.115\" stroke-linecap=\"round\" style=\"stroke:white;stroke-width:4\"/><line x1=\"325.924\" y1=\"178.115\" x2=\"322.22\" y2=\"171.7\" stroke-linecap=\"round\" style=\"stroke:white;stroke-width:4\"/><line x1=\"322.22\" y1=\"171.7\" x2=\"329.627\" y2=\"171.7\" stroke-linecap=\"round\" style=\"stroke:white;stroke-width:4\"/><line x1=\"329.627\" y1=\"171.7\" x2=\"333.331\" y2=\"165.285\" stroke-linecap=\"round\" style=\"stroke:white;stroke-width:4\"/><line x1=\"333.331\" y1=\"165.285\" x2=\"337.035\" y2=\"171.7\" stroke-linecap=\"round\" style=\"stroke:white;stroke-width:4\"/><line x1=\"337.035\" y1=\"171.7\" x2=\"344.442\" y2=\"171.7\" stroke-linecap=\"round\" style=\"stroke:white;stroke-width:4\"/><line x1=\"344.442\" y1=\"171.7\" x2=\"340.738\" y2=\"178.115\" stroke-linecap=\"round\" style=\"stroke:white;stroke-width:4\"/><line x1=\"340.738\" y1=\"178.115\" x2=\"344.442\" y2=\"184.53\" stroke-linecap=\"round\" style=\"stroke:white;stroke-width:4\"/><line x1=\"344.442\" y1=\"184.53\" x2=\"351.849\" y2=\"184.53\" stroke-linecap=\"round\" style=\"stroke:white;stroke-width:4\"/><line x1=\"351.849\" y1=\"184.53\" x2=\"355.553\" y2=\"178.115\" stroke-linecap=\"round\" style=\"stroke:white;stroke-width:4\"/><line x1=\"355.553\" y1=\"178.115\" x2=\"359.257\" y2=\"184.53\" stroke-linecap=\"round\" style=\"stroke:white;stroke-width:4\"/><line x1=\"359.257\" y1=\"184.53\" x2=\"366.664\" y2=\"184.53\" stroke-linecap=\"round\" style=\"stroke:white;stroke-width:4\"/><line x1=\"366.664\" y1=\"184.53\" x2=\"370.368\" y2=\"178.115\" stroke-linecap=\"round\" style=\"stroke:white;stroke-width:4\"/><line x1=\"370.368\" y1=\"178.115\" x2=\"366.664\" y2=\"171.7\" stroke-linecap=\"round\" style=\"stroke:white;stroke-width:4\"/><line x1=\"366.664\" y1=\"171.7\" x2=\"374.071\" y2=\"171.7\" stroke-linecap=\"round\" style=\"stroke:white;stroke-width:4\"/><line x1=\"374.071\" y1=\"171.7\" x2=\"377.775\" y2=\"165.285\" stroke-linecap=\"round\" style=\"stroke:white;stroke-width:4\"/><line x1=\"377.775\" y1=\"165.285\" x2=\"374.071\" y2=\"158.87\" stroke-linecap=\"round\" style=\"stroke:white;stroke-width:4\"/><line x1=\"374.071\" y1=\"158.87\" x2=\"366.664\" y2=\"158.87\" stroke-linecap=\"round\" style=\"stroke:white;stroke-width:4\"/><line x1=\"366.664\" y1=\"158.87\" x2=\"370.368\" y2=\"152.455\" stroke-linecap=\"round\" style=\"stroke:white;stroke-width:4\"/><line x1=\"370.368\" y1=\"152.455\" x2=\"366.664\" y2=\"146.04\" stroke-linecap=\"round\" style=\"stroke:white;stroke-width:4\"/><line x1=\"366.664\" y1=\"146.04\" x2=\"374.071\" y2=\"146.04\" stroke-linecap=\"round\" style=\"stroke:white;stroke-width:4\"/><line x1=\"374.071\" y1=\"146.04\" x2=\"377.775\" y2=\"139.625\" stroke-linecap=\"round\" style=\"stroke:white;stroke-width:4\"/><line x1=\"377.775\" y1=\"139.625\" x2=\"381.479\" y2=\"146.04\" stroke-linecap=\"round\" style=\"stroke:white;stroke-width:4\"/><line x1=\"381.479\" y1=\"146.04\" x2=\"388.886\" y2=\"146.04\" stroke-linecap=\"round\" style=\"stroke:white;stroke-width:4\"/><line x1=\"388.886\" y1=\"146.04\" x2=\"392.59\" y2=\"139.625\" stroke-linecap=\"round\" style=\"stroke:white;stroke-width:4\"/><line x1=\"392.59\" y1=\"139.625\" x2=\"388.886\" y2=\"133.21\" stroke-linecap=\"round\" style=\"stroke:white;stroke-width:4\"/><line x1=\"388.886\" y1=\"133.21\" x2=\"396.293\" y2=\"133.21\" stroke-linecap=\"round\" style=\"stroke:white;stroke-width:4\"/><line x1=\"396.293\" y1=\"133.21\" x2=\"399.997\" y2=\"126.795\" stroke-linecap=\"round\" style=\"stroke:white;stroke-width:4\"/><line x1=\"399.997\" y1=\"126.795\" x2=\"403.701\" y2=\"133.21\" stroke-linecap=\"round\" style=\"stroke:white;stroke-width:4\"/><line x1=\"403.701\" y1=\"133.21\" x2=\"411.108\" y2=\"133.21\" stroke-linecap=\"round\" style=\"stroke:white;stroke-width:4\"/><line x1=\"411.108\" y1=\"133.21\" x2=\"407.404\" y2=\"139.625\" stroke-linecap=\"round\" style=\"stroke:white;stroke-width:4\"/><line x1=\"407.404\" y1=\"139.625\" x2=\"411.108\" y2=\"146.04\" stroke-linecap=\"round\" style=\"stroke:white;stroke-width:4\"/><line x1=\"411.108\" y1=\"146.04\" x2=\"418.515\" y2=\"146.04\" stroke-linecap=\"round\" style=\"stroke:white;stroke-width:4\"/><line x1=\"418.515\" y1=\"146.04\" x2=\"422.219\" y2=\"139.625\" stroke-linecap=\"round\" style=\"stroke:white;stroke-width:4\"/><line x1=\"422.219\" y1=\"139.625\" x2=\"425.923\" y2=\"146.04\" stroke-linecap=\"round\" style=\"stroke:white;stroke-width:4\"/><line x1=\"425.923\" y1=\"146.04\" x2=\"433.33\" y2=\"146.04\" stroke-linecap=\"round\" style=\"stroke:white;stroke-width:4\"/><line x1=\"433.33\" y1=\"146.04\" x2=\"429.626\" y2=\"152.455\" stroke-linecap=\"round\" style=\"stroke:white;stroke-width:4\"/><line x1=\"429.626\" y1=\"152.455\" x2=\"433.33\" y2=\"158.87\" stroke-linecap=\"round\" style=\"stroke:white;stroke-width:4\"/><line x1=\"433.33\" y1=\"158.87\" x2=\"425.923\" y2=\"158.87\" stroke-linecap=\"round\" style=\"stroke:white;stroke-width:4\"/><line x1=\"425.923\" y1=\"158.87\" x2=\"422.219\" y2=\"165.285\" stroke-linecap=\"round\" style=\"stroke:white;stroke-width:4\"/><line x1=\"422.219\" y1=\"165.285\" x2=\"425.923\" y2=\"171.7\" stroke-linecap=\"round\" style=\"stroke:white;stroke-width:4\"/><line x1=\"425.923\" y1=\"171.7\" x2=\"433.33\" y2=\"171.7\" stroke-linecap=\"round\" style=\"stroke:white;stroke-width:4\"/><line x1=\"433.33\" y1=\"171.7\" x2=\"429.626\" y2=\"178.115\" stroke-linecap=\"round\" style=\"stroke:white;stroke-width:4\"/><line x1=\"429.626\" y1=\"178.115\" x2=\"433.33\" y2=\"184.53\" stroke-linecap=\"round\" style=\"stroke:white;stroke-width:4\"/><line x1=\"433.33\" y1=\"184.53\" x2=\"440.737\" y2=\"184.53\" stroke-linecap=\"round\" style=\"stroke:white;stroke-width:4\"/><line x1=\"440.737\" y1=\"184.53\" x2=\"444.441\" y2=\"178.115\" stroke-linecap=\"round\" style=\"stroke:white;stroke-width:4\"/><line x1=\"444.441\" y1=\"178.115\" x2=\"448.145\" y2=\"184.53\" stroke-linecap=\"round\" style=\"stroke:white;stroke-width:4\"/><line x1=\"448.145\" y1=\"184.53\" x2=\"455.552\" y2=\"184.53\" stroke-linecap=\"round\" style=\"stroke:white;stroke-width:4\"/><line x1=\"455.552\" y1=\"184.53\" x2=\"459.256\" y2=\"178.115\" stroke-linecap=\"round\" style=\"stroke:white;stroke-width:4\"/><line x1=\"459.256\" y1=\"178.115\" x2=\"455.552\" y2=\"171.7\" stroke-linecap=\"round\" style=\"stroke:white;stroke-width:4\"/><line x1=\"455.552\" y1=\"171.7\" x2=\"462.959\" y2=\"171.7\" stroke-linecap=\"round\" style=\"stroke:white;stroke-width:4\"/><line x1=\"462.959\" y1=\"171.7\" x2=\"466.663\" y2=\"165.285\" stroke-linecap=\"round\" style=\"stroke:white;stroke-width:4\"/><line x1=\"466.663\" y1=\"165.285\" x2=\"470.367\" y2=\"171.7\" stroke-linecap=\"round\" style=\"stroke:white;stroke-width:4\"/><line x1=\"470.367\" y1=\"171.7\" x2=\"477.774\" y2=\"171.7\" stroke-linecap=\"round\" style=\"stroke:white;stroke-width:4\"/><line x1=\"477.774\" y1=\"171.7\" x2=\"474.07\" y2=\"178.115\" stroke-linecap=\"round\" style=\"stroke:white;stroke-width:4\"/><line x1=\"474.07\" y1=\"178.115\" x2=\"477.774\" y2=\"184.53\" stroke-linecap=\"round\" style=\"stroke:white;stroke-width:4\"/><line x1=\"477.774\" y1=\"184.53\" x2=\"485.181\" y2=\"184.53\" stroke-linecap=\"round\" style=\"stroke:white;stroke-width:4\"/><line x1=\"485.181\" y1=\"184.53\" x2=\"488.885\" y2=\"178.115\" stroke-linecap=\"round\" style=\"stroke:white;stroke-width:4\"/><line x1=\"488.885\" y1=\"178.115\" x2=\"492.589\" y2=\"184.53\" stroke-linecap=\"round\" style=\"stroke:white;stroke-width:4\"/><line x1=\"492.589\" y1=\"184.53\" x2=\"499.996\" y2=\"184.53\" stroke-linecap=\"round\" style=\"stroke:white;stroke-width:4\"/><line x1=\"499.996\" y1=\"184.53\" x2=\"496.292\" y2=\"190.945\" stroke-linecap=\"round\" style=\"stroke:white;stroke-width:4\"/><line x1=\"496.292\" y1=\"190.945\" x2=\"499.996\" y2=\"197.36\" stroke-linecap=\"round\" style=\"stroke:white;stroke-width:4\"/><line x1=\"499.996\" y1=\"197.36\" x2=\"492.589\" y2=\"197.36\" stroke-linecap=\"round\" style=\"stroke:white;stroke-width:4\"/><line x1=\"492.589\" y1=\"197.36\" x2=\"488.885\" y2=\"203.775\" stroke-linecap=\"round\" style=\"stroke:white;stroke-width:4\"/><line x1=\"488.885\" y1=\"203.775\" x2=\"492.589\" y2=\"210.19\" stroke-linecap=\"round\" style=\"stroke:white;stroke-width:4\"/><line x1=\"492.589\" y1=\"210.19\" x2=\"499.996\" y2=\"210.19\" stroke-linecap=\"round\" style=\"stroke:white;stroke-width:4\"/><line x1=\"499.996\" y1=\"210.19\" x2=\"496.292\" y2=\"216.605\" stroke-linecap=\"round\" style=\"stroke:white;stroke-width:4\"/><line x1=\"496.292\" y1=\"216.605\" x2=\"499.996\" y2=\"223.02\" stroke-linecap=\"round\" style=\"stroke:white;stroke-width:4\"/><line x1=\"499.996\" y1=\"223.02\" x2=\"492.589\" y2=\"223.02\" stroke-linecap=\"round\" style=\"stroke:white;stroke-width:4\"/><line x1=\"492.589\" y1=\"223.02\" x2=\"488.885\" y2=\"229.435\" stroke-linecap=\"round\" style=\"stroke:white;stroke-width:4\"/><line x1=\"488.885\" y1=\"229.435\" x2=\"485.181\" y2=\"223.02\" stroke-linecap=\"round\" style=\"stroke:white;stroke-width:4\"/><line x1=\"485.181\" y1=\"223.02\" x2=\"477.774\" y2=\"223.02\" stroke-linecap=\"round\" style=\"stroke:white;stroke-width:4\"/><line x1=\"477.774\" y1=\"223.02\" x2=\"474.07\" y2=\"229.435\" stroke-linecap=\"round\" style=\"stroke:white;stroke-width:4\"/><line x1=\"474.07\" y1=\"229.435\" x2=\"477.774\" y2=\"235.85\" stroke-linecap=\"round\" style=\"stroke:white;stroke-width:4\"/><line x1=\"477.774\" y1=\"235.85\" x2=\"470.367\" y2=\"235.85\" stroke-linecap=\"round\" style=\"stroke:white;stroke-width:4\"/><line x1=\"470.367\" y1=\"235.85\" x2=\"466.663\" y2=\"242.265\" stroke-linecap=\"round\" style=\"stroke:white;stroke-width:4\"/><line x1=\"466.663\" y1=\"242.265\" x2=\"470.367\" y2=\"248.68\" stroke-linecap=\"round\" style=\"stroke:white;stroke-width:4\"/><line x1=\"470.367\" y1=\"248.68\" x2=\"477.774\" y2=\"248.68\" stroke-linecap=\"round\" style=\"stroke:white;stroke-width:4\"/><line x1=\"477.774\" y1=\"248.68\" x2=\"474.07\" y2=\"255.095\" stroke-linecap=\"round\" style=\"stroke:white;stroke-width:4\"/><line x1=\"474.07\" y1=\"255.095\" x2=\"477.774\" y2=\"261.51\" stroke-linecap=\"round\" style=\"stroke:white;stroke-width:4\"/><line x1=\"477.774\" y1=\"261.51\" x2=\"485.181\" y2=\"261.51\" stroke-linecap=\"round\" style=\"stroke:white;stroke-width:4\"/><line x1=\"485.181\" y1=\"261.51\" x2=\"488.885\" y2=\"255.095\" stroke-linecap=\"round\" style=\"stroke:white;stroke-width:4\"/><line x1=\"488.885\" y1=\"255.095\" x2=\"492.589\" y2=\"261.51\" stroke-linecap=\"round\" style=\"stroke:white;stroke-width:4\"/><line x1=\"492.589\" y1=\"261.51\" x2=\"499.996\" y2=\"261.51\" stroke-linecap=\"round\" style=\"stroke:white;stroke-width:4\"/><line x1=\"499.996\" y1=\"261.51\" x2=\"496.292\" y2=\"267.925\" stroke-linecap=\"round\" style=\"stroke:white;stroke-width:4\"/><line x1=\"496.292\" y1=\"267.925\" x2=\"499.996\" y2=\"274.34\" stroke-linecap=\"round\" style=\"stroke:white;stroke-width:4\"/><line x1=\"499.996\" y1=\"274.34\" x2=\"492.589\" y2=\"274.34\" stroke-linecap=\"round\" style=\"stroke:white;stroke-width:4\"/><line x1=\"492.589\" y1=\"274.34\" x2=\"488.885\" y2=\"280.755\" stroke-linecap=\"round\" style=\"stroke:white;stroke-width:4\"/><line x1=\"488.885\" y1=\"280.755\" x2=\"492.589\" y2=\"287.17\" stroke-linecap=\"round\" style=\"stroke:white;stroke-width:4\"/><line x1=\"492.589\" y1=\"287.17\" x2=\"499.996\" y2=\"287.17\" stroke-linecap=\"round\" style=\"stroke:white;stroke-width:4\"/><line x1=\"499.996\" y1=\"287.17\" x2=\"496.292\" y2=\"293.585\" stroke-linecap=\"round\" style=\"stroke:white;stroke-width:4\"/><line x1=\"496.292\" y1=\"293.585\" x2=\"499.996\" y2=\"300.0\" stroke-linecap=\"round\" style=\"stroke:white;stroke-width:4\"/><line x1=\"499.996\" y1=\"300.0\" x2=\"507.403\" y2=\"300.0\" stroke-linecap=\"round\" style=\"stroke:white;stroke-width:4\"/><line x1=\"507.403\" y1=\"300.0\" x2=\"511.107\" y2=\"293.585\" stroke-linecap=\"round\" style=\"stroke:white;stroke-width:4\"/><line x1=\"511.107\" y1=\"293.585\" x2=\"514.811\" y2=\"300.0\" stroke-linecap=\"round\" style=\"stroke:white;stroke-width:4\"/><line x1=\"514.811\" y1=\"300.0\" x2=\"522.218\" y2=\"300.0\" stroke-linecap=\"round\" style=\"stroke:white;stroke-width:4\"/><line x1=\"522.218\" y1=\"300.0\" x2=\"525.922\" y2=\"293.585\" stroke-linecap=\"round\" style=\"stroke:white;stroke-width:4\"/><line x1=\"525.922\" y1=\"293.585\" x2=\"522.218\" y2=\"287.17\" stroke-linecap=\"round\" style=\"stroke:white;stroke-width:4\"/><line x1=\"522.218\" y1=\"287.17\" x2=\"529.625\" y2=\"287.17\" stroke-linecap=\"round\" style=\"stroke:white;stroke-width:4\"/><line x1=\"529.625\" y1=\"287.17\" x2=\"533.329\" y2=\"280.755\" stroke-linecap=\"round\" style=\"stroke:white;stroke-width:4\"/><line x1=\"533.329\" y1=\"280.755\" x2=\"537.033\" y2=\"287.17\" stroke-linecap=\"round\" style=\"stroke:white;stroke-width:4\"/><line x1=\"537.033\" y1=\"287.17\" x2=\"544.44\" y2=\"287.17\" stroke-linecap=\"round\" style=\"stroke:white;stroke-width:4\"/><line x1=\"544.44\" y1=\"287.17\" x2=\"540.736\" y2=\"293.585\" stroke-linecap=\"round\" style=\"stroke:white;stroke-width:4\"/><line x1=\"540.736\" y1=\"293.585\" x2=\"544.44\" y2=\"300.0\" stroke-linecap=\"round\" style=\"stroke:white;stroke-width:4\"/><line x1=\"544.44\" y1=\"300.0\" x2=\"551.847\" y2=\"300.0\" stroke-linecap=\"round\" style=\"stroke:white;stroke-width:4\"/><line x1=\"551.847\" y1=\"300.0\" x2=\"555.551\" y2=\"293.585\" stroke-linecap=\"round\" style=\"stroke:white;stroke-width:4\"/><line x1=\"555.551\" y1=\"293.585\" x2=\"559.255\" y2=\"300.0\" stroke-linecap=\"round\" style=\"stroke:white;stroke-width:4\"/><line x1=\"559.255\" y1=\"300.0\" x2=\"566.662\" y2=\"300.0\" stroke-linecap=\"round\" style=\"stroke:white;stroke-width:4\"/><line x1=\"566.662\" y1=\"300.0\" x2=\"570.366\" y2=\"293.585\" stroke-linecap=\"round\" style=\"stroke:white;stroke-width:4\"/><line x1=\"570.366\" y1=\"293.585\" x2=\"566.662\" y2=\"287.17\" stroke-linecap=\"round\" style=\"stroke:white;stroke-width:4\"/><line x1=\"566.662\" y1=\"287.17\" x2=\"574.069\" y2=\"287.17\" stroke-linecap=\"round\" style=\"stroke:white;stroke-width:4\"/><line x1=\"574.069\" y1=\"287.17\" x2=\"577.773\" y2=\"280.755\" stroke-linecap=\"round\" style=\"stroke:white;stroke-width:4\"/><line x1=\"577.773\" y1=\"280.755\" x2=\"574.069\" y2=\"274.34\" stroke-linecap=\"round\" style=\"stroke:white;stroke-width:4\"/><line x1=\"574.069\" y1=\"274.34\" x2=\"566.662\" y2=\"274.34\" stroke-linecap=\"round\" style=\"stroke:white;stroke-width:4\"/><line x1=\"566.662\" y1=\"274.34\" x2=\"570.366\" y2=\"267.925\" stroke-linecap=\"round\" style=\"stroke:white;stroke-width:4\"/><line x1=\"570.366\" y1=\"267.925\" x2=\"566.662\" y2=\"261.51\" stroke-linecap=\"round\" style=\"stroke:white;stroke-width:4\"/><line x1=\"566.662\" y1=\"261.51\" x2=\"574.069\" y2=\"261.51\" stroke-linecap=\"round\" style=\"stroke:white;stroke-width:4\"/><line x1=\"574.069\" y1=\"261.51\" x2=\"577.773\" y2=\"255.095\" stroke-linecap=\"round\" style=\"stroke:white;stroke-width:4\"/><line x1=\"577.773\" y1=\"255.095\" x2=\"581.477\" y2=\"261.51\" stroke-linecap=\"round\" style=\"stroke:white;stroke-width:4\"/><line x1=\"581.477\" y1=\"261.51\" x2=\"588.884\" y2=\"261.51\" stroke-linecap=\"round\" style=\"stroke:white;stroke-width:4\"/><line x1=\"588.884\" y1=\"261.51\" x2=\"592.588\" y2=\"255.095\" stroke-linecap=\"round\" style=\"stroke:white;stroke-width:4\"/><line x1=\"592.588\" y1=\"255.095\" x2=\"588.884\" y2=\"248.68\" stroke-linecap=\"round\" style=\"stroke:white;stroke-width:4\"/><line x1=\"588.884\" y1=\"248.68\" x2=\"596.291\" y2=\"248.68\" stroke-linecap=\"round\" style=\"stroke:white;stroke-width:4\"/><line x1=\"596.291\" y1=\"248.68\" x2=\"599.995\" y2=\"242.265\" stroke-linecap=\"round\" style=\"stroke:white;stroke-width:4\"/><line x1=\"599.995\" y1=\"242.265\" x2=\"603.699\" y2=\"248.68\" stroke-linecap=\"round\" style=\"stroke:white;stroke-width:4\"/><line x1=\"603.699\" y1=\"248.68\" x2=\"611.106\" y2=\"248.68\" stroke-linecap=\"round\" style=\"stroke:white;stroke-width:4\"/><line x1=\"611.106\" y1=\"248.68\" x2=\"607.402\" y2=\"255.095\" stroke-linecap=\"round\" style=\"stroke:white;stroke-width:4\"/><line x1=\"607.402\" y1=\"255.095\" x2=\"611.106\" y2=\"261.51\" stroke-linecap=\"round\" style=\"stroke:white;stroke-width:4\"/><line x1=\"611.106\" y1=\"261.51\" x2=\"618.513\" y2=\"261.51\" stroke-linecap=\"round\" style=\"stroke:white;stroke-width:4\"/><line x1=\"618.513\" y1=\"261.51\" x2=\"622.217\" y2=\"255.095\" stroke-linecap=\"round\" style=\"stroke:white;stroke-width:4\"/><line x1=\"622.217\" y1=\"255.095\" x2=\"625.921\" y2=\"261.51\" stroke-linecap=\"round\" style=\"stroke:white;stroke-width:4\"/><line x1=\"625.921\" y1=\"261.51\" x2=\"633.328\" y2=\"261.51\" stroke-linecap=\"round\" style=\"stroke:white;stroke-width:4\"/><line x1=\"633.328\" y1=\"261.51\" x2=\"629.624\" y2=\"267.925\" stroke-linecap=\"round\" style=\"stroke:white;stroke-width:4\"/><line x1=\"629.624\" y1=\"267.925\" x2=\"633.328\" y2=\"274.34\" stroke-linecap=\"round\" style=\"stroke:white;stroke-width:4\"/><line x1=\"633.328\" y1=\"274.34\" x2=\"625.921\" y2=\"274.34\" stroke-linecap=\"round\" style=\"stroke:white;stroke-width:4\"/><line x1=\"625.921\" y1=\"274.34\" x2=\"622.217\" y2=\"280.755\" stroke-linecap=\"round\" style=\"stroke:white;stroke-width:4\"/><line x1=\"622.217\" y1=\"280.755\" x2=\"625.921\" y2=\"287.17\" stroke-linecap=\"round\" style=\"stroke:white;stroke-width:4\"/><line x1=\"625.921\" y1=\"287.17\" x2=\"633.328\" y2=\"287.17\" stroke-linecap=\"round\" style=\"stroke:white;stroke-width:4\"/><line x1=\"633.328\" y1=\"287.17\" x2=\"629.624\" y2=\"293.585\" stroke-linecap=\"round\" style=\"stroke:white;stroke-width:4\"/><line x1=\"629.624\" y1=\"293.585\" x2=\"633.328\" y2=\"300.0\" stroke-linecap=\"round\" style=\"stroke:white;stroke-width:4\"/><line x1=\"633.328\" y1=\"300.0\" x2=\"640.735\" y2=\"300.0\" stroke-linecap=\"round\" style=\"stroke:white;stroke-width:4\"/><line x1=\"640.735\" y1=\"300.0\" x2=\"644.439\" y2=\"293.585\" stroke-linecap=\"round\" style=\"stroke:white;stroke-width:4\"/><line x1=\"644.439\" y1=\"293.585\" x2=\"648.143\" y2=\"300.0\" stroke-linecap=\"round\" style=\"stroke:white;stroke-width:4\"/><line x1=\"648.143\" y1=\"300.0\" x2=\"655.55\" y2=\"300.0\" stroke-linecap=\"round\" style=\"stroke:white;stroke-width:4\"/><line x1=\"655.55\" y1=\"300.0\" x2=\"659.254\" y2=\"293.585\" stroke-linecap=\"round\" style=\"stroke:white;stroke-width:4\"/><line x1=\"659.254\" y1=\"293.585\" x2=\"655.55\" y2=\"287.17\" stroke-linecap=\"round\" style=\"stroke:white;stroke-width:4\"/><line x1=\"655.55\" y1=\"287.17\" x2=\"662.957\" y2=\"287.17\" stroke-linecap=\"round\" style=\"stroke:white;stroke-width:4\"/><line x1=\"662.957\" y1=\"287.17\" x2=\"666.661\" y2=\"280.755\" stroke-linecap=\"round\" style=\"stroke:white;stroke-width:4\"/><line x1=\"666.661\" y1=\"280.755\" x2=\"670.365\" y2=\"287.17\" stroke-linecap=\"round\" style=\"stroke:white;stroke-width:4\"/><line x1=\"670.365\" y1=\"287.17\" x2=\"677.772\" y2=\"287.17\" stroke-linecap=\"round\" style=\"stroke:white;stroke-width:4\"/><line x1=\"677.772\" y1=\"287.17\" x2=\"674.068\" y2=\"293.585\" stroke-linecap=\"round\" style=\"stroke:white;stroke-width:4\"/><line x1=\"674.068\" y1=\"293.585\" x2=\"677.772\" y2=\"300.0\" stroke-linecap=\"round\" style=\"stroke:white;stroke-width:4\"/><line x1=\"677.772\" y1=\"300.0\" x2=\"685.179\" y2=\"300.0\" stroke-linecap=\"round\" style=\"stroke:white;stroke-width:4\"/><line x1=\"685.179\" y1=\"300.0\" x2=\"688.883\" y2=\"293.585\" stroke-linecap=\"round\" style=\"stroke:white;stroke-width:4\"/><line x1=\"688.883\" y1=\"293.585\" x2=\"692.587\" y2=\"300.0\" stroke-linecap=\"round\" style=\"stroke:white;stroke-width:4\"/><line x1=\"692.587\" y1=\"300.0\" x2=\"699.994\" y2=\"300.0\" stroke-linecap=\"round\" style=\"stroke:white;stroke-width:4\"/>\n",
              "        <g visibility=visible transform=\"rotate(90,699.994,300.0) translate(681.994, 282.0)\">\n",
              "<path style=\" stroke:none;fill-rule:evenodd;fill:white;fill-opacity:1;\" d=\"M 18.214844 0.632812 C 16.109375 1.800781 15.011719 4.074219 15.074219 7.132812 L 15.085938 7.652344 L 14.785156 7.496094 C 13.476562 6.824219 11.957031 6.671875 10.40625 7.066406 C 8.46875 7.550781 6.515625 9.15625 4.394531 11.992188 C 3.0625 13.777344 2.679688 14.636719 3.042969 15.027344 L 3.15625 15.152344 L 3.519531 15.152344 C 4.238281 15.152344 4.828125 14.886719 8.1875 13.039062 C 9.386719 12.378906 10.371094 11.839844 10.378906 11.839844 C 10.386719 11.839844 10.355469 11.929688 10.304688 12.035156 C 9.832031 13.09375 9.257812 14.820312 8.96875 16.078125 C 7.914062 20.652344 8.617188 24.53125 11.070312 27.660156 C 11.351562 28.015625 11.363281 27.914062 10.972656 28.382812 C 8.925781 30.84375 7.945312 33.28125 8.238281 35.1875 C 8.289062 35.527344 8.28125 35.523438 8.917969 35.523438 C 10.941406 35.523438 13.074219 34.207031 15.136719 31.6875 C 15.359375 31.417969 15.328125 31.425781 15.5625 31.574219 C 16.292969 32.042969 18.023438 32.964844 18.175781 32.964844 C 18.335938 32.964844 19.941406 32.210938 20.828125 31.71875 C 20.996094 31.625 21.136719 31.554688 21.136719 31.558594 C 21.203125 31.664062 21.898438 32.414062 22.222656 32.730469 C 23.835938 34.300781 25.5625 35.132812 27.582031 35.300781 C 27.90625 35.328125 27.9375 35.308594 28.007812 34.984375 C 28.382812 33.242188 27.625 30.925781 25.863281 28.425781 L 25.542969 27.96875 L 25.699219 27.785156 C 28.945312 23.960938 29.132812 18.699219 26.257812 11.96875 L 26.207031 11.84375 L 27.945312 12.703125 C 31.53125 14.476562 32.316406 14.800781 33.03125 14.800781 C 33.976562 14.800781 33.78125 13.9375 32.472656 12.292969 C 28.519531 7.355469 25.394531 5.925781 21.921875 7.472656 L 21.558594 7.636719 L 21.578125 7.542969 C 21.699219 6.992188 21.761719 5.742188 21.699219 5.164062 C 21.496094 3.296875 20.664062 1.964844 19.003906 0.855469 C 18.480469 0.503906 18.457031 0.5 18.214844 0.632812\"/>\n",
              "</g>\n",
              "      </svg>\n",
              "    "
            ],
            "text/plain": [
              "<IPython.core.display.HTML object>"
            ]
          },
          "metadata": {}
        }
      ]
    },
    {
      "cell_type": "markdown",
      "source": [
        "## Упражнение №4: снежинка Коха\n",
        "Три копии кривой Коха, построенные (остриями наружу) на сторонах правильного треугольника, образуют замкнутую кривую бесконечной длины, называемую снежинкой Коха. Нарисуйте ee."
      ],
      "metadata": {
        "id": "qUcsok0nkIG3"
      }
    },
    {
      "cell_type": "code",
      "source": [
        "!pip3 install ColabTurtle\n",
        "import ColabTurtle.Turtle as turtle\n",
        "\n",
        "\n",
        "def draw(l, n):\n",
        "  if n == 1:\n",
        "    turtle.forward(l)\n",
        "    turtle.left(60)\n",
        "    turtle.forward(l)\n",
        "    turtle.right(120)\n",
        "    turtle.forward(l)\n",
        "    turtle.left(60)\n",
        "    turtle.forward(l)\n",
        "    return\n",
        "  draw(l/3, n-1)\n",
        "  turtle.left(60)\n",
        "  draw(l/3, n-1)\n",
        "  turtle.right(120)\n",
        "  draw(l/3, n-1)\n",
        "  turtle.left(60)\n",
        "  draw(l/3, n-1)\n",
        "  \n",
        "REC_DEPTH = 3\n",
        "turtle.speed(13)\n",
        "turtle.initializeTurtle()\n",
        "turtle.penup()\n",
        "turtle.goto(200, 150)\n",
        "turtle.right(90)\n",
        "turtle.pendown()\n",
        "for i in range(3):\n",
        "  draw(120, REC_DEPTH)\n",
        "  turtle.right(120)\n"
      ],
      "metadata": {
        "colab": {
          "base_uri": "https://localhost:8080/",
          "height": 539
        },
        "id": "o80f3Jyskavx",
        "outputId": "b3e21f4b-3ce8-4032-bf8a-146484521a67"
      },
      "execution_count": null,
      "outputs": [
        {
          "output_type": "stream",
          "name": "stdout",
          "text": [
            "Requirement already satisfied: ColabTurtle in /usr/local/lib/python3.7/dist-packages (2.1.0)\n"
          ]
        },
        {
          "output_type": "display_data",
          "data": {
            "text/html": [
              "\n",
              "      <svg width=\"800\" height=\"500\">\n",
              "        <rect width=\"100%\" height=\"100%\" fill=\"black\"/>\n",
              "        <line x1=\"200\" y1=\"150\" x2=\"213.333\" y2=\"150.0\" stroke-linecap=\"round\" style=\"stroke:white;stroke-width:4\"/><line x1=\"213.333\" y1=\"150.0\" x2=\"220.0\" y2=\"138.453\" stroke-linecap=\"round\" style=\"stroke:white;stroke-width:4\"/><line x1=\"220.0\" y1=\"138.453\" x2=\"226.667\" y2=\"150.0\" stroke-linecap=\"round\" style=\"stroke:white;stroke-width:4\"/><line x1=\"226.667\" y1=\"150.0\" x2=\"240.0\" y2=\"150.0\" stroke-linecap=\"round\" style=\"stroke:white;stroke-width:4\"/><line x1=\"240.0\" y1=\"150.0\" x2=\"246.667\" y2=\"138.453\" stroke-linecap=\"round\" style=\"stroke:white;stroke-width:4\"/><line x1=\"246.667\" y1=\"138.453\" x2=\"240.0\" y2=\"126.906\" stroke-linecap=\"round\" style=\"stroke:white;stroke-width:4\"/><line x1=\"240.0\" y1=\"126.906\" x2=\"253.333\" y2=\"126.906\" stroke-linecap=\"round\" style=\"stroke:white;stroke-width:4\"/><line x1=\"253.333\" y1=\"126.906\" x2=\"260.0\" y2=\"115.359\" stroke-linecap=\"round\" style=\"stroke:white;stroke-width:4\"/><line x1=\"260.0\" y1=\"115.359\" x2=\"266.667\" y2=\"126.906\" stroke-linecap=\"round\" style=\"stroke:white;stroke-width:4\"/><line x1=\"266.667\" y1=\"126.906\" x2=\"280.0\" y2=\"126.906\" stroke-linecap=\"round\" style=\"stroke:white;stroke-width:4\"/><line x1=\"280.0\" y1=\"126.906\" x2=\"273.333\" y2=\"138.453\" stroke-linecap=\"round\" style=\"stroke:white;stroke-width:4\"/><line x1=\"273.333\" y1=\"138.453\" x2=\"280.0\" y2=\"150.0\" stroke-linecap=\"round\" style=\"stroke:white;stroke-width:4\"/><line x1=\"280.0\" y1=\"150.0\" x2=\"293.333\" y2=\"150.0\" stroke-linecap=\"round\" style=\"stroke:white;stroke-width:4\"/><line x1=\"293.333\" y1=\"150.0\" x2=\"300.0\" y2=\"138.453\" stroke-linecap=\"round\" style=\"stroke:white;stroke-width:4\"/><line x1=\"300.0\" y1=\"138.453\" x2=\"306.667\" y2=\"150.0\" stroke-linecap=\"round\" style=\"stroke:white;stroke-width:4\"/><line x1=\"306.667\" y1=\"150.0\" x2=\"320.0\" y2=\"150.0\" stroke-linecap=\"round\" style=\"stroke:white;stroke-width:4\"/><line x1=\"320.0\" y1=\"150.0\" x2=\"326.667\" y2=\"138.453\" stroke-linecap=\"round\" style=\"stroke:white;stroke-width:4\"/><line x1=\"326.667\" y1=\"138.453\" x2=\"320.0\" y2=\"126.906\" stroke-linecap=\"round\" style=\"stroke:white;stroke-width:4\"/><line x1=\"320.0\" y1=\"126.906\" x2=\"333.333\" y2=\"126.906\" stroke-linecap=\"round\" style=\"stroke:white;stroke-width:4\"/><line x1=\"333.333\" y1=\"126.906\" x2=\"340.0\" y2=\"115.359\" stroke-linecap=\"round\" style=\"stroke:white;stroke-width:4\"/><line x1=\"340.0\" y1=\"115.359\" x2=\"333.333\" y2=\"103.812\" stroke-linecap=\"round\" style=\"stroke:white;stroke-width:4\"/><line x1=\"333.333\" y1=\"103.812\" x2=\"320.0\" y2=\"103.812\" stroke-linecap=\"round\" style=\"stroke:white;stroke-width:4\"/><line x1=\"320.0\" y1=\"103.812\" x2=\"326.667\" y2=\"92.265\" stroke-linecap=\"round\" style=\"stroke:white;stroke-width:4\"/><line x1=\"326.667\" y1=\"92.265\" x2=\"320.0\" y2=\"80.718\" stroke-linecap=\"round\" style=\"stroke:white;stroke-width:4\"/><line x1=\"320.0\" y1=\"80.718\" x2=\"333.333\" y2=\"80.718\" stroke-linecap=\"round\" style=\"stroke:white;stroke-width:4\"/><line x1=\"333.333\" y1=\"80.718\" x2=\"340.0\" y2=\"69.171\" stroke-linecap=\"round\" style=\"stroke:white;stroke-width:4\"/><line x1=\"340.0\" y1=\"69.171\" x2=\"346.667\" y2=\"80.718\" stroke-linecap=\"round\" style=\"stroke:white;stroke-width:4\"/><line x1=\"346.667\" y1=\"80.718\" x2=\"360.0\" y2=\"80.718\" stroke-linecap=\"round\" style=\"stroke:white;stroke-width:4\"/><line x1=\"360.0\" y1=\"80.718\" x2=\"366.667\" y2=\"69.171\" stroke-linecap=\"round\" style=\"stroke:white;stroke-width:4\"/><line x1=\"366.667\" y1=\"69.171\" x2=\"360.0\" y2=\"57.624\" stroke-linecap=\"round\" style=\"stroke:white;stroke-width:4\"/><line x1=\"360.0\" y1=\"57.624\" x2=\"373.333\" y2=\"57.624\" stroke-linecap=\"round\" style=\"stroke:white;stroke-width:4\"/><line x1=\"373.333\" y1=\"57.624\" x2=\"380.0\" y2=\"46.077\" stroke-linecap=\"round\" style=\"stroke:white;stroke-width:4\"/><line x1=\"380.0\" y1=\"46.077\" x2=\"386.667\" y2=\"57.624\" stroke-linecap=\"round\" style=\"stroke:white;stroke-width:4\"/><line x1=\"386.667\" y1=\"57.624\" x2=\"400.0\" y2=\"57.624\" stroke-linecap=\"round\" style=\"stroke:white;stroke-width:4\"/><line x1=\"400.0\" y1=\"57.624\" x2=\"393.333\" y2=\"69.171\" stroke-linecap=\"round\" style=\"stroke:white;stroke-width:4\"/><line x1=\"393.333\" y1=\"69.171\" x2=\"400.0\" y2=\"80.718\" stroke-linecap=\"round\" style=\"stroke:white;stroke-width:4\"/><line x1=\"400.0\" y1=\"80.718\" x2=\"413.333\" y2=\"80.718\" stroke-linecap=\"round\" style=\"stroke:white;stroke-width:4\"/><line x1=\"413.333\" y1=\"80.718\" x2=\"420.0\" y2=\"69.171\" stroke-linecap=\"round\" style=\"stroke:white;stroke-width:4\"/><line x1=\"420.0\" y1=\"69.171\" x2=\"426.667\" y2=\"80.718\" stroke-linecap=\"round\" style=\"stroke:white;stroke-width:4\"/><line x1=\"426.667\" y1=\"80.718\" x2=\"440.0\" y2=\"80.718\" stroke-linecap=\"round\" style=\"stroke:white;stroke-width:4\"/><line x1=\"440.0\" y1=\"80.718\" x2=\"433.333\" y2=\"92.265\" stroke-linecap=\"round\" style=\"stroke:white;stroke-width:4\"/><line x1=\"433.333\" y1=\"92.265\" x2=\"440.0\" y2=\"103.812\" stroke-linecap=\"round\" style=\"stroke:white;stroke-width:4\"/><line x1=\"440.0\" y1=\"103.812\" x2=\"426.667\" y2=\"103.812\" stroke-linecap=\"round\" style=\"stroke:white;stroke-width:4\"/><line x1=\"426.667\" y1=\"103.812\" x2=\"420.0\" y2=\"115.359\" stroke-linecap=\"round\" style=\"stroke:white;stroke-width:4\"/><line x1=\"420.0\" y1=\"115.359\" x2=\"426.667\" y2=\"126.906\" stroke-linecap=\"round\" style=\"stroke:white;stroke-width:4\"/><line x1=\"426.667\" y1=\"126.906\" x2=\"440.0\" y2=\"126.906\" stroke-linecap=\"round\" style=\"stroke:white;stroke-width:4\"/><line x1=\"440.0\" y1=\"126.906\" x2=\"433.333\" y2=\"138.453\" stroke-linecap=\"round\" style=\"stroke:white;stroke-width:4\"/><line x1=\"433.333\" y1=\"138.453\" x2=\"440.0\" y2=\"150.0\" stroke-linecap=\"round\" style=\"stroke:white;stroke-width:4\"/><line x1=\"440.0\" y1=\"150.0\" x2=\"453.333\" y2=\"150.0\" stroke-linecap=\"round\" style=\"stroke:white;stroke-width:4\"/><line x1=\"453.333\" y1=\"150.0\" x2=\"460.0\" y2=\"138.453\" stroke-linecap=\"round\" style=\"stroke:white;stroke-width:4\"/><line x1=\"460.0\" y1=\"138.453\" x2=\"466.667\" y2=\"150.0\" stroke-linecap=\"round\" style=\"stroke:white;stroke-width:4\"/><line x1=\"466.667\" y1=\"150.0\" x2=\"480.0\" y2=\"150.0\" stroke-linecap=\"round\" style=\"stroke:white;stroke-width:4\"/><line x1=\"480.0\" y1=\"150.0\" x2=\"486.667\" y2=\"138.453\" stroke-linecap=\"round\" style=\"stroke:white;stroke-width:4\"/><line x1=\"486.667\" y1=\"138.453\" x2=\"480.0\" y2=\"126.906\" stroke-linecap=\"round\" style=\"stroke:white;stroke-width:4\"/><line x1=\"480.0\" y1=\"126.906\" x2=\"493.333\" y2=\"126.906\" stroke-linecap=\"round\" style=\"stroke:white;stroke-width:4\"/><line x1=\"493.333\" y1=\"126.906\" x2=\"500.0\" y2=\"115.359\" stroke-linecap=\"round\" style=\"stroke:white;stroke-width:4\"/><line x1=\"500.0\" y1=\"115.359\" x2=\"506.667\" y2=\"126.906\" stroke-linecap=\"round\" style=\"stroke:white;stroke-width:4\"/><line x1=\"506.667\" y1=\"126.906\" x2=\"520.0\" y2=\"126.906\" stroke-linecap=\"round\" style=\"stroke:white;stroke-width:4\"/><line x1=\"520.0\" y1=\"126.906\" x2=\"513.333\" y2=\"138.453\" stroke-linecap=\"round\" style=\"stroke:white;stroke-width:4\"/><line x1=\"513.333\" y1=\"138.453\" x2=\"520.0\" y2=\"150.0\" stroke-linecap=\"round\" style=\"stroke:white;stroke-width:4\"/><line x1=\"520.0\" y1=\"150.0\" x2=\"533.333\" y2=\"150.0\" stroke-linecap=\"round\" style=\"stroke:white;stroke-width:4\"/><line x1=\"533.333\" y1=\"150.0\" x2=\"540.0\" y2=\"138.453\" stroke-linecap=\"round\" style=\"stroke:white;stroke-width:4\"/><line x1=\"540.0\" y1=\"138.453\" x2=\"546.667\" y2=\"150.0\" stroke-linecap=\"round\" style=\"stroke:white;stroke-width:4\"/><line x1=\"546.667\" y1=\"150.0\" x2=\"560.0\" y2=\"150.0\" stroke-linecap=\"round\" style=\"stroke:white;stroke-width:4\"/><line x1=\"560.0\" y1=\"150.0\" x2=\"553.333\" y2=\"161.547\" stroke-linecap=\"round\" style=\"stroke:white;stroke-width:4\"/><line x1=\"553.333\" y1=\"161.547\" x2=\"560.0\" y2=\"173.094\" stroke-linecap=\"round\" style=\"stroke:white;stroke-width:4\"/><line x1=\"560.0\" y1=\"173.094\" x2=\"546.667\" y2=\"173.094\" stroke-linecap=\"round\" style=\"stroke:white;stroke-width:4\"/><line x1=\"546.667\" y1=\"173.094\" x2=\"540.0\" y2=\"184.641\" stroke-linecap=\"round\" style=\"stroke:white;stroke-width:4\"/><line x1=\"540.0\" y1=\"184.641\" x2=\"546.667\" y2=\"196.188\" stroke-linecap=\"round\" style=\"stroke:white;stroke-width:4\"/><line x1=\"546.667\" y1=\"196.188\" x2=\"560.0\" y2=\"196.188\" stroke-linecap=\"round\" style=\"stroke:white;stroke-width:4\"/><line x1=\"560.0\" y1=\"196.188\" x2=\"553.333\" y2=\"207.735\" stroke-linecap=\"round\" style=\"stroke:white;stroke-width:4\"/><line x1=\"553.333\" y1=\"207.735\" x2=\"560.0\" y2=\"219.282\" stroke-linecap=\"round\" style=\"stroke:white;stroke-width:4\"/><line x1=\"560.0\" y1=\"219.282\" x2=\"546.667\" y2=\"219.282\" stroke-linecap=\"round\" style=\"stroke:white;stroke-width:4\"/><line x1=\"546.667\" y1=\"219.282\" x2=\"540.0\" y2=\"230.829\" stroke-linecap=\"round\" style=\"stroke:white;stroke-width:4\"/><line x1=\"540.0\" y1=\"230.829\" x2=\"533.333\" y2=\"219.282\" stroke-linecap=\"round\" style=\"stroke:white;stroke-width:4\"/><line x1=\"533.333\" y1=\"219.282\" x2=\"520.0\" y2=\"219.282\" stroke-linecap=\"round\" style=\"stroke:white;stroke-width:4\"/><line x1=\"520.0\" y1=\"219.282\" x2=\"513.333\" y2=\"230.829\" stroke-linecap=\"round\" style=\"stroke:white;stroke-width:4\"/><line x1=\"513.333\" y1=\"230.829\" x2=\"520.0\" y2=\"242.376\" stroke-linecap=\"round\" style=\"stroke:white;stroke-width:4\"/><line x1=\"520.0\" y1=\"242.376\" x2=\"506.667\" y2=\"242.376\" stroke-linecap=\"round\" style=\"stroke:white;stroke-width:4\"/><line x1=\"506.667\" y1=\"242.376\" x2=\"500.0\" y2=\"253.923\" stroke-linecap=\"round\" style=\"stroke:white;stroke-width:4\"/><line x1=\"500.0\" y1=\"253.923\" x2=\"506.667\" y2=\"265.47\" stroke-linecap=\"round\" style=\"stroke:white;stroke-width:4\"/><line x1=\"506.667\" y1=\"265.47\" x2=\"520.0\" y2=\"265.47\" stroke-linecap=\"round\" style=\"stroke:white;stroke-width:4\"/><line x1=\"520.0\" y1=\"265.47\" x2=\"513.333\" y2=\"277.017\" stroke-linecap=\"round\" style=\"stroke:white;stroke-width:4\"/><line x1=\"513.333\" y1=\"277.017\" x2=\"520.0\" y2=\"288.564\" stroke-linecap=\"round\" style=\"stroke:white;stroke-width:4\"/><line x1=\"520.0\" y1=\"288.564\" x2=\"533.333\" y2=\"288.564\" stroke-linecap=\"round\" style=\"stroke:white;stroke-width:4\"/><line x1=\"533.333\" y1=\"288.564\" x2=\"540.0\" y2=\"277.017\" stroke-linecap=\"round\" style=\"stroke:white;stroke-width:4\"/><line x1=\"540.0\" y1=\"277.017\" x2=\"546.667\" y2=\"288.564\" stroke-linecap=\"round\" style=\"stroke:white;stroke-width:4\"/><line x1=\"546.667\" y1=\"288.564\" x2=\"560.0\" y2=\"288.564\" stroke-linecap=\"round\" style=\"stroke:white;stroke-width:4\"/><line x1=\"560.0\" y1=\"288.564\" x2=\"553.333\" y2=\"300.111\" stroke-linecap=\"round\" style=\"stroke:white;stroke-width:4\"/><line x1=\"553.333\" y1=\"300.111\" x2=\"560.0\" y2=\"311.658\" stroke-linecap=\"round\" style=\"stroke:white;stroke-width:4\"/><line x1=\"560.0\" y1=\"311.658\" x2=\"546.667\" y2=\"311.658\" stroke-linecap=\"round\" style=\"stroke:white;stroke-width:4\"/><line x1=\"546.667\" y1=\"311.658\" x2=\"540.0\" y2=\"323.205\" stroke-linecap=\"round\" style=\"stroke:white;stroke-width:4\"/><line x1=\"540.0\" y1=\"323.205\" x2=\"546.667\" y2=\"334.752\" stroke-linecap=\"round\" style=\"stroke:white;stroke-width:4\"/><line x1=\"546.667\" y1=\"334.752\" x2=\"560.0\" y2=\"334.752\" stroke-linecap=\"round\" style=\"stroke:white;stroke-width:4\"/><line x1=\"560.0\" y1=\"334.752\" x2=\"553.333\" y2=\"346.299\" stroke-linecap=\"round\" style=\"stroke:white;stroke-width:4\"/><line x1=\"553.333\" y1=\"346.299\" x2=\"560.0\" y2=\"357.846\" stroke-linecap=\"round\" style=\"stroke:white;stroke-width:4\"/><line x1=\"560.0\" y1=\"357.846\" x2=\"546.667\" y2=\"357.846\" stroke-linecap=\"round\" style=\"stroke:white;stroke-width:4\"/><line x1=\"546.667\" y1=\"357.846\" x2=\"540.0\" y2=\"369.393\" stroke-linecap=\"round\" style=\"stroke:white;stroke-width:4\"/><line x1=\"540.0\" y1=\"369.393\" x2=\"533.333\" y2=\"357.846\" stroke-linecap=\"round\" style=\"stroke:white;stroke-width:4\"/><line x1=\"533.333\" y1=\"357.846\" x2=\"520.0\" y2=\"357.846\" stroke-linecap=\"round\" style=\"stroke:white;stroke-width:4\"/><line x1=\"520.0\" y1=\"357.846\" x2=\"513.333\" y2=\"369.393\" stroke-linecap=\"round\" style=\"stroke:white;stroke-width:4\"/><line x1=\"513.333\" y1=\"369.393\" x2=\"520.0\" y2=\"380.94\" stroke-linecap=\"round\" style=\"stroke:white;stroke-width:4\"/><line x1=\"520.0\" y1=\"380.94\" x2=\"506.667\" y2=\"380.94\" stroke-linecap=\"round\" style=\"stroke:white;stroke-width:4\"/><line x1=\"506.667\" y1=\"380.94\" x2=\"500.0\" y2=\"392.487\" stroke-linecap=\"round\" style=\"stroke:white;stroke-width:4\"/><line x1=\"500.0\" y1=\"392.487\" x2=\"493.333\" y2=\"380.94\" stroke-linecap=\"round\" style=\"stroke:white;stroke-width:4\"/><line x1=\"493.333\" y1=\"380.94\" x2=\"480.0\" y2=\"380.94\" stroke-linecap=\"round\" style=\"stroke:white;stroke-width:4\"/><line x1=\"480.0\" y1=\"380.94\" x2=\"486.667\" y2=\"369.393\" stroke-linecap=\"round\" style=\"stroke:white;stroke-width:4\"/><line x1=\"486.667\" y1=\"369.393\" x2=\"480.0\" y2=\"357.846\" stroke-linecap=\"round\" style=\"stroke:white;stroke-width:4\"/><line x1=\"480.0\" y1=\"357.846\" x2=\"466.667\" y2=\"357.846\" stroke-linecap=\"round\" style=\"stroke:white;stroke-width:4\"/><line x1=\"466.667\" y1=\"357.846\" x2=\"460.0\" y2=\"369.393\" stroke-linecap=\"round\" style=\"stroke:white;stroke-width:4\"/><line x1=\"460.0\" y1=\"369.393\" x2=\"453.333\" y2=\"357.846\" stroke-linecap=\"round\" style=\"stroke:white;stroke-width:4\"/><line x1=\"453.333\" y1=\"357.846\" x2=\"440.0\" y2=\"357.846\" stroke-linecap=\"round\" style=\"stroke:white;stroke-width:4\"/><line x1=\"440.0\" y1=\"357.846\" x2=\"433.333\" y2=\"369.393\" stroke-linecap=\"round\" style=\"stroke:white;stroke-width:4\"/><line x1=\"433.333\" y1=\"369.393\" x2=\"440.0\" y2=\"380.94\" stroke-linecap=\"round\" style=\"stroke:white;stroke-width:4\"/><line x1=\"440.0\" y1=\"380.94\" x2=\"426.667\" y2=\"380.94\" stroke-linecap=\"round\" style=\"stroke:white;stroke-width:4\"/><line x1=\"426.667\" y1=\"380.94\" x2=\"420.0\" y2=\"392.487\" stroke-linecap=\"round\" style=\"stroke:white;stroke-width:4\"/><line x1=\"420.0\" y1=\"392.487\" x2=\"426.667\" y2=\"404.034\" stroke-linecap=\"round\" style=\"stroke:white;stroke-width:4\"/><line x1=\"426.667\" y1=\"404.034\" x2=\"440.0\" y2=\"404.034\" stroke-linecap=\"round\" style=\"stroke:white;stroke-width:4\"/><line x1=\"440.0\" y1=\"404.034\" x2=\"433.333\" y2=\"415.581\" stroke-linecap=\"round\" style=\"stroke:white;stroke-width:4\"/><line x1=\"433.333\" y1=\"415.581\" x2=\"440.0\" y2=\"427.128\" stroke-linecap=\"round\" style=\"stroke:white;stroke-width:4\"/><line x1=\"440.0\" y1=\"427.128\" x2=\"426.667\" y2=\"427.128\" stroke-linecap=\"round\" style=\"stroke:white;stroke-width:4\"/><line x1=\"426.667\" y1=\"427.128\" x2=\"420.0\" y2=\"438.675\" stroke-linecap=\"round\" style=\"stroke:white;stroke-width:4\"/><line x1=\"420.0\" y1=\"438.675\" x2=\"413.333\" y2=\"427.128\" stroke-linecap=\"round\" style=\"stroke:white;stroke-width:4\"/><line x1=\"413.333\" y1=\"427.128\" x2=\"400.0\" y2=\"427.128\" stroke-linecap=\"round\" style=\"stroke:white;stroke-width:4\"/><line x1=\"400.0\" y1=\"427.128\" x2=\"393.333\" y2=\"438.675\" stroke-linecap=\"round\" style=\"stroke:white;stroke-width:4\"/><line x1=\"393.333\" y1=\"438.675\" x2=\"400.0\" y2=\"450.222\" stroke-linecap=\"round\" style=\"stroke:white;stroke-width:4\"/><line x1=\"400.0\" y1=\"450.222\" x2=\"386.667\" y2=\"450.222\" stroke-linecap=\"round\" style=\"stroke:white;stroke-width:4\"/><line x1=\"386.667\" y1=\"450.222\" x2=\"380.0\" y2=\"461.769\" stroke-linecap=\"round\" style=\"stroke:white;stroke-width:4\"/><line x1=\"380.0\" y1=\"461.769\" x2=\"373.333\" y2=\"450.222\" stroke-linecap=\"round\" style=\"stroke:white;stroke-width:4\"/><line x1=\"373.333\" y1=\"450.222\" x2=\"360.0\" y2=\"450.222\" stroke-linecap=\"round\" style=\"stroke:white;stroke-width:4\"/><line x1=\"360.0\" y1=\"450.222\" x2=\"366.667\" y2=\"438.675\" stroke-linecap=\"round\" style=\"stroke:white;stroke-width:4\"/><line x1=\"366.667\" y1=\"438.675\" x2=\"360.0\" y2=\"427.128\" stroke-linecap=\"round\" style=\"stroke:white;stroke-width:4\"/><line x1=\"360.0\" y1=\"427.128\" x2=\"346.667\" y2=\"427.128\" stroke-linecap=\"round\" style=\"stroke:white;stroke-width:4\"/><line x1=\"346.667\" y1=\"427.128\" x2=\"340.0\" y2=\"438.675\" stroke-linecap=\"round\" style=\"stroke:white;stroke-width:4\"/><line x1=\"340.0\" y1=\"438.675\" x2=\"333.333\" y2=\"427.128\" stroke-linecap=\"round\" style=\"stroke:white;stroke-width:4\"/><line x1=\"333.333\" y1=\"427.128\" x2=\"320.0\" y2=\"427.128\" stroke-linecap=\"round\" style=\"stroke:white;stroke-width:4\"/><line x1=\"320.0\" y1=\"427.128\" x2=\"326.667\" y2=\"415.581\" stroke-linecap=\"round\" style=\"stroke:white;stroke-width:4\"/><line x1=\"326.667\" y1=\"415.581\" x2=\"320.0\" y2=\"404.034\" stroke-linecap=\"round\" style=\"stroke:white;stroke-width:4\"/><line x1=\"320.0\" y1=\"404.034\" x2=\"333.333\" y2=\"404.034\" stroke-linecap=\"round\" style=\"stroke:white;stroke-width:4\"/><line x1=\"333.333\" y1=\"404.034\" x2=\"340.0\" y2=\"392.487\" stroke-linecap=\"round\" style=\"stroke:white;stroke-width:4\"/><line x1=\"340.0\" y1=\"392.487\" x2=\"333.333\" y2=\"380.94\" stroke-linecap=\"round\" style=\"stroke:white;stroke-width:4\"/><line x1=\"333.333\" y1=\"380.94\" x2=\"320.0\" y2=\"380.94\" stroke-linecap=\"round\" style=\"stroke:white;stroke-width:4\"/><line x1=\"320.0\" y1=\"380.94\" x2=\"326.667\" y2=\"369.393\" stroke-linecap=\"round\" style=\"stroke:white;stroke-width:4\"/><line x1=\"326.667\" y1=\"369.393\" x2=\"320.0\" y2=\"357.846\" stroke-linecap=\"round\" style=\"stroke:white;stroke-width:4\"/><line x1=\"320.0\" y1=\"357.846\" x2=\"306.667\" y2=\"357.846\" stroke-linecap=\"round\" style=\"stroke:white;stroke-width:4\"/><line x1=\"306.667\" y1=\"357.846\" x2=\"300.0\" y2=\"369.393\" stroke-linecap=\"round\" style=\"stroke:white;stroke-width:4\"/><line x1=\"300.0\" y1=\"369.393\" x2=\"293.333\" y2=\"357.846\" stroke-linecap=\"round\" style=\"stroke:white;stroke-width:4\"/><line x1=\"293.333\" y1=\"357.846\" x2=\"280.0\" y2=\"357.846\" stroke-linecap=\"round\" style=\"stroke:white;stroke-width:4\"/><line x1=\"280.0\" y1=\"357.846\" x2=\"273.333\" y2=\"369.393\" stroke-linecap=\"round\" style=\"stroke:white;stroke-width:4\"/><line x1=\"273.333\" y1=\"369.393\" x2=\"280.0\" y2=\"380.94\" stroke-linecap=\"round\" style=\"stroke:white;stroke-width:4\"/><line x1=\"280.0\" y1=\"380.94\" x2=\"266.667\" y2=\"380.94\" stroke-linecap=\"round\" style=\"stroke:white;stroke-width:4\"/><line x1=\"266.667\" y1=\"380.94\" x2=\"260.0\" y2=\"392.487\" stroke-linecap=\"round\" style=\"stroke:white;stroke-width:4\"/><line x1=\"260.0\" y1=\"392.487\" x2=\"253.333\" y2=\"380.94\" stroke-linecap=\"round\" style=\"stroke:white;stroke-width:4\"/><line x1=\"253.333\" y1=\"380.94\" x2=\"240.0\" y2=\"380.94\" stroke-linecap=\"round\" style=\"stroke:white;stroke-width:4\"/><line x1=\"240.0\" y1=\"380.94\" x2=\"246.667\" y2=\"369.393\" stroke-linecap=\"round\" style=\"stroke:white;stroke-width:4\"/><line x1=\"246.667\" y1=\"369.393\" x2=\"240.0\" y2=\"357.846\" stroke-linecap=\"round\" style=\"stroke:white;stroke-width:4\"/><line x1=\"240.0\" y1=\"357.846\" x2=\"226.667\" y2=\"357.846\" stroke-linecap=\"round\" style=\"stroke:white;stroke-width:4\"/><line x1=\"226.667\" y1=\"357.846\" x2=\"220.0\" y2=\"369.393\" stroke-linecap=\"round\" style=\"stroke:white;stroke-width:4\"/><line x1=\"220.0\" y1=\"369.393\" x2=\"213.333\" y2=\"357.846\" stroke-linecap=\"round\" style=\"stroke:white;stroke-width:4\"/><line x1=\"213.333\" y1=\"357.846\" x2=\"200.0\" y2=\"357.846\" stroke-linecap=\"round\" style=\"stroke:white;stroke-width:4\"/><line x1=\"200.0\" y1=\"357.846\" x2=\"206.667\" y2=\"346.299\" stroke-linecap=\"round\" style=\"stroke:white;stroke-width:4\"/><line x1=\"206.667\" y1=\"346.299\" x2=\"200.0\" y2=\"334.752\" stroke-linecap=\"round\" style=\"stroke:white;stroke-width:4\"/><line x1=\"200.0\" y1=\"334.752\" x2=\"213.333\" y2=\"334.752\" stroke-linecap=\"round\" style=\"stroke:white;stroke-width:4\"/><line x1=\"213.333\" y1=\"334.752\" x2=\"220.0\" y2=\"323.205\" stroke-linecap=\"round\" style=\"stroke:white;stroke-width:4\"/><line x1=\"220.0\" y1=\"323.205\" x2=\"213.333\" y2=\"311.658\" stroke-linecap=\"round\" style=\"stroke:white;stroke-width:4\"/><line x1=\"213.333\" y1=\"311.658\" x2=\"200.0\" y2=\"311.658\" stroke-linecap=\"round\" style=\"stroke:white;stroke-width:4\"/><line x1=\"200.0\" y1=\"311.658\" x2=\"206.667\" y2=\"300.111\" stroke-linecap=\"round\" style=\"stroke:white;stroke-width:4\"/><line x1=\"206.667\" y1=\"300.111\" x2=\"200.0\" y2=\"288.564\" stroke-linecap=\"round\" style=\"stroke:white;stroke-width:4\"/><line x1=\"200.0\" y1=\"288.564\" x2=\"213.333\" y2=\"288.564\" stroke-linecap=\"round\" style=\"stroke:white;stroke-width:4\"/><line x1=\"213.333\" y1=\"288.564\" x2=\"220.0\" y2=\"277.017\" stroke-linecap=\"round\" style=\"stroke:white;stroke-width:4\"/><line x1=\"220.0\" y1=\"277.017\" x2=\"226.667\" y2=\"288.564\" stroke-linecap=\"round\" style=\"stroke:white;stroke-width:4\"/><line x1=\"226.667\" y1=\"288.564\" x2=\"240.0\" y2=\"288.564\" stroke-linecap=\"round\" style=\"stroke:white;stroke-width:4\"/><line x1=\"240.0\" y1=\"288.564\" x2=\"246.667\" y2=\"277.017\" stroke-linecap=\"round\" style=\"stroke:white;stroke-width:4\"/><line x1=\"246.667\" y1=\"277.017\" x2=\"240.0\" y2=\"265.47\" stroke-linecap=\"round\" style=\"stroke:white;stroke-width:4\"/><line x1=\"240.0\" y1=\"265.47\" x2=\"253.333\" y2=\"265.47\" stroke-linecap=\"round\" style=\"stroke:white;stroke-width:4\"/><line x1=\"253.333\" y1=\"265.47\" x2=\"260.0\" y2=\"253.923\" stroke-linecap=\"round\" style=\"stroke:white;stroke-width:4\"/><line x1=\"260.0\" y1=\"253.923\" x2=\"253.333\" y2=\"242.376\" stroke-linecap=\"round\" style=\"stroke:white;stroke-width:4\"/><line x1=\"253.333\" y1=\"242.376\" x2=\"240.0\" y2=\"242.376\" stroke-linecap=\"round\" style=\"stroke:white;stroke-width:4\"/><line x1=\"240.0\" y1=\"242.376\" x2=\"246.667\" y2=\"230.829\" stroke-linecap=\"round\" style=\"stroke:white;stroke-width:4\"/><line x1=\"246.667\" y1=\"230.829\" x2=\"240.0\" y2=\"219.282\" stroke-linecap=\"round\" style=\"stroke:white;stroke-width:4\"/><line x1=\"240.0\" y1=\"219.282\" x2=\"226.667\" y2=\"219.282\" stroke-linecap=\"round\" style=\"stroke:white;stroke-width:4\"/><line x1=\"226.667\" y1=\"219.282\" x2=\"220.0\" y2=\"230.829\" stroke-linecap=\"round\" style=\"stroke:white;stroke-width:4\"/><line x1=\"220.0\" y1=\"230.829\" x2=\"213.333\" y2=\"219.282\" stroke-linecap=\"round\" style=\"stroke:white;stroke-width:4\"/><line x1=\"213.333\" y1=\"219.282\" x2=\"200.0\" y2=\"219.282\" stroke-linecap=\"round\" style=\"stroke:white;stroke-width:4\"/><line x1=\"200.0\" y1=\"219.282\" x2=\"206.667\" y2=\"207.735\" stroke-linecap=\"round\" style=\"stroke:white;stroke-width:4\"/><line x1=\"206.667\" y1=\"207.735\" x2=\"200.0\" y2=\"196.188\" stroke-linecap=\"round\" style=\"stroke:white;stroke-width:4\"/><line x1=\"200.0\" y1=\"196.188\" x2=\"213.333\" y2=\"196.188\" stroke-linecap=\"round\" style=\"stroke:white;stroke-width:4\"/><line x1=\"213.333\" y1=\"196.188\" x2=\"220.0\" y2=\"184.641\" stroke-linecap=\"round\" style=\"stroke:white;stroke-width:4\"/><line x1=\"220.0\" y1=\"184.641\" x2=\"213.333\" y2=\"173.094\" stroke-linecap=\"round\" style=\"stroke:white;stroke-width:4\"/><line x1=\"213.333\" y1=\"173.094\" x2=\"200.0\" y2=\"173.094\" stroke-linecap=\"round\" style=\"stroke:white;stroke-width:4\"/><line x1=\"200.0\" y1=\"173.094\" x2=\"206.667\" y2=\"161.547\" stroke-linecap=\"round\" style=\"stroke:white;stroke-width:4\"/><line x1=\"206.667\" y1=\"161.547\" x2=\"200.0\" y2=\"150.0\" stroke-linecap=\"round\" style=\"stroke:white;stroke-width:4\"/>\n",
              "        <g visibility=visible transform=\"rotate(90,200.0,150.0) translate(182.0, 132.0)\">\n",
              "<path style=\" stroke:none;fill-rule:evenodd;fill:white;fill-opacity:1;\" d=\"M 18.214844 0.632812 C 16.109375 1.800781 15.011719 4.074219 15.074219 7.132812 L 15.085938 7.652344 L 14.785156 7.496094 C 13.476562 6.824219 11.957031 6.671875 10.40625 7.066406 C 8.46875 7.550781 6.515625 9.15625 4.394531 11.992188 C 3.0625 13.777344 2.679688 14.636719 3.042969 15.027344 L 3.15625 15.152344 L 3.519531 15.152344 C 4.238281 15.152344 4.828125 14.886719 8.1875 13.039062 C 9.386719 12.378906 10.371094 11.839844 10.378906 11.839844 C 10.386719 11.839844 10.355469 11.929688 10.304688 12.035156 C 9.832031 13.09375 9.257812 14.820312 8.96875 16.078125 C 7.914062 20.652344 8.617188 24.53125 11.070312 27.660156 C 11.351562 28.015625 11.363281 27.914062 10.972656 28.382812 C 8.925781 30.84375 7.945312 33.28125 8.238281 35.1875 C 8.289062 35.527344 8.28125 35.523438 8.917969 35.523438 C 10.941406 35.523438 13.074219 34.207031 15.136719 31.6875 C 15.359375 31.417969 15.328125 31.425781 15.5625 31.574219 C 16.292969 32.042969 18.023438 32.964844 18.175781 32.964844 C 18.335938 32.964844 19.941406 32.210938 20.828125 31.71875 C 20.996094 31.625 21.136719 31.554688 21.136719 31.558594 C 21.203125 31.664062 21.898438 32.414062 22.222656 32.730469 C 23.835938 34.300781 25.5625 35.132812 27.582031 35.300781 C 27.90625 35.328125 27.9375 35.308594 28.007812 34.984375 C 28.382812 33.242188 27.625 30.925781 25.863281 28.425781 L 25.542969 27.96875 L 25.699219 27.785156 C 28.945312 23.960938 29.132812 18.699219 26.257812 11.96875 L 26.207031 11.84375 L 27.945312 12.703125 C 31.53125 14.476562 32.316406 14.800781 33.03125 14.800781 C 33.976562 14.800781 33.78125 13.9375 32.472656 12.292969 C 28.519531 7.355469 25.394531 5.925781 21.921875 7.472656 L 21.558594 7.636719 L 21.578125 7.542969 C 21.699219 6.992188 21.761719 5.742188 21.699219 5.164062 C 21.496094 3.296875 20.664062 1.964844 19.003906 0.855469 C 18.480469 0.503906 18.457031 0.5 18.214844 0.632812\"/>\n",
              "</g>\n",
              "      </svg>\n",
              "    "
            ],
            "text/plain": [
              "<IPython.core.display.HTML object>"
            ]
          },
          "metadata": {}
        }
      ]
    },
    {
      "cell_type": "code",
      "source": [
        "!pip3 install ColabTurtle\n",
        "import ColabTurtle.Turtle as turtle\n",
        "\n",
        "''' Вывернем снежинку наизнанку и поправим основную функцию '''\n",
        "def koh(l, n):\n",
        "  if n == 0:\n",
        "    turtle.forward(3*l)\n",
        "    return\n",
        "  koh(l/3, n-1)\n",
        "  turtle.left(60)\n",
        "  koh(l/3, n-1)\n",
        "  turtle.right(120)\n",
        "  koh(l/3, n-1)\n",
        "  turtle.left(60)\n",
        "  koh(l/3, n-1)\n",
        "  \n",
        "REC_DEPTH = 3\n",
        "turtle.speed(13)\n",
        "turtle.initializeTurtle()\n",
        "turtle.penup()\n",
        "turtle.goto(200, 450)\n",
        "turtle.right(90)\n",
        "turtle.pendown()\n",
        "for i in range(3):\n",
        "  koh(150, REC_DEPTH)\n",
        "  turtle.left(120)\n"
      ],
      "metadata": {
        "colab": {
          "base_uri": "https://localhost:8080/",
          "height": 539
        },
        "outputId": "e0aed341-5a1c-4e93-848c-8c1b1a35081c",
        "id": "IInYbKDkhcsC"
      },
      "execution_count": null,
      "outputs": [
        {
          "output_type": "stream",
          "name": "stdout",
          "text": [
            "Requirement already satisfied: ColabTurtle in /usr/local/lib/python3.7/dist-packages (2.1.0)\n"
          ]
        },
        {
          "output_type": "display_data",
          "data": {
            "text/html": [
              "\n",
              "      <svg width=\"800\" height=\"500\">\n",
              "        <rect width=\"100%\" height=\"100%\" fill=\"black\"/>\n",
              "        <line x1=\"200\" y1=\"450\" x2=\"216.667\" y2=\"450.0\" stroke-linecap=\"round\" style=\"stroke:white;stroke-width:4\"/><line x1=\"216.667\" y1=\"450.0\" x2=\"225.0\" y2=\"435.566\" stroke-linecap=\"round\" style=\"stroke:white;stroke-width:4\"/><line x1=\"225.0\" y1=\"435.566\" x2=\"233.333\" y2=\"450.0\" stroke-linecap=\"round\" style=\"stroke:white;stroke-width:4\"/><line x1=\"233.333\" y1=\"450.0\" x2=\"250.0\" y2=\"450.0\" stroke-linecap=\"round\" style=\"stroke:white;stroke-width:4\"/><line x1=\"250.0\" y1=\"450.0\" x2=\"258.333\" y2=\"435.566\" stroke-linecap=\"round\" style=\"stroke:white;stroke-width:4\"/><line x1=\"258.333\" y1=\"435.566\" x2=\"250.0\" y2=\"421.132\" stroke-linecap=\"round\" style=\"stroke:white;stroke-width:4\"/><line x1=\"250.0\" y1=\"421.132\" x2=\"266.667\" y2=\"421.132\" stroke-linecap=\"round\" style=\"stroke:white;stroke-width:4\"/><line x1=\"266.667\" y1=\"421.132\" x2=\"275.0\" y2=\"406.698\" stroke-linecap=\"round\" style=\"stroke:white;stroke-width:4\"/><line x1=\"275.0\" y1=\"406.698\" x2=\"283.333\" y2=\"421.132\" stroke-linecap=\"round\" style=\"stroke:white;stroke-width:4\"/><line x1=\"283.333\" y1=\"421.132\" x2=\"300.0\" y2=\"421.132\" stroke-linecap=\"round\" style=\"stroke:white;stroke-width:4\"/><line x1=\"300.0\" y1=\"421.132\" x2=\"291.667\" y2=\"435.566\" stroke-linecap=\"round\" style=\"stroke:white;stroke-width:4\"/><line x1=\"291.667\" y1=\"435.566\" x2=\"300.0\" y2=\"450.0\" stroke-linecap=\"round\" style=\"stroke:white;stroke-width:4\"/><line x1=\"300.0\" y1=\"450.0\" x2=\"316.667\" y2=\"450.0\" stroke-linecap=\"round\" style=\"stroke:white;stroke-width:4\"/><line x1=\"316.667\" y1=\"450.0\" x2=\"325.0\" y2=\"435.566\" stroke-linecap=\"round\" style=\"stroke:white;stroke-width:4\"/><line x1=\"325.0\" y1=\"435.566\" x2=\"333.333\" y2=\"450.0\" stroke-linecap=\"round\" style=\"stroke:white;stroke-width:4\"/><line x1=\"333.333\" y1=\"450.0\" x2=\"350.0\" y2=\"450.0\" stroke-linecap=\"round\" style=\"stroke:white;stroke-width:4\"/><line x1=\"350.0\" y1=\"450.0\" x2=\"358.333\" y2=\"435.566\" stroke-linecap=\"round\" style=\"stroke:white;stroke-width:4\"/><line x1=\"358.333\" y1=\"435.566\" x2=\"350.0\" y2=\"421.132\" stroke-linecap=\"round\" style=\"stroke:white;stroke-width:4\"/><line x1=\"350.0\" y1=\"421.132\" x2=\"366.667\" y2=\"421.132\" stroke-linecap=\"round\" style=\"stroke:white;stroke-width:4\"/><line x1=\"366.667\" y1=\"421.132\" x2=\"375.0\" y2=\"406.698\" stroke-linecap=\"round\" style=\"stroke:white;stroke-width:4\"/><line x1=\"375.0\" y1=\"406.698\" x2=\"366.667\" y2=\"392.264\" stroke-linecap=\"round\" style=\"stroke:white;stroke-width:4\"/><line x1=\"366.667\" y1=\"392.264\" x2=\"350.0\" y2=\"392.264\" stroke-linecap=\"round\" style=\"stroke:white;stroke-width:4\"/><line x1=\"350.0\" y1=\"392.264\" x2=\"358.333\" y2=\"377.83\" stroke-linecap=\"round\" style=\"stroke:white;stroke-width:4\"/><line x1=\"358.333\" y1=\"377.83\" x2=\"350.0\" y2=\"363.396\" stroke-linecap=\"round\" style=\"stroke:white;stroke-width:4\"/><line x1=\"350.0\" y1=\"363.396\" x2=\"366.667\" y2=\"363.396\" stroke-linecap=\"round\" style=\"stroke:white;stroke-width:4\"/><line x1=\"366.667\" y1=\"363.396\" x2=\"375.0\" y2=\"348.962\" stroke-linecap=\"round\" style=\"stroke:white;stroke-width:4\"/><line x1=\"375.0\" y1=\"348.962\" x2=\"383.333\" y2=\"363.396\" stroke-linecap=\"round\" style=\"stroke:white;stroke-width:4\"/><line x1=\"383.333\" y1=\"363.396\" x2=\"400.0\" y2=\"363.396\" stroke-linecap=\"round\" style=\"stroke:white;stroke-width:4\"/><line x1=\"400.0\" y1=\"363.396\" x2=\"408.333\" y2=\"348.962\" stroke-linecap=\"round\" style=\"stroke:white;stroke-width:4\"/><line x1=\"408.333\" y1=\"348.962\" x2=\"400.0\" y2=\"334.528\" stroke-linecap=\"round\" style=\"stroke:white;stroke-width:4\"/><line x1=\"400.0\" y1=\"334.528\" x2=\"416.667\" y2=\"334.528\" stroke-linecap=\"round\" style=\"stroke:white;stroke-width:4\"/><line x1=\"416.667\" y1=\"334.528\" x2=\"425.0\" y2=\"320.094\" stroke-linecap=\"round\" style=\"stroke:white;stroke-width:4\"/><line x1=\"425.0\" y1=\"320.094\" x2=\"433.333\" y2=\"334.528\" stroke-linecap=\"round\" style=\"stroke:white;stroke-width:4\"/><line x1=\"433.333\" y1=\"334.528\" x2=\"450.0\" y2=\"334.528\" stroke-linecap=\"round\" style=\"stroke:white;stroke-width:4\"/><line x1=\"450.0\" y1=\"334.528\" x2=\"441.667\" y2=\"348.962\" stroke-linecap=\"round\" style=\"stroke:white;stroke-width:4\"/><line x1=\"441.667\" y1=\"348.962\" x2=\"450.0\" y2=\"363.396\" stroke-linecap=\"round\" style=\"stroke:white;stroke-width:4\"/><line x1=\"450.0\" y1=\"363.396\" x2=\"466.667\" y2=\"363.396\" stroke-linecap=\"round\" style=\"stroke:white;stroke-width:4\"/><line x1=\"466.667\" y1=\"363.396\" x2=\"475.0\" y2=\"348.962\" stroke-linecap=\"round\" style=\"stroke:white;stroke-width:4\"/><line x1=\"475.0\" y1=\"348.962\" x2=\"483.333\" y2=\"363.396\" stroke-linecap=\"round\" style=\"stroke:white;stroke-width:4\"/><line x1=\"483.333\" y1=\"363.396\" x2=\"500.0\" y2=\"363.396\" stroke-linecap=\"round\" style=\"stroke:white;stroke-width:4\"/><line x1=\"500.0\" y1=\"363.396\" x2=\"491.667\" y2=\"377.83\" stroke-linecap=\"round\" style=\"stroke:white;stroke-width:4\"/><line x1=\"491.667\" y1=\"377.83\" x2=\"500.0\" y2=\"392.264\" stroke-linecap=\"round\" style=\"stroke:white;stroke-width:4\"/><line x1=\"500.0\" y1=\"392.264\" x2=\"483.333\" y2=\"392.264\" stroke-linecap=\"round\" style=\"stroke:white;stroke-width:4\"/><line x1=\"483.333\" y1=\"392.264\" x2=\"475.0\" y2=\"406.698\" stroke-linecap=\"round\" style=\"stroke:white;stroke-width:4\"/><line x1=\"475.0\" y1=\"406.698\" x2=\"483.333\" y2=\"421.132\" stroke-linecap=\"round\" style=\"stroke:white;stroke-width:4\"/><line x1=\"483.333\" y1=\"421.132\" x2=\"500.0\" y2=\"421.132\" stroke-linecap=\"round\" style=\"stroke:white;stroke-width:4\"/><line x1=\"500.0\" y1=\"421.132\" x2=\"491.667\" y2=\"435.566\" stroke-linecap=\"round\" style=\"stroke:white;stroke-width:4\"/><line x1=\"491.667\" y1=\"435.566\" x2=\"500.0\" y2=\"450.0\" stroke-linecap=\"round\" style=\"stroke:white;stroke-width:4\"/><line x1=\"500.0\" y1=\"450.0\" x2=\"516.667\" y2=\"450.0\" stroke-linecap=\"round\" style=\"stroke:white;stroke-width:4\"/><line x1=\"516.667\" y1=\"450.0\" x2=\"525.0\" y2=\"435.566\" stroke-linecap=\"round\" style=\"stroke:white;stroke-width:4\"/><line x1=\"525.0\" y1=\"435.566\" x2=\"533.333\" y2=\"450.0\" stroke-linecap=\"round\" style=\"stroke:white;stroke-width:4\"/><line x1=\"533.333\" y1=\"450.0\" x2=\"550.0\" y2=\"450.0\" stroke-linecap=\"round\" style=\"stroke:white;stroke-width:4\"/><line x1=\"550.0\" y1=\"450.0\" x2=\"558.333\" y2=\"435.566\" stroke-linecap=\"round\" style=\"stroke:white;stroke-width:4\"/><line x1=\"558.333\" y1=\"435.566\" x2=\"550.0\" y2=\"421.132\" stroke-linecap=\"round\" style=\"stroke:white;stroke-width:4\"/><line x1=\"550.0\" y1=\"421.132\" x2=\"566.667\" y2=\"421.132\" stroke-linecap=\"round\" style=\"stroke:white;stroke-width:4\"/><line x1=\"566.667\" y1=\"421.132\" x2=\"575.0\" y2=\"406.698\" stroke-linecap=\"round\" style=\"stroke:white;stroke-width:4\"/><line x1=\"575.0\" y1=\"406.698\" x2=\"583.333\" y2=\"421.132\" stroke-linecap=\"round\" style=\"stroke:white;stroke-width:4\"/><line x1=\"583.333\" y1=\"421.132\" x2=\"600.0\" y2=\"421.132\" stroke-linecap=\"round\" style=\"stroke:white;stroke-width:4\"/><line x1=\"600.0\" y1=\"421.132\" x2=\"591.667\" y2=\"435.566\" stroke-linecap=\"round\" style=\"stroke:white;stroke-width:4\"/><line x1=\"591.667\" y1=\"435.566\" x2=\"600.0\" y2=\"450.0\" stroke-linecap=\"round\" style=\"stroke:white;stroke-width:4\"/><line x1=\"600.0\" y1=\"450.0\" x2=\"616.667\" y2=\"450.0\" stroke-linecap=\"round\" style=\"stroke:white;stroke-width:4\"/><line x1=\"616.667\" y1=\"450.0\" x2=\"625.0\" y2=\"435.566\" stroke-linecap=\"round\" style=\"stroke:white;stroke-width:4\"/><line x1=\"625.0\" y1=\"435.566\" x2=\"633.333\" y2=\"450.0\" stroke-linecap=\"round\" style=\"stroke:white;stroke-width:4\"/><line x1=\"633.333\" y1=\"450.0\" x2=\"650.0\" y2=\"450.0\" stroke-linecap=\"round\" style=\"stroke:white;stroke-width:4\"/><line x1=\"650.0\" y1=\"450.0\" x2=\"641.667\" y2=\"435.566\" stroke-linecap=\"round\" style=\"stroke:white;stroke-width:4\"/><line x1=\"641.667\" y1=\"435.566\" x2=\"625.0\" y2=\"435.566\" stroke-linecap=\"round\" style=\"stroke:white;stroke-width:4\"/><line x1=\"625.0\" y1=\"435.566\" x2=\"633.333\" y2=\"421.132\" stroke-linecap=\"round\" style=\"stroke:white;stroke-width:4\"/><line x1=\"633.333\" y1=\"421.132\" x2=\"625.0\" y2=\"406.698\" stroke-linecap=\"round\" style=\"stroke:white;stroke-width:4\"/><line x1=\"625.0\" y1=\"406.698\" x2=\"608.333\" y2=\"406.698\" stroke-linecap=\"round\" style=\"stroke:white;stroke-width:4\"/><line x1=\"608.333\" y1=\"406.698\" x2=\"600.0\" y2=\"421.132\" stroke-linecap=\"round\" style=\"stroke:white;stroke-width:4\"/><line x1=\"600.0\" y1=\"421.132\" x2=\"591.667\" y2=\"406.698\" stroke-linecap=\"round\" style=\"stroke:white;stroke-width:4\"/><line x1=\"591.667\" y1=\"406.698\" x2=\"575.0\" y2=\"406.698\" stroke-linecap=\"round\" style=\"stroke:white;stroke-width:4\"/><line x1=\"575.0\" y1=\"406.698\" x2=\"583.333\" y2=\"392.264\" stroke-linecap=\"round\" style=\"stroke:white;stroke-width:4\"/><line x1=\"583.333\" y1=\"392.264\" x2=\"575.0\" y2=\"377.83\" stroke-linecap=\"round\" style=\"stroke:white;stroke-width:4\"/><line x1=\"575.0\" y1=\"377.83\" x2=\"591.667\" y2=\"377.83\" stroke-linecap=\"round\" style=\"stroke:white;stroke-width:4\"/><line x1=\"591.667\" y1=\"377.83\" x2=\"600.0\" y2=\"363.396\" stroke-linecap=\"round\" style=\"stroke:white;stroke-width:4\"/><line x1=\"600.0\" y1=\"363.396\" x2=\"591.667\" y2=\"348.962\" stroke-linecap=\"round\" style=\"stroke:white;stroke-width:4\"/><line x1=\"591.667\" y1=\"348.962\" x2=\"575.0\" y2=\"348.962\" stroke-linecap=\"round\" style=\"stroke:white;stroke-width:4\"/><line x1=\"575.0\" y1=\"348.962\" x2=\"583.333\" y2=\"334.528\" stroke-linecap=\"round\" style=\"stroke:white;stroke-width:4\"/><line x1=\"583.333\" y1=\"334.528\" x2=\"575.0\" y2=\"320.094\" stroke-linecap=\"round\" style=\"stroke:white;stroke-width:4\"/><line x1=\"575.0\" y1=\"320.094\" x2=\"558.333\" y2=\"320.094\" stroke-linecap=\"round\" style=\"stroke:white;stroke-width:4\"/><line x1=\"558.333\" y1=\"320.094\" x2=\"550.0\" y2=\"334.528\" stroke-linecap=\"round\" style=\"stroke:white;stroke-width:4\"/><line x1=\"550.0\" y1=\"334.528\" x2=\"541.667\" y2=\"320.094\" stroke-linecap=\"round\" style=\"stroke:white;stroke-width:4\"/><line x1=\"541.667\" y1=\"320.094\" x2=\"525.0\" y2=\"320.094\" stroke-linecap=\"round\" style=\"stroke:white;stroke-width:4\"/><line x1=\"525.0\" y1=\"320.094\" x2=\"516.667\" y2=\"334.528\" stroke-linecap=\"round\" style=\"stroke:white;stroke-width:4\"/><line x1=\"516.667\" y1=\"334.528\" x2=\"525.0\" y2=\"348.962\" stroke-linecap=\"round\" style=\"stroke:white;stroke-width:4\"/><line x1=\"525.0\" y1=\"348.962\" x2=\"508.333\" y2=\"348.962\" stroke-linecap=\"round\" style=\"stroke:white;stroke-width:4\"/><line x1=\"508.333\" y1=\"348.962\" x2=\"500.0\" y2=\"363.396\" stroke-linecap=\"round\" style=\"stroke:white;stroke-width:4\"/><line x1=\"500.0\" y1=\"363.396\" x2=\"491.667\" y2=\"348.962\" stroke-linecap=\"round\" style=\"stroke:white;stroke-width:4\"/><line x1=\"491.667\" y1=\"348.962\" x2=\"475.0\" y2=\"348.962\" stroke-linecap=\"round\" style=\"stroke:white;stroke-width:4\"/><line x1=\"475.0\" y1=\"348.962\" x2=\"483.333\" y2=\"334.528\" stroke-linecap=\"round\" style=\"stroke:white;stroke-width:4\"/><line x1=\"483.333\" y1=\"334.528\" x2=\"475.0\" y2=\"320.094\" stroke-linecap=\"round\" style=\"stroke:white;stroke-width:4\"/><line x1=\"475.0\" y1=\"320.094\" x2=\"458.333\" y2=\"320.094\" stroke-linecap=\"round\" style=\"stroke:white;stroke-width:4\"/><line x1=\"458.333\" y1=\"320.094\" x2=\"450.0\" y2=\"334.528\" stroke-linecap=\"round\" style=\"stroke:white;stroke-width:4\"/><line x1=\"450.0\" y1=\"334.528\" x2=\"441.667\" y2=\"320.094\" stroke-linecap=\"round\" style=\"stroke:white;stroke-width:4\"/><line x1=\"441.667\" y1=\"320.094\" x2=\"425.0\" y2=\"320.094\" stroke-linecap=\"round\" style=\"stroke:white;stroke-width:4\"/><line x1=\"425.0\" y1=\"320.094\" x2=\"433.333\" y2=\"305.66\" stroke-linecap=\"round\" style=\"stroke:white;stroke-width:4\"/><line x1=\"433.333\" y1=\"305.66\" x2=\"425.0\" y2=\"291.226\" stroke-linecap=\"round\" style=\"stroke:white;stroke-width:4\"/><line x1=\"425.0\" y1=\"291.226\" x2=\"441.667\" y2=\"291.226\" stroke-linecap=\"round\" style=\"stroke:white;stroke-width:4\"/><line x1=\"441.667\" y1=\"291.226\" x2=\"450.0\" y2=\"276.792\" stroke-linecap=\"round\" style=\"stroke:white;stroke-width:4\"/><line x1=\"450.0\" y1=\"276.792\" x2=\"441.667\" y2=\"262.358\" stroke-linecap=\"round\" style=\"stroke:white;stroke-width:4\"/><line x1=\"441.667\" y1=\"262.358\" x2=\"425.0\" y2=\"262.358\" stroke-linecap=\"round\" style=\"stroke:white;stroke-width:4\"/><line x1=\"425.0\" y1=\"262.358\" x2=\"433.333\" y2=\"247.924\" stroke-linecap=\"round\" style=\"stroke:white;stroke-width:4\"/><line x1=\"433.333\" y1=\"247.924\" x2=\"425.0\" y2=\"233.49\" stroke-linecap=\"round\" style=\"stroke:white;stroke-width:4\"/><line x1=\"425.0\" y1=\"233.49\" x2=\"441.667\" y2=\"233.49\" stroke-linecap=\"round\" style=\"stroke:white;stroke-width:4\"/><line x1=\"441.667\" y1=\"233.49\" x2=\"450.0\" y2=\"219.056\" stroke-linecap=\"round\" style=\"stroke:white;stroke-width:4\"/><line x1=\"450.0\" y1=\"219.056\" x2=\"458.333\" y2=\"233.49\" stroke-linecap=\"round\" style=\"stroke:white;stroke-width:4\"/><line x1=\"458.333\" y1=\"233.49\" x2=\"475.0\" y2=\"233.49\" stroke-linecap=\"round\" style=\"stroke:white;stroke-width:4\"/><line x1=\"475.0\" y1=\"233.49\" x2=\"483.333\" y2=\"219.056\" stroke-linecap=\"round\" style=\"stroke:white;stroke-width:4\"/><line x1=\"483.333\" y1=\"219.056\" x2=\"475.0\" y2=\"204.622\" stroke-linecap=\"round\" style=\"stroke:white;stroke-width:4\"/><line x1=\"475.0\" y1=\"204.622\" x2=\"491.667\" y2=\"204.622\" stroke-linecap=\"round\" style=\"stroke:white;stroke-width:4\"/><line x1=\"491.667\" y1=\"204.622\" x2=\"500.0\" y2=\"190.188\" stroke-linecap=\"round\" style=\"stroke:white;stroke-width:4\"/><line x1=\"500.0\" y1=\"190.188\" x2=\"491.667\" y2=\"175.754\" stroke-linecap=\"round\" style=\"stroke:white;stroke-width:4\"/><line x1=\"491.667\" y1=\"175.754\" x2=\"475.0\" y2=\"175.754\" stroke-linecap=\"round\" style=\"stroke:white;stroke-width:4\"/><line x1=\"475.0\" y1=\"175.754\" x2=\"483.333\" y2=\"161.32\" stroke-linecap=\"round\" style=\"stroke:white;stroke-width:4\"/><line x1=\"483.333\" y1=\"161.32\" x2=\"475.0\" y2=\"146.886\" stroke-linecap=\"round\" style=\"stroke:white;stroke-width:4\"/><line x1=\"475.0\" y1=\"146.886\" x2=\"458.333\" y2=\"146.886\" stroke-linecap=\"round\" style=\"stroke:white;stroke-width:4\"/><line x1=\"458.333\" y1=\"146.886\" x2=\"450.0\" y2=\"161.32\" stroke-linecap=\"round\" style=\"stroke:white;stroke-width:4\"/><line x1=\"450.0\" y1=\"161.32\" x2=\"441.667\" y2=\"146.886\" stroke-linecap=\"round\" style=\"stroke:white;stroke-width:4\"/><line x1=\"441.667\" y1=\"146.886\" x2=\"425.0\" y2=\"146.886\" stroke-linecap=\"round\" style=\"stroke:white;stroke-width:4\"/><line x1=\"425.0\" y1=\"146.886\" x2=\"433.333\" y2=\"132.452\" stroke-linecap=\"round\" style=\"stroke:white;stroke-width:4\"/><line x1=\"433.333\" y1=\"132.452\" x2=\"425.0\" y2=\"118.018\" stroke-linecap=\"round\" style=\"stroke:white;stroke-width:4\"/><line x1=\"425.0\" y1=\"118.018\" x2=\"441.667\" y2=\"118.018\" stroke-linecap=\"round\" style=\"stroke:white;stroke-width:4\"/><line x1=\"441.667\" y1=\"118.018\" x2=\"450.0\" y2=\"103.584\" stroke-linecap=\"round\" style=\"stroke:white;stroke-width:4\"/><line x1=\"450.0\" y1=\"103.584\" x2=\"441.667\" y2=\"89.15\" stroke-linecap=\"round\" style=\"stroke:white;stroke-width:4\"/><line x1=\"441.667\" y1=\"89.15\" x2=\"425.0\" y2=\"89.15\" stroke-linecap=\"round\" style=\"stroke:white;stroke-width:4\"/><line x1=\"425.0\" y1=\"89.15\" x2=\"433.333\" y2=\"74.716\" stroke-linecap=\"round\" style=\"stroke:white;stroke-width:4\"/><line x1=\"433.333\" y1=\"74.716\" x2=\"425.0\" y2=\"60.282\" stroke-linecap=\"round\" style=\"stroke:white;stroke-width:4\"/><line x1=\"425.0\" y1=\"60.282\" x2=\"416.667\" y2=\"74.716\" stroke-linecap=\"round\" style=\"stroke:white;stroke-width:4\"/><line x1=\"416.667\" y1=\"74.716\" x2=\"425.0\" y2=\"89.15\" stroke-linecap=\"round\" style=\"stroke:white;stroke-width:4\"/><line x1=\"425.0\" y1=\"89.15\" x2=\"408.333\" y2=\"89.15\" stroke-linecap=\"round\" style=\"stroke:white;stroke-width:4\"/><line x1=\"408.333\" y1=\"89.15\" x2=\"400.0\" y2=\"103.584\" stroke-linecap=\"round\" style=\"stroke:white;stroke-width:4\"/><line x1=\"400.0\" y1=\"103.584\" x2=\"408.333\" y2=\"118.018\" stroke-linecap=\"round\" style=\"stroke:white;stroke-width:4\"/><line x1=\"408.333\" y1=\"118.018\" x2=\"425.0\" y2=\"118.018\" stroke-linecap=\"round\" style=\"stroke:white;stroke-width:4\"/><line x1=\"425.0\" y1=\"118.018\" x2=\"416.667\" y2=\"132.452\" stroke-linecap=\"round\" style=\"stroke:white;stroke-width:4\"/><line x1=\"416.667\" y1=\"132.452\" x2=\"425.0\" y2=\"146.886\" stroke-linecap=\"round\" style=\"stroke:white;stroke-width:4\"/><line x1=\"425.0\" y1=\"146.886\" x2=\"408.333\" y2=\"146.886\" stroke-linecap=\"round\" style=\"stroke:white;stroke-width:4\"/><line x1=\"408.333\" y1=\"146.886\" x2=\"400.0\" y2=\"161.32\" stroke-linecap=\"round\" style=\"stroke:white;stroke-width:4\"/><line x1=\"400.0\" y1=\"161.32\" x2=\"391.667\" y2=\"146.886\" stroke-linecap=\"round\" style=\"stroke:white;stroke-width:4\"/><line x1=\"391.667\" y1=\"146.886\" x2=\"375.0\" y2=\"146.886\" stroke-linecap=\"round\" style=\"stroke:white;stroke-width:4\"/><line x1=\"375.0\" y1=\"146.886\" x2=\"366.667\" y2=\"161.32\" stroke-linecap=\"round\" style=\"stroke:white;stroke-width:4\"/><line x1=\"366.667\" y1=\"161.32\" x2=\"375.0\" y2=\"175.754\" stroke-linecap=\"round\" style=\"stroke:white;stroke-width:4\"/><line x1=\"375.0\" y1=\"175.754\" x2=\"358.333\" y2=\"175.754\" stroke-linecap=\"round\" style=\"stroke:white;stroke-width:4\"/><line x1=\"358.333\" y1=\"175.754\" x2=\"350.0\" y2=\"190.188\" stroke-linecap=\"round\" style=\"stroke:white;stroke-width:4\"/><line x1=\"350.0\" y1=\"190.188\" x2=\"358.333\" y2=\"204.622\" stroke-linecap=\"round\" style=\"stroke:white;stroke-width:4\"/><line x1=\"358.333\" y1=\"204.622\" x2=\"375.0\" y2=\"204.622\" stroke-linecap=\"round\" style=\"stroke:white;stroke-width:4\"/><line x1=\"375.0\" y1=\"204.622\" x2=\"366.667\" y2=\"219.056\" stroke-linecap=\"round\" style=\"stroke:white;stroke-width:4\"/><line x1=\"366.667\" y1=\"219.056\" x2=\"375.0\" y2=\"233.49\" stroke-linecap=\"round\" style=\"stroke:white;stroke-width:4\"/><line x1=\"375.0\" y1=\"233.49\" x2=\"391.667\" y2=\"233.49\" stroke-linecap=\"round\" style=\"stroke:white;stroke-width:4\"/><line x1=\"391.667\" y1=\"233.49\" x2=\"400.0\" y2=\"219.056\" stroke-linecap=\"round\" style=\"stroke:white;stroke-width:4\"/><line x1=\"400.0\" y1=\"219.056\" x2=\"408.333\" y2=\"233.49\" stroke-linecap=\"round\" style=\"stroke:white;stroke-width:4\"/><line x1=\"408.333\" y1=\"233.49\" x2=\"425.0\" y2=\"233.49\" stroke-linecap=\"round\" style=\"stroke:white;stroke-width:4\"/><line x1=\"425.0\" y1=\"233.49\" x2=\"416.667\" y2=\"247.924\" stroke-linecap=\"round\" style=\"stroke:white;stroke-width:4\"/><line x1=\"416.667\" y1=\"247.924\" x2=\"425.0\" y2=\"262.358\" stroke-linecap=\"round\" style=\"stroke:white;stroke-width:4\"/><line x1=\"425.0\" y1=\"262.358\" x2=\"408.333\" y2=\"262.358\" stroke-linecap=\"round\" style=\"stroke:white;stroke-width:4\"/><line x1=\"408.333\" y1=\"262.358\" x2=\"400.0\" y2=\"276.792\" stroke-linecap=\"round\" style=\"stroke:white;stroke-width:4\"/><line x1=\"400.0\" y1=\"276.792\" x2=\"408.333\" y2=\"291.226\" stroke-linecap=\"round\" style=\"stroke:white;stroke-width:4\"/><line x1=\"408.333\" y1=\"291.226\" x2=\"425.0\" y2=\"291.226\" stroke-linecap=\"round\" style=\"stroke:white;stroke-width:4\"/><line x1=\"425.0\" y1=\"291.226\" x2=\"416.667\" y2=\"305.66\" stroke-linecap=\"round\" style=\"stroke:white;stroke-width:4\"/><line x1=\"416.667\" y1=\"305.66\" x2=\"425.0\" y2=\"320.094\" stroke-linecap=\"round\" style=\"stroke:white;stroke-width:4\"/><line x1=\"425.0\" y1=\"320.094\" x2=\"408.333\" y2=\"320.094\" stroke-linecap=\"round\" style=\"stroke:white;stroke-width:4\"/><line x1=\"408.333\" y1=\"320.094\" x2=\"400.0\" y2=\"334.528\" stroke-linecap=\"round\" style=\"stroke:white;stroke-width:4\"/><line x1=\"400.0\" y1=\"334.528\" x2=\"391.667\" y2=\"320.094\" stroke-linecap=\"round\" style=\"stroke:white;stroke-width:4\"/><line x1=\"391.667\" y1=\"320.094\" x2=\"375.0\" y2=\"320.094\" stroke-linecap=\"round\" style=\"stroke:white;stroke-width:4\"/><line x1=\"375.0\" y1=\"320.094\" x2=\"366.667\" y2=\"334.528\" stroke-linecap=\"round\" style=\"stroke:white;stroke-width:4\"/><line x1=\"366.667\" y1=\"334.528\" x2=\"375.0\" y2=\"348.962\" stroke-linecap=\"round\" style=\"stroke:white;stroke-width:4\"/><line x1=\"375.0\" y1=\"348.962\" x2=\"358.333\" y2=\"348.962\" stroke-linecap=\"round\" style=\"stroke:white;stroke-width:4\"/><line x1=\"358.333\" y1=\"348.962\" x2=\"350.0\" y2=\"363.396\" stroke-linecap=\"round\" style=\"stroke:white;stroke-width:4\"/><line x1=\"350.0\" y1=\"363.396\" x2=\"341.667\" y2=\"348.962\" stroke-linecap=\"round\" style=\"stroke:white;stroke-width:4\"/><line x1=\"341.667\" y1=\"348.962\" x2=\"325.0\" y2=\"348.962\" stroke-linecap=\"round\" style=\"stroke:white;stroke-width:4\"/><line x1=\"325.0\" y1=\"348.962\" x2=\"333.333\" y2=\"334.528\" stroke-linecap=\"round\" style=\"stroke:white;stroke-width:4\"/><line x1=\"333.333\" y1=\"334.528\" x2=\"325.0\" y2=\"320.094\" stroke-linecap=\"round\" style=\"stroke:white;stroke-width:4\"/><line x1=\"325.0\" y1=\"320.094\" x2=\"308.333\" y2=\"320.094\" stroke-linecap=\"round\" style=\"stroke:white;stroke-width:4\"/><line x1=\"308.333\" y1=\"320.094\" x2=\"300.0\" y2=\"334.528\" stroke-linecap=\"round\" style=\"stroke:white;stroke-width:4\"/><line x1=\"300.0\" y1=\"334.528\" x2=\"291.667\" y2=\"320.094\" stroke-linecap=\"round\" style=\"stroke:white;stroke-width:4\"/><line x1=\"291.667\" y1=\"320.094\" x2=\"275.0\" y2=\"320.094\" stroke-linecap=\"round\" style=\"stroke:white;stroke-width:4\"/><line x1=\"275.0\" y1=\"320.094\" x2=\"266.667\" y2=\"334.528\" stroke-linecap=\"round\" style=\"stroke:white;stroke-width:4\"/><line x1=\"266.667\" y1=\"334.528\" x2=\"275.0\" y2=\"348.962\" stroke-linecap=\"round\" style=\"stroke:white;stroke-width:4\"/><line x1=\"275.0\" y1=\"348.962\" x2=\"258.333\" y2=\"348.962\" stroke-linecap=\"round\" style=\"stroke:white;stroke-width:4\"/><line x1=\"258.333\" y1=\"348.962\" x2=\"250.0\" y2=\"363.396\" stroke-linecap=\"round\" style=\"stroke:white;stroke-width:4\"/><line x1=\"250.0\" y1=\"363.396\" x2=\"258.333\" y2=\"377.83\" stroke-linecap=\"round\" style=\"stroke:white;stroke-width:4\"/><line x1=\"258.333\" y1=\"377.83\" x2=\"275.0\" y2=\"377.83\" stroke-linecap=\"round\" style=\"stroke:white;stroke-width:4\"/><line x1=\"275.0\" y1=\"377.83\" x2=\"266.667\" y2=\"392.264\" stroke-linecap=\"round\" style=\"stroke:white;stroke-width:4\"/><line x1=\"266.667\" y1=\"392.264\" x2=\"275.0\" y2=\"406.698\" stroke-linecap=\"round\" style=\"stroke:white;stroke-width:4\"/><line x1=\"275.0\" y1=\"406.698\" x2=\"258.333\" y2=\"406.698\" stroke-linecap=\"round\" style=\"stroke:white;stroke-width:4\"/><line x1=\"258.333\" y1=\"406.698\" x2=\"250.0\" y2=\"421.132\" stroke-linecap=\"round\" style=\"stroke:white;stroke-width:4\"/><line x1=\"250.0\" y1=\"421.132\" x2=\"241.667\" y2=\"406.698\" stroke-linecap=\"round\" style=\"stroke:white;stroke-width:4\"/><line x1=\"241.667\" y1=\"406.698\" x2=\"225.0\" y2=\"406.698\" stroke-linecap=\"round\" style=\"stroke:white;stroke-width:4\"/><line x1=\"225.0\" y1=\"406.698\" x2=\"216.667\" y2=\"421.132\" stroke-linecap=\"round\" style=\"stroke:white;stroke-width:4\"/><line x1=\"216.667\" y1=\"421.132\" x2=\"225.0\" y2=\"435.566\" stroke-linecap=\"round\" style=\"stroke:white;stroke-width:4\"/><line x1=\"225.0\" y1=\"435.566\" x2=\"208.333\" y2=\"435.566\" stroke-linecap=\"round\" style=\"stroke:white;stroke-width:4\"/><line x1=\"208.333\" y1=\"435.566\" x2=\"200.0\" y2=\"450.0\" stroke-linecap=\"round\" style=\"stroke:white;stroke-width:4\"/>\n",
              "        <g visibility=visible transform=\"rotate(90,200.0,450.0) translate(182.0, 432.0)\">\n",
              "<path style=\" stroke:none;fill-rule:evenodd;fill:white;fill-opacity:1;\" d=\"M 18.214844 0.632812 C 16.109375 1.800781 15.011719 4.074219 15.074219 7.132812 L 15.085938 7.652344 L 14.785156 7.496094 C 13.476562 6.824219 11.957031 6.671875 10.40625 7.066406 C 8.46875 7.550781 6.515625 9.15625 4.394531 11.992188 C 3.0625 13.777344 2.679688 14.636719 3.042969 15.027344 L 3.15625 15.152344 L 3.519531 15.152344 C 4.238281 15.152344 4.828125 14.886719 8.1875 13.039062 C 9.386719 12.378906 10.371094 11.839844 10.378906 11.839844 C 10.386719 11.839844 10.355469 11.929688 10.304688 12.035156 C 9.832031 13.09375 9.257812 14.820312 8.96875 16.078125 C 7.914062 20.652344 8.617188 24.53125 11.070312 27.660156 C 11.351562 28.015625 11.363281 27.914062 10.972656 28.382812 C 8.925781 30.84375 7.945312 33.28125 8.238281 35.1875 C 8.289062 35.527344 8.28125 35.523438 8.917969 35.523438 C 10.941406 35.523438 13.074219 34.207031 15.136719 31.6875 C 15.359375 31.417969 15.328125 31.425781 15.5625 31.574219 C 16.292969 32.042969 18.023438 32.964844 18.175781 32.964844 C 18.335938 32.964844 19.941406 32.210938 20.828125 31.71875 C 20.996094 31.625 21.136719 31.554688 21.136719 31.558594 C 21.203125 31.664062 21.898438 32.414062 22.222656 32.730469 C 23.835938 34.300781 25.5625 35.132812 27.582031 35.300781 C 27.90625 35.328125 27.9375 35.308594 28.007812 34.984375 C 28.382812 33.242188 27.625 30.925781 25.863281 28.425781 L 25.542969 27.96875 L 25.699219 27.785156 C 28.945312 23.960938 29.132812 18.699219 26.257812 11.96875 L 26.207031 11.84375 L 27.945312 12.703125 C 31.53125 14.476562 32.316406 14.800781 33.03125 14.800781 C 33.976562 14.800781 33.78125 13.9375 32.472656 12.292969 C 28.519531 7.355469 25.394531 5.925781 21.921875 7.472656 L 21.558594 7.636719 L 21.578125 7.542969 C 21.699219 6.992188 21.761719 5.742188 21.699219 5.164062 C 21.496094 3.296875 20.664062 1.964844 19.003906 0.855469 C 18.480469 0.503906 18.457031 0.5 18.214844 0.632812\"/>\n",
              "</g>\n",
              "      </svg>\n",
              "    "
            ],
            "text/plain": [
              "<IPython.core.display.HTML object>"
            ]
          },
          "metadata": {}
        }
      ]
    },
    {
      "cell_type": "markdown",
      "source": [
        "## Упражнение №5 кривая Минковского\n",
        "Нарисуйте кривую Минковского. Кривая Минковского нулевого порядка - горизонтальный отрезок. Затем на каждом шаге каждый из отрезков заменяется на ломанную, состоящую из 8 звеньев."
      ],
      "metadata": {
        "id": "PaqlR-Acm9Fi"
      }
    },
    {
      "cell_type": "code",
      "source": [
        "!pip3 install ColabTurtle\n",
        "import ColabTurtle.Turtle as turtle\n",
        "\n",
        "\n",
        "def line_of_minkovskiy(l, n):  \n",
        "  x = l / 4\n",
        "  if n == 0:\n",
        "    turtle.forward(l)\n",
        "    return\n",
        "  line_of_minkovskiy(x, n-1)\n",
        "  turtle.left(90)\n",
        "  line_of_minkovskiy(x, n-1)\n",
        "  turtle.right(90)\n",
        "  line_of_minkovskiy(x, n-1)\n",
        "  turtle.right(90)\n",
        "  line_of_minkovskiy(x, n-1)\n",
        "  line_of_minkovskiy(x, n-1)\n",
        "  turtle.left(90)\n",
        "  line_of_minkovskiy(x, n-1)\n",
        "  turtle.left(90)\n",
        "  line_of_minkovskiy(x, n-1)\n",
        "  turtle.right(90)\n",
        "  line_of_minkovskiy(x, n-1)\n",
        "\n",
        "\n",
        "REC_DEPTH = 3\n",
        "turtle.speed(13)\n",
        "turtle.initializeTurtle()\n",
        "turtle.penup()\n",
        "turtle.goto(50, 240)\n",
        "turtle.right(90)\n",
        "turtle.pendown()\n",
        "line_of_minkovskiy(600, REC_DEPTH)\n",
        "\n",
        "  \n"
      ],
      "metadata": {
        "colab": {
          "base_uri": "https://localhost:8080/",
          "height": 539
        },
        "id": "QqKKAIEmnXdY",
        "outputId": "cf83db0b-8d41-4200-ef0a-99d16731161f"
      },
      "execution_count": null,
      "outputs": [
        {
          "output_type": "stream",
          "name": "stdout",
          "text": [
            "Requirement already satisfied: ColabTurtle in /usr/local/lib/python3.7/dist-packages (2.1.0)\n"
          ]
        },
        {
          "output_type": "display_data",
          "data": {
            "text/html": [
              "\n",
              "      <svg width=\"800\" height=\"500\">\n",
              "        <rect width=\"100%\" height=\"100%\" fill=\"black\"/>\n",
              "        <line x1=\"50\" y1=\"240\" x2=\"59.375\" y2=\"240.0\" stroke-linecap=\"round\" style=\"stroke:white;stroke-width:4\"/><line x1=\"59.375\" y1=\"240.0\" x2=\"59.375\" y2=\"230.625\" stroke-linecap=\"round\" style=\"stroke:white;stroke-width:4\"/><line x1=\"59.375\" y1=\"230.625\" x2=\"68.75\" y2=\"230.625\" stroke-linecap=\"round\" style=\"stroke:white;stroke-width:4\"/><line x1=\"68.75\" y1=\"230.625\" x2=\"68.75\" y2=\"240.0\" stroke-linecap=\"round\" style=\"stroke:white;stroke-width:4\"/><line x1=\"68.75\" y1=\"240.0\" x2=\"68.75\" y2=\"249.375\" stroke-linecap=\"round\" style=\"stroke:white;stroke-width:4\"/><line x1=\"68.75\" y1=\"249.375\" x2=\"78.125\" y2=\"249.375\" stroke-linecap=\"round\" style=\"stroke:white;stroke-width:4\"/><line x1=\"78.125\" y1=\"249.375\" x2=\"78.125\" y2=\"240.0\" stroke-linecap=\"round\" style=\"stroke:white;stroke-width:4\"/><line x1=\"78.125\" y1=\"240.0\" x2=\"87.5\" y2=\"240.0\" stroke-linecap=\"round\" style=\"stroke:white;stroke-width:4\"/><line x1=\"87.5\" y1=\"240.0\" x2=\"87.5\" y2=\"230.625\" stroke-linecap=\"round\" style=\"stroke:white;stroke-width:4\"/><line x1=\"87.5\" y1=\"230.625\" x2=\"78.125\" y2=\"230.625\" stroke-linecap=\"round\" style=\"stroke:white;stroke-width:4\"/><line x1=\"78.125\" y1=\"230.625\" x2=\"78.125\" y2=\"221.25\" stroke-linecap=\"round\" style=\"stroke:white;stroke-width:4\"/><line x1=\"78.125\" y1=\"221.25\" x2=\"87.5\" y2=\"221.25\" stroke-linecap=\"round\" style=\"stroke:white;stroke-width:4\"/><line x1=\"87.5\" y1=\"221.25\" x2=\"96.875\" y2=\"221.25\" stroke-linecap=\"round\" style=\"stroke:white;stroke-width:4\"/><line x1=\"96.875\" y1=\"221.25\" x2=\"96.875\" y2=\"211.875\" stroke-linecap=\"round\" style=\"stroke:white;stroke-width:4\"/><line x1=\"96.875\" y1=\"211.875\" x2=\"87.5\" y2=\"211.875\" stroke-linecap=\"round\" style=\"stroke:white;stroke-width:4\"/><line x1=\"87.5\" y1=\"211.875\" x2=\"87.5\" y2=\"202.5\" stroke-linecap=\"round\" style=\"stroke:white;stroke-width:4\"/><line x1=\"87.5\" y1=\"202.5\" x2=\"96.875\" y2=\"202.5\" stroke-linecap=\"round\" style=\"stroke:white;stroke-width:4\"/><line x1=\"96.875\" y1=\"202.5\" x2=\"96.875\" y2=\"193.125\" stroke-linecap=\"round\" style=\"stroke:white;stroke-width:4\"/><line x1=\"96.875\" y1=\"193.125\" x2=\"106.25\" y2=\"193.125\" stroke-linecap=\"round\" style=\"stroke:white;stroke-width:4\"/><line x1=\"106.25\" y1=\"193.125\" x2=\"106.25\" y2=\"202.5\" stroke-linecap=\"round\" style=\"stroke:white;stroke-width:4\"/><line x1=\"106.25\" y1=\"202.5\" x2=\"106.25\" y2=\"211.875\" stroke-linecap=\"round\" style=\"stroke:white;stroke-width:4\"/><line x1=\"106.25\" y1=\"211.875\" x2=\"115.625\" y2=\"211.875\" stroke-linecap=\"round\" style=\"stroke:white;stroke-width:4\"/><line x1=\"115.625\" y1=\"211.875\" x2=\"115.625\" y2=\"202.5\" stroke-linecap=\"round\" style=\"stroke:white;stroke-width:4\"/><line x1=\"115.625\" y1=\"202.5\" x2=\"125.0\" y2=\"202.5\" stroke-linecap=\"round\" style=\"stroke:white;stroke-width:4\"/><line x1=\"125.0\" y1=\"202.5\" x2=\"125.0\" y2=\"211.875\" stroke-linecap=\"round\" style=\"stroke:white;stroke-width:4\"/><line x1=\"125.0\" y1=\"211.875\" x2=\"134.375\" y2=\"211.875\" stroke-linecap=\"round\" style=\"stroke:white;stroke-width:4\"/><line x1=\"134.375\" y1=\"211.875\" x2=\"134.375\" y2=\"221.25\" stroke-linecap=\"round\" style=\"stroke:white;stroke-width:4\"/><line x1=\"134.375\" y1=\"221.25\" x2=\"125.0\" y2=\"221.25\" stroke-linecap=\"round\" style=\"stroke:white;stroke-width:4\"/><line x1=\"125.0\" y1=\"221.25\" x2=\"115.625\" y2=\"221.25\" stroke-linecap=\"round\" style=\"stroke:white;stroke-width:4\"/><line x1=\"115.625\" y1=\"221.25\" x2=\"115.625\" y2=\"230.625\" stroke-linecap=\"round\" style=\"stroke:white;stroke-width:4\"/><line x1=\"115.625\" y1=\"230.625\" x2=\"125.0\" y2=\"230.625\" stroke-linecap=\"round\" style=\"stroke:white;stroke-width:4\"/><line x1=\"125.0\" y1=\"230.625\" x2=\"125.0\" y2=\"240.0\" stroke-linecap=\"round\" style=\"stroke:white;stroke-width:4\"/><line x1=\"125.0\" y1=\"240.0\" x2=\"125.0\" y2=\"249.375\" stroke-linecap=\"round\" style=\"stroke:white;stroke-width:4\"/><line x1=\"125.0\" y1=\"249.375\" x2=\"134.375\" y2=\"249.375\" stroke-linecap=\"round\" style=\"stroke:white;stroke-width:4\"/><line x1=\"134.375\" y1=\"249.375\" x2=\"134.375\" y2=\"258.75\" stroke-linecap=\"round\" style=\"stroke:white;stroke-width:4\"/><line x1=\"134.375\" y1=\"258.75\" x2=\"125.0\" y2=\"258.75\" stroke-linecap=\"round\" style=\"stroke:white;stroke-width:4\"/><line x1=\"125.0\" y1=\"258.75\" x2=\"115.625\" y2=\"258.75\" stroke-linecap=\"round\" style=\"stroke:white;stroke-width:4\"/><line x1=\"115.625\" y1=\"258.75\" x2=\"115.625\" y2=\"268.125\" stroke-linecap=\"round\" style=\"stroke:white;stroke-width:4\"/><line x1=\"115.625\" y1=\"268.125\" x2=\"125.0\" y2=\"268.125\" stroke-linecap=\"round\" style=\"stroke:white;stroke-width:4\"/><line x1=\"125.0\" y1=\"268.125\" x2=\"125.0\" y2=\"277.5\" stroke-linecap=\"round\" style=\"stroke:white;stroke-width:4\"/><line x1=\"125.0\" y1=\"277.5\" x2=\"134.375\" y2=\"277.5\" stroke-linecap=\"round\" style=\"stroke:white;stroke-width:4\"/><line x1=\"134.375\" y1=\"277.5\" x2=\"134.375\" y2=\"268.125\" stroke-linecap=\"round\" style=\"stroke:white;stroke-width:4\"/><line x1=\"134.375\" y1=\"268.125\" x2=\"143.75\" y2=\"268.125\" stroke-linecap=\"round\" style=\"stroke:white;stroke-width:4\"/><line x1=\"143.75\" y1=\"268.125\" x2=\"143.75\" y2=\"277.5\" stroke-linecap=\"round\" style=\"stroke:white;stroke-width:4\"/><line x1=\"143.75\" y1=\"277.5\" x2=\"143.75\" y2=\"286.875\" stroke-linecap=\"round\" style=\"stroke:white;stroke-width:4\"/><line x1=\"143.75\" y1=\"286.875\" x2=\"153.125\" y2=\"286.875\" stroke-linecap=\"round\" style=\"stroke:white;stroke-width:4\"/><line x1=\"153.125\" y1=\"286.875\" x2=\"153.125\" y2=\"277.5\" stroke-linecap=\"round\" style=\"stroke:white;stroke-width:4\"/><line x1=\"153.125\" y1=\"277.5\" x2=\"162.5\" y2=\"277.5\" stroke-linecap=\"round\" style=\"stroke:white;stroke-width:4\"/><line x1=\"162.5\" y1=\"277.5\" x2=\"162.5\" y2=\"268.125\" stroke-linecap=\"round\" style=\"stroke:white;stroke-width:4\"/><line x1=\"162.5\" y1=\"268.125\" x2=\"153.125\" y2=\"268.125\" stroke-linecap=\"round\" style=\"stroke:white;stroke-width:4\"/><line x1=\"153.125\" y1=\"268.125\" x2=\"153.125\" y2=\"258.75\" stroke-linecap=\"round\" style=\"stroke:white;stroke-width:4\"/><line x1=\"153.125\" y1=\"258.75\" x2=\"162.5\" y2=\"258.75\" stroke-linecap=\"round\" style=\"stroke:white;stroke-width:4\"/><line x1=\"162.5\" y1=\"258.75\" x2=\"171.875\" y2=\"258.75\" stroke-linecap=\"round\" style=\"stroke:white;stroke-width:4\"/><line x1=\"171.875\" y1=\"258.75\" x2=\"171.875\" y2=\"249.375\" stroke-linecap=\"round\" style=\"stroke:white;stroke-width:4\"/><line x1=\"171.875\" y1=\"249.375\" x2=\"162.5\" y2=\"249.375\" stroke-linecap=\"round\" style=\"stroke:white;stroke-width:4\"/><line x1=\"162.5\" y1=\"249.375\" x2=\"162.5\" y2=\"240.0\" stroke-linecap=\"round\" style=\"stroke:white;stroke-width:4\"/><line x1=\"162.5\" y1=\"240.0\" x2=\"171.875\" y2=\"240.0\" stroke-linecap=\"round\" style=\"stroke:white;stroke-width:4\"/><line x1=\"171.875\" y1=\"240.0\" x2=\"171.875\" y2=\"230.625\" stroke-linecap=\"round\" style=\"stroke:white;stroke-width:4\"/><line x1=\"171.875\" y1=\"230.625\" x2=\"181.25\" y2=\"230.625\" stroke-linecap=\"round\" style=\"stroke:white;stroke-width:4\"/><line x1=\"181.25\" y1=\"230.625\" x2=\"181.25\" y2=\"240.0\" stroke-linecap=\"round\" style=\"stroke:white;stroke-width:4\"/><line x1=\"181.25\" y1=\"240.0\" x2=\"181.25\" y2=\"249.375\" stroke-linecap=\"round\" style=\"stroke:white;stroke-width:4\"/><line x1=\"181.25\" y1=\"249.375\" x2=\"190.625\" y2=\"249.375\" stroke-linecap=\"round\" style=\"stroke:white;stroke-width:4\"/><line x1=\"190.625\" y1=\"249.375\" x2=\"190.625\" y2=\"240.0\" stroke-linecap=\"round\" style=\"stroke:white;stroke-width:4\"/><line x1=\"190.625\" y1=\"240.0\" x2=\"200.0\" y2=\"240.0\" stroke-linecap=\"round\" style=\"stroke:white;stroke-width:4\"/><line x1=\"200.0\" y1=\"240.0\" x2=\"200.0\" y2=\"230.625\" stroke-linecap=\"round\" style=\"stroke:white;stroke-width:4\"/><line x1=\"200.0\" y1=\"230.625\" x2=\"190.625\" y2=\"230.625\" stroke-linecap=\"round\" style=\"stroke:white;stroke-width:4\"/><line x1=\"190.625\" y1=\"230.625\" x2=\"190.625\" y2=\"221.25\" stroke-linecap=\"round\" style=\"stroke:white;stroke-width:4\"/><line x1=\"190.625\" y1=\"221.25\" x2=\"200.0\" y2=\"221.25\" stroke-linecap=\"round\" style=\"stroke:white;stroke-width:4\"/><line x1=\"200.0\" y1=\"221.25\" x2=\"209.375\" y2=\"221.25\" stroke-linecap=\"round\" style=\"stroke:white;stroke-width:4\"/><line x1=\"209.375\" y1=\"221.25\" x2=\"209.375\" y2=\"211.875\" stroke-linecap=\"round\" style=\"stroke:white;stroke-width:4\"/><line x1=\"209.375\" y1=\"211.875\" x2=\"200.0\" y2=\"211.875\" stroke-linecap=\"round\" style=\"stroke:white;stroke-width:4\"/><line x1=\"200.0\" y1=\"211.875\" x2=\"200.0\" y2=\"202.5\" stroke-linecap=\"round\" style=\"stroke:white;stroke-width:4\"/><line x1=\"200.0\" y1=\"202.5\" x2=\"190.625\" y2=\"202.5\" stroke-linecap=\"round\" style=\"stroke:white;stroke-width:4\"/><line x1=\"190.625\" y1=\"202.5\" x2=\"190.625\" y2=\"211.875\" stroke-linecap=\"round\" style=\"stroke:white;stroke-width:4\"/><line x1=\"190.625\" y1=\"211.875\" x2=\"181.25\" y2=\"211.875\" stroke-linecap=\"round\" style=\"stroke:white;stroke-width:4\"/><line x1=\"181.25\" y1=\"211.875\" x2=\"181.25\" y2=\"202.5\" stroke-linecap=\"round\" style=\"stroke:white;stroke-width:4\"/><line x1=\"181.25\" y1=\"202.5\" x2=\"181.25\" y2=\"193.125\" stroke-linecap=\"round\" style=\"stroke:white;stroke-width:4\"/><line x1=\"181.25\" y1=\"193.125\" x2=\"171.875\" y2=\"193.125\" stroke-linecap=\"round\" style=\"stroke:white;stroke-width:4\"/><line x1=\"171.875\" y1=\"193.125\" x2=\"171.875\" y2=\"202.5\" stroke-linecap=\"round\" style=\"stroke:white;stroke-width:4\"/><line x1=\"171.875\" y1=\"202.5\" x2=\"162.5\" y2=\"202.5\" stroke-linecap=\"round\" style=\"stroke:white;stroke-width:4\"/><line x1=\"162.5\" y1=\"202.5\" x2=\"162.5\" y2=\"193.125\" stroke-linecap=\"round\" style=\"stroke:white;stroke-width:4\"/><line x1=\"162.5\" y1=\"193.125\" x2=\"153.125\" y2=\"193.125\" stroke-linecap=\"round\" style=\"stroke:white;stroke-width:4\"/><line x1=\"153.125\" y1=\"193.125\" x2=\"153.125\" y2=\"183.75\" stroke-linecap=\"round\" style=\"stroke:white;stroke-width:4\"/><line x1=\"153.125\" y1=\"183.75\" x2=\"162.5\" y2=\"183.75\" stroke-linecap=\"round\" style=\"stroke:white;stroke-width:4\"/><line x1=\"162.5\" y1=\"183.75\" x2=\"171.875\" y2=\"183.75\" stroke-linecap=\"round\" style=\"stroke:white;stroke-width:4\"/><line x1=\"171.875\" y1=\"183.75\" x2=\"171.875\" y2=\"174.375\" stroke-linecap=\"round\" style=\"stroke:white;stroke-width:4\"/><line x1=\"171.875\" y1=\"174.375\" x2=\"162.5\" y2=\"174.375\" stroke-linecap=\"round\" style=\"stroke:white;stroke-width:4\"/><line x1=\"162.5\" y1=\"174.375\" x2=\"162.5\" y2=\"165.0\" stroke-linecap=\"round\" style=\"stroke:white;stroke-width:4\"/><line x1=\"162.5\" y1=\"165.0\" x2=\"171.875\" y2=\"165.0\" stroke-linecap=\"round\" style=\"stroke:white;stroke-width:4\"/><line x1=\"171.875\" y1=\"165.0\" x2=\"171.875\" y2=\"155.625\" stroke-linecap=\"round\" style=\"stroke:white;stroke-width:4\"/><line x1=\"171.875\" y1=\"155.625\" x2=\"181.25\" y2=\"155.625\" stroke-linecap=\"round\" style=\"stroke:white;stroke-width:4\"/><line x1=\"181.25\" y1=\"155.625\" x2=\"181.25\" y2=\"165.0\" stroke-linecap=\"round\" style=\"stroke:white;stroke-width:4\"/><line x1=\"181.25\" y1=\"165.0\" x2=\"181.25\" y2=\"174.375\" stroke-linecap=\"round\" style=\"stroke:white;stroke-width:4\"/><line x1=\"181.25\" y1=\"174.375\" x2=\"190.625\" y2=\"174.375\" stroke-linecap=\"round\" style=\"stroke:white;stroke-width:4\"/><line x1=\"190.625\" y1=\"174.375\" x2=\"190.625\" y2=\"165.0\" stroke-linecap=\"round\" style=\"stroke:white;stroke-width:4\"/><line x1=\"190.625\" y1=\"165.0\" x2=\"200.0\" y2=\"165.0\" stroke-linecap=\"round\" style=\"stroke:white;stroke-width:4\"/><line x1=\"200.0\" y1=\"165.0\" x2=\"209.375\" y2=\"165.0\" stroke-linecap=\"round\" style=\"stroke:white;stroke-width:4\"/><line x1=\"209.375\" y1=\"165.0\" x2=\"209.375\" y2=\"155.625\" stroke-linecap=\"round\" style=\"stroke:white;stroke-width:4\"/><line x1=\"209.375\" y1=\"155.625\" x2=\"218.75\" y2=\"155.625\" stroke-linecap=\"round\" style=\"stroke:white;stroke-width:4\"/><line x1=\"218.75\" y1=\"155.625\" x2=\"218.75\" y2=\"165.0\" stroke-linecap=\"round\" style=\"stroke:white;stroke-width:4\"/><line x1=\"218.75\" y1=\"165.0\" x2=\"218.75\" y2=\"174.375\" stroke-linecap=\"round\" style=\"stroke:white;stroke-width:4\"/><line x1=\"218.75\" y1=\"174.375\" x2=\"228.125\" y2=\"174.375\" stroke-linecap=\"round\" style=\"stroke:white;stroke-width:4\"/><line x1=\"228.125\" y1=\"174.375\" x2=\"228.125\" y2=\"165.0\" stroke-linecap=\"round\" style=\"stroke:white;stroke-width:4\"/><line x1=\"228.125\" y1=\"165.0\" x2=\"237.5\" y2=\"165.0\" stroke-linecap=\"round\" style=\"stroke:white;stroke-width:4\"/><line x1=\"237.5\" y1=\"165.0\" x2=\"237.5\" y2=\"155.625\" stroke-linecap=\"round\" style=\"stroke:white;stroke-width:4\"/><line x1=\"237.5\" y1=\"155.625\" x2=\"228.125\" y2=\"155.625\" stroke-linecap=\"round\" style=\"stroke:white;stroke-width:4\"/><line x1=\"228.125\" y1=\"155.625\" x2=\"228.125\" y2=\"146.25\" stroke-linecap=\"round\" style=\"stroke:white;stroke-width:4\"/><line x1=\"228.125\" y1=\"146.25\" x2=\"237.5\" y2=\"146.25\" stroke-linecap=\"round\" style=\"stroke:white;stroke-width:4\"/><line x1=\"237.5\" y1=\"146.25\" x2=\"246.875\" y2=\"146.25\" stroke-linecap=\"round\" style=\"stroke:white;stroke-width:4\"/><line x1=\"246.875\" y1=\"146.25\" x2=\"246.875\" y2=\"136.875\" stroke-linecap=\"round\" style=\"stroke:white;stroke-width:4\"/><line x1=\"246.875\" y1=\"136.875\" x2=\"237.5\" y2=\"136.875\" stroke-linecap=\"round\" style=\"stroke:white;stroke-width:4\"/><line x1=\"237.5\" y1=\"136.875\" x2=\"237.5\" y2=\"127.5\" stroke-linecap=\"round\" style=\"stroke:white;stroke-width:4\"/><line x1=\"237.5\" y1=\"127.5\" x2=\"228.125\" y2=\"127.5\" stroke-linecap=\"round\" style=\"stroke:white;stroke-width:4\"/><line x1=\"228.125\" y1=\"127.5\" x2=\"228.125\" y2=\"136.875\" stroke-linecap=\"round\" style=\"stroke:white;stroke-width:4\"/><line x1=\"228.125\" y1=\"136.875\" x2=\"218.75\" y2=\"136.875\" stroke-linecap=\"round\" style=\"stroke:white;stroke-width:4\"/><line x1=\"218.75\" y1=\"136.875\" x2=\"218.75\" y2=\"127.5\" stroke-linecap=\"round\" style=\"stroke:white;stroke-width:4\"/><line x1=\"218.75\" y1=\"127.5\" x2=\"218.75\" y2=\"118.125\" stroke-linecap=\"round\" style=\"stroke:white;stroke-width:4\"/><line x1=\"218.75\" y1=\"118.125\" x2=\"209.375\" y2=\"118.125\" stroke-linecap=\"round\" style=\"stroke:white;stroke-width:4\"/><line x1=\"209.375\" y1=\"118.125\" x2=\"209.375\" y2=\"127.5\" stroke-linecap=\"round\" style=\"stroke:white;stroke-width:4\"/><line x1=\"209.375\" y1=\"127.5\" x2=\"200.0\" y2=\"127.5\" stroke-linecap=\"round\" style=\"stroke:white;stroke-width:4\"/><line x1=\"200.0\" y1=\"127.5\" x2=\"200.0\" y2=\"118.125\" stroke-linecap=\"round\" style=\"stroke:white;stroke-width:4\"/><line x1=\"200.0\" y1=\"118.125\" x2=\"190.625\" y2=\"118.125\" stroke-linecap=\"round\" style=\"stroke:white;stroke-width:4\"/><line x1=\"190.625\" y1=\"118.125\" x2=\"190.625\" y2=\"108.75\" stroke-linecap=\"round\" style=\"stroke:white;stroke-width:4\"/><line x1=\"190.625\" y1=\"108.75\" x2=\"200.0\" y2=\"108.75\" stroke-linecap=\"round\" style=\"stroke:white;stroke-width:4\"/><line x1=\"200.0\" y1=\"108.75\" x2=\"209.375\" y2=\"108.75\" stroke-linecap=\"round\" style=\"stroke:white;stroke-width:4\"/><line x1=\"209.375\" y1=\"108.75\" x2=\"209.375\" y2=\"99.375\" stroke-linecap=\"round\" style=\"stroke:white;stroke-width:4\"/><line x1=\"209.375\" y1=\"99.375\" x2=\"200.0\" y2=\"99.375\" stroke-linecap=\"round\" style=\"stroke:white;stroke-width:4\"/><line x1=\"200.0\" y1=\"99.375\" x2=\"200.0\" y2=\"90.0\" stroke-linecap=\"round\" style=\"stroke:white;stroke-width:4\"/><line x1=\"200.0\" y1=\"90.0\" x2=\"209.375\" y2=\"90.0\" stroke-linecap=\"round\" style=\"stroke:white;stroke-width:4\"/><line x1=\"209.375\" y1=\"90.0\" x2=\"209.375\" y2=\"80.625\" stroke-linecap=\"round\" style=\"stroke:white;stroke-width:4\"/><line x1=\"209.375\" y1=\"80.625\" x2=\"218.75\" y2=\"80.625\" stroke-linecap=\"round\" style=\"stroke:white;stroke-width:4\"/><line x1=\"218.75\" y1=\"80.625\" x2=\"218.75\" y2=\"90.0\" stroke-linecap=\"round\" style=\"stroke:white;stroke-width:4\"/><line x1=\"218.75\" y1=\"90.0\" x2=\"218.75\" y2=\"99.375\" stroke-linecap=\"round\" style=\"stroke:white;stroke-width:4\"/><line x1=\"218.75\" y1=\"99.375\" x2=\"228.125\" y2=\"99.375\" stroke-linecap=\"round\" style=\"stroke:white;stroke-width:4\"/><line x1=\"228.125\" y1=\"99.375\" x2=\"228.125\" y2=\"90.0\" stroke-linecap=\"round\" style=\"stroke:white;stroke-width:4\"/><line x1=\"228.125\" y1=\"90.0\" x2=\"237.5\" y2=\"90.0\" stroke-linecap=\"round\" style=\"stroke:white;stroke-width:4\"/><line x1=\"237.5\" y1=\"90.0\" x2=\"237.5\" y2=\"80.625\" stroke-linecap=\"round\" style=\"stroke:white;stroke-width:4\"/><line x1=\"237.5\" y1=\"80.625\" x2=\"228.125\" y2=\"80.625\" stroke-linecap=\"round\" style=\"stroke:white;stroke-width:4\"/><line x1=\"228.125\" y1=\"80.625\" x2=\"228.125\" y2=\"71.25\" stroke-linecap=\"round\" style=\"stroke:white;stroke-width:4\"/><line x1=\"228.125\" y1=\"71.25\" x2=\"237.5\" y2=\"71.25\" stroke-linecap=\"round\" style=\"stroke:white;stroke-width:4\"/><line x1=\"237.5\" y1=\"71.25\" x2=\"246.875\" y2=\"71.25\" stroke-linecap=\"round\" style=\"stroke:white;stroke-width:4\"/><line x1=\"246.875\" y1=\"71.25\" x2=\"246.875\" y2=\"61.875\" stroke-linecap=\"round\" style=\"stroke:white;stroke-width:4\"/><line x1=\"246.875\" y1=\"61.875\" x2=\"237.5\" y2=\"61.875\" stroke-linecap=\"round\" style=\"stroke:white;stroke-width:4\"/><line x1=\"237.5\" y1=\"61.875\" x2=\"237.5\" y2=\"52.5\" stroke-linecap=\"round\" style=\"stroke:white;stroke-width:4\"/><line x1=\"237.5\" y1=\"52.5\" x2=\"246.875\" y2=\"52.5\" stroke-linecap=\"round\" style=\"stroke:white;stroke-width:4\"/><line x1=\"246.875\" y1=\"52.5\" x2=\"246.875\" y2=\"43.125\" stroke-linecap=\"round\" style=\"stroke:white;stroke-width:4\"/><line x1=\"246.875\" y1=\"43.125\" x2=\"256.25\" y2=\"43.125\" stroke-linecap=\"round\" style=\"stroke:white;stroke-width:4\"/><line x1=\"256.25\" y1=\"43.125\" x2=\"256.25\" y2=\"52.5\" stroke-linecap=\"round\" style=\"stroke:white;stroke-width:4\"/><line x1=\"256.25\" y1=\"52.5\" x2=\"256.25\" y2=\"61.875\" stroke-linecap=\"round\" style=\"stroke:white;stroke-width:4\"/><line x1=\"256.25\" y1=\"61.875\" x2=\"265.625\" y2=\"61.875\" stroke-linecap=\"round\" style=\"stroke:white;stroke-width:4\"/><line x1=\"265.625\" y1=\"61.875\" x2=\"265.625\" y2=\"52.5\" stroke-linecap=\"round\" style=\"stroke:white;stroke-width:4\"/><line x1=\"265.625\" y1=\"52.5\" x2=\"275.0\" y2=\"52.5\" stroke-linecap=\"round\" style=\"stroke:white;stroke-width:4\"/><line x1=\"275.0\" y1=\"52.5\" x2=\"275.0\" y2=\"61.875\" stroke-linecap=\"round\" style=\"stroke:white;stroke-width:4\"/><line x1=\"275.0\" y1=\"61.875\" x2=\"284.375\" y2=\"61.875\" stroke-linecap=\"round\" style=\"stroke:white;stroke-width:4\"/><line x1=\"284.375\" y1=\"61.875\" x2=\"284.375\" y2=\"71.25\" stroke-linecap=\"round\" style=\"stroke:white;stroke-width:4\"/><line x1=\"284.375\" y1=\"71.25\" x2=\"275.0\" y2=\"71.25\" stroke-linecap=\"round\" style=\"stroke:white;stroke-width:4\"/><line x1=\"275.0\" y1=\"71.25\" x2=\"265.625\" y2=\"71.25\" stroke-linecap=\"round\" style=\"stroke:white;stroke-width:4\"/><line x1=\"265.625\" y1=\"71.25\" x2=\"265.625\" y2=\"80.625\" stroke-linecap=\"round\" style=\"stroke:white;stroke-width:4\"/><line x1=\"265.625\" y1=\"80.625\" x2=\"275.0\" y2=\"80.625\" stroke-linecap=\"round\" style=\"stroke:white;stroke-width:4\"/><line x1=\"275.0\" y1=\"80.625\" x2=\"275.0\" y2=\"90.0\" stroke-linecap=\"round\" style=\"stroke:white;stroke-width:4\"/><line x1=\"275.0\" y1=\"90.0\" x2=\"275.0\" y2=\"99.375\" stroke-linecap=\"round\" style=\"stroke:white;stroke-width:4\"/><line x1=\"275.0\" y1=\"99.375\" x2=\"284.375\" y2=\"99.375\" stroke-linecap=\"round\" style=\"stroke:white;stroke-width:4\"/><line x1=\"284.375\" y1=\"99.375\" x2=\"284.375\" y2=\"108.75\" stroke-linecap=\"round\" style=\"stroke:white;stroke-width:4\"/><line x1=\"284.375\" y1=\"108.75\" x2=\"275.0\" y2=\"108.75\" stroke-linecap=\"round\" style=\"stroke:white;stroke-width:4\"/><line x1=\"275.0\" y1=\"108.75\" x2=\"265.625\" y2=\"108.75\" stroke-linecap=\"round\" style=\"stroke:white;stroke-width:4\"/><line x1=\"265.625\" y1=\"108.75\" x2=\"265.625\" y2=\"118.125\" stroke-linecap=\"round\" style=\"stroke:white;stroke-width:4\"/><line x1=\"265.625\" y1=\"118.125\" x2=\"275.0\" y2=\"118.125\" stroke-linecap=\"round\" style=\"stroke:white;stroke-width:4\"/><line x1=\"275.0\" y1=\"118.125\" x2=\"275.0\" y2=\"127.5\" stroke-linecap=\"round\" style=\"stroke:white;stroke-width:4\"/><line x1=\"275.0\" y1=\"127.5\" x2=\"284.375\" y2=\"127.5\" stroke-linecap=\"round\" style=\"stroke:white;stroke-width:4\"/><line x1=\"284.375\" y1=\"127.5\" x2=\"284.375\" y2=\"118.125\" stroke-linecap=\"round\" style=\"stroke:white;stroke-width:4\"/><line x1=\"284.375\" y1=\"118.125\" x2=\"293.75\" y2=\"118.125\" stroke-linecap=\"round\" style=\"stroke:white;stroke-width:4\"/><line x1=\"293.75\" y1=\"118.125\" x2=\"293.75\" y2=\"127.5\" stroke-linecap=\"round\" style=\"stroke:white;stroke-width:4\"/><line x1=\"293.75\" y1=\"127.5\" x2=\"293.75\" y2=\"136.875\" stroke-linecap=\"round\" style=\"stroke:white;stroke-width:4\"/><line x1=\"293.75\" y1=\"136.875\" x2=\"303.125\" y2=\"136.875\" stroke-linecap=\"round\" style=\"stroke:white;stroke-width:4\"/><line x1=\"303.125\" y1=\"136.875\" x2=\"303.125\" y2=\"127.5\" stroke-linecap=\"round\" style=\"stroke:white;stroke-width:4\"/><line x1=\"303.125\" y1=\"127.5\" x2=\"312.5\" y2=\"127.5\" stroke-linecap=\"round\" style=\"stroke:white;stroke-width:4\"/><line x1=\"312.5\" y1=\"127.5\" x2=\"312.5\" y2=\"118.125\" stroke-linecap=\"round\" style=\"stroke:white;stroke-width:4\"/><line x1=\"312.5\" y1=\"118.125\" x2=\"303.125\" y2=\"118.125\" stroke-linecap=\"round\" style=\"stroke:white;stroke-width:4\"/><line x1=\"303.125\" y1=\"118.125\" x2=\"303.125\" y2=\"108.75\" stroke-linecap=\"round\" style=\"stroke:white;stroke-width:4\"/><line x1=\"303.125\" y1=\"108.75\" x2=\"312.5\" y2=\"108.75\" stroke-linecap=\"round\" style=\"stroke:white;stroke-width:4\"/><line x1=\"312.5\" y1=\"108.75\" x2=\"321.875\" y2=\"108.75\" stroke-linecap=\"round\" style=\"stroke:white;stroke-width:4\"/><line x1=\"321.875\" y1=\"108.75\" x2=\"321.875\" y2=\"99.375\" stroke-linecap=\"round\" style=\"stroke:white;stroke-width:4\"/><line x1=\"321.875\" y1=\"99.375\" x2=\"312.5\" y2=\"99.375\" stroke-linecap=\"round\" style=\"stroke:white;stroke-width:4\"/><line x1=\"312.5\" y1=\"99.375\" x2=\"312.5\" y2=\"90.0\" stroke-linecap=\"round\" style=\"stroke:white;stroke-width:4\"/><line x1=\"312.5\" y1=\"90.0\" x2=\"321.875\" y2=\"90.0\" stroke-linecap=\"round\" style=\"stroke:white;stroke-width:4\"/><line x1=\"321.875\" y1=\"90.0\" x2=\"321.875\" y2=\"80.625\" stroke-linecap=\"round\" style=\"stroke:white;stroke-width:4\"/><line x1=\"321.875\" y1=\"80.625\" x2=\"331.25\" y2=\"80.625\" stroke-linecap=\"round\" style=\"stroke:white;stroke-width:4\"/><line x1=\"331.25\" y1=\"80.625\" x2=\"331.25\" y2=\"90.0\" stroke-linecap=\"round\" style=\"stroke:white;stroke-width:4\"/><line x1=\"331.25\" y1=\"90.0\" x2=\"331.25\" y2=\"99.375\" stroke-linecap=\"round\" style=\"stroke:white;stroke-width:4\"/><line x1=\"331.25\" y1=\"99.375\" x2=\"340.625\" y2=\"99.375\" stroke-linecap=\"round\" style=\"stroke:white;stroke-width:4\"/><line x1=\"340.625\" y1=\"99.375\" x2=\"340.625\" y2=\"90.0\" stroke-linecap=\"round\" style=\"stroke:white;stroke-width:4\"/><line x1=\"340.625\" y1=\"90.0\" x2=\"350.0\" y2=\"90.0\" stroke-linecap=\"round\" style=\"stroke:white;stroke-width:4\"/><line x1=\"350.0\" y1=\"90.0\" x2=\"350.0\" y2=\"99.375\" stroke-linecap=\"round\" style=\"stroke:white;stroke-width:4\"/><line x1=\"350.0\" y1=\"99.375\" x2=\"359.375\" y2=\"99.375\" stroke-linecap=\"round\" style=\"stroke:white;stroke-width:4\"/><line x1=\"359.375\" y1=\"99.375\" x2=\"359.375\" y2=\"108.75\" stroke-linecap=\"round\" style=\"stroke:white;stroke-width:4\"/><line x1=\"359.375\" y1=\"108.75\" x2=\"350.0\" y2=\"108.75\" stroke-linecap=\"round\" style=\"stroke:white;stroke-width:4\"/><line x1=\"350.0\" y1=\"108.75\" x2=\"340.625\" y2=\"108.75\" stroke-linecap=\"round\" style=\"stroke:white;stroke-width:4\"/><line x1=\"340.625\" y1=\"108.75\" x2=\"340.625\" y2=\"118.125\" stroke-linecap=\"round\" style=\"stroke:white;stroke-width:4\"/><line x1=\"340.625\" y1=\"118.125\" x2=\"350.0\" y2=\"118.125\" stroke-linecap=\"round\" style=\"stroke:white;stroke-width:4\"/><line x1=\"350.0\" y1=\"118.125\" x2=\"350.0\" y2=\"127.5\" stroke-linecap=\"round\" style=\"stroke:white;stroke-width:4\"/><line x1=\"350.0\" y1=\"127.5\" x2=\"359.375\" y2=\"127.5\" stroke-linecap=\"round\" style=\"stroke:white;stroke-width:4\"/><line x1=\"359.375\" y1=\"127.5\" x2=\"359.375\" y2=\"118.125\" stroke-linecap=\"round\" style=\"stroke:white;stroke-width:4\"/><line x1=\"359.375\" y1=\"118.125\" x2=\"368.75\" y2=\"118.125\" stroke-linecap=\"round\" style=\"stroke:white;stroke-width:4\"/><line x1=\"368.75\" y1=\"118.125\" x2=\"368.75\" y2=\"127.5\" stroke-linecap=\"round\" style=\"stroke:white;stroke-width:4\"/><line x1=\"368.75\" y1=\"127.5\" x2=\"368.75\" y2=\"136.875\" stroke-linecap=\"round\" style=\"stroke:white;stroke-width:4\"/><line x1=\"368.75\" y1=\"136.875\" x2=\"378.125\" y2=\"136.875\" stroke-linecap=\"round\" style=\"stroke:white;stroke-width:4\"/><line x1=\"378.125\" y1=\"136.875\" x2=\"378.125\" y2=\"127.5\" stroke-linecap=\"round\" style=\"stroke:white;stroke-width:4\"/><line x1=\"378.125\" y1=\"127.5\" x2=\"387.5\" y2=\"127.5\" stroke-linecap=\"round\" style=\"stroke:white;stroke-width:4\"/><line x1=\"387.5\" y1=\"127.5\" x2=\"387.5\" y2=\"136.875\" stroke-linecap=\"round\" style=\"stroke:white;stroke-width:4\"/><line x1=\"387.5\" y1=\"136.875\" x2=\"396.875\" y2=\"136.875\" stroke-linecap=\"round\" style=\"stroke:white;stroke-width:4\"/><line x1=\"396.875\" y1=\"136.875\" x2=\"396.875\" y2=\"146.25\" stroke-linecap=\"round\" style=\"stroke:white;stroke-width:4\"/><line x1=\"396.875\" y1=\"146.25\" x2=\"387.5\" y2=\"146.25\" stroke-linecap=\"round\" style=\"stroke:white;stroke-width:4\"/><line x1=\"387.5\" y1=\"146.25\" x2=\"378.125\" y2=\"146.25\" stroke-linecap=\"round\" style=\"stroke:white;stroke-width:4\"/><line x1=\"378.125\" y1=\"146.25\" x2=\"378.125\" y2=\"155.625\" stroke-linecap=\"round\" style=\"stroke:white;stroke-width:4\"/><line x1=\"378.125\" y1=\"155.625\" x2=\"387.5\" y2=\"155.625\" stroke-linecap=\"round\" style=\"stroke:white;stroke-width:4\"/><line x1=\"387.5\" y1=\"155.625\" x2=\"387.5\" y2=\"165.0\" stroke-linecap=\"round\" style=\"stroke:white;stroke-width:4\"/><line x1=\"387.5\" y1=\"165.0\" x2=\"378.125\" y2=\"165.0\" stroke-linecap=\"round\" style=\"stroke:white;stroke-width:4\"/><line x1=\"378.125\" y1=\"165.0\" x2=\"378.125\" y2=\"174.375\" stroke-linecap=\"round\" style=\"stroke:white;stroke-width:4\"/><line x1=\"378.125\" y1=\"174.375\" x2=\"368.75\" y2=\"174.375\" stroke-linecap=\"round\" style=\"stroke:white;stroke-width:4\"/><line x1=\"368.75\" y1=\"174.375\" x2=\"368.75\" y2=\"165.0\" stroke-linecap=\"round\" style=\"stroke:white;stroke-width:4\"/><line x1=\"368.75\" y1=\"165.0\" x2=\"368.75\" y2=\"155.625\" stroke-linecap=\"round\" style=\"stroke:white;stroke-width:4\"/><line x1=\"368.75\" y1=\"155.625\" x2=\"359.375\" y2=\"155.625\" stroke-linecap=\"round\" style=\"stroke:white;stroke-width:4\"/><line x1=\"359.375\" y1=\"155.625\" x2=\"359.375\" y2=\"165.0\" stroke-linecap=\"round\" style=\"stroke:white;stroke-width:4\"/><line x1=\"359.375\" y1=\"165.0\" x2=\"350.0\" y2=\"165.0\" stroke-linecap=\"round\" style=\"stroke:white;stroke-width:4\"/><line x1=\"350.0\" y1=\"165.0\" x2=\"340.625\" y2=\"165.0\" stroke-linecap=\"round\" style=\"stroke:white;stroke-width:4\"/><line x1=\"340.625\" y1=\"165.0\" x2=\"340.625\" y2=\"174.375\" stroke-linecap=\"round\" style=\"stroke:white;stroke-width:4\"/><line x1=\"340.625\" y1=\"174.375\" x2=\"331.25\" y2=\"174.375\" stroke-linecap=\"round\" style=\"stroke:white;stroke-width:4\"/><line x1=\"331.25\" y1=\"174.375\" x2=\"331.25\" y2=\"165.0\" stroke-linecap=\"round\" style=\"stroke:white;stroke-width:4\"/><line x1=\"331.25\" y1=\"165.0\" x2=\"331.25\" y2=\"155.625\" stroke-linecap=\"round\" style=\"stroke:white;stroke-width:4\"/><line x1=\"331.25\" y1=\"155.625\" x2=\"321.875\" y2=\"155.625\" stroke-linecap=\"round\" style=\"stroke:white;stroke-width:4\"/><line x1=\"321.875\" y1=\"155.625\" x2=\"321.875\" y2=\"165.0\" stroke-linecap=\"round\" style=\"stroke:white;stroke-width:4\"/><line x1=\"321.875\" y1=\"165.0\" x2=\"312.5\" y2=\"165.0\" stroke-linecap=\"round\" style=\"stroke:white;stroke-width:4\"/><line x1=\"312.5\" y1=\"165.0\" x2=\"312.5\" y2=\"174.375\" stroke-linecap=\"round\" style=\"stroke:white;stroke-width:4\"/><line x1=\"312.5\" y1=\"174.375\" x2=\"321.875\" y2=\"174.375\" stroke-linecap=\"round\" style=\"stroke:white;stroke-width:4\"/><line x1=\"321.875\" y1=\"174.375\" x2=\"321.875\" y2=\"183.75\" stroke-linecap=\"round\" style=\"stroke:white;stroke-width:4\"/><line x1=\"321.875\" y1=\"183.75\" x2=\"312.5\" y2=\"183.75\" stroke-linecap=\"round\" style=\"stroke:white;stroke-width:4\"/><line x1=\"312.5\" y1=\"183.75\" x2=\"303.125\" y2=\"183.75\" stroke-linecap=\"round\" style=\"stroke:white;stroke-width:4\"/><line x1=\"303.125\" y1=\"183.75\" x2=\"303.125\" y2=\"193.125\" stroke-linecap=\"round\" style=\"stroke:white;stroke-width:4\"/><line x1=\"303.125\" y1=\"193.125\" x2=\"312.5\" y2=\"193.125\" stroke-linecap=\"round\" style=\"stroke:white;stroke-width:4\"/><line x1=\"312.5\" y1=\"193.125\" x2=\"312.5\" y2=\"202.5\" stroke-linecap=\"round\" style=\"stroke:white;stroke-width:4\"/><line x1=\"312.5\" y1=\"202.5\" x2=\"321.875\" y2=\"202.5\" stroke-linecap=\"round\" style=\"stroke:white;stroke-width:4\"/><line x1=\"321.875\" y1=\"202.5\" x2=\"321.875\" y2=\"193.125\" stroke-linecap=\"round\" style=\"stroke:white;stroke-width:4\"/><line x1=\"321.875\" y1=\"193.125\" x2=\"331.25\" y2=\"193.125\" stroke-linecap=\"round\" style=\"stroke:white;stroke-width:4\"/><line x1=\"331.25\" y1=\"193.125\" x2=\"331.25\" y2=\"202.5\" stroke-linecap=\"round\" style=\"stroke:white;stroke-width:4\"/><line x1=\"331.25\" y1=\"202.5\" x2=\"331.25\" y2=\"211.875\" stroke-linecap=\"round\" style=\"stroke:white;stroke-width:4\"/><line x1=\"331.25\" y1=\"211.875\" x2=\"340.625\" y2=\"211.875\" stroke-linecap=\"round\" style=\"stroke:white;stroke-width:4\"/><line x1=\"340.625\" y1=\"211.875\" x2=\"340.625\" y2=\"202.5\" stroke-linecap=\"round\" style=\"stroke:white;stroke-width:4\"/><line x1=\"340.625\" y1=\"202.5\" x2=\"350.0\" y2=\"202.5\" stroke-linecap=\"round\" style=\"stroke:white;stroke-width:4\"/><line x1=\"350.0\" y1=\"202.5\" x2=\"350.0\" y2=\"211.875\" stroke-linecap=\"round\" style=\"stroke:white;stroke-width:4\"/><line x1=\"350.0\" y1=\"211.875\" x2=\"359.375\" y2=\"211.875\" stroke-linecap=\"round\" style=\"stroke:white;stroke-width:4\"/><line x1=\"359.375\" y1=\"211.875\" x2=\"359.375\" y2=\"221.25\" stroke-linecap=\"round\" style=\"stroke:white;stroke-width:4\"/><line x1=\"359.375\" y1=\"221.25\" x2=\"350.0\" y2=\"221.25\" stroke-linecap=\"round\" style=\"stroke:white;stroke-width:4\"/><line x1=\"350.0\" y1=\"221.25\" x2=\"340.625\" y2=\"221.25\" stroke-linecap=\"round\" style=\"stroke:white;stroke-width:4\"/><line x1=\"340.625\" y1=\"221.25\" x2=\"340.625\" y2=\"230.625\" stroke-linecap=\"round\" style=\"stroke:white;stroke-width:4\"/><line x1=\"340.625\" y1=\"230.625\" x2=\"350.0\" y2=\"230.625\" stroke-linecap=\"round\" style=\"stroke:white;stroke-width:4\"/><line x1=\"350.0\" y1=\"230.625\" x2=\"350.0\" y2=\"240.0\" stroke-linecap=\"round\" style=\"stroke:white;stroke-width:4\"/><line x1=\"350.0\" y1=\"240.0\" x2=\"350.0\" y2=\"249.375\" stroke-linecap=\"round\" style=\"stroke:white;stroke-width:4\"/><line x1=\"350.0\" y1=\"249.375\" x2=\"359.375\" y2=\"249.375\" stroke-linecap=\"round\" style=\"stroke:white;stroke-width:4\"/><line x1=\"359.375\" y1=\"249.375\" x2=\"359.375\" y2=\"258.75\" stroke-linecap=\"round\" style=\"stroke:white;stroke-width:4\"/><line x1=\"359.375\" y1=\"258.75\" x2=\"350.0\" y2=\"258.75\" stroke-linecap=\"round\" style=\"stroke:white;stroke-width:4\"/><line x1=\"350.0\" y1=\"258.75\" x2=\"340.625\" y2=\"258.75\" stroke-linecap=\"round\" style=\"stroke:white;stroke-width:4\"/><line x1=\"340.625\" y1=\"258.75\" x2=\"340.625\" y2=\"268.125\" stroke-linecap=\"round\" style=\"stroke:white;stroke-width:4\"/><line x1=\"340.625\" y1=\"268.125\" x2=\"350.0\" y2=\"268.125\" stroke-linecap=\"round\" style=\"stroke:white;stroke-width:4\"/><line x1=\"350.0\" y1=\"268.125\" x2=\"350.0\" y2=\"277.5\" stroke-linecap=\"round\" style=\"stroke:white;stroke-width:4\"/><line x1=\"350.0\" y1=\"277.5\" x2=\"359.375\" y2=\"277.5\" stroke-linecap=\"round\" style=\"stroke:white;stroke-width:4\"/><line x1=\"359.375\" y1=\"277.5\" x2=\"359.375\" y2=\"268.125\" stroke-linecap=\"round\" style=\"stroke:white;stroke-width:4\"/><line x1=\"359.375\" y1=\"268.125\" x2=\"368.75\" y2=\"268.125\" stroke-linecap=\"round\" style=\"stroke:white;stroke-width:4\"/><line x1=\"368.75\" y1=\"268.125\" x2=\"368.75\" y2=\"277.5\" stroke-linecap=\"round\" style=\"stroke:white;stroke-width:4\"/><line x1=\"368.75\" y1=\"277.5\" x2=\"368.75\" y2=\"286.875\" stroke-linecap=\"round\" style=\"stroke:white;stroke-width:4\"/><line x1=\"368.75\" y1=\"286.875\" x2=\"378.125\" y2=\"286.875\" stroke-linecap=\"round\" style=\"stroke:white;stroke-width:4\"/><line x1=\"378.125\" y1=\"286.875\" x2=\"378.125\" y2=\"277.5\" stroke-linecap=\"round\" style=\"stroke:white;stroke-width:4\"/><line x1=\"378.125\" y1=\"277.5\" x2=\"387.5\" y2=\"277.5\" stroke-linecap=\"round\" style=\"stroke:white;stroke-width:4\"/><line x1=\"387.5\" y1=\"277.5\" x2=\"387.5\" y2=\"286.875\" stroke-linecap=\"round\" style=\"stroke:white;stroke-width:4\"/><line x1=\"387.5\" y1=\"286.875\" x2=\"396.875\" y2=\"286.875\" stroke-linecap=\"round\" style=\"stroke:white;stroke-width:4\"/><line x1=\"396.875\" y1=\"286.875\" x2=\"396.875\" y2=\"296.25\" stroke-linecap=\"round\" style=\"stroke:white;stroke-width:4\"/><line x1=\"396.875\" y1=\"296.25\" x2=\"387.5\" y2=\"296.25\" stroke-linecap=\"round\" style=\"stroke:white;stroke-width:4\"/><line x1=\"387.5\" y1=\"296.25\" x2=\"378.125\" y2=\"296.25\" stroke-linecap=\"round\" style=\"stroke:white;stroke-width:4\"/><line x1=\"378.125\" y1=\"296.25\" x2=\"378.125\" y2=\"305.625\" stroke-linecap=\"round\" style=\"stroke:white;stroke-width:4\"/><line x1=\"378.125\" y1=\"305.625\" x2=\"387.5\" y2=\"305.625\" stroke-linecap=\"round\" style=\"stroke:white;stroke-width:4\"/><line x1=\"387.5\" y1=\"305.625\" x2=\"387.5\" y2=\"315.0\" stroke-linecap=\"round\" style=\"stroke:white;stroke-width:4\"/><line x1=\"387.5\" y1=\"315.0\" x2=\"378.125\" y2=\"315.0\" stroke-linecap=\"round\" style=\"stroke:white;stroke-width:4\"/><line x1=\"378.125\" y1=\"315.0\" x2=\"378.125\" y2=\"324.375\" stroke-linecap=\"round\" style=\"stroke:white;stroke-width:4\"/><line x1=\"378.125\" y1=\"324.375\" x2=\"368.75\" y2=\"324.375\" stroke-linecap=\"round\" style=\"stroke:white;stroke-width:4\"/><line x1=\"368.75\" y1=\"324.375\" x2=\"368.75\" y2=\"315.0\" stroke-linecap=\"round\" style=\"stroke:white;stroke-width:4\"/><line x1=\"368.75\" y1=\"315.0\" x2=\"368.75\" y2=\"305.625\" stroke-linecap=\"round\" style=\"stroke:white;stroke-width:4\"/><line x1=\"368.75\" y1=\"305.625\" x2=\"359.375\" y2=\"305.625\" stroke-linecap=\"round\" style=\"stroke:white;stroke-width:4\"/><line x1=\"359.375\" y1=\"305.625\" x2=\"359.375\" y2=\"315.0\" stroke-linecap=\"round\" style=\"stroke:white;stroke-width:4\"/><line x1=\"359.375\" y1=\"315.0\" x2=\"350.0\" y2=\"315.0\" stroke-linecap=\"round\" style=\"stroke:white;stroke-width:4\"/><line x1=\"350.0\" y1=\"315.0\" x2=\"340.625\" y2=\"315.0\" stroke-linecap=\"round\" style=\"stroke:white;stroke-width:4\"/><line x1=\"340.625\" y1=\"315.0\" x2=\"340.625\" y2=\"324.375\" stroke-linecap=\"round\" style=\"stroke:white;stroke-width:4\"/><line x1=\"340.625\" y1=\"324.375\" x2=\"331.25\" y2=\"324.375\" stroke-linecap=\"round\" style=\"stroke:white;stroke-width:4\"/><line x1=\"331.25\" y1=\"324.375\" x2=\"331.25\" y2=\"315.0\" stroke-linecap=\"round\" style=\"stroke:white;stroke-width:4\"/><line x1=\"331.25\" y1=\"315.0\" x2=\"331.25\" y2=\"305.625\" stroke-linecap=\"round\" style=\"stroke:white;stroke-width:4\"/><line x1=\"331.25\" y1=\"305.625\" x2=\"321.875\" y2=\"305.625\" stroke-linecap=\"round\" style=\"stroke:white;stroke-width:4\"/><line x1=\"321.875\" y1=\"305.625\" x2=\"321.875\" y2=\"315.0\" stroke-linecap=\"round\" style=\"stroke:white;stroke-width:4\"/><line x1=\"321.875\" y1=\"315.0\" x2=\"312.5\" y2=\"315.0\" stroke-linecap=\"round\" style=\"stroke:white;stroke-width:4\"/><line x1=\"312.5\" y1=\"315.0\" x2=\"312.5\" y2=\"324.375\" stroke-linecap=\"round\" style=\"stroke:white;stroke-width:4\"/><line x1=\"312.5\" y1=\"324.375\" x2=\"321.875\" y2=\"324.375\" stroke-linecap=\"round\" style=\"stroke:white;stroke-width:4\"/><line x1=\"321.875\" y1=\"324.375\" x2=\"321.875\" y2=\"333.75\" stroke-linecap=\"round\" style=\"stroke:white;stroke-width:4\"/><line x1=\"321.875\" y1=\"333.75\" x2=\"312.5\" y2=\"333.75\" stroke-linecap=\"round\" style=\"stroke:white;stroke-width:4\"/><line x1=\"312.5\" y1=\"333.75\" x2=\"303.125\" y2=\"333.75\" stroke-linecap=\"round\" style=\"stroke:white;stroke-width:4\"/><line x1=\"303.125\" y1=\"333.75\" x2=\"303.125\" y2=\"343.125\" stroke-linecap=\"round\" style=\"stroke:white;stroke-width:4\"/><line x1=\"303.125\" y1=\"343.125\" x2=\"312.5\" y2=\"343.125\" stroke-linecap=\"round\" style=\"stroke:white;stroke-width:4\"/><line x1=\"312.5\" y1=\"343.125\" x2=\"312.5\" y2=\"352.5\" stroke-linecap=\"round\" style=\"stroke:white;stroke-width:4\"/><line x1=\"312.5\" y1=\"352.5\" x2=\"321.875\" y2=\"352.5\" stroke-linecap=\"round\" style=\"stroke:white;stroke-width:4\"/><line x1=\"321.875\" y1=\"352.5\" x2=\"321.875\" y2=\"343.125\" stroke-linecap=\"round\" style=\"stroke:white;stroke-width:4\"/><line x1=\"321.875\" y1=\"343.125\" x2=\"331.25\" y2=\"343.125\" stroke-linecap=\"round\" style=\"stroke:white;stroke-width:4\"/><line x1=\"331.25\" y1=\"343.125\" x2=\"331.25\" y2=\"352.5\" stroke-linecap=\"round\" style=\"stroke:white;stroke-width:4\"/><line x1=\"331.25\" y1=\"352.5\" x2=\"331.25\" y2=\"361.875\" stroke-linecap=\"round\" style=\"stroke:white;stroke-width:4\"/><line x1=\"331.25\" y1=\"361.875\" x2=\"340.625\" y2=\"361.875\" stroke-linecap=\"round\" style=\"stroke:white;stroke-width:4\"/><line x1=\"340.625\" y1=\"361.875\" x2=\"340.625\" y2=\"352.5\" stroke-linecap=\"round\" style=\"stroke:white;stroke-width:4\"/><line x1=\"340.625\" y1=\"352.5\" x2=\"350.0\" y2=\"352.5\" stroke-linecap=\"round\" style=\"stroke:white;stroke-width:4\"/><line x1=\"350.0\" y1=\"352.5\" x2=\"350.0\" y2=\"361.875\" stroke-linecap=\"round\" style=\"stroke:white;stroke-width:4\"/><line x1=\"350.0\" y1=\"361.875\" x2=\"359.375\" y2=\"361.875\" stroke-linecap=\"round\" style=\"stroke:white;stroke-width:4\"/><line x1=\"359.375\" y1=\"361.875\" x2=\"359.375\" y2=\"371.25\" stroke-linecap=\"round\" style=\"stroke:white;stroke-width:4\"/><line x1=\"359.375\" y1=\"371.25\" x2=\"350.0\" y2=\"371.25\" stroke-linecap=\"round\" style=\"stroke:white;stroke-width:4\"/><line x1=\"350.0\" y1=\"371.25\" x2=\"340.625\" y2=\"371.25\" stroke-linecap=\"round\" style=\"stroke:white;stroke-width:4\"/><line x1=\"340.625\" y1=\"371.25\" x2=\"340.625\" y2=\"380.625\" stroke-linecap=\"round\" style=\"stroke:white;stroke-width:4\"/><line x1=\"340.625\" y1=\"380.625\" x2=\"350.0\" y2=\"380.625\" stroke-linecap=\"round\" style=\"stroke:white;stroke-width:4\"/><line x1=\"350.0\" y1=\"380.625\" x2=\"350.0\" y2=\"390.0\" stroke-linecap=\"round\" style=\"stroke:white;stroke-width:4\"/><line x1=\"350.0\" y1=\"390.0\" x2=\"359.375\" y2=\"390.0\" stroke-linecap=\"round\" style=\"stroke:white;stroke-width:4\"/><line x1=\"359.375\" y1=\"390.0\" x2=\"359.375\" y2=\"380.625\" stroke-linecap=\"round\" style=\"stroke:white;stroke-width:4\"/><line x1=\"359.375\" y1=\"380.625\" x2=\"368.75\" y2=\"380.625\" stroke-linecap=\"round\" style=\"stroke:white;stroke-width:4\"/><line x1=\"368.75\" y1=\"380.625\" x2=\"368.75\" y2=\"390.0\" stroke-linecap=\"round\" style=\"stroke:white;stroke-width:4\"/><line x1=\"368.75\" y1=\"390.0\" x2=\"368.75\" y2=\"399.375\" stroke-linecap=\"round\" style=\"stroke:white;stroke-width:4\"/><line x1=\"368.75\" y1=\"399.375\" x2=\"378.125\" y2=\"399.375\" stroke-linecap=\"round\" style=\"stroke:white;stroke-width:4\"/><line x1=\"378.125\" y1=\"399.375\" x2=\"378.125\" y2=\"390.0\" stroke-linecap=\"round\" style=\"stroke:white;stroke-width:4\"/><line x1=\"378.125\" y1=\"390.0\" x2=\"387.5\" y2=\"390.0\" stroke-linecap=\"round\" style=\"stroke:white;stroke-width:4\"/><line x1=\"387.5\" y1=\"390.0\" x2=\"387.5\" y2=\"380.625\" stroke-linecap=\"round\" style=\"stroke:white;stroke-width:4\"/><line x1=\"387.5\" y1=\"380.625\" x2=\"378.125\" y2=\"380.625\" stroke-linecap=\"round\" style=\"stroke:white;stroke-width:4\"/><line x1=\"378.125\" y1=\"380.625\" x2=\"378.125\" y2=\"371.25\" stroke-linecap=\"round\" style=\"stroke:white;stroke-width:4\"/><line x1=\"378.125\" y1=\"371.25\" x2=\"387.5\" y2=\"371.25\" stroke-linecap=\"round\" style=\"stroke:white;stroke-width:4\"/><line x1=\"387.5\" y1=\"371.25\" x2=\"396.875\" y2=\"371.25\" stroke-linecap=\"round\" style=\"stroke:white;stroke-width:4\"/><line x1=\"396.875\" y1=\"371.25\" x2=\"396.875\" y2=\"361.875\" stroke-linecap=\"round\" style=\"stroke:white;stroke-width:4\"/><line x1=\"396.875\" y1=\"361.875\" x2=\"387.5\" y2=\"361.875\" stroke-linecap=\"round\" style=\"stroke:white;stroke-width:4\"/><line x1=\"387.5\" y1=\"361.875\" x2=\"387.5\" y2=\"352.5\" stroke-linecap=\"round\" style=\"stroke:white;stroke-width:4\"/><line x1=\"387.5\" y1=\"352.5\" x2=\"396.875\" y2=\"352.5\" stroke-linecap=\"round\" style=\"stroke:white;stroke-width:4\"/><line x1=\"396.875\" y1=\"352.5\" x2=\"396.875\" y2=\"343.125\" stroke-linecap=\"round\" style=\"stroke:white;stroke-width:4\"/><line x1=\"396.875\" y1=\"343.125\" x2=\"406.25\" y2=\"343.125\" stroke-linecap=\"round\" style=\"stroke:white;stroke-width:4\"/><line x1=\"406.25\" y1=\"343.125\" x2=\"406.25\" y2=\"352.5\" stroke-linecap=\"round\" style=\"stroke:white;stroke-width:4\"/><line x1=\"406.25\" y1=\"352.5\" x2=\"406.25\" y2=\"361.875\" stroke-linecap=\"round\" style=\"stroke:white;stroke-width:4\"/><line x1=\"406.25\" y1=\"361.875\" x2=\"415.625\" y2=\"361.875\" stroke-linecap=\"round\" style=\"stroke:white;stroke-width:4\"/><line x1=\"415.625\" y1=\"361.875\" x2=\"415.625\" y2=\"352.5\" stroke-linecap=\"round\" style=\"stroke:white;stroke-width:4\"/><line x1=\"415.625\" y1=\"352.5\" x2=\"425.0\" y2=\"352.5\" stroke-linecap=\"round\" style=\"stroke:white;stroke-width:4\"/><line x1=\"425.0\" y1=\"352.5\" x2=\"425.0\" y2=\"361.875\" stroke-linecap=\"round\" style=\"stroke:white;stroke-width:4\"/><line x1=\"425.0\" y1=\"361.875\" x2=\"434.375\" y2=\"361.875\" stroke-linecap=\"round\" style=\"stroke:white;stroke-width:4\"/><line x1=\"434.375\" y1=\"361.875\" x2=\"434.375\" y2=\"371.25\" stroke-linecap=\"round\" style=\"stroke:white;stroke-width:4\"/><line x1=\"434.375\" y1=\"371.25\" x2=\"425.0\" y2=\"371.25\" stroke-linecap=\"round\" style=\"stroke:white;stroke-width:4\"/><line x1=\"425.0\" y1=\"371.25\" x2=\"415.625\" y2=\"371.25\" stroke-linecap=\"round\" style=\"stroke:white;stroke-width:4\"/><line x1=\"415.625\" y1=\"371.25\" x2=\"415.625\" y2=\"380.625\" stroke-linecap=\"round\" style=\"stroke:white;stroke-width:4\"/><line x1=\"415.625\" y1=\"380.625\" x2=\"425.0\" y2=\"380.625\" stroke-linecap=\"round\" style=\"stroke:white;stroke-width:4\"/><line x1=\"425.0\" y1=\"380.625\" x2=\"425.0\" y2=\"390.0\" stroke-linecap=\"round\" style=\"stroke:white;stroke-width:4\"/><line x1=\"425.0\" y1=\"390.0\" x2=\"425.0\" y2=\"399.375\" stroke-linecap=\"round\" style=\"stroke:white;stroke-width:4\"/><line x1=\"425.0\" y1=\"399.375\" x2=\"434.375\" y2=\"399.375\" stroke-linecap=\"round\" style=\"stroke:white;stroke-width:4\"/><line x1=\"434.375\" y1=\"399.375\" x2=\"434.375\" y2=\"408.75\" stroke-linecap=\"round\" style=\"stroke:white;stroke-width:4\"/><line x1=\"434.375\" y1=\"408.75\" x2=\"425.0\" y2=\"408.75\" stroke-linecap=\"round\" style=\"stroke:white;stroke-width:4\"/><line x1=\"425.0\" y1=\"408.75\" x2=\"415.625\" y2=\"408.75\" stroke-linecap=\"round\" style=\"stroke:white;stroke-width:4\"/><line x1=\"415.625\" y1=\"408.75\" x2=\"415.625\" y2=\"418.125\" stroke-linecap=\"round\" style=\"stroke:white;stroke-width:4\"/><line x1=\"415.625\" y1=\"418.125\" x2=\"425.0\" y2=\"418.125\" stroke-linecap=\"round\" style=\"stroke:white;stroke-width:4\"/><line x1=\"425.0\" y1=\"418.125\" x2=\"425.0\" y2=\"427.5\" stroke-linecap=\"round\" style=\"stroke:white;stroke-width:4\"/><line x1=\"425.0\" y1=\"427.5\" x2=\"434.375\" y2=\"427.5\" stroke-linecap=\"round\" style=\"stroke:white;stroke-width:4\"/><line x1=\"434.375\" y1=\"427.5\" x2=\"434.375\" y2=\"418.125\" stroke-linecap=\"round\" style=\"stroke:white;stroke-width:4\"/><line x1=\"434.375\" y1=\"418.125\" x2=\"443.75\" y2=\"418.125\" stroke-linecap=\"round\" style=\"stroke:white;stroke-width:4\"/><line x1=\"443.75\" y1=\"418.125\" x2=\"443.75\" y2=\"427.5\" stroke-linecap=\"round\" style=\"stroke:white;stroke-width:4\"/><line x1=\"443.75\" y1=\"427.5\" x2=\"443.75\" y2=\"436.875\" stroke-linecap=\"round\" style=\"stroke:white;stroke-width:4\"/><line x1=\"443.75\" y1=\"436.875\" x2=\"453.125\" y2=\"436.875\" stroke-linecap=\"round\" style=\"stroke:white;stroke-width:4\"/><line x1=\"453.125\" y1=\"436.875\" x2=\"453.125\" y2=\"427.5\" stroke-linecap=\"round\" style=\"stroke:white;stroke-width:4\"/><line x1=\"453.125\" y1=\"427.5\" x2=\"462.5\" y2=\"427.5\" stroke-linecap=\"round\" style=\"stroke:white;stroke-width:4\"/><line x1=\"462.5\" y1=\"427.5\" x2=\"462.5\" y2=\"418.125\" stroke-linecap=\"round\" style=\"stroke:white;stroke-width:4\"/><line x1=\"462.5\" y1=\"418.125\" x2=\"453.125\" y2=\"418.125\" stroke-linecap=\"round\" style=\"stroke:white;stroke-width:4\"/><line x1=\"453.125\" y1=\"418.125\" x2=\"453.125\" y2=\"408.75\" stroke-linecap=\"round\" style=\"stroke:white;stroke-width:4\"/><line x1=\"453.125\" y1=\"408.75\" x2=\"462.5\" y2=\"408.75\" stroke-linecap=\"round\" style=\"stroke:white;stroke-width:4\"/><line x1=\"462.5\" y1=\"408.75\" x2=\"471.875\" y2=\"408.75\" stroke-linecap=\"round\" style=\"stroke:white;stroke-width:4\"/><line x1=\"471.875\" y1=\"408.75\" x2=\"471.875\" y2=\"399.375\" stroke-linecap=\"round\" style=\"stroke:white;stroke-width:4\"/><line x1=\"471.875\" y1=\"399.375\" x2=\"462.5\" y2=\"399.375\" stroke-linecap=\"round\" style=\"stroke:white;stroke-width:4\"/><line x1=\"462.5\" y1=\"399.375\" x2=\"462.5\" y2=\"390.0\" stroke-linecap=\"round\" style=\"stroke:white;stroke-width:4\"/><line x1=\"462.5\" y1=\"390.0\" x2=\"471.875\" y2=\"390.0\" stroke-linecap=\"round\" style=\"stroke:white;stroke-width:4\"/><line x1=\"471.875\" y1=\"390.0\" x2=\"471.875\" y2=\"380.625\" stroke-linecap=\"round\" style=\"stroke:white;stroke-width:4\"/><line x1=\"471.875\" y1=\"380.625\" x2=\"481.25\" y2=\"380.625\" stroke-linecap=\"round\" style=\"stroke:white;stroke-width:4\"/><line x1=\"481.25\" y1=\"380.625\" x2=\"481.25\" y2=\"390.0\" stroke-linecap=\"round\" style=\"stroke:white;stroke-width:4\"/><line x1=\"481.25\" y1=\"390.0\" x2=\"481.25\" y2=\"399.375\" stroke-linecap=\"round\" style=\"stroke:white;stroke-width:4\"/><line x1=\"481.25\" y1=\"399.375\" x2=\"490.625\" y2=\"399.375\" stroke-linecap=\"round\" style=\"stroke:white;stroke-width:4\"/><line x1=\"490.625\" y1=\"399.375\" x2=\"490.625\" y2=\"390.0\" stroke-linecap=\"round\" style=\"stroke:white;stroke-width:4\"/><line x1=\"490.625\" y1=\"390.0\" x2=\"500.0\" y2=\"390.0\" stroke-linecap=\"round\" style=\"stroke:white;stroke-width:4\"/><line x1=\"500.0\" y1=\"390.0\" x2=\"500.0\" y2=\"380.625\" stroke-linecap=\"round\" style=\"stroke:white;stroke-width:4\"/><line x1=\"500.0\" y1=\"380.625\" x2=\"490.625\" y2=\"380.625\" stroke-linecap=\"round\" style=\"stroke:white;stroke-width:4\"/><line x1=\"490.625\" y1=\"380.625\" x2=\"490.625\" y2=\"371.25\" stroke-linecap=\"round\" style=\"stroke:white;stroke-width:4\"/><line x1=\"490.625\" y1=\"371.25\" x2=\"500.0\" y2=\"371.25\" stroke-linecap=\"round\" style=\"stroke:white;stroke-width:4\"/><line x1=\"500.0\" y1=\"371.25\" x2=\"509.375\" y2=\"371.25\" stroke-linecap=\"round\" style=\"stroke:white;stroke-width:4\"/><line x1=\"509.375\" y1=\"371.25\" x2=\"509.375\" y2=\"361.875\" stroke-linecap=\"round\" style=\"stroke:white;stroke-width:4\"/><line x1=\"509.375\" y1=\"361.875\" x2=\"500.0\" y2=\"361.875\" stroke-linecap=\"round\" style=\"stroke:white;stroke-width:4\"/><line x1=\"500.0\" y1=\"361.875\" x2=\"500.0\" y2=\"352.5\" stroke-linecap=\"round\" style=\"stroke:white;stroke-width:4\"/><line x1=\"500.0\" y1=\"352.5\" x2=\"490.625\" y2=\"352.5\" stroke-linecap=\"round\" style=\"stroke:white;stroke-width:4\"/><line x1=\"490.625\" y1=\"352.5\" x2=\"490.625\" y2=\"361.875\" stroke-linecap=\"round\" style=\"stroke:white;stroke-width:4\"/><line x1=\"490.625\" y1=\"361.875\" x2=\"481.25\" y2=\"361.875\" stroke-linecap=\"round\" style=\"stroke:white;stroke-width:4\"/><line x1=\"481.25\" y1=\"361.875\" x2=\"481.25\" y2=\"352.5\" stroke-linecap=\"round\" style=\"stroke:white;stroke-width:4\"/><line x1=\"481.25\" y1=\"352.5\" x2=\"481.25\" y2=\"343.125\" stroke-linecap=\"round\" style=\"stroke:white;stroke-width:4\"/><line x1=\"481.25\" y1=\"343.125\" x2=\"471.875\" y2=\"343.125\" stroke-linecap=\"round\" style=\"stroke:white;stroke-width:4\"/><line x1=\"471.875\" y1=\"343.125\" x2=\"471.875\" y2=\"352.5\" stroke-linecap=\"round\" style=\"stroke:white;stroke-width:4\"/><line x1=\"471.875\" y1=\"352.5\" x2=\"462.5\" y2=\"352.5\" stroke-linecap=\"round\" style=\"stroke:white;stroke-width:4\"/><line x1=\"462.5\" y1=\"352.5\" x2=\"462.5\" y2=\"343.125\" stroke-linecap=\"round\" style=\"stroke:white;stroke-width:4\"/><line x1=\"462.5\" y1=\"343.125\" x2=\"453.125\" y2=\"343.125\" stroke-linecap=\"round\" style=\"stroke:white;stroke-width:4\"/><line x1=\"453.125\" y1=\"343.125\" x2=\"453.125\" y2=\"333.75\" stroke-linecap=\"round\" style=\"stroke:white;stroke-width:4\"/><line x1=\"453.125\" y1=\"333.75\" x2=\"462.5\" y2=\"333.75\" stroke-linecap=\"round\" style=\"stroke:white;stroke-width:4\"/><line x1=\"462.5\" y1=\"333.75\" x2=\"471.875\" y2=\"333.75\" stroke-linecap=\"round\" style=\"stroke:white;stroke-width:4\"/><line x1=\"471.875\" y1=\"333.75\" x2=\"471.875\" y2=\"324.375\" stroke-linecap=\"round\" style=\"stroke:white;stroke-width:4\"/><line x1=\"471.875\" y1=\"324.375\" x2=\"462.5\" y2=\"324.375\" stroke-linecap=\"round\" style=\"stroke:white;stroke-width:4\"/><line x1=\"462.5\" y1=\"324.375\" x2=\"462.5\" y2=\"315.0\" stroke-linecap=\"round\" style=\"stroke:white;stroke-width:4\"/><line x1=\"462.5\" y1=\"315.0\" x2=\"471.875\" y2=\"315.0\" stroke-linecap=\"round\" style=\"stroke:white;stroke-width:4\"/><line x1=\"471.875\" y1=\"315.0\" x2=\"471.875\" y2=\"305.625\" stroke-linecap=\"round\" style=\"stroke:white;stroke-width:4\"/><line x1=\"471.875\" y1=\"305.625\" x2=\"481.25\" y2=\"305.625\" stroke-linecap=\"round\" style=\"stroke:white;stroke-width:4\"/><line x1=\"481.25\" y1=\"305.625\" x2=\"481.25\" y2=\"315.0\" stroke-linecap=\"round\" style=\"stroke:white;stroke-width:4\"/><line x1=\"481.25\" y1=\"315.0\" x2=\"481.25\" y2=\"324.375\" stroke-linecap=\"round\" style=\"stroke:white;stroke-width:4\"/><line x1=\"481.25\" y1=\"324.375\" x2=\"490.625\" y2=\"324.375\" stroke-linecap=\"round\" style=\"stroke:white;stroke-width:4\"/><line x1=\"490.625\" y1=\"324.375\" x2=\"490.625\" y2=\"315.0\" stroke-linecap=\"round\" style=\"stroke:white;stroke-width:4\"/><line x1=\"490.625\" y1=\"315.0\" x2=\"500.0\" y2=\"315.0\" stroke-linecap=\"round\" style=\"stroke:white;stroke-width:4\"/><line x1=\"500.0\" y1=\"315.0\" x2=\"509.375\" y2=\"315.0\" stroke-linecap=\"round\" style=\"stroke:white;stroke-width:4\"/><line x1=\"509.375\" y1=\"315.0\" x2=\"509.375\" y2=\"305.625\" stroke-linecap=\"round\" style=\"stroke:white;stroke-width:4\"/><line x1=\"509.375\" y1=\"305.625\" x2=\"518.75\" y2=\"305.625\" stroke-linecap=\"round\" style=\"stroke:white;stroke-width:4\"/><line x1=\"518.75\" y1=\"305.625\" x2=\"518.75\" y2=\"315.0\" stroke-linecap=\"round\" style=\"stroke:white;stroke-width:4\"/><line x1=\"518.75\" y1=\"315.0\" x2=\"518.75\" y2=\"324.375\" stroke-linecap=\"round\" style=\"stroke:white;stroke-width:4\"/><line x1=\"518.75\" y1=\"324.375\" x2=\"528.125\" y2=\"324.375\" stroke-linecap=\"round\" style=\"stroke:white;stroke-width:4\"/><line x1=\"528.125\" y1=\"324.375\" x2=\"528.125\" y2=\"315.0\" stroke-linecap=\"round\" style=\"stroke:white;stroke-width:4\"/><line x1=\"528.125\" y1=\"315.0\" x2=\"537.5\" y2=\"315.0\" stroke-linecap=\"round\" style=\"stroke:white;stroke-width:4\"/><line x1=\"537.5\" y1=\"315.0\" x2=\"537.5\" y2=\"305.625\" stroke-linecap=\"round\" style=\"stroke:white;stroke-width:4\"/><line x1=\"537.5\" y1=\"305.625\" x2=\"528.125\" y2=\"305.625\" stroke-linecap=\"round\" style=\"stroke:white;stroke-width:4\"/><line x1=\"528.125\" y1=\"305.625\" x2=\"528.125\" y2=\"296.25\" stroke-linecap=\"round\" style=\"stroke:white;stroke-width:4\"/><line x1=\"528.125\" y1=\"296.25\" x2=\"537.5\" y2=\"296.25\" stroke-linecap=\"round\" style=\"stroke:white;stroke-width:4\"/><line x1=\"537.5\" y1=\"296.25\" x2=\"546.875\" y2=\"296.25\" stroke-linecap=\"round\" style=\"stroke:white;stroke-width:4\"/><line x1=\"546.875\" y1=\"296.25\" x2=\"546.875\" y2=\"286.875\" stroke-linecap=\"round\" style=\"stroke:white;stroke-width:4\"/><line x1=\"546.875\" y1=\"286.875\" x2=\"537.5\" y2=\"286.875\" stroke-linecap=\"round\" style=\"stroke:white;stroke-width:4\"/><line x1=\"537.5\" y1=\"286.875\" x2=\"537.5\" y2=\"277.5\" stroke-linecap=\"round\" style=\"stroke:white;stroke-width:4\"/><line x1=\"537.5\" y1=\"277.5\" x2=\"528.125\" y2=\"277.5\" stroke-linecap=\"round\" style=\"stroke:white;stroke-width:4\"/><line x1=\"528.125\" y1=\"277.5\" x2=\"528.125\" y2=\"286.875\" stroke-linecap=\"round\" style=\"stroke:white;stroke-width:4\"/><line x1=\"528.125\" y1=\"286.875\" x2=\"518.75\" y2=\"286.875\" stroke-linecap=\"round\" style=\"stroke:white;stroke-width:4\"/><line x1=\"518.75\" y1=\"286.875\" x2=\"518.75\" y2=\"277.5\" stroke-linecap=\"round\" style=\"stroke:white;stroke-width:4\"/><line x1=\"518.75\" y1=\"277.5\" x2=\"518.75\" y2=\"268.125\" stroke-linecap=\"round\" style=\"stroke:white;stroke-width:4\"/><line x1=\"518.75\" y1=\"268.125\" x2=\"509.375\" y2=\"268.125\" stroke-linecap=\"round\" style=\"stroke:white;stroke-width:4\"/><line x1=\"509.375\" y1=\"268.125\" x2=\"509.375\" y2=\"277.5\" stroke-linecap=\"round\" style=\"stroke:white;stroke-width:4\"/><line x1=\"509.375\" y1=\"277.5\" x2=\"500.0\" y2=\"277.5\" stroke-linecap=\"round\" style=\"stroke:white;stroke-width:4\"/><line x1=\"500.0\" y1=\"277.5\" x2=\"500.0\" y2=\"268.125\" stroke-linecap=\"round\" style=\"stroke:white;stroke-width:4\"/><line x1=\"500.0\" y1=\"268.125\" x2=\"490.625\" y2=\"268.125\" stroke-linecap=\"round\" style=\"stroke:white;stroke-width:4\"/><line x1=\"490.625\" y1=\"268.125\" x2=\"490.625\" y2=\"258.75\" stroke-linecap=\"round\" style=\"stroke:white;stroke-width:4\"/><line x1=\"490.625\" y1=\"258.75\" x2=\"500.0\" y2=\"258.75\" stroke-linecap=\"round\" style=\"stroke:white;stroke-width:4\"/><line x1=\"500.0\" y1=\"258.75\" x2=\"509.375\" y2=\"258.75\" stroke-linecap=\"round\" style=\"stroke:white;stroke-width:4\"/><line x1=\"509.375\" y1=\"258.75\" x2=\"509.375\" y2=\"249.375\" stroke-linecap=\"round\" style=\"stroke:white;stroke-width:4\"/><line x1=\"509.375\" y1=\"249.375\" x2=\"500.0\" y2=\"249.375\" stroke-linecap=\"round\" style=\"stroke:white;stroke-width:4\"/><line x1=\"500.0\" y1=\"249.375\" x2=\"500.0\" y2=\"240.0\" stroke-linecap=\"round\" style=\"stroke:white;stroke-width:4\"/><line x1=\"500.0\" y1=\"240.0\" x2=\"509.375\" y2=\"240.0\" stroke-linecap=\"round\" style=\"stroke:white;stroke-width:4\"/><line x1=\"509.375\" y1=\"240.0\" x2=\"509.375\" y2=\"230.625\" stroke-linecap=\"round\" style=\"stroke:white;stroke-width:4\"/><line x1=\"509.375\" y1=\"230.625\" x2=\"518.75\" y2=\"230.625\" stroke-linecap=\"round\" style=\"stroke:white;stroke-width:4\"/><line x1=\"518.75\" y1=\"230.625\" x2=\"518.75\" y2=\"240.0\" stroke-linecap=\"round\" style=\"stroke:white;stroke-width:4\"/><line x1=\"518.75\" y1=\"240.0\" x2=\"518.75\" y2=\"249.375\" stroke-linecap=\"round\" style=\"stroke:white;stroke-width:4\"/><line x1=\"518.75\" y1=\"249.375\" x2=\"528.125\" y2=\"249.375\" stroke-linecap=\"round\" style=\"stroke:white;stroke-width:4\"/><line x1=\"528.125\" y1=\"249.375\" x2=\"528.125\" y2=\"240.0\" stroke-linecap=\"round\" style=\"stroke:white;stroke-width:4\"/><line x1=\"528.125\" y1=\"240.0\" x2=\"537.5\" y2=\"240.0\" stroke-linecap=\"round\" style=\"stroke:white;stroke-width:4\"/><line x1=\"537.5\" y1=\"240.0\" x2=\"537.5\" y2=\"230.625\" stroke-linecap=\"round\" style=\"stroke:white;stroke-width:4\"/><line x1=\"537.5\" y1=\"230.625\" x2=\"528.125\" y2=\"230.625\" stroke-linecap=\"round\" style=\"stroke:white;stroke-width:4\"/><line x1=\"528.125\" y1=\"230.625\" x2=\"528.125\" y2=\"221.25\" stroke-linecap=\"round\" style=\"stroke:white;stroke-width:4\"/><line x1=\"528.125\" y1=\"221.25\" x2=\"537.5\" y2=\"221.25\" stroke-linecap=\"round\" style=\"stroke:white;stroke-width:4\"/><line x1=\"537.5\" y1=\"221.25\" x2=\"546.875\" y2=\"221.25\" stroke-linecap=\"round\" style=\"stroke:white;stroke-width:4\"/><line x1=\"546.875\" y1=\"221.25\" x2=\"546.875\" y2=\"211.875\" stroke-linecap=\"round\" style=\"stroke:white;stroke-width:4\"/><line x1=\"546.875\" y1=\"211.875\" x2=\"537.5\" y2=\"211.875\" stroke-linecap=\"round\" style=\"stroke:white;stroke-width:4\"/><line x1=\"537.5\" y1=\"211.875\" x2=\"537.5\" y2=\"202.5\" stroke-linecap=\"round\" style=\"stroke:white;stroke-width:4\"/><line x1=\"537.5\" y1=\"202.5\" x2=\"546.875\" y2=\"202.5\" stroke-linecap=\"round\" style=\"stroke:white;stroke-width:4\"/><line x1=\"546.875\" y1=\"202.5\" x2=\"546.875\" y2=\"193.125\" stroke-linecap=\"round\" style=\"stroke:white;stroke-width:4\"/><line x1=\"546.875\" y1=\"193.125\" x2=\"556.25\" y2=\"193.125\" stroke-linecap=\"round\" style=\"stroke:white;stroke-width:4\"/><line x1=\"556.25\" y1=\"193.125\" x2=\"556.25\" y2=\"202.5\" stroke-linecap=\"round\" style=\"stroke:white;stroke-width:4\"/><line x1=\"556.25\" y1=\"202.5\" x2=\"556.25\" y2=\"211.875\" stroke-linecap=\"round\" style=\"stroke:white;stroke-width:4\"/><line x1=\"556.25\" y1=\"211.875\" x2=\"565.625\" y2=\"211.875\" stroke-linecap=\"round\" style=\"stroke:white;stroke-width:4\"/><line x1=\"565.625\" y1=\"211.875\" x2=\"565.625\" y2=\"202.5\" stroke-linecap=\"round\" style=\"stroke:white;stroke-width:4\"/><line x1=\"565.625\" y1=\"202.5\" x2=\"575.0\" y2=\"202.5\" stroke-linecap=\"round\" style=\"stroke:white;stroke-width:4\"/><line x1=\"575.0\" y1=\"202.5\" x2=\"575.0\" y2=\"211.875\" stroke-linecap=\"round\" style=\"stroke:white;stroke-width:4\"/><line x1=\"575.0\" y1=\"211.875\" x2=\"584.375\" y2=\"211.875\" stroke-linecap=\"round\" style=\"stroke:white;stroke-width:4\"/><line x1=\"584.375\" y1=\"211.875\" x2=\"584.375\" y2=\"221.25\" stroke-linecap=\"round\" style=\"stroke:white;stroke-width:4\"/><line x1=\"584.375\" y1=\"221.25\" x2=\"575.0\" y2=\"221.25\" stroke-linecap=\"round\" style=\"stroke:white;stroke-width:4\"/><line x1=\"575.0\" y1=\"221.25\" x2=\"565.625\" y2=\"221.25\" stroke-linecap=\"round\" style=\"stroke:white;stroke-width:4\"/><line x1=\"565.625\" y1=\"221.25\" x2=\"565.625\" y2=\"230.625\" stroke-linecap=\"round\" style=\"stroke:white;stroke-width:4\"/><line x1=\"565.625\" y1=\"230.625\" x2=\"575.0\" y2=\"230.625\" stroke-linecap=\"round\" style=\"stroke:white;stroke-width:4\"/><line x1=\"575.0\" y1=\"230.625\" x2=\"575.0\" y2=\"240.0\" stroke-linecap=\"round\" style=\"stroke:white;stroke-width:4\"/><line x1=\"575.0\" y1=\"240.0\" x2=\"575.0\" y2=\"249.375\" stroke-linecap=\"round\" style=\"stroke:white;stroke-width:4\"/><line x1=\"575.0\" y1=\"249.375\" x2=\"584.375\" y2=\"249.375\" stroke-linecap=\"round\" style=\"stroke:white;stroke-width:4\"/><line x1=\"584.375\" y1=\"249.375\" x2=\"584.375\" y2=\"258.75\" stroke-linecap=\"round\" style=\"stroke:white;stroke-width:4\"/><line x1=\"584.375\" y1=\"258.75\" x2=\"575.0\" y2=\"258.75\" stroke-linecap=\"round\" style=\"stroke:white;stroke-width:4\"/><line x1=\"575.0\" y1=\"258.75\" x2=\"565.625\" y2=\"258.75\" stroke-linecap=\"round\" style=\"stroke:white;stroke-width:4\"/><line x1=\"565.625\" y1=\"258.75\" x2=\"565.625\" y2=\"268.125\" stroke-linecap=\"round\" style=\"stroke:white;stroke-width:4\"/><line x1=\"565.625\" y1=\"268.125\" x2=\"575.0\" y2=\"268.125\" stroke-linecap=\"round\" style=\"stroke:white;stroke-width:4\"/><line x1=\"575.0\" y1=\"268.125\" x2=\"575.0\" y2=\"277.5\" stroke-linecap=\"round\" style=\"stroke:white;stroke-width:4\"/><line x1=\"575.0\" y1=\"277.5\" x2=\"584.375\" y2=\"277.5\" stroke-linecap=\"round\" style=\"stroke:white;stroke-width:4\"/><line x1=\"584.375\" y1=\"277.5\" x2=\"584.375\" y2=\"268.125\" stroke-linecap=\"round\" style=\"stroke:white;stroke-width:4\"/><line x1=\"584.375\" y1=\"268.125\" x2=\"593.75\" y2=\"268.125\" stroke-linecap=\"round\" style=\"stroke:white;stroke-width:4\"/><line x1=\"593.75\" y1=\"268.125\" x2=\"593.75\" y2=\"277.5\" stroke-linecap=\"round\" style=\"stroke:white;stroke-width:4\"/><line x1=\"593.75\" y1=\"277.5\" x2=\"593.75\" y2=\"286.875\" stroke-linecap=\"round\" style=\"stroke:white;stroke-width:4\"/><line x1=\"593.75\" y1=\"286.875\" x2=\"603.125\" y2=\"286.875\" stroke-linecap=\"round\" style=\"stroke:white;stroke-width:4\"/><line x1=\"603.125\" y1=\"286.875\" x2=\"603.125\" y2=\"277.5\" stroke-linecap=\"round\" style=\"stroke:white;stroke-width:4\"/><line x1=\"603.125\" y1=\"277.5\" x2=\"612.5\" y2=\"277.5\" stroke-linecap=\"round\" style=\"stroke:white;stroke-width:4\"/><line x1=\"612.5\" y1=\"277.5\" x2=\"612.5\" y2=\"268.125\" stroke-linecap=\"round\" style=\"stroke:white;stroke-width:4\"/><line x1=\"612.5\" y1=\"268.125\" x2=\"603.125\" y2=\"268.125\" stroke-linecap=\"round\" style=\"stroke:white;stroke-width:4\"/><line x1=\"603.125\" y1=\"268.125\" x2=\"603.125\" y2=\"258.75\" stroke-linecap=\"round\" style=\"stroke:white;stroke-width:4\"/><line x1=\"603.125\" y1=\"258.75\" x2=\"612.5\" y2=\"258.75\" stroke-linecap=\"round\" style=\"stroke:white;stroke-width:4\"/><line x1=\"612.5\" y1=\"258.75\" x2=\"621.875\" y2=\"258.75\" stroke-linecap=\"round\" style=\"stroke:white;stroke-width:4\"/><line x1=\"621.875\" y1=\"258.75\" x2=\"621.875\" y2=\"249.375\" stroke-linecap=\"round\" style=\"stroke:white;stroke-width:4\"/><line x1=\"621.875\" y1=\"249.375\" x2=\"612.5\" y2=\"249.375\" stroke-linecap=\"round\" style=\"stroke:white;stroke-width:4\"/><line x1=\"612.5\" y1=\"249.375\" x2=\"612.5\" y2=\"240.0\" stroke-linecap=\"round\" style=\"stroke:white;stroke-width:4\"/><line x1=\"612.5\" y1=\"240.0\" x2=\"621.875\" y2=\"240.0\" stroke-linecap=\"round\" style=\"stroke:white;stroke-width:4\"/><line x1=\"621.875\" y1=\"240.0\" x2=\"621.875\" y2=\"230.625\" stroke-linecap=\"round\" style=\"stroke:white;stroke-width:4\"/><line x1=\"621.875\" y1=\"230.625\" x2=\"631.25\" y2=\"230.625\" stroke-linecap=\"round\" style=\"stroke:white;stroke-width:4\"/><line x1=\"631.25\" y1=\"230.625\" x2=\"631.25\" y2=\"240.0\" stroke-linecap=\"round\" style=\"stroke:white;stroke-width:4\"/><line x1=\"631.25\" y1=\"240.0\" x2=\"631.25\" y2=\"249.375\" stroke-linecap=\"round\" style=\"stroke:white;stroke-width:4\"/><line x1=\"631.25\" y1=\"249.375\" x2=\"640.625\" y2=\"249.375\" stroke-linecap=\"round\" style=\"stroke:white;stroke-width:4\"/><line x1=\"640.625\" y1=\"249.375\" x2=\"640.625\" y2=\"240.0\" stroke-linecap=\"round\" style=\"stroke:white;stroke-width:4\"/><line x1=\"640.625\" y1=\"240.0\" x2=\"650.0\" y2=\"240.0\" stroke-linecap=\"round\" style=\"stroke:white;stroke-width:4\"/>\n",
              "        <g visibility=visible transform=\"rotate(90,650.0,240.0) translate(632.0, 222.0)\">\n",
              "<path style=\" stroke:none;fill-rule:evenodd;fill:white;fill-opacity:1;\" d=\"M 18.214844 0.632812 C 16.109375 1.800781 15.011719 4.074219 15.074219 7.132812 L 15.085938 7.652344 L 14.785156 7.496094 C 13.476562 6.824219 11.957031 6.671875 10.40625 7.066406 C 8.46875 7.550781 6.515625 9.15625 4.394531 11.992188 C 3.0625 13.777344 2.679688 14.636719 3.042969 15.027344 L 3.15625 15.152344 L 3.519531 15.152344 C 4.238281 15.152344 4.828125 14.886719 8.1875 13.039062 C 9.386719 12.378906 10.371094 11.839844 10.378906 11.839844 C 10.386719 11.839844 10.355469 11.929688 10.304688 12.035156 C 9.832031 13.09375 9.257812 14.820312 8.96875 16.078125 C 7.914062 20.652344 8.617188 24.53125 11.070312 27.660156 C 11.351562 28.015625 11.363281 27.914062 10.972656 28.382812 C 8.925781 30.84375 7.945312 33.28125 8.238281 35.1875 C 8.289062 35.527344 8.28125 35.523438 8.917969 35.523438 C 10.941406 35.523438 13.074219 34.207031 15.136719 31.6875 C 15.359375 31.417969 15.328125 31.425781 15.5625 31.574219 C 16.292969 32.042969 18.023438 32.964844 18.175781 32.964844 C 18.335938 32.964844 19.941406 32.210938 20.828125 31.71875 C 20.996094 31.625 21.136719 31.554688 21.136719 31.558594 C 21.203125 31.664062 21.898438 32.414062 22.222656 32.730469 C 23.835938 34.300781 25.5625 35.132812 27.582031 35.300781 C 27.90625 35.328125 27.9375 35.308594 28.007812 34.984375 C 28.382812 33.242188 27.625 30.925781 25.863281 28.425781 L 25.542969 27.96875 L 25.699219 27.785156 C 28.945312 23.960938 29.132812 18.699219 26.257812 11.96875 L 26.207031 11.84375 L 27.945312 12.703125 C 31.53125 14.476562 32.316406 14.800781 33.03125 14.800781 C 33.976562 14.800781 33.78125 13.9375 32.472656 12.292969 C 28.519531 7.355469 25.394531 5.925781 21.921875 7.472656 L 21.558594 7.636719 L 21.578125 7.542969 C 21.699219 6.992188 21.761719 5.742188 21.699219 5.164062 C 21.496094 3.296875 20.664062 1.964844 19.003906 0.855469 C 18.480469 0.503906 18.457031 0.5 18.214844 0.632812\"/>\n",
              "</g>\n",
              "      </svg>\n",
              "    "
            ],
            "text/plain": [
              "<IPython.core.display.HTML object>"
            ]
          },
          "metadata": {}
        }
      ]
    },
    {
      "cell_type": "markdown",
      "source": [
        "## Упражнение №6: кривая Леви\n",
        "Нарисуйте кривую Леви. Она получается, если взять половину квадрата вида /\\, а затем каждую сторону заменить таким же фрагментом и так далее."
      ],
      "metadata": {
        "id": "yYC6WbZarDXi"
      }
    },
    {
      "cell_type": "code",
      "source": [
        "!pip3 install ColabTurtle\n",
        "import ColabTurtle.Turtle as turtle\n",
        "\n",
        "\n",
        "def levy(l, n):\n",
        "  if n == 0:\n",
        "    turtle.forward(l)\n",
        "    return\n",
        "  turtle.left(45)\n",
        "  levy(l, n-1)\n",
        "  turtle.right(90)\n",
        "  levy(l, n-1)\n",
        "  turtle.left(45)\n",
        "\n",
        "\n",
        "REC_DEPTH = 6\n",
        "turtle.speed(13)\n",
        "turtle.initializeTurtle()\n",
        "turtle.penup()\n",
        "turtle.goto(200, 400)\n",
        "turtle.right(90)\n",
        "turtle.pendown()\n",
        "levy(50, REC_DEPTH)"
      ],
      "metadata": {
        "colab": {
          "base_uri": "https://localhost:8080/",
          "height": 539
        },
        "id": "CuGcJCLSrVOw",
        "outputId": "083c0c41-8ea7-4f74-d38a-b5962a162fff"
      },
      "execution_count": null,
      "outputs": [
        {
          "output_type": "stream",
          "name": "stdout",
          "text": [
            "Requirement already satisfied: ColabTurtle in /usr/local/lib/python3.7/dist-packages (2.1.0)\n"
          ]
        },
        {
          "output_type": "display_data",
          "data": {
            "text/html": [
              "\n",
              "      <svg width=\"800\" height=\"500\">\n",
              "        <rect width=\"100%\" height=\"100%\" fill=\"black\"/>\n",
              "        <line x1=\"200\" y1=\"400\" x2=\"200.0\" y2=\"450.0\" stroke-linecap=\"round\" style=\"stroke:white;stroke-width:4\"/><line x1=\"200.0\" y1=\"450.0\" x2=\"150.0\" y2=\"450.0\" stroke-linecap=\"round\" style=\"stroke:white;stroke-width:4\"/><line x1=\"150.0\" y1=\"450.0\" x2=\"100.0\" y2=\"450.0\" stroke-linecap=\"round\" style=\"stroke:white;stroke-width:4\"/><line x1=\"100.0\" y1=\"450.0\" x2=\"100.0\" y2=\"400.0\" stroke-linecap=\"round\" style=\"stroke:white;stroke-width:4\"/><line x1=\"100.0\" y1=\"400.0\" x2=\"50.0\" y2=\"400.0\" stroke-linecap=\"round\" style=\"stroke:white;stroke-width:4\"/><line x1=\"50.0\" y1=\"400.0\" x2=\"50.0\" y2=\"350.0\" stroke-linecap=\"round\" style=\"stroke:white;stroke-width:4\"/><line x1=\"50.0\" y1=\"350.0\" x2=\"50.0\" y2=\"300.0\" stroke-linecap=\"round\" style=\"stroke:white;stroke-width:4\"/><line x1=\"50.0\" y1=\"300.0\" x2=\"100.0\" y2=\"300.0\" stroke-linecap=\"round\" style=\"stroke:white;stroke-width:4\"/><line x1=\"100.0\" y1=\"300.0\" x2=\"50.0\" y2=\"300.0\" stroke-linecap=\"round\" style=\"stroke:white;stroke-width:4\"/><line x1=\"50.0\" y1=\"300.0\" x2=\"50.0\" y2=\"250.0\" stroke-linecap=\"round\" style=\"stroke:white;stroke-width:4\"/><line x1=\"50.0\" y1=\"250.0\" x2=\"50.0\" y2=\"200.0\" stroke-linecap=\"round\" style=\"stroke:white;stroke-width:4\"/><line x1=\"50.0\" y1=\"200.0\" x2=\"100.0\" y2=\"200.0\" stroke-linecap=\"round\" style=\"stroke:white;stroke-width:4\"/><line x1=\"100.0\" y1=\"200.0\" x2=\"100.0\" y2=\"150.0\" stroke-linecap=\"round\" style=\"stroke:white;stroke-width:4\"/><line x1=\"100.0\" y1=\"150.0\" x2=\"150.0\" y2=\"150.0\" stroke-linecap=\"round\" style=\"stroke:white;stroke-width:4\"/><line x1=\"150.0\" y1=\"150.0\" x2=\"200.0\" y2=\"150.0\" stroke-linecap=\"round\" style=\"stroke:white;stroke-width:4\"/><line x1=\"200.0\" y1=\"150.0\" x2=\"200.0\" y2=\"200.0\" stroke-linecap=\"round\" style=\"stroke:white;stroke-width:4\"/><line x1=\"200.0\" y1=\"200.0\" x2=\"150.0\" y2=\"200.0\" stroke-linecap=\"round\" style=\"stroke:white;stroke-width:4\"/><line x1=\"150.0\" y1=\"200.0\" x2=\"150.0\" y2=\"150.0\" stroke-linecap=\"round\" style=\"stroke:white;stroke-width:4\"/><line x1=\"150.0\" y1=\"150.0\" x2=\"150.0\" y2=\"100.0\" stroke-linecap=\"round\" style=\"stroke:white;stroke-width:4\"/><line x1=\"150.0\" y1=\"100.0\" x2=\"200.0\" y2=\"100.0\" stroke-linecap=\"round\" style=\"stroke:white;stroke-width:4\"/><line x1=\"200.0\" y1=\"100.0\" x2=\"200.0\" y2=\"50.0\" stroke-linecap=\"round\" style=\"stroke:white;stroke-width:4\"/><line x1=\"200.0\" y1=\"50.0\" x2=\"250.0\" y2=\"50.0\" stroke-linecap=\"round\" style=\"stroke:white;stroke-width:4\"/><line x1=\"250.0\" y1=\"50.0\" x2=\"300.0\" y2=\"50.0\" stroke-linecap=\"round\" style=\"stroke:white;stroke-width:4\"/><line x1=\"300.0\" y1=\"50.0\" x2=\"300.0\" y2=\"100.0\" stroke-linecap=\"round\" style=\"stroke:white;stroke-width:4\"/><line x1=\"300.0\" y1=\"100.0\" x2=\"300.0\" y2=\"50.0\" stroke-linecap=\"round\" style=\"stroke:white;stroke-width:4\"/><line x1=\"300.0\" y1=\"50.0\" x2=\"350.0\" y2=\"50.0\" stroke-linecap=\"round\" style=\"stroke:white;stroke-width:4\"/><line x1=\"350.0\" y1=\"50.0\" x2=\"400.0\" y2=\"50.0\" stroke-linecap=\"round\" style=\"stroke:white;stroke-width:4\"/><line x1=\"400.0\" y1=\"50.0\" x2=\"400.0\" y2=\"100.0\" stroke-linecap=\"round\" style=\"stroke:white;stroke-width:4\"/><line x1=\"400.0\" y1=\"100.0\" x2=\"450.0\" y2=\"100.0\" stroke-linecap=\"round\" style=\"stroke:white;stroke-width:4\"/><line x1=\"450.0\" y1=\"100.0\" x2=\"450.0\" y2=\"150.0\" stroke-linecap=\"round\" style=\"stroke:white;stroke-width:4\"/><line x1=\"450.0\" y1=\"150.0\" x2=\"450.0\" y2=\"200.0\" stroke-linecap=\"round\" style=\"stroke:white;stroke-width:4\"/><line x1=\"450.0\" y1=\"200.0\" x2=\"400.0\" y2=\"200.0\" stroke-linecap=\"round\" style=\"stroke:white;stroke-width:4\"/><line x1=\"400.0\" y1=\"200.0\" x2=\"350.0\" y2=\"200.0\" stroke-linecap=\"round\" style=\"stroke:white;stroke-width:4\"/><line x1=\"350.0\" y1=\"200.0\" x2=\"350.0\" y2=\"150.0\" stroke-linecap=\"round\" style=\"stroke:white;stroke-width:4\"/><line x1=\"350.0\" y1=\"150.0\" x2=\"350.0\" y2=\"100.0\" stroke-linecap=\"round\" style=\"stroke:white;stroke-width:4\"/><line x1=\"350.0\" y1=\"100.0\" x2=\"400.0\" y2=\"100.0\" stroke-linecap=\"round\" style=\"stroke:white;stroke-width:4\"/><line x1=\"400.0\" y1=\"100.0\" x2=\"400.0\" y2=\"50.0\" stroke-linecap=\"round\" style=\"stroke:white;stroke-width:4\"/><line x1=\"400.0\" y1=\"50.0\" x2=\"450.0\" y2=\"50.0\" stroke-linecap=\"round\" style=\"stroke:white;stroke-width:4\"/><line x1=\"450.0\" y1=\"50.0\" x2=\"500.0\" y2=\"50.0\" stroke-linecap=\"round\" style=\"stroke:white;stroke-width:4\"/><line x1=\"500.0\" y1=\"50.0\" x2=\"500.0\" y2=\"100.0\" stroke-linecap=\"round\" style=\"stroke:white;stroke-width:4\"/><line x1=\"500.0\" y1=\"100.0\" x2=\"500.0\" y2=\"50.0\" stroke-linecap=\"round\" style=\"stroke:white;stroke-width:4\"/><line x1=\"500.0\" y1=\"50.0\" x2=\"550.0\" y2=\"50.0\" stroke-linecap=\"round\" style=\"stroke:white;stroke-width:4\"/><line x1=\"550.0\" y1=\"50.0\" x2=\"600.0\" y2=\"50.0\" stroke-linecap=\"round\" style=\"stroke:white;stroke-width:4\"/><line x1=\"600.0\" y1=\"50.0\" x2=\"600.0\" y2=\"100.0\" stroke-linecap=\"round\" style=\"stroke:white;stroke-width:4\"/><line x1=\"600.0\" y1=\"100.0\" x2=\"650.0\" y2=\"100.0\" stroke-linecap=\"round\" style=\"stroke:white;stroke-width:4\"/><line x1=\"650.0\" y1=\"100.0\" x2=\"650.0\" y2=\"150.0\" stroke-linecap=\"round\" style=\"stroke:white;stroke-width:4\"/><line x1=\"650.0\" y1=\"150.0\" x2=\"650.0\" y2=\"200.0\" stroke-linecap=\"round\" style=\"stroke:white;stroke-width:4\"/><line x1=\"650.0\" y1=\"200.0\" x2=\"600.0\" y2=\"200.0\" stroke-linecap=\"round\" style=\"stroke:white;stroke-width:4\"/><line x1=\"600.0\" y1=\"200.0\" x2=\"600.0\" y2=\"150.0\" stroke-linecap=\"round\" style=\"stroke:white;stroke-width:4\"/><line x1=\"600.0\" y1=\"150.0\" x2=\"650.0\" y2=\"150.0\" stroke-linecap=\"round\" style=\"stroke:white;stroke-width:4\"/><line x1=\"650.0\" y1=\"150.0\" x2=\"700.0\" y2=\"150.0\" stroke-linecap=\"round\" style=\"stroke:white;stroke-width:4\"/><line x1=\"700.0\" y1=\"150.0\" x2=\"700.0\" y2=\"200.0\" stroke-linecap=\"round\" style=\"stroke:white;stroke-width:4\"/><line x1=\"700.0\" y1=\"200.0\" x2=\"750.0\" y2=\"200.0\" stroke-linecap=\"round\" style=\"stroke:white;stroke-width:4\"/><line x1=\"750.0\" y1=\"200.0\" x2=\"750.0\" y2=\"250.0\" stroke-linecap=\"round\" style=\"stroke:white;stroke-width:4\"/><line x1=\"750.0\" y1=\"250.0\" x2=\"750.0\" y2=\"300.0\" stroke-linecap=\"round\" style=\"stroke:white;stroke-width:4\"/><line x1=\"750.0\" y1=\"300.0\" x2=\"700.0\" y2=\"300.0\" stroke-linecap=\"round\" style=\"stroke:white;stroke-width:4\"/><line x1=\"700.0\" y1=\"300.0\" x2=\"750.0\" y2=\"300.0\" stroke-linecap=\"round\" style=\"stroke:white;stroke-width:4\"/><line x1=\"750.0\" y1=\"300.0\" x2=\"750.0\" y2=\"350.0\" stroke-linecap=\"round\" style=\"stroke:white;stroke-width:4\"/><line x1=\"750.0\" y1=\"350.0\" x2=\"750.0\" y2=\"400.0\" stroke-linecap=\"round\" style=\"stroke:white;stroke-width:4\"/><line x1=\"750.0\" y1=\"400.0\" x2=\"700.0\" y2=\"400.0\" stroke-linecap=\"round\" style=\"stroke:white;stroke-width:4\"/><line x1=\"700.0\" y1=\"400.0\" x2=\"700.0\" y2=\"450.0\" stroke-linecap=\"round\" style=\"stroke:white;stroke-width:4\"/><line x1=\"700.0\" y1=\"450.0\" x2=\"650.0\" y2=\"450.0\" stroke-linecap=\"round\" style=\"stroke:white;stroke-width:4\"/><line x1=\"650.0\" y1=\"450.0\" x2=\"600.0\" y2=\"450.0\" stroke-linecap=\"round\" style=\"stroke:white;stroke-width:4\"/><line x1=\"600.0\" y1=\"450.0\" x2=\"600.0\" y2=\"400.0\" stroke-linecap=\"round\" style=\"stroke:white;stroke-width:4\"/>\n",
              "        <g visibility=visible transform=\"rotate(90,600.0,400.0) translate(582.0, 382.0)\">\n",
              "<path style=\" stroke:none;fill-rule:evenodd;fill:white;fill-opacity:1;\" d=\"M 18.214844 0.632812 C 16.109375 1.800781 15.011719 4.074219 15.074219 7.132812 L 15.085938 7.652344 L 14.785156 7.496094 C 13.476562 6.824219 11.957031 6.671875 10.40625 7.066406 C 8.46875 7.550781 6.515625 9.15625 4.394531 11.992188 C 3.0625 13.777344 2.679688 14.636719 3.042969 15.027344 L 3.15625 15.152344 L 3.519531 15.152344 C 4.238281 15.152344 4.828125 14.886719 8.1875 13.039062 C 9.386719 12.378906 10.371094 11.839844 10.378906 11.839844 C 10.386719 11.839844 10.355469 11.929688 10.304688 12.035156 C 9.832031 13.09375 9.257812 14.820312 8.96875 16.078125 C 7.914062 20.652344 8.617188 24.53125 11.070312 27.660156 C 11.351562 28.015625 11.363281 27.914062 10.972656 28.382812 C 8.925781 30.84375 7.945312 33.28125 8.238281 35.1875 C 8.289062 35.527344 8.28125 35.523438 8.917969 35.523438 C 10.941406 35.523438 13.074219 34.207031 15.136719 31.6875 C 15.359375 31.417969 15.328125 31.425781 15.5625 31.574219 C 16.292969 32.042969 18.023438 32.964844 18.175781 32.964844 C 18.335938 32.964844 19.941406 32.210938 20.828125 31.71875 C 20.996094 31.625 21.136719 31.554688 21.136719 31.558594 C 21.203125 31.664062 21.898438 32.414062 22.222656 32.730469 C 23.835938 34.300781 25.5625 35.132812 27.582031 35.300781 C 27.90625 35.328125 27.9375 35.308594 28.007812 34.984375 C 28.382812 33.242188 27.625 30.925781 25.863281 28.425781 L 25.542969 27.96875 L 25.699219 27.785156 C 28.945312 23.960938 29.132812 18.699219 26.257812 11.96875 L 26.207031 11.84375 L 27.945312 12.703125 C 31.53125 14.476562 32.316406 14.800781 33.03125 14.800781 C 33.976562 14.800781 33.78125 13.9375 32.472656 12.292969 C 28.519531 7.355469 25.394531 5.925781 21.921875 7.472656 L 21.558594 7.636719 L 21.578125 7.542969 C 21.699219 6.992188 21.761719 5.742188 21.699219 5.164062 C 21.496094 3.296875 20.664062 1.964844 19.003906 0.855469 C 18.480469 0.503906 18.457031 0.5 18.214844 0.632812\"/>\n",
              "</g>\n",
              "      </svg>\n",
              "    "
            ],
            "text/plain": [
              "<IPython.core.display.HTML object>"
            ]
          },
          "metadata": {}
        }
      ]
    },
    {
      "cell_type": "markdown",
      "source": [
        "## Нарисуйте кривую дракона. \n",
        "\n",
        "Кривая дракона нулевого порядка - горизонтальный отрезок. Разделим отрезок пополам и построим на нем прямой угол, получив кривую дракона первого порядка:\n",
        "\n",
        "\n",
        "На сторонах прямого угла снова построим прямые углы. При этом вершина первого угла находится справа от начальной точки A, а направления, в которых строятся вершины остальных углов, чередуются.\n",
        "\n"
      ],
      "metadata": {
        "id": "pPtRANgduHKV"
      }
    },
    {
      "cell_type": "code",
      "source": [
        "!pip3 install ColabTurtle\n",
        "import ColabTurtle.Turtle as turtle\n",
        "\n",
        "\n",
        "def dragon(l, n, right=True):\n",
        "  if n == 0:\n",
        "    turtle.forward(l)\n",
        "    return\n",
        "  if right:\n",
        "    turtle.right(45)\n",
        "    dragon(l, n-1)\n",
        "    turtle.left(90)\n",
        "    dragon(l, n-1, right=False)\n",
        "    turtle.right(45)\n",
        "  else:\n",
        "    turtle.left(45)\n",
        "    dragon(l, n-1)\n",
        "    turtle.right(90)\n",
        "    dragon(l, n-1, right=False)\n",
        "    turtle.left(45)\n",
        "\n",
        "\n",
        "REC_DEPTH = 8\n",
        "turtle.speed(13)\n",
        "turtle.initializeTurtle()\n",
        "turtle.penup()\n",
        "turtle.goto(600, 400)\n",
        "turtle.pendown()\n",
        "dragon(10, REC_DEPTH)\n"
      ],
      "metadata": {
        "colab": {
          "base_uri": "https://localhost:8080/",
          "height": 539
        },
        "id": "IQvc8_k24B4r",
        "outputId": "0585f371-307e-4580-ff8e-f491b6c54624"
      },
      "execution_count": null,
      "outputs": [
        {
          "output_type": "stream",
          "name": "stdout",
          "text": [
            "Requirement already satisfied: ColabTurtle in /usr/local/lib/python3.7/dist-packages (2.1.0)\n"
          ]
        },
        {
          "output_type": "display_data",
          "data": {
            "text/html": [
              "\n",
              "      <svg width=\"800\" height=\"500\">\n",
              "        <rect width=\"100%\" height=\"100%\" fill=\"black\"/>\n",
              "        <line x1=\"600\" y1=\"400\" x2=\"600.0\" y2=\"390.0\" stroke-linecap=\"round\" style=\"stroke:white;stroke-width:4\"/><line x1=\"600.0\" y1=\"390.0\" x2=\"590.0\" y2=\"390.0\" stroke-linecap=\"round\" style=\"stroke:white;stroke-width:4\"/><line x1=\"590.0\" y1=\"390.0\" x2=\"590.0\" y2=\"400.0\" stroke-linecap=\"round\" style=\"stroke:white;stroke-width:4\"/><line x1=\"590.0\" y1=\"400.0\" x2=\"580.0\" y2=\"400.0\" stroke-linecap=\"round\" style=\"stroke:white;stroke-width:4\"/><line x1=\"580.0\" y1=\"400.0\" x2=\"580.0\" y2=\"410.0\" stroke-linecap=\"round\" style=\"stroke:white;stroke-width:4\"/><line x1=\"580.0\" y1=\"410.0\" x2=\"590.0\" y2=\"410.0\" stroke-linecap=\"round\" style=\"stroke:white;stroke-width:4\"/><line x1=\"590.0\" y1=\"410.0\" x2=\"590.0\" y2=\"420.0\" stroke-linecap=\"round\" style=\"stroke:white;stroke-width:4\"/><line x1=\"590.0\" y1=\"420.0\" x2=\"580.0\" y2=\"420.0\" stroke-linecap=\"round\" style=\"stroke:white;stroke-width:4\"/><line x1=\"580.0\" y1=\"420.0\" x2=\"580.0\" y2=\"430.0\" stroke-linecap=\"round\" style=\"stroke:white;stroke-width:4\"/><line x1=\"580.0\" y1=\"430.0\" x2=\"590.0\" y2=\"430.0\" stroke-linecap=\"round\" style=\"stroke:white;stroke-width:4\"/><line x1=\"590.0\" y1=\"430.0\" x2=\"590.0\" y2=\"420.0\" stroke-linecap=\"round\" style=\"stroke:white;stroke-width:4\"/><line x1=\"590.0\" y1=\"420.0\" x2=\"600.0\" y2=\"420.0\" stroke-linecap=\"round\" style=\"stroke:white;stroke-width:4\"/><line x1=\"600.0\" y1=\"420.0\" x2=\"600.0\" y2=\"430.0\" stroke-linecap=\"round\" style=\"stroke:white;stroke-width:4\"/><line x1=\"600.0\" y1=\"430.0\" x2=\"610.0\" y2=\"430.0\" stroke-linecap=\"round\" style=\"stroke:white;stroke-width:4\"/><line x1=\"610.0\" y1=\"430.0\" x2=\"610.0\" y2=\"440.0\" stroke-linecap=\"round\" style=\"stroke:white;stroke-width:4\"/><line x1=\"610.0\" y1=\"440.0\" x2=\"600.0\" y2=\"440.0\" stroke-linecap=\"round\" style=\"stroke:white;stroke-width:4\"/><line x1=\"600.0\" y1=\"440.0\" x2=\"600.0\" y2=\"450.0\" stroke-linecap=\"round\" style=\"stroke:white;stroke-width:4\"/><line x1=\"600.0\" y1=\"450.0\" x2=\"610.0\" y2=\"450.0\" stroke-linecap=\"round\" style=\"stroke:white;stroke-width:4\"/><line x1=\"610.0\" y1=\"450.0\" x2=\"610.0\" y2=\"440.0\" stroke-linecap=\"round\" style=\"stroke:white;stroke-width:4\"/><line x1=\"610.0\" y1=\"440.0\" x2=\"620.0\" y2=\"440.0\" stroke-linecap=\"round\" style=\"stroke:white;stroke-width:4\"/><line x1=\"620.0\" y1=\"440.0\" x2=\"620.0\" y2=\"430.0\" stroke-linecap=\"round\" style=\"stroke:white;stroke-width:4\"/><line x1=\"620.0\" y1=\"430.0\" x2=\"610.0\" y2=\"430.0\" stroke-linecap=\"round\" style=\"stroke:white;stroke-width:4\"/><line x1=\"610.0\" y1=\"430.0\" x2=\"610.0\" y2=\"420.0\" stroke-linecap=\"round\" style=\"stroke:white;stroke-width:4\"/><line x1=\"610.0\" y1=\"420.0\" x2=\"620.0\" y2=\"420.0\" stroke-linecap=\"round\" style=\"stroke:white;stroke-width:4\"/><line x1=\"620.0\" y1=\"420.0\" x2=\"620.0\" y2=\"430.0\" stroke-linecap=\"round\" style=\"stroke:white;stroke-width:4\"/><line x1=\"620.0\" y1=\"430.0\" x2=\"630.0\" y2=\"430.0\" stroke-linecap=\"round\" style=\"stroke:white;stroke-width:4\"/><line x1=\"630.0\" y1=\"430.0\" x2=\"630.0\" y2=\"420.0\" stroke-linecap=\"round\" style=\"stroke:white;stroke-width:4\"/><line x1=\"630.0\" y1=\"420.0\" x2=\"640.0\" y2=\"420.0\" stroke-linecap=\"round\" style=\"stroke:white;stroke-width:4\"/><line x1=\"640.0\" y1=\"420.0\" x2=\"640.0\" y2=\"430.0\" stroke-linecap=\"round\" style=\"stroke:white;stroke-width:4\"/><line x1=\"640.0\" y1=\"430.0\" x2=\"650.0\" y2=\"430.0\" stroke-linecap=\"round\" style=\"stroke:white;stroke-width:4\"/><line x1=\"650.0\" y1=\"430.0\" x2=\"650.0\" y2=\"440.0\" stroke-linecap=\"round\" style=\"stroke:white;stroke-width:4\"/><line x1=\"650.0\" y1=\"440.0\" x2=\"640.0\" y2=\"440.0\" stroke-linecap=\"round\" style=\"stroke:white;stroke-width:4\"/><line x1=\"640.0\" y1=\"440.0\" x2=\"640.0\" y2=\"450.0\" stroke-linecap=\"round\" style=\"stroke:white;stroke-width:4\"/><line x1=\"640.0\" y1=\"450.0\" x2=\"650.0\" y2=\"450.0\" stroke-linecap=\"round\" style=\"stroke:white;stroke-width:4\"/><line x1=\"650.0\" y1=\"450.0\" x2=\"650.0\" y2=\"440.0\" stroke-linecap=\"round\" style=\"stroke:white;stroke-width:4\"/><line x1=\"650.0\" y1=\"440.0\" x2=\"660.0\" y2=\"440.0\" stroke-linecap=\"round\" style=\"stroke:white;stroke-width:4\"/><line x1=\"660.0\" y1=\"440.0\" x2=\"660.0\" y2=\"430.0\" stroke-linecap=\"round\" style=\"stroke:white;stroke-width:4\"/><line x1=\"660.0\" y1=\"430.0\" x2=\"650.0\" y2=\"430.0\" stroke-linecap=\"round\" style=\"stroke:white;stroke-width:4\"/><line x1=\"650.0\" y1=\"430.0\" x2=\"650.0\" y2=\"420.0\" stroke-linecap=\"round\" style=\"stroke:white;stroke-width:4\"/><line x1=\"650.0\" y1=\"420.0\" x2=\"660.0\" y2=\"420.0\" stroke-linecap=\"round\" style=\"stroke:white;stroke-width:4\"/><line x1=\"660.0\" y1=\"420.0\" x2=\"660.0\" y2=\"410.0\" stroke-linecap=\"round\" style=\"stroke:white;stroke-width:4\"/><line x1=\"660.0\" y1=\"410.0\" x2=\"650.0\" y2=\"410.0\" stroke-linecap=\"round\" style=\"stroke:white;stroke-width:4\"/><line x1=\"650.0\" y1=\"410.0\" x2=\"650.0\" y2=\"420.0\" stroke-linecap=\"round\" style=\"stroke:white;stroke-width:4\"/><line x1=\"650.0\" y1=\"420.0\" x2=\"640.0\" y2=\"420.0\" stroke-linecap=\"round\" style=\"stroke:white;stroke-width:4\"/><line x1=\"640.0\" y1=\"420.0\" x2=\"640.0\" y2=\"410.0\" stroke-linecap=\"round\" style=\"stroke:white;stroke-width:4\"/><line x1=\"640.0\" y1=\"410.0\" x2=\"630.0\" y2=\"410.0\" stroke-linecap=\"round\" style=\"stroke:white;stroke-width:4\"/><line x1=\"630.0\" y1=\"410.0\" x2=\"630.0\" y2=\"400.0\" stroke-linecap=\"round\" style=\"stroke:white;stroke-width:4\"/><line x1=\"630.0\" y1=\"400.0\" x2=\"640.0\" y2=\"400.0\" stroke-linecap=\"round\" style=\"stroke:white;stroke-width:4\"/><line x1=\"640.0\" y1=\"400.0\" x2=\"640.0\" y2=\"410.0\" stroke-linecap=\"round\" style=\"stroke:white;stroke-width:4\"/><line x1=\"640.0\" y1=\"410.0\" x2=\"650.0\" y2=\"410.0\" stroke-linecap=\"round\" style=\"stroke:white;stroke-width:4\"/><line x1=\"650.0\" y1=\"410.0\" x2=\"650.0\" y2=\"400.0\" stroke-linecap=\"round\" style=\"stroke:white;stroke-width:4\"/><line x1=\"650.0\" y1=\"400.0\" x2=\"660.0\" y2=\"400.0\" stroke-linecap=\"round\" style=\"stroke:white;stroke-width:4\"/><line x1=\"660.0\" y1=\"400.0\" x2=\"660.0\" y2=\"390.0\" stroke-linecap=\"round\" style=\"stroke:white;stroke-width:4\"/><line x1=\"660.0\" y1=\"390.0\" x2=\"650.0\" y2=\"390.0\" stroke-linecap=\"round\" style=\"stroke:white;stroke-width:4\"/><line x1=\"650.0\" y1=\"390.0\" x2=\"650.0\" y2=\"380.0\" stroke-linecap=\"round\" style=\"stroke:white;stroke-width:4\"/><line x1=\"650.0\" y1=\"380.0\" x2=\"660.0\" y2=\"380.0\" stroke-linecap=\"round\" style=\"stroke:white;stroke-width:4\"/><line x1=\"660.0\" y1=\"380.0\" x2=\"660.0\" y2=\"390.0\" stroke-linecap=\"round\" style=\"stroke:white;stroke-width:4\"/><line x1=\"660.0\" y1=\"390.0\" x2=\"670.0\" y2=\"390.0\" stroke-linecap=\"round\" style=\"stroke:white;stroke-width:4\"/><line x1=\"670.0\" y1=\"390.0\" x2=\"670.0\" y2=\"380.0\" stroke-linecap=\"round\" style=\"stroke:white;stroke-width:4\"/><line x1=\"670.0\" y1=\"380.0\" x2=\"680.0\" y2=\"380.0\" stroke-linecap=\"round\" style=\"stroke:white;stroke-width:4\"/><line x1=\"680.0\" y1=\"380.0\" x2=\"680.0\" y2=\"390.0\" stroke-linecap=\"round\" style=\"stroke:white;stroke-width:4\"/><line x1=\"680.0\" y1=\"390.0\" x2=\"690.0\" y2=\"390.0\" stroke-linecap=\"round\" style=\"stroke:white;stroke-width:4\"/><line x1=\"690.0\" y1=\"390.0\" x2=\"690.0\" y2=\"400.0\" stroke-linecap=\"round\" style=\"stroke:white;stroke-width:4\"/><line x1=\"690.0\" y1=\"400.0\" x2=\"680.0\" y2=\"400.0\" stroke-linecap=\"round\" style=\"stroke:white;stroke-width:4\"/><line x1=\"680.0\" y1=\"400.0\" x2=\"680.0\" y2=\"410.0\" stroke-linecap=\"round\" style=\"stroke:white;stroke-width:4\"/><line x1=\"680.0\" y1=\"410.0\" x2=\"690.0\" y2=\"410.0\" stroke-linecap=\"round\" style=\"stroke:white;stroke-width:4\"/><line x1=\"690.0\" y1=\"410.0\" x2=\"690.0\" y2=\"400.0\" stroke-linecap=\"round\" style=\"stroke:white;stroke-width:4\"/><line x1=\"690.0\" y1=\"400.0\" x2=\"700.0\" y2=\"400.0\" stroke-linecap=\"round\" style=\"stroke:white;stroke-width:4\"/><line x1=\"700.0\" y1=\"400.0\" x2=\"700.0\" y2=\"390.0\" stroke-linecap=\"round\" style=\"stroke:white;stroke-width:4\"/><line x1=\"700.0\" y1=\"390.0\" x2=\"690.0\" y2=\"390.0\" stroke-linecap=\"round\" style=\"stroke:white;stroke-width:4\"/><line x1=\"690.0\" y1=\"390.0\" x2=\"690.0\" y2=\"380.0\" stroke-linecap=\"round\" style=\"stroke:white;stroke-width:4\"/><line x1=\"690.0\" y1=\"380.0\" x2=\"700.0\" y2=\"380.0\" stroke-linecap=\"round\" style=\"stroke:white;stroke-width:4\"/><line x1=\"700.0\" y1=\"380.0\" x2=\"700.0\" y2=\"370.0\" stroke-linecap=\"round\" style=\"stroke:white;stroke-width:4\"/><line x1=\"700.0\" y1=\"370.0\" x2=\"690.0\" y2=\"370.0\" stroke-linecap=\"round\" style=\"stroke:white;stroke-width:4\"/><line x1=\"690.0\" y1=\"370.0\" x2=\"690.0\" y2=\"380.0\" stroke-linecap=\"round\" style=\"stroke:white;stroke-width:4\"/><line x1=\"690.0\" y1=\"380.0\" x2=\"680.0\" y2=\"380.0\" stroke-linecap=\"round\" style=\"stroke:white;stroke-width:4\"/><line x1=\"680.0\" y1=\"380.0\" x2=\"680.0\" y2=\"370.0\" stroke-linecap=\"round\" style=\"stroke:white;stroke-width:4\"/><line x1=\"680.0\" y1=\"370.0\" x2=\"670.0\" y2=\"370.0\" stroke-linecap=\"round\" style=\"stroke:white;stroke-width:4\"/><line x1=\"670.0\" y1=\"370.0\" x2=\"670.0\" y2=\"360.0\" stroke-linecap=\"round\" style=\"stroke:white;stroke-width:4\"/><line x1=\"670.0\" y1=\"360.0\" x2=\"680.0\" y2=\"360.0\" stroke-linecap=\"round\" style=\"stroke:white;stroke-width:4\"/><line x1=\"680.0\" y1=\"360.0\" x2=\"680.0\" y2=\"350.0\" stroke-linecap=\"round\" style=\"stroke:white;stroke-width:4\"/><line x1=\"680.0\" y1=\"350.0\" x2=\"670.0\" y2=\"350.0\" stroke-linecap=\"round\" style=\"stroke:white;stroke-width:4\"/><line x1=\"670.0\" y1=\"350.0\" x2=\"670.0\" y2=\"360.0\" stroke-linecap=\"round\" style=\"stroke:white;stroke-width:4\"/><line x1=\"670.0\" y1=\"360.0\" x2=\"660.0\" y2=\"360.0\" stroke-linecap=\"round\" style=\"stroke:white;stroke-width:4\"/><line x1=\"660.0\" y1=\"360.0\" x2=\"660.0\" y2=\"370.0\" stroke-linecap=\"round\" style=\"stroke:white;stroke-width:4\"/><line x1=\"660.0\" y1=\"370.0\" x2=\"670.0\" y2=\"370.0\" stroke-linecap=\"round\" style=\"stroke:white;stroke-width:4\"/><line x1=\"670.0\" y1=\"370.0\" x2=\"670.0\" y2=\"380.0\" stroke-linecap=\"round\" style=\"stroke:white;stroke-width:4\"/><line x1=\"670.0\" y1=\"380.0\" x2=\"660.0\" y2=\"380.0\" stroke-linecap=\"round\" style=\"stroke:white;stroke-width:4\"/><line x1=\"660.0\" y1=\"380.0\" x2=\"660.0\" y2=\"370.0\" stroke-linecap=\"round\" style=\"stroke:white;stroke-width:4\"/><line x1=\"660.0\" y1=\"370.0\" x2=\"650.0\" y2=\"370.0\" stroke-linecap=\"round\" style=\"stroke:white;stroke-width:4\"/><line x1=\"650.0\" y1=\"370.0\" x2=\"650.0\" y2=\"380.0\" stroke-linecap=\"round\" style=\"stroke:white;stroke-width:4\"/><line x1=\"650.0\" y1=\"380.0\" x2=\"640.0\" y2=\"380.0\" stroke-linecap=\"round\" style=\"stroke:white;stroke-width:4\"/><line x1=\"640.0\" y1=\"380.0\" x2=\"640.0\" y2=\"370.0\" stroke-linecap=\"round\" style=\"stroke:white;stroke-width:4\"/><line x1=\"640.0\" y1=\"370.0\" x2=\"630.0\" y2=\"370.0\" stroke-linecap=\"round\" style=\"stroke:white;stroke-width:4\"/><line x1=\"630.0\" y1=\"370.0\" x2=\"630.0\" y2=\"360.0\" stroke-linecap=\"round\" style=\"stroke:white;stroke-width:4\"/><line x1=\"630.0\" y1=\"360.0\" x2=\"640.0\" y2=\"360.0\" stroke-linecap=\"round\" style=\"stroke:white;stroke-width:4\"/><line x1=\"640.0\" y1=\"360.0\" x2=\"640.0\" y2=\"370.0\" stroke-linecap=\"round\" style=\"stroke:white;stroke-width:4\"/><line x1=\"640.0\" y1=\"370.0\" x2=\"650.0\" y2=\"370.0\" stroke-linecap=\"round\" style=\"stroke:white;stroke-width:4\"/><line x1=\"650.0\" y1=\"370.0\" x2=\"650.0\" y2=\"360.0\" stroke-linecap=\"round\" style=\"stroke:white;stroke-width:4\"/><line x1=\"650.0\" y1=\"360.0\" x2=\"660.0\" y2=\"360.0\" stroke-linecap=\"round\" style=\"stroke:white;stroke-width:4\"/><line x1=\"660.0\" y1=\"360.0\" x2=\"660.0\" y2=\"350.0\" stroke-linecap=\"round\" style=\"stroke:white;stroke-width:4\"/><line x1=\"660.0\" y1=\"350.0\" x2=\"650.0\" y2=\"350.0\" stroke-linecap=\"round\" style=\"stroke:white;stroke-width:4\"/><line x1=\"650.0\" y1=\"350.0\" x2=\"650.0\" y2=\"340.0\" stroke-linecap=\"round\" style=\"stroke:white;stroke-width:4\"/><line x1=\"650.0\" y1=\"340.0\" x2=\"660.0\" y2=\"340.0\" stroke-linecap=\"round\" style=\"stroke:white;stroke-width:4\"/><line x1=\"660.0\" y1=\"340.0\" x2=\"660.0\" y2=\"330.0\" stroke-linecap=\"round\" style=\"stroke:white;stroke-width:4\"/><line x1=\"660.0\" y1=\"330.0\" x2=\"650.0\" y2=\"330.0\" stroke-linecap=\"round\" style=\"stroke:white;stroke-width:4\"/><line x1=\"650.0\" y1=\"330.0\" x2=\"650.0\" y2=\"340.0\" stroke-linecap=\"round\" style=\"stroke:white;stroke-width:4\"/><line x1=\"650.0\" y1=\"340.0\" x2=\"640.0\" y2=\"340.0\" stroke-linecap=\"round\" style=\"stroke:white;stroke-width:4\"/><line x1=\"640.0\" y1=\"340.0\" x2=\"640.0\" y2=\"330.0\" stroke-linecap=\"round\" style=\"stroke:white;stroke-width:4\"/><line x1=\"640.0\" y1=\"330.0\" x2=\"630.0\" y2=\"330.0\" stroke-linecap=\"round\" style=\"stroke:white;stroke-width:4\"/><line x1=\"630.0\" y1=\"330.0\" x2=\"630.0\" y2=\"320.0\" stroke-linecap=\"round\" style=\"stroke:white;stroke-width:4\"/><line x1=\"630.0\" y1=\"320.0\" x2=\"640.0\" y2=\"320.0\" stroke-linecap=\"round\" style=\"stroke:white;stroke-width:4\"/><line x1=\"640.0\" y1=\"320.0\" x2=\"640.0\" y2=\"330.0\" stroke-linecap=\"round\" style=\"stroke:white;stroke-width:4\"/><line x1=\"640.0\" y1=\"330.0\" x2=\"650.0\" y2=\"330.0\" stroke-linecap=\"round\" style=\"stroke:white;stroke-width:4\"/><line x1=\"650.0\" y1=\"330.0\" x2=\"650.0\" y2=\"320.0\" stroke-linecap=\"round\" style=\"stroke:white;stroke-width:4\"/><line x1=\"650.0\" y1=\"320.0\" x2=\"660.0\" y2=\"320.0\" stroke-linecap=\"round\" style=\"stroke:white;stroke-width:4\"/><line x1=\"660.0\" y1=\"320.0\" x2=\"660.0\" y2=\"310.0\" stroke-linecap=\"round\" style=\"stroke:white;stroke-width:4\"/><line x1=\"660.0\" y1=\"310.0\" x2=\"650.0\" y2=\"310.0\" stroke-linecap=\"round\" style=\"stroke:white;stroke-width:4\"/><line x1=\"650.0\" y1=\"310.0\" x2=\"650.0\" y2=\"300.0\" stroke-linecap=\"round\" style=\"stroke:white;stroke-width:4\"/><line x1=\"650.0\" y1=\"300.0\" x2=\"660.0\" y2=\"300.0\" stroke-linecap=\"round\" style=\"stroke:white;stroke-width:4\"/><line x1=\"660.0\" y1=\"300.0\" x2=\"660.0\" y2=\"310.0\" stroke-linecap=\"round\" style=\"stroke:white;stroke-width:4\"/><line x1=\"660.0\" y1=\"310.0\" x2=\"670.0\" y2=\"310.0\" stroke-linecap=\"round\" style=\"stroke:white;stroke-width:4\"/><line x1=\"670.0\" y1=\"310.0\" x2=\"670.0\" y2=\"300.0\" stroke-linecap=\"round\" style=\"stroke:white;stroke-width:4\"/><line x1=\"670.0\" y1=\"300.0\" x2=\"680.0\" y2=\"300.0\" stroke-linecap=\"round\" style=\"stroke:white;stroke-width:4\"/><line x1=\"680.0\" y1=\"300.0\" x2=\"680.0\" y2=\"310.0\" stroke-linecap=\"round\" style=\"stroke:white;stroke-width:4\"/><line x1=\"680.0\" y1=\"310.0\" x2=\"690.0\" y2=\"310.0\" stroke-linecap=\"round\" style=\"stroke:white;stroke-width:4\"/><line x1=\"690.0\" y1=\"310.0\" x2=\"690.0\" y2=\"320.0\" stroke-linecap=\"round\" style=\"stroke:white;stroke-width:4\"/><line x1=\"690.0\" y1=\"320.0\" x2=\"680.0\" y2=\"320.0\" stroke-linecap=\"round\" style=\"stroke:white;stroke-width:4\"/><line x1=\"680.0\" y1=\"320.0\" x2=\"680.0\" y2=\"330.0\" stroke-linecap=\"round\" style=\"stroke:white;stroke-width:4\"/><line x1=\"680.0\" y1=\"330.0\" x2=\"690.0\" y2=\"330.0\" stroke-linecap=\"round\" style=\"stroke:white;stroke-width:4\"/><line x1=\"690.0\" y1=\"330.0\" x2=\"690.0\" y2=\"320.0\" stroke-linecap=\"round\" style=\"stroke:white;stroke-width:4\"/><line x1=\"690.0\" y1=\"320.0\" x2=\"700.0\" y2=\"320.0\" stroke-linecap=\"round\" style=\"stroke:white;stroke-width:4\"/><line x1=\"700.0\" y1=\"320.0\" x2=\"700.0\" y2=\"310.0\" stroke-linecap=\"round\" style=\"stroke:white;stroke-width:4\"/><line x1=\"700.0\" y1=\"310.0\" x2=\"690.0\" y2=\"310.0\" stroke-linecap=\"round\" style=\"stroke:white;stroke-width:4\"/><line x1=\"690.0\" y1=\"310.0\" x2=\"690.0\" y2=\"300.0\" stroke-linecap=\"round\" style=\"stroke:white;stroke-width:4\"/><line x1=\"690.0\" y1=\"300.0\" x2=\"700.0\" y2=\"300.0\" stroke-linecap=\"round\" style=\"stroke:white;stroke-width:4\"/><line x1=\"700.0\" y1=\"300.0\" x2=\"700.0\" y2=\"290.0\" stroke-linecap=\"round\" style=\"stroke:white;stroke-width:4\"/><line x1=\"700.0\" y1=\"290.0\" x2=\"690.0\" y2=\"290.0\" stroke-linecap=\"round\" style=\"stroke:white;stroke-width:4\"/><line x1=\"690.0\" y1=\"290.0\" x2=\"690.0\" y2=\"300.0\" stroke-linecap=\"round\" style=\"stroke:white;stroke-width:4\"/><line x1=\"690.0\" y1=\"300.0\" x2=\"680.0\" y2=\"300.0\" stroke-linecap=\"round\" style=\"stroke:white;stroke-width:4\"/><line x1=\"680.0\" y1=\"300.0\" x2=\"680.0\" y2=\"290.0\" stroke-linecap=\"round\" style=\"stroke:white;stroke-width:4\"/><line x1=\"680.0\" y1=\"290.0\" x2=\"670.0\" y2=\"290.0\" stroke-linecap=\"round\" style=\"stroke:white;stroke-width:4\"/><line x1=\"670.0\" y1=\"290.0\" x2=\"670.0\" y2=\"280.0\" stroke-linecap=\"round\" style=\"stroke:white;stroke-width:4\"/><line x1=\"670.0\" y1=\"280.0\" x2=\"680.0\" y2=\"280.0\" stroke-linecap=\"round\" style=\"stroke:white;stroke-width:4\"/><line x1=\"680.0\" y1=\"280.0\" x2=\"680.0\" y2=\"270.0\" stroke-linecap=\"round\" style=\"stroke:white;stroke-width:4\"/><line x1=\"680.0\" y1=\"270.0\" x2=\"670.0\" y2=\"270.0\" stroke-linecap=\"round\" style=\"stroke:white;stroke-width:4\"/><line x1=\"670.0\" y1=\"270.0\" x2=\"670.0\" y2=\"280.0\" stroke-linecap=\"round\" style=\"stroke:white;stroke-width:4\"/><line x1=\"670.0\" y1=\"280.0\" x2=\"660.0\" y2=\"280.0\" stroke-linecap=\"round\" style=\"stroke:white;stroke-width:4\"/><line x1=\"660.0\" y1=\"280.0\" x2=\"660.0\" y2=\"290.0\" stroke-linecap=\"round\" style=\"stroke:white;stroke-width:4\"/><line x1=\"660.0\" y1=\"290.0\" x2=\"670.0\" y2=\"290.0\" stroke-linecap=\"round\" style=\"stroke:white;stroke-width:4\"/><line x1=\"670.0\" y1=\"290.0\" x2=\"670.0\" y2=\"300.0\" stroke-linecap=\"round\" style=\"stroke:white;stroke-width:4\"/><line x1=\"670.0\" y1=\"300.0\" x2=\"660.0\" y2=\"300.0\" stroke-linecap=\"round\" style=\"stroke:white;stroke-width:4\"/><line x1=\"660.0\" y1=\"300.0\" x2=\"660.0\" y2=\"290.0\" stroke-linecap=\"round\" style=\"stroke:white;stroke-width:4\"/><line x1=\"660.0\" y1=\"290.0\" x2=\"650.0\" y2=\"290.0\" stroke-linecap=\"round\" style=\"stroke:white;stroke-width:4\"/><line x1=\"650.0\" y1=\"290.0\" x2=\"650.0\" y2=\"300.0\" stroke-linecap=\"round\" style=\"stroke:white;stroke-width:4\"/><line x1=\"650.0\" y1=\"300.0\" x2=\"640.0\" y2=\"300.0\" stroke-linecap=\"round\" style=\"stroke:white;stroke-width:4\"/><line x1=\"640.0\" y1=\"300.0\" x2=\"640.0\" y2=\"290.0\" stroke-linecap=\"round\" style=\"stroke:white;stroke-width:4\"/><line x1=\"640.0\" y1=\"290.0\" x2=\"630.0\" y2=\"290.0\" stroke-linecap=\"round\" style=\"stroke:white;stroke-width:4\"/><line x1=\"630.0\" y1=\"290.0\" x2=\"630.0\" y2=\"280.0\" stroke-linecap=\"round\" style=\"stroke:white;stroke-width:4\"/><line x1=\"630.0\" y1=\"280.0\" x2=\"640.0\" y2=\"280.0\" stroke-linecap=\"round\" style=\"stroke:white;stroke-width:4\"/><line x1=\"640.0\" y1=\"280.0\" x2=\"640.0\" y2=\"270.0\" stroke-linecap=\"round\" style=\"stroke:white;stroke-width:4\"/><line x1=\"640.0\" y1=\"270.0\" x2=\"630.0\" y2=\"270.0\" stroke-linecap=\"round\" style=\"stroke:white;stroke-width:4\"/><line x1=\"630.0\" y1=\"270.0\" x2=\"630.0\" y2=\"280.0\" stroke-linecap=\"round\" style=\"stroke:white;stroke-width:4\"/><line x1=\"630.0\" y1=\"280.0\" x2=\"620.0\" y2=\"280.0\" stroke-linecap=\"round\" style=\"stroke:white;stroke-width:4\"/><line x1=\"620.0\" y1=\"280.0\" x2=\"620.0\" y2=\"290.0\" stroke-linecap=\"round\" style=\"stroke:white;stroke-width:4\"/><line x1=\"620.0\" y1=\"290.0\" x2=\"630.0\" y2=\"290.0\" stroke-linecap=\"round\" style=\"stroke:white;stroke-width:4\"/><line x1=\"630.0\" y1=\"290.0\" x2=\"630.0\" y2=\"300.0\" stroke-linecap=\"round\" style=\"stroke:white;stroke-width:4\"/><line x1=\"630.0\" y1=\"300.0\" x2=\"620.0\" y2=\"300.0\" stroke-linecap=\"round\" style=\"stroke:white;stroke-width:4\"/><line x1=\"620.0\" y1=\"300.0\" x2=\"620.0\" y2=\"310.0\" stroke-linecap=\"round\" style=\"stroke:white;stroke-width:4\"/><line x1=\"620.0\" y1=\"310.0\" x2=\"630.0\" y2=\"310.0\" stroke-linecap=\"round\" style=\"stroke:white;stroke-width:4\"/><line x1=\"630.0\" y1=\"310.0\" x2=\"630.0\" y2=\"300.0\" stroke-linecap=\"round\" style=\"stroke:white;stroke-width:4\"/><line x1=\"630.0\" y1=\"300.0\" x2=\"640.0\" y2=\"300.0\" stroke-linecap=\"round\" style=\"stroke:white;stroke-width:4\"/><line x1=\"640.0\" y1=\"300.0\" x2=\"640.0\" y2=\"310.0\" stroke-linecap=\"round\" style=\"stroke:white;stroke-width:4\"/><line x1=\"640.0\" y1=\"310.0\" x2=\"650.0\" y2=\"310.0\" stroke-linecap=\"round\" style=\"stroke:white;stroke-width:4\"/><line x1=\"650.0\" y1=\"310.0\" x2=\"650.0\" y2=\"320.0\" stroke-linecap=\"round\" style=\"stroke:white;stroke-width:4\"/><line x1=\"650.0\" y1=\"320.0\" x2=\"640.0\" y2=\"320.0\" stroke-linecap=\"round\" style=\"stroke:white;stroke-width:4\"/><line x1=\"640.0\" y1=\"320.0\" x2=\"640.0\" y2=\"310.0\" stroke-linecap=\"round\" style=\"stroke:white;stroke-width:4\"/><line x1=\"640.0\" y1=\"310.0\" x2=\"630.0\" y2=\"310.0\" stroke-linecap=\"round\" style=\"stroke:white;stroke-width:4\"/><line x1=\"630.0\" y1=\"310.0\" x2=\"630.0\" y2=\"320.0\" stroke-linecap=\"round\" style=\"stroke:white;stroke-width:4\"/><line x1=\"630.0\" y1=\"320.0\" x2=\"620.0\" y2=\"320.0\" stroke-linecap=\"round\" style=\"stroke:white;stroke-width:4\"/><line x1=\"620.0\" y1=\"320.0\" x2=\"620.0\" y2=\"330.0\" stroke-linecap=\"round\" style=\"stroke:white;stroke-width:4\"/><line x1=\"620.0\" y1=\"330.0\" x2=\"630.0\" y2=\"330.0\" stroke-linecap=\"round\" style=\"stroke:white;stroke-width:4\"/><line x1=\"630.0\" y1=\"330.0\" x2=\"630.0\" y2=\"340.0\" stroke-linecap=\"round\" style=\"stroke:white;stroke-width:4\"/><line x1=\"630.0\" y1=\"340.0\" x2=\"620.0\" y2=\"340.0\" stroke-linecap=\"round\" style=\"stroke:white;stroke-width:4\"/><line x1=\"620.0\" y1=\"340.0\" x2=\"620.0\" y2=\"330.0\" stroke-linecap=\"round\" style=\"stroke:white;stroke-width:4\"/><line x1=\"620.0\" y1=\"330.0\" x2=\"610.0\" y2=\"330.0\" stroke-linecap=\"round\" style=\"stroke:white;stroke-width:4\"/><line x1=\"610.0\" y1=\"330.0\" x2=\"610.0\" y2=\"340.0\" stroke-linecap=\"round\" style=\"stroke:white;stroke-width:4\"/><line x1=\"610.0\" y1=\"340.0\" x2=\"600.0\" y2=\"340.0\" stroke-linecap=\"round\" style=\"stroke:white;stroke-width:4\"/><line x1=\"600.0\" y1=\"340.0\" x2=\"600.0\" y2=\"330.0\" stroke-linecap=\"round\" style=\"stroke:white;stroke-width:4\"/><line x1=\"600.0\" y1=\"330.0\" x2=\"590.0\" y2=\"330.0\" stroke-linecap=\"round\" style=\"stroke:white;stroke-width:4\"/><line x1=\"590.0\" y1=\"330.0\" x2=\"590.0\" y2=\"320.0\" stroke-linecap=\"round\" style=\"stroke:white;stroke-width:4\"/><line x1=\"590.0\" y1=\"320.0\" x2=\"600.0\" y2=\"320.0\" stroke-linecap=\"round\" style=\"stroke:white;stroke-width:4\"/><line x1=\"600.0\" y1=\"320.0\" x2=\"600.0\" y2=\"330.0\" stroke-linecap=\"round\" style=\"stroke:white;stroke-width:4\"/><line x1=\"600.0\" y1=\"330.0\" x2=\"610.0\" y2=\"330.0\" stroke-linecap=\"round\" style=\"stroke:white;stroke-width:4\"/><line x1=\"610.0\" y1=\"330.0\" x2=\"610.0\" y2=\"320.0\" stroke-linecap=\"round\" style=\"stroke:white;stroke-width:4\"/><line x1=\"610.0\" y1=\"320.0\" x2=\"620.0\" y2=\"320.0\" stroke-linecap=\"round\" style=\"stroke:white;stroke-width:4\"/><line x1=\"620.0\" y1=\"320.0\" x2=\"620.0\" y2=\"310.0\" stroke-linecap=\"round\" style=\"stroke:white;stroke-width:4\"/><line x1=\"620.0\" y1=\"310.0\" x2=\"610.0\" y2=\"310.0\" stroke-linecap=\"round\" style=\"stroke:white;stroke-width:4\"/><line x1=\"610.0\" y1=\"310.0\" x2=\"610.0\" y2=\"300.0\" stroke-linecap=\"round\" style=\"stroke:white;stroke-width:4\"/><line x1=\"610.0\" y1=\"300.0\" x2=\"620.0\" y2=\"300.0\" stroke-linecap=\"round\" style=\"stroke:white;stroke-width:4\"/><line x1=\"620.0\" y1=\"300.0\" x2=\"620.0\" y2=\"290.0\" stroke-linecap=\"round\" style=\"stroke:white;stroke-width:4\"/><line x1=\"620.0\" y1=\"290.0\" x2=\"610.0\" y2=\"290.0\" stroke-linecap=\"round\" style=\"stroke:white;stroke-width:4\"/><line x1=\"610.0\" y1=\"290.0\" x2=\"610.0\" y2=\"300.0\" stroke-linecap=\"round\" style=\"stroke:white;stroke-width:4\"/><line x1=\"610.0\" y1=\"300.0\" x2=\"600.0\" y2=\"300.0\" stroke-linecap=\"round\" style=\"stroke:white;stroke-width:4\"/><line x1=\"600.0\" y1=\"300.0\" x2=\"600.0\" y2=\"290.0\" stroke-linecap=\"round\" style=\"stroke:white;stroke-width:4\"/><line x1=\"600.0\" y1=\"290.0\" x2=\"590.0\" y2=\"290.0\" stroke-linecap=\"round\" style=\"stroke:white;stroke-width:4\"/><line x1=\"590.0\" y1=\"290.0\" x2=\"590.0\" y2=\"280.0\" stroke-linecap=\"round\" style=\"stroke:white;stroke-width:4\"/><line x1=\"590.0\" y1=\"280.0\" x2=\"600.0\" y2=\"280.0\" stroke-linecap=\"round\" style=\"stroke:white;stroke-width:4\"/><line x1=\"600.0\" y1=\"280.0\" x2=\"600.0\" y2=\"270.0\" stroke-linecap=\"round\" style=\"stroke:white;stroke-width:4\"/><line x1=\"600.0\" y1=\"270.0\" x2=\"590.0\" y2=\"270.0\" stroke-linecap=\"round\" style=\"stroke:white;stroke-width:4\"/><line x1=\"590.0\" y1=\"270.0\" x2=\"590.0\" y2=\"280.0\" stroke-linecap=\"round\" style=\"stroke:white;stroke-width:4\"/><line x1=\"590.0\" y1=\"280.0\" x2=\"580.0\" y2=\"280.0\" stroke-linecap=\"round\" style=\"stroke:white;stroke-width:4\"/><line x1=\"580.0\" y1=\"280.0\" x2=\"580.0\" y2=\"290.0\" stroke-linecap=\"round\" style=\"stroke:white;stroke-width:4\"/><line x1=\"580.0\" y1=\"290.0\" x2=\"590.0\" y2=\"290.0\" stroke-linecap=\"round\" style=\"stroke:white;stroke-width:4\"/><line x1=\"590.0\" y1=\"290.0\" x2=\"590.0\" y2=\"300.0\" stroke-linecap=\"round\" style=\"stroke:white;stroke-width:4\"/><line x1=\"590.0\" y1=\"300.0\" x2=\"580.0\" y2=\"300.0\" stroke-linecap=\"round\" style=\"stroke:white;stroke-width:4\"/><line x1=\"580.0\" y1=\"300.0\" x2=\"580.0\" y2=\"290.0\" stroke-linecap=\"round\" style=\"stroke:white;stroke-width:4\"/><line x1=\"580.0\" y1=\"290.0\" x2=\"570.0\" y2=\"290.0\" stroke-linecap=\"round\" style=\"stroke:white;stroke-width:4\"/><line x1=\"570.0\" y1=\"290.0\" x2=\"570.0\" y2=\"300.0\" stroke-linecap=\"round\" style=\"stroke:white;stroke-width:4\"/><line x1=\"570.0\" y1=\"300.0\" x2=\"560.0\" y2=\"300.0\" stroke-linecap=\"round\" style=\"stroke:white;stroke-width:4\"/><line x1=\"560.0\" y1=\"300.0\" x2=\"560.0\" y2=\"290.0\" stroke-linecap=\"round\" style=\"stroke:white;stroke-width:4\"/><line x1=\"560.0\" y1=\"290.0\" x2=\"550.0\" y2=\"290.0\" stroke-linecap=\"round\" style=\"stroke:white;stroke-width:4\"/><line x1=\"550.0\" y1=\"290.0\" x2=\"550.0\" y2=\"280.0\" stroke-linecap=\"round\" style=\"stroke:white;stroke-width:4\"/><line x1=\"550.0\" y1=\"280.0\" x2=\"560.0\" y2=\"280.0\" stroke-linecap=\"round\" style=\"stroke:white;stroke-width:4\"/><line x1=\"560.0\" y1=\"280.0\" x2=\"560.0\" y2=\"290.0\" stroke-linecap=\"round\" style=\"stroke:white;stroke-width:4\"/><line x1=\"560.0\" y1=\"290.0\" x2=\"570.0\" y2=\"290.0\" stroke-linecap=\"round\" style=\"stroke:white;stroke-width:4\"/><line x1=\"570.0\" y1=\"290.0\" x2=\"570.0\" y2=\"280.0\" stroke-linecap=\"round\" style=\"stroke:white;stroke-width:4\"/><line x1=\"570.0\" y1=\"280.0\" x2=\"580.0\" y2=\"280.0\" stroke-linecap=\"round\" style=\"stroke:white;stroke-width:4\"/><line x1=\"580.0\" y1=\"280.0\" x2=\"580.0\" y2=\"270.0\" stroke-linecap=\"round\" style=\"stroke:white;stroke-width:4\"/><line x1=\"580.0\" y1=\"270.0\" x2=\"570.0\" y2=\"270.0\" stroke-linecap=\"round\" style=\"stroke:white;stroke-width:4\"/><line x1=\"570.0\" y1=\"270.0\" x2=\"570.0\" y2=\"260.0\" stroke-linecap=\"round\" style=\"stroke:white;stroke-width:4\"/><line x1=\"570.0\" y1=\"260.0\" x2=\"580.0\" y2=\"260.0\" stroke-linecap=\"round\" style=\"stroke:white;stroke-width:4\"/><line x1=\"580.0\" y1=\"260.0\" x2=\"580.0\" y2=\"250.0\" stroke-linecap=\"round\" style=\"stroke:white;stroke-width:4\"/><line x1=\"580.0\" y1=\"250.0\" x2=\"570.0\" y2=\"250.0\" stroke-linecap=\"round\" style=\"stroke:white;stroke-width:4\"/><line x1=\"570.0\" y1=\"250.0\" x2=\"570.0\" y2=\"260.0\" stroke-linecap=\"round\" style=\"stroke:white;stroke-width:4\"/><line x1=\"570.0\" y1=\"260.0\" x2=\"560.0\" y2=\"260.0\" stroke-linecap=\"round\" style=\"stroke:white;stroke-width:4\"/><line x1=\"560.0\" y1=\"260.0\" x2=\"560.0\" y2=\"250.0\" stroke-linecap=\"round\" style=\"stroke:white;stroke-width:4\"/><line x1=\"560.0\" y1=\"250.0\" x2=\"550.0\" y2=\"250.0\" stroke-linecap=\"round\" style=\"stroke:white;stroke-width:4\"/><line x1=\"550.0\" y1=\"250.0\" x2=\"550.0\" y2=\"240.0\" stroke-linecap=\"round\" style=\"stroke:white;stroke-width:4\"/><line x1=\"550.0\" y1=\"240.0\" x2=\"560.0\" y2=\"240.0\" stroke-linecap=\"round\" style=\"stroke:white;stroke-width:4\"/><line x1=\"560.0\" y1=\"240.0\" x2=\"560.0\" y2=\"250.0\" stroke-linecap=\"round\" style=\"stroke:white;stroke-width:4\"/><line x1=\"560.0\" y1=\"250.0\" x2=\"570.0\" y2=\"250.0\" stroke-linecap=\"round\" style=\"stroke:white;stroke-width:4\"/><line x1=\"570.0\" y1=\"250.0\" x2=\"570.0\" y2=\"240.0\" stroke-linecap=\"round\" style=\"stroke:white;stroke-width:4\"/><line x1=\"570.0\" y1=\"240.0\" x2=\"580.0\" y2=\"240.0\" stroke-linecap=\"round\" style=\"stroke:white;stroke-width:4\"/><line x1=\"580.0\" y1=\"240.0\" x2=\"580.0\" y2=\"230.0\" stroke-linecap=\"round\" style=\"stroke:white;stroke-width:4\"/><line x1=\"580.0\" y1=\"230.0\" x2=\"570.0\" y2=\"230.0\" stroke-linecap=\"round\" style=\"stroke:white;stroke-width:4\"/><line x1=\"570.0\" y1=\"230.0\" x2=\"570.0\" y2=\"220.0\" stroke-linecap=\"round\" style=\"stroke:white;stroke-width:4\"/><line x1=\"570.0\" y1=\"220.0\" x2=\"580.0\" y2=\"220.0\" stroke-linecap=\"round\" style=\"stroke:white;stroke-width:4\"/><line x1=\"580.0\" y1=\"220.0\" x2=\"580.0\" y2=\"230.0\" stroke-linecap=\"round\" style=\"stroke:white;stroke-width:4\"/><line x1=\"580.0\" y1=\"230.0\" x2=\"590.0\" y2=\"230.0\" stroke-linecap=\"round\" style=\"stroke:white;stroke-width:4\"/><line x1=\"590.0\" y1=\"230.0\" x2=\"590.0\" y2=\"220.0\" stroke-linecap=\"round\" style=\"stroke:white;stroke-width:4\"/><line x1=\"590.0\" y1=\"220.0\" x2=\"600.0\" y2=\"220.0\" stroke-linecap=\"round\" style=\"stroke:white;stroke-width:4\"/><line x1=\"600.0\" y1=\"220.0\" x2=\"600.0\" y2=\"230.0\" stroke-linecap=\"round\" style=\"stroke:white;stroke-width:4\"/><line x1=\"600.0\" y1=\"230.0\" x2=\"610.0\" y2=\"230.0\" stroke-linecap=\"round\" style=\"stroke:white;stroke-width:4\"/><line x1=\"610.0\" y1=\"230.0\" x2=\"610.0\" y2=\"240.0\" stroke-linecap=\"round\" style=\"stroke:white;stroke-width:4\"/><line x1=\"610.0\" y1=\"240.0\" x2=\"600.0\" y2=\"240.0\" stroke-linecap=\"round\" style=\"stroke:white;stroke-width:4\"/>\n",
              "        <g visibility=visible transform=\"rotate(360,600.0,240.0) translate(582.0, 222.0)\">\n",
              "<path style=\" stroke:none;fill-rule:evenodd;fill:white;fill-opacity:1;\" d=\"M 18.214844 0.632812 C 16.109375 1.800781 15.011719 4.074219 15.074219 7.132812 L 15.085938 7.652344 L 14.785156 7.496094 C 13.476562 6.824219 11.957031 6.671875 10.40625 7.066406 C 8.46875 7.550781 6.515625 9.15625 4.394531 11.992188 C 3.0625 13.777344 2.679688 14.636719 3.042969 15.027344 L 3.15625 15.152344 L 3.519531 15.152344 C 4.238281 15.152344 4.828125 14.886719 8.1875 13.039062 C 9.386719 12.378906 10.371094 11.839844 10.378906 11.839844 C 10.386719 11.839844 10.355469 11.929688 10.304688 12.035156 C 9.832031 13.09375 9.257812 14.820312 8.96875 16.078125 C 7.914062 20.652344 8.617188 24.53125 11.070312 27.660156 C 11.351562 28.015625 11.363281 27.914062 10.972656 28.382812 C 8.925781 30.84375 7.945312 33.28125 8.238281 35.1875 C 8.289062 35.527344 8.28125 35.523438 8.917969 35.523438 C 10.941406 35.523438 13.074219 34.207031 15.136719 31.6875 C 15.359375 31.417969 15.328125 31.425781 15.5625 31.574219 C 16.292969 32.042969 18.023438 32.964844 18.175781 32.964844 C 18.335938 32.964844 19.941406 32.210938 20.828125 31.71875 C 20.996094 31.625 21.136719 31.554688 21.136719 31.558594 C 21.203125 31.664062 21.898438 32.414062 22.222656 32.730469 C 23.835938 34.300781 25.5625 35.132812 27.582031 35.300781 C 27.90625 35.328125 27.9375 35.308594 28.007812 34.984375 C 28.382812 33.242188 27.625 30.925781 25.863281 28.425781 L 25.542969 27.96875 L 25.699219 27.785156 C 28.945312 23.960938 29.132812 18.699219 26.257812 11.96875 L 26.207031 11.84375 L 27.945312 12.703125 C 31.53125 14.476562 32.316406 14.800781 33.03125 14.800781 C 33.976562 14.800781 33.78125 13.9375 32.472656 12.292969 C 28.519531 7.355469 25.394531 5.925781 21.921875 7.472656 L 21.558594 7.636719 L 21.578125 7.542969 C 21.699219 6.992188 21.761719 5.742188 21.699219 5.164062 C 21.496094 3.296875 20.664062 1.964844 19.003906 0.855469 C 18.480469 0.503906 18.457031 0.5 18.214844 0.632812\"/>\n",
              "</g>\n",
              "      </svg>\n",
              "    "
            ],
            "text/plain": [
              "<IPython.core.display.HTML object>"
            ]
          },
          "metadata": {}
        }
      ]
    },
    {
      "cell_type": "code",
      "source": [
        "!pip3 install ColabTurtle\n",
        "import ColabTurtle.Turtle as turtle\n",
        "''' Проверим, влияет ли аргумент 'right' при первом вызове функции \n",
        "    на итоговое изображение\n",
        "'''\n",
        "\n",
        "def dragon(l, n, right=True):\n",
        "  if n == 0:\n",
        "    turtle.forward(l)\n",
        "    return\n",
        "  if right:\n",
        "    turtle.right(45)\n",
        "    dragon(l, n-1)\n",
        "    turtle.left(90)\n",
        "    dragon(l, n-1, right=False)\n",
        "    turtle.right(45)\n",
        "  else:\n",
        "    turtle.left(45)\n",
        "    dragon(l, n-1)\n",
        "    turtle.right(90)\n",
        "    dragon(l, n-1, right=False)\n",
        "    turtle.left(45)\n",
        "\n",
        "\n",
        "REC_DEPTH = 3\n",
        "turtle.speed(13)\n",
        "turtle.initializeTurtle()\n",
        "turtle.penup()\n",
        "turtle.goto(200, 300)\n",
        "turtle.pendown()\n",
        "# input() # Убеждаемся, что черепашка смотрит вверх\n",
        "dragon(50, REC_DEPTH)\n",
        "turtle.penup()\n",
        "turtle.goto(400, 300)\n",
        "turtle.pendown()\n",
        "# input() # Убеждаемся, что черепашка смотрит вверх\n",
        "dragon(50, REC_DEPTH, right=False)\n",
        "turtle.penup()\n",
        "turtle.goto(600, 300)\n",
        "turtle.pendown()\n",
        "# input() # Убеждаемся, что черепашка смотрит вверх\n",
        "dragon(50, REC_DEPTH+1)\n",
        "''' Вывод: аргумент 'right' влияет на конечный результат, фигура\n",
        "разворачивается на 180 градусов, увеличение глубины рекурсии на 1,\n",
        "поворачивает результат по часовой стролке на 45 градусов '''\n"
      ],
      "metadata": {
        "colab": {
          "base_uri": "https://localhost:8080/",
          "height": 575
        },
        "id": "oVMIZVWX5QGD",
        "outputId": "4cd09ee9-607e-4348-f346-55a32ab17498"
      },
      "execution_count": null,
      "outputs": [
        {
          "output_type": "stream",
          "name": "stdout",
          "text": [
            "Requirement already satisfied: ColabTurtle in /usr/local/lib/python3.7/dist-packages (2.1.0)\n"
          ]
        },
        {
          "output_type": "display_data",
          "data": {
            "text/html": [
              "\n",
              "      <svg width=\"800\" height=\"500\">\n",
              "        <rect width=\"100%\" height=\"100%\" fill=\"black\"/>\n",
              "        <line x1=\"200\" y1=\"300\" x2=\"235.355\" y2=\"335.355\" stroke-linecap=\"round\" style=\"stroke:white;stroke-width:4\"/><line x1=\"235.355\" y1=\"335.355\" x2=\"270.71\" y2=\"300.0\" stroke-linecap=\"round\" style=\"stroke:white;stroke-width:4\"/><line x1=\"270.71\" y1=\"300.0\" x2=\"235.355\" y2=\"264.645\" stroke-linecap=\"round\" style=\"stroke:white;stroke-width:4\"/><line x1=\"235.355\" y1=\"264.645\" x2=\"270.71\" y2=\"229.29\" stroke-linecap=\"round\" style=\"stroke:white;stroke-width:4\"/><line x1=\"270.71\" y1=\"229.29\" x2=\"235.355\" y2=\"193.935\" stroke-linecap=\"round\" style=\"stroke:white;stroke-width:4\"/><line x1=\"235.355\" y1=\"193.935\" x2=\"200.0\" y2=\"229.29\" stroke-linecap=\"round\" style=\"stroke:white;stroke-width:4\"/><line x1=\"200.0\" y1=\"229.29\" x2=\"164.645\" y2=\"193.935\" stroke-linecap=\"round\" style=\"stroke:white;stroke-width:4\"/><line x1=\"164.645\" y1=\"193.935\" x2=\"200.0\" y2=\"158.58\" stroke-linecap=\"round\" style=\"stroke:white;stroke-width:4\"/><line x1=\"400\" y1=\"300\" x2=\"435.355\" y2=\"264.645\" stroke-linecap=\"round\" style=\"stroke:white;stroke-width:4\"/><line x1=\"435.355\" y1=\"264.645\" x2=\"400.0\" y2=\"229.29\" stroke-linecap=\"round\" style=\"stroke:white;stroke-width:4\"/><line x1=\"400.0\" y1=\"229.29\" x2=\"364.645\" y2=\"264.645\" stroke-linecap=\"round\" style=\"stroke:white;stroke-width:4\"/><line x1=\"364.645\" y1=\"264.645\" x2=\"329.29\" y2=\"229.29\" stroke-linecap=\"round\" style=\"stroke:white;stroke-width:4\"/><line x1=\"329.29\" y1=\"229.29\" x2=\"364.645\" y2=\"193.935\" stroke-linecap=\"round\" style=\"stroke:white;stroke-width:4\"/><line x1=\"364.645\" y1=\"193.935\" x2=\"329.29\" y2=\"158.58\" stroke-linecap=\"round\" style=\"stroke:white;stroke-width:4\"/><line x1=\"329.29\" y1=\"158.58\" x2=\"364.645\" y2=\"123.225\" stroke-linecap=\"round\" style=\"stroke:white;stroke-width:4\"/><line x1=\"364.645\" y1=\"123.225\" x2=\"400.0\" y2=\"158.58\" stroke-linecap=\"round\" style=\"stroke:white;stroke-width:4\"/><line x1=\"600\" y1=\"300\" x2=\"600.0\" y2=\"350.0\" stroke-linecap=\"round\" style=\"stroke:white;stroke-width:4\"/><line x1=\"600.0\" y1=\"350.0\" x2=\"650.0\" y2=\"350.0\" stroke-linecap=\"round\" style=\"stroke:white;stroke-width:4\"/><line x1=\"650.0\" y1=\"350.0\" x2=\"650.0\" y2=\"300.0\" stroke-linecap=\"round\" style=\"stroke:white;stroke-width:4\"/><line x1=\"650.0\" y1=\"300.0\" x2=\"700.0\" y2=\"300.0\" stroke-linecap=\"round\" style=\"stroke:white;stroke-width:4\"/><line x1=\"700.0\" y1=\"300.0\" x2=\"700.0\" y2=\"250.0\" stroke-linecap=\"round\" style=\"stroke:white;stroke-width:4\"/><line x1=\"700.0\" y1=\"250.0\" x2=\"650.0\" y2=\"250.0\" stroke-linecap=\"round\" style=\"stroke:white;stroke-width:4\"/><line x1=\"650.0\" y1=\"250.0\" x2=\"650.0\" y2=\"200.0\" stroke-linecap=\"round\" style=\"stroke:white;stroke-width:4\"/><line x1=\"650.0\" y1=\"200.0\" x2=\"700.0\" y2=\"200.0\" stroke-linecap=\"round\" style=\"stroke:white;stroke-width:4\"/><line x1=\"700.0\" y1=\"200.0\" x2=\"700.0\" y2=\"150.0\" stroke-linecap=\"round\" style=\"stroke:white;stroke-width:4\"/><line x1=\"700.0\" y1=\"150.0\" x2=\"650.0\" y2=\"150.0\" stroke-linecap=\"round\" style=\"stroke:white;stroke-width:4\"/><line x1=\"650.0\" y1=\"150.0\" x2=\"650.0\" y2=\"200.0\" stroke-linecap=\"round\" style=\"stroke:white;stroke-width:4\"/><line x1=\"650.0\" y1=\"200.0\" x2=\"600.0\" y2=\"200.0\" stroke-linecap=\"round\" style=\"stroke:white;stroke-width:4\"/><line x1=\"600.0\" y1=\"200.0\" x2=\"600.0\" y2=\"150.0\" stroke-linecap=\"round\" style=\"stroke:white;stroke-width:4\"/><line x1=\"600.0\" y1=\"150.0\" x2=\"550.0\" y2=\"150.0\" stroke-linecap=\"round\" style=\"stroke:white;stroke-width:4\"/><line x1=\"550.0\" y1=\"150.0\" x2=\"550.0\" y2=\"100.0\" stroke-linecap=\"round\" style=\"stroke:white;stroke-width:4\"/><line x1=\"550.0\" y1=\"100.0\" x2=\"600.0\" y2=\"100.0\" stroke-linecap=\"round\" style=\"stroke:white;stroke-width:4\"/>\n",
              "        <g visibility=visible transform=\"rotate(360,600.0,100.0) translate(582.0, 82.0)\">\n",
              "<path style=\" stroke:none;fill-rule:evenodd;fill:white;fill-opacity:1;\" d=\"M 18.214844 0.632812 C 16.109375 1.800781 15.011719 4.074219 15.074219 7.132812 L 15.085938 7.652344 L 14.785156 7.496094 C 13.476562 6.824219 11.957031 6.671875 10.40625 7.066406 C 8.46875 7.550781 6.515625 9.15625 4.394531 11.992188 C 3.0625 13.777344 2.679688 14.636719 3.042969 15.027344 L 3.15625 15.152344 L 3.519531 15.152344 C 4.238281 15.152344 4.828125 14.886719 8.1875 13.039062 C 9.386719 12.378906 10.371094 11.839844 10.378906 11.839844 C 10.386719 11.839844 10.355469 11.929688 10.304688 12.035156 C 9.832031 13.09375 9.257812 14.820312 8.96875 16.078125 C 7.914062 20.652344 8.617188 24.53125 11.070312 27.660156 C 11.351562 28.015625 11.363281 27.914062 10.972656 28.382812 C 8.925781 30.84375 7.945312 33.28125 8.238281 35.1875 C 8.289062 35.527344 8.28125 35.523438 8.917969 35.523438 C 10.941406 35.523438 13.074219 34.207031 15.136719 31.6875 C 15.359375 31.417969 15.328125 31.425781 15.5625 31.574219 C 16.292969 32.042969 18.023438 32.964844 18.175781 32.964844 C 18.335938 32.964844 19.941406 32.210938 20.828125 31.71875 C 20.996094 31.625 21.136719 31.554688 21.136719 31.558594 C 21.203125 31.664062 21.898438 32.414062 22.222656 32.730469 C 23.835938 34.300781 25.5625 35.132812 27.582031 35.300781 C 27.90625 35.328125 27.9375 35.308594 28.007812 34.984375 C 28.382812 33.242188 27.625 30.925781 25.863281 28.425781 L 25.542969 27.96875 L 25.699219 27.785156 C 28.945312 23.960938 29.132812 18.699219 26.257812 11.96875 L 26.207031 11.84375 L 27.945312 12.703125 C 31.53125 14.476562 32.316406 14.800781 33.03125 14.800781 C 33.976562 14.800781 33.78125 13.9375 32.472656 12.292969 C 28.519531 7.355469 25.394531 5.925781 21.921875 7.472656 L 21.558594 7.636719 L 21.578125 7.542969 C 21.699219 6.992188 21.761719 5.742188 21.699219 5.164062 C 21.496094 3.296875 20.664062 1.964844 19.003906 0.855469 C 18.480469 0.503906 18.457031 0.5 18.214844 0.632812\"/>\n",
              "</g>\n",
              "      </svg>\n",
              "    "
            ],
            "text/plain": [
              "<IPython.core.display.HTML object>"
            ]
          },
          "metadata": {}
        },
        {
          "output_type": "execute_result",
          "data": {
            "application/vnd.google.colaboratory.intrinsic+json": {
              "type": "string"
            },
            "text/plain": [
              "\" Вывод: аргумент 'right' влияет на конечный результат, фигура\\nразворачивается на 180 градусов, увеличение глубины рекурсии на 1,\\nповорачивает результат по часовой стролке на 45 градусов \""
            ]
          },
          "metadata": {},
          "execution_count": 20
        }
      ]
    },
    {
      "cell_type": "markdown",
      "source": [
        "## Упражнение №8: Канторово множество\n",
        "Нарисуйте Канторово множество. Канторово множество нулевого порядка - горизонтальный отрезок. Удалив среднюю треть получим множество первого порядка. Повторяя данную процедуру получим остальные множества."
      ],
      "metadata": {
        "id": "1X8BsHKdKBWd"
      }
    },
    {
      "cell_type": "code",
      "source": [
        "!pip3 install ColabTurtle\n",
        "import ColabTurtle.Turtle as turtle\n",
        "\n",
        "\n",
        "def kantor(l, n):\n",
        "  if n == 0:\n",
        "    turtle.forward(l)\n",
        "    return\n",
        "  turtle.width(n+1)\n",
        "  turtle.forward(l)\n",
        "  x = turtle.getx()\n",
        "  turtle.penup()\n",
        "  turtle.goto(x - l, START_Y + (REC_DEPTH-n+1)*20) # возвращаем черепаху в то же\n",
        "  # положение по 'х', что и до рисование отрезка, а по 'y' смещаем в зависимости\n",
        "  # от текущей глубины рекурсии.\n",
        "  turtle.pendown()\n",
        "  nl = l / 3\n",
        "  kantor(nl, n-1)\n",
        "  turtle.penup()\n",
        "  turtle.goto(x - nl, START_Y + (REC_DEPTH-n+1)*20) # аналогично возвращаем черепаху\n",
        "  turtle.pendown()\n",
        "  kantor(nl, n-1)\n",
        "\n",
        "\n",
        "REC_DEPTH = 5\n",
        "START_Y = 200\n",
        "turtle.speed(13)\n",
        "turtle.initializeTurtle()\n",
        "turtle.penup()\n",
        "turtle.goto(100, START_Y)\n",
        "turtle.right(90)\n",
        "turtle.pendown()\n",
        "kantor(600, REC_DEPTH)"
      ],
      "metadata": {
        "colab": {
          "base_uri": "https://localhost:8080/",
          "height": 539
        },
        "id": "XshGVbuIKDfE",
        "outputId": "248f5ac1-207d-4930-ef55-2f092b6ac27e"
      },
      "execution_count": null,
      "outputs": [
        {
          "output_type": "stream",
          "name": "stdout",
          "text": [
            "Requirement already satisfied: ColabTurtle in /usr/local/lib/python3.7/dist-packages (2.1.0)\n"
          ]
        },
        {
          "output_type": "display_data",
          "data": {
            "text/html": [
              "\n",
              "      <svg width=\"800\" height=\"500\">\n",
              "        <rect width=\"100%\" height=\"100%\" fill=\"black\"/>\n",
              "        <line x1=\"100\" y1=\"200\" x2=\"700.0\" y2=\"200.0\" stroke-linecap=\"round\" style=\"stroke:white;stroke-width:6\"/><line x1=\"100.0\" y1=\"220\" x2=\"300.0\" y2=\"220.0\" stroke-linecap=\"round\" style=\"stroke:white;stroke-width:5\"/><line x1=\"100.0\" y1=\"240\" x2=\"166.667\" y2=\"240.0\" stroke-linecap=\"round\" style=\"stroke:white;stroke-width:4\"/><line x1=\"100.0\" y1=\"260\" x2=\"122.222\" y2=\"260.0\" stroke-linecap=\"round\" style=\"stroke:white;stroke-width:3\"/><line x1=\"100.0\" y1=\"280\" x2=\"107.407\" y2=\"280.0\" stroke-linecap=\"round\" style=\"stroke:white;stroke-width:2\"/><line x1=\"100.0\" y1=\"300\" x2=\"102.469\" y2=\"300.0\" stroke-linecap=\"round\" style=\"stroke:white;stroke-width:2\"/><line x1=\"104.938\" y1=\"300\" x2=\"107.407\" y2=\"300.0\" stroke-linecap=\"round\" style=\"stroke:white;stroke-width:2\"/><line x1=\"114.815\" y1=\"280\" x2=\"122.222\" y2=\"280.0\" stroke-linecap=\"round\" style=\"stroke:white;stroke-width:2\"/><line x1=\"114.815\" y1=\"300\" x2=\"117.284\" y2=\"300.0\" stroke-linecap=\"round\" style=\"stroke:white;stroke-width:2\"/><line x1=\"119.753\" y1=\"300\" x2=\"122.222\" y2=\"300.0\" stroke-linecap=\"round\" style=\"stroke:white;stroke-width:2\"/><line x1=\"144.445\" y1=\"260\" x2=\"166.667\" y2=\"260.0\" stroke-linecap=\"round\" style=\"stroke:white;stroke-width:3\"/><line x1=\"144.445\" y1=\"280\" x2=\"151.852\" y2=\"280.0\" stroke-linecap=\"round\" style=\"stroke:white;stroke-width:2\"/><line x1=\"144.445\" y1=\"300\" x2=\"146.914\" y2=\"300.0\" stroke-linecap=\"round\" style=\"stroke:white;stroke-width:2\"/><line x1=\"149.383\" y1=\"300\" x2=\"151.852\" y2=\"300.0\" stroke-linecap=\"round\" style=\"stroke:white;stroke-width:2\"/><line x1=\"159.26\" y1=\"280\" x2=\"166.667\" y2=\"280.0\" stroke-linecap=\"round\" style=\"stroke:white;stroke-width:2\"/><line x1=\"159.26\" y1=\"300\" x2=\"161.729\" y2=\"300.0\" stroke-linecap=\"round\" style=\"stroke:white;stroke-width:2\"/><line x1=\"164.198\" y1=\"300\" x2=\"166.667\" y2=\"300.0\" stroke-linecap=\"round\" style=\"stroke:white;stroke-width:2\"/><line x1=\"233.333\" y1=\"240\" x2=\"300.0\" y2=\"240.0\" stroke-linecap=\"round\" style=\"stroke:white;stroke-width:4\"/><line x1=\"233.333\" y1=\"260\" x2=\"255.555\" y2=\"260.0\" stroke-linecap=\"round\" style=\"stroke:white;stroke-width:3\"/><line x1=\"233.333\" y1=\"280\" x2=\"240.74\" y2=\"280.0\" stroke-linecap=\"round\" style=\"stroke:white;stroke-width:2\"/><line x1=\"233.333\" y1=\"300\" x2=\"235.802\" y2=\"300.0\" stroke-linecap=\"round\" style=\"stroke:white;stroke-width:2\"/><line x1=\"238.271\" y1=\"300\" x2=\"240.74\" y2=\"300.0\" stroke-linecap=\"round\" style=\"stroke:white;stroke-width:2\"/><line x1=\"248.148\" y1=\"280\" x2=\"255.555\" y2=\"280.0\" stroke-linecap=\"round\" style=\"stroke:white;stroke-width:2\"/><line x1=\"248.148\" y1=\"300\" x2=\"250.617\" y2=\"300.0\" stroke-linecap=\"round\" style=\"stroke:white;stroke-width:2\"/><line x1=\"253.086\" y1=\"300\" x2=\"255.555\" y2=\"300.0\" stroke-linecap=\"round\" style=\"stroke:white;stroke-width:2\"/><line x1=\"277.778\" y1=\"260\" x2=\"300.0\" y2=\"260.0\" stroke-linecap=\"round\" style=\"stroke:white;stroke-width:3\"/><line x1=\"277.778\" y1=\"280\" x2=\"285.185\" y2=\"280.0\" stroke-linecap=\"round\" style=\"stroke:white;stroke-width:2\"/><line x1=\"277.778\" y1=\"300\" x2=\"280.247\" y2=\"300.0\" stroke-linecap=\"round\" style=\"stroke:white;stroke-width:2\"/><line x1=\"282.716\" y1=\"300\" x2=\"285.185\" y2=\"300.0\" stroke-linecap=\"round\" style=\"stroke:white;stroke-width:2\"/><line x1=\"292.593\" y1=\"280\" x2=\"300.0\" y2=\"280.0\" stroke-linecap=\"round\" style=\"stroke:white;stroke-width:2\"/><line x1=\"292.593\" y1=\"300\" x2=\"295.062\" y2=\"300.0\" stroke-linecap=\"round\" style=\"stroke:white;stroke-width:2\"/><line x1=\"297.531\" y1=\"300\" x2=\"300.0\" y2=\"300.0\" stroke-linecap=\"round\" style=\"stroke:white;stroke-width:2\"/><line x1=\"500.0\" y1=\"220\" x2=\"700.0\" y2=\"220.0\" stroke-linecap=\"round\" style=\"stroke:white;stroke-width:5\"/><line x1=\"500.0\" y1=\"240\" x2=\"566.667\" y2=\"240.0\" stroke-linecap=\"round\" style=\"stroke:white;stroke-width:4\"/><line x1=\"500.0\" y1=\"260\" x2=\"522.222\" y2=\"260.0\" stroke-linecap=\"round\" style=\"stroke:white;stroke-width:3\"/><line x1=\"500.0\" y1=\"280\" x2=\"507.407\" y2=\"280.0\" stroke-linecap=\"round\" style=\"stroke:white;stroke-width:2\"/><line x1=\"500.0\" y1=\"300\" x2=\"502.469\" y2=\"300.0\" stroke-linecap=\"round\" style=\"stroke:white;stroke-width:2\"/><line x1=\"504.938\" y1=\"300\" x2=\"507.407\" y2=\"300.0\" stroke-linecap=\"round\" style=\"stroke:white;stroke-width:2\"/><line x1=\"514.815\" y1=\"280\" x2=\"522.222\" y2=\"280.0\" stroke-linecap=\"round\" style=\"stroke:white;stroke-width:2\"/><line x1=\"514.815\" y1=\"300\" x2=\"517.284\" y2=\"300.0\" stroke-linecap=\"round\" style=\"stroke:white;stroke-width:2\"/><line x1=\"519.753\" y1=\"300\" x2=\"522.222\" y2=\"300.0\" stroke-linecap=\"round\" style=\"stroke:white;stroke-width:2\"/><line x1=\"544.445\" y1=\"260\" x2=\"566.667\" y2=\"260.0\" stroke-linecap=\"round\" style=\"stroke:white;stroke-width:3\"/><line x1=\"544.445\" y1=\"280\" x2=\"551.852\" y2=\"280.0\" stroke-linecap=\"round\" style=\"stroke:white;stroke-width:2\"/><line x1=\"544.445\" y1=\"300\" x2=\"546.914\" y2=\"300.0\" stroke-linecap=\"round\" style=\"stroke:white;stroke-width:2\"/><line x1=\"549.383\" y1=\"300\" x2=\"551.852\" y2=\"300.0\" stroke-linecap=\"round\" style=\"stroke:white;stroke-width:2\"/><line x1=\"559.26\" y1=\"280\" x2=\"566.667\" y2=\"280.0\" stroke-linecap=\"round\" style=\"stroke:white;stroke-width:2\"/><line x1=\"559.26\" y1=\"300\" x2=\"561.729\" y2=\"300.0\" stroke-linecap=\"round\" style=\"stroke:white;stroke-width:2\"/><line x1=\"564.198\" y1=\"300\" x2=\"566.667\" y2=\"300.0\" stroke-linecap=\"round\" style=\"stroke:white;stroke-width:2\"/><line x1=\"633.333\" y1=\"240\" x2=\"700.0\" y2=\"240.0\" stroke-linecap=\"round\" style=\"stroke:white;stroke-width:4\"/><line x1=\"633.333\" y1=\"260\" x2=\"655.555\" y2=\"260.0\" stroke-linecap=\"round\" style=\"stroke:white;stroke-width:3\"/><line x1=\"633.333\" y1=\"280\" x2=\"640.74\" y2=\"280.0\" stroke-linecap=\"round\" style=\"stroke:white;stroke-width:2\"/><line x1=\"633.333\" y1=\"300\" x2=\"635.802\" y2=\"300.0\" stroke-linecap=\"round\" style=\"stroke:white;stroke-width:2\"/><line x1=\"638.271\" y1=\"300\" x2=\"640.74\" y2=\"300.0\" stroke-linecap=\"round\" style=\"stroke:white;stroke-width:2\"/><line x1=\"648.148\" y1=\"280\" x2=\"655.555\" y2=\"280.0\" stroke-linecap=\"round\" style=\"stroke:white;stroke-width:2\"/><line x1=\"648.148\" y1=\"300\" x2=\"650.617\" y2=\"300.0\" stroke-linecap=\"round\" style=\"stroke:white;stroke-width:2\"/><line x1=\"653.086\" y1=\"300\" x2=\"655.555\" y2=\"300.0\" stroke-linecap=\"round\" style=\"stroke:white;stroke-width:2\"/><line x1=\"677.778\" y1=\"260\" x2=\"700.0\" y2=\"260.0\" stroke-linecap=\"round\" style=\"stroke:white;stroke-width:3\"/><line x1=\"677.778\" y1=\"280\" x2=\"685.185\" y2=\"280.0\" stroke-linecap=\"round\" style=\"stroke:white;stroke-width:2\"/><line x1=\"677.778\" y1=\"300\" x2=\"680.247\" y2=\"300.0\" stroke-linecap=\"round\" style=\"stroke:white;stroke-width:2\"/><line x1=\"682.716\" y1=\"300\" x2=\"685.185\" y2=\"300.0\" stroke-linecap=\"round\" style=\"stroke:white;stroke-width:2\"/><line x1=\"692.593\" y1=\"280\" x2=\"700.0\" y2=\"280.0\" stroke-linecap=\"round\" style=\"stroke:white;stroke-width:2\"/><line x1=\"692.593\" y1=\"300\" x2=\"695.062\" y2=\"300.0\" stroke-linecap=\"round\" style=\"stroke:white;stroke-width:2\"/><line x1=\"697.531\" y1=\"300\" x2=\"700.0\" y2=\"300.0\" stroke-linecap=\"round\" style=\"stroke:white;stroke-width:2\"/>\n",
              "        <g visibility=visible transform=\"rotate(90,700.0,300.0) translate(682.0, 282.0)\">\n",
              "<path style=\" stroke:none;fill-rule:evenodd;fill:white;fill-opacity:1;\" d=\"M 18.214844 0.632812 C 16.109375 1.800781 15.011719 4.074219 15.074219 7.132812 L 15.085938 7.652344 L 14.785156 7.496094 C 13.476562 6.824219 11.957031 6.671875 10.40625 7.066406 C 8.46875 7.550781 6.515625 9.15625 4.394531 11.992188 C 3.0625 13.777344 2.679688 14.636719 3.042969 15.027344 L 3.15625 15.152344 L 3.519531 15.152344 C 4.238281 15.152344 4.828125 14.886719 8.1875 13.039062 C 9.386719 12.378906 10.371094 11.839844 10.378906 11.839844 C 10.386719 11.839844 10.355469 11.929688 10.304688 12.035156 C 9.832031 13.09375 9.257812 14.820312 8.96875 16.078125 C 7.914062 20.652344 8.617188 24.53125 11.070312 27.660156 C 11.351562 28.015625 11.363281 27.914062 10.972656 28.382812 C 8.925781 30.84375 7.945312 33.28125 8.238281 35.1875 C 8.289062 35.527344 8.28125 35.523438 8.917969 35.523438 C 10.941406 35.523438 13.074219 34.207031 15.136719 31.6875 C 15.359375 31.417969 15.328125 31.425781 15.5625 31.574219 C 16.292969 32.042969 18.023438 32.964844 18.175781 32.964844 C 18.335938 32.964844 19.941406 32.210938 20.828125 31.71875 C 20.996094 31.625 21.136719 31.554688 21.136719 31.558594 C 21.203125 31.664062 21.898438 32.414062 22.222656 32.730469 C 23.835938 34.300781 25.5625 35.132812 27.582031 35.300781 C 27.90625 35.328125 27.9375 35.308594 28.007812 34.984375 C 28.382812 33.242188 27.625 30.925781 25.863281 28.425781 L 25.542969 27.96875 L 25.699219 27.785156 C 28.945312 23.960938 29.132812 18.699219 26.257812 11.96875 L 26.207031 11.84375 L 27.945312 12.703125 C 31.53125 14.476562 32.316406 14.800781 33.03125 14.800781 C 33.976562 14.800781 33.78125 13.9375 32.472656 12.292969 C 28.519531 7.355469 25.394531 5.925781 21.921875 7.472656 L 21.558594 7.636719 L 21.578125 7.542969 C 21.699219 6.992188 21.761719 5.742188 21.699219 5.164062 C 21.496094 3.296875 20.664062 1.964844 19.003906 0.855469 C 18.480469 0.503906 18.457031 0.5 18.214844 0.632812\"/>\n",
              "</g>\n",
              "      </svg>\n",
              "    "
            ],
            "text/plain": [
              "<IPython.core.display.HTML object>"
            ]
          },
          "metadata": {}
        }
      ]
    },
    {
      "cell_type": "markdown",
      "source": [
        "# Практика 9. Сортировки."
      ],
      "metadata": {
        "id": "B_vxx4qi-ocl"
      }
    },
    {
      "cell_type": "markdown",
      "source": [
        "## Шестнадцатеричные и двоичные\n",
        "Ограничение по времени работы программы: 1 секунда.\n",
        "Ограничение по памяти: 32 мегабайта.\n",
        "Ввод из стандартного потока ввода (с клавиатуры).\n",
        "Вывод в стандартный поток вывода (на экран).\n",
        "\n",
        "Вычислите XOR от двух чисел.\n",
        "\n",
        "Входные данные\n",
        "\n",
        "Два целых шестнадцатеричных числа меньших FF.\n",
        "\n",
        "Выходные данные\n",
        "\n",
        "Побитовый XOR этих чисел в шестнадцетиричном виде"
      ],
      "metadata": {
        "id": "6HinLaSV-ux1"
      }
    },
    {
      "cell_type": "code",
      "source": [
        "# Вероятно я слишком переусложнил данное задание\n",
        "def hex_to_bin(hex_num):\n",
        "  ''' Принимает строковую запись шестнадцатиричного числа и возвращает \n",
        "  его двоичную запись в виде списка.\n",
        "  '''\n",
        "  temp = bin(int(hex_num, 16))\n",
        "  temp = temp[2:len(temp)]\n",
        "  return [int(x) for x in temp]\n",
        "\n",
        "\n",
        "def bin_to_hex(bin_num):\n",
        "  ''' Принимает строковую двоичную запись числа и возвращает \n",
        "  его шестнадцатиричную запись в виде строки без 0x.\n",
        "  '''\n",
        "  dec_num = int(bin_num, 2)\n",
        "  hex_num = hex(dec_num)\n",
        "  hex_num = hex_num[2:len(hex_num)]\n",
        "  return hex_num\n",
        "\n",
        "\n",
        "def xor_of_two(a, b):\n",
        "  bin_result = ''\n",
        "  diff = len(a) - len(b)\n",
        "  for i in range(len(a)):\n",
        "    # Когда итератор достигает разницы длин списков, начинаем сравнивать оба\n",
        "    # списка, до этого мы просто записываем значения более длинного списка,\n",
        "    # так как \"булева переменная XOR 0 = булева переменная\"\n",
        "    if i >= diff: \n",
        "      xor = not(a[i] == b[i-diff])\n",
        "      bin_result += str(int(xor))\n",
        "    else:\n",
        "      bin_result += str(a[i])\n",
        "  return bin_result\n",
        "\n",
        "\n",
        "str_input = input()\n",
        "list_input = str_input.split()\n",
        "first = []\n",
        "second = []\n",
        "first = hex_to_bin(list_input[0])\n",
        "second = hex_to_bin(list_input[1])\n",
        "if len(first) >= len(second):\n",
        "  bin_result = xor_of_two(first, second)\n",
        "else:\n",
        "  bin_result = xor_of_two(second, first)\n",
        "print(bin_to_hex(bin_result))\n"
      ],
      "metadata": {
        "colab": {
          "base_uri": "https://localhost:8080/"
        },
        "id": "ohRUsxmu_lYH",
        "outputId": "170ede2f-acce-4419-8465-c6b4cb97b0f4"
      },
      "execution_count": null,
      "outputs": [
        {
          "output_type": "stream",
          "name": "stdout",
          "text": [
            "ff f\n",
            "f0\n"
          ]
        }
      ]
    },
    {
      "cell_type": "markdown",
      "source": [
        "## Сколько единиц в бинарной записи?\n",
        "Ограничение времени:\t1 с\n",
        "Ограничение реального времени:\t5 с\n",
        "Ограничение памяти:\t64M\n",
        "Сколько 1 в бинарной записи числа\n",
        "Найти, сколько единиц содержит бинарная запись числа.\n",
        "\n",
        "Входные данные\n",
        "\n",
        "Целое неотрицательное число K.\n",
        "\n",
        "Выходные данные\n",
        "\n",
        "Сколько единиц содержит бинарная запись числа."
      ],
      "metadata": {
        "id": "L5cBmERMZZwJ"
      }
    },
    {
      "cell_type": "code",
      "source": [
        "num = int(input())\n",
        "bin_num = bin(num)\n",
        "count = 0\n",
        "for el in bin_num:\n",
        "  if el == '1':\n",
        "    count += 1\n",
        "print(count)"
      ],
      "metadata": {
        "colab": {
          "base_uri": "https://localhost:8080/"
        },
        "id": "stAZIikmZfc5",
        "outputId": "5858292c-e8c2-42e2-b37d-7fcf202669da"
      },
      "execution_count": null,
      "outputs": [
        {
          "output_type": "stream",
          "name": "stdout",
          "text": [
            "5\n",
            "2\n"
          ]
        }
      ]
    },
    {
      "cell_type": "markdown",
      "source": [
        "## Рыцари и лжецы\n",
        "На острове Буяне жили N человек, каждый из которых был либо рыцарем либо лжецом, встали в круг. Рыцари говорят только правду, лжецы всегда только лгут. Каждому человеку в кругу задали вопрос: «Кто ты и кто твой сосед слева: рыцарь или лжец?» При этом каждый человек сказал, что он – рыцарь. А ответы всех людей о левом соседе были записаны в следующем формате: 1 – рыцарь 0 – лжец. Все ответы записаны в строку через пробел. Последний спрошенный человек отвечал на вопрос о первом.\n",
        "\n",
        "Написать программу, которая по ответам жителей определяет, какое количество рыцарей заведомо присутствует в круге.\n",
        "\n",
        "Входные данные\n",
        "\n",
        "Первое число ( 1 < N ≤ 255 ) - количество жителей. Следующие N чисел (0 или 1), разделенных пробелами - ответы жителей."
      ],
      "metadata": {
        "id": "-yNqhK-uZrcK"
      }
    },
    {
      "cell_type": "markdown",
      "source": [
        "Анализ\n",
        "\n",
        "рррлллррр\n",
        "\n",
        "110110111\n",
        "\n",
        "\n",
        "---\n",
        "\n",
        "\n",
        "лллрррллл\n",
        "\n",
        "110110111\n",
        "\n",
        "\n",
        "---\n",
        "\n",
        "\n",
        "ррлрр\n",
        "\n",
        "10011\n",
        "\n",
        "\n",
        "---\n",
        "\n",
        "\n",
        "ллрлл\n",
        "\n",
        "10011\n",
        "\n",
        "\n",
        "---\n",
        "\n",
        "\n",
        "ррллрр\n",
        "\n",
        "101011\n",
        "\n",
        "\n",
        "---\n",
        "\n",
        "\n",
        "рлрлр\n",
        "\n",
        "00001\n",
        "\n",
        "\n",
        "---\n",
        "\n",
        "\n",
        "Замена рыцарей на лжецов никак не меняет ответы, смена одного вида ответчиков на другой определяется по нулям, для нахождения точно присутствуующих рыцарей, предполагаем что все лжецы, ищем первый ноль, считаем сколько людей до следующего нуля (в подсчёт включаем один из нулей) и так до конца массива, то что ответы замкнуты, нам не доставляет неудобств, мы просто подсчитываем количество между нулями, которых должно быть четное количество. Выводим количество между нулями или N-(количество между нулями) в зависимотсти от того что меньше. Обойдемся без дополнительных преобразований строки в список c `bool(int(str[i]))` элементами."
      ],
      "metadata": {
        "id": "sNJEpqFtjewh"
      }
    },
    {
      "cell_type": "code",
      "source": [
        "n = int(input())\n",
        "answers = input()\n",
        "i = 0\n",
        "count = 0\n",
        "while i < 2*n:\n",
        "  if answers[i] == '0':\n",
        "    count += 1\n",
        "    i += 2\n",
        "    while answers[i] != '0':\n",
        "      count += 1\n",
        "      i += 2\n",
        "  i += 2\n",
        "print(min(count, n-count))\n"
      ],
      "metadata": {
        "colab": {
          "base_uri": "https://localhost:8080/"
        },
        "id": "8jmbaE6Sd16S",
        "outputId": "fef51bd9-1354-4b58-9194-64bae04bc10c"
      },
      "execution_count": null,
      "outputs": [
        {
          "output_type": "stream",
          "name": "stdout",
          "text": [
            "9\n",
            "1 1 0 1 1 0 1 1 1\n",
            "3\n"
          ]
        }
      ]
    },
    {
      "cell_type": "markdown",
      "source": [
        "## Сколько надо денег?\n",
        "Студент покупает рис каждый день.\n",
        "В первую неделю рис стоит price монет.\n",
        "Каждый день (перед началом рабочего дня) цена риса увеличивается на delta монет (price = price + delta).\n",
        "Неделя - 7 дней.\n",
        "Студент покупал рис m недель.\n",
        "\n",
        "Написать программу (с циклом while), которая вычисляет сколько денег потратил студент.\n",
        "\n",
        "Нужны переменные:\n",
        "\n",
        "day - чтобы считать дни.\n",
        "\n",
        "Сначала day = 1.\n",
        "Если day == 8, то это первый день новой недели day = 1\n",
        "week - чтобы считать недели. Сначала week = 1.\n",
        "\n",
        "Если day == 8, то началась новая неделя week = week + 1\n",
        "\n",
        "Входные данные (строка, значения через пробел)\n",
        "\n",
        "price - цена риса\n",
        "\n",
        "delta - на сколько увеличивается цена\n",
        "\n",
        "m - количество недель\n",
        "\n",
        "Выходные данные\n",
        "\n",
        "Число money - сколько денег потратил студент."
      ],
      "metadata": {
        "id": "h9LpxJCSjGbB"
      }
    },
    {
      "cell_type": "markdown",
      "source": [
        "Анализ на сумму арифметической прогрессии, тем не менее просят решать через цикл. Проверяем результат по формуле `money=(2*price+delta*(m*7-1))/2*m*7`"
      ],
      "metadata": {
        "id": "LaR6k3PUmIBY"
      }
    },
    {
      "cell_type": "code",
      "source": [
        "input_list = [int(x) for x in input().split()]\n",
        "price = input_list[0]\n",
        "delta = input_list[1]\n",
        "m = input_list[2]\n",
        "day = 1\n",
        "week = 1\n",
        "money = 0\n",
        "while week <= m:\n",
        "  money += price\n",
        "  price += delta\n",
        "  day += 1\n",
        "  if day == 8:\n",
        "    day = 1\n",
        "    week += 1\n",
        "print(money)"
      ],
      "metadata": {
        "colab": {
          "base_uri": "https://localhost:8080/"
        },
        "id": "aOWScnz4lYzA",
        "outputId": "4b66d37b-c37d-45d9-97dc-b6135bb9a75b"
      },
      "execution_count": null,
      "outputs": [
        {
          "output_type": "stream",
          "name": "stdout",
          "text": [
            "10 1 1\n",
            "91\n"
          ]
        }
      ]
    },
    {
      "cell_type": "markdown",
      "source": [
        "## Скобочные выражения\n",
        "Скобочки\n",
        "\n",
        "Некоторые скобочные структуры правильные, другие — неправильные. Ваша задача — определить правильная ли скобочная структура.\n",
        "\n",
        "Входные данные\n",
        "\n",
        "Слово в алфавите из двух круглых скобочек ( и ). Длина слова меньше 4001\n",
        "\n",
        "Выходные данные\n",
        "\n",
        "Либо NO, либо YES"
      ],
      "metadata": {
        "id": "1XrJiUFBsCst"
      }
    },
    {
      "cell_type": "code",
      "source": [
        "def check(line):\n",
        "  result = 0\n",
        "  for i in range(len(line)):\n",
        "    if line[i] == '(':\n",
        "      result += 1\n",
        "    elif line[i] == ')':\n",
        "      result -= 1\n",
        "    if result < 0:\n",
        "      return 'NO'\n",
        "  if result == 0:\n",
        "    return 'YES'\n",
        "  else:\n",
        "    return 'NO'\n",
        "\n",
        "line = input()\n",
        "print(check(line))\n"
      ],
      "metadata": {
        "colab": {
          "base_uri": "https://localhost:8080/"
        },
        "id": "ph3NiLVWsj6W",
        "outputId": "e3c67c59-523e-48e6-ede4-cd76f5c928ce"
      },
      "execution_count": null,
      "outputs": [
        {
          "output_type": "stream",
          "name": "stdout",
          "text": [
            "()(())())\n",
            "NO\n"
          ]
        }
      ]
    },
    {
      "cell_type": "markdown",
      "source": [
        "## Число вхождений цифры\n",
        "Заданная цифра в числе\n",
        "\n",
        "Сколько раз цифра d входит в десятичную запись числа n?\n",
        "\n",
        "Входные данные\n",
        "\n",
        "Число 0≤d≤9. Пробел. Целое положительное число n в десятичной системе (0 ≤ n ≤ 3·10 6) .\n",
        "\n",
        "Выходные данные\n",
        "\n",
        "Сколько раз цифра d входит в запись числа n."
      ],
      "metadata": {
        "id": "vr74YLW3t44e"
      }
    },
    {
      "cell_type": "code",
      "source": [
        "input_str = input()\n",
        "seeking = input_str[0]\n",
        "count = 0\n",
        "for i in range(2, len(input_str)):\n",
        "  if input_str[i] == seeking:\n",
        "    count += 1\n",
        "print(count)\n"
      ],
      "metadata": {
        "colab": {
          "base_uri": "https://localhost:8080/"
        },
        "id": "6Uvod7ywvBaV",
        "outputId": "9f0c4e92-f4a2-4084-d59d-6007605ee58a"
      },
      "execution_count": null,
      "outputs": [
        {
          "output_type": "stream",
          "name": "stdout",
          "text": [
            "3 1323533\n",
            "4\n"
          ]
        }
      ]
    },
    {
      "cell_type": "markdown",
      "source": [
        "## Отсортированные символы\n",
        "Напечатайте входную строку, отсортировав ее по возрастанию ASCII кода символов.\n",
        "\n",
        "Входные данные\n",
        "\n",
        "Строка, заканчивающаяся точкой, длиной не более 1000 символов. Точку сортировать не нужно. Все, что находится после первой точки - игнорировать.\n",
        "\n",
        "Выходные данные\n",
        "\n",
        "Отсортированная строка с точкой на конце.\n",
        "\n",
        "Наконец дошли до темы практики."
      ],
      "metadata": {
        "id": "fE7gIqhewDI0"
      }
    },
    {
      "cell_type": "code",
      "source": [
        "def sort_char(line):\n",
        "  \"\"\"Метод пузырька. Погружаемся с конца списка, элементы больше\n",
        "  последующих поднимаем в конец списка, пока они больше\"\"\"\n",
        "  line = list(line)\n",
        "  print(line)  # Для наглядного отображения сортировки\n",
        "  n = len(line)\n",
        "  # Закомментировал строки так метод оказался не пузырьковым\n",
        "  # for i in range(n-2, -1, -1):\n",
        "  #   k = i\n",
        "  #   while line[k] > line[k+1]:\n",
        "  #     line[k], line[k+1] = line[k+1], line[k]\n",
        "  #     print(line)  # Для наглядного отображения сортировки\n",
        "  #     if k < n-2:\n",
        "  #       k += 1\n",
        "  for j in range(0, n-1):  # В лекциях использовался range(1, n):\n",
        "    for i in range(0, n-j-1):  # В лекциях использовался range(0, n-j):\n",
        "      # Лекционный вариант задания крайних значений красивее.\n",
        "      if line[i] > line[i+1]:\n",
        "        line[i], line[i+1] = line[i+1], line[i]\n",
        "        print(line)  # Для наглядного отображения сортировки\n",
        "  return line\n",
        "\n",
        "\n",
        "def cut_line(whole_line):\n",
        "  \"\"\" Дополнительный проход On для обрезания строки строго до первой точки,\n",
        "  не уверен, что точка больше остальных символов по ASCII, поэтому добавим её\n",
        "  в конце после сортировки.\"\"\"\n",
        "  n = whole_line.find('.')\n",
        "  return whole_line[:n]\n",
        "\n",
        "\n",
        "def to_string(list_of_char):\n",
        "  result = ''\n",
        "  for i in range(len(list_of_char)):\n",
        "    result += list_of_char[i]\n",
        "  return result\n",
        "\n",
        "input_str = input()\n",
        "cut_line = cut_line(input_str)\n",
        "result = to_string(sort_char(cut_line)) +'.'\n",
        "print(result)\n"
      ],
      "metadata": {
        "colab": {
          "base_uri": "https://localhost:8080/"
        },
        "id": "H7cz3AcVwfFM",
        "outputId": "15063877-054a-4a5f-860e-6e99df32f3ba"
      },
      "execution_count": null,
      "outputs": [
        {
          "output_type": "stream",
          "name": "stdout",
          "text": [
            "-2 -17 -18 -4 -35.\n",
            "['-', '2', ' ', '-', '1', '7', ' ', '-', '1', '8', ' ', '-', '4', ' ', '-', '3', '5']\n",
            "['-', ' ', '2', '-', '1', '7', ' ', '-', '1', '8', ' ', '-', '4', ' ', '-', '3', '5']\n",
            "['-', ' ', '-', '2', '1', '7', ' ', '-', '1', '8', ' ', '-', '4', ' ', '-', '3', '5']\n",
            "['-', ' ', '-', '1', '2', '7', ' ', '-', '1', '8', ' ', '-', '4', ' ', '-', '3', '5']\n",
            "['-', ' ', '-', '1', '2', ' ', '7', '-', '1', '8', ' ', '-', '4', ' ', '-', '3', '5']\n",
            "['-', ' ', '-', '1', '2', ' ', '-', '7', '1', '8', ' ', '-', '4', ' ', '-', '3', '5']\n",
            "['-', ' ', '-', '1', '2', ' ', '-', '1', '7', '8', ' ', '-', '4', ' ', '-', '3', '5']\n",
            "['-', ' ', '-', '1', '2', ' ', '-', '1', '7', ' ', '8', '-', '4', ' ', '-', '3', '5']\n",
            "['-', ' ', '-', '1', '2', ' ', '-', '1', '7', ' ', '-', '8', '4', ' ', '-', '3', '5']\n",
            "['-', ' ', '-', '1', '2', ' ', '-', '1', '7', ' ', '-', '4', '8', ' ', '-', '3', '5']\n",
            "['-', ' ', '-', '1', '2', ' ', '-', '1', '7', ' ', '-', '4', ' ', '8', '-', '3', '5']\n",
            "['-', ' ', '-', '1', '2', ' ', '-', '1', '7', ' ', '-', '4', ' ', '-', '8', '3', '5']\n",
            "['-', ' ', '-', '1', '2', ' ', '-', '1', '7', ' ', '-', '4', ' ', '-', '3', '8', '5']\n",
            "['-', ' ', '-', '1', '2', ' ', '-', '1', '7', ' ', '-', '4', ' ', '-', '3', '5', '8']\n",
            "[' ', '-', '-', '1', '2', ' ', '-', '1', '7', ' ', '-', '4', ' ', '-', '3', '5', '8']\n",
            "[' ', '-', '-', '1', ' ', '2', '-', '1', '7', ' ', '-', '4', ' ', '-', '3', '5', '8']\n",
            "[' ', '-', '-', '1', ' ', '-', '2', '1', '7', ' ', '-', '4', ' ', '-', '3', '5', '8']\n",
            "[' ', '-', '-', '1', ' ', '-', '1', '2', '7', ' ', '-', '4', ' ', '-', '3', '5', '8']\n",
            "[' ', '-', '-', '1', ' ', '-', '1', '2', ' ', '7', '-', '4', ' ', '-', '3', '5', '8']\n",
            "[' ', '-', '-', '1', ' ', '-', '1', '2', ' ', '-', '7', '4', ' ', '-', '3', '5', '8']\n",
            "[' ', '-', '-', '1', ' ', '-', '1', '2', ' ', '-', '4', '7', ' ', '-', '3', '5', '8']\n",
            "[' ', '-', '-', '1', ' ', '-', '1', '2', ' ', '-', '4', ' ', '7', '-', '3', '5', '8']\n",
            "[' ', '-', '-', '1', ' ', '-', '1', '2', ' ', '-', '4', ' ', '-', '7', '3', '5', '8']\n",
            "[' ', '-', '-', '1', ' ', '-', '1', '2', ' ', '-', '4', ' ', '-', '3', '7', '5', '8']\n",
            "[' ', '-', '-', '1', ' ', '-', '1', '2', ' ', '-', '4', ' ', '-', '3', '5', '7', '8']\n",
            "[' ', '-', '-', ' ', '1', '-', '1', '2', ' ', '-', '4', ' ', '-', '3', '5', '7', '8']\n",
            "[' ', '-', '-', ' ', '-', '1', '1', '2', ' ', '-', '4', ' ', '-', '3', '5', '7', '8']\n",
            "[' ', '-', '-', ' ', '-', '1', '1', ' ', '2', '-', '4', ' ', '-', '3', '5', '7', '8']\n",
            "[' ', '-', '-', ' ', '-', '1', '1', ' ', '-', '2', '4', ' ', '-', '3', '5', '7', '8']\n",
            "[' ', '-', '-', ' ', '-', '1', '1', ' ', '-', '2', ' ', '4', '-', '3', '5', '7', '8']\n",
            "[' ', '-', '-', ' ', '-', '1', '1', ' ', '-', '2', ' ', '-', '4', '3', '5', '7', '8']\n",
            "[' ', '-', '-', ' ', '-', '1', '1', ' ', '-', '2', ' ', '-', '3', '4', '5', '7', '8']\n",
            "[' ', '-', ' ', '-', '-', '1', '1', ' ', '-', '2', ' ', '-', '3', '4', '5', '7', '8']\n",
            "[' ', '-', ' ', '-', '-', '1', ' ', '1', '-', '2', ' ', '-', '3', '4', '5', '7', '8']\n",
            "[' ', '-', ' ', '-', '-', '1', ' ', '-', '1', '2', ' ', '-', '3', '4', '5', '7', '8']\n",
            "[' ', '-', ' ', '-', '-', '1', ' ', '-', '1', ' ', '2', '-', '3', '4', '5', '7', '8']\n",
            "[' ', '-', ' ', '-', '-', '1', ' ', '-', '1', ' ', '-', '2', '3', '4', '5', '7', '8']\n",
            "[' ', ' ', '-', '-', '-', '1', ' ', '-', '1', ' ', '-', '2', '3', '4', '5', '7', '8']\n",
            "[' ', ' ', '-', '-', '-', ' ', '1', '-', '1', ' ', '-', '2', '3', '4', '5', '7', '8']\n",
            "[' ', ' ', '-', '-', '-', ' ', '-', '1', '1', ' ', '-', '2', '3', '4', '5', '7', '8']\n",
            "[' ', ' ', '-', '-', '-', ' ', '-', '1', ' ', '1', '-', '2', '3', '4', '5', '7', '8']\n",
            "[' ', ' ', '-', '-', '-', ' ', '-', '1', ' ', '-', '1', '2', '3', '4', '5', '7', '8']\n",
            "[' ', ' ', '-', '-', ' ', '-', '-', '1', ' ', '-', '1', '2', '3', '4', '5', '7', '8']\n",
            "[' ', ' ', '-', '-', ' ', '-', '-', ' ', '1', '-', '1', '2', '3', '4', '5', '7', '8']\n",
            "[' ', ' ', '-', '-', ' ', '-', '-', ' ', '-', '1', '1', '2', '3', '4', '5', '7', '8']\n",
            "[' ', ' ', '-', ' ', '-', '-', '-', ' ', '-', '1', '1', '2', '3', '4', '5', '7', '8']\n",
            "[' ', ' ', '-', ' ', '-', '-', ' ', '-', '-', '1', '1', '2', '3', '4', '5', '7', '8']\n",
            "[' ', ' ', ' ', '-', '-', '-', ' ', '-', '-', '1', '1', '2', '3', '4', '5', '7', '8']\n",
            "[' ', ' ', ' ', '-', '-', ' ', '-', '-', '-', '1', '1', '2', '3', '4', '5', '7', '8']\n",
            "[' ', ' ', ' ', '-', ' ', '-', '-', '-', '-', '1', '1', '2', '3', '4', '5', '7', '8']\n",
            "[' ', ' ', ' ', ' ', '-', '-', '-', '-', '-', '1', '1', '2', '3', '4', '5', '7', '8']\n",
            "    -----11234578.\n"
          ]
        }
      ]
    },
    {
      "cell_type": "markdown",
      "source": [
        "## Числа в словарном порядке\n",
        "Напечатайте входную последовательность натуральных чисел, отсортировав ее по возрастанию сначала единиц, потом десятков, потом сотен и тп.\n",
        "\n",
        "Входные данные\n",
        "\n",
        "Целое число 0 < N ≤ 1000. Затем N натуральных чисел, не превышающих 30000, через пробел.\n",
        "\n",
        "Выходные данные\n",
        "\n",
        "Числа по возрастанию единиц, при равных единиц - по возрастанию десятков, при равных единицах и десятков - по возрастанию сотен и тп."
      ],
      "metadata": {
        "id": "JKyIbQoAJrBd"
      }
    },
    {
      "cell_type": "code",
      "source": [
        "def sort_numbers(numbers):\n",
        "  \"\"\" Методом вставки. \"\"\"\n",
        "  # Необходимо проверить, предыдущий метод у меня пузырьком или нет,\n",
        "  # слишком похож на метод вставки, но начинается с конца.\n",
        "  # Проверил, исправил предыдущее задание\n",
        "  n = len(numbers)\n",
        "  print(numbers)  # Для наглядного отображения сортировки\n",
        "  for i in range(1, n):\n",
        "    k = i\n",
        "    while numbers[k] < numbers[k-1]:\n",
        "      numbers[k], numbers[k-1] = numbers[k-1], numbers[k]\n",
        "      print(numbers)  # Для наглядного отображения сортировки\n",
        "      if k > 1:\n",
        "        k -= 1\n",
        "  return numbers\n",
        "\n",
        "\n",
        "def to_string(list_of_numbers):\n",
        "  result = ''\n",
        "  for i in range(len(list_of_numbers)-1):\n",
        "    result += list_of_numbers[i] + ' '\n",
        "  result += list_of_numbers[-1]\n",
        "  return result\n",
        "\n",
        "\n",
        "n = int(input())\n",
        "numbers = input().split()\n",
        "# Сравнение обратных строк аналогично условию задачи\n",
        "reverse_numbers = [x[::-1] for x in numbers]\n",
        "reverse_result = sort_numbers(reverse_numbers)\n",
        "list_result = to_string([x[::-1] for x in reverse_result])\n",
        "print(list_result)"
      ],
      "metadata": {
        "colab": {
          "base_uri": "https://localhost:8080/"
        },
        "id": "rK-VGu_jL4l1",
        "outputId": "1ddd0337-6359-4826-e1f5-a07c5a73843a"
      },
      "execution_count": null,
      "outputs": [
        {
          "output_type": "stream",
          "name": "stdout",
          "text": [
            "5\n",
            "5 23 3 43 123\n",
            "['5', '32', '3', '34', '321']\n",
            "['32', '5', '3', '34', '321']\n",
            "['32', '3', '5', '34', '321']\n",
            "['3', '32', '5', '34', '321']\n",
            "['3', '32', '34', '5', '321']\n",
            "['3', '32', '34', '321', '5']\n",
            "['3', '32', '321', '34', '5']\n",
            "3 23 123 43 5\n"
          ]
        }
      ]
    },
    {
      "cell_type": "markdown",
      "source": [
        "## Матпомощь\n",
        "Студентов надо построить в шеренгу от самого легкого до самого тяжелого. Кто мало весит - тем выдать матпомощь..\n",
        "При одинаковом весе сначала идет студент с большим ростом (тощий).\n",
        "\n",
        "Формат входных данных\n",
        "Целое число N, 0 < N < 100, - количество студентов. Затем N пар чисел (float) через пробел - рост в метрах и вес в килограммах одного студента.\n",
        "\n",
        "Формат результата\n",
        "Рост и вес (печатать рост с точностью до сантиметров, а вес - до граммов) по одному студенту на строку от первого студента в шеренге к последнему"
      ],
      "metadata": {
        "id": "1AVCHXEIcd9S"
      }
    },
    {
      "cell_type": "code",
      "source": [
        "def sort_students(students):\n",
        "  \"\"\" Метод выбора. В лекциях была реализация с заменой при поиске,\n",
        "  у меня замена происходит только когда нужный элемент найден \"\"\"\n",
        "  n = len(students)\n",
        "  for j in range(n-1):\n",
        "    min_weight = students[j][1]\n",
        "    index_min_weight = j\n",
        "    for i in range(j, n):\n",
        "      if students[i][1] < min_weight:\n",
        "        min_weight = students[i][1]\n",
        "        index_min_weight = i\n",
        "      # Чтобы дважды не обходить список, сразу добавим проверку по росту\n",
        "      elif students[i][1] == min_weight:\n",
        "        if students[i][0] > students[index_min_weight][0]:\n",
        "          index_min_weight = i\n",
        "    students[j], students[index_min_weight] = students[index_min_weight], students[j]\n",
        "  return students\n",
        "\n",
        "\n",
        "n = int(input())\n",
        "students = []\n",
        "for i in range(n):\n",
        "  students.append([float(x) for x in input().split()])\n",
        "sorted_students = sort_students(students)\n",
        "for el in students:\n",
        "  # python сайта http://judge2.vdi.mipt.ru/ не понимает f строки,\n",
        "  # воспользуемся более старым вариантом\n",
        "  # print(f'{el[0]:.2f} {el[1]:.3f}')\n",
        "  print('{:.2f} {:.3f}'.format(el[0], el[1]))\n"
      ],
      "metadata": {
        "colab": {
          "base_uri": "https://localhost:8080/"
        },
        "id": "gpT3-atYc6NH",
        "outputId": "332012ba-933a-4c69-a200-5a325e6805b9"
      },
      "execution_count": null,
      "outputs": [
        {
          "output_type": "stream",
          "name": "stdout",
          "text": [
            "5\n",
            "1.8 70\n",
            "1.75 70\n",
            "1.8 69.5\n",
            "1.5 65.333\n",
            "1.91 65.333\n",
            "1.91 65.333\n",
            "1.50 65.333\n",
            "1.80 69.500\n",
            "1.80 70.000\n",
            "1.75 70.000\n"
          ]
        }
      ]
    },
    {
      "cell_type": "markdown",
      "source": [
        "## Словарь для блондинки\n",
        "Блондинка Даша любит решать кроссворды на латинском языке, пользуясь орфографическим словарем. Часто Даша отгадывает последние буквы слова и долго ищет каким словам подходит такая концовка. Она мечтает о словаре, где бы слова были разбиты на главы по количеству букв в слове и написаны задом наперед. Помогите ей составить такой словарь по заданному орфографическому словарю латинском языка.\n",
        "\n",
        "Формат входных данных\n",
        "В первой строке содержится единственное целое число N (1≤N≤100) — количество латинских слов в словаре. Далее следует N слов по одному слову на строку. Все слова состоят только из маленьких латинских букв. Общее количество слов на входе не превышает 100. Длина каждого слова не превосходит 15 символов.\n",
        "\n",
        "Формат результата\n",
        "Длина слов в данном блоке. На следующих строках слова задом наперед и исходное слово через пробел в лексикографическом порядке."
      ],
      "metadata": {
        "id": "nEsp4GqVuIer"
      }
    },
    {
      "cell_type": "code",
      "source": [
        "def invert_word(word:str):\n",
        "  result = ''\n",
        "  for i in range(len(word)):\n",
        "    result += word[-i-1]\n",
        "  return result\n",
        "\n",
        "\n",
        "def sort_words(low):\n",
        "  \"\"\" Параметр low - list_of_words \"\"\"\n",
        "  n = len(list_of_words)\n",
        "  for i in range(1, n):\n",
        "    k = i\n",
        "    while k > 0 and (low[k][2] < low[k-1][2]\\\n",
        "    or (low[k][2] == low[k-1][2] and low[k][0] < low[k-1][0])): \n",
        "      low[k], low[k-1] = low[k-1], low[k]\n",
        "      k -= 1\n",
        "  return low\n",
        "\n",
        "def list_of_words(words):\n",
        "  n = len(words)\n",
        "  result = [[invert_word(x), x, len(x)] for x in words]\n",
        "  return result\n",
        "\n",
        "\n",
        "n = int(input())\n",
        "words = [None] * n\n",
        "for i in range(n):\n",
        "  words[i] = input()\n",
        "list_of_words = list_of_words(words)\n",
        "sorted_list_of_words = sort_words(list_of_words)\n",
        "i = 0\n",
        "length = sorted_list_of_words[0][2]\n",
        "print(length)\n",
        "while i < n:\n",
        "  if sorted_list_of_words[i][2] != length:\n",
        "    length = sorted_list_of_words[i][2]\n",
        "    print(length)\n",
        "  print(sorted_list_of_words[i][0], sorted_list_of_words[i][1])\n",
        "  i += 1\n"
      ],
      "metadata": {
        "colab": {
          "base_uri": "https://localhost:8080/"
        },
        "id": "RJoAUKz83t-C",
        "outputId": "1113d16c-1a89-4497-9eab-0913c118a80b"
      },
      "execution_count": null,
      "outputs": [
        {
          "output_type": "stream",
          "name": "stdout",
          "text": [
            "3\n",
            "eucharis\n",
            "fittonia\n",
            "tagetes\n",
            "7\n",
            "setegat tagetes\n",
            "8\n",
            "ainottif fittonia\n",
            "sirahcue eucharis\n"
          ]
        }
      ]
    },
    {
      "cell_type": "markdown",
      "source": [
        "# Практика 10. \n",
        "Далее вставим данные из другого блокнота"
      ],
      "metadata": {
        "id": "2yrUoCQNaNoM"
      }
    },
    {
      "cell_type": "markdown",
      "metadata": {
        "id": "jsYRloJJmaSW"
      },
      "source": [
        "## Вступление\n",
        "\n",
        "Эта работа посвящена рассмотрению понятия асимптотической сложности алгоритмов на конкретных примерах. Грубо говоря, асимптотическая сложность алгоритма — это количество операций, из которых этот алгоритм состоит. В ходе работы вы напишете несколько различных алгоритмов, которые в силу различной вычислительной сложности будут выполняться за разное количество времени.\n",
        "\n",
        "\n",
        "## Начало работы\n",
        "\n",
        "Эта работа выполняется при помощи **Jupyter Notebook** — интерактивной «тетрадки», которая позволяет хранить текст, код, графики и т.д.\n",
        "\n",
        "Первым делом подключим необходимые нам модули:"
      ]
    },
    {
      "cell_type": "code",
      "source": [
        "# Скачиваем необходимый по заданию файл\n",
        "!wget -O util.py \"https://raw.githubusercontent.com/Heymdale/Python-practices/main/util.py\"\n",
        "# Проверяем его на наличие вирусов, комментируем если проверили \n",
        "# и доверяем моему аккаунту на github'е (чего делать не рекомендуется, так как \n",
        "# взломать могут любого)\n",
        "# !cat util.py"
      ],
      "metadata": {
        "colab": {
          "base_uri": "https://localhost:8080/"
        },
        "id": "sz5fZBFHsqLo",
        "outputId": "58f132e4-f754-41a5-9b5f-697300c7e6c7"
      },
      "execution_count": 12,
      "outputs": [
        {
          "output_type": "stream",
          "name": "stdout",
          "text": [
            "--2022-02-09 22:28:06--  https://raw.githubusercontent.com/Heymdale/Python-practices/main/util.py\n",
            "Resolving raw.githubusercontent.com (raw.githubusercontent.com)... 185.199.111.133, 185.199.108.133, 185.199.110.133, ...\n",
            "Connecting to raw.githubusercontent.com (raw.githubusercontent.com)|185.199.111.133|:443... connected.\n",
            "HTTP request sent, awaiting response... 200 OK\n",
            "Length: 3481 (3.4K) [text/plain]\n",
            "Saving to: ‘util.py’\n",
            "\n",
            "util.py             100%[===================>]   3.40K  --.-KB/s    in 0s      \n",
            "\n",
            "2022-02-09 22:28:07 (50.8 MB/s) - ‘util.py’ saved [3481/3481]\n",
            "\n"
          ]
        }
      ]
    },
    {
      "cell_type": "code",
      "execution_count": 13,
      "metadata": {
        "collapsed": true,
        "id": "84LcCs1omaSY"
      },
      "outputs": [],
      "source": [
        "import util\n",
        "import matplotlib\n",
        "import random\n",
        "import math\n",
        "%matplotlib inline"
      ]
    },
    {
      "cell_type": "markdown",
      "metadata": {
        "id": "9v7ILxzwmaSZ"
      },
      "source": [
        "Мы не будем детально останавливаться на том, за что именно отвечают эти модули, поскольку к самой работе это имеет весьма опосредованное отношение.\n",
        "\n",
        "## Задача «для разогрева»\n",
        "\n",
        "### Задание №1: числа Фибоначчи\n",
        "\n",
        "Напишите рекурсивную реализацию функции, вычисляющей числа Фибоначчи. Для этого допишите тело функции ниже:"
      ]
    },
    {
      "cell_type": "code",
      "execution_count": null,
      "metadata": {
        "collapsed": true,
        "id": "aJAqqREgmaSa"
      },
      "outputs": [],
      "source": [
        "def recursive_fib(n):\n",
        "    if n == 0:\n",
        "      return 0\n",
        "    elif n == 1:\n",
        "      return 1\n",
        "    return recursive_fib(n-1) + recursive_fib(n-2)"
      ]
    },
    {
      "cell_type": "markdown",
      "metadata": {
        "id": "xTBUXcNpmaSa"
      },
      "source": [
        "Проверьте, что функция работает корректно:"
      ]
    },
    {
      "cell_type": "code",
      "execution_count": null,
      "metadata": {
        "collapsed": true,
        "id": "CUlTD1NhmaSb"
      },
      "outputs": [],
      "source": [
        "assert recursive_fib(0) == 0\n",
        "assert recursive_fib(1) == 1\n",
        "assert recursive_fib(9) == 34"
      ]
    },
    {
      "cell_type": "markdown",
      "metadata": {
        "id": "WW2TK5CsmaSb"
      },
      "source": [
        "Теперь напишите рекурсивную реализацию, но с использованием дополнительного массива в роли кэша, в котором хранятся уже вычисленные значения:"
      ]
    },
    {
      "cell_type": "code",
      "execution_count": null,
      "metadata": {
        "collapsed": true,
        "id": "bDP-RNkvmaSb"
      },
      "outputs": [],
      "source": [
        "# Создаём проблему и пытаемся её преодолеть.\n",
        "# Везде кэширование идёт через словарь, пытаемся сделать через список\n",
        "# Но судя по всему что-то такое и планировалось в задании\n",
        "\n",
        "def recursive_fib_with_cache(n, cache=None):\n",
        "  if cache is None:\n",
        "    cache = [0, 1] + [None]*(n-1)\n",
        "  if n == 0:\n",
        "    return 0\n",
        "  if cache[n]:\n",
        "    return cache[n]\n",
        "  elif not cache[n]:\n",
        "    cache[n] = recursive_fib_with_cache(n-2, cache) \\\n",
        "    + recursive_fib_with_cache(n-1, cache)\n",
        "    return cache[n]"
      ]
    },
    {
      "cell_type": "markdown",
      "metadata": {
        "id": "Wa36w33TmaSc"
      },
      "source": [
        "Убедитесь, что функция работает корректно:"
      ]
    },
    {
      "cell_type": "code",
      "execution_count": null,
      "metadata": {
        "collapsed": true,
        "id": "2PJrJ13pmaSc"
      },
      "outputs": [],
      "source": [
        "assert recursive_fib_with_cache(0) == 0\n",
        "assert recursive_fib_with_cache(1) == 1\n",
        "assert recursive_fib_with_cache(9) == 34"
      ]
    },
    {
      "cell_type": "markdown",
      "metadata": {
        "id": "H5rpvsM7maSc"
      },
      "source": [
        "И, наконец, напишите нерекурсивную реализацию функции:"
      ]
    },
    {
      "cell_type": "code",
      "execution_count": null,
      "metadata": {
        "collapsed": true,
        "id": "obK8fRuXmaSd"
      },
      "outputs": [],
      "source": [
        "def fib(n):\n",
        "    if n == 0:\n",
        "      return 0\n",
        "    elif n == 1:\n",
        "      return 1\n",
        "    fib = [0, 1]\n",
        "    for i in range(2, n+1):\n",
        "      # fib.append(fib[i-1] + fib[i-2]) # Требует On памяти\n",
        "      fib[0], fib[1] = fib[1], fib[0]+fib[1] # Требует  O1 памяти\n",
        "    return fib[1]\n",
        "\n"
      ]
    },
    {
      "cell_type": "markdown",
      "metadata": {
        "id": "XBHeGRGQmaSd"
      },
      "source": [
        "Проверьте правильность реализации:"
      ]
    },
    {
      "cell_type": "code",
      "execution_count": null,
      "metadata": {
        "collapsed": true,
        "id": "KOWvlo9cmaSd"
      },
      "outputs": [],
      "source": [
        "assert fib(0) == 0\n",
        "assert fib(1) == 1\n",
        "assert fib(9) == 34"
      ]
    },
    {
      "cell_type": "markdown",
      "metadata": {
        "id": "XFqYJjfbmaSe"
      },
      "source": [
        "А теперь давайте посмотрим на скорость работы написанных выше функций:"
      ]
    },
    {
      "cell_type": "code",
      "execution_count": null,
      "metadata": {
        "id": "xFnBnv1xmaSe",
        "colab": {
          "base_uri": "https://localhost:8080/",
          "height": 297
        },
        "outputId": "a43d18b7-a92a-49ce-fd4a-4c03b0609de6"
      },
      "outputs": [
        {
          "output_type": "display_data",
          "data": {
            "image/png": "[encoded data removed]",
            "text/plain": [
              "<Figure size 432x288 with 1 Axes>"
            ]
          },
          "metadata": {
            "needs_background": "light"
          }
        }
      ],
      "source": [
        "# При повторных запусках, вычисление 13ого числа фибоначи в рекурсивной\n",
        "# реализации может оказаться медленнее (>0.0004с) вычисления 14ого числа\n",
        "# (~0.00035с)\n",
        "util.plot_fib_results(\n",
        "    ('Рекурсивная реализация', recursive_fib),\n",
        "    ('Рекурсивная реализация с кэшем', recursive_fib_with_cache),\n",
        "    ('Реализация при помощи цикла', fib)\n",
        ")"
      ]
    },
    {
      "cell_type": "markdown",
      "metadata": {
        "id": "GqQHlnbQmaSe"
      },
      "source": [
        "Можно видеть, что самой быстрой является реализация при помощи цикла.\n",
        "**Вопрос**: какова асимптотическая сложность реализованных алгоритмов?\n",
        "\n",
        "## Сортировки\n",
        "\n",
        "Здесь и далее мы предполагаем, что все функции сортировки упорядочивают исходный массив по возрастания. Функции сортировки в этой работе должны изменять переданный массив, а не возвращать новый.\n",
        "\n",
        "### Задание №2: сортировка пузырьком\n",
        "\n",
        "Напишите обычную реализацию сортировки пузырьком:"
      ]
    },
    {
      "cell_type": "code",
      "execution_count": 39,
      "metadata": {
        "collapsed": true,
        "id": "7GJqoqEGmaSf"
      },
      "outputs": [],
      "source": [
        "def bubble_sort(a):\n",
        "  n = len(a)\n",
        "  for j in range(1, n):\n",
        "    # Самая простая реализация с проверкой заведомо отсортированных значений\n",
        "    for i in range(0, n-1):  \n",
        "      if a[i] > a[i+1]:\n",
        "        a[i], a[i+1] = a[i+1], a[i]"
      ]
    },
    {
      "cell_type": "markdown",
      "metadata": {
        "id": "RLdHIIiJmaSf"
      },
      "source": [
        "Убедитесь, что сортировка написана верно:"
      ]
    },
    {
      "cell_type": "code",
      "execution_count": 40,
      "metadata": {
        "collapsed": true,
        "id": "H1l2K5rpmaSf"
      },
      "outputs": [],
      "source": [
        "a = [5, 4, 3, 2, 1]\n",
        "bubble_sort(a)\n",
        "assert util.is_sorted(a)"
      ]
    },
    {
      "cell_type": "markdown",
      "source": [
        "Дополним версией без проверки отсортированных на предыдущих итерациях значений"
      ],
      "metadata": {
        "id": "0kOS_dl-fl6h"
      }
    },
    {
      "cell_type": "code",
      "source": [
        "def bubble_sort_bound(a):\n",
        "  n = len(a)\n",
        "  for j in range(1, n):\n",
        "    for i in range(0, n-j):  \n",
        "      if a[i] > a[i+1]:\n",
        "        a[i], a[i+1] = a[i+1], a[i]"
      ],
      "metadata": {
        "id": "ABjTqZW_fXI7"
      },
      "execution_count": 41,
      "outputs": []
    },
    {
      "cell_type": "markdown",
      "source": [
        "Проверим, что модуль util.py работает с моими самописными функциями"
      ],
      "metadata": {
        "id": "ZXk_dqqqf_hB"
      }
    },
    {
      "cell_type": "code",
      "source": [
        "a = [5, 4, 3, 2, 1]\n",
        "bubble_sort_bound(a)\n",
        "assert util.is_sorted(a)"
      ],
      "metadata": {
        "id": "CG52LNbxgPEg"
      },
      "execution_count": 42,
      "outputs": []
    },
    {
      "cell_type": "markdown",
      "metadata": {
        "id": "2kMVGUKrmaSg"
      },
      "source": [
        "Особенность обычной реализации пузырьковой сортировки состоит в том, что она «не замечает» отсортированности массива. Это означает, что даже если массив уже отсортирован, алгоритм всё равно будет выполнен от начала и до конца. Чтобы этого избежать, можно добавить специальный флаг, показывающий, была ли за прошлый проход выполнена хоть одна перестановка. Если перестановок не было, значит, массив уже отстортирован. Напишите улучшенную реализацию сортировки пузырьком:"
      ]
    },
    {
      "cell_type": "code",
      "execution_count": 43,
      "metadata": {
        "collapsed": true,
        "id": "uHvLDRI6maSg"
      },
      "outputs": [],
      "source": [
        "def bubble_sort_adaptive(a):\n",
        "  n = len(a)\n",
        "  for j in range(1, n):\n",
        "    flag = 0\n",
        "    for i in range(0, n-j):\n",
        "      if a[i] > a[i+1]:\n",
        "        flag += 1\n",
        "        a[i], a[i+1] = a[i+1], a[i]\n",
        "    if flag == 0:\n",
        "      break"
      ]
    },
    {
      "cell_type": "markdown",
      "metadata": {
        "id": "CPCCAqWOmaSg"
      },
      "source": [
        "Проверьте свою реализацию:"
      ]
    },
    {
      "cell_type": "code",
      "execution_count": 44,
      "metadata": {
        "collapsed": true,
        "id": "1gdrhItCmaSh"
      },
      "outputs": [],
      "source": [
        "a = [5, 4, 3, 2, 1]\n",
        "bubble_sort(a)\n",
        "assert util.is_sorted(a)"
      ]
    },
    {
      "cell_type": "markdown",
      "metadata": {
        "id": "Ew3IruWWmaSh"
      },
      "source": [
        "А теперь сравните скорость работы двух реализаций одного алгоритма при различных входных данных:"
      ]
    },
    {
      "cell_type": "code",
      "execution_count": null,
      "metadata": {
        "id": "1oRTrCTkmaSh",
        "colab": {
          "base_uri": "https://localhost:8080/",
          "height": 857
        },
        "outputId": "e5047f24-e200-4ea6-e8f8-3fdd85c4f245"
      },
      "outputs": [
        {
          "output_type": "display_data",
          "data": {
            "image/png": "[encoded data removed]",
            "text/plain": [
              "<Figure size 432x288 with 1 Axes>"
            ]
          },
          "metadata": {
            "needs_background": "light"
          }
        },
        {
          "output_type": "display_data",
          "data": {
            "image/png": "[encoded data removed]",
            "text/plain": [
              "<Figure size 432x288 with 1 Axes>"
            ]
          },
          "metadata": {
            "needs_background": "light"
          }
        },
        {
          "output_type": "display_data",
          "data": {
            "image/png": "[encoded data removed]",
            "text/plain": [
              "<Figure size 432x288 with 1 Axes>"
            ]
          },
          "metadata": {
            "needs_background": "light"
          }
        }
      ],
      "source": [
        "util.plot_bubble_sort_results(\n",
        "    ('Обычная реализация', bubble_sort),\n",
        "    ('Обычная реализация с ограничением', bubble_sort_bound),\n",
        "    ('Реализация с проверкой на отсортированность', bubble_sort_adaptive)\n",
        "\n",
        ")"
      ]
    },
    {
      "cell_type": "markdown",
      "source": [
        "**Вопрос**: какие выводы можно сделать из полученных результатов?\n",
        "**Ответ**: проверка на отсортированность может значительно увеличить производительность алгоритма, при этом даже на отсортированном в обратном порядке массиве имеет небольшой штраф в скорости работы."
      ],
      "metadata": {
        "id": "_ePMBkx4iMaK"
      }
    },
    {
      "cell_type": "markdown",
      "metadata": {
        "id": "55LlTghpmaSi"
      },
      "source": [
        "### Задание №3: быстрая сортировка\n",
        "\n",
        "Напишите реализацию быстрой сортировки, использую первый элемент в качестве опорного."
      ]
    },
    {
      "cell_type": "code",
      "execution_count": 45,
      "metadata": {
        "collapsed": true,
        "id": "GtsjZXx6maSi"
      },
      "outputs": [],
      "source": [
        "def quick_sort_first(a):\n",
        "  if len(a) <=1:\n",
        "    return\n",
        "  barrier = a[0]\n",
        "  l=[]\n",
        "  m=[barrier]\n",
        "  r=[]\n",
        "  n = len(a)\n",
        "  for i in range(1, n):\n",
        "    if a[i] < barrier:\n",
        "      l.append(a[i])\n",
        "    elif a[i] == barrier:\n",
        "      m.append(a[i])\n",
        "    else:\n",
        "      r.append(a[i])\n",
        "  quick_sort_first(l)\n",
        "  quick_sort_first(r)\n",
        "  k = 0\n",
        "  for x in l+m+r:\n",
        "    a[k] = x\n",
        "    k += 1\n",
        "  # a = [x for x in l+m+r] # с такой реализацией не работает\n",
        "  # print(a)\n",
        "  # Вывод:                Вместо:\n",
        "  # [1, 2]                [1, 2]\n",
        "  # [2, 1, 3]             [1, 2, 3]\n",
        "  # [3, 2, 1, 4]          [1, 2, 3, 4]\n",
        "  # [4, 3, 2, 1, 5]       [1, 2, 3, 4, 5]\n"
      ]
    },
    {
      "cell_type": "markdown",
      "metadata": {
        "id": "u1zXDg_qmaSi"
      },
      "source": [
        "Проверьте свою реализацию:"
      ]
    },
    {
      "cell_type": "code",
      "execution_count": 46,
      "metadata": {
        "collapsed": true,
        "id": "EITs6marmaSi"
      },
      "outputs": [],
      "source": [
        "a = [5, 4, 3, 2, 1]\n",
        "quick_sort_first(a)\n",
        "assert util.is_sorted(a)"
      ]
    },
    {
      "cell_type": "markdown",
      "metadata": {
        "id": "87HxZcg8maSj"
      },
      "source": [
        "Как вы знаете, скорость работы алгоритма быстрой сортировки напрямую зависит от способа выбора опорного элемента. Поэтому реализуем ещё два варианта. Сначала будем выбирать в качестве опорного элемента средний:"
      ]
    },
    {
      "cell_type": "code",
      "execution_count": 47,
      "metadata": {
        "collapsed": true,
        "id": "lMIPWOjgmaSj"
      },
      "outputs": [],
      "source": [
        "def quick_sort_middle(a):\n",
        "  if len(a) <=1:\n",
        "    return\n",
        "  n = len(a)\n",
        "  barrier = a[n//2]\n",
        "  l=[]\n",
        "  m=[]\n",
        "  r=[]\n",
        "  for i in range(0, n):\n",
        "    if a[i] < barrier:\n",
        "      l.append(a[i])\n",
        "    elif a[i] == barrier:\n",
        "      m.append(a[i])\n",
        "    else:\n",
        "      r.append(a[i])\n",
        "  quick_sort_first(l)\n",
        "  quick_sort_first(r)\n",
        "  k = 0\n",
        "  for x in l+m+r:\n",
        "    a[k] = x\n",
        "    k += 1\n"
      ]
    },
    {
      "cell_type": "markdown",
      "metadata": {
        "id": "WUVHlQQSmaSj"
      },
      "source": [
        "Проверяем реализацию:"
      ]
    },
    {
      "cell_type": "code",
      "execution_count": 48,
      "metadata": {
        "collapsed": true,
        "id": "sEGCXg3hmaSj"
      },
      "outputs": [],
      "source": [
        "a = [5, 4, 3, 2, 1]\n",
        "quick_sort_middle(a)\n",
        "assert util.is_sorted(a)"
      ]
    },
    {
      "cell_type": "markdown",
      "metadata": {
        "id": "LgBscrGOmaSj"
      },
      "source": [
        "А теперь в качестве опорного элемента выбираем произвольный элемент (при помощи вызова `random.choice(a)`):"
      ]
    },
    {
      "cell_type": "code",
      "execution_count": 49,
      "metadata": {
        "collapsed": true,
        "id": "iSa9PwqXmaSk"
      },
      "outputs": [],
      "source": [
        "def quick_sort_random(a):\n",
        "  if len(a) <=1:\n",
        "    return\n",
        "  barrier = random.choice(a)\n",
        "  l=[]\n",
        "  m=[]\n",
        "  r=[]\n",
        "  n = len(a)\n",
        "  for i in range(0, n):\n",
        "    if a[i] < barrier:\n",
        "      l.append(a[i])\n",
        "    elif a[i] == barrier:\n",
        "      m.append(a[i])\n",
        "    else:\n",
        "      r.append(a[i])\n",
        "  quick_sort_first(l)\n",
        "  quick_sort_first(r)\n",
        "  k = 0\n",
        "  for x in l+m+r:\n",
        "    a[k] = x\n",
        "    k += 1\n",
        "    "
      ]
    },
    {
      "cell_type": "markdown",
      "metadata": {
        "id": "pkUZBXHmmaSk"
      },
      "source": [
        "Проверяем реализацию:"
      ]
    },
    {
      "cell_type": "code",
      "execution_count": 50,
      "metadata": {
        "collapsed": true,
        "id": "nOieCfWPmaSk"
      },
      "outputs": [],
      "source": [
        "a = [5, 4, 3, 2, 1]\n",
        "quick_sort_random(a)\n",
        "assert util.is_sorted(a)"
      ]
    },
    {
      "cell_type": "markdown",
      "metadata": {
        "id": "Kdpdq0J_maSk"
      },
      "source": [
        "Сравним скорости работы трёх реализаций на различных входных данных:"
      ]
    },
    {
      "cell_type": "code",
      "execution_count": null,
      "metadata": {
        "id": "SP20v4igmaSl",
        "colab": {
          "base_uri": "https://localhost:8080/",
          "height": 1000
        },
        "outputId": "d7d8bcbe-023c-40e0-ff4b-f3c14d4055bb"
      },
      "outputs": [
        {
          "output_type": "display_data",
          "data": {
            "image/png": "[encoded data removed]",
            "text/plain": [
              "<Figure size 432x288 with 1 Axes>"
            ]
          },
          "metadata": {
            "needs_background": "light"
          }
        },
        {
          "output_type": "display_data",
          "data": {
            "image/png": "[encoded data removed]",
            "text/plain": [
              "<Figure size 432x288 with 1 Axes>"
            ]
          },
          "metadata": {
            "needs_background": "light"
          }
        },
        {
          "output_type": "display_data",
          "data": {
            "image/png": "[encoded data removed]",
            "text/plain": [
              "<Figure size 432x288 with 1 Axes>"
            ]
          },
          "metadata": {
            "needs_background": "light"
          }
        },
        {
          "output_type": "display_data",
          "data": {
            "image/png": "[encoded data removed]",
            "text/plain": [
              "<Figure size 432x288 with 1 Axes>"
            ]
          },
          "metadata": {
            "needs_background": "light"
          }
        }
      ],
      "source": [
        "util.plot_quick_sort_results(\n",
        "    ('Первый элемент в качестве опорного', quick_sort_first),\n",
        "    ('Средний элемент в качестве опорного', quick_sort_middle),\n",
        "    ('Произвольный элемент в качестве опорного', quick_sort_random)\n",
        ")"
      ]
    },
    {
      "cell_type": "markdown",
      "metadata": {
        "id": "pf9x7m_zmaSl"
      },
      "source": [
        "**Вопрос**: какую асимптотическую сложность имеют эти реализации на разных входных данных? Чем это объясняется?\n",
        "\n",
        "**Ответ**: В основном все имеют O(nlogn) сложность лишь в отсортированном в обратном порядке массиве сложность алгоритма с первым элементом в качестве барьера сложность O(n^2) - худший результат для данного алгоритма. Зато на неотсортированном массиве все три варианта показывают O(n) сложность.\n",
        "\n",
        "### Задание №4: сортировка слиянием\n",
        "\n",
        "Напишите реализацию сортировки слиянием:"
      ]
    },
    {
      "cell_type": "code",
      "execution_count": 51,
      "metadata": {
        "collapsed": true,
        "id": "4a6xB1hnmaSl"
      },
      "outputs": [],
      "source": [
        "def merge(a, b):\n",
        "    c = [None]*(len(a+b))\n",
        "    i = j = k = 0\n",
        "    while i < len(a) and j < len(b):\n",
        "      if a[i] <= b[j]:\n",
        "        c[k] = a[i]\n",
        "        i += 1\n",
        "      else:\n",
        "        c[k] = b[j]\n",
        "        j += 1\n",
        "      k += 1\n",
        "    # Один из переданных массивов еще не закончили переставлять\n",
        "    while i < len(a):\n",
        "      c[k] = a[i]\n",
        "      i += 1\n",
        "      k += 1\n",
        "    while j < len(b):\n",
        "      c[k] = b[j]\n",
        "      j += 1\n",
        "      k += 1\n",
        "    return c\n",
        "\n",
        "\n",
        "def merge_sort(a):\n",
        "  length_a = len(a)\n",
        "  if length_a == 1:\n",
        "    return\n",
        "  middle_index = length_a // 2\n",
        "  left = a[:middle_index]\n",
        "  right = a[middle_index:]\n",
        "  merge_sort(left)\n",
        "  merge_sort(right)\n",
        "  c = merge(left, right)\n",
        "  # a = [c[i] for i in range(len(c))]  # В таком варианте опять же не работает,\n",
        "  # осознаем зачем нужна теория и знания о мутабльных, атомарныхб ссылочных\n",
        "  # типах данных.\n",
        "  for i in range(len(a)):\n",
        "    a[i] = c[i]\n"
      ]
    },
    {
      "cell_type": "markdown",
      "metadata": {
        "id": "2H_CNsu4maSl"
      },
      "source": [
        "Проверьте корректность реализации:"
      ]
    },
    {
      "cell_type": "code",
      "execution_count": 52,
      "metadata": {
        "id": "r6giDpSQmaSl"
      },
      "outputs": [],
      "source": [
        "a = [5, 4, 3, 2, 1]\n",
        "merge_sort(a)\n",
        "assert util.is_sorted(a)"
      ]
    },
    {
      "cell_type": "markdown",
      "metadata": {
        "id": "mPOveBFPmaSm"
      },
      "source": [
        "А теперь сравним скорость работы трёх написанных нами алгоритмов:"
      ]
    },
    {
      "cell_type": "code",
      "execution_count": 54,
      "metadata": {
        "id": "vu8FMELcmaSm",
        "outputId": "002c0cf9-1cdb-4a98-958a-9d461afd9489",
        "colab": {
          "base_uri": "https://localhost:8080/",
          "height": 1000
        }
      },
      "outputs": [
        {
          "output_type": "display_data",
          "data": {
            "image/png": "[encoded data removed]",
            "text/plain": [
              "<Figure size 432x288 with 1 Axes>"
            ]
          },
          "metadata": {
            "needs_background": "light"
          }
        },
        {
          "output_type": "display_data",
          "data": {
            "image/png": "[encoded data removed]",
            "text/plain": [
              "<Figure size 432x288 with 1 Axes>"
            ]
          },
          "metadata": {
            "needs_background": "light"
          }
        },
        {
          "output_type": "display_data",
          "data": {
            "image/png": "[encoded data removed]",
            "text/plain": [
              "<Figure size 432x288 with 1 Axes>"
            ]
          },
          "metadata": {
            "needs_background": "light"
          }
        },
        {
          "output_type": "display_data",
          "data": {
            "image/png": "[encoded data removed]",
            "text/plain": [
              "<Figure size 432x288 with 1 Axes>"
            ]
          },
          "metadata": {
            "needs_background": "light"
          }
        }
      ],
      "source": [
        "util.plot_sort_results(\n",
        "    ('Быстрая сортировка: произвольный элемент в качестве опорного', quick_sort_random),\n",
        "    ('Сортировка слиянием', merge_sort),\n",
        "    ('Сортировка пузырьком: Обычная реализация с ограничением', bubble_sort_bound),\n",
        ")\n",
        "util.plot_sort_results(\n",
        "    ('Быстрая сортировка: первый элемент в качестве опорного', quick_sort_first),\n",
        "    ('Сортировка слиянием', merge_sort),\n",
        "    ('Сортировка пузырьком: пеализация с проверкой на отсортированность', bubble_sort),\n",
        ")"
      ]
    },
    {
      "cell_type": "markdown",
      "metadata": {
        "id": "uNqnnASwmaSm"
      },
      "source": [
        "**Вопрос**: какие выводы можно сделать из полученных результатов? В чём принципиальное отличие сортировки слиянием от двух других рассмотренных?\n",
        "\n",
        "## Поиск элемента\n",
        "\n",
        "Теперь перейдём к алгоритмам поиска элемента в массиве.\n",
        "\n",
        "### Задание №5: линейный поиск\n",
        "\n",
        "Для начала напишите самую простую реализацию поиска — линейный поиск элемента в массиве:"
      ]
    },
    {
      "cell_type": "code",
      "execution_count": 57,
      "metadata": {
        "collapsed": true,
        "id": "9oCBDZsJmaSm"
      },
      "outputs": [],
      "source": [
        "def search(a, x):\n",
        "  i = 0\n",
        "  while not a[i] == x:\n",
        "    i += 1\n",
        "  return i"
      ]
    },
    {
      "cell_type": "markdown",
      "metadata": {
        "id": "JYpSB-GsmaSn"
      },
      "source": [
        "Проверьте корректность реализации:"
      ]
    },
    {
      "cell_type": "code",
      "execution_count": 58,
      "metadata": {
        "id": "XsdJyMQSmaSn"
      },
      "outputs": [],
      "source": [
        "assert search([1, 2, 3, 4, 5], 5)  == 4\n",
        "assert search([1, 2, 3, 4, 5], 3)  == 2"
      ]
    },
    {
      "cell_type": "markdown",
      "metadata": {
        "id": "hXeq37d8maSn"
      },
      "source": [
        "Когда нам ничего не известно о данных, которые находятся в массиве, придумать какой-то более эффективный алгоритм достаточно сложно. Но если мы знаем какую-то дополнительную информацию о природе данных в массиве, то можно написать более эффективные алгоритмы.\n",
        "\n",
        "### Задание №6: двоичный поиск\n",
        "\n",
        "Если массив упорядочен, то для такого массива можно написать эффективный алгоритм поиска — двоичный (или *бинарный*) поиск. Напишите реализацию этого алгоритма:"
      ]
    },
    {
      "cell_type": "code",
      "execution_count": 90,
      "metadata": {
        "id": "tOO76KoHmaSn"
      },
      "outputs": [],
      "source": [
        "# Рекурсивный бинарный поиск, сравним данную реализацию \n",
        "# с лекционной без рекурсии\n",
        "def recursive_binary_search(a, x):\n",
        "  print('array', a)\n",
        "  length_a = len(a)\n",
        "  if length_a == 1:\n",
        "    return 0\n",
        "  middle_index = length_a // 2\n",
        "  middle = a[middle_index]\n",
        "  print('len m_i m', length_a, middle_index, middle)\n",
        "  if middle > x:\n",
        "    return recursive_binary_search(a[:middle_index], x)\n",
        "  elif middle < x:\n",
        "    return recursive_binary_search(a[middle_index+1:], x) + middle_index + 1\n",
        "  else:\n",
        "    return middle_index"
      ]
    },
    {
      "cell_type": "code",
      "source": [
        "# В лекциях искали интервал вхождения искомой величины\n",
        "# Здесь будем искать единственное вхождение\n",
        "def binary_search(a, x):\n",
        "  i = len(a) // 2\n",
        "  left = 0\n",
        "  right = len(a) - 1\n",
        "  while not a[i] == x:\n",
        "    if a[i] > x:\n",
        "      right = i\n",
        "    else:\n",
        "      left = i\n",
        "    i = left + (right-left)//2\n",
        "  return i "
      ],
      "metadata": {
        "id": "dFHzNQQqAq_s"
      },
      "execution_count": 86,
      "outputs": []
    },
    {
      "cell_type": "markdown",
      "metadata": {
        "id": "TiABF5pImaSn"
      },
      "source": [
        "Проверьте корректность реализации:"
      ]
    },
    {
      "cell_type": "code",
      "execution_count": 91,
      "metadata": {
        "id": "AqmDSAynmaSo",
        "outputId": "185ee84b-1809-44de-dc70-d09c013c0d0d",
        "colab": {
          "base_uri": "https://localhost:8080/",
          "height": 793
        }
      },
      "outputs": [
        {
          "output_type": "stream",
          "name": "stdout",
          "text": [
            "array [1, 2, 3, 4, 5]\n",
            "len m_i m 5 2 3\n",
            "array [4, 5]\n",
            "len m_i m 2 1 5\n",
            "array [1, 2, 3, 4, 5, 6, 7, 8, 9, 10, 11, 12, 13]\n",
            "len m_i m 13 6 7\n",
            "array [8, 9, 10, 11, 12, 13]\n",
            "len m_i m 6 3 11\n",
            "array [12, 13]\n",
            "len m_i m 2 1 13\n",
            "array [12]\n",
            "array [1, 2, 3, 4, 5]\n",
            "len m_i m 5 2 3\n",
            "array [1, 2]\n",
            "len m_i m 2 1 2\n",
            "array [1]\n",
            "array [1, 2, 3, 4, 5, 6, 7, 8, 9, 12, 138]\n",
            "len m_i m 11 5 6\n",
            "array [7, 8, 9, 12, 138]\n",
            "len m_i m 5 2 9\n",
            "array [12, 138]\n",
            "len m_i m 2 1 138\n",
            "array [12]\n"
          ]
        },
        {
          "output_type": "error",
          "ename": "KeyboardInterrupt",
          "evalue": "ignored",
          "traceback": [
            "\u001b[0;31m---------------------------------------------------------------------------\u001b[0m",
            "\u001b[0;31mKeyboardInterrupt\u001b[0m                         Traceback (most recent call last)",
            "\u001b[0;32m<ipython-input-91-8c10798d9446>\u001b[0m in \u001b[0;36m<module>\u001b[0;34m()\u001b[0m\n\u001b[1;32m      3\u001b[0m \u001b[0;32massert\u001b[0m \u001b[0mrecursive_binary_search\u001b[0m\u001b[0;34m(\u001b[0m\u001b[0;34m[\u001b[0m\u001b[0;36m1\u001b[0m\u001b[0;34m,\u001b[0m \u001b[0;36m2\u001b[0m\u001b[0;34m,\u001b[0m \u001b[0;36m3\u001b[0m\u001b[0;34m,\u001b[0m \u001b[0;36m4\u001b[0m\u001b[0;34m,\u001b[0m \u001b[0;36m5\u001b[0m\u001b[0;34m]\u001b[0m\u001b[0;34m,\u001b[0m \u001b[0;36m1\u001b[0m\u001b[0;34m)\u001b[0m \u001b[0;34m==\u001b[0m \u001b[0;36m0\u001b[0m\u001b[0;34m\u001b[0m\u001b[0;34m\u001b[0m\u001b[0m\n\u001b[1;32m      4\u001b[0m \u001b[0;32massert\u001b[0m \u001b[0mrecursive_binary_search\u001b[0m\u001b[0;34m(\u001b[0m\u001b[0;34m[\u001b[0m\u001b[0;36m1\u001b[0m\u001b[0;34m,\u001b[0m \u001b[0;36m2\u001b[0m\u001b[0;34m,\u001b[0m \u001b[0;36m3\u001b[0m\u001b[0;34m,\u001b[0m \u001b[0;36m4\u001b[0m\u001b[0;34m,\u001b[0m \u001b[0;36m5\u001b[0m\u001b[0;34m,\u001b[0m \u001b[0;36m6\u001b[0m\u001b[0;34m,\u001b[0m \u001b[0;36m7\u001b[0m\u001b[0;34m,\u001b[0m \u001b[0;36m8\u001b[0m\u001b[0;34m,\u001b[0m \u001b[0;36m9\u001b[0m\u001b[0;34m,\u001b[0m \u001b[0;36m12\u001b[0m\u001b[0;34m,\u001b[0m \u001b[0;36m138\u001b[0m\u001b[0;34m]\u001b[0m\u001b[0;34m,\u001b[0m                           \u001b[0;36m12\u001b[0m\u001b[0;34m)\u001b[0m \u001b[0;34m==\u001b[0m \u001b[0;36m9\u001b[0m\u001b[0;34m\u001b[0m\u001b[0;34m\u001b[0m\u001b[0m\n\u001b[0;32m----> 5\u001b[0;31m \u001b[0;32massert\u001b[0m \u001b[0mbinary_search\u001b[0m\u001b[0;34m(\u001b[0m\u001b[0;34m[\u001b[0m\u001b[0;36m1\u001b[0m\u001b[0;34m,\u001b[0m \u001b[0;36m2\u001b[0m\u001b[0;34m,\u001b[0m \u001b[0;36m3\u001b[0m\u001b[0;34m,\u001b[0m \u001b[0;36m4\u001b[0m\u001b[0;34m,\u001b[0m \u001b[0;36m5\u001b[0m\u001b[0;34m]\u001b[0m\u001b[0;34m,\u001b[0m \u001b[0;36m5\u001b[0m\u001b[0;34m)\u001b[0m  \u001b[0;34m==\u001b[0m \u001b[0;36m4\u001b[0m\u001b[0;34m\u001b[0m\u001b[0;34m\u001b[0m\u001b[0m\n\u001b[0m\u001b[1;32m      6\u001b[0m \u001b[0;32massert\u001b[0m \u001b[0mbinary_search\u001b[0m\u001b[0;34m(\u001b[0m\u001b[0;34m[\u001b[0m\u001b[0;36m1\u001b[0m\u001b[0;34m,\u001b[0m \u001b[0;36m2\u001b[0m\u001b[0;34m,\u001b[0m \u001b[0;36m3\u001b[0m\u001b[0;34m,\u001b[0m \u001b[0;36m4\u001b[0m\u001b[0;34m,\u001b[0m \u001b[0;36m5\u001b[0m\u001b[0;34m]\u001b[0m\u001b[0;34m,\u001b[0m \u001b[0;36m3\u001b[0m\u001b[0;34m)\u001b[0m  \u001b[0;34m==\u001b[0m \u001b[0;36m2\u001b[0m\u001b[0;34m\u001b[0m\u001b[0;34m\u001b[0m\u001b[0m\n\u001b[1;32m      7\u001b[0m \u001b[0;32massert\u001b[0m \u001b[0mbinary_search\u001b[0m\u001b[0;34m(\u001b[0m\u001b[0;34m[\u001b[0m\u001b[0;36m1\u001b[0m\u001b[0;34m,\u001b[0m \u001b[0;36m2\u001b[0m\u001b[0;34m,\u001b[0m \u001b[0;36m3\u001b[0m\u001b[0;34m,\u001b[0m \u001b[0;36m4\u001b[0m\u001b[0;34m,\u001b[0m \u001b[0;36m5\u001b[0m\u001b[0;34m]\u001b[0m\u001b[0;34m,\u001b[0m \u001b[0;36m1\u001b[0m\u001b[0;34m)\u001b[0m  \u001b[0;34m==\u001b[0m \u001b[0;36m0\u001b[0m\u001b[0;34m\u001b[0m\u001b[0;34m\u001b[0m\u001b[0m\n",
            "\u001b[0;32m<ipython-input-86-642c4e41b17d>\u001b[0m in \u001b[0;36mbinary_search\u001b[0;34m(a, x)\u001b[0m\n\u001b[1;32m      5\u001b[0m   \u001b[0mleft\u001b[0m \u001b[0;34m=\u001b[0m \u001b[0;36m0\u001b[0m\u001b[0;34m\u001b[0m\u001b[0;34m\u001b[0m\u001b[0m\n\u001b[1;32m      6\u001b[0m   \u001b[0mright\u001b[0m \u001b[0;34m=\u001b[0m \u001b[0mlen\u001b[0m\u001b[0;34m(\u001b[0m\u001b[0ma\u001b[0m\u001b[0;34m)\u001b[0m \u001b[0;34m-\u001b[0m \u001b[0;36m1\u001b[0m\u001b[0;34m\u001b[0m\u001b[0;34m\u001b[0m\u001b[0m\n\u001b[0;32m----> 7\u001b[0;31m   \u001b[0;32mwhile\u001b[0m \u001b[0;32mnot\u001b[0m \u001b[0ma\u001b[0m\u001b[0;34m[\u001b[0m\u001b[0mi\u001b[0m\u001b[0;34m]\u001b[0m \u001b[0;34m==\u001b[0m \u001b[0mx\u001b[0m\u001b[0;34m:\u001b[0m\u001b[0;34m\u001b[0m\u001b[0;34m\u001b[0m\u001b[0m\n\u001b[0m\u001b[1;32m      8\u001b[0m     \u001b[0;32mif\u001b[0m \u001b[0ma\u001b[0m\u001b[0;34m[\u001b[0m\u001b[0mi\u001b[0m\u001b[0;34m]\u001b[0m \u001b[0;34m>\u001b[0m \u001b[0mx\u001b[0m\u001b[0;34m:\u001b[0m\u001b[0;34m\u001b[0m\u001b[0;34m\u001b[0m\u001b[0m\n\u001b[1;32m      9\u001b[0m       \u001b[0mright\u001b[0m \u001b[0;34m=\u001b[0m \u001b[0mi\u001b[0m\u001b[0;34m\u001b[0m\u001b[0;34m\u001b[0m\u001b[0m\n",
            "\u001b[0;31mKeyboardInterrupt\u001b[0m: "
          ]
        }
      ],
      "source": [
        "assert recursive_binary_search([1, 2, 3, 4, 5], 5) == 4\n",
        "assert recursive_binary_search([1, 2, 3, 4, 5, 6, 7, 8, 9, 10, 11, 12, 13],\\\n",
        "                               12) == 11\n",
        "assert recursive_binary_search([1, 2, 3, 4, 5], 1) == 0\n",
        "assert recursive_binary_search([1, 2, 3, 4, 5, 6, 7, 8, 9, 12, 138],\\\n",
        "                           12) == 9\n",
        "assert binary_search([1, 2, 3, 4, 5], 5)  == 4\n",
        "assert binary_search([1, 2, 3, 4, 5], 3)  == 2\n",
        "assert binary_search([1, 2, 3, 4, 5], 1)  == 0\n",
        "assert binary_search([1, 2, 3, 4, 5, 6, 7, 8, 9, 12, 138],\\\n",
        "                           12) == 9"
      ]
    },
    {
      "cell_type": "markdown",
      "metadata": {
        "id": "qHCKA2ucmaSo"
      },
      "source": [
        "### Задание №7: интерполяционный поиск\n",
        "\n",
        "Если кроме упорядоченности про массив известно, как именно возрастают (убывают) в нём элементы, то алгоритм двоичного поиска можно существенно улучшить. Вместо деления отрезка пополам можно выполнить интерполяцию и получить приблизительное положение элемента в массиве. Такая модификация будет называться *интерполяционным поиском*. Напишите реализацию алгоритма интерполяционного поиска, предполагая, что элементы в массиве возрастают линейно:"
      ]
    },
    {
      "cell_type": "code",
      "execution_count": 76,
      "metadata": {
        "collapsed": true,
        "id": "P6mgZFAJmaSo"
      },
      "outputs": [],
      "source": [
        "# В лекциях такого не помню, попробуем создать по описанию\n",
        "def interpolation_search(a, x):\n",
        "  i = x * (len(a)-1) // a[-1]\n",
        "  print(i)\n",
        "  left = 0\n",
        "  right = len(a) - 1\n",
        "  while not a[i] == x:\n",
        "    delta = x * (right-left) // a[right]\n",
        "    if delta == 0:\n",
        "      delta = 1\n",
        "    if a[i] > x:\n",
        "      right = i\n",
        "    else:\n",
        "      left = i  \n",
        "    i = left + delta\n",
        "  return i "
      ]
    },
    {
      "cell_type": "markdown",
      "metadata": {
        "id": "irl9ilsRmaSo"
      },
      "source": [
        "Проверьте свою реализацию:"
      ]
    },
    {
      "cell_type": "code",
      "execution_count": 77,
      "metadata": {
        "id": "UuBmpcZ0maSp",
        "outputId": "3a878af8-9d5e-426c-f5d3-87e8ac2b4d99",
        "colab": {
          "base_uri": "https://localhost:8080/"
        }
      },
      "outputs": [
        {
          "output_type": "stream",
          "name": "stdout",
          "text": [
            "0\n",
            "right= 10\n",
            "a[i]= 1\n",
            "right= 10\n",
            "a[i]= 2\n",
            "right= 10\n",
            "a[i]= 3\n",
            "right= 10\n",
            "a[i]= 4\n",
            "right= 10\n",
            "a[i]= 5\n",
            "right= 10\n",
            "a[i]= 6\n",
            "right= 10\n",
            "a[i]= 7\n",
            "right= 10\n",
            "a[i]= 8\n",
            "right= 10\n",
            "a[i]= 9\n",
            "4\n",
            "2\n",
            "0\n"
          ]
        }
      ],
      "source": [
        "assert interpolation_search([1, 2, 3, 4, 5, 6, 7, 8, 9, 12, 138],\\\n",
        "                           12) == 9\n",
        "assert interpolation_search([1, 2, 3, 4, 5], 5)  == 4\n",
        "assert interpolation_search([1, 2, 3, 4, 5], 3)  == 2\n",
        "assert interpolation_search([1, 2, 3, 4, 5], 1)  == 0"
      ]
    },
    {
      "cell_type": "markdown",
      "metadata": {
        "id": "eRAOiwh_maSp"
      },
      "source": [
        "Сравните скорость работы трёх алгоритмов поиска на разных входных данных:"
      ]
    },
    {
      "cell_type": "code",
      "execution_count": null,
      "metadata": {
        "id": "GEgMASYkmaSp"
      },
      "outputs": [],
      "source": [
        "util.plot_search_results_small(\n",
        "    ('Линейный поиск', search),\n",
        "    ('Бинарный поиск', binary_search),\n",
        "    ('Интерполяционный поиск', interpolation_search),\n",
        ")\n",
        "util.plot_search_results_huge(\n",
        "    ('Бинарный поиск', binary_search),\n",
        "    ('Интерполяционный поиск', interpolation_search),\n",
        ")"
      ]
    },
    {
      "cell_type": "markdown",
      "metadata": {
        "id": "sJonPsSbmaSp"
      },
      "source": [
        "**Вопрос**: что можно сказать об алгоритме интерполяционного поиска? Когда имеет смысл его применять?\n",
        "\n",
        "## Дополнительное задание\n",
        "\n",
        "Если у вас осталось время, то напишите реализацию сортировки слияением с разбиением исходного массива на 3 части. Сравните скорость работы двух реализаций."
      ]
    }
  ]
}